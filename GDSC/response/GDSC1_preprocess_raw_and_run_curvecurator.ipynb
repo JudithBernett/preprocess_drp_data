{
 "cells": [
  {
   "cell_type": "markdown",
   "id": "011d7116-2417-4019-826d-2db40e53e710",
   "metadata": {},
   "source": [
    "# Prepare raw data for curvecurator"
   ]
  },
  {
   "cell_type": "code",
   "execution_count": 1,
   "id": "b5ffc998-c7f8-4ba1-ba37-93644cde9e76",
   "metadata": {
    "ExecuteTime": {
     "end_time": "2025-02-07T09:20:12.088313Z",
     "start_time": "2025-02-07T09:20:11.734663Z"
    }
   },
   "outputs": [],
   "source": [
    "import pandas as pd\n",
    "from pathlib import Path\n",
    "import numpy as np\n",
    "import seaborn as sns\n",
    "import matplotlib.pyplot as plt\n",
    "import pubchempy as pcp\n",
    "from Bio.ExPASy import cellosaurus\n",
    "from drevalpy.datasets.curvecurator import _exec_curvecurator, preprocess, postprocess"
   ]
  },
  {
   "cell_type": "markdown",
   "id": "853a32f9-b38c-4bd9-b57f-8fc8ad09faf2",
   "metadata": {},
   "source": [
    "## Load Data"
   ]
  },
  {
   "cell_type": "code",
   "execution_count": 2,
   "id": "877b4809-4171-4e7e-9bec-e63b180bbc4d",
   "metadata": {
    "ExecuteTime": {
     "end_time": "2025-02-05T13:04:20.358683Z",
     "start_time": "2025-02-05T13:04:20.204896Z"
    }
   },
   "outputs": [],
   "source": [
    "RAW_FILE_PATH = Path(\"GDSC1_public_raw_data_27Oct23.csv\")"
   ]
  },
  {
   "cell_type": "code",
   "execution_count": 3,
   "id": "419e7f0f-33ac-48dd-bf67-e3996a8adc0c",
   "metadata": {
    "ExecuteTime": {
     "end_time": "2025-02-05T13:04:35.104299Z",
     "start_time": "2025-02-05T13:04:21.268172Z"
    }
   },
   "outputs": [
    {
     "name": "stderr",
     "output_type": "stream",
     "text": [
      "/var/folders/3x/f8j9tddj7flfxt9zx1gkws1m0000gn/T/ipykernel_39139/2745529336.py:1: DtypeWarning: Columns (1) have mixed types. Specify dtype option on import or set low_memory=False.\n",
      "  raw_df = pd.read_csv(RAW_FILE_PATH)\n"
     ]
    },
    {
     "data": {
      "text/plain": "        RESEARCH_PROJECT           BARCODE  SCAN_ID          DATE_CREATED  \\\n0           Sanger_GDSC1            100541     1765  2010-04-18T23:00:00Z   \n1           Sanger_GDSC1            100541     1765  2010-04-18T23:00:00Z   \n2           Sanger_GDSC1            100541     1765  2010-04-18T23:00:00Z   \n3           Sanger_GDSC1            100541     1765  2010-04-18T23:00:00Z   \n4           Sanger_GDSC1            100541     1765  2010-04-18T23:00:00Z   \n...                  ...               ...      ...                   ...   \n5976178        MGH_GDSC1  026_144_00287710    96581  2014-08-24T23:00:00Z   \n5976179        MGH_GDSC1  026_144_00287710    96581  2014-08-24T23:00:00Z   \n5976180        MGH_GDSC1  026_144_00287710    96581  2014-08-24T23:00:00Z   \n5976181        MGH_GDSC1  026_144_00287710    96581  2014-08-24T23:00:00Z   \n5976182        MGH_GDSC1  026_144_00287710    96581  2014-08-24T23:00:00Z   \n\n         SCAN_DATE  CELL_ID  MASTER_CELL_ID  COSMIC_ID CELL_LINE_NAME  \\\n0              NaN     2415             365     924238             K5   \n1              NaN     2415             365     924238             K5   \n2              NaN     2415             365     924238             K5   \n3              NaN     2415             365     924238             K5   \n4              NaN     2415             365     924238             K5   \n...            ...      ...             ...        ...            ...   \n5976178        NaN     3344             737     910706          BL-41   \n5976179        NaN     3344             737     910706          BL-41   \n5976180        NaN     3344             737     910706          BL-41   \n5976181        NaN     3344             737     910706          BL-41   \n5976182        NaN     3344             737     910706          BL-41   \n\n        SANGER_MODEL_ID  SEEDING_DENSITY DRUGSET_ID ASSAY  DURATION  POSITION  \\\n0             SIDM00056            250.0    505_a_5     a       3.0         1   \n1             SIDM00056            250.0    505_a_5     a       3.0         2   \n2             SIDM00056            250.0    505_a_5     a       3.0         3   \n3             SIDM00056            250.0    505_a_5     a       3.0         4   \n4             SIDM00056            250.0    505_a_5     a       3.0         5   \n...                 ...              ...        ...   ...       ...       ...   \n5976178       SIDM00985              NaN     26_a_7     s       NaN       380   \n5976179       SIDM00985              NaN     26_a_7     s       NaN       381   \n5976180       SIDM00985              NaN     26_a_7     s       NaN       382   \n5976181       SIDM00985              NaN     26_a_7     s       NaN       383   \n5976182       SIDM00985              NaN     26_a_7     s       NaN       384   \n\n             TAG  DRUG_ID  CONC  INTENSITY  \n0              B      NaN   NaN      26022  \n1              B      NaN   NaN      20491  \n2        UN-USED      NaN   NaN     181946  \n3        UN-USED      NaN   NaN     213387  \n4        UN-USED      NaN   NaN     166452  \n...          ...      ...   ...        ...  \n5976178  UN-USED      NaN   NaN     688924  \n5976179  UN-USED      NaN   NaN     674334  \n5976180  UN-USED      NaN   NaN     664066  \n5976181        B      NaN   NaN      34663  \n5976182        B      NaN   NaN      33652  \n\n[5976183 rows x 19 columns]",
      "text/html": "<div>\n<style scoped>\n    .dataframe tbody tr th:only-of-type {\n        vertical-align: middle;\n    }\n\n    .dataframe tbody tr th {\n        vertical-align: top;\n    }\n\n    .dataframe thead th {\n        text-align: right;\n    }\n</style>\n<table border=\"1\" class=\"dataframe\">\n  <thead>\n    <tr style=\"text-align: right;\">\n      <th></th>\n      <th>RESEARCH_PROJECT</th>\n      <th>BARCODE</th>\n      <th>SCAN_ID</th>\n      <th>DATE_CREATED</th>\n      <th>SCAN_DATE</th>\n      <th>CELL_ID</th>\n      <th>MASTER_CELL_ID</th>\n      <th>COSMIC_ID</th>\n      <th>CELL_LINE_NAME</th>\n      <th>SANGER_MODEL_ID</th>\n      <th>SEEDING_DENSITY</th>\n      <th>DRUGSET_ID</th>\n      <th>ASSAY</th>\n      <th>DURATION</th>\n      <th>POSITION</th>\n      <th>TAG</th>\n      <th>DRUG_ID</th>\n      <th>CONC</th>\n      <th>INTENSITY</th>\n    </tr>\n  </thead>\n  <tbody>\n    <tr>\n      <th>0</th>\n      <td>Sanger_GDSC1</td>\n      <td>100541</td>\n      <td>1765</td>\n      <td>2010-04-18T23:00:00Z</td>\n      <td>NaN</td>\n      <td>2415</td>\n      <td>365</td>\n      <td>924238</td>\n      <td>K5</td>\n      <td>SIDM00056</td>\n      <td>250.0</td>\n      <td>505_a_5</td>\n      <td>a</td>\n      <td>3.0</td>\n      <td>1</td>\n      <td>B</td>\n      <td>NaN</td>\n      <td>NaN</td>\n      <td>26022</td>\n    </tr>\n    <tr>\n      <th>1</th>\n      <td>Sanger_GDSC1</td>\n      <td>100541</td>\n      <td>1765</td>\n      <td>2010-04-18T23:00:00Z</td>\n      <td>NaN</td>\n      <td>2415</td>\n      <td>365</td>\n      <td>924238</td>\n      <td>K5</td>\n      <td>SIDM00056</td>\n      <td>250.0</td>\n      <td>505_a_5</td>\n      <td>a</td>\n      <td>3.0</td>\n      <td>2</td>\n      <td>B</td>\n      <td>NaN</td>\n      <td>NaN</td>\n      <td>20491</td>\n    </tr>\n    <tr>\n      <th>2</th>\n      <td>Sanger_GDSC1</td>\n      <td>100541</td>\n      <td>1765</td>\n      <td>2010-04-18T23:00:00Z</td>\n      <td>NaN</td>\n      <td>2415</td>\n      <td>365</td>\n      <td>924238</td>\n      <td>K5</td>\n      <td>SIDM00056</td>\n      <td>250.0</td>\n      <td>505_a_5</td>\n      <td>a</td>\n      <td>3.0</td>\n      <td>3</td>\n      <td>UN-USED</td>\n      <td>NaN</td>\n      <td>NaN</td>\n      <td>181946</td>\n    </tr>\n    <tr>\n      <th>3</th>\n      <td>Sanger_GDSC1</td>\n      <td>100541</td>\n      <td>1765</td>\n      <td>2010-04-18T23:00:00Z</td>\n      <td>NaN</td>\n      <td>2415</td>\n      <td>365</td>\n      <td>924238</td>\n      <td>K5</td>\n      <td>SIDM00056</td>\n      <td>250.0</td>\n      <td>505_a_5</td>\n      <td>a</td>\n      <td>3.0</td>\n      <td>4</td>\n      <td>UN-USED</td>\n      <td>NaN</td>\n      <td>NaN</td>\n      <td>213387</td>\n    </tr>\n    <tr>\n      <th>4</th>\n      <td>Sanger_GDSC1</td>\n      <td>100541</td>\n      <td>1765</td>\n      <td>2010-04-18T23:00:00Z</td>\n      <td>NaN</td>\n      <td>2415</td>\n      <td>365</td>\n      <td>924238</td>\n      <td>K5</td>\n      <td>SIDM00056</td>\n      <td>250.0</td>\n      <td>505_a_5</td>\n      <td>a</td>\n      <td>3.0</td>\n      <td>5</td>\n      <td>UN-USED</td>\n      <td>NaN</td>\n      <td>NaN</td>\n      <td>166452</td>\n    </tr>\n    <tr>\n      <th>...</th>\n      <td>...</td>\n      <td>...</td>\n      <td>...</td>\n      <td>...</td>\n      <td>...</td>\n      <td>...</td>\n      <td>...</td>\n      <td>...</td>\n      <td>...</td>\n      <td>...</td>\n      <td>...</td>\n      <td>...</td>\n      <td>...</td>\n      <td>...</td>\n      <td>...</td>\n      <td>...</td>\n      <td>...</td>\n      <td>...</td>\n      <td>...</td>\n    </tr>\n    <tr>\n      <th>5976178</th>\n      <td>MGH_GDSC1</td>\n      <td>026_144_00287710</td>\n      <td>96581</td>\n      <td>2014-08-24T23:00:00Z</td>\n      <td>NaN</td>\n      <td>3344</td>\n      <td>737</td>\n      <td>910706</td>\n      <td>BL-41</td>\n      <td>SIDM00985</td>\n      <td>NaN</td>\n      <td>26_a_7</td>\n      <td>s</td>\n      <td>NaN</td>\n      <td>380</td>\n      <td>UN-USED</td>\n      <td>NaN</td>\n      <td>NaN</td>\n      <td>688924</td>\n    </tr>\n    <tr>\n      <th>5976179</th>\n      <td>MGH_GDSC1</td>\n      <td>026_144_00287710</td>\n      <td>96581</td>\n      <td>2014-08-24T23:00:00Z</td>\n      <td>NaN</td>\n      <td>3344</td>\n      <td>737</td>\n      <td>910706</td>\n      <td>BL-41</td>\n      <td>SIDM00985</td>\n      <td>NaN</td>\n      <td>26_a_7</td>\n      <td>s</td>\n      <td>NaN</td>\n      <td>381</td>\n      <td>UN-USED</td>\n      <td>NaN</td>\n      <td>NaN</td>\n      <td>674334</td>\n    </tr>\n    <tr>\n      <th>5976180</th>\n      <td>MGH_GDSC1</td>\n      <td>026_144_00287710</td>\n      <td>96581</td>\n      <td>2014-08-24T23:00:00Z</td>\n      <td>NaN</td>\n      <td>3344</td>\n      <td>737</td>\n      <td>910706</td>\n      <td>BL-41</td>\n      <td>SIDM00985</td>\n      <td>NaN</td>\n      <td>26_a_7</td>\n      <td>s</td>\n      <td>NaN</td>\n      <td>382</td>\n      <td>UN-USED</td>\n      <td>NaN</td>\n      <td>NaN</td>\n      <td>664066</td>\n    </tr>\n    <tr>\n      <th>5976181</th>\n      <td>MGH_GDSC1</td>\n      <td>026_144_00287710</td>\n      <td>96581</td>\n      <td>2014-08-24T23:00:00Z</td>\n      <td>NaN</td>\n      <td>3344</td>\n      <td>737</td>\n      <td>910706</td>\n      <td>BL-41</td>\n      <td>SIDM00985</td>\n      <td>NaN</td>\n      <td>26_a_7</td>\n      <td>s</td>\n      <td>NaN</td>\n      <td>383</td>\n      <td>B</td>\n      <td>NaN</td>\n      <td>NaN</td>\n      <td>34663</td>\n    </tr>\n    <tr>\n      <th>5976182</th>\n      <td>MGH_GDSC1</td>\n      <td>026_144_00287710</td>\n      <td>96581</td>\n      <td>2014-08-24T23:00:00Z</td>\n      <td>NaN</td>\n      <td>3344</td>\n      <td>737</td>\n      <td>910706</td>\n      <td>BL-41</td>\n      <td>SIDM00985</td>\n      <td>NaN</td>\n      <td>26_a_7</td>\n      <td>s</td>\n      <td>NaN</td>\n      <td>384</td>\n      <td>B</td>\n      <td>NaN</td>\n      <td>NaN</td>\n      <td>33652</td>\n    </tr>\n  </tbody>\n</table>\n<p>5976183 rows × 19 columns</p>\n</div>"
     },
     "execution_count": 3,
     "metadata": {},
     "output_type": "execute_result"
    }
   ],
   "source": [
    "raw_df = pd.read_csv(RAW_FILE_PATH)\n",
    "raw_df"
   ]
  },
  {
   "cell_type": "code",
   "execution_count": 4,
   "id": "ddc18106-2ae5-49eb-8e0d-3bd5c26bccd2",
   "metadata": {
    "ExecuteTime": {
     "end_time": "2025-02-05T13:04:35.115373Z",
     "start_time": "2025-02-05T13:04:35.013497Z"
    }
   },
   "outputs": [
    {
     "data": {
      "text/plain": "     DRUG_ID SCREENING_SITE              DRUG_NAME  \\\n0          1            MGH              Erlotinib   \n1          3            MGH              Rapamycin   \n2          5            MGH              Sunitinib   \n3          6            MGH             PHA-665752   \n4          9            MGH                 MG-132   \n..       ...            ...                    ...   \n616     2362         SANGER                THR-103   \n617     2438         SANGER  ascorbate (vitamin C)   \n618     2439         SANGER            glutathione   \n619     2498         SANGER      alpha-lipoic acid   \n620     2499         SANGER      N-acetyl cysteine   \n\n                                              SYNONYMS  \\\n0    Tarceva, RG-1415, CP-358774, OSI-774, Ro-50823...   \n1    AY-22989, Sirolimus, WY-090217, Torisel, Rapamune   \n2                   Sutent, Sunitinib Malate, SU-11248   \n3                                PHA665752, PHA 665752   \n4                               LLL cpd, MG 132, MG132   \n..                                                 ...   \n616                                     WIMM synthesis   \n617                        back-up solution from YWKim   \n618                                       G6013, sigma   \n619                                                aLA   \n620                                                NAC   \n\n                                  TARGET                     TARGET_PATHWAY  \n0                                   EGFR                     EGFR signaling  \n1                                 MTORC1                PI3K/MTOR signaling  \n2    PDGFR, KIT, VEGFR, FLT3, RET, CSF1R                      RTK signaling  \n3                                    MET                      RTK signaling  \n4                      Proteasome, CAPN1  Protein stability and degradation  \n..                                   ...                                ...  \n616                           Mutant RAS                PI3K/MTOR signaling  \n617                anti-oxidant proteins                              Other  \n618                anti-oxidant proteins                              Other  \n619                           Metabolism                         Metabolism  \n620                           Metabolism                         Metabolism  \n\n[621 rows x 6 columns]",
      "text/html": "<div>\n<style scoped>\n    .dataframe tbody tr th:only-of-type {\n        vertical-align: middle;\n    }\n\n    .dataframe tbody tr th {\n        vertical-align: top;\n    }\n\n    .dataframe thead th {\n        text-align: right;\n    }\n</style>\n<table border=\"1\" class=\"dataframe\">\n  <thead>\n    <tr style=\"text-align: right;\">\n      <th></th>\n      <th>DRUG_ID</th>\n      <th>SCREENING_SITE</th>\n      <th>DRUG_NAME</th>\n      <th>SYNONYMS</th>\n      <th>TARGET</th>\n      <th>TARGET_PATHWAY</th>\n    </tr>\n  </thead>\n  <tbody>\n    <tr>\n      <th>0</th>\n      <td>1</td>\n      <td>MGH</td>\n      <td>Erlotinib</td>\n      <td>Tarceva, RG-1415, CP-358774, OSI-774, Ro-50823...</td>\n      <td>EGFR</td>\n      <td>EGFR signaling</td>\n    </tr>\n    <tr>\n      <th>1</th>\n      <td>3</td>\n      <td>MGH</td>\n      <td>Rapamycin</td>\n      <td>AY-22989, Sirolimus, WY-090217, Torisel, Rapamune</td>\n      <td>MTORC1</td>\n      <td>PI3K/MTOR signaling</td>\n    </tr>\n    <tr>\n      <th>2</th>\n      <td>5</td>\n      <td>MGH</td>\n      <td>Sunitinib</td>\n      <td>Sutent, Sunitinib Malate, SU-11248</td>\n      <td>PDGFR, KIT, VEGFR, FLT3, RET, CSF1R</td>\n      <td>RTK signaling</td>\n    </tr>\n    <tr>\n      <th>3</th>\n      <td>6</td>\n      <td>MGH</td>\n      <td>PHA-665752</td>\n      <td>PHA665752, PHA 665752</td>\n      <td>MET</td>\n      <td>RTK signaling</td>\n    </tr>\n    <tr>\n      <th>4</th>\n      <td>9</td>\n      <td>MGH</td>\n      <td>MG-132</td>\n      <td>LLL cpd, MG 132, MG132</td>\n      <td>Proteasome, CAPN1</td>\n      <td>Protein stability and degradation</td>\n    </tr>\n    <tr>\n      <th>...</th>\n      <td>...</td>\n      <td>...</td>\n      <td>...</td>\n      <td>...</td>\n      <td>...</td>\n      <td>...</td>\n    </tr>\n    <tr>\n      <th>616</th>\n      <td>2362</td>\n      <td>SANGER</td>\n      <td>THR-103</td>\n      <td>WIMM synthesis</td>\n      <td>Mutant RAS</td>\n      <td>PI3K/MTOR signaling</td>\n    </tr>\n    <tr>\n      <th>617</th>\n      <td>2438</td>\n      <td>SANGER</td>\n      <td>ascorbate (vitamin C)</td>\n      <td>back-up solution from YWKim</td>\n      <td>anti-oxidant proteins</td>\n      <td>Other</td>\n    </tr>\n    <tr>\n      <th>618</th>\n      <td>2439</td>\n      <td>SANGER</td>\n      <td>glutathione</td>\n      <td>G6013, sigma</td>\n      <td>anti-oxidant proteins</td>\n      <td>Other</td>\n    </tr>\n    <tr>\n      <th>619</th>\n      <td>2498</td>\n      <td>SANGER</td>\n      <td>alpha-lipoic acid</td>\n      <td>aLA</td>\n      <td>Metabolism</td>\n      <td>Metabolism</td>\n    </tr>\n    <tr>\n      <th>620</th>\n      <td>2499</td>\n      <td>SANGER</td>\n      <td>N-acetyl cysteine</td>\n      <td>NAC</td>\n      <td>Metabolism</td>\n      <td>Metabolism</td>\n    </tr>\n  </tbody>\n</table>\n<p>621 rows × 6 columns</p>\n</div>"
     },
     "execution_count": 4,
     "metadata": {},
     "output_type": "execute_result"
    }
   ],
   "source": [
    "drug_names = pd.read_csv(\"screened_compounds_rel_8.5.csv\")\n",
    "drug_names[\"DRUG_NAME\"] = drug_names.DRUG_NAME.apply(lambda x: x[:-1] if x[-1] == ' ' else x)  # remove trailing spaces for 'GSK-LSD1-2HCl', 'JAK1_8517'\n",
    "drug_names.loc[drug_names.DRUG_NAME == 'torin2', 'DRUG_NAME'] = 'Torin 2'                      # fix torin2 being present with two names\n",
    "drug_names"
   ]
  },
  {
   "cell_type": "code",
   "execution_count": 5,
   "id": "9fc7f169-83f1-48c9-ae32-ac2358491fba",
   "metadata": {
    "ExecuteTime": {
     "end_time": "2025-02-05T13:04:35.117116Z",
     "start_time": "2025-02-05T13:04:35.055191Z"
    }
   },
   "outputs": [],
   "source": [
    "# Remove failed drugs from the dataset\n",
    "def remove_failed_drugs(df):\n",
    "    # Remove rows where TAG == 'UN-USED'\n",
    "    failed_positions = df[df['TAG'] == 'UN-USED'][['SCAN_ID', 'POSITION']]\n",
    "    df = df.merge(failed_positions, on=['SCAN_ID', 'POSITION'], how='outer', indicator=True)\n",
    "    df = df[df['_merge'] == 'left_only'].drop(columns='_merge')\n",
    "    return df\n",
    "\n",
    "# Remove missing drugs (where DRUG_ID is NA)\n",
    "def remove_missing_drugs(df):\n",
    "    # Remove rows where DRUG_ID is NA\n",
    "    na_libs = df[df['DRUG_ID'].isna() & df['TAG'].str.contains(\"^(L|R|A)\\d+\", regex=True)]\n",
    "    df = df.merge(na_libs[['SCAN_ID', 'POSITION']], on=['SCAN_ID', 'POSITION'], how='outer', indicator=True)\n",
    "    df = df[df['_merge'] == 'left_only'].drop(columns='_merge')\n",
    "    return df\n",
    "\n",
    "# Calculate the mean intensity for a given tag\n",
    "def calc_tag_mean(df, tag_name, mean_col_name=\"tag_mean\"):\n",
    "    # Check if tag exists for all SCAN_IDs\n",
    "    check_for_tag = df[['SCAN_ID']].drop_duplicates().merge(\n",
    "        df[df['TAG'] == tag_name].groupby('SCAN_ID').size().reset_index(name='count'),\n",
    "        on='SCAN_ID', how='left'\n",
    "    )\n",
    "    if check_for_tag['count'].isna().any():\n",
    "        print(check_for_tag['count'])\n",
    "        raise ValueError(f\"calcTagMean: {tag_name} is not present for some or all of the SCAN_IDs.\")\n",
    "    \n",
    "    # Calculate mean intensity for the tag\n",
    "    tag_means = df[df['TAG'] == tag_name].groupby('SCAN_ID')['INTENSITY'].mean().reset_index(name=mean_col_name)\n",
    "    \n",
    "    if tag_means[mean_col_name].isna().any():\n",
    "        raise ValueError(f\"calcTagMean: {tag_name} has a mean of NaN for some or all of the SCAN_IDs.\")\n",
    "    \n",
    "    return tag_means\n",
    "\n",
    "# Normalize the dataset with respect to controls\n",
    "def normalize_data(df, trim=True, neg_control='NC-0', pos_control='B'):\n",
    "    nc1 = calc_tag_mean(df, neg_control, \"NC\")\n",
    "    pc1 = calc_tag_mean(df, pos_control, \"PC\")\n",
    "    \n",
    "    # Filter and select relevant columns\n",
    "    normalized_data = df[df['TAG'].str.contains(r\"(A|L|R)\\d+(-D\\d+)?-(S|C)\")].copy()\n",
    "    \n",
    "    normalized_data['lib_drug'] = normalized_data['TAG'].str.extract(r\"((L|R)\\d+)(-D\\d+)?-(S|C)\")[0]\n",
    "    normalized_data['lib_drug'] = np.where(normalized_data['lib_drug'].str.startswith(\"A\"), np.nan, normalized_data['lib_drug'])\n",
    "    \n",
    "    normalized_data['anchor'] = normalized_data['TAG'].str.extract(r\"(A\\d+)-(S|C)\")[0]\n",
    "    normalized_data['anchor'] = np.where(normalized_data['anchor'].str.startswith(\"(L|R)\"), np.nan, normalized_data['anchor'])\n",
    "    \n",
    "    normalized_data['dose'] = normalized_data['TAG'].str.extract(r\"(A|L|R)\\d+-?(D\\d+)?-(S|C)\")[1]\n",
    "    normalized_data['treatment'] = normalized_data['TAG'].str.extract(r\"((A|L|R)\\d+)(-D\\d+)?-(S|C)\")[3]\n",
    "    \n",
    "    # Join library and anchor data\n",
    "    libraries = normalized_data.loc[~normalized_data['lib_drug'].isna(), normalized_data.columns != 'anchor'].rename(columns={\"DRUG_ID\": \"DRUG_ID_lib\"}).copy()\n",
    "    anchors = normalized_data.loc[~normalized_data['anchor'].isna(), ~normalized_data.columns.isin([\"lib_drug\", \"dose\"])].rename(columns={\"DRUG_ID\": \"DRUG_ID_anch\", \"CONC\": \"CONC_anch\"})\n",
    "    \n",
    "    if not anchors.empty:\n",
    "        print(\"fotze\")\n",
    "        normalized_data = pd.merge(libraries, anchors, how='outer')\n",
    "    else:\n",
    "        normalized_data = libraries\n",
    "    \n",
    "    # Merge controls\n",
    "    normalized_data = normalized_data.merge(nc1, on=\"SCAN_ID\", how='left').merge(pc1, on=\"SCAN_ID\", how='left')\n",
    "    \n",
    "    # Normalize intensity\n",
    "    normalized_data['normalized_intensity'] = (normalized_data['INTENSITY'] - normalized_data['PC']) / (normalized_data['NC'] - normalized_data['PC'])\n",
    "    \n",
    "    # Trim values to range [0, 1]\n",
    "    if trim:\n",
    "        normalized_data['normalized_intensity'] = normalized_data['normalized_intensity'].clip(lower=0, upper=1000)\n",
    "    \n",
    "    normalized_data['norm_neg_pos'] = neg_control + \"+\" + pos_control\n",
    "    #normalized_data['time_stamp'] = datetime.now()\n",
    "    \n",
    "    return normalized_data\n",
    "\n",
    "# Main normalization function\n",
    "def main_normalizer(gdsc_dataset):\n",
    "    return normalize_data(remove_missing_drugs(remove_failed_drugs(gdsc_dataset)))\n",
    "\n",
    "# Add DMSO controls\n",
    "def add_dmso(df):\n",
    "    unique_pairs = df[['cell_line', 'drug']].drop_duplicates()\n",
    "    new_rows = unique_pairs.assign(dose=0, response=1.0)\n",
    "    final_dataset = pd.concat([df, new_rows], ignore_index=True)\n",
    "    return final_dataset\n",
    "\n",
    "# Map drug names\n",
    "def drug_name_mapper(df, drug_df):\n",
    "    drug_df = drug_df[['DRUG_ID', 'DRUG_NAME', 'SYNONYMS', 'SCREENING_SITE']]#.rename(columns={'DRUG_ID': 'drug'})\n",
    "    df = df.merge(drug_df, left_on='DRUG_ID_lib', right_on='DRUG_ID', how='left')\n",
    "    df['DRUG_NAME'] = df['DRUG_NAME'].fillna(df['DRUG_ID_lib'].astype(str))\n",
    "    return df.drop(columns='DRUG_ID').rename(columns={'DRUG_ID_lib': 'DRUG_ID'})\n",
    "\n",
    "# Prepare the dataset for curve curator\n",
    "def transform_for_curvecurator(df, drug_names):\n",
    "    # Filter library drugs\n",
    "    df = df[df['lib_drug'].str.startswith('L')]\n",
    "    \n",
    "    # Select relevant columns and rename them\n",
    "    df = df.copy()\n",
    "    #df.columns = ['cell_line', 'drug', 'dose', 'response', 'SANGER_MODEL_ID', \"CELL_ID\", \"MASTER_CELL_ID\"]\n",
    "    \n",
    "    # Add DMSO controls\n",
    "    #df = add_dmso(df)\n",
    "    \n",
    "    # Map drug names\n",
    "    df = drug_name_mapper(df, drug_names)\n",
    "    # Reorder and sort columns\n",
    "    df = df.sort_values(by=['CELL_LINE_NAME', 'DRUG_ID', 'CONC'])\n",
    "    \n",
    "    return df\n",
    "\n"
   ]
  },
  {
   "cell_type": "markdown",
   "id": "6f92a1e7-cb91-4162-b103-feb235c64d67",
   "metadata": {},
   "source": [
    "## Prepare data"
   ]
  },
  {
   "cell_type": "code",
   "execution_count": 6,
   "id": "9b929226-9da4-4936-bb8b-0d1d4860b81f",
   "metadata": {
    "ExecuteTime": {
     "end_time": "2025-02-05T13:04:43.797762Z",
     "start_time": "2025-02-05T13:04:35.413719Z"
    }
   },
   "outputs": [
    {
     "data": {
      "text/plain": "        RESEARCH_PROJECT           BARCODE  SCAN_ID          DATE_CREATED  \\\n0           Sanger_GDSC1            100541     1765  2010-04-18T23:00:00Z   \n1           Sanger_GDSC1            100541     1765  2010-04-18T23:00:00Z   \n24          Sanger_GDSC1            100541     1765  2010-04-18T23:00:00Z   \n25          Sanger_GDSC1            100541     1765  2010-04-18T23:00:00Z   \n26          Sanger_GDSC1            100541     1765  2010-04-18T23:00:00Z   \n...                  ...               ...      ...                   ...   \n5976156        MGH_GDSC1  026_144_00287710    96581  2014-08-24T23:00:00Z   \n5976157        MGH_GDSC1  026_144_00287710    96581  2014-08-24T23:00:00Z   \n5976158        MGH_GDSC1  026_144_00287710    96581  2014-08-24T23:00:00Z   \n5976181        MGH_GDSC1  026_144_00287710    96581  2014-08-24T23:00:00Z   \n5976182        MGH_GDSC1  026_144_00287710    96581  2014-08-24T23:00:00Z   \n\n         SCAN_DATE  CELL_ID  MASTER_CELL_ID  COSMIC_ID CELL_LINE_NAME  \\\n0              NaN     2415             365     924238             K5   \n1              NaN     2415             365     924238             K5   \n24             NaN     2415             365     924238             K5   \n25             NaN     2415             365     924238             K5   \n26             NaN     2415             365     924238             K5   \n...            ...      ...             ...        ...            ...   \n5976156        NaN     3344             737     910706          BL-41   \n5976157        NaN     3344             737     910706          BL-41   \n5976158        NaN     3344             737     910706          BL-41   \n5976181        NaN     3344             737     910706          BL-41   \n5976182        NaN     3344             737     910706          BL-41   \n\n        SANGER_MODEL_ID  SEEDING_DENSITY DRUGSET_ID ASSAY  DURATION  POSITION  \\\n0             SIDM00056            250.0    505_a_5     a       3.0         1   \n1             SIDM00056            250.0    505_a_5     a       3.0         2   \n24            SIDM00056            250.0    505_a_5     a       3.0        25   \n25            SIDM00056            250.0    505_a_5     a       3.0        26   \n26            SIDM00056            250.0    505_a_5     a       3.0        27   \n...                 ...              ...        ...   ...       ...       ...   \n5976156       SIDM00985              NaN     26_a_7     s       NaN       349   \n5976157       SIDM00985              NaN     26_a_7     s       NaN       359   \n5976158       SIDM00985              NaN     26_a_7     s       NaN       360   \n5976181       SIDM00985              NaN     26_a_7     s       NaN       383   \n5976182       SIDM00985              NaN     26_a_7     s       NaN       384   \n\n          TAG  DRUG_ID  CONC  INTENSITY  \n0           B      NaN   NaN      26022  \n1           B      NaN   NaN      20491  \n24          B      NaN   NaN      19639  \n25          B      NaN   NaN      21506  \n26       NC-0      NaN   NaN     170731  \n...       ...      ...   ...        ...  \n5976156  NC-0      NaN   NaN     706419  \n5976157     B      NaN   NaN      38682  \n5976158     B      NaN   NaN      36097  \n5976181     B      NaN   NaN      34663  \n5976182     B      NaN   NaN      33652  \n\n[4699775 rows x 19 columns]",
      "text/html": "<div>\n<style scoped>\n    .dataframe tbody tr th:only-of-type {\n        vertical-align: middle;\n    }\n\n    .dataframe tbody tr th {\n        vertical-align: top;\n    }\n\n    .dataframe thead th {\n        text-align: right;\n    }\n</style>\n<table border=\"1\" class=\"dataframe\">\n  <thead>\n    <tr style=\"text-align: right;\">\n      <th></th>\n      <th>RESEARCH_PROJECT</th>\n      <th>BARCODE</th>\n      <th>SCAN_ID</th>\n      <th>DATE_CREATED</th>\n      <th>SCAN_DATE</th>\n      <th>CELL_ID</th>\n      <th>MASTER_CELL_ID</th>\n      <th>COSMIC_ID</th>\n      <th>CELL_LINE_NAME</th>\n      <th>SANGER_MODEL_ID</th>\n      <th>SEEDING_DENSITY</th>\n      <th>DRUGSET_ID</th>\n      <th>ASSAY</th>\n      <th>DURATION</th>\n      <th>POSITION</th>\n      <th>TAG</th>\n      <th>DRUG_ID</th>\n      <th>CONC</th>\n      <th>INTENSITY</th>\n    </tr>\n  </thead>\n  <tbody>\n    <tr>\n      <th>0</th>\n      <td>Sanger_GDSC1</td>\n      <td>100541</td>\n      <td>1765</td>\n      <td>2010-04-18T23:00:00Z</td>\n      <td>NaN</td>\n      <td>2415</td>\n      <td>365</td>\n      <td>924238</td>\n      <td>K5</td>\n      <td>SIDM00056</td>\n      <td>250.0</td>\n      <td>505_a_5</td>\n      <td>a</td>\n      <td>3.0</td>\n      <td>1</td>\n      <td>B</td>\n      <td>NaN</td>\n      <td>NaN</td>\n      <td>26022</td>\n    </tr>\n    <tr>\n      <th>1</th>\n      <td>Sanger_GDSC1</td>\n      <td>100541</td>\n      <td>1765</td>\n      <td>2010-04-18T23:00:00Z</td>\n      <td>NaN</td>\n      <td>2415</td>\n      <td>365</td>\n      <td>924238</td>\n      <td>K5</td>\n      <td>SIDM00056</td>\n      <td>250.0</td>\n      <td>505_a_5</td>\n      <td>a</td>\n      <td>3.0</td>\n      <td>2</td>\n      <td>B</td>\n      <td>NaN</td>\n      <td>NaN</td>\n      <td>20491</td>\n    </tr>\n    <tr>\n      <th>24</th>\n      <td>Sanger_GDSC1</td>\n      <td>100541</td>\n      <td>1765</td>\n      <td>2010-04-18T23:00:00Z</td>\n      <td>NaN</td>\n      <td>2415</td>\n      <td>365</td>\n      <td>924238</td>\n      <td>K5</td>\n      <td>SIDM00056</td>\n      <td>250.0</td>\n      <td>505_a_5</td>\n      <td>a</td>\n      <td>3.0</td>\n      <td>25</td>\n      <td>B</td>\n      <td>NaN</td>\n      <td>NaN</td>\n      <td>19639</td>\n    </tr>\n    <tr>\n      <th>25</th>\n      <td>Sanger_GDSC1</td>\n      <td>100541</td>\n      <td>1765</td>\n      <td>2010-04-18T23:00:00Z</td>\n      <td>NaN</td>\n      <td>2415</td>\n      <td>365</td>\n      <td>924238</td>\n      <td>K5</td>\n      <td>SIDM00056</td>\n      <td>250.0</td>\n      <td>505_a_5</td>\n      <td>a</td>\n      <td>3.0</td>\n      <td>26</td>\n      <td>B</td>\n      <td>NaN</td>\n      <td>NaN</td>\n      <td>21506</td>\n    </tr>\n    <tr>\n      <th>26</th>\n      <td>Sanger_GDSC1</td>\n      <td>100541</td>\n      <td>1765</td>\n      <td>2010-04-18T23:00:00Z</td>\n      <td>NaN</td>\n      <td>2415</td>\n      <td>365</td>\n      <td>924238</td>\n      <td>K5</td>\n      <td>SIDM00056</td>\n      <td>250.0</td>\n      <td>505_a_5</td>\n      <td>a</td>\n      <td>3.0</td>\n      <td>27</td>\n      <td>NC-0</td>\n      <td>NaN</td>\n      <td>NaN</td>\n      <td>170731</td>\n    </tr>\n    <tr>\n      <th>...</th>\n      <td>...</td>\n      <td>...</td>\n      <td>...</td>\n      <td>...</td>\n      <td>...</td>\n      <td>...</td>\n      <td>...</td>\n      <td>...</td>\n      <td>...</td>\n      <td>...</td>\n      <td>...</td>\n      <td>...</td>\n      <td>...</td>\n      <td>...</td>\n      <td>...</td>\n      <td>...</td>\n      <td>...</td>\n      <td>...</td>\n      <td>...</td>\n    </tr>\n    <tr>\n      <th>5976156</th>\n      <td>MGH_GDSC1</td>\n      <td>026_144_00287710</td>\n      <td>96581</td>\n      <td>2014-08-24T23:00:00Z</td>\n      <td>NaN</td>\n      <td>3344</td>\n      <td>737</td>\n      <td>910706</td>\n      <td>BL-41</td>\n      <td>SIDM00985</td>\n      <td>NaN</td>\n      <td>26_a_7</td>\n      <td>s</td>\n      <td>NaN</td>\n      <td>349</td>\n      <td>NC-0</td>\n      <td>NaN</td>\n      <td>NaN</td>\n      <td>706419</td>\n    </tr>\n    <tr>\n      <th>5976157</th>\n      <td>MGH_GDSC1</td>\n      <td>026_144_00287710</td>\n      <td>96581</td>\n      <td>2014-08-24T23:00:00Z</td>\n      <td>NaN</td>\n      <td>3344</td>\n      <td>737</td>\n      <td>910706</td>\n      <td>BL-41</td>\n      <td>SIDM00985</td>\n      <td>NaN</td>\n      <td>26_a_7</td>\n      <td>s</td>\n      <td>NaN</td>\n      <td>359</td>\n      <td>B</td>\n      <td>NaN</td>\n      <td>NaN</td>\n      <td>38682</td>\n    </tr>\n    <tr>\n      <th>5976158</th>\n      <td>MGH_GDSC1</td>\n      <td>026_144_00287710</td>\n      <td>96581</td>\n      <td>2014-08-24T23:00:00Z</td>\n      <td>NaN</td>\n      <td>3344</td>\n      <td>737</td>\n      <td>910706</td>\n      <td>BL-41</td>\n      <td>SIDM00985</td>\n      <td>NaN</td>\n      <td>26_a_7</td>\n      <td>s</td>\n      <td>NaN</td>\n      <td>360</td>\n      <td>B</td>\n      <td>NaN</td>\n      <td>NaN</td>\n      <td>36097</td>\n    </tr>\n    <tr>\n      <th>5976181</th>\n      <td>MGH_GDSC1</td>\n      <td>026_144_00287710</td>\n      <td>96581</td>\n      <td>2014-08-24T23:00:00Z</td>\n      <td>NaN</td>\n      <td>3344</td>\n      <td>737</td>\n      <td>910706</td>\n      <td>BL-41</td>\n      <td>SIDM00985</td>\n      <td>NaN</td>\n      <td>26_a_7</td>\n      <td>s</td>\n      <td>NaN</td>\n      <td>383</td>\n      <td>B</td>\n      <td>NaN</td>\n      <td>NaN</td>\n      <td>34663</td>\n    </tr>\n    <tr>\n      <th>5976182</th>\n      <td>MGH_GDSC1</td>\n      <td>026_144_00287710</td>\n      <td>96581</td>\n      <td>2014-08-24T23:00:00Z</td>\n      <td>NaN</td>\n      <td>3344</td>\n      <td>737</td>\n      <td>910706</td>\n      <td>BL-41</td>\n      <td>SIDM00985</td>\n      <td>NaN</td>\n      <td>26_a_7</td>\n      <td>s</td>\n      <td>NaN</td>\n      <td>384</td>\n      <td>B</td>\n      <td>NaN</td>\n      <td>NaN</td>\n      <td>33652</td>\n    </tr>\n  </tbody>\n</table>\n<p>4699775 rows × 19 columns</p>\n</div>"
     },
     "execution_count": 6,
     "metadata": {},
     "output_type": "execute_result"
    }
   ],
   "source": [
    "raw_df_without_empty_wells = remove_failed_drugs(raw_df)\n",
    "raw_df_without_empty_wells"
   ]
  },
  {
   "cell_type": "code",
   "execution_count": 7,
   "id": "47be288f-6611-4e06-ac2d-64623c6283b8",
   "metadata": {
    "ExecuteTime": {
     "end_time": "2025-02-05T13:04:51.113838Z",
     "start_time": "2025-02-05T13:04:43.789862Z"
    }
   },
   "outputs": [
    {
     "name": "stderr",
     "output_type": "stream",
     "text": [
      "/var/folders/3x/f8j9tddj7flfxt9zx1gkws1m0000gn/T/ipykernel_39139/3427007905.py:12: UserWarning: This pattern is interpreted as a regular expression, and has match groups. To actually get the groups, use str.extract.\n",
      "  na_libs = df[df['DRUG_ID'].isna() & df['TAG'].str.contains(\"^(L|R|A)\\d+\", regex=True)]\n"
     ]
    },
    {
     "data": {
      "text/plain": "        RESEARCH_PROJECT           BARCODE  SCAN_ID          DATE_CREATED  \\\n0           Sanger_GDSC1            100541     1765  2010-04-18T23:00:00Z   \n1           Sanger_GDSC1            100541     1765  2010-04-18T23:00:00Z   \n2           Sanger_GDSC1            100541     1765  2010-04-18T23:00:00Z   \n3           Sanger_GDSC1            100541     1765  2010-04-18T23:00:00Z   \n4           Sanger_GDSC1            100541     1765  2010-04-18T23:00:00Z   \n...                  ...               ...      ...                   ...   \n4699770        MGH_GDSC1  026_144_00287710    96581  2014-08-24T23:00:00Z   \n4699771        MGH_GDSC1  026_144_00287710    96581  2014-08-24T23:00:00Z   \n4699772        MGH_GDSC1  026_144_00287710    96581  2014-08-24T23:00:00Z   \n4699773        MGH_GDSC1  026_144_00287710    96581  2014-08-24T23:00:00Z   \n4699774        MGH_GDSC1  026_144_00287710    96581  2014-08-24T23:00:00Z   \n\n         SCAN_DATE  CELL_ID  MASTER_CELL_ID  COSMIC_ID CELL_LINE_NAME  \\\n0              NaN     2415             365     924238             K5   \n1              NaN     2415             365     924238             K5   \n2              NaN     2415             365     924238             K5   \n3              NaN     2415             365     924238             K5   \n4              NaN     2415             365     924238             K5   \n...            ...      ...             ...        ...            ...   \n4699770        NaN     3344             737     910706          BL-41   \n4699771        NaN     3344             737     910706          BL-41   \n4699772        NaN     3344             737     910706          BL-41   \n4699773        NaN     3344             737     910706          BL-41   \n4699774        NaN     3344             737     910706          BL-41   \n\n        SANGER_MODEL_ID  SEEDING_DENSITY DRUGSET_ID ASSAY  DURATION  POSITION  \\\n0             SIDM00056            250.0    505_a_5     a       3.0         1   \n1             SIDM00056            250.0    505_a_5     a       3.0         2   \n2             SIDM00056            250.0    505_a_5     a       3.0        25   \n3             SIDM00056            250.0    505_a_5     a       3.0        26   \n4             SIDM00056            250.0    505_a_5     a       3.0        27   \n...                 ...              ...        ...   ...       ...       ...   \n4699770       SIDM00985              NaN     26_a_7     s       NaN       349   \n4699771       SIDM00985              NaN     26_a_7     s       NaN       359   \n4699772       SIDM00985              NaN     26_a_7     s       NaN       360   \n4699773       SIDM00985              NaN     26_a_7     s       NaN       383   \n4699774       SIDM00985              NaN     26_a_7     s       NaN       384   \n\n          TAG  DRUG_ID  CONC  INTENSITY  \n0           B      NaN   NaN      26022  \n1           B      NaN   NaN      20491  \n2           B      NaN   NaN      19639  \n3           B      NaN   NaN      21506  \n4        NC-0      NaN   NaN     170731  \n...       ...      ...   ...        ...  \n4699770  NC-0      NaN   NaN     706419  \n4699771     B      NaN   NaN      38682  \n4699772     B      NaN   NaN      36097  \n4699773     B      NaN   NaN      34663  \n4699774     B      NaN   NaN      33652  \n\n[4699775 rows x 19 columns]",
      "text/html": "<div>\n<style scoped>\n    .dataframe tbody tr th:only-of-type {\n        vertical-align: middle;\n    }\n\n    .dataframe tbody tr th {\n        vertical-align: top;\n    }\n\n    .dataframe thead th {\n        text-align: right;\n    }\n</style>\n<table border=\"1\" class=\"dataframe\">\n  <thead>\n    <tr style=\"text-align: right;\">\n      <th></th>\n      <th>RESEARCH_PROJECT</th>\n      <th>BARCODE</th>\n      <th>SCAN_ID</th>\n      <th>DATE_CREATED</th>\n      <th>SCAN_DATE</th>\n      <th>CELL_ID</th>\n      <th>MASTER_CELL_ID</th>\n      <th>COSMIC_ID</th>\n      <th>CELL_LINE_NAME</th>\n      <th>SANGER_MODEL_ID</th>\n      <th>SEEDING_DENSITY</th>\n      <th>DRUGSET_ID</th>\n      <th>ASSAY</th>\n      <th>DURATION</th>\n      <th>POSITION</th>\n      <th>TAG</th>\n      <th>DRUG_ID</th>\n      <th>CONC</th>\n      <th>INTENSITY</th>\n    </tr>\n  </thead>\n  <tbody>\n    <tr>\n      <th>0</th>\n      <td>Sanger_GDSC1</td>\n      <td>100541</td>\n      <td>1765</td>\n      <td>2010-04-18T23:00:00Z</td>\n      <td>NaN</td>\n      <td>2415</td>\n      <td>365</td>\n      <td>924238</td>\n      <td>K5</td>\n      <td>SIDM00056</td>\n      <td>250.0</td>\n      <td>505_a_5</td>\n      <td>a</td>\n      <td>3.0</td>\n      <td>1</td>\n      <td>B</td>\n      <td>NaN</td>\n      <td>NaN</td>\n      <td>26022</td>\n    </tr>\n    <tr>\n      <th>1</th>\n      <td>Sanger_GDSC1</td>\n      <td>100541</td>\n      <td>1765</td>\n      <td>2010-04-18T23:00:00Z</td>\n      <td>NaN</td>\n      <td>2415</td>\n      <td>365</td>\n      <td>924238</td>\n      <td>K5</td>\n      <td>SIDM00056</td>\n      <td>250.0</td>\n      <td>505_a_5</td>\n      <td>a</td>\n      <td>3.0</td>\n      <td>2</td>\n      <td>B</td>\n      <td>NaN</td>\n      <td>NaN</td>\n      <td>20491</td>\n    </tr>\n    <tr>\n      <th>2</th>\n      <td>Sanger_GDSC1</td>\n      <td>100541</td>\n      <td>1765</td>\n      <td>2010-04-18T23:00:00Z</td>\n      <td>NaN</td>\n      <td>2415</td>\n      <td>365</td>\n      <td>924238</td>\n      <td>K5</td>\n      <td>SIDM00056</td>\n      <td>250.0</td>\n      <td>505_a_5</td>\n      <td>a</td>\n      <td>3.0</td>\n      <td>25</td>\n      <td>B</td>\n      <td>NaN</td>\n      <td>NaN</td>\n      <td>19639</td>\n    </tr>\n    <tr>\n      <th>3</th>\n      <td>Sanger_GDSC1</td>\n      <td>100541</td>\n      <td>1765</td>\n      <td>2010-04-18T23:00:00Z</td>\n      <td>NaN</td>\n      <td>2415</td>\n      <td>365</td>\n      <td>924238</td>\n      <td>K5</td>\n      <td>SIDM00056</td>\n      <td>250.0</td>\n      <td>505_a_5</td>\n      <td>a</td>\n      <td>3.0</td>\n      <td>26</td>\n      <td>B</td>\n      <td>NaN</td>\n      <td>NaN</td>\n      <td>21506</td>\n    </tr>\n    <tr>\n      <th>4</th>\n      <td>Sanger_GDSC1</td>\n      <td>100541</td>\n      <td>1765</td>\n      <td>2010-04-18T23:00:00Z</td>\n      <td>NaN</td>\n      <td>2415</td>\n      <td>365</td>\n      <td>924238</td>\n      <td>K5</td>\n      <td>SIDM00056</td>\n      <td>250.0</td>\n      <td>505_a_5</td>\n      <td>a</td>\n      <td>3.0</td>\n      <td>27</td>\n      <td>NC-0</td>\n      <td>NaN</td>\n      <td>NaN</td>\n      <td>170731</td>\n    </tr>\n    <tr>\n      <th>...</th>\n      <td>...</td>\n      <td>...</td>\n      <td>...</td>\n      <td>...</td>\n      <td>...</td>\n      <td>...</td>\n      <td>...</td>\n      <td>...</td>\n      <td>...</td>\n      <td>...</td>\n      <td>...</td>\n      <td>...</td>\n      <td>...</td>\n      <td>...</td>\n      <td>...</td>\n      <td>...</td>\n      <td>...</td>\n      <td>...</td>\n      <td>...</td>\n    </tr>\n    <tr>\n      <th>4699770</th>\n      <td>MGH_GDSC1</td>\n      <td>026_144_00287710</td>\n      <td>96581</td>\n      <td>2014-08-24T23:00:00Z</td>\n      <td>NaN</td>\n      <td>3344</td>\n      <td>737</td>\n      <td>910706</td>\n      <td>BL-41</td>\n      <td>SIDM00985</td>\n      <td>NaN</td>\n      <td>26_a_7</td>\n      <td>s</td>\n      <td>NaN</td>\n      <td>349</td>\n      <td>NC-0</td>\n      <td>NaN</td>\n      <td>NaN</td>\n      <td>706419</td>\n    </tr>\n    <tr>\n      <th>4699771</th>\n      <td>MGH_GDSC1</td>\n      <td>026_144_00287710</td>\n      <td>96581</td>\n      <td>2014-08-24T23:00:00Z</td>\n      <td>NaN</td>\n      <td>3344</td>\n      <td>737</td>\n      <td>910706</td>\n      <td>BL-41</td>\n      <td>SIDM00985</td>\n      <td>NaN</td>\n      <td>26_a_7</td>\n      <td>s</td>\n      <td>NaN</td>\n      <td>359</td>\n      <td>B</td>\n      <td>NaN</td>\n      <td>NaN</td>\n      <td>38682</td>\n    </tr>\n    <tr>\n      <th>4699772</th>\n      <td>MGH_GDSC1</td>\n      <td>026_144_00287710</td>\n      <td>96581</td>\n      <td>2014-08-24T23:00:00Z</td>\n      <td>NaN</td>\n      <td>3344</td>\n      <td>737</td>\n      <td>910706</td>\n      <td>BL-41</td>\n      <td>SIDM00985</td>\n      <td>NaN</td>\n      <td>26_a_7</td>\n      <td>s</td>\n      <td>NaN</td>\n      <td>360</td>\n      <td>B</td>\n      <td>NaN</td>\n      <td>NaN</td>\n      <td>36097</td>\n    </tr>\n    <tr>\n      <th>4699773</th>\n      <td>MGH_GDSC1</td>\n      <td>026_144_00287710</td>\n      <td>96581</td>\n      <td>2014-08-24T23:00:00Z</td>\n      <td>NaN</td>\n      <td>3344</td>\n      <td>737</td>\n      <td>910706</td>\n      <td>BL-41</td>\n      <td>SIDM00985</td>\n      <td>NaN</td>\n      <td>26_a_7</td>\n      <td>s</td>\n      <td>NaN</td>\n      <td>383</td>\n      <td>B</td>\n      <td>NaN</td>\n      <td>NaN</td>\n      <td>34663</td>\n    </tr>\n    <tr>\n      <th>4699774</th>\n      <td>MGH_GDSC1</td>\n      <td>026_144_00287710</td>\n      <td>96581</td>\n      <td>2014-08-24T23:00:00Z</td>\n      <td>NaN</td>\n      <td>3344</td>\n      <td>737</td>\n      <td>910706</td>\n      <td>BL-41</td>\n      <td>SIDM00985</td>\n      <td>NaN</td>\n      <td>26_a_7</td>\n      <td>s</td>\n      <td>NaN</td>\n      <td>384</td>\n      <td>B</td>\n      <td>NaN</td>\n      <td>NaN</td>\n      <td>33652</td>\n    </tr>\n  </tbody>\n</table>\n<p>4699775 rows × 19 columns</p>\n</div>"
     },
     "execution_count": 7,
     "metadata": {},
     "output_type": "execute_result"
    }
   ],
   "source": [
    "raw_df_with_drugs_only = remove_missing_drugs(raw_df_without_empty_wells)\n",
    "raw_df_with_drugs_only"
   ]
  },
  {
   "cell_type": "code",
   "execution_count": 8,
   "id": "c1a1ffb8-0db3-43ee-9aa6-dc93b85dec2d",
   "metadata": {
    "ExecuteTime": {
     "end_time": "2025-02-05T13:05:27.613733Z",
     "start_time": "2025-02-05T13:04:51.111261Z"
    }
   },
   "outputs": [
    {
     "name": "stderr",
     "output_type": "stream",
     "text": [
      "/var/folders/3x/f8j9tddj7flfxt9zx1gkws1m0000gn/T/ipykernel_39139/3427007905.py:42: UserWarning: This pattern is interpreted as a regular expression, and has match groups. To actually get the groups, use str.extract.\n",
      "  normalized_data = df[df['TAG'].str.contains(r\"(A|L|R)\\d+(-D\\d+)?-(S|C)\")].copy()\n"
     ]
    },
    {
     "data": {
      "text/plain": "        RESEARCH_PROJECT           BARCODE  SCAN_ID          DATE_CREATED  \\\n0           Sanger_GDSC1            100541     1765  2010-04-18T23:00:00Z   \n1           Sanger_GDSC1            100541     1765  2010-04-18T23:00:00Z   \n2           Sanger_GDSC1            100541     1765  2010-04-18T23:00:00Z   \n3           Sanger_GDSC1            100541     1765  2010-04-18T23:00:00Z   \n4           Sanger_GDSC1            100541     1765  2010-04-18T23:00:00Z   \n...                  ...               ...      ...                   ...   \n3179336        MGH_GDSC1  026_144_00287710    96581  2014-08-24T23:00:00Z   \n3179337        MGH_GDSC1  026_144_00287710    96581  2014-08-24T23:00:00Z   \n3179338        MGH_GDSC1  026_144_00287710    96581  2014-08-24T23:00:00Z   \n3179339        MGH_GDSC1  026_144_00287710    96581  2014-08-24T23:00:00Z   \n3179340        MGH_GDSC1  026_144_00287710    96581  2014-08-24T23:00:00Z   \n\n         SCAN_DATE  CELL_ID  MASTER_CELL_ID  COSMIC_ID CELL_LINE_NAME  \\\n0              NaN     2415             365     924238             K5   \n1              NaN     2415             365     924238             K5   \n2              NaN     2415             365     924238             K5   \n3              NaN     2415             365     924238             K5   \n4              NaN     2415             365     924238             K5   \n...            ...      ...             ...        ...            ...   \n3179336        NaN     3344             737     910706          BL-41   \n3179337        NaN     3344             737     910706          BL-41   \n3179338        NaN     3344             737     910706          BL-41   \n3179339        NaN     3344             737     910706          BL-41   \n3179340        NaN     3344             737     910706          BL-41   \n\n        SANGER_MODEL_ID  ...  DRUG_ID_lib      CONC INTENSITY  lib_drug  dose  \\\n0             SIDM00056  ...       1007.0  0.012500     47351        L1    D1   \n1             SIDM00056  ...       1007.0  0.006250     37567        L1    D2   \n2             SIDM00056  ...       1007.0  0.003125     59623        L1    D3   \n3             SIDM00056  ...       1007.0  0.001563     64894        L1    D4   \n4             SIDM00056  ...       1007.0  0.000781     89824        L1    D5   \n...                 ...  ...          ...       ...       ...       ...   ...   \n3179336       SIDM00985  ...        449.0  0.320000    755650       L14    D5   \n3179337       SIDM00985  ...        449.0  0.160000    727575       L14    D6   \n3179338       SIDM00985  ...        449.0  0.080000    739768       L14    D7   \n3179339       SIDM00985  ...        449.0  0.040000    756071       L14    D8   \n3179340       SIDM00985  ...        449.0  0.020000    722532       L14    D9   \n\n        treatment             NC           PC  normalized_intensity  \\\n0               S  148522.285714  24590.46875              0.183654   \n1               S  148522.285714  24590.46875              0.104707   \n2               S  148522.285714  24590.46875              0.282676   \n3               S  148522.285714  24590.46875              0.325207   \n4               S  148522.285714  24590.46875              0.526366   \n...           ...            ...          ...                   ...   \n3179336         S  694180.595238  37323.96875              1.093581   \n3179337         S  694180.595238  37323.96875              1.050840   \n3179338         S  694180.595238  37323.96875              1.069402   \n3179339         S  694180.595238  37323.96875              1.094222   \n3179340         S  694180.595238  37323.96875              1.043162   \n\n        norm_neg_pos  \n0             NC-0+B  \n1             NC-0+B  \n2             NC-0+B  \n3             NC-0+B  \n4             NC-0+B  \n...              ...  \n3179336       NC-0+B  \n3179337       NC-0+B  \n3179338       NC-0+B  \n3179339       NC-0+B  \n3179340       NC-0+B  \n\n[3179341 rows x 26 columns]",
      "text/html": "<div>\n<style scoped>\n    .dataframe tbody tr th:only-of-type {\n        vertical-align: middle;\n    }\n\n    .dataframe tbody tr th {\n        vertical-align: top;\n    }\n\n    .dataframe thead th {\n        text-align: right;\n    }\n</style>\n<table border=\"1\" class=\"dataframe\">\n  <thead>\n    <tr style=\"text-align: right;\">\n      <th></th>\n      <th>RESEARCH_PROJECT</th>\n      <th>BARCODE</th>\n      <th>SCAN_ID</th>\n      <th>DATE_CREATED</th>\n      <th>SCAN_DATE</th>\n      <th>CELL_ID</th>\n      <th>MASTER_CELL_ID</th>\n      <th>COSMIC_ID</th>\n      <th>CELL_LINE_NAME</th>\n      <th>SANGER_MODEL_ID</th>\n      <th>...</th>\n      <th>DRUG_ID_lib</th>\n      <th>CONC</th>\n      <th>INTENSITY</th>\n      <th>lib_drug</th>\n      <th>dose</th>\n      <th>treatment</th>\n      <th>NC</th>\n      <th>PC</th>\n      <th>normalized_intensity</th>\n      <th>norm_neg_pos</th>\n    </tr>\n  </thead>\n  <tbody>\n    <tr>\n      <th>0</th>\n      <td>Sanger_GDSC1</td>\n      <td>100541</td>\n      <td>1765</td>\n      <td>2010-04-18T23:00:00Z</td>\n      <td>NaN</td>\n      <td>2415</td>\n      <td>365</td>\n      <td>924238</td>\n      <td>K5</td>\n      <td>SIDM00056</td>\n      <td>...</td>\n      <td>1007.0</td>\n      <td>0.012500</td>\n      <td>47351</td>\n      <td>L1</td>\n      <td>D1</td>\n      <td>S</td>\n      <td>148522.285714</td>\n      <td>24590.46875</td>\n      <td>0.183654</td>\n      <td>NC-0+B</td>\n    </tr>\n    <tr>\n      <th>1</th>\n      <td>Sanger_GDSC1</td>\n      <td>100541</td>\n      <td>1765</td>\n      <td>2010-04-18T23:00:00Z</td>\n      <td>NaN</td>\n      <td>2415</td>\n      <td>365</td>\n      <td>924238</td>\n      <td>K5</td>\n      <td>SIDM00056</td>\n      <td>...</td>\n      <td>1007.0</td>\n      <td>0.006250</td>\n      <td>37567</td>\n      <td>L1</td>\n      <td>D2</td>\n      <td>S</td>\n      <td>148522.285714</td>\n      <td>24590.46875</td>\n      <td>0.104707</td>\n      <td>NC-0+B</td>\n    </tr>\n    <tr>\n      <th>2</th>\n      <td>Sanger_GDSC1</td>\n      <td>100541</td>\n      <td>1765</td>\n      <td>2010-04-18T23:00:00Z</td>\n      <td>NaN</td>\n      <td>2415</td>\n      <td>365</td>\n      <td>924238</td>\n      <td>K5</td>\n      <td>SIDM00056</td>\n      <td>...</td>\n      <td>1007.0</td>\n      <td>0.003125</td>\n      <td>59623</td>\n      <td>L1</td>\n      <td>D3</td>\n      <td>S</td>\n      <td>148522.285714</td>\n      <td>24590.46875</td>\n      <td>0.282676</td>\n      <td>NC-0+B</td>\n    </tr>\n    <tr>\n      <th>3</th>\n      <td>Sanger_GDSC1</td>\n      <td>100541</td>\n      <td>1765</td>\n      <td>2010-04-18T23:00:00Z</td>\n      <td>NaN</td>\n      <td>2415</td>\n      <td>365</td>\n      <td>924238</td>\n      <td>K5</td>\n      <td>SIDM00056</td>\n      <td>...</td>\n      <td>1007.0</td>\n      <td>0.001563</td>\n      <td>64894</td>\n      <td>L1</td>\n      <td>D4</td>\n      <td>S</td>\n      <td>148522.285714</td>\n      <td>24590.46875</td>\n      <td>0.325207</td>\n      <td>NC-0+B</td>\n    </tr>\n    <tr>\n      <th>4</th>\n      <td>Sanger_GDSC1</td>\n      <td>100541</td>\n      <td>1765</td>\n      <td>2010-04-18T23:00:00Z</td>\n      <td>NaN</td>\n      <td>2415</td>\n      <td>365</td>\n      <td>924238</td>\n      <td>K5</td>\n      <td>SIDM00056</td>\n      <td>...</td>\n      <td>1007.0</td>\n      <td>0.000781</td>\n      <td>89824</td>\n      <td>L1</td>\n      <td>D5</td>\n      <td>S</td>\n      <td>148522.285714</td>\n      <td>24590.46875</td>\n      <td>0.526366</td>\n      <td>NC-0+B</td>\n    </tr>\n    <tr>\n      <th>...</th>\n      <td>...</td>\n      <td>...</td>\n      <td>...</td>\n      <td>...</td>\n      <td>...</td>\n      <td>...</td>\n      <td>...</td>\n      <td>...</td>\n      <td>...</td>\n      <td>...</td>\n      <td>...</td>\n      <td>...</td>\n      <td>...</td>\n      <td>...</td>\n      <td>...</td>\n      <td>...</td>\n      <td>...</td>\n      <td>...</td>\n      <td>...</td>\n      <td>...</td>\n      <td>...</td>\n    </tr>\n    <tr>\n      <th>3179336</th>\n      <td>MGH_GDSC1</td>\n      <td>026_144_00287710</td>\n      <td>96581</td>\n      <td>2014-08-24T23:00:00Z</td>\n      <td>NaN</td>\n      <td>3344</td>\n      <td>737</td>\n      <td>910706</td>\n      <td>BL-41</td>\n      <td>SIDM00985</td>\n      <td>...</td>\n      <td>449.0</td>\n      <td>0.320000</td>\n      <td>755650</td>\n      <td>L14</td>\n      <td>D5</td>\n      <td>S</td>\n      <td>694180.595238</td>\n      <td>37323.96875</td>\n      <td>1.093581</td>\n      <td>NC-0+B</td>\n    </tr>\n    <tr>\n      <th>3179337</th>\n      <td>MGH_GDSC1</td>\n      <td>026_144_00287710</td>\n      <td>96581</td>\n      <td>2014-08-24T23:00:00Z</td>\n      <td>NaN</td>\n      <td>3344</td>\n      <td>737</td>\n      <td>910706</td>\n      <td>BL-41</td>\n      <td>SIDM00985</td>\n      <td>...</td>\n      <td>449.0</td>\n      <td>0.160000</td>\n      <td>727575</td>\n      <td>L14</td>\n      <td>D6</td>\n      <td>S</td>\n      <td>694180.595238</td>\n      <td>37323.96875</td>\n      <td>1.050840</td>\n      <td>NC-0+B</td>\n    </tr>\n    <tr>\n      <th>3179338</th>\n      <td>MGH_GDSC1</td>\n      <td>026_144_00287710</td>\n      <td>96581</td>\n      <td>2014-08-24T23:00:00Z</td>\n      <td>NaN</td>\n      <td>3344</td>\n      <td>737</td>\n      <td>910706</td>\n      <td>BL-41</td>\n      <td>SIDM00985</td>\n      <td>...</td>\n      <td>449.0</td>\n      <td>0.080000</td>\n      <td>739768</td>\n      <td>L14</td>\n      <td>D7</td>\n      <td>S</td>\n      <td>694180.595238</td>\n      <td>37323.96875</td>\n      <td>1.069402</td>\n      <td>NC-0+B</td>\n    </tr>\n    <tr>\n      <th>3179339</th>\n      <td>MGH_GDSC1</td>\n      <td>026_144_00287710</td>\n      <td>96581</td>\n      <td>2014-08-24T23:00:00Z</td>\n      <td>NaN</td>\n      <td>3344</td>\n      <td>737</td>\n      <td>910706</td>\n      <td>BL-41</td>\n      <td>SIDM00985</td>\n      <td>...</td>\n      <td>449.0</td>\n      <td>0.040000</td>\n      <td>756071</td>\n      <td>L14</td>\n      <td>D8</td>\n      <td>S</td>\n      <td>694180.595238</td>\n      <td>37323.96875</td>\n      <td>1.094222</td>\n      <td>NC-0+B</td>\n    </tr>\n    <tr>\n      <th>3179340</th>\n      <td>MGH_GDSC1</td>\n      <td>026_144_00287710</td>\n      <td>96581</td>\n      <td>2014-08-24T23:00:00Z</td>\n      <td>NaN</td>\n      <td>3344</td>\n      <td>737</td>\n      <td>910706</td>\n      <td>BL-41</td>\n      <td>SIDM00985</td>\n      <td>...</td>\n      <td>449.0</td>\n      <td>0.020000</td>\n      <td>722532</td>\n      <td>L14</td>\n      <td>D9</td>\n      <td>S</td>\n      <td>694180.595238</td>\n      <td>37323.96875</td>\n      <td>1.043162</td>\n      <td>NC-0+B</td>\n    </tr>\n  </tbody>\n</table>\n<p>3179341 rows × 26 columns</p>\n</div>"
     },
     "execution_count": 8,
     "metadata": {},
     "output_type": "execute_result"
    }
   ],
   "source": [
    "normalized_df = normalize_data(raw_df_with_drugs_only)\n",
    "normalized_df"
   ]
  },
  {
   "cell_type": "code",
   "execution_count": 9,
   "id": "2cfa9df9-874d-4e99-b395-8484aba9d0d1",
   "metadata": {
    "ExecuteTime": {
     "end_time": "2025-02-05T13:05:27.628752Z",
     "start_time": "2025-02-05T13:05:27.606122Z"
    }
   },
   "outputs": [],
   "source": [
    "normalized_df[\"DRUG_ID_lib\"] = normalized_df[\"DRUG_ID_lib\"].astype(int)"
   ]
  },
  {
   "cell_type": "code",
   "execution_count": 10,
   "id": "f17beffb-b752-412d-b45f-269c0faf6a49",
   "metadata": {
    "ExecuteTime": {
     "end_time": "2025-02-05T13:05:42.937654Z",
     "start_time": "2025-02-05T13:05:27.779662Z"
    }
   },
   "outputs": [
    {
     "data": {
      "text/plain": "        RESEARCH_PROJECT          BARCODE  SCAN_ID          DATE_CREATED  \\\n401498         MGH_GDSC1  018_996_0005436    38508  2010-12-01T00:00:00Z   \n401497         MGH_GDSC1  018_996_0005436    38508  2010-12-01T00:00:00Z   \n401496         MGH_GDSC1  018_996_0005436    38508  2010-12-01T00:00:00Z   \n401495         MGH_GDSC1  018_996_0005436    38508  2010-12-01T00:00:00Z   \n401494         MGH_GDSC1  018_996_0005436    38508  2010-12-01T00:00:00Z   \n...                  ...              ...      ...                   ...   \n1594794     Sanger_GDSC1           117833    65215  2013-04-17T23:00:00Z   \n1594793     Sanger_GDSC1           117833    65215  2013-04-17T23:00:00Z   \n1594792     Sanger_GDSC1           117833    65215  2013-04-17T23:00:00Z   \n1594791     Sanger_GDSC1           117833    65215  2013-04-17T23:00:00Z   \n1594790     Sanger_GDSC1           117833    65215  2013-04-17T23:00:00Z   \n\n         SCAN_DATE  CELL_ID  MASTER_CELL_ID  COSMIC_ID CELL_LINE_NAME  \\\n401498         NaN     3399            1027     924100          22RV1   \n401497         NaN     3399            1027     924100          22RV1   \n401496         NaN     3399            1027     924100          22RV1   \n401495         NaN     3399            1027     924100          22RV1   \n401494         NaN     3399            1027     924100          22RV1   \n...            ...      ...             ...        ...            ...   \n1594794        NaN     2498            1489     908450          no-11   \n1594793        NaN     2498            1489     908450          no-11   \n1594792        NaN     2498            1489     908450          no-11   \n1594791        NaN     2498            1489     908450          no-11   \n1594790        NaN     2498            1489     908450          no-11   \n\n        SANGER_MODEL_ID  ...  lib_drug dose treatment             NC  \\\n401498        SIDM00499  ...        L1   D9         S  523571.761905   \n401497        SIDM00499  ...        L1   D8         S  523571.761905   \n401496        SIDM00499  ...        L1   D7         S  523571.761905   \n401495        SIDM00499  ...        L1   D6         S  523571.761905   \n401494        SIDM00499  ...        L1   D5         S  523571.761905   \n...                 ...  ...       ...  ...       ...            ...   \n1594794       SIDM00573  ...       L37   D5         S  306958.625000   \n1594793       SIDM00573  ...       L37   D4         S  306958.625000   \n1594792       SIDM00573  ...       L37   D3         S  306958.625000   \n1594791       SIDM00573  ...       L37   D2         S  306958.625000   \n1594790       SIDM00573  ...       L37   D1         S  306958.625000   \n\n                 PC normalized_intensity  norm_neg_pos    DRUG_NAME  \\\n401498    6090.5625             0.810815        NC-0+B  Doxorubicin   \n401497    6090.5625             0.986642        NC-0+B  Doxorubicin   \n401496    6090.5625             0.528134        NC-0+B  Doxorubicin   \n401495    6090.5625             0.401125        NC-0+B  Doxorubicin   \n401494    6090.5625             0.257141        NC-0+B  Doxorubicin   \n...             ...                  ...           ...          ...   \n1594794  15128.7500             1.211213        NC-0+B     I-CBP112   \n1594793  15128.7500             1.079692        NC-0+B     I-CBP112   \n1594792  15128.7500             1.023474        NC-0+B     I-CBP112   \n1594791  15128.7500             1.036944        NC-0+B     I-CBP112   \n1594790  15128.7500             1.105097        NC-0+B     I-CBP112   \n\n                                                  SYNONYMS SCREENING_SITE  \n401498   Doxil, Rubex, Adriamycin, Adriablastin, Doxoru...            MGH  \n401497   Doxil, Rubex, Adriamycin, Adriablastin, Doxoru...            MGH  \n401496   Doxil, Rubex, Adriamycin, Adriablastin, Doxoru...            MGH  \n401495   Doxil, Rubex, Adriamycin, Adriablastin, Doxoru...            MGH  \n401494   Doxil, Rubex, Adriamycin, Adriablastin, Doxoru...            MGH  \n...                                                    ...            ...  \n1594794                                                NaN         SANGER  \n1594793                                                NaN         SANGER  \n1594792                                                NaN         SANGER  \n1594791                                                NaN         SANGER  \n1594790                                                NaN         SANGER  \n\n[3179341 rows x 29 columns]",
      "text/html": "<div>\n<style scoped>\n    .dataframe tbody tr th:only-of-type {\n        vertical-align: middle;\n    }\n\n    .dataframe tbody tr th {\n        vertical-align: top;\n    }\n\n    .dataframe thead th {\n        text-align: right;\n    }\n</style>\n<table border=\"1\" class=\"dataframe\">\n  <thead>\n    <tr style=\"text-align: right;\">\n      <th></th>\n      <th>RESEARCH_PROJECT</th>\n      <th>BARCODE</th>\n      <th>SCAN_ID</th>\n      <th>DATE_CREATED</th>\n      <th>SCAN_DATE</th>\n      <th>CELL_ID</th>\n      <th>MASTER_CELL_ID</th>\n      <th>COSMIC_ID</th>\n      <th>CELL_LINE_NAME</th>\n      <th>SANGER_MODEL_ID</th>\n      <th>...</th>\n      <th>lib_drug</th>\n      <th>dose</th>\n      <th>treatment</th>\n      <th>NC</th>\n      <th>PC</th>\n      <th>normalized_intensity</th>\n      <th>norm_neg_pos</th>\n      <th>DRUG_NAME</th>\n      <th>SYNONYMS</th>\n      <th>SCREENING_SITE</th>\n    </tr>\n  </thead>\n  <tbody>\n    <tr>\n      <th>401498</th>\n      <td>MGH_GDSC1</td>\n      <td>018_996_0005436</td>\n      <td>38508</td>\n      <td>2010-12-01T00:00:00Z</td>\n      <td>NaN</td>\n      <td>3399</td>\n      <td>1027</td>\n      <td>924100</td>\n      <td>22RV1</td>\n      <td>SIDM00499</td>\n      <td>...</td>\n      <td>L1</td>\n      <td>D9</td>\n      <td>S</td>\n      <td>523571.761905</td>\n      <td>6090.5625</td>\n      <td>0.810815</td>\n      <td>NC-0+B</td>\n      <td>Doxorubicin</td>\n      <td>Doxil, Rubex, Adriamycin, Adriablastin, Doxoru...</td>\n      <td>MGH</td>\n    </tr>\n    <tr>\n      <th>401497</th>\n      <td>MGH_GDSC1</td>\n      <td>018_996_0005436</td>\n      <td>38508</td>\n      <td>2010-12-01T00:00:00Z</td>\n      <td>NaN</td>\n      <td>3399</td>\n      <td>1027</td>\n      <td>924100</td>\n      <td>22RV1</td>\n      <td>SIDM00499</td>\n      <td>...</td>\n      <td>L1</td>\n      <td>D8</td>\n      <td>S</td>\n      <td>523571.761905</td>\n      <td>6090.5625</td>\n      <td>0.986642</td>\n      <td>NC-0+B</td>\n      <td>Doxorubicin</td>\n      <td>Doxil, Rubex, Adriamycin, Adriablastin, Doxoru...</td>\n      <td>MGH</td>\n    </tr>\n    <tr>\n      <th>401496</th>\n      <td>MGH_GDSC1</td>\n      <td>018_996_0005436</td>\n      <td>38508</td>\n      <td>2010-12-01T00:00:00Z</td>\n      <td>NaN</td>\n      <td>3399</td>\n      <td>1027</td>\n      <td>924100</td>\n      <td>22RV1</td>\n      <td>SIDM00499</td>\n      <td>...</td>\n      <td>L1</td>\n      <td>D7</td>\n      <td>S</td>\n      <td>523571.761905</td>\n      <td>6090.5625</td>\n      <td>0.528134</td>\n      <td>NC-0+B</td>\n      <td>Doxorubicin</td>\n      <td>Doxil, Rubex, Adriamycin, Adriablastin, Doxoru...</td>\n      <td>MGH</td>\n    </tr>\n    <tr>\n      <th>401495</th>\n      <td>MGH_GDSC1</td>\n      <td>018_996_0005436</td>\n      <td>38508</td>\n      <td>2010-12-01T00:00:00Z</td>\n      <td>NaN</td>\n      <td>3399</td>\n      <td>1027</td>\n      <td>924100</td>\n      <td>22RV1</td>\n      <td>SIDM00499</td>\n      <td>...</td>\n      <td>L1</td>\n      <td>D6</td>\n      <td>S</td>\n      <td>523571.761905</td>\n      <td>6090.5625</td>\n      <td>0.401125</td>\n      <td>NC-0+B</td>\n      <td>Doxorubicin</td>\n      <td>Doxil, Rubex, Adriamycin, Adriablastin, Doxoru...</td>\n      <td>MGH</td>\n    </tr>\n    <tr>\n      <th>401494</th>\n      <td>MGH_GDSC1</td>\n      <td>018_996_0005436</td>\n      <td>38508</td>\n      <td>2010-12-01T00:00:00Z</td>\n      <td>NaN</td>\n      <td>3399</td>\n      <td>1027</td>\n      <td>924100</td>\n      <td>22RV1</td>\n      <td>SIDM00499</td>\n      <td>...</td>\n      <td>L1</td>\n      <td>D5</td>\n      <td>S</td>\n      <td>523571.761905</td>\n      <td>6090.5625</td>\n      <td>0.257141</td>\n      <td>NC-0+B</td>\n      <td>Doxorubicin</td>\n      <td>Doxil, Rubex, Adriamycin, Adriablastin, Doxoru...</td>\n      <td>MGH</td>\n    </tr>\n    <tr>\n      <th>...</th>\n      <td>...</td>\n      <td>...</td>\n      <td>...</td>\n      <td>...</td>\n      <td>...</td>\n      <td>...</td>\n      <td>...</td>\n      <td>...</td>\n      <td>...</td>\n      <td>...</td>\n      <td>...</td>\n      <td>...</td>\n      <td>...</td>\n      <td>...</td>\n      <td>...</td>\n      <td>...</td>\n      <td>...</td>\n      <td>...</td>\n      <td>...</td>\n      <td>...</td>\n      <td>...</td>\n    </tr>\n    <tr>\n      <th>1594794</th>\n      <td>Sanger_GDSC1</td>\n      <td>117833</td>\n      <td>65215</td>\n      <td>2013-04-17T23:00:00Z</td>\n      <td>NaN</td>\n      <td>2498</td>\n      <td>1489</td>\n      <td>908450</td>\n      <td>no-11</td>\n      <td>SIDM00573</td>\n      <td>...</td>\n      <td>L37</td>\n      <td>D5</td>\n      <td>S</td>\n      <td>306958.625000</td>\n      <td>15128.7500</td>\n      <td>1.211213</td>\n      <td>NC-0+B</td>\n      <td>I-CBP112</td>\n      <td>NaN</td>\n      <td>SANGER</td>\n    </tr>\n    <tr>\n      <th>1594793</th>\n      <td>Sanger_GDSC1</td>\n      <td>117833</td>\n      <td>65215</td>\n      <td>2013-04-17T23:00:00Z</td>\n      <td>NaN</td>\n      <td>2498</td>\n      <td>1489</td>\n      <td>908450</td>\n      <td>no-11</td>\n      <td>SIDM00573</td>\n      <td>...</td>\n      <td>L37</td>\n      <td>D4</td>\n      <td>S</td>\n      <td>306958.625000</td>\n      <td>15128.7500</td>\n      <td>1.079692</td>\n      <td>NC-0+B</td>\n      <td>I-CBP112</td>\n      <td>NaN</td>\n      <td>SANGER</td>\n    </tr>\n    <tr>\n      <th>1594792</th>\n      <td>Sanger_GDSC1</td>\n      <td>117833</td>\n      <td>65215</td>\n      <td>2013-04-17T23:00:00Z</td>\n      <td>NaN</td>\n      <td>2498</td>\n      <td>1489</td>\n      <td>908450</td>\n      <td>no-11</td>\n      <td>SIDM00573</td>\n      <td>...</td>\n      <td>L37</td>\n      <td>D3</td>\n      <td>S</td>\n      <td>306958.625000</td>\n      <td>15128.7500</td>\n      <td>1.023474</td>\n      <td>NC-0+B</td>\n      <td>I-CBP112</td>\n      <td>NaN</td>\n      <td>SANGER</td>\n    </tr>\n    <tr>\n      <th>1594791</th>\n      <td>Sanger_GDSC1</td>\n      <td>117833</td>\n      <td>65215</td>\n      <td>2013-04-17T23:00:00Z</td>\n      <td>NaN</td>\n      <td>2498</td>\n      <td>1489</td>\n      <td>908450</td>\n      <td>no-11</td>\n      <td>SIDM00573</td>\n      <td>...</td>\n      <td>L37</td>\n      <td>D2</td>\n      <td>S</td>\n      <td>306958.625000</td>\n      <td>15128.7500</td>\n      <td>1.036944</td>\n      <td>NC-0+B</td>\n      <td>I-CBP112</td>\n      <td>NaN</td>\n      <td>SANGER</td>\n    </tr>\n    <tr>\n      <th>1594790</th>\n      <td>Sanger_GDSC1</td>\n      <td>117833</td>\n      <td>65215</td>\n      <td>2013-04-17T23:00:00Z</td>\n      <td>NaN</td>\n      <td>2498</td>\n      <td>1489</td>\n      <td>908450</td>\n      <td>no-11</td>\n      <td>SIDM00573</td>\n      <td>...</td>\n      <td>L37</td>\n      <td>D1</td>\n      <td>S</td>\n      <td>306958.625000</td>\n      <td>15128.7500</td>\n      <td>1.105097</td>\n      <td>NC-0+B</td>\n      <td>I-CBP112</td>\n      <td>NaN</td>\n      <td>SANGER</td>\n    </tr>\n  </tbody>\n</table>\n<p>3179341 rows × 29 columns</p>\n</div>"
     },
     "execution_count": 10,
     "metadata": {},
     "output_type": "execute_result"
    }
   ],
   "source": [
    "formatted_gdsc1 = transform_for_curvecurator(normalized_df, drug_names)\n",
    "formatted_gdsc1"
   ]
  },
  {
   "cell_type": "markdown",
   "id": "4a33000b-83c3-4bde-bf71-e0d266a93f5e",
   "metadata": {},
   "source": [
    "## Creating replicate information"
   ]
  },
  {
   "cell_type": "code",
   "execution_count": 11,
   "id": "91c0ace0-de5a-4e40-b6d7-cca12a3a61e7",
   "metadata": {
    "ExecuteTime": {
     "end_time": "2025-02-05T13:06:35.010096Z",
     "start_time": "2025-02-05T13:06:31.199162Z"
    }
   },
   "outputs": [
    {
     "name": "stderr",
     "output_type": "stream",
     "text": [
      "/var/folders/3x/f8j9tddj7flfxt9zx1gkws1m0000gn/T/ipykernel_39139/761272741.py:2: FutureWarning: The provided callable <built-in function min> is currently using SeriesGroupBy.min. In a future version of pandas, the provided callable will be used directly. To keep current behavior pass the string \"min\" instead.\n",
      "  formatted_gdsc1['mindose'] = formatted_gdsc1.groupby([\"CELL_LINE_NAME\", \"DRUG_NAME\"], as_index=False)['rounddose'].transform(min)\n",
      "/var/folders/3x/f8j9tddj7flfxt9zx1gkws1m0000gn/T/ipykernel_39139/761272741.py:3: FutureWarning: The provided callable <built-in function max> is currently using SeriesGroupBy.max. In a future version of pandas, the provided callable will be used directly. To keep current behavior pass the string \"max\" instead.\n",
      "  formatted_gdsc1['maxdose'] = formatted_gdsc1.groupby([\"CELL_LINE_NAME\", \"DRUG_NAME\"], as_index=False)['rounddose'].transform(max)\n"
     ]
    },
    {
     "data": {
      "text/plain": "        RESEARCH_PROJECT          BARCODE  SCAN_ID          DATE_CREATED  \\\n401498         MGH_GDSC1  018_996_0005436    38508  2010-12-01T00:00:00Z   \n401497         MGH_GDSC1  018_996_0005436    38508  2010-12-01T00:00:00Z   \n401496         MGH_GDSC1  018_996_0005436    38508  2010-12-01T00:00:00Z   \n401495         MGH_GDSC1  018_996_0005436    38508  2010-12-01T00:00:00Z   \n401494         MGH_GDSC1  018_996_0005436    38508  2010-12-01T00:00:00Z   \n...                  ...              ...      ...                   ...   \n1594794     Sanger_GDSC1           117833    65215  2013-04-17T23:00:00Z   \n1594793     Sanger_GDSC1           117833    65215  2013-04-17T23:00:00Z   \n1594792     Sanger_GDSC1           117833    65215  2013-04-17T23:00:00Z   \n1594791     Sanger_GDSC1           117833    65215  2013-04-17T23:00:00Z   \n1594790     Sanger_GDSC1           117833    65215  2013-04-17T23:00:00Z   \n\n         SCAN_DATE  CELL_ID  MASTER_CELL_ID  COSMIC_ID CELL_LINE_NAME  \\\n401498         NaN     3399            1027     924100          22RV1   \n401497         NaN     3399            1027     924100          22RV1   \n401496         NaN     3399            1027     924100          22RV1   \n401495         NaN     3399            1027     924100          22RV1   \n401494         NaN     3399            1027     924100          22RV1   \n...            ...      ...             ...        ...            ...   \n1594794        NaN     2498            1489     908450          no-11   \n1594793        NaN     2498            1489     908450          no-11   \n1594792        NaN     2498            1489     908450          no-11   \n1594791        NaN     2498            1489     908450          no-11   \n1594790        NaN     2498            1489     908450          no-11   \n\n        SANGER_MODEL_ID  ...          PC normalized_intensity norm_neg_pos  \\\n401498        SIDM00499  ...   6090.5625             0.810815       NC-0+B   \n401497        SIDM00499  ...   6090.5625             0.986642       NC-0+B   \n401496        SIDM00499  ...   6090.5625             0.528134       NC-0+B   \n401495        SIDM00499  ...   6090.5625             0.401125       NC-0+B   \n401494        SIDM00499  ...   6090.5625             0.257141       NC-0+B   \n...                 ...  ...         ...                  ...          ...   \n1594794       SIDM00573  ...  15128.7500             1.211213       NC-0+B   \n1594793       SIDM00573  ...  15128.7500             1.079692       NC-0+B   \n1594792       SIDM00573  ...  15128.7500             1.023474       NC-0+B   \n1594791       SIDM00573  ...  15128.7500             1.036944       NC-0+B   \n1594790       SIDM00573  ...  15128.7500             1.105097       NC-0+B   \n\n           DRUG_NAME                                           SYNONYMS  \\\n401498   Doxorubicin  Doxil, Rubex, Adriamycin, Adriablastin, Doxoru...   \n401497   Doxorubicin  Doxil, Rubex, Adriamycin, Adriablastin, Doxoru...   \n401496   Doxorubicin  Doxil, Rubex, Adriamycin, Adriablastin, Doxoru...   \n401495   Doxorubicin  Doxil, Rubex, Adriamycin, Adriablastin, Doxoru...   \n401494   Doxorubicin  Doxil, Rubex, Adriamycin, Adriablastin, Doxoru...   \n...              ...                                                ...   \n1594794     I-CBP112                                                NaN   \n1594793     I-CBP112                                                NaN   \n1594792     I-CBP112                                                NaN   \n1594791     I-CBP112                                                NaN   \n1594790     I-CBP112                                                NaN   \n\n        SCREENING_SITE  rounddose   mindose  maxdose repl  \n401498             MGH   0.004000  0.004000      5.0    0  \n401497             MGH   0.008000  0.004000      5.0    0  \n401496             MGH   0.016000  0.004000      5.0    0  \n401495             MGH   0.032000  0.004000      5.0    0  \n401494             MGH   0.064000  0.004000      5.0    0  \n...                ...        ...       ...      ...  ...  \n1594794         SANGER   0.039062  0.039062     10.0    0  \n1594793         SANGER   0.156250  0.039062     10.0    0  \n1594792         SANGER   0.625000  0.039062     10.0    0  \n1594791         SANGER   2.500000  0.039062     10.0    0  \n1594790         SANGER  10.000000  0.039062     10.0    0  \n\n[3179341 rows x 33 columns]",
      "text/html": "<div>\n<style scoped>\n    .dataframe tbody tr th:only-of-type {\n        vertical-align: middle;\n    }\n\n    .dataframe tbody tr th {\n        vertical-align: top;\n    }\n\n    .dataframe thead th {\n        text-align: right;\n    }\n</style>\n<table border=\"1\" class=\"dataframe\">\n  <thead>\n    <tr style=\"text-align: right;\">\n      <th></th>\n      <th>RESEARCH_PROJECT</th>\n      <th>BARCODE</th>\n      <th>SCAN_ID</th>\n      <th>DATE_CREATED</th>\n      <th>SCAN_DATE</th>\n      <th>CELL_ID</th>\n      <th>MASTER_CELL_ID</th>\n      <th>COSMIC_ID</th>\n      <th>CELL_LINE_NAME</th>\n      <th>SANGER_MODEL_ID</th>\n      <th>...</th>\n      <th>PC</th>\n      <th>normalized_intensity</th>\n      <th>norm_neg_pos</th>\n      <th>DRUG_NAME</th>\n      <th>SYNONYMS</th>\n      <th>SCREENING_SITE</th>\n      <th>rounddose</th>\n      <th>mindose</th>\n      <th>maxdose</th>\n      <th>repl</th>\n    </tr>\n  </thead>\n  <tbody>\n    <tr>\n      <th>401498</th>\n      <td>MGH_GDSC1</td>\n      <td>018_996_0005436</td>\n      <td>38508</td>\n      <td>2010-12-01T00:00:00Z</td>\n      <td>NaN</td>\n      <td>3399</td>\n      <td>1027</td>\n      <td>924100</td>\n      <td>22RV1</td>\n      <td>SIDM00499</td>\n      <td>...</td>\n      <td>6090.5625</td>\n      <td>0.810815</td>\n      <td>NC-0+B</td>\n      <td>Doxorubicin</td>\n      <td>Doxil, Rubex, Adriamycin, Adriablastin, Doxoru...</td>\n      <td>MGH</td>\n      <td>0.004000</td>\n      <td>0.004000</td>\n      <td>5.0</td>\n      <td>0</td>\n    </tr>\n    <tr>\n      <th>401497</th>\n      <td>MGH_GDSC1</td>\n      <td>018_996_0005436</td>\n      <td>38508</td>\n      <td>2010-12-01T00:00:00Z</td>\n      <td>NaN</td>\n      <td>3399</td>\n      <td>1027</td>\n      <td>924100</td>\n      <td>22RV1</td>\n      <td>SIDM00499</td>\n      <td>...</td>\n      <td>6090.5625</td>\n      <td>0.986642</td>\n      <td>NC-0+B</td>\n      <td>Doxorubicin</td>\n      <td>Doxil, Rubex, Adriamycin, Adriablastin, Doxoru...</td>\n      <td>MGH</td>\n      <td>0.008000</td>\n      <td>0.004000</td>\n      <td>5.0</td>\n      <td>0</td>\n    </tr>\n    <tr>\n      <th>401496</th>\n      <td>MGH_GDSC1</td>\n      <td>018_996_0005436</td>\n      <td>38508</td>\n      <td>2010-12-01T00:00:00Z</td>\n      <td>NaN</td>\n      <td>3399</td>\n      <td>1027</td>\n      <td>924100</td>\n      <td>22RV1</td>\n      <td>SIDM00499</td>\n      <td>...</td>\n      <td>6090.5625</td>\n      <td>0.528134</td>\n      <td>NC-0+B</td>\n      <td>Doxorubicin</td>\n      <td>Doxil, Rubex, Adriamycin, Adriablastin, Doxoru...</td>\n      <td>MGH</td>\n      <td>0.016000</td>\n      <td>0.004000</td>\n      <td>5.0</td>\n      <td>0</td>\n    </tr>\n    <tr>\n      <th>401495</th>\n      <td>MGH_GDSC1</td>\n      <td>018_996_0005436</td>\n      <td>38508</td>\n      <td>2010-12-01T00:00:00Z</td>\n      <td>NaN</td>\n      <td>3399</td>\n      <td>1027</td>\n      <td>924100</td>\n      <td>22RV1</td>\n      <td>SIDM00499</td>\n      <td>...</td>\n      <td>6090.5625</td>\n      <td>0.401125</td>\n      <td>NC-0+B</td>\n      <td>Doxorubicin</td>\n      <td>Doxil, Rubex, Adriamycin, Adriablastin, Doxoru...</td>\n      <td>MGH</td>\n      <td>0.032000</td>\n      <td>0.004000</td>\n      <td>5.0</td>\n      <td>0</td>\n    </tr>\n    <tr>\n      <th>401494</th>\n      <td>MGH_GDSC1</td>\n      <td>018_996_0005436</td>\n      <td>38508</td>\n      <td>2010-12-01T00:00:00Z</td>\n      <td>NaN</td>\n      <td>3399</td>\n      <td>1027</td>\n      <td>924100</td>\n      <td>22RV1</td>\n      <td>SIDM00499</td>\n      <td>...</td>\n      <td>6090.5625</td>\n      <td>0.257141</td>\n      <td>NC-0+B</td>\n      <td>Doxorubicin</td>\n      <td>Doxil, Rubex, Adriamycin, Adriablastin, Doxoru...</td>\n      <td>MGH</td>\n      <td>0.064000</td>\n      <td>0.004000</td>\n      <td>5.0</td>\n      <td>0</td>\n    </tr>\n    <tr>\n      <th>...</th>\n      <td>...</td>\n      <td>...</td>\n      <td>...</td>\n      <td>...</td>\n      <td>...</td>\n      <td>...</td>\n      <td>...</td>\n      <td>...</td>\n      <td>...</td>\n      <td>...</td>\n      <td>...</td>\n      <td>...</td>\n      <td>...</td>\n      <td>...</td>\n      <td>...</td>\n      <td>...</td>\n      <td>...</td>\n      <td>...</td>\n      <td>...</td>\n      <td>...</td>\n      <td>...</td>\n    </tr>\n    <tr>\n      <th>1594794</th>\n      <td>Sanger_GDSC1</td>\n      <td>117833</td>\n      <td>65215</td>\n      <td>2013-04-17T23:00:00Z</td>\n      <td>NaN</td>\n      <td>2498</td>\n      <td>1489</td>\n      <td>908450</td>\n      <td>no-11</td>\n      <td>SIDM00573</td>\n      <td>...</td>\n      <td>15128.7500</td>\n      <td>1.211213</td>\n      <td>NC-0+B</td>\n      <td>I-CBP112</td>\n      <td>NaN</td>\n      <td>SANGER</td>\n      <td>0.039062</td>\n      <td>0.039062</td>\n      <td>10.0</td>\n      <td>0</td>\n    </tr>\n    <tr>\n      <th>1594793</th>\n      <td>Sanger_GDSC1</td>\n      <td>117833</td>\n      <td>65215</td>\n      <td>2013-04-17T23:00:00Z</td>\n      <td>NaN</td>\n      <td>2498</td>\n      <td>1489</td>\n      <td>908450</td>\n      <td>no-11</td>\n      <td>SIDM00573</td>\n      <td>...</td>\n      <td>15128.7500</td>\n      <td>1.079692</td>\n      <td>NC-0+B</td>\n      <td>I-CBP112</td>\n      <td>NaN</td>\n      <td>SANGER</td>\n      <td>0.156250</td>\n      <td>0.039062</td>\n      <td>10.0</td>\n      <td>0</td>\n    </tr>\n    <tr>\n      <th>1594792</th>\n      <td>Sanger_GDSC1</td>\n      <td>117833</td>\n      <td>65215</td>\n      <td>2013-04-17T23:00:00Z</td>\n      <td>NaN</td>\n      <td>2498</td>\n      <td>1489</td>\n      <td>908450</td>\n      <td>no-11</td>\n      <td>SIDM00573</td>\n      <td>...</td>\n      <td>15128.7500</td>\n      <td>1.023474</td>\n      <td>NC-0+B</td>\n      <td>I-CBP112</td>\n      <td>NaN</td>\n      <td>SANGER</td>\n      <td>0.625000</td>\n      <td>0.039062</td>\n      <td>10.0</td>\n      <td>0</td>\n    </tr>\n    <tr>\n      <th>1594791</th>\n      <td>Sanger_GDSC1</td>\n      <td>117833</td>\n      <td>65215</td>\n      <td>2013-04-17T23:00:00Z</td>\n      <td>NaN</td>\n      <td>2498</td>\n      <td>1489</td>\n      <td>908450</td>\n      <td>no-11</td>\n      <td>SIDM00573</td>\n      <td>...</td>\n      <td>15128.7500</td>\n      <td>1.036944</td>\n      <td>NC-0+B</td>\n      <td>I-CBP112</td>\n      <td>NaN</td>\n      <td>SANGER</td>\n      <td>2.500000</td>\n      <td>0.039062</td>\n      <td>10.0</td>\n      <td>0</td>\n    </tr>\n    <tr>\n      <th>1594790</th>\n      <td>Sanger_GDSC1</td>\n      <td>117833</td>\n      <td>65215</td>\n      <td>2013-04-17T23:00:00Z</td>\n      <td>NaN</td>\n      <td>2498</td>\n      <td>1489</td>\n      <td>908450</td>\n      <td>no-11</td>\n      <td>SIDM00573</td>\n      <td>...</td>\n      <td>15128.7500</td>\n      <td>1.105097</td>\n      <td>NC-0+B</td>\n      <td>I-CBP112</td>\n      <td>NaN</td>\n      <td>SANGER</td>\n      <td>10.000000</td>\n      <td>0.039062</td>\n      <td>10.0</td>\n      <td>0</td>\n    </tr>\n  </tbody>\n</table>\n<p>3179341 rows × 33 columns</p>\n</div>"
     },
     "execution_count": 11,
     "metadata": {},
     "output_type": "execute_result"
    }
   ],
   "source": [
    "formatted_gdsc1[\"rounddose\"] = formatted_gdsc1[\"CONC\"].round(10)\n",
    "formatted_gdsc1['mindose'] = formatted_gdsc1.groupby([\"CELL_LINE_NAME\", \"DRUG_NAME\"], as_index=False)['rounddose'].transform(min)\n",
    "formatted_gdsc1['maxdose'] = formatted_gdsc1.groupby([\"CELL_LINE_NAME\", \"DRUG_NAME\"], as_index=False)['rounddose'].transform(max)\n",
    "formatted_gdsc1['repl'] = formatted_gdsc1.groupby([\"CELL_LINE_NAME\", \"CELL_ID\", \"DRUG_NAME\", \"lib_drug\",\"rounddose\"]).cumcount()\n",
    "formatted_gdsc1"
   ]
  },
  {
   "cell_type": "code",
   "execution_count": 12,
   "outputs": [],
   "source": [
    "drug_dosages = formatted_gdsc1[[\"CELL_LINE_NAME\", \"DRUG_NAME\", \"mindose\", \"maxdose\"]].drop_duplicates()\n",
    "drug_dosages.to_csv(\"drug_dosages_GDSC1.csv\", index=False)"
   ],
   "metadata": {
    "collapsed": false,
    "ExecuteTime": {
     "end_time": "2025-02-05T13:08:10.998960Z",
     "start_time": "2025-02-05T13:08:09.122488Z"
    }
   },
   "id": "30ba9fa6ca10ec07"
  },
  {
   "cell_type": "code",
   "execution_count": 14,
   "id": "821c72c3-e9d8-4c38-8efb-15579f84a606",
   "metadata": {
    "ExecuteTime": {
     "end_time": "2025-02-04T15:11:20.150322Z",
     "start_time": "2025-02-04T15:11:17.499902Z"
    }
   },
   "outputs": [
    {
     "data": {
      "text/plain": "        CELL_LINE_NAME  CELL_ID     DRUG_NAME lib_drug drugcellrep\n401498           22RV1     3399   Doxorubicin       L1           0\n396539           22RV1     3399     Etoposide      L11           0\n401516           22RV1     3399   Gemcitabine       L3           0\n401534           22RV1     3399   Mitomycin-C       L5           0\n396557           22RV1     3399   Vinorelbine      L13           0\n...                ...      ...           ...      ...         ...\n1594779          no-11     2498   Refametinib      L33           1\n1594769          no-11     2498    Pictilisib      L26           1\n1899519          no-11     2498  Pevonedistat      L42           0\n1594714          no-11     2498         PFI-3      L10           0\n1594794          no-11     2498      I-CBP112      L37           0\n\n[342075 rows x 5 columns]",
      "text/html": "<div>\n<style scoped>\n    .dataframe tbody tr th:only-of-type {\n        vertical-align: middle;\n    }\n\n    .dataframe tbody tr th {\n        vertical-align: top;\n    }\n\n    .dataframe thead th {\n        text-align: right;\n    }\n</style>\n<table border=\"1\" class=\"dataframe\">\n  <thead>\n    <tr style=\"text-align: right;\">\n      <th></th>\n      <th>CELL_LINE_NAME</th>\n      <th>CELL_ID</th>\n      <th>DRUG_NAME</th>\n      <th>lib_drug</th>\n      <th>drugcellrep</th>\n    </tr>\n  </thead>\n  <tbody>\n    <tr>\n      <th>401498</th>\n      <td>22RV1</td>\n      <td>3399</td>\n      <td>Doxorubicin</td>\n      <td>L1</td>\n      <td>0</td>\n    </tr>\n    <tr>\n      <th>396539</th>\n      <td>22RV1</td>\n      <td>3399</td>\n      <td>Etoposide</td>\n      <td>L11</td>\n      <td>0</td>\n    </tr>\n    <tr>\n      <th>401516</th>\n      <td>22RV1</td>\n      <td>3399</td>\n      <td>Gemcitabine</td>\n      <td>L3</td>\n      <td>0</td>\n    </tr>\n    <tr>\n      <th>401534</th>\n      <td>22RV1</td>\n      <td>3399</td>\n      <td>Mitomycin-C</td>\n      <td>L5</td>\n      <td>0</td>\n    </tr>\n    <tr>\n      <th>396557</th>\n      <td>22RV1</td>\n      <td>3399</td>\n      <td>Vinorelbine</td>\n      <td>L13</td>\n      <td>0</td>\n    </tr>\n    <tr>\n      <th>...</th>\n      <td>...</td>\n      <td>...</td>\n      <td>...</td>\n      <td>...</td>\n      <td>...</td>\n    </tr>\n    <tr>\n      <th>1594779</th>\n      <td>no-11</td>\n      <td>2498</td>\n      <td>Refametinib</td>\n      <td>L33</td>\n      <td>1</td>\n    </tr>\n    <tr>\n      <th>1594769</th>\n      <td>no-11</td>\n      <td>2498</td>\n      <td>Pictilisib</td>\n      <td>L26</td>\n      <td>1</td>\n    </tr>\n    <tr>\n      <th>1899519</th>\n      <td>no-11</td>\n      <td>2498</td>\n      <td>Pevonedistat</td>\n      <td>L42</td>\n      <td>0</td>\n    </tr>\n    <tr>\n      <th>1594714</th>\n      <td>no-11</td>\n      <td>2498</td>\n      <td>PFI-3</td>\n      <td>L10</td>\n      <td>0</td>\n    </tr>\n    <tr>\n      <th>1594794</th>\n      <td>no-11</td>\n      <td>2498</td>\n      <td>I-CBP112</td>\n      <td>L37</td>\n      <td>0</td>\n    </tr>\n  </tbody>\n</table>\n<p>342075 rows × 5 columns</p>\n</div>"
     },
     "execution_count": 14,
     "metadata": {},
     "output_type": "execute_result"
    }
   ],
   "source": [
    "unique_celldrugcombos = formatted_gdsc1[[\"CELL_LINE_NAME\", \"CELL_ID\", \"DRUG_NAME\", \"lib_drug\"]].drop_duplicates()\n",
    "unique_celldrugcombos[\"drugcellrep\"] = unique_celldrugcombos.groupby([\"CELL_LINE_NAME\", \"DRUG_NAME\"], as_index=True).cumcount().astype(str)\n",
    "unique_celldrugcombos"
   ]
  },
  {
   "cell_type": "code",
   "execution_count": 15,
   "id": "890bec36-e540-4690-9595-c80da8d5c6c3",
   "metadata": {
    "ExecuteTime": {
     "end_time": "2025-02-04T15:11:24.061937Z",
     "start_time": "2025-02-04T15:11:20.159741Z"
    }
   },
   "outputs": [],
   "source": [
    "formatted_gdsc1 = formatted_gdsc1.merge(unique_celldrugcombos, on=[\"CELL_LINE_NAME\", \"CELL_ID\", \"DRUG_NAME\", \"lib_drug\"])"
   ]
  },
  {
   "cell_type": "code",
   "execution_count": 16,
   "id": "2a57e2c4-5f0f-454d-8169-8c59d03b6bd4",
   "metadata": {
    "ExecuteTime": {
     "end_time": "2025-02-04T15:11:50.337048Z",
     "start_time": "2025-02-04T15:11:24.065391Z"
    }
   },
   "outputs": [],
   "source": [
    "formatted_gdsc1['replicate'] = pd.factorize(formatted_gdsc1[[\"repl\", \"drugcellrep\"]].apply(tuple, axis=1))[0]\n",
    "formatted_gdsc1['replicate'] = formatted_gdsc1.groupby([\"CELL_LINE_NAME\", \"DRUG_NAME\"])[\"replicate\"].transform(lambda x: pd.factorize(x)[0])\n",
    "formatted_gdsc1['nreplicates'] = formatted_gdsc1.groupby([\"CELL_LINE_NAME\", \"DRUG_NAME\"])[\"replicate\"].transform('max')"
   ]
  },
  {
   "cell_type": "markdown",
   "id": "4f86dd1e-5838-476a-97a9-18aeb3f2898f",
   "metadata": {},
   "source": [
    "## Drugname to PubChem mapping"
   ]
  },
  {
   "cell_type": "code",
   "execution_count": 15,
   "id": "dffa0c93-4c11-4b9a-977f-82d741e8c8fd",
   "metadata": {},
   "outputs": [],
   "source": [
    "filtered_gdsc1_drugs = drug_names.merge(formatted_gdsc1[['DRUG_ID', 'DRUG_NAME']].drop_duplicates(), on=[\"DRUG_ID\", \"DRUG_NAME\"], how='right').drop(columns=['DRUG_ID']).drop_duplicates().set_index(\"DRUG_NAME\")"
   ]
  },
  {
   "cell_type": "code",
   "execution_count": 16,
   "id": "87a689db-428b-4a5c-803f-dc9100234aa4",
   "metadata": {},
   "outputs": [],
   "source": [
    "filtered_gdsc1_drugs.SYNONYMS.fillna('', inplace=True)"
   ]
  },
  {
   "cell_type": "code",
   "execution_count": 17,
   "id": "96b6689c-688b-45dc-9c3d-9b4e20c451c9",
   "metadata": {},
   "outputs": [
    {
     "name": "stdout",
     "output_type": "stream",
     "text": [
      "0 / 396\n",
      "10 / 396\n",
      "20 / 396\n",
      "30 / 396\n",
      "40 / 396\n",
      "50 / 396\n",
      "60 / 396\n",
      "70 / 396\n",
      "80 / 396\n",
      "90 / 396\n",
      "100 / 396\n",
      "110 / 396\n",
      "120 / 396\n",
      "130 / 396\n",
      "140 / 396\n",
      "150 / 396\n",
      "160 / 396\n",
      "170 / 396\n",
      "180 / 396\n",
      "190 / 396\n",
      "200 / 396\n",
      "210 / 396\n",
      "220 / 396\n",
      "230 / 396\n",
      "240 / 396\n",
      "250 / 396\n",
      "260 / 396\n",
      "270 / 396\n",
      "280 / 396\n",
      "290 / 396\n",
      "300 / 396\n",
      "310 / 396\n",
      "320 / 396\n",
      "330 / 396\n",
      "340 / 396\n",
      "350 / 396\n",
      "360 / 396\n",
      "370 / 396\n",
      "380 / 396\n",
      "390 / 396\n"
     ]
    }
   ],
   "source": [
    "results = {}\n",
    "chembls = {}\n",
    "manual_review = {}\n",
    "inchis = {}\n",
    "i = 0\n",
    "for brd, vals in filtered_gdsc1_drugs.iterrows():\n",
    "    if i % 10 == 0:\n",
    "        print(i, '/', len(filtered_gdsc1_drugs))\n",
    "   \n",
    "    compounds = pcp.get_compounds(identifier=brd, namespace=\"name\")\n",
    "    if len(compounds) == 0:\n",
    "        if vals[\"SYNONYMS\"]:\n",
    "            syns = vals[\"SYNONYMS\"].split(', ')\n",
    "            syncompounds = []\n",
    "            for syn in syns:\n",
    "                syncompounds.extend(pcp.get_compounds(identifier=brd, namespace=\"name\"))\n",
    "            if len(syncompounds) > 0:\n",
    "                manual_review[brd] = syncompounds\n",
    "            else:\n",
    "                manual_review[brd] = [compounds]\n",
    "        else:\n",
    "            manual_review[brd] = [compounds]\n",
    "    else:\n",
    "        results[brd] = compounds[0].cid\n",
    "        #print(dir(compounds[0]))\n",
    "        inchis = compounds[0].inchi\n",
    "        chembl = None\n",
    "        for syn in compounds[0].synonyms or []:\n",
    "            if syn.startswith(\"CHEMBL\"):\n",
    "                chembl = syn\n",
    "                break\n",
    "        chembls[brd] = chembl\n",
    "    i += 1"
   ]
  },
  {
   "cell_type": "markdown",
   "id": "7e2ca055-9d47-480e-8bb7-113acb20ff81",
   "metadata": {},
   "source": [
    "### Checking results"
   ]
  },
  {
   "cell_type": "code",
   "execution_count": 18,
   "id": "1f7fc6d4-7bc6-41df-98d4-4ac2f80d1339",
   "metadata": {},
   "outputs": [
    {
     "data": {
      "text/plain": [
       "(304, 74)"
      ]
     },
     "execution_count": 18,
     "metadata": {},
     "output_type": "execute_result"
    }
   ],
   "source": [
    "len(results), len(manual_review)"
   ]
  },
  {
   "cell_type": "code",
   "execution_count": 19,
   "id": "b69c0abe-67ad-4d32-a035-c93a8ab8c9c4",
   "metadata": {},
   "outputs": [],
   "source": [
    "manual_review |= {brd: cid for brd, cid in results.items() if cid is None}"
   ]
  },
  {
   "cell_type": "code",
   "execution_count": 20,
   "id": "eeee2642-f02a-4fbf-91a8-665c85568f28",
   "metadata": {},
   "outputs": [],
   "source": [
    "manual_review['965-D2']='GDSC_965-D2'\n",
    "manual_review['993-D2']='GDSC_993-D2'\n",
    "manual_review['AZD7969']='AZD7969'\n",
    "manual_review['BAY ACCi']='BAY ACCi'\n",
    "manual_review['BAY AKT1']='BAY AKT1'\n",
    "manual_review['BAY-HDAC11_1']='BAY-HDAC11_1'\n",
    "manual_review['BAY-HDAC11_2']='BAY-HDAC11_2'\n",
    "manual_review['BAY-HDAC11_4']='BAY-HDAC11_4'\n",
    "manual_review['BAY-MPS-combo 2 (paclitaxel 1 uM)']='36314_baympscombo2'  # these are modified on purpose to distinguish them from just 'Paclitaxel'\n",
    "manual_review['BAY-MPS-combo-1 (paclitaxel 5 uM)']='36314_baympscombo1'  # these are modified on purpose to distinguish them from just 'Paclitaxel'\n",
    "manual_review['BAY-MPS1']='BAY-MPS1'\n",
    "manual_review['Bleomycin (10 uM)']='5360373_10uM'  # these are modified on purpose to distinguish them from just 'Bleomycin'\n",
    "manual_review['Bleomycin (50 uM)']='5360373_50uM'  # these are modified on purpose to distinguish them from just 'Bleomycin'\n",
    "manual_review['Brivanib, BMS-540215']='11234052'\n",
    "manual_review['CAP-232, TT-232, TLN-232']='6918265'\n",
    "manual_review['CCT245467']='CCT245467'\n",
    "manual_review['CRT0105446']='117918919'\n",
    "manual_review['CRT0160829']='CRT0160829'\n",
    "manual_review['Cetuximab'] = 'Cetuximab'\n",
    "manual_review['Dyrk1b_0191']='Dyrk1b_0191'\n",
    "manual_review['EphB4_9721']='EphB4_9721'\n",
    "\n",
    "manual_review['FEN1_3940']='FEN1_3940'\n",
    "manual_review['FGFR_0939']='FGFR_0939'\n",
    "manual_review['FGFR_3831']='FGFR_3831'\n",
    "\n",
    "manual_review['FS106']='FS106'\n",
    "manual_review['FS112']='FS112'\n",
    "manual_review['FY012']='FY012'\n",
    "manual_review['FY026']='FY026'\n",
    "manual_review['FY069']='FY069'\n",
    "manual_review['Genentech Cpd 10']='Genentech Cpd 10'\n",
    "manual_review['IAP_5620']='IAP_5620'\n",
    "manual_review['IAP_7638']='IAP_7638'\n",
    "manual_review['ICL1100013']='ICL1100013'\n",
    "manual_review['IGFR_3801']='IGFR_3801'\n",
    "manual_review['JAK1_3715']='JAK1_3715'\n",
    "manual_review['JAK3_7406']='JAK3_7406'\n",
    "manual_review['JNK-9L']='JNK-9L'\n",
    "\n",
    "manual_review['KIN001-042']='KIN001-042'\n",
    "manual_review['KIN001-236']='KIN001-236'\n",
    "manual_review['KIN001-260']='KIN001-260'\n",
    "\n",
    "\n",
    "manual_review['MCT1_6447']='MCT1_6447'\n",
    "manual_review['MCT4_1422']='MCT4_1422'\n",
    "\n",
    "manual_review['MPS-1-IN-1']='25195352'\n",
    "\n",
    "manual_review['MetAP2 Inhibitor, A832234']='MetAP2 Inhibitor, A832234'\n",
    "manual_review['N22899-6-C1']='N22899-6-C1'\n",
    "manual_review['N23918-95-7']='N23918-95-7'\n",
    "manual_review['N24798-49-A1']='N24798-49-A1'\n",
    "manual_review['Nutlin-3a (-)'] = '11433190'\n",
    "\n",
    "manual_review['PARP_0108']='PARP_0108'\n",
    "manual_review['PARP_9482']='PARP_9482'\n",
    "manual_review['PARP_9495']='PARP_9495'\n",
    "\n",
    "manual_review['PI3Ka_4409']='PI3Ka_4409'\n",
    "manual_review['PLK_6522']='PLK_6522'\n",
    "\n",
    "\n",
    "\n",
    "manual_review['QL-VIII-58']= '58525121'  # via lincs with SMILES identity search\n",
    "manual_review['QL-XII-61']= '71576693'  # via lincs with SMILES identity search\n",
    "\n",
    "manual_review['RAF_9304']='RAF_9304'\n",
    "manual_review['TANK_1366']='TANK_1366'\n",
    "\n",
    "manual_review['THZ-2-102-1']='THZ-2-102-1'\n",
    "manual_review['THZ-2-49']='THZ-2-49'\n",
    "manual_review['TL-1-85']='TL-1-85'\n",
    "manual_review['TL-2-105']='TL-2-105'\n",
    "\n",
    "manual_review['TTK_3146']='TTK_3146'\n",
    "manual_review['Venotoclax']='49846579'\n",
    "\n",
    "manual_review['XMD15-27']='XMD15-27'\n",
    "\n",
    "manual_review['ZL049']='ZL049'\n",
    "manual_review['ZL109']='ZL109'\n",
    "\n",
    "manual_review['eEF2K Inhibitor, A-484954']='14998470'\n",
    "\n",
    "manual_review['rTRAIL']='rTRAIL'\n",
    "manual_review['JW-7-52-1']='25200142'\n",
    "manual_review['1205']='GDSC_1205'\n",
    "manual_review['HG-6-71-01']='HG-6-71-01'\n",
    "manual_review['THZ-1-87']='THZ-1-87'\n",
    "manual_review['THZ-2-98-01']='THZ-2-98-01'\n",
    "\n",
    "manual_review['XMD11-50']='46843906'  # via lincs with SMILES identity search"
   ]
  },
  {
   "cell_type": "code",
   "execution_count": 21,
   "id": "c70ff2d1-1d3e-4673-a3c2-9d71a57a0e85",
   "metadata": {},
   "outputs": [
    {
     "data": {
      "text/plain": [
       "Doxorubicin          31703\n",
       "Etoposide            36462\n",
       "Gemcitabine          60750\n",
       "Mitomycin-C           5746\n",
       "Vinorelbine        5311497\n",
       "                  ...     \n",
       "THZ-1-87          THZ-1-87\n",
       "XMD11-50          46843906\n",
       "THZ-2-98-01    THZ-2-98-01\n",
       "HG-6-71-01      HG-6-71-01\n",
       "1205             GDSC_1205\n",
       "Name: CID, Length: 378, dtype: object"
      ]
     },
     "execution_count": 21,
     "metadata": {},
     "output_type": "execute_result"
    }
   ],
   "source": [
    "# convert integer CIDs to strings, and in case of multitreatment the list to a comma separated string\n",
    "def sanitize(val):\n",
    "    if isinstance(val, int):\n",
    "        return str(val)\n",
    "    if isinstance(val, list):\n",
    "        return ','.join([str(i) for i in val])\n",
    "    return val\n",
    "\n",
    "cids = pd.Series(results | manual_review, name=\"CID\").apply(sanitize).astype(str)\n",
    "cids"
   ]
  },
  {
   "cell_type": "code",
   "execution_count": 50,
   "id": "9878e8ff-cf03-492b-8961-aead852f0e1a",
   "metadata": {},
   "outputs": [],
   "source": [
    "cids[\"ETP-45835\"] = 71755761  # fix this manually as the 46937430 ID points to the 2HCl version"
   ]
  },
  {
   "cell_type": "code",
   "execution_count": 51,
   "id": "e90ddedb-f1f8-42ac-9401-0a50d5a30f47",
   "metadata": {},
   "outputs": [
    {
     "data": {
      "text/plain": [
       "Doxorubicin      CHEMBL53463\n",
       "Etoposide        CHEMBL44657\n",
       "Gemcitabine        CHEMBL888\n",
       "Mitomycin-C        CHEMBL105\n",
       "Vinorelbine     CHEMBL553025\n",
       "                   ...      \n",
       "Bortezomib      CHEMBL325041\n",
       "XMD8-85        CHEMBL1673039\n",
       "Seliciclib       CHEMBL14762\n",
       "Salubrinal      CHEMBL180127\n",
       "Lapatinib          CHEMBL554\n",
       "Name: CHEMBL, Length: 304, dtype: object"
      ]
     },
     "execution_count": 51,
     "metadata": {},
     "output_type": "execute_result"
    }
   ],
   "source": [
    "chembls = pd.Series(chembls, name=\"CHEMBL\")\n",
    "chembls"
   ]
  },
  {
   "cell_type": "markdown",
   "id": "d5ae8b0d-f98e-408c-9d24-1d2eb163b5df",
   "metadata": {},
   "source": [
    "## Cell line name to Cellosaurus Mapping"
   ]
  },
  {
   "cell_type": "code",
   "execution_count": 17,
   "id": "4de63423-f334-47ae-b88f-298f708ba2d0",
   "metadata": {
    "ExecuteTime": {
     "end_time": "2025-02-04T15:12:15.430833Z",
     "start_time": "2025-02-04T15:12:15.373154Z"
    }
   },
   "outputs": [],
   "source": [
    "# Download Cellosaurus data in OBO format\n",
    "#url = \"ftp://ftp.expasy.org/databases/cellosaurus/cellosaurus.txt\"\n",
    "#filename = \"cellosaurus.txt\"\n",
    "#urllib.request.urlretrieve(url, filename)\n",
    "filename = \"../../mapping/cellosaurus.txt\""
   ]
  },
  {
   "cell_type": "code",
   "execution_count": 18,
   "id": "60747b60-97a1-4329-b013-74afee814b68",
   "metadata": {
    "ExecuteTime": {
     "end_time": "2025-02-04T15:12:29.401423Z",
     "start_time": "2025-02-04T15:12:26.983533Z"
    }
   },
   "outputs": [],
   "source": [
    "cl_mappings = {}\n",
    "btos = {}\n",
    "with open(filename) as handle:\n",
    "    records = cellosaurus.parse(handle)\n",
    "    for record in records:\n",
    "        if 'Homo sapiens' in record['OX'][0]:\n",
    "            if record[\"ID\"] not in cl_mappings:\n",
    "                cl_mappings[record[\"ID\"]] = []\n",
    "            cl_mappings[record[\"ID\"]].append(record[\"AC\"])\n",
    "            syns = record[\"SY\"].split(\"; \")\n",
    "            for syn in syns:\n",
    "                if syn == '':\n",
    "                    continue\n",
    "                if syn not in cl_mappings:\n",
    "                    cl_mappings[syn] = []\n",
    "                cl_mappings[syn].append(record[\"AC\"])\n",
    "            for a, b in record[\"DR\"]:\n",
    "                if a == 'BTO':\n",
    "                    if record[\"AC\"] not in btos:\n",
    "                        btos[record[\"AC\"]] = []\n",
    "                    btos[record[\"AC\"]].append(b)"
   ]
  },
  {
   "cell_type": "code",
   "execution_count": 19,
   "id": "75e328ed-9cb1-4abd-8748-478b7ab78cf0",
   "metadata": {
    "ExecuteTime": {
     "end_time": "2025-02-04T15:12:29.514622Z",
     "start_time": "2025-02-04T15:12:29.451683Z"
    }
   },
   "outputs": [],
   "source": [
    "ccls = formatted_gdsc1[\"CELL_LINE_NAME\"].unique()\n",
    "mappings = {}\n",
    "manual_checks = {}\n",
    "for ccl in ccls:\n",
    "    cellosaurus_ids = cl_mappings.get(ccl, [])\n",
    "    if len(cellosaurus_ids) == 1:\n",
    "        mappings[ccl] = cellosaurus_ids[0]\n",
    "    else:\n",
    "        manual_checks[ccl] = cellosaurus_ids"
   ]
  },
  {
   "cell_type": "code",
   "execution_count": 20,
   "id": "ef3a8daa-06fc-4e79-bb52-cfaedd27c18d",
   "metadata": {
    "ExecuteTime": {
     "end_time": "2025-02-04T15:12:29.519899Z",
     "start_time": "2025-02-04T15:12:29.516595Z"
    }
   },
   "outputs": [
    {
     "name": "stdout",
     "output_type": "stream",
     "text": [
      "CCLs: 970 matches: 936 ambiguous: 34\n"
     ]
    }
   ],
   "source": [
    "print(\"CCLs:\", len(ccls), \"matches:\", len(mappings), \"ambiguous:\", len(manual_checks))"
   ]
  },
  {
   "cell_type": "code",
   "execution_count": 21,
   "id": "357c3e15-debc-4308-89ee-80b9f8c4a82d",
   "metadata": {
    "ExecuteTime": {
     "end_time": "2025-02-04T15:12:29.543043Z",
     "start_time": "2025-02-04T15:12:29.522120Z"
    }
   },
   "outputs": [
    {
     "data": {
      "text/plain": "{'697': ['CVCL_0079', 'CVCL_8056'],\n 'ES-2': ['CVCL_3509', 'CVCL_AX39', 'CVCL_C769'],\n 'ES4': ['CVCL_1200', 'CVCL_C771'],\n 'ES5': ['CVCL_1201', 'CVCL_C772'],\n 'ES6': ['CVCL_1202', 'CVCL_C773'],\n 'ES7': ['CVCL_1203', 'CVCL_C774'],\n 'ES8': ['CVCL_1204', 'CVCL_C775'],\n 'G-292-Clone-A141B1': [],\n 'H4': ['CVCL_6C19', 'CVCL_1239', 'CVCL_HA56'],\n 'H9': ['CVCL_1240', 'CVCL_9773'],\n 'HARA': [],\n 'HH': [],\n 'Hep3B2-1-7': [],\n 'Hs-633T': [],\n 'K2': ['CVCL_C8AN', 'CVCL_C7JZ'],\n 'K5': ['CVCL_1322', 'CVCL_C8B0'],\n 'KG-1': ['CVCL_0374', 'CVCL_2971'],\n 'KS-1': [],\n 'M14': ['CVCL_1395', 'CVCL_8102', 'CVCL_U345'],\n 'ML-1': [],\n 'MS-1': [],\n 'NB1': ['CVCL_1440', 'CVCL_8812'],\n 'NB4': ['CVCL_0005', 'CVCL_8821'],\n 'NOS-1': [],\n 'NTERA-2-cl-D1': [],\n 'OMC-1': [],\n 'PC-3': ['CVCL_4011', 'CVCL_0035', 'CVCL_S982'],\n 'PC-3_[JPC-3]': [],\n 'RCM-1': [],\n 'RH-1': ['CVCL_E3SB', 'CVCL_C355'],\n 'SAT': [],\n 'TK': [],\n 'TT': ['CVCL_3174', 'CVCL_1774'],\n 'U-87-MG': ['CVCL_0022', 'CVCL_GP63']}"
     },
     "execution_count": 21,
     "metadata": {},
     "output_type": "execute_result"
    }
   ],
   "source": [
    "manual_checks"
   ]
  },
  {
   "cell_type": "code",
   "execution_count": 22,
   "id": "a95223d1-5de4-405e-99f1-3695813c50b0",
   "metadata": {
    "ExecuteTime": {
     "end_time": "2025-02-04T15:12:37.549440Z",
     "start_time": "2025-02-04T15:12:37.493116Z"
    }
   },
   "outputs": [],
   "source": [
    "manual_checks[\"697\"] = 'CVCL_0079'  # according to cellmodelpassports mapping file and matching GDSC link on cellosaurus\n",
    "manual_checks[\"ES-2\"] = 'CVCL_3509'  # this is ES-2, according to cellmodelpassports mapping file and matching GDSC link on cellosaurus\n",
    "manual_checks[\"ES4\"] = 'CVCL_1200'  # this is ES-4, according to matching GDSC link on cellosaurus\n",
    "manual_checks[\"ES5\"] = 'CVCL_1201'  # this is ES-5, according to matching GDSC link on cellosaurus\n",
    "manual_checks[\"ES6\"] = 'CVCL_1202'  # this is ES-6, according to matching GDSC link on cellosaurus\n",
    "manual_checks[\"ES7\"] = 'CVCL_1203'  # this is ES-7, according to matching GDSC link on cellosaurus\n",
    "manual_checks[\"ES8\"] = 'CVCL_1204'  # this is ES-8, according to matching GDSC link on cellosaurus\n",
    "manual_checks[\"G-292-Clone-A141B1\"] = 'CVCL_2909'  # this is G-292 clone A141B1 according to matching GDSC link on cellosaurus\n",
    "manual_checks[\"H4\"] = 'CVCL_1239'  # this is H-4, according to matching GDSC link on cellosaurus\n",
    "manual_checks[\"H9\"] = 'CVCL_1240'  # this is H-9, according to matching GDSC link on cellosaurus\n",
    "manual_checks[\"HARA\"] = 'CVCL_2914'  # this is HARA [Human squamous cell lung carcinoma], according to matching GDSC link on cellosaurus\n",
    "manual_checks[\"HH\"] = 'CVCL_1280'    # this is HH [Human Lymphoma], according to cellmodelpassports mapping file and matching GDSC link on cellosaurus\n",
    "manual_checks[\"Hep3B2-1-7\"] = 'CVCL_0326'    # this is Hep 3B2.1-7, according to matching GDSC link on cellosaurus\n",
    "manual_checks[\"Hs-633T\"] = 'CVCL_0832'    # this is Hs 633.T, according to matching GDSC link on cellosaurus\n",
    "\n",
    "manual_checks[\"K2\"] = 'CVCL_AT85'  # this is K2 [Human melanoma], according to matching GDSC link on cellosaurus\n",
    "manual_checks[\"K5\"] = 'CVCL_1322'  # this is K5, according to matching GDSC link on cellosaurus\n",
    "manual_checks[\"KG-1\"] = 'CVCL_0374'  # this is KG-1, according to matching GDSC link on cellosaurus\n",
    "manual_checks[\"KS-1\"] = 'CVCL_1343'  # this is KS-1 [Human glioblastoma], according to matching GDSC link on cellosaurus\n",
    "\n",
    "manual_checks[\"M14\"] = 'CVCL_1395'  # this is M14, according to matching GDSC link on cellosaurus\n",
    "manual_checks[\"ML-1\"] = 'CVCL_H525'  # this is ML-1 [Human thyroid carcinoma], according to matching GDSC link on cellosaurus\n",
    "manual_checks[\"MS-1\"] = 'CVCL_1429'  # this is MS-1 [Human lung carcinoma], according to matching GDSC link on cellosaurus\n",
    "manual_checks[\"NB1\"] = 'CVCL_1440'  # this is NB1, according to matching GDSC link on cellosaurus\n",
    "manual_checks[\"NB4\"] = 'CVCL_0005'  # this is NB4, according to matching GDSC link on cellosaurus\n",
    "manual_checks[\"NOS-1\"] = 'CVCL_1610'  # this is NOS-1 [Human osteosarcoma], according to matching GDSC link on cellosaurus\n",
    "manual_checks[\"NTERA-2-cl-D1\"] = 'CVCL_3407'  # this is NT2-D1, according to matching GDSC link on cellosaurus\n",
    "\n",
    "manual_checks[\"OMC-1\"] = 'CVCL_1623'  # this is OMC-1 [Human cervical carcinoma], according to matching GDSC link on cellosaurus\n",
    "manual_checks[\"PC-3\"] = 'CVCL_0035'  # this is PC-3, according to matching GDSC link on cellosaurus\n",
    "manual_checks[\"PC-3_[JPC-3]\"] = 'CVCL_S982'  # this is PC-3 [Human lung carcinoma], according to matching GDSC link on cellosaurus\n",
    "manual_checks[\"RCM-1\"] = 'CVCL_1648'  # this is RCM-1 [Human rectal adenocarcinoma], according to matching GDSC link on cellosaurus\n",
    "manual_checks[\"SAT\"] = 'CVCL_3160'  # this is SAT [Human HNSCC], according to matching GDSC link on cellosaurus\n",
    "manual_checks[\"TK\"] = 'CVCL_3216'  # this is TK [Human B-cell lymphoma], according to matching GDSC link on cellosaurus\n",
    "manual_checks[\"TT\"] = 'CVCL_1774'  # this is TT, according to matching GDSC link on cellosaurus\n",
    "manual_checks[\"U-87-MG\"] = 'CVCL_0022'  # this is U-87MG ATCC, according to matching GDSC link on cellosaurus\n",
    "\n"
   ]
  },
  {
   "cell_type": "code",
   "execution_count": 24,
   "id": "b9a4d08a-e0fe-4055-8a92-f3507c7b592b",
   "metadata": {
    "ExecuteTime": {
     "end_time": "2025-02-04T15:14:54.410290Z",
     "start_time": "2025-02-04T15:14:53.827985Z"
    }
   },
   "outputs": [
    {
     "ename": "TypeError",
     "evalue": "unhashable type: 'list'",
     "output_type": "error",
     "traceback": [
      "\u001B[0;31m---------------------------------------------------------------------------\u001B[0m",
      "\u001B[0;31mTypeError\u001B[0m                                 Traceback (most recent call last)",
      "Cell \u001B[0;32mIn[24], line 3\u001B[0m\n\u001B[1;32m      1\u001B[0m rev_mapping \u001B[38;5;241m=\u001B[39m {}\n\u001B[1;32m      2\u001B[0m \u001B[38;5;28;01mfor\u001B[39;00m key, val \u001B[38;5;129;01min\u001B[39;00m (mappings \u001B[38;5;241m|\u001B[39m manual_checks)\u001B[38;5;241m.\u001B[39mitems():\n\u001B[0;32m----> 3\u001B[0m     \u001B[38;5;28;01mif\u001B[39;00m \u001B[43mval\u001B[49m\u001B[43m \u001B[49m\u001B[38;5;129;43;01mnot\u001B[39;49;00m\u001B[43m \u001B[49m\u001B[38;5;129;43;01min\u001B[39;49;00m\u001B[43m \u001B[49m\u001B[43mrev_mapping\u001B[49m:\n\u001B[1;32m      4\u001B[0m         rev_mapping[val] \u001B[38;5;241m=\u001B[39m []\n\u001B[1;32m      5\u001B[0m     rev_mapping[val]\u001B[38;5;241m.\u001B[39mappend(key)\n",
      "\u001B[0;31mTypeError\u001B[0m: unhashable type: 'list'"
     ]
    }
   ],
   "source": [
    "rev_mapping = {}\n",
    "for key, val in (mappings | manual_checks).items():\n",
    "    if val not in rev_mapping:\n",
    "        rev_mapping[val] = []\n",
    "    rev_mapping[val].append(key)"
   ]
  },
  {
   "cell_type": "code",
   "execution_count": 25,
   "id": "8373127b-6a1e-48ae-afbc-224b39b57906",
   "metadata": {
    "ExecuteTime": {
     "end_time": "2025-02-04T15:15:11.440338Z",
     "start_time": "2025-02-04T15:15:11.323844Z"
    }
   },
   "outputs": [
    {
     "data": {
      "text/plain": "False"
     },
     "execution_count": 25,
     "metadata": {},
     "output_type": "execute_result"
    }
   ],
   "source": [
    "any([len(val) != 1 for val in rev_mapping.values()])"
   ]
  },
  {
   "cell_type": "code",
   "execution_count": 26,
   "id": "55774f22-44ee-46db-94c5-744ed06f7dc8",
   "metadata": {
    "ExecuteTime": {
     "end_time": "2025-02-04T15:15:18.841082Z",
     "start_time": "2025-02-04T15:15:18.832181Z"
    }
   },
   "outputs": [
    {
     "data": {
      "text/plain": "965"
     },
     "execution_count": 26,
     "metadata": {},
     "output_type": "execute_result"
    }
   ],
   "source": [
    "len(rev_mapping)"
   ]
  },
  {
   "cell_type": "code",
   "execution_count": 27,
   "id": "2f16a7bb-9754-4d05-82c5-917efae07048",
   "metadata": {
    "ExecuteTime": {
     "end_time": "2025-02-04T15:15:23.356732Z",
     "start_time": "2025-02-04T15:15:23.353996Z"
    }
   },
   "outputs": [],
   "source": [
    "mappings |= manual_checks"
   ]
  },
  {
   "cell_type": "code",
   "execution_count": 34,
   "id": "f395f00d-05f9-4935-8716-0d5d0fb10af5",
   "metadata": {
    "ExecuteTime": {
     "end_time": "2025-02-04T15:27:41.986716Z",
     "start_time": "2025-02-04T15:27:41.903713Z"
    }
   },
   "outputs": [],
   "source": [
    "celline_mappings = pd.DataFrame.from_dict(mappings, orient='index')\n",
    "celline_mappings.columns = ['CVCL']\n",
    "btos_df = pd.DataFrame({'BTO': btos.values()}, index=btos.keys())"
   ]
  },
  {
   "cell_type": "markdown",
   "source": [
    "## Compare to Judith's mapping"
   ],
   "metadata": {
    "collapsed": false
   },
   "id": "aa51fb45e34ea1fe"
  },
  {
   "cell_type": "code",
   "execution_count": 35,
   "outputs": [],
   "source": [
    "celline_mappings = celline_mappings.reset_index()\n",
    "celline_mappings = celline_mappings.rename(columns={\"index\": \"cell_line_name\"})"
   ],
   "metadata": {
    "collapsed": false,
    "ExecuteTime": {
     "end_time": "2025-02-04T15:27:49.953124Z",
     "start_time": "2025-02-04T15:27:49.948541Z"
    }
   },
   "id": "ca4ec85f18661b37"
  },
  {
   "cell_type": "code",
   "execution_count": 36,
   "outputs": [
    {
     "name": "stdout",
     "output_type": "stream",
     "text": [
      "Creating cellosaurus dictionary ...\n",
      "Mapping cell line names to cellosaurus IDs ...\n",
      "Saving dataframe with cellosaurus IDs ...\n"
     ]
    },
    {
     "data": {
      "text/plain": "    cellosaurus_id        cell_line_name                        CVCL  \\\n71       CVCL_1097  C32 [Human melanoma]                   CVCL_ZA06   \n965      CVCL_1658                  EW-8  ['CVCL_E3SB', 'CVCL_C355']   \n\n    cell_line_original_name  \n71                      C32  \n965                    RH-1  ",
      "text/html": "<div>\n<style scoped>\n    .dataframe tbody tr th:only-of-type {\n        vertical-align: middle;\n    }\n\n    .dataframe tbody tr th {\n        vertical-align: top;\n    }\n\n    .dataframe thead th {\n        text-align: right;\n    }\n</style>\n<table border=\"1\" class=\"dataframe\">\n  <thead>\n    <tr style=\"text-align: right;\">\n      <th></th>\n      <th>cellosaurus_id</th>\n      <th>cell_line_name</th>\n      <th>CVCL</th>\n      <th>cell_line_original_name</th>\n    </tr>\n  </thead>\n  <tbody>\n    <tr>\n      <th>71</th>\n      <td>CVCL_1097</td>\n      <td>C32 [Human melanoma]</td>\n      <td>CVCL_ZA06</td>\n      <td>C32</td>\n    </tr>\n    <tr>\n      <th>965</th>\n      <td>CVCL_1658</td>\n      <td>EW-8</td>\n      <td>['CVCL_E3SB', 'CVCL_C355']</td>\n      <td>RH-1</td>\n    </tr>\n  </tbody>\n</table>\n</div>"
     },
     "execution_count": 36,
     "metadata": {},
     "output_type": "execute_result"
    }
   ],
   "source": [
    "from utils.convert_to_cello import create_cl_dict, map_to_cellosaurus\n",
    "cello_mapping = pd.read_csv(\"../../mapping/cellosaurus_01_2024.csv\")\n",
    "# replace all NaN values with empty strings\n",
    "cello_mapping = cello_mapping.fillna(\"\")\n",
    "# create cellosaurus dictionary\n",
    "cellosaurus_ac_dict, cellosaurus_sy_dict, species_dict, cello_ac_to_id_dict = create_cl_dict(cello_mapping)\n",
    "\n",
    "mapping_df = celline_mappings.copy()\n",
    "mapping_df[\"cell_line_original_name\"] = mapping_df[\"cell_line_name\"]\n",
    "mapping_df[\"cell_line_name\"] = mapping_df[\"cell_line_name\"].replace({\n",
    "    \"C32\": \"C32 [Human melanoma]\",\n",
    "    \"C3A\": \"Hep-G2/C3A\",\n",
    "    \"G-292-Clone-A141B1\": \"G-292 clone A141B1\",\n",
    "    \"HARA\": \"HARA [Human squamous cell lung carcinoma]\",\n",
    "    \"Hep3B2-1-7\": \"Hep 3B2.1-7\",\n",
    "    \"HH\": \"HH [Human lymphoma]\",\n",
    "    \"Hs-633T\": \"Hs 633.T\",\n",
    "    \"HT55\": \"HT-55\",\n",
    "    \"JM1\": \"JM-1\",\n",
    "    \"K2\": \"K2 [Human melanoma]\",\n",
    "    \"KS-1\": \"KS-1 [Human glioblastoma]\",\n",
    "    \"ML-1\": \"ML-1 [Human thyroid carcinoma]\",\n",
    "    \"MS-1\": \"MS-1 [Human lung carcinoma]\",\n",
    "    \"NOS-1\": \"NOS-1 [Human osteosarcoma]\",\n",
    "    \"NTERA-2-cl-D1\": \"NT2-D1\",\n",
    "    \"OMC-1\": \"OMC-1 [Human cervical carcinoma]\",\n",
    "    \"PC-3_[JPC-3]\": \"PC-3 [Human lung carcinoma]\",\n",
    "    \"SAT\": \"SAT [Human HNSCC]\",\n",
    "    \"RCM-1\": \"RCM-1 [Human rectal adenocarcinoma]\",\n",
    "    \"RH-1\": \"EW-8\",\n",
    "    \"TK\": \"TK [Human B-cell lymphoma]\",\n",
    "})\n",
    "map_to_cellosaurus(mapping_df, cellosaurus_ac_dict, cellosaurus_sy_dict, species_dict, cello_ac_to_id_dict, output_path=\"GDSC1_mapped.csv\")\n",
    "mapping_df = pd.read_csv(\"GDSC1_mapped.csv\")\n",
    "# find out where CVCL is not equal to cellosaurus_id\n",
    "mapping_df.query(\"CVCL != cellosaurus_id\")"
   ],
   "metadata": {
    "collapsed": false,
    "ExecuteTime": {
     "end_time": "2025-02-04T15:27:54.415807Z",
     "start_time": "2025-02-04T15:27:49.955822Z"
    }
   },
   "id": "74b028fbf464a9e4"
  },
  {
   "cell_type": "code",
   "execution_count": 34,
   "id": "d362bc32-7b90-4412-8559-f22280812440",
   "metadata": {},
   "outputs": [
    {
     "data": {
      "text/html": [
       "<div>\n",
       "<style scoped>\n",
       "    .dataframe tbody tr th:only-of-type {\n",
       "        vertical-align: middle;\n",
       "    }\n",
       "\n",
       "    .dataframe tbody tr th {\n",
       "        vertical-align: top;\n",
       "    }\n",
       "\n",
       "    .dataframe thead th {\n",
       "        text-align: right;\n",
       "    }\n",
       "</style>\n",
       "<table border=\"1\" class=\"dataframe\">\n",
       "  <thead>\n",
       "    <tr style=\"text-align: right;\">\n",
       "      <th></th>\n",
       "      <th>BTO</th>\n",
       "    </tr>\n",
       "  </thead>\n",
       "  <tbody>\n",
       "    <tr>\n",
       "      <th>CVCL_IP58</th>\n",
       "      <td>[BTO:0006002]</td>\n",
       "    </tr>\n",
       "    <tr>\n",
       "      <th>CVCL_IP59</th>\n",
       "      <td>[BTO:0006003]</td>\n",
       "    </tr>\n",
       "    <tr>\n",
       "      <th>CVCL_L211</th>\n",
       "      <td>[BTO:0005352]</td>\n",
       "    </tr>\n",
       "    <tr>\n",
       "      <th>CVCL_5948</th>\n",
       "      <td>[BTO:0002603]</td>\n",
       "    </tr>\n",
       "    <tr>\n",
       "      <th>CVCL_8030</th>\n",
       "      <td>[BTO:0002947]</td>\n",
       "    </tr>\n",
       "    <tr>\n",
       "      <th>...</th>\n",
       "      <td>...</td>\n",
       "    </tr>\n",
       "    <tr>\n",
       "      <th>CVCL_6746</th>\n",
       "      <td>[BTO:0003554]</td>\n",
       "    </tr>\n",
       "    <tr>\n",
       "      <th>CVCL_WY40</th>\n",
       "      <td>[BTO:0006281]</td>\n",
       "    </tr>\n",
       "    <tr>\n",
       "      <th>CVCL_5906</th>\n",
       "      <td>[BTO:0003992]</td>\n",
       "    </tr>\n",
       "    <tr>\n",
       "      <th>CVCL_0588</th>\n",
       "      <td>[BTO:0003136]</td>\n",
       "    </tr>\n",
       "    <tr>\n",
       "      <th>CVCL_1661</th>\n",
       "      <td>[BTO:0004915]</td>\n",
       "    </tr>\n",
       "  </tbody>\n",
       "</table>\n",
       "<p>1774 rows × 1 columns</p>\n",
       "</div>"
      ],
      "text/plain": [
       "                     BTO\n",
       "CVCL_IP58  [BTO:0006002]\n",
       "CVCL_IP59  [BTO:0006003]\n",
       "CVCL_L211  [BTO:0005352]\n",
       "CVCL_5948  [BTO:0002603]\n",
       "CVCL_8030  [BTO:0002947]\n",
       "...                  ...\n",
       "CVCL_6746  [BTO:0003554]\n",
       "CVCL_WY40  [BTO:0006281]\n",
       "CVCL_5906  [BTO:0003992]\n",
       "CVCL_0588  [BTO:0003136]\n",
       "CVCL_1661  [BTO:0004915]\n",
       "\n",
       "[1774 rows x 1 columns]"
      ]
     },
     "execution_count": 34,
     "metadata": {},
     "output_type": "execute_result"
    }
   ],
   "source": [
    "btos_df"
   ]
  },
  {
   "cell_type": "code",
   "execution_count": 35,
   "id": "34624cfb-036a-47fd-b007-7c03c0268891",
   "metadata": {},
   "outputs": [
    {
     "data": {
      "text/html": [
       "<div>\n",
       "<style scoped>\n",
       "    .dataframe tbody tr th:only-of-type {\n",
       "        vertical-align: middle;\n",
       "    }\n",
       "\n",
       "    .dataframe tbody tr th {\n",
       "        vertical-align: top;\n",
       "    }\n",
       "\n",
       "    .dataframe thead th {\n",
       "        text-align: right;\n",
       "    }\n",
       "</style>\n",
       "<table border=\"1\" class=\"dataframe\">\n",
       "  <thead>\n",
       "    <tr style=\"text-align: right;\">\n",
       "      <th></th>\n",
       "      <th>CVCL</th>\n",
       "      <th>BTO</th>\n",
       "    </tr>\n",
       "  </thead>\n",
       "  <tbody>\n",
       "    <tr>\n",
       "      <th>22RV1</th>\n",
       "      <td>CVCL_1045</td>\n",
       "      <td>BTO:0002999</td>\n",
       "    </tr>\n",
       "    <tr>\n",
       "      <th>23132-87</th>\n",
       "      <td>CVCL_1046</td>\n",
       "      <td></td>\n",
       "    </tr>\n",
       "    <tr>\n",
       "      <th>42-MG-BA</th>\n",
       "      <td>CVCL_1798</td>\n",
       "      <td></td>\n",
       "    </tr>\n",
       "    <tr>\n",
       "      <th>451Lu</th>\n",
       "      <td>CVCL_6357</td>\n",
       "      <td>BTO:0003710</td>\n",
       "    </tr>\n",
       "    <tr>\n",
       "      <th>5637</th>\n",
       "      <td>CVCL_0126</td>\n",
       "      <td>BTO:0003137</td>\n",
       "    </tr>\n",
       "    <tr>\n",
       "      <th>...</th>\n",
       "      <td>...</td>\n",
       "      <td>...</td>\n",
       "    </tr>\n",
       "    <tr>\n",
       "      <th>RCM-1</th>\n",
       "      <td>CVCL_1648</td>\n",
       "      <td></td>\n",
       "    </tr>\n",
       "    <tr>\n",
       "      <th>SAT</th>\n",
       "      <td>CVCL_3160</td>\n",
       "      <td></td>\n",
       "    </tr>\n",
       "    <tr>\n",
       "      <th>TK</th>\n",
       "      <td>CVCL_3216</td>\n",
       "      <td></td>\n",
       "    </tr>\n",
       "    <tr>\n",
       "      <th>TT</th>\n",
       "      <td>CVCL_1774</td>\n",
       "      <td>BTO:0003074</td>\n",
       "    </tr>\n",
       "    <tr>\n",
       "      <th>U-87-MG</th>\n",
       "      <td>CVCL_0022</td>\n",
       "      <td>BTO:0002036</td>\n",
       "    </tr>\n",
       "  </tbody>\n",
       "</table>\n",
       "<p>970 rows × 2 columns</p>\n",
       "</div>"
      ],
      "text/plain": [
       "               CVCL          BTO\n",
       "22RV1     CVCL_1045  BTO:0002999\n",
       "23132-87  CVCL_1046             \n",
       "42-MG-BA  CVCL_1798             \n",
       "451Lu     CVCL_6357  BTO:0003710\n",
       "5637      CVCL_0126  BTO:0003137\n",
       "...             ...          ...\n",
       "RCM-1     CVCL_1648             \n",
       "SAT       CVCL_3160             \n",
       "TK        CVCL_3216             \n",
       "TT        CVCL_1774  BTO:0003074\n",
       "U-87-MG   CVCL_0022  BTO:0002036\n",
       "\n",
       "[970 rows x 2 columns]"
      ]
     },
     "execution_count": 35,
     "metadata": {},
     "output_type": "execute_result"
    }
   ],
   "source": [
    "cvcl_to_bto = celline_mappings.merge(btos_df, left_on='CVCL', right_index=True, how='left')\n",
    "cvcl_to_bto['BTO'] = cvcl_to_bto.BTO.transform(lambda x: '' if pd.isna(x) else x[0])\n",
    "cvcl_to_bto"
   ]
  },
  {
   "cell_type": "markdown",
   "id": "894a42d5-c79e-49ad-8495-6289ca7a9bfb",
   "metadata": {},
   "source": [
    "## Bringing viability, drug, and cell line mappings together"
   ]
  },
  {
   "cell_type": "code",
   "execution_count": 52,
   "id": "8f9ab543-6e7b-4f8b-b372-8f4ac1f1930c",
   "metadata": {},
   "outputs": [
    {
     "data": {
      "text/html": [
       "<div>\n",
       "<style scoped>\n",
       "    .dataframe tbody tr th:only-of-type {\n",
       "        vertical-align: middle;\n",
       "    }\n",
       "\n",
       "    .dataframe tbody tr th {\n",
       "        vertical-align: top;\n",
       "    }\n",
       "\n",
       "    .dataframe thead th {\n",
       "        text-align: right;\n",
       "    }\n",
       "</style>\n",
       "<table border=\"1\" class=\"dataframe\">\n",
       "  <thead>\n",
       "    <tr style=\"text-align: right;\">\n",
       "      <th></th>\n",
       "      <th>RESEARCH_PROJECT</th>\n",
       "      <th>BARCODE</th>\n",
       "      <th>SCAN_ID</th>\n",
       "      <th>DATE_CREATED</th>\n",
       "      <th>SCAN_DATE</th>\n",
       "      <th>CELL_ID</th>\n",
       "      <th>MASTER_CELL_ID</th>\n",
       "      <th>COSMIC_ID</th>\n",
       "      <th>CELL_LINE_NAME</th>\n",
       "      <th>SANGER_MODEL_ID</th>\n",
       "      <th>...</th>\n",
       "      <th>mindose</th>\n",
       "      <th>maxdose</th>\n",
       "      <th>repl</th>\n",
       "      <th>drugcellrep</th>\n",
       "      <th>replicate</th>\n",
       "      <th>nreplicates</th>\n",
       "      <th>CID</th>\n",
       "      <th>CVCL</th>\n",
       "      <th>BTO</th>\n",
       "      <th>CHEMBL</th>\n",
       "    </tr>\n",
       "  </thead>\n",
       "  <tbody>\n",
       "    <tr>\n",
       "      <th>0</th>\n",
       "      <td>MGH_GDSC1</td>\n",
       "      <td>018_996_0005436</td>\n",
       "      <td>38508</td>\n",
       "      <td>2010-12-01T00:00:00Z</td>\n",
       "      <td>NaN</td>\n",
       "      <td>3399</td>\n",
       "      <td>1027</td>\n",
       "      <td>924100</td>\n",
       "      <td>22RV1</td>\n",
       "      <td>SIDM00499</td>\n",
       "      <td>...</td>\n",
       "      <td>0.004000</td>\n",
       "      <td>5.0</td>\n",
       "      <td>0</td>\n",
       "      <td>0</td>\n",
       "      <td>0</td>\n",
       "      <td>1</td>\n",
       "      <td>31703</td>\n",
       "      <td>CVCL_1045</td>\n",
       "      <td>BTO:0002999</td>\n",
       "      <td>CHEMBL53463</td>\n",
       "    </tr>\n",
       "    <tr>\n",
       "      <th>1</th>\n",
       "      <td>MGH_GDSC1</td>\n",
       "      <td>018_996_0005436</td>\n",
       "      <td>38508</td>\n",
       "      <td>2010-12-01T00:00:00Z</td>\n",
       "      <td>NaN</td>\n",
       "      <td>3399</td>\n",
       "      <td>1027</td>\n",
       "      <td>924100</td>\n",
       "      <td>22RV1</td>\n",
       "      <td>SIDM00499</td>\n",
       "      <td>...</td>\n",
       "      <td>0.004000</td>\n",
       "      <td>5.0</td>\n",
       "      <td>0</td>\n",
       "      <td>0</td>\n",
       "      <td>0</td>\n",
       "      <td>1</td>\n",
       "      <td>31703</td>\n",
       "      <td>CVCL_1045</td>\n",
       "      <td>BTO:0002999</td>\n",
       "      <td>CHEMBL53463</td>\n",
       "    </tr>\n",
       "    <tr>\n",
       "      <th>2</th>\n",
       "      <td>MGH_GDSC1</td>\n",
       "      <td>018_996_0005436</td>\n",
       "      <td>38508</td>\n",
       "      <td>2010-12-01T00:00:00Z</td>\n",
       "      <td>NaN</td>\n",
       "      <td>3399</td>\n",
       "      <td>1027</td>\n",
       "      <td>924100</td>\n",
       "      <td>22RV1</td>\n",
       "      <td>SIDM00499</td>\n",
       "      <td>...</td>\n",
       "      <td>0.004000</td>\n",
       "      <td>5.0</td>\n",
       "      <td>0</td>\n",
       "      <td>0</td>\n",
       "      <td>0</td>\n",
       "      <td>1</td>\n",
       "      <td>31703</td>\n",
       "      <td>CVCL_1045</td>\n",
       "      <td>BTO:0002999</td>\n",
       "      <td>CHEMBL53463</td>\n",
       "    </tr>\n",
       "    <tr>\n",
       "      <th>3</th>\n",
       "      <td>MGH_GDSC1</td>\n",
       "      <td>018_996_0005436</td>\n",
       "      <td>38508</td>\n",
       "      <td>2010-12-01T00:00:00Z</td>\n",
       "      <td>NaN</td>\n",
       "      <td>3399</td>\n",
       "      <td>1027</td>\n",
       "      <td>924100</td>\n",
       "      <td>22RV1</td>\n",
       "      <td>SIDM00499</td>\n",
       "      <td>...</td>\n",
       "      <td>0.004000</td>\n",
       "      <td>5.0</td>\n",
       "      <td>0</td>\n",
       "      <td>0</td>\n",
       "      <td>0</td>\n",
       "      <td>1</td>\n",
       "      <td>31703</td>\n",
       "      <td>CVCL_1045</td>\n",
       "      <td>BTO:0002999</td>\n",
       "      <td>CHEMBL53463</td>\n",
       "    </tr>\n",
       "    <tr>\n",
       "      <th>4</th>\n",
       "      <td>MGH_GDSC1</td>\n",
       "      <td>018_996_0005436</td>\n",
       "      <td>38508</td>\n",
       "      <td>2010-12-01T00:00:00Z</td>\n",
       "      <td>NaN</td>\n",
       "      <td>3399</td>\n",
       "      <td>1027</td>\n",
       "      <td>924100</td>\n",
       "      <td>22RV1</td>\n",
       "      <td>SIDM00499</td>\n",
       "      <td>...</td>\n",
       "      <td>0.004000</td>\n",
       "      <td>5.0</td>\n",
       "      <td>0</td>\n",
       "      <td>0</td>\n",
       "      <td>0</td>\n",
       "      <td>1</td>\n",
       "      <td>31703</td>\n",
       "      <td>CVCL_1045</td>\n",
       "      <td>BTO:0002999</td>\n",
       "      <td>CHEMBL53463</td>\n",
       "    </tr>\n",
       "    <tr>\n",
       "      <th>...</th>\n",
       "      <td>...</td>\n",
       "      <td>...</td>\n",
       "      <td>...</td>\n",
       "      <td>...</td>\n",
       "      <td>...</td>\n",
       "      <td>...</td>\n",
       "      <td>...</td>\n",
       "      <td>...</td>\n",
       "      <td>...</td>\n",
       "      <td>...</td>\n",
       "      <td>...</td>\n",
       "      <td>...</td>\n",
       "      <td>...</td>\n",
       "      <td>...</td>\n",
       "      <td>...</td>\n",
       "      <td>...</td>\n",
       "      <td>...</td>\n",
       "      <td>...</td>\n",
       "      <td>...</td>\n",
       "      <td>...</td>\n",
       "      <td>...</td>\n",
       "    </tr>\n",
       "    <tr>\n",
       "      <th>2045357</th>\n",
       "      <td>MGH_GDSC1</td>\n",
       "      <td>402_697_0006009</td>\n",
       "      <td>38780</td>\n",
       "      <td>2010-12-16T00:00:00Z</td>\n",
       "      <td>NaN</td>\n",
       "      <td>3369</td>\n",
       "      <td>208</td>\n",
       "      <td>924241</td>\n",
       "      <td>NCI-H250</td>\n",
       "      <td>SIDM00721</td>\n",
       "      <td>...</td>\n",
       "      <td>0.019531</td>\n",
       "      <td>5.0</td>\n",
       "      <td>0</td>\n",
       "      <td>0</td>\n",
       "      <td>0</td>\n",
       "      <td>0</td>\n",
       "      <td>7251185</td>\n",
       "      <td>CVCL_1554</td>\n",
       "      <td></td>\n",
       "      <td>CHEMBL465158</td>\n",
       "    </tr>\n",
       "    <tr>\n",
       "      <th>2045358</th>\n",
       "      <td>MGH_GDSC1</td>\n",
       "      <td>402_697_0006009</td>\n",
       "      <td>38780</td>\n",
       "      <td>2010-12-16T00:00:00Z</td>\n",
       "      <td>NaN</td>\n",
       "      <td>3369</td>\n",
       "      <td>208</td>\n",
       "      <td>924241</td>\n",
       "      <td>NCI-H250</td>\n",
       "      <td>SIDM00721</td>\n",
       "      <td>...</td>\n",
       "      <td>0.019531</td>\n",
       "      <td>5.0</td>\n",
       "      <td>0</td>\n",
       "      <td>0</td>\n",
       "      <td>0</td>\n",
       "      <td>0</td>\n",
       "      <td>7251185</td>\n",
       "      <td>CVCL_1554</td>\n",
       "      <td></td>\n",
       "      <td>CHEMBL465158</td>\n",
       "    </tr>\n",
       "    <tr>\n",
       "      <th>2045359</th>\n",
       "      <td>MGH_GDSC1</td>\n",
       "      <td>402_697_0006009</td>\n",
       "      <td>38780</td>\n",
       "      <td>2010-12-16T00:00:00Z</td>\n",
       "      <td>NaN</td>\n",
       "      <td>3369</td>\n",
       "      <td>208</td>\n",
       "      <td>924241</td>\n",
       "      <td>NCI-H250</td>\n",
       "      <td>SIDM00721</td>\n",
       "      <td>...</td>\n",
       "      <td>0.019531</td>\n",
       "      <td>5.0</td>\n",
       "      <td>0</td>\n",
       "      <td>0</td>\n",
       "      <td>0</td>\n",
       "      <td>0</td>\n",
       "      <td>7251185</td>\n",
       "      <td>CVCL_1554</td>\n",
       "      <td></td>\n",
       "      <td>CHEMBL465158</td>\n",
       "    </tr>\n",
       "    <tr>\n",
       "      <th>2045360</th>\n",
       "      <td>MGH_GDSC1</td>\n",
       "      <td>402_697_0006009</td>\n",
       "      <td>38780</td>\n",
       "      <td>2010-12-16T00:00:00Z</td>\n",
       "      <td>NaN</td>\n",
       "      <td>3369</td>\n",
       "      <td>208</td>\n",
       "      <td>924241</td>\n",
       "      <td>NCI-H250</td>\n",
       "      <td>SIDM00721</td>\n",
       "      <td>...</td>\n",
       "      <td>0.019531</td>\n",
       "      <td>5.0</td>\n",
       "      <td>0</td>\n",
       "      <td>0</td>\n",
       "      <td>0</td>\n",
       "      <td>0</td>\n",
       "      <td>7251185</td>\n",
       "      <td>CVCL_1554</td>\n",
       "      <td></td>\n",
       "      <td>CHEMBL465158</td>\n",
       "    </tr>\n",
       "    <tr>\n",
       "      <th>2045361</th>\n",
       "      <td>MGH_GDSC1</td>\n",
       "      <td>402_697_0006009</td>\n",
       "      <td>38780</td>\n",
       "      <td>2010-12-16T00:00:00Z</td>\n",
       "      <td>NaN</td>\n",
       "      <td>3369</td>\n",
       "      <td>208</td>\n",
       "      <td>924241</td>\n",
       "      <td>NCI-H250</td>\n",
       "      <td>SIDM00721</td>\n",
       "      <td>...</td>\n",
       "      <td>0.019531</td>\n",
       "      <td>5.0</td>\n",
       "      <td>0</td>\n",
       "      <td>0</td>\n",
       "      <td>0</td>\n",
       "      <td>0</td>\n",
       "      <td>7251185</td>\n",
       "      <td>CVCL_1554</td>\n",
       "      <td></td>\n",
       "      <td>CHEMBL465158</td>\n",
       "    </tr>\n",
       "  </tbody>\n",
       "</table>\n",
       "<p>3179341 rows × 40 columns</p>\n",
       "</div>"
      ],
      "text/plain": [
       "        RESEARCH_PROJECT          BARCODE  SCAN_ID          DATE_CREATED  \\\n",
       "0              MGH_GDSC1  018_996_0005436    38508  2010-12-01T00:00:00Z   \n",
       "1              MGH_GDSC1  018_996_0005436    38508  2010-12-01T00:00:00Z   \n",
       "2              MGH_GDSC1  018_996_0005436    38508  2010-12-01T00:00:00Z   \n",
       "3              MGH_GDSC1  018_996_0005436    38508  2010-12-01T00:00:00Z   \n",
       "4              MGH_GDSC1  018_996_0005436    38508  2010-12-01T00:00:00Z   \n",
       "...                  ...              ...      ...                   ...   \n",
       "2045357        MGH_GDSC1  402_697_0006009    38780  2010-12-16T00:00:00Z   \n",
       "2045358        MGH_GDSC1  402_697_0006009    38780  2010-12-16T00:00:00Z   \n",
       "2045359        MGH_GDSC1  402_697_0006009    38780  2010-12-16T00:00:00Z   \n",
       "2045360        MGH_GDSC1  402_697_0006009    38780  2010-12-16T00:00:00Z   \n",
       "2045361        MGH_GDSC1  402_697_0006009    38780  2010-12-16T00:00:00Z   \n",
       "\n",
       "         SCAN_DATE  CELL_ID  MASTER_CELL_ID  COSMIC_ID CELL_LINE_NAME  \\\n",
       "0              NaN     3399            1027     924100          22RV1   \n",
       "1              NaN     3399            1027     924100          22RV1   \n",
       "2              NaN     3399            1027     924100          22RV1   \n",
       "3              NaN     3399            1027     924100          22RV1   \n",
       "4              NaN     3399            1027     924100          22RV1   \n",
       "...            ...      ...             ...        ...            ...   \n",
       "2045357        NaN     3369             208     924241       NCI-H250   \n",
       "2045358        NaN     3369             208     924241       NCI-H250   \n",
       "2045359        NaN     3369             208     924241       NCI-H250   \n",
       "2045360        NaN     3369             208     924241       NCI-H250   \n",
       "2045361        NaN     3369             208     924241       NCI-H250   \n",
       "\n",
       "        SANGER_MODEL_ID  ...   mindose maxdose repl  drugcellrep  replicate  \\\n",
       "0             SIDM00499  ...  0.004000     5.0    0            0          0   \n",
       "1             SIDM00499  ...  0.004000     5.0    0            0          0   \n",
       "2             SIDM00499  ...  0.004000     5.0    0            0          0   \n",
       "3             SIDM00499  ...  0.004000     5.0    0            0          0   \n",
       "4             SIDM00499  ...  0.004000     5.0    0            0          0   \n",
       "...                 ...  ...       ...     ...  ...          ...        ...   \n",
       "2045357       SIDM00721  ...  0.019531     5.0    0            0          0   \n",
       "2045358       SIDM00721  ...  0.019531     5.0    0            0          0   \n",
       "2045359       SIDM00721  ...  0.019531     5.0    0            0          0   \n",
       "2045360       SIDM00721  ...  0.019531     5.0    0            0          0   \n",
       "2045361       SIDM00721  ...  0.019531     5.0    0            0          0   \n",
       "\n",
       "        nreplicates      CID       CVCL          BTO        CHEMBL  \n",
       "0                 1    31703  CVCL_1045  BTO:0002999   CHEMBL53463  \n",
       "1                 1    31703  CVCL_1045  BTO:0002999   CHEMBL53463  \n",
       "2                 1    31703  CVCL_1045  BTO:0002999   CHEMBL53463  \n",
       "3                 1    31703  CVCL_1045  BTO:0002999   CHEMBL53463  \n",
       "4                 1    31703  CVCL_1045  BTO:0002999   CHEMBL53463  \n",
       "...             ...      ...        ...          ...           ...  \n",
       "2045357           0  7251185  CVCL_1554               CHEMBL465158  \n",
       "2045358           0  7251185  CVCL_1554               CHEMBL465158  \n",
       "2045359           0  7251185  CVCL_1554               CHEMBL465158  \n",
       "2045360           0  7251185  CVCL_1554               CHEMBL465158  \n",
       "2045361           0  7251185  CVCL_1554               CHEMBL465158  \n",
       "\n",
       "[3179341 rows x 40 columns]"
      ]
     },
     "execution_count": 52,
     "metadata": {},
     "output_type": "execute_result"
    }
   ],
   "source": [
    "full_df = formatted_gdsc1.merge(cids, left_on='DRUG_NAME', right_index=True).merge(cvcl_to_bto, left_on='CELL_LINE_NAME', right_index=True).merge(chembls, left_on=\"DRUG_NAME\", right_index=True, how='left')\n",
    "full_df"
   ]
  },
  {
   "cell_type": "markdown",
   "id": "88a236a4-b43d-42f2-b6a0-f70dc1c651ec",
   "metadata": {},
   "source": [
    "ensure Bleomycin is duplicated (because of having two additional entries (Bleomycin 50um) and (Bleomycin 10um))"
   ]
  },
  {
   "cell_type": "code",
   "execution_count": 54,
   "id": "cda92e80-4e54-4b6a-8879-218865ad3112",
   "metadata": {},
   "outputs": [
    {
     "data": {
      "text/plain": [
       "array(['Bleomycin', 'Bleomycin (50 uM)', 'Bleomycin (10 uM)'],\n",
       "      dtype=object)"
      ]
     },
     "execution_count": 54,
     "metadata": {},
     "output_type": "execute_result"
    }
   ],
   "source": [
    "full_df.query(\"DRUG_NAME.str.startswith('Bleo')\").DRUG_NAME.unique()"
   ]
  },
  {
   "cell_type": "markdown",
   "id": "5957164f-b2ae-4d75-b377-5b6e46283744",
   "metadata": {},
   "source": [
    "ensure Paclitaxel is duplicated (because of having two additional entries (Bleomycin 50um) and (Bleomycin 10um))"
   ]
  },
  {
   "cell_type": "code",
   "execution_count": 55,
   "id": "b0ff8fc7-c54b-4ab4-85a0-861384e6deeb",
   "metadata": {},
   "outputs": [
    {
     "data": {
      "text/plain": [
       "array(['BAY-MPS-combo-1 (paclitaxel 5 uM)',\n",
       "       'BAY-MPS-combo 2 (paclitaxel 1 uM)'], dtype=object)"
      ]
     },
     "execution_count": 55,
     "metadata": {},
     "output_type": "execute_result"
    }
   ],
   "source": [
    "full_df.query(\"DRUG_NAME.str.startswith('BAY-MPS-combo')\").DRUG_NAME.unique()"
   ]
  },
  {
   "cell_type": "code",
   "execution_count": 56,
   "id": "b06d57f7-26d2-475b-9a86-66662ec5cd7e",
   "metadata": {},
   "outputs": [
    {
     "data": {
      "text/plain": [
       "378"
      ]
     },
     "execution_count": 56,
     "metadata": {},
     "output_type": "execute_result"
    }
   ],
   "source": [
    "len(full_df.DRUG_NAME.unique())"
   ]
  },
  {
   "cell_type": "code",
   "execution_count": 57,
   "id": "5cca8742-2931-4a37-be18-3ee0ed3fe0f4",
   "metadata": {},
   "outputs": [
    {
     "data": {
      "text/plain": [
       "378"
      ]
     },
     "execution_count": 57,
     "metadata": {},
     "output_type": "execute_result"
    }
   ],
   "source": [
    "len(full_df.CID.unique())"
   ]
  },
  {
   "cell_type": "markdown",
   "id": "a558e747-85fb-4d40-a5f0-8fce78778f8c",
   "metadata": {},
   "source": [
    "ensure all cellline drug combinations start with only one maxdose"
   ]
  },
  {
   "cell_type": "code",
   "execution_count": 58,
   "id": "4acfcd8f-72c2-438e-a88d-f702a1b206c6",
   "metadata": {},
   "outputs": [
    {
     "data": {
      "text/plain": [
       "maxdose  mindose\n",
       "1        1          316735\n",
       "Name: count, dtype: int64"
      ]
     },
     "execution_count": 58,
     "metadata": {},
     "output_type": "execute_result"
    }
   ],
   "source": [
    "full_df.groupby([\"CELL_LINE_NAME\", \"DRUG_NAME\"])[[\"maxdose\", \"mindose\"]].nunique().value_counts()"
   ]
  },
  {
   "cell_type": "markdown",
   "id": "40fb0b82-839d-4f88-8938-ca7f4c776460",
   "metadata": {},
   "source": [
    "ensure there are no duplicates remaining that cause problems when pivoting the dataframe for curvecurator input creation"
   ]
  },
  {
   "cell_type": "code",
   "execution_count": 59,
   "id": "3b277cf2-3760-42de-b8a3-922da6effef4",
   "metadata": {},
   "outputs": [
    {
     "data": {
      "text/html": [
       "<div>\n",
       "<style scoped>\n",
       "    .dataframe tbody tr th:only-of-type {\n",
       "        vertical-align: middle;\n",
       "    }\n",
       "\n",
       "    .dataframe tbody tr th {\n",
       "        vertical-align: top;\n",
       "    }\n",
       "\n",
       "    .dataframe thead th {\n",
       "        text-align: right;\n",
       "    }\n",
       "</style>\n",
       "<table border=\"1\" class=\"dataframe\">\n",
       "  <thead>\n",
       "    <tr style=\"text-align: right;\">\n",
       "      <th></th>\n",
       "      <th>DRUG_NAME</th>\n",
       "      <th>CELL_LINE_NAME</th>\n",
       "      <th>rounddose</th>\n",
       "      <th>replicate</th>\n",
       "      <th>MASTER_CELL_ID</th>\n",
       "      <th>DRUG_ID</th>\n",
       "    </tr>\n",
       "  </thead>\n",
       "  <tbody>\n",
       "  </tbody>\n",
       "</table>\n",
       "</div>"
      ],
      "text/plain": [
       "Empty DataFrame\n",
       "Columns: [DRUG_NAME, CELL_LINE_NAME, rounddose, replicate, MASTER_CELL_ID, DRUG_ID]\n",
       "Index: []"
      ]
     },
     "execution_count": 59,
     "metadata": {},
     "output_type": "execute_result"
    }
   ],
   "source": [
    "full_df[full_df[[\"DRUG_NAME\", \"CELL_LINE_NAME\", \"rounddose\", \"replicate\"]].duplicated(keep=False)][[\"DRUG_NAME\", \"CELL_LINE_NAME\", \"rounddose\", \"replicate\", \"MASTER_CELL_ID\", \"DRUG_ID\"]]"
   ]
  },
  {
   "cell_type": "markdown",
   "id": "374bd6e2-4868-4265-9dbc-92664a853958",
   "metadata": {},
   "source": [
    "rename columns for use in CurveCurator and save. Original dose is renamed to \"lib_dose\" to prevent duplication of column name."
   ]
  },
  {
   "cell_type": "code",
   "execution_count": 60,
   "id": "feeea273-674d-4a25-8658-0b0b32628c2c",
   "metadata": {},
   "outputs": [],
   "source": [
    "full_df.rename(columns={\"dose\": \"lib_dose\", \"rounddose\": \"dose\", \"normalized_intensity\": \"response\", \"CVCL\": \"sample\", \"CID\": \"drug\"}, inplace=True)\n",
    "full_df.to_csv(\"viabilities_processed.csv\", index=None)"
   ]
  },
  {
   "cell_type": "code",
   "execution_count": 61,
   "id": "0538313c-64f9-403b-b265-ff39b176527a",
   "metadata": {},
   "outputs": [],
   "source": [
    "preprocess(input_file=\"viabilities_processed.csv\", output_dir='curvecurator', dataset_name=\"GDSC1\", cores=200)"
   ]
  },
  {
   "cell_type": "markdown",
   "id": "2c4445e9-3d58-442f-b14f-2d005096c74a",
   "metadata": {},
   "source": [
    "# Prepare for DrEvalPy"
   ]
  },
  {
   "cell_type": "markdown",
   "id": "df2c5331-b4e9-49a0-9ba8-d8fa824e4ead",
   "metadata": {},
   "source": [
    "## Run CurveCurator"
   ]
  },
  {
   "cell_type": "code",
   "execution_count": null,
   "id": "985a56a0-1ad4-4ba4-9d24-d5cdc354448b",
   "metadata": {},
   "outputs": [],
   "source": [
    "_exec_curvecurator(Path(\"curvecurator\"))"
   ]
  },
  {
   "cell_type": "code",
   "execution_count": 2,
   "id": "f1a12655-d0f2-458e-9818-4f8388e0ac2e",
   "metadata": {},
   "outputs": [],
   "source": [
    "postprocess(\"curvecurator\", dataset_name=\"GDSC1\")"
   ]
  },
  {
   "cell_type": "markdown",
   "id": "4aa503d4-16aa-4735-a924-b61b79bc3802",
   "metadata": {},
   "source": [
    "## Combine curvecurator output with original measures from publication"
   ]
  },
  {
   "cell_type": "code",
   "execution_count": 9,
   "id": "31d6098e-5f5e-407a-98ab-5c3081c4e2fb",
   "metadata": {},
   "outputs": [
    {
     "name": "stderr",
     "output_type": "stream",
     "text": [
      "/tmp/ipykernel_2364247/3613527050.py:5: DtypeWarning: Columns (38) have mixed types. Specify dtype option on import or set low_memory=False.\n",
      "  mapping_df = pd.read_csv(\"viabilities_processed.csv\", converters={\"CELL_LINE_NAME\": str, \"DRUG_NAME\": str, \"sample\": str, \"drug\": str})[[\"CELL_LINE_NAME\", \"DRUG_NAME\", \"sample\", \"drug\"]].drop_duplicates()\n"
     ]
    },
    {
     "data": {
      "text/html": [
       "<div>\n",
       "<style scoped>\n",
       "    .dataframe tbody tr th:only-of-type {\n",
       "        vertical-align: middle;\n",
       "    }\n",
       "\n",
       "    .dataframe tbody tr th {\n",
       "        vertical-align: top;\n",
       "    }\n",
       "\n",
       "    .dataframe thead th {\n",
       "        text-align: right;\n",
       "    }\n",
       "</style>\n",
       "<table border=\"1\" class=\"dataframe\">\n",
       "  <thead>\n",
       "    <tr style=\"text-align: right;\">\n",
       "      <th></th>\n",
       "      <th>Name</th>\n",
       "      <th>SignalQuality</th>\n",
       "      <th>pEC50_curvecurator</th>\n",
       "      <th>Slope</th>\n",
       "      <th>Front</th>\n",
       "      <th>Back</th>\n",
       "      <th>FoldChange</th>\n",
       "      <th>AUC_curvecurator</th>\n",
       "      <th>RMSE</th>\n",
       "      <th>R2</th>\n",
       "      <th>...</th>\n",
       "      <th>RelevanceScore</th>\n",
       "      <th>Regulation</th>\n",
       "      <th>cell_line_id</th>\n",
       "      <th>drug_id</th>\n",
       "      <th>EC50_curvecurator</th>\n",
       "      <th>IC50_curvecurator</th>\n",
       "      <th>CELL_LINE_NAME</th>\n",
       "      <th>DRUG_NAME</th>\n",
       "      <th>sample</th>\n",
       "      <th>drug</th>\n",
       "    </tr>\n",
       "  </thead>\n",
       "  <tbody>\n",
       "    <tr>\n",
       "      <th>0</th>\n",
       "      <td>CVCL_0001|5280757</td>\n",
       "      <td>0.0</td>\n",
       "      <td>8.108073</td>\n",
       "      <td>1.605647</td>\n",
       "      <td>1.046587</td>\n",
       "      <td>0.291085</td>\n",
       "      <td>-0.597186</td>\n",
       "      <td>0.986014</td>\n",
       "      <td>0.026809</td>\n",
       "      <td>0.952501</td>\n",
       "      <td>...</td>\n",
       "      <td>1.184949</td>\n",
       "      <td>NaN</td>\n",
       "      <td>CVCL_0001</td>\n",
       "      <td>5280757</td>\n",
       "      <td>7.796996e-09</td>\n",
       "      <td>1.419270e-08</td>\n",
       "      <td>HEL</td>\n",
       "      <td>Bryostatin 1</td>\n",
       "      <td>CVCL_0001</td>\n",
       "      <td>5280757</td>\n",
       "    </tr>\n",
       "    <tr>\n",
       "      <th>1</th>\n",
       "      <td>CVCL_0002|5280757</td>\n",
       "      <td>0.0</td>\n",
       "      <td>8.409941</td>\n",
       "      <td>10.000000</td>\n",
       "      <td>1.029465</td>\n",
       "      <td>0.831231</td>\n",
       "      <td>-0.266425</td>\n",
       "      <td>1.003695</td>\n",
       "      <td>0.033921</td>\n",
       "      <td>0.786028</td>\n",
       "      <td>...</td>\n",
       "      <td>0.174740</td>\n",
       "      <td>not</td>\n",
       "      <td>CVCL_0002</td>\n",
       "      <td>5280757</td>\n",
       "      <td>3.890980e-09</td>\n",
       "      <td>NaN</td>\n",
       "      <td>HL-60</td>\n",
       "      <td>Bryostatin 1</td>\n",
       "      <td>CVCL_0002</td>\n",
       "      <td>5280757</td>\n",
       "    </tr>\n",
       "    <tr>\n",
       "      <th>2</th>\n",
       "      <td>CVCL_0004|5280757</td>\n",
       "      <td>0.0</td>\n",
       "      <td>8.548625</td>\n",
       "      <td>10.000000</td>\n",
       "      <td>0.994296</td>\n",
       "      <td>1.050375</td>\n",
       "      <td>0.070902</td>\n",
       "      <td>1.004815</td>\n",
       "      <td>0.018237</td>\n",
       "      <td>0.593067</td>\n",
       "      <td>...</td>\n",
       "      <td>-0.000000</td>\n",
       "      <td>not</td>\n",
       "      <td>CVCL_0004</td>\n",
       "      <td>5280757</td>\n",
       "      <td>2.827320e-09</td>\n",
       "      <td>NaN</td>\n",
       "      <td>K-562</td>\n",
       "      <td>Bryostatin 1</td>\n",
       "      <td>CVCL_0004</td>\n",
       "      <td>5280757</td>\n",
       "    </tr>\n",
       "    <tr>\n",
       "      <th>3</th>\n",
       "      <td>CVCL_0005|5280757</td>\n",
       "      <td>0.0</td>\n",
       "      <td>8.438999</td>\n",
       "      <td>10.000000</td>\n",
       "      <td>1.005756</td>\n",
       "      <td>0.473905</td>\n",
       "      <td>-1.076716</td>\n",
       "      <td>0.930203</td>\n",
       "      <td>0.067179</td>\n",
       "      <td>0.884457</td>\n",
       "      <td>...</td>\n",
       "      <td>1.483146</td>\n",
       "      <td>down</td>\n",
       "      <td>CVCL_0005</td>\n",
       "      <td>5280757</td>\n",
       "      <td>3.639161e-09</td>\n",
       "      <td>4.894855e-09</td>\n",
       "      <td>NB4</td>\n",
       "      <td>Bryostatin 1</td>\n",
       "      <td>CVCL_0005</td>\n",
       "      <td>5280757</td>\n",
       "    </tr>\n",
       "    <tr>\n",
       "      <th>4</th>\n",
       "      <td>CVCL_0006|5280757</td>\n",
       "      <td>0.0</td>\n",
       "      <td>8.650062</td>\n",
       "      <td>10.000000</td>\n",
       "      <td>1.011980</td>\n",
       "      <td>0.960338</td>\n",
       "      <td>-0.058386</td>\n",
       "      <td>1.000118</td>\n",
       "      <td>0.021364</td>\n",
       "      <td>0.475456</td>\n",
       "      <td>...</td>\n",
       "      <td>-0.000000</td>\n",
       "      <td>not</td>\n",
       "      <td>CVCL_0006</td>\n",
       "      <td>5280757</td>\n",
       "      <td>2.238399e-09</td>\n",
       "      <td>NaN</td>\n",
       "      <td>THP-1</td>\n",
       "      <td>Bryostatin 1</td>\n",
       "      <td>CVCL_0006</td>\n",
       "      <td>5280757</td>\n",
       "    </tr>\n",
       "    <tr>\n",
       "      <th>...</th>\n",
       "      <td>...</td>\n",
       "      <td>...</td>\n",
       "      <td>...</td>\n",
       "      <td>...</td>\n",
       "      <td>...</td>\n",
       "      <td>...</td>\n",
       "      <td>...</td>\n",
       "      <td>...</td>\n",
       "      <td>...</td>\n",
       "      <td>...</td>\n",
       "      <td>...</td>\n",
       "      <td>...</td>\n",
       "      <td>...</td>\n",
       "      <td>...</td>\n",
       "      <td>...</td>\n",
       "      <td>...</td>\n",
       "      <td>...</td>\n",
       "      <td>...</td>\n",
       "      <td>...</td>\n",
       "      <td>...</td>\n",
       "      <td>...</td>\n",
       "    </tr>\n",
       "    <tr>\n",
       "      <th>316501</th>\n",
       "      <td>CVCL_1679|560326</td>\n",
       "      <td>0.0</td>\n",
       "      <td>3.245661</td>\n",
       "      <td>0.940205</td>\n",
       "      <td>1.146734</td>\n",
       "      <td>0.000100</td>\n",
       "      <td>-2.662959</td>\n",
       "      <td>0.717923</td>\n",
       "      <td>0.131186</td>\n",
       "      <td>0.878403</td>\n",
       "      <td>...</td>\n",
       "      <td>5.885312</td>\n",
       "      <td>down</td>\n",
       "      <td>CVCL_1679</td>\n",
       "      <td>560326</td>\n",
       "      <td>5.679878e-04</td>\n",
       "      <td>7.469557e-04</td>\n",
       "      <td>SBC-5</td>\n",
       "      <td>DMOG</td>\n",
       "      <td>CVCL_1679</td>\n",
       "      <td>560326</td>\n",
       "    </tr>\n",
       "    <tr>\n",
       "      <th>316502</th>\n",
       "      <td>CVCL_1705|8249</td>\n",
       "      <td>0.0</td>\n",
       "      <td>2.695512</td>\n",
       "      <td>0.603697</td>\n",
       "      <td>0.977624</td>\n",
       "      <td>0.370678</td>\n",
       "      <td>-0.707769</td>\n",
       "      <td>0.819998</td>\n",
       "      <td>0.230365</td>\n",
       "      <td>0.196853</td>\n",
       "      <td>...</td>\n",
       "      <td>0.170731</td>\n",
       "      <td>NaN</td>\n",
       "      <td>CVCL_1705</td>\n",
       "      <td>8249</td>\n",
       "      <td>2.015990e-03</td>\n",
       "      <td>1.755447e-02</td>\n",
       "      <td>SN12C</td>\n",
       "      <td>Phenformin</td>\n",
       "      <td>CVCL_1705</td>\n",
       "      <td>8249</td>\n",
       "    </tr>\n",
       "    <tr>\n",
       "      <th>316503</th>\n",
       "      <td>CVCL_1823|8249</td>\n",
       "      <td>0.0</td>\n",
       "      <td>4.361405</td>\n",
       "      <td>0.680181</td>\n",
       "      <td>0.984015</td>\n",
       "      <td>0.000100</td>\n",
       "      <td>-4.521686</td>\n",
       "      <td>0.275513</td>\n",
       "      <td>0.225811</td>\n",
       "      <td>0.548946</td>\n",
       "      <td>...</td>\n",
       "      <td>2.854092</td>\n",
       "      <td>down</td>\n",
       "      <td>CVCL_1823</td>\n",
       "      <td>8249</td>\n",
       "      <td>4.351059e-05</td>\n",
       "      <td>4.149321e-05</td>\n",
       "      <td>KARPAS-620</td>\n",
       "      <td>Phenformin</td>\n",
       "      <td>CVCL_1823</td>\n",
       "      <td>8249</td>\n",
       "    </tr>\n",
       "    <tr>\n",
       "      <th>316504</th>\n",
       "      <td>CVCL_1890|560326</td>\n",
       "      <td>0.0</td>\n",
       "      <td>3.844805</td>\n",
       "      <td>2.201153</td>\n",
       "      <td>1.024656</td>\n",
       "      <td>0.022761</td>\n",
       "      <td>-5.416412</td>\n",
       "      <td>0.423292</td>\n",
       "      <td>0.114006</td>\n",
       "      <td>0.931236</td>\n",
       "      <td>...</td>\n",
       "      <td>9.371340</td>\n",
       "      <td>down</td>\n",
       "      <td>CVCL_1890</td>\n",
       "      <td>560326</td>\n",
       "      <td>1.429537e-04</td>\n",
       "      <td>1.492399e-04</td>\n",
       "      <td>SU-DHL-16</td>\n",
       "      <td>DMOG</td>\n",
       "      <td>CVCL_1890</td>\n",
       "      <td>560326</td>\n",
       "    </tr>\n",
       "    <tr>\n",
       "      <th>316505</th>\n",
       "      <td>CVCL_C171|8249</td>\n",
       "      <td>0.0</td>\n",
       "      <td>2.821921</td>\n",
       "      <td>1.383937</td>\n",
       "      <td>0.911407</td>\n",
       "      <td>0.000100</td>\n",
       "      <td>-2.414642</td>\n",
       "      <td>0.723833</td>\n",
       "      <td>0.136825</td>\n",
       "      <td>0.790504</td>\n",
       "      <td>...</td>\n",
       "      <td>4.346045</td>\n",
       "      <td>down</td>\n",
       "      <td>CVCL_C171</td>\n",
       "      <td>8249</td>\n",
       "      <td>1.506881e-03</td>\n",
       "      <td>1.309002e-03</td>\n",
       "      <td>PCI-4B</td>\n",
       "      <td>Phenformin</td>\n",
       "      <td>CVCL_C171</td>\n",
       "      <td>8249</td>\n",
       "    </tr>\n",
       "  </tbody>\n",
       "</table>\n",
       "<p>316506 rows × 25 columns</p>\n",
       "</div>"
      ],
      "text/plain": [
       "                     Name  SignalQuality  pEC50_curvecurator      Slope  \\\n",
       "0       CVCL_0001|5280757            0.0            8.108073   1.605647   \n",
       "1       CVCL_0002|5280757            0.0            8.409941  10.000000   \n",
       "2       CVCL_0004|5280757            0.0            8.548625  10.000000   \n",
       "3       CVCL_0005|5280757            0.0            8.438999  10.000000   \n",
       "4       CVCL_0006|5280757            0.0            8.650062  10.000000   \n",
       "...                   ...            ...                 ...        ...   \n",
       "316501   CVCL_1679|560326            0.0            3.245661   0.940205   \n",
       "316502     CVCL_1705|8249            0.0            2.695512   0.603697   \n",
       "316503     CVCL_1823|8249            0.0            4.361405   0.680181   \n",
       "316504   CVCL_1890|560326            0.0            3.844805   2.201153   \n",
       "316505     CVCL_C171|8249            0.0            2.821921   1.383937   \n",
       "\n",
       "           Front      Back  FoldChange  AUC_curvecurator      RMSE        R2  \\\n",
       "0       1.046587  0.291085   -0.597186          0.986014  0.026809  0.952501   \n",
       "1       1.029465  0.831231   -0.266425          1.003695  0.033921  0.786028   \n",
       "2       0.994296  1.050375    0.070902          1.004815  0.018237  0.593067   \n",
       "3       1.005756  0.473905   -1.076716          0.930203  0.067179  0.884457   \n",
       "4       1.011980  0.960338   -0.058386          1.000118  0.021364  0.475456   \n",
       "...          ...       ...         ...               ...       ...       ...   \n",
       "316501  1.146734  0.000100   -2.662959          0.717923  0.131186  0.878403   \n",
       "316502  0.977624  0.370678   -0.707769          0.819998  0.230365  0.196853   \n",
       "316503  0.984015  0.000100   -4.521686          0.275513  0.225811  0.548946   \n",
       "316504  1.024656  0.022761   -5.416412          0.423292  0.114006  0.931236   \n",
       "316505  0.911407  0.000100   -2.414642          0.723833  0.136825  0.790504   \n",
       "\n",
       "        ...  RelevanceScore  Regulation  cell_line_id  drug_id  \\\n",
       "0       ...        1.184949         NaN     CVCL_0001  5280757   \n",
       "1       ...        0.174740         not     CVCL_0002  5280757   \n",
       "2       ...       -0.000000         not     CVCL_0004  5280757   \n",
       "3       ...        1.483146        down     CVCL_0005  5280757   \n",
       "4       ...       -0.000000         not     CVCL_0006  5280757   \n",
       "...     ...             ...         ...           ...      ...   \n",
       "316501  ...        5.885312        down     CVCL_1679   560326   \n",
       "316502  ...        0.170731         NaN     CVCL_1705     8249   \n",
       "316503  ...        2.854092        down     CVCL_1823     8249   \n",
       "316504  ...        9.371340        down     CVCL_1890   560326   \n",
       "316505  ...        4.346045        down     CVCL_C171     8249   \n",
       "\n",
       "        EC50_curvecurator  IC50_curvecurator CELL_LINE_NAME     DRUG_NAME  \\\n",
       "0            7.796996e-09       1.419270e-08            HEL  Bryostatin 1   \n",
       "1            3.890980e-09                NaN          HL-60  Bryostatin 1   \n",
       "2            2.827320e-09                NaN          K-562  Bryostatin 1   \n",
       "3            3.639161e-09       4.894855e-09            NB4  Bryostatin 1   \n",
       "4            2.238399e-09                NaN          THP-1  Bryostatin 1   \n",
       "...                   ...                ...            ...           ...   \n",
       "316501       5.679878e-04       7.469557e-04          SBC-5          DMOG   \n",
       "316502       2.015990e-03       1.755447e-02          SN12C    Phenformin   \n",
       "316503       4.351059e-05       4.149321e-05     KARPAS-620    Phenformin   \n",
       "316504       1.429537e-04       1.492399e-04      SU-DHL-16          DMOG   \n",
       "316505       1.506881e-03       1.309002e-03         PCI-4B    Phenformin   \n",
       "\n",
       "           sample     drug  \n",
       "0       CVCL_0001  5280757  \n",
       "1       CVCL_0002  5280757  \n",
       "2       CVCL_0004  5280757  \n",
       "3       CVCL_0005  5280757  \n",
       "4       CVCL_0006  5280757  \n",
       "...           ...      ...  \n",
       "316501  CVCL_1679   560326  \n",
       "316502  CVCL_1705     8249  \n",
       "316503  CVCL_1823     8249  \n",
       "316504  CVCL_1890   560326  \n",
       "316505  CVCL_C171     8249  \n",
       "\n",
       "[316506 rows x 25 columns]"
      ]
     },
     "execution_count": 9,
     "metadata": {},
     "output_type": "execute_result"
    }
   ],
   "source": [
    "# load the curvecurator output\n",
    "viability_df = pd.read_csv(\"curvecurator/GDSC1.csv\", converters={\"cell_line_id\": str, \"drug_id\": str})\n",
    "\n",
    "# load the processed viabilities from 00_preprocess_raw_for_curvecurator.ipynb\n",
    "mapping_df = pd.read_csv(\"viabilities_processed.csv\", converters={\"CELL_LINE_NAME\": str, \"DRUG_NAME\": str, \"sample\": str, \"drug\": str})[[\"CELL_LINE_NAME\", \"DRUG_NAME\", \"sample\", \"drug\"]].drop_duplicates()\n",
    "\n",
    "# merge based on cell_line_id, drug_id to get drug name and cell line name back\n",
    "viability_df = viability_df.merge(mapping_df, left_on=[\"cell_line_id\", \"drug_id\"], right_on=[\"sample\", \"drug\"])\n",
    "viability_df[\"DRUG_NAME\"] = viability_df[\"DRUG_NAME\"].str.strip()\n",
    "viability_df[\"CELL_LINE_NAME\"] = viability_df[\"CELL_LINE_NAME\"].str.strip()\n",
    "viability_df"
   ]
  },
  {
   "cell_type": "code",
   "execution_count": 10,
   "id": "b4689c6d-1e84-4355-87b5-113fcbd79690",
   "metadata": {},
   "outputs": [
    {
     "data": {
      "text/html": [
       "<div>\n",
       "<style scoped>\n",
       "    .dataframe tbody tr th:only-of-type {\n",
       "        vertical-align: middle;\n",
       "    }\n",
       "\n",
       "    .dataframe tbody tr th {\n",
       "        vertical-align: top;\n",
       "    }\n",
       "\n",
       "    .dataframe thead th {\n",
       "        text-align: right;\n",
       "    }\n",
       "</style>\n",
       "<table border=\"1\" class=\"dataframe\">\n",
       "  <thead>\n",
       "    <tr style=\"text-align: right;\">\n",
       "      <th></th>\n",
       "      <th>CELL_LINE_NAME</th>\n",
       "      <th>DRUG_NAME</th>\n",
       "      <th>LN_IC50</th>\n",
       "      <th>AUC</th>\n",
       "      <th>IC50</th>\n",
       "    </tr>\n",
       "  </thead>\n",
       "  <tbody>\n",
       "    <tr>\n",
       "      <th>0</th>\n",
       "      <td>22RV1</td>\n",
       "      <td>(5Z)-7-Oxozeaenol</td>\n",
       "      <td>[2.473594]</td>\n",
       "      <td>[0.869413]</td>\n",
       "      <td>[1.186501317148943e-05]</td>\n",
       "    </tr>\n",
       "    <tr>\n",
       "      <th>1</th>\n",
       "      <td>22RV1</td>\n",
       "      <td>5-Fluorouracil</td>\n",
       "      <td>[0.579534]</td>\n",
       "      <td>[0.483063]</td>\n",
       "      <td>[1.785206330735705e-06]</td>\n",
       "    </tr>\n",
       "    <tr>\n",
       "      <th>2</th>\n",
       "      <td>22RV1</td>\n",
       "      <td>965-D2</td>\n",
       "      <td>[3.072015]</td>\n",
       "      <td>[0.912134]</td>\n",
       "      <td>[2.1585353370766897e-05]</td>\n",
       "    </tr>\n",
       "    <tr>\n",
       "      <th>3</th>\n",
       "      <td>22RV1</td>\n",
       "      <td>993-D2</td>\n",
       "      <td>[5.010936]</td>\n",
       "      <td>[0.979947]</td>\n",
       "      <td>[0.0001500451126680445]</td>\n",
       "    </tr>\n",
       "    <tr>\n",
       "      <th>4</th>\n",
       "      <td>22RV1</td>\n",
       "      <td>A-83-01</td>\n",
       "      <td>[5.299894]</td>\n",
       "      <td>[0.972256]</td>\n",
       "      <td>[0.00020031557539838682]</td>\n",
       "    </tr>\n",
       "    <tr>\n",
       "      <th>...</th>\n",
       "      <td>...</td>\n",
       "      <td>...</td>\n",
       "      <td>...</td>\n",
       "      <td>...</td>\n",
       "      <td>...</td>\n",
       "    </tr>\n",
       "    <tr>\n",
       "      <th>315089</th>\n",
       "      <td>no-11</td>\n",
       "      <td>ZSTK474</td>\n",
       "      <td>[1.364746]</td>\n",
       "      <td>[0.814901]</td>\n",
       "      <td>[3.914728584640217e-06]</td>\n",
       "    </tr>\n",
       "    <tr>\n",
       "      <th>315090</th>\n",
       "      <td>no-11</td>\n",
       "      <td>Zibotentan</td>\n",
       "      <td>[6.212809]</td>\n",
       "      <td>[0.980813]</td>\n",
       "      <td>[0.0004991012594926354]</td>\n",
       "    </tr>\n",
       "    <tr>\n",
       "      <th>315091</th>\n",
       "      <td>no-11</td>\n",
       "      <td>eEF2K Inhibitor, A-484954</td>\n",
       "      <td>[6.063043]</td>\n",
       "      <td>[0.978596]</td>\n",
       "      <td>[0.0004296809686728855]</td>\n",
       "    </tr>\n",
       "    <tr>\n",
       "      <th>315092</th>\n",
       "      <td>no-11</td>\n",
       "      <td>kb NB 142-70</td>\n",
       "      <td>[2.805599]</td>\n",
       "      <td>[0.822334]</td>\n",
       "      <td>[1.653697859008816e-05]</td>\n",
       "    </tr>\n",
       "    <tr>\n",
       "      <th>315093</th>\n",
       "      <td>no-11</td>\n",
       "      <td>rTRAIL</td>\n",
       "      <td>[0.700444]</td>\n",
       "      <td>[0.977571]</td>\n",
       "      <td>[2.0146470121935504e-06]</td>\n",
       "    </tr>\n",
       "  </tbody>\n",
       "</table>\n",
       "<p>315094 rows × 5 columns</p>\n",
       "</div>"
      ],
      "text/plain": [
       "       CELL_LINE_NAME                  DRUG_NAME     LN_IC50         AUC  \\\n",
       "0               22RV1          (5Z)-7-Oxozeaenol  [2.473594]  [0.869413]   \n",
       "1               22RV1             5-Fluorouracil  [0.579534]  [0.483063]   \n",
       "2               22RV1                     965-D2  [3.072015]  [0.912134]   \n",
       "3               22RV1                     993-D2  [5.010936]  [0.979947]   \n",
       "4               22RV1                    A-83-01  [5.299894]  [0.972256]   \n",
       "...               ...                        ...         ...         ...   \n",
       "315089          no-11                    ZSTK474  [1.364746]  [0.814901]   \n",
       "315090          no-11                 Zibotentan  [6.212809]  [0.980813]   \n",
       "315091          no-11  eEF2K Inhibitor, A-484954  [6.063043]  [0.978596]   \n",
       "315092          no-11               kb NB 142-70  [2.805599]  [0.822334]   \n",
       "315093          no-11                     rTRAIL  [0.700444]  [0.977571]   \n",
       "\n",
       "                            IC50  \n",
       "0        [1.186501317148943e-05]  \n",
       "1        [1.785206330735705e-06]  \n",
       "2       [2.1585353370766897e-05]  \n",
       "3        [0.0001500451126680445]  \n",
       "4       [0.00020031557539838682]  \n",
       "...                          ...  \n",
       "315089   [3.914728584640217e-06]  \n",
       "315090   [0.0004991012594926354]  \n",
       "315091   [0.0004296809686728855]  \n",
       "315092   [1.653697859008816e-05]  \n",
       "315093  [2.0146470121935504e-06]  \n",
       "\n",
       "[315094 rows x 5 columns]"
      ]
     },
     "execution_count": 10,
     "metadata": {},
     "output_type": "execute_result"
    }
   ],
   "source": [
    "# load the original data\n",
    "orig_measures_df = pd.read_excel(\"raw/GDSC1_fitted_dose_response_24Jul22.xlsx\", converters={\"CELL_LINE_NAME\": str, \"DRUG_NAME\": str, \"LN_IC50\": float, \"AUC\": float})\n",
    "orig_measures_df[\"IC50\"] = np.exp(orig_measures_df[\"LN_IC50\"]) / 1e6  # original one is in µM, but we need it in M. \n",
    "orig_measures_df[\"DRUG_NAME\"] = orig_measures_df[\"DRUG_NAME\"].str.strip()\n",
    "orig_measures_df[\"CELL_LINE_NAME\"] = orig_measures_df[\"CELL_LINE_NAME\"].str.strip()\n",
    "\n",
    "\n",
    "# group based on CELL_LINE_NAME, DRUG_NAME, since the original data was sometimes fitted separately for some of the replicates\n",
    "orig_measures_df_agg = orig_measures_df.groupby([\"CELL_LINE_NAME\", \"DRUG_NAME\"], as_index=False).agg({\"LN_IC50\": list, \"AUC\": list, \"IC50\": list})\n",
    "orig_measures_df_agg"
   ]
  },
  {
   "cell_type": "code",
   "execution_count": 11,
   "id": "005f72cd-f3a0-4f12-b737-40834a97cea1",
   "metadata": {},
   "outputs": [
    {
     "data": {
      "text/plain": [
       "LN_IC50\n",
       "1    297027\n",
       "2     18067\n",
       "Name: count, dtype: int64"
      ]
     },
     "execution_count": 11,
     "metadata": {},
     "output_type": "execute_result"
    }
   ],
   "source": [
    "# check how many duplicates exist\n",
    "orig_measures_df_agg[\"LN_IC50\"].str.len().value_counts()"
   ]
  },
  {
   "cell_type": "code",
   "execution_count": 13,
   "id": "5c140d2b-5b45-4d35-9fd2-57a4195c73dd",
   "metadata": {},
   "outputs": [
    {
     "data": {
      "text/plain": [
       "<Axes: >"
      ]
     },
     "execution_count": 13,
     "metadata": {},
     "output_type": "execute_result"
    },
    {
     "data": {
      "image/png": "[encoded data removed]",
      "text/plain": [
       "<Figure size 640x480 with 1 Axes>"
      ]
     },
     "metadata": {},
     "output_type": "display_data"
    }
   ],
   "source": [
    "# check how well values agree with each other\n",
    "orig_measures_df_agg.query(\"LN_IC50.str.len()>1\")[\"LN_IC50\"].apply(lambda x: abs(x[1]-x[0])).hist(bins=100)"
   ]
  },
  {
   "cell_type": "code",
   "execution_count": 14,
   "id": "967d6c29-368f-4aa1-9632-a22bde180a7e",
   "metadata": {},
   "outputs": [
    {
     "data": {
      "text/plain": [
       "<Axes: >"
      ]
     },
     "execution_count": 14,
     "metadata": {},
     "output_type": "execute_result"
    },
    {
     "data": {
      "image/png": "[encoded data removed]",
      "text/plain": [
       "<Figure size 640x480 with 1 Axes>"
      ]
     },
     "metadata": {},
     "output_type": "display_data"
    }
   ],
   "source": [
    "orig_measures_df_agg.query(\"AUC.str.len()>1\")[\"AUC\"].apply(lambda x: abs(x[1]-x[0])).hist(bins=100)"
   ]
  },
  {
   "cell_type": "code",
   "execution_count": 15,
   "id": "95310546-cf1a-4b79-82ff-95250a72d2a7",
   "metadata": {},
   "outputs": [
    {
     "data": {
      "text/plain": [
       "<Axes: >"
      ]
     },
     "execution_count": 15,
     "metadata": {},
     "output_type": "execute_result"
    },
    {
     "data": {
      "image/png": "[encoded data removed]",
      "text/plain": [
       "<Figure size 640x480 with 1 Axes>"
      ]
     },
     "metadata": {},
     "output_type": "display_data"
    }
   ],
   "source": [
    "orig_measures_df_agg.query(\"IC50.str.len()>1\")[\"IC50\"].apply(lambda x: abs(x[1]-x[0])).hist(bins=100)"
   ]
  },
  {
   "cell_type": "code",
   "execution_count": 16,
   "id": "0dab89c1-bdd5-4433-8e6a-8bd19d11df68",
   "metadata": {},
   "outputs": [
    {
     "data": {
      "text/html": [
       "<div>\n",
       "<style scoped>\n",
       "    .dataframe tbody tr th:only-of-type {\n",
       "        vertical-align: middle;\n",
       "    }\n",
       "\n",
       "    .dataframe tbody tr th {\n",
       "        vertical-align: top;\n",
       "    }\n",
       "\n",
       "    .dataframe thead th {\n",
       "        text-align: right;\n",
       "    }\n",
       "</style>\n",
       "<table border=\"1\" class=\"dataframe\">\n",
       "  <thead>\n",
       "    <tr style=\"text-align: right;\">\n",
       "      <th></th>\n",
       "      <th>CELL_LINE_NAME</th>\n",
       "      <th>DRUG_NAME</th>\n",
       "      <th>LN_IC50</th>\n",
       "      <th>AUC</th>\n",
       "      <th>IC50</th>\n",
       "    </tr>\n",
       "  </thead>\n",
       "  <tbody>\n",
       "    <tr>\n",
       "      <th>0</th>\n",
       "      <td>22RV1</td>\n",
       "      <td>(5Z)-7-Oxozeaenol</td>\n",
       "      <td>2.473594</td>\n",
       "      <td>0.869413</td>\n",
       "      <td>0.000012</td>\n",
       "    </tr>\n",
       "    <tr>\n",
       "      <th>1</th>\n",
       "      <td>22RV1</td>\n",
       "      <td>5-Fluorouracil</td>\n",
       "      <td>0.579534</td>\n",
       "      <td>0.483063</td>\n",
       "      <td>0.000002</td>\n",
       "    </tr>\n",
       "    <tr>\n",
       "      <th>2</th>\n",
       "      <td>22RV1</td>\n",
       "      <td>965-D2</td>\n",
       "      <td>3.072015</td>\n",
       "      <td>0.912134</td>\n",
       "      <td>0.000022</td>\n",
       "    </tr>\n",
       "    <tr>\n",
       "      <th>3</th>\n",
       "      <td>22RV1</td>\n",
       "      <td>993-D2</td>\n",
       "      <td>5.010936</td>\n",
       "      <td>0.979947</td>\n",
       "      <td>0.000150</td>\n",
       "    </tr>\n",
       "    <tr>\n",
       "      <th>4</th>\n",
       "      <td>22RV1</td>\n",
       "      <td>A-83-01</td>\n",
       "      <td>5.299894</td>\n",
       "      <td>0.972256</td>\n",
       "      <td>0.000200</td>\n",
       "    </tr>\n",
       "    <tr>\n",
       "      <th>...</th>\n",
       "      <td>...</td>\n",
       "      <td>...</td>\n",
       "      <td>...</td>\n",
       "      <td>...</td>\n",
       "      <td>...</td>\n",
       "    </tr>\n",
       "    <tr>\n",
       "      <th>315089</th>\n",
       "      <td>no-11</td>\n",
       "      <td>ZSTK474</td>\n",
       "      <td>1.364746</td>\n",
       "      <td>0.814901</td>\n",
       "      <td>0.000004</td>\n",
       "    </tr>\n",
       "    <tr>\n",
       "      <th>315090</th>\n",
       "      <td>no-11</td>\n",
       "      <td>Zibotentan</td>\n",
       "      <td>6.212809</td>\n",
       "      <td>0.980813</td>\n",
       "      <td>0.000499</td>\n",
       "    </tr>\n",
       "    <tr>\n",
       "      <th>315091</th>\n",
       "      <td>no-11</td>\n",
       "      <td>eEF2K Inhibitor, A-484954</td>\n",
       "      <td>6.063043</td>\n",
       "      <td>0.978596</td>\n",
       "      <td>0.000430</td>\n",
       "    </tr>\n",
       "    <tr>\n",
       "      <th>315092</th>\n",
       "      <td>no-11</td>\n",
       "      <td>kb NB 142-70</td>\n",
       "      <td>2.805599</td>\n",
       "      <td>0.822334</td>\n",
       "      <td>0.000017</td>\n",
       "    </tr>\n",
       "    <tr>\n",
       "      <th>315093</th>\n",
       "      <td>no-11</td>\n",
       "      <td>rTRAIL</td>\n",
       "      <td>0.700444</td>\n",
       "      <td>0.977571</td>\n",
       "      <td>0.000002</td>\n",
       "    </tr>\n",
       "  </tbody>\n",
       "</table>\n",
       "<p>315094 rows × 5 columns</p>\n",
       "</div>"
      ],
      "text/plain": [
       "       CELL_LINE_NAME                  DRUG_NAME   LN_IC50       AUC      IC50\n",
       "0               22RV1          (5Z)-7-Oxozeaenol  2.473594  0.869413  0.000012\n",
       "1               22RV1             5-Fluorouracil  0.579534  0.483063  0.000002\n",
       "2               22RV1                     965-D2  3.072015  0.912134  0.000022\n",
       "3               22RV1                     993-D2  5.010936  0.979947  0.000150\n",
       "4               22RV1                    A-83-01  5.299894  0.972256  0.000200\n",
       "...               ...                        ...       ...       ...       ...\n",
       "315089          no-11                    ZSTK474  1.364746  0.814901  0.000004\n",
       "315090          no-11                 Zibotentan  6.212809  0.980813  0.000499\n",
       "315091          no-11  eEF2K Inhibitor, A-484954  6.063043  0.978596  0.000430\n",
       "315092          no-11               kb NB 142-70  2.805599  0.822334  0.000017\n",
       "315093          no-11                     rTRAIL  0.700444  0.977571  0.000002\n",
       "\n",
       "[315094 rows x 5 columns]"
      ]
     },
     "execution_count": 16,
     "metadata": {},
     "output_type": "execute_result"
    }
   ],
   "source": [
    "# aggregate mean\n",
    "orig_measures_df = orig_measures_df.groupby([\"CELL_LINE_NAME\", \"DRUG_NAME\"], as_index=False).agg({\"LN_IC50\": 'mean', \"AUC\": 'mean', \"IC50\": 'mean'})\n",
    "orig_measures_df"
   ]
  },
  {
   "cell_type": "code",
   "execution_count": 17,
   "id": "43bec310-b5ee-493b-98da-7b59956d2a30",
   "metadata": {},
   "outputs": [
    {
     "data": {
      "text/html": [
       "<div>\n",
       "<style scoped>\n",
       "    .dataframe tbody tr th:only-of-type {\n",
       "        vertical-align: middle;\n",
       "    }\n",
       "\n",
       "    .dataframe tbody tr th {\n",
       "        vertical-align: top;\n",
       "    }\n",
       "\n",
       "    .dataframe thead th {\n",
       "        text-align: right;\n",
       "    }\n",
       "</style>\n",
       "<table border=\"1\" class=\"dataframe\">\n",
       "  <thead>\n",
       "    <tr style=\"text-align: right;\">\n",
       "      <th></th>\n",
       "      <th>Name</th>\n",
       "      <th>SignalQuality</th>\n",
       "      <th>pEC50_curvecurator</th>\n",
       "      <th>Slope</th>\n",
       "      <th>Front</th>\n",
       "      <th>Back</th>\n",
       "      <th>FoldChange</th>\n",
       "      <th>AUC_curvecurator</th>\n",
       "      <th>RMSE</th>\n",
       "      <th>R2</th>\n",
       "      <th>...</th>\n",
       "      <th>drug_id</th>\n",
       "      <th>EC50_curvecurator</th>\n",
       "      <th>IC50_curvecurator</th>\n",
       "      <th>CELL_LINE_NAME</th>\n",
       "      <th>DRUG_NAME</th>\n",
       "      <th>sample</th>\n",
       "      <th>drug</th>\n",
       "      <th>LN_IC50</th>\n",
       "      <th>AUC</th>\n",
       "      <th>IC50</th>\n",
       "    </tr>\n",
       "  </thead>\n",
       "  <tbody>\n",
       "    <tr>\n",
       "      <th>0</th>\n",
       "      <td>CVCL_0001|5280757</td>\n",
       "      <td>0.0</td>\n",
       "      <td>8.108073</td>\n",
       "      <td>1.605647</td>\n",
       "      <td>1.046587</td>\n",
       "      <td>0.291085</td>\n",
       "      <td>-0.597186</td>\n",
       "      <td>0.986014</td>\n",
       "      <td>0.026809</td>\n",
       "      <td>0.952501</td>\n",
       "      <td>...</td>\n",
       "      <td>5280757</td>\n",
       "      <td>7.796996e-09</td>\n",
       "      <td>1.419270e-08</td>\n",
       "      <td>HEL</td>\n",
       "      <td>Bryostatin 1</td>\n",
       "      <td>CVCL_0001</td>\n",
       "      <td>5280757</td>\n",
       "      <td>-4.307089</td>\n",
       "      <td>0.948487</td>\n",
       "      <td>1.347271e-08</td>\n",
       "    </tr>\n",
       "    <tr>\n",
       "      <th>1</th>\n",
       "      <td>CVCL_0002|5280757</td>\n",
       "      <td>0.0</td>\n",
       "      <td>8.409941</td>\n",
       "      <td>10.000000</td>\n",
       "      <td>1.029465</td>\n",
       "      <td>0.831231</td>\n",
       "      <td>-0.266425</td>\n",
       "      <td>1.003695</td>\n",
       "      <td>0.033921</td>\n",
       "      <td>0.786028</td>\n",
       "      <td>...</td>\n",
       "      <td>5280757</td>\n",
       "      <td>3.890980e-09</td>\n",
       "      <td>NaN</td>\n",
       "      <td>HL-60</td>\n",
       "      <td>Bryostatin 1</td>\n",
       "      <td>CVCL_0002</td>\n",
       "      <td>5280757</td>\n",
       "      <td>-3.383405</td>\n",
       "      <td>0.968259</td>\n",
       "      <td>3.393172e-08</td>\n",
       "    </tr>\n",
       "    <tr>\n",
       "      <th>2</th>\n",
       "      <td>CVCL_0004|5280757</td>\n",
       "      <td>0.0</td>\n",
       "      <td>8.548625</td>\n",
       "      <td>10.000000</td>\n",
       "      <td>0.994296</td>\n",
       "      <td>1.050375</td>\n",
       "      <td>0.070902</td>\n",
       "      <td>1.004815</td>\n",
       "      <td>0.018237</td>\n",
       "      <td>0.593067</td>\n",
       "      <td>...</td>\n",
       "      <td>5280757</td>\n",
       "      <td>2.827320e-09</td>\n",
       "      <td>NaN</td>\n",
       "      <td>K-562</td>\n",
       "      <td>Bryostatin 1</td>\n",
       "      <td>CVCL_0004</td>\n",
       "      <td>5280757</td>\n",
       "      <td>-2.285847</td>\n",
       "      <td>0.983966</td>\n",
       "      <td>1.016879e-07</td>\n",
       "    </tr>\n",
       "    <tr>\n",
       "      <th>3</th>\n",
       "      <td>CVCL_0005|5280757</td>\n",
       "      <td>0.0</td>\n",
       "      <td>8.438999</td>\n",
       "      <td>10.000000</td>\n",
       "      <td>1.005756</td>\n",
       "      <td>0.473905</td>\n",
       "      <td>-1.076716</td>\n",
       "      <td>0.930203</td>\n",
       "      <td>0.067179</td>\n",
       "      <td>0.884457</td>\n",
       "      <td>...</td>\n",
       "      <td>5280757</td>\n",
       "      <td>3.639161e-09</td>\n",
       "      <td>4.894855e-09</td>\n",
       "      <td>NB4</td>\n",
       "      <td>Bryostatin 1</td>\n",
       "      <td>CVCL_0005</td>\n",
       "      <td>5280757</td>\n",
       "      <td>-4.940283</td>\n",
       "      <td>0.904285</td>\n",
       "      <td>7.152574e-09</td>\n",
       "    </tr>\n",
       "    <tr>\n",
       "      <th>4</th>\n",
       "      <td>CVCL_0006|5280757</td>\n",
       "      <td>0.0</td>\n",
       "      <td>8.650062</td>\n",
       "      <td>10.000000</td>\n",
       "      <td>1.011980</td>\n",
       "      <td>0.960338</td>\n",
       "      <td>-0.058386</td>\n",
       "      <td>1.000118</td>\n",
       "      <td>0.021364</td>\n",
       "      <td>0.475456</td>\n",
       "      <td>...</td>\n",
       "      <td>5280757</td>\n",
       "      <td>2.238399e-09</td>\n",
       "      <td>NaN</td>\n",
       "      <td>THP-1</td>\n",
       "      <td>Bryostatin 1</td>\n",
       "      <td>CVCL_0006</td>\n",
       "      <td>5280757</td>\n",
       "      <td>-2.800297</td>\n",
       "      <td>0.987445</td>\n",
       "      <td>6.079200e-08</td>\n",
       "    </tr>\n",
       "    <tr>\n",
       "      <th>...</th>\n",
       "      <td>...</td>\n",
       "      <td>...</td>\n",
       "      <td>...</td>\n",
       "      <td>...</td>\n",
       "      <td>...</td>\n",
       "      <td>...</td>\n",
       "      <td>...</td>\n",
       "      <td>...</td>\n",
       "      <td>...</td>\n",
       "      <td>...</td>\n",
       "      <td>...</td>\n",
       "      <td>...</td>\n",
       "      <td>...</td>\n",
       "      <td>...</td>\n",
       "      <td>...</td>\n",
       "      <td>...</td>\n",
       "      <td>...</td>\n",
       "      <td>...</td>\n",
       "      <td>...</td>\n",
       "      <td>...</td>\n",
       "      <td>...</td>\n",
       "    </tr>\n",
       "    <tr>\n",
       "      <th>316861</th>\n",
       "      <td>NaN</td>\n",
       "      <td>NaN</td>\n",
       "      <td>NaN</td>\n",
       "      <td>NaN</td>\n",
       "      <td>NaN</td>\n",
       "      <td>NaN</td>\n",
       "      <td>NaN</td>\n",
       "      <td>NaN</td>\n",
       "      <td>NaN</td>\n",
       "      <td>NaN</td>\n",
       "      <td>...</td>\n",
       "      <td>NaN</td>\n",
       "      <td>NaN</td>\n",
       "      <td>NaN</td>\n",
       "      <td>WSU-DLCL2</td>\n",
       "      <td>FY012</td>\n",
       "      <td>NaN</td>\n",
       "      <td>NaN</td>\n",
       "      <td>-0.011069</td>\n",
       "      <td>0.577376</td>\n",
       "      <td>9.889920e-07</td>\n",
       "    </tr>\n",
       "    <tr>\n",
       "      <th>316862</th>\n",
       "      <td>NaN</td>\n",
       "      <td>NaN</td>\n",
       "      <td>NaN</td>\n",
       "      <td>NaN</td>\n",
       "      <td>NaN</td>\n",
       "      <td>NaN</td>\n",
       "      <td>NaN</td>\n",
       "      <td>NaN</td>\n",
       "      <td>NaN</td>\n",
       "      <td>NaN</td>\n",
       "      <td>...</td>\n",
       "      <td>NaN</td>\n",
       "      <td>NaN</td>\n",
       "      <td>NaN</td>\n",
       "      <td>WSU-DLCL2</td>\n",
       "      <td>HG-5-88-01</td>\n",
       "      <td>NaN</td>\n",
       "      <td>NaN</td>\n",
       "      <td>-0.947387</td>\n",
       "      <td>0.419535</td>\n",
       "      <td>3.877529e-07</td>\n",
       "    </tr>\n",
       "    <tr>\n",
       "      <th>316863</th>\n",
       "      <td>NaN</td>\n",
       "      <td>NaN</td>\n",
       "      <td>NaN</td>\n",
       "      <td>NaN</td>\n",
       "      <td>NaN</td>\n",
       "      <td>NaN</td>\n",
       "      <td>NaN</td>\n",
       "      <td>NaN</td>\n",
       "      <td>NaN</td>\n",
       "      <td>NaN</td>\n",
       "      <td>...</td>\n",
       "      <td>NaN</td>\n",
       "      <td>NaN</td>\n",
       "      <td>NaN</td>\n",
       "      <td>WSU-DLCL2</td>\n",
       "      <td>IOX2</td>\n",
       "      <td>NaN</td>\n",
       "      <td>NaN</td>\n",
       "      <td>-6.229739</td>\n",
       "      <td>0.308971</td>\n",
       "      <td>1.969966e-09</td>\n",
       "    </tr>\n",
       "    <tr>\n",
       "      <th>316864</th>\n",
       "      <td>NaN</td>\n",
       "      <td>NaN</td>\n",
       "      <td>NaN</td>\n",
       "      <td>NaN</td>\n",
       "      <td>NaN</td>\n",
       "      <td>NaN</td>\n",
       "      <td>NaN</td>\n",
       "      <td>NaN</td>\n",
       "      <td>NaN</td>\n",
       "      <td>NaN</td>\n",
       "      <td>...</td>\n",
       "      <td>NaN</td>\n",
       "      <td>NaN</td>\n",
       "      <td>NaN</td>\n",
       "      <td>YT</td>\n",
       "      <td>Belinostat</td>\n",
       "      <td>NaN</td>\n",
       "      <td>NaN</td>\n",
       "      <td>-2.577531</td>\n",
       "      <td>0.100658</td>\n",
       "      <td>7.596132e-08</td>\n",
       "    </tr>\n",
       "    <tr>\n",
       "      <th>316865</th>\n",
       "      <td>NaN</td>\n",
       "      <td>NaN</td>\n",
       "      <td>NaN</td>\n",
       "      <td>NaN</td>\n",
       "      <td>NaN</td>\n",
       "      <td>NaN</td>\n",
       "      <td>NaN</td>\n",
       "      <td>NaN</td>\n",
       "      <td>NaN</td>\n",
       "      <td>NaN</td>\n",
       "      <td>...</td>\n",
       "      <td>NaN</td>\n",
       "      <td>NaN</td>\n",
       "      <td>NaN</td>\n",
       "      <td>ZR-75-30</td>\n",
       "      <td>torin2</td>\n",
       "      <td>NaN</td>\n",
       "      <td>NaN</td>\n",
       "      <td>2.226058</td>\n",
       "      <td>0.810394</td>\n",
       "      <td>9.263278e-06</td>\n",
       "    </tr>\n",
       "  </tbody>\n",
       "</table>\n",
       "<p>316866 rows × 28 columns</p>\n",
       "</div>"
      ],
      "text/plain": [
       "                     Name  SignalQuality  pEC50_curvecurator      Slope  \\\n",
       "0       CVCL_0001|5280757            0.0            8.108073   1.605647   \n",
       "1       CVCL_0002|5280757            0.0            8.409941  10.000000   \n",
       "2       CVCL_0004|5280757            0.0            8.548625  10.000000   \n",
       "3       CVCL_0005|5280757            0.0            8.438999  10.000000   \n",
       "4       CVCL_0006|5280757            0.0            8.650062  10.000000   \n",
       "...                   ...            ...                 ...        ...   \n",
       "316861                NaN            NaN                 NaN        NaN   \n",
       "316862                NaN            NaN                 NaN        NaN   \n",
       "316863                NaN            NaN                 NaN        NaN   \n",
       "316864                NaN            NaN                 NaN        NaN   \n",
       "316865                NaN            NaN                 NaN        NaN   \n",
       "\n",
       "           Front      Back  FoldChange  AUC_curvecurator      RMSE        R2  \\\n",
       "0       1.046587  0.291085   -0.597186          0.986014  0.026809  0.952501   \n",
       "1       1.029465  0.831231   -0.266425          1.003695  0.033921  0.786028   \n",
       "2       0.994296  1.050375    0.070902          1.004815  0.018237  0.593067   \n",
       "3       1.005756  0.473905   -1.076716          0.930203  0.067179  0.884457   \n",
       "4       1.011980  0.960338   -0.058386          1.000118  0.021364  0.475456   \n",
       "...          ...       ...         ...               ...       ...       ...   \n",
       "316861       NaN       NaN         NaN               NaN       NaN       NaN   \n",
       "316862       NaN       NaN         NaN               NaN       NaN       NaN   \n",
       "316863       NaN       NaN         NaN               NaN       NaN       NaN   \n",
       "316864       NaN       NaN         NaN               NaN       NaN       NaN   \n",
       "316865       NaN       NaN         NaN               NaN       NaN       NaN   \n",
       "\n",
       "        ...  drug_id  EC50_curvecurator  IC50_curvecurator  CELL_LINE_NAME  \\\n",
       "0       ...  5280757       7.796996e-09       1.419270e-08             HEL   \n",
       "1       ...  5280757       3.890980e-09                NaN           HL-60   \n",
       "2       ...  5280757       2.827320e-09                NaN           K-562   \n",
       "3       ...  5280757       3.639161e-09       4.894855e-09             NB4   \n",
       "4       ...  5280757       2.238399e-09                NaN           THP-1   \n",
       "...     ...      ...                ...                ...             ...   \n",
       "316861  ...      NaN                NaN                NaN       WSU-DLCL2   \n",
       "316862  ...      NaN                NaN                NaN       WSU-DLCL2   \n",
       "316863  ...      NaN                NaN                NaN       WSU-DLCL2   \n",
       "316864  ...      NaN                NaN                NaN              YT   \n",
       "316865  ...      NaN                NaN                NaN        ZR-75-30   \n",
       "\n",
       "           DRUG_NAME     sample     drug   LN_IC50       AUC          IC50  \n",
       "0       Bryostatin 1  CVCL_0001  5280757 -4.307089  0.948487  1.347271e-08  \n",
       "1       Bryostatin 1  CVCL_0002  5280757 -3.383405  0.968259  3.393172e-08  \n",
       "2       Bryostatin 1  CVCL_0004  5280757 -2.285847  0.983966  1.016879e-07  \n",
       "3       Bryostatin 1  CVCL_0005  5280757 -4.940283  0.904285  7.152574e-09  \n",
       "4       Bryostatin 1  CVCL_0006  5280757 -2.800297  0.987445  6.079200e-08  \n",
       "...              ...        ...      ...       ...       ...           ...  \n",
       "316861         FY012        NaN      NaN -0.011069  0.577376  9.889920e-07  \n",
       "316862    HG-5-88-01        NaN      NaN -0.947387  0.419535  3.877529e-07  \n",
       "316863          IOX2        NaN      NaN -6.229739  0.308971  1.969966e-09  \n",
       "316864    Belinostat        NaN      NaN -2.577531  0.100658  7.596132e-08  \n",
       "316865        torin2        NaN      NaN  2.226058  0.810394  9.263278e-06  \n",
       "\n",
       "[316866 rows x 28 columns]"
      ]
     },
     "execution_count": 17,
     "metadata": {},
     "output_type": "execute_result"
    }
   ],
   "source": [
    "# merge curvecurator and original fits\n",
    "mapped_response_df = viability_df.merge(orig_measures_df, on=[\"DRUG_NAME\", \"CELL_LINE_NAME\"], how='outer')\n",
    "mapped_response_df"
   ]
  },
  {
   "cell_type": "code",
   "execution_count": 30,
   "id": "f7d4c1cc-277c-4164-b1bf-e469a0b276f9",
   "metadata": {},
   "outputs": [
    {
     "data": {
      "image/png": "[encoded data removed]",
      "text/plain": [
       "<Figure size 640x480 with 1 Axes>"
      ]
     },
     "metadata": {},
     "output_type": "display_data"
    }
   ],
   "source": [
    "sns.scatterplot(mapped_response_df, x=\"IC50_curvecurator\", y=\"IC50\", s=1)\n",
    "plt.xlim(1e-9,1e-0)\n",
    "plt.ylim(1e-9,1e-0)\n",
    "\n",
    "plt.xscale('log')\n",
    "plt.yscale('log')"
   ]
  },
  {
   "cell_type": "code",
   "execution_count": 19,
   "id": "576caa02-284b-4cce-84fa-80d6f2f7ea59",
   "metadata": {},
   "outputs": [
    {
     "data": {
      "text/html": [
       "<div>\n",
       "<style scoped>\n",
       "    .dataframe tbody tr th:only-of-type {\n",
       "        vertical-align: middle;\n",
       "    }\n",
       "\n",
       "    .dataframe tbody tr th {\n",
       "        vertical-align: top;\n",
       "    }\n",
       "\n",
       "    .dataframe thead th {\n",
       "        text-align: right;\n",
       "    }\n",
       "</style>\n",
       "<table border=\"1\" class=\"dataframe\">\n",
       "  <thead>\n",
       "    <tr style=\"text-align: right;\">\n",
       "      <th></th>\n",
       "      <th>Name</th>\n",
       "      <th>SignalQuality</th>\n",
       "      <th>pEC50_curvecurator</th>\n",
       "      <th>Slope</th>\n",
       "      <th>Front</th>\n",
       "      <th>Back</th>\n",
       "      <th>FoldChange</th>\n",
       "      <th>AUC_curvecurator</th>\n",
       "      <th>RMSE</th>\n",
       "      <th>R2</th>\n",
       "      <th>...</th>\n",
       "      <th>drug_id</th>\n",
       "      <th>EC50_curvecurator</th>\n",
       "      <th>IC50_curvecurator</th>\n",
       "      <th>CELL_LINE_NAME</th>\n",
       "      <th>DRUG_NAME</th>\n",
       "      <th>sample</th>\n",
       "      <th>drug</th>\n",
       "      <th>LN_IC50</th>\n",
       "      <th>AUC</th>\n",
       "      <th>IC50</th>\n",
       "    </tr>\n",
       "  </thead>\n",
       "  <tbody>\n",
       "    <tr>\n",
       "      <th>0</th>\n",
       "      <td>CVCL_0001|5280757</td>\n",
       "      <td>0.0</td>\n",
       "      <td>8.108073</td>\n",
       "      <td>1.605647</td>\n",
       "      <td>1.046587</td>\n",
       "      <td>0.291085</td>\n",
       "      <td>-0.597186</td>\n",
       "      <td>0.986014</td>\n",
       "      <td>0.026809</td>\n",
       "      <td>0.952501</td>\n",
       "      <td>...</td>\n",
       "      <td>5280757</td>\n",
       "      <td>7.796996e-09</td>\n",
       "      <td>1.419270e-08</td>\n",
       "      <td>HEL</td>\n",
       "      <td>Bryostatin 1</td>\n",
       "      <td>CVCL_0001</td>\n",
       "      <td>5280757</td>\n",
       "      <td>-4.307089</td>\n",
       "      <td>0.948487</td>\n",
       "      <td>1.347271e-08</td>\n",
       "    </tr>\n",
       "    <tr>\n",
       "      <th>3</th>\n",
       "      <td>CVCL_0005|5280757</td>\n",
       "      <td>0.0</td>\n",
       "      <td>8.438999</td>\n",
       "      <td>10.000000</td>\n",
       "      <td>1.005756</td>\n",
       "      <td>0.473905</td>\n",
       "      <td>-1.076716</td>\n",
       "      <td>0.930203</td>\n",
       "      <td>0.067179</td>\n",
       "      <td>0.884457</td>\n",
       "      <td>...</td>\n",
       "      <td>5280757</td>\n",
       "      <td>3.639161e-09</td>\n",
       "      <td>4.894855e-09</td>\n",
       "      <td>NB4</td>\n",
       "      <td>Bryostatin 1</td>\n",
       "      <td>CVCL_0005</td>\n",
       "      <td>5280757</td>\n",
       "      <td>-4.940283</td>\n",
       "      <td>0.904285</td>\n",
       "      <td>7.152574e-09</td>\n",
       "    </tr>\n",
       "    <tr>\n",
       "      <th>57</th>\n",
       "      <td>CVCL_0258|5280757</td>\n",
       "      <td>0.0</td>\n",
       "      <td>7.932904</td>\n",
       "      <td>0.973678</td>\n",
       "      <td>0.994555</td>\n",
       "      <td>0.103593</td>\n",
       "      <td>-0.666428</td>\n",
       "      <td>0.908255</td>\n",
       "      <td>0.012824</td>\n",
       "      <td>0.987911</td>\n",
       "      <td>...</td>\n",
       "      <td>5280757</td>\n",
       "      <td>1.167069e-08</td>\n",
       "      <td>1.464761e-08</td>\n",
       "      <td>EoL-1-cell</td>\n",
       "      <td>Bryostatin 1</td>\n",
       "      <td>CVCL_0258</td>\n",
       "      <td>5280757</td>\n",
       "      <td>-4.458350</td>\n",
       "      <td>0.915658</td>\n",
       "      <td>1.158146e-08</td>\n",
       "    </tr>\n",
       "    <tr>\n",
       "      <th>60</th>\n",
       "      <td>CVCL_0291|5280757</td>\n",
       "      <td>0.0</td>\n",
       "      <td>8.071121</td>\n",
       "      <td>10.000000</td>\n",
       "      <td>1.014154</td>\n",
       "      <td>0.000101</td>\n",
       "      <td>-0.613976</td>\n",
       "      <td>1.006113</td>\n",
       "      <td>0.037665</td>\n",
       "      <td>0.891939</td>\n",
       "      <td>...</td>\n",
       "      <td>5280757</td>\n",
       "      <td>8.489437e-09</td>\n",
       "      <td>8.513339e-09</td>\n",
       "      <td>HCT-116</td>\n",
       "      <td>Bryostatin 1</td>\n",
       "      <td>CVCL_0291</td>\n",
       "      <td>5280757</td>\n",
       "      <td>-3.874437</td>\n",
       "      <td>0.952793</td>\n",
       "      <td>2.076603e-08</td>\n",
       "    </tr>\n",
       "    <tr>\n",
       "      <th>62</th>\n",
       "      <td>CVCL_0312|5280757</td>\n",
       "      <td>0.0</td>\n",
       "      <td>8.074083</td>\n",
       "      <td>10.000000</td>\n",
       "      <td>0.978322</td>\n",
       "      <td>0.000100</td>\n",
       "      <td>-0.701638</td>\n",
       "      <td>0.970128</td>\n",
       "      <td>0.064571</td>\n",
       "      <td>0.740398</td>\n",
       "      <td>...</td>\n",
       "      <td>5280757</td>\n",
       "      <td>8.431742e-09</td>\n",
       "      <td>8.394619e-09</td>\n",
       "      <td>HOS</td>\n",
       "      <td>Bryostatin 1</td>\n",
       "      <td>CVCL_0312</td>\n",
       "      <td>5280757</td>\n",
       "      <td>-4.058017</td>\n",
       "      <td>0.942260</td>\n",
       "      <td>1.728326e-08</td>\n",
       "    </tr>\n",
       "    <tr>\n",
       "      <th>...</th>\n",
       "      <td>...</td>\n",
       "      <td>...</td>\n",
       "      <td>...</td>\n",
       "      <td>...</td>\n",
       "      <td>...</td>\n",
       "      <td>...</td>\n",
       "      <td>...</td>\n",
       "      <td>...</td>\n",
       "      <td>...</td>\n",
       "      <td>...</td>\n",
       "      <td>...</td>\n",
       "      <td>...</td>\n",
       "      <td>...</td>\n",
       "      <td>...</td>\n",
       "      <td>...</td>\n",
       "      <td>...</td>\n",
       "      <td>...</td>\n",
       "      <td>...</td>\n",
       "      <td>...</td>\n",
       "      <td>...</td>\n",
       "      <td>...</td>\n",
       "    </tr>\n",
       "    <tr>\n",
       "      <th>316501</th>\n",
       "      <td>CVCL_1679|560326</td>\n",
       "      <td>0.0</td>\n",
       "      <td>3.245661</td>\n",
       "      <td>0.940205</td>\n",
       "      <td>1.146734</td>\n",
       "      <td>0.000100</td>\n",
       "      <td>-2.662959</td>\n",
       "      <td>0.717923</td>\n",
       "      <td>0.131186</td>\n",
       "      <td>0.878403</td>\n",
       "      <td>...</td>\n",
       "      <td>560326</td>\n",
       "      <td>5.679878e-04</td>\n",
       "      <td>7.469557e-04</td>\n",
       "      <td>SBC-5</td>\n",
       "      <td>DMOG</td>\n",
       "      <td>CVCL_1679</td>\n",
       "      <td>560326</td>\n",
       "      <td>6.708085</td>\n",
       "      <td>0.698649</td>\n",
       "      <td>8.190008e-04</td>\n",
       "    </tr>\n",
       "    <tr>\n",
       "      <th>316502</th>\n",
       "      <td>CVCL_1705|8249</td>\n",
       "      <td>0.0</td>\n",
       "      <td>2.695512</td>\n",
       "      <td>0.603697</td>\n",
       "      <td>0.977624</td>\n",
       "      <td>0.370678</td>\n",
       "      <td>-0.707769</td>\n",
       "      <td>0.819998</td>\n",
       "      <td>0.230365</td>\n",
       "      <td>0.196853</td>\n",
       "      <td>...</td>\n",
       "      <td>8249</td>\n",
       "      <td>2.015990e-03</td>\n",
       "      <td>1.755447e-02</td>\n",
       "      <td>SN12C</td>\n",
       "      <td>Phenformin</td>\n",
       "      <td>CVCL_1705</td>\n",
       "      <td>8249</td>\n",
       "      <td>8.394486</td>\n",
       "      <td>0.860953</td>\n",
       "      <td>4.422613e-03</td>\n",
       "    </tr>\n",
       "    <tr>\n",
       "      <th>316503</th>\n",
       "      <td>CVCL_1823|8249</td>\n",
       "      <td>0.0</td>\n",
       "      <td>4.361405</td>\n",
       "      <td>0.680181</td>\n",
       "      <td>0.984015</td>\n",
       "      <td>0.000100</td>\n",
       "      <td>-4.521686</td>\n",
       "      <td>0.275513</td>\n",
       "      <td>0.225811</td>\n",
       "      <td>0.548946</td>\n",
       "      <td>...</td>\n",
       "      <td>8249</td>\n",
       "      <td>4.351059e-05</td>\n",
       "      <td>4.149321e-05</td>\n",
       "      <td>KARPAS-620</td>\n",
       "      <td>Phenformin</td>\n",
       "      <td>CVCL_1823</td>\n",
       "      <td>8249</td>\n",
       "      <td>3.869974</td>\n",
       "      <td>0.233076</td>\n",
       "      <td>4.794114e-05</td>\n",
       "    </tr>\n",
       "    <tr>\n",
       "      <th>316504</th>\n",
       "      <td>CVCL_1890|560326</td>\n",
       "      <td>0.0</td>\n",
       "      <td>3.844805</td>\n",
       "      <td>2.201153</td>\n",
       "      <td>1.024656</td>\n",
       "      <td>0.022761</td>\n",
       "      <td>-5.416412</td>\n",
       "      <td>0.423292</td>\n",
       "      <td>0.114006</td>\n",
       "      <td>0.931236</td>\n",
       "      <td>...</td>\n",
       "      <td>560326</td>\n",
       "      <td>1.429537e-04</td>\n",
       "      <td>1.492399e-04</td>\n",
       "      <td>SU-DHL-16</td>\n",
       "      <td>DMOG</td>\n",
       "      <td>CVCL_1890</td>\n",
       "      <td>560326</td>\n",
       "      <td>5.027467</td>\n",
       "      <td>0.411516</td>\n",
       "      <td>1.525461e-04</td>\n",
       "    </tr>\n",
       "    <tr>\n",
       "      <th>316505</th>\n",
       "      <td>CVCL_C171|8249</td>\n",
       "      <td>0.0</td>\n",
       "      <td>2.821921</td>\n",
       "      <td>1.383937</td>\n",
       "      <td>0.911407</td>\n",
       "      <td>0.000100</td>\n",
       "      <td>-2.414642</td>\n",
       "      <td>0.723833</td>\n",
       "      <td>0.136825</td>\n",
       "      <td>0.790504</td>\n",
       "      <td>...</td>\n",
       "      <td>8249</td>\n",
       "      <td>1.506881e-03</td>\n",
       "      <td>1.309002e-03</td>\n",
       "      <td>PCI-4B</td>\n",
       "      <td>Phenformin</td>\n",
       "      <td>CVCL_C171</td>\n",
       "      <td>8249</td>\n",
       "      <td>7.059904</td>\n",
       "      <td>0.737141</td>\n",
       "      <td>1.164333e-03</td>\n",
       "    </tr>\n",
       "  </tbody>\n",
       "</table>\n",
       "<p>165042 rows × 28 columns</p>\n",
       "</div>"
      ],
      "text/plain": [
       "                     Name  SignalQuality  pEC50_curvecurator      Slope  \\\n",
       "0       CVCL_0001|5280757            0.0            8.108073   1.605647   \n",
       "3       CVCL_0005|5280757            0.0            8.438999  10.000000   \n",
       "57      CVCL_0258|5280757            0.0            7.932904   0.973678   \n",
       "60      CVCL_0291|5280757            0.0            8.071121  10.000000   \n",
       "62      CVCL_0312|5280757            0.0            8.074083  10.000000   \n",
       "...                   ...            ...                 ...        ...   \n",
       "316501   CVCL_1679|560326            0.0            3.245661   0.940205   \n",
       "316502     CVCL_1705|8249            0.0            2.695512   0.603697   \n",
       "316503     CVCL_1823|8249            0.0            4.361405   0.680181   \n",
       "316504   CVCL_1890|560326            0.0            3.844805   2.201153   \n",
       "316505     CVCL_C171|8249            0.0            2.821921   1.383937   \n",
       "\n",
       "           Front      Back  FoldChange  AUC_curvecurator      RMSE        R2  \\\n",
       "0       1.046587  0.291085   -0.597186          0.986014  0.026809  0.952501   \n",
       "3       1.005756  0.473905   -1.076716          0.930203  0.067179  0.884457   \n",
       "57      0.994555  0.103593   -0.666428          0.908255  0.012824  0.987911   \n",
       "60      1.014154  0.000101   -0.613976          1.006113  0.037665  0.891939   \n",
       "62      0.978322  0.000100   -0.701638          0.970128  0.064571  0.740398   \n",
       "...          ...       ...         ...               ...       ...       ...   \n",
       "316501  1.146734  0.000100   -2.662959          0.717923  0.131186  0.878403   \n",
       "316502  0.977624  0.370678   -0.707769          0.819998  0.230365  0.196853   \n",
       "316503  0.984015  0.000100   -4.521686          0.275513  0.225811  0.548946   \n",
       "316504  1.024656  0.022761   -5.416412          0.423292  0.114006  0.931236   \n",
       "316505  0.911407  0.000100   -2.414642          0.723833  0.136825  0.790504   \n",
       "\n",
       "        ...  drug_id  EC50_curvecurator  IC50_curvecurator  CELL_LINE_NAME  \\\n",
       "0       ...  5280757       7.796996e-09       1.419270e-08             HEL   \n",
       "3       ...  5280757       3.639161e-09       4.894855e-09             NB4   \n",
       "57      ...  5280757       1.167069e-08       1.464761e-08      EoL-1-cell   \n",
       "60      ...  5280757       8.489437e-09       8.513339e-09         HCT-116   \n",
       "62      ...  5280757       8.431742e-09       8.394619e-09             HOS   \n",
       "...     ...      ...                ...                ...             ...   \n",
       "316501  ...   560326       5.679878e-04       7.469557e-04           SBC-5   \n",
       "316502  ...     8249       2.015990e-03       1.755447e-02           SN12C   \n",
       "316503  ...     8249       4.351059e-05       4.149321e-05      KARPAS-620   \n",
       "316504  ...   560326       1.429537e-04       1.492399e-04       SU-DHL-16   \n",
       "316505  ...     8249       1.506881e-03       1.309002e-03          PCI-4B   \n",
       "\n",
       "           DRUG_NAME     sample     drug   LN_IC50       AUC          IC50  \n",
       "0       Bryostatin 1  CVCL_0001  5280757 -4.307089  0.948487  1.347271e-08  \n",
       "3       Bryostatin 1  CVCL_0005  5280757 -4.940283  0.904285  7.152574e-09  \n",
       "57      Bryostatin 1  CVCL_0258  5280757 -4.458350  0.915658  1.158146e-08  \n",
       "60      Bryostatin 1  CVCL_0291  5280757 -3.874437  0.952793  2.076603e-08  \n",
       "62      Bryostatin 1  CVCL_0312  5280757 -4.058017  0.942260  1.728326e-08  \n",
       "...              ...        ...      ...       ...       ...           ...  \n",
       "316501          DMOG  CVCL_1679   560326  6.708085  0.698649  8.190008e-04  \n",
       "316502    Phenformin  CVCL_1705     8249  8.394486  0.860953  4.422613e-03  \n",
       "316503    Phenformin  CVCL_1823     8249  3.869974  0.233076  4.794114e-05  \n",
       "316504          DMOG  CVCL_1890   560326  5.027467  0.411516  1.525461e-04  \n",
       "316505    Phenformin  CVCL_C171     8249  7.059904  0.737141  1.164333e-03  \n",
       "\n",
       "[165042 rows x 28 columns]"
      ]
     },
     "execution_count": 19,
     "metadata": {},
     "output_type": "execute_result"
    }
   ],
   "source": [
    "mapped_response_df.query(\"IC50_curvecurator<0.1\")"
   ]
  },
  {
   "cell_type": "code",
   "execution_count": 31,
   "id": "be6850be-1478-4247-b24e-cb7093ead2cb",
   "metadata": {},
   "outputs": [],
   "source": [
    "mapped_response_df.to_csv(\"GDSC1_for_drevalpy.csv\")"
   ]
  },
  {
   "cell_type": "markdown",
   "source": [
    "## Final tweaks\n",
    "- Kick out rows where CurveCurator failed\n",
    "- Change the following cell line IDs: \n",
    "    - C32: CVCL_ZA06 -> CVCL_1097\n",
    "    - RH-1: CVCL_C355 -> CVCL_1658 (EW-8)\n",
    "    - check out unmapped cell lines \n",
    "- Set EC50s outside the measured range to NaN\n",
    "- Set IC50s outside 10*max/10**-1 min measured range to NaN\n",
    "- Add min/max dosages to the dataframe\n",
    "    "
   ],
   "metadata": {
    "collapsed": false
   },
   "id": "8721fb5c7ec3cd79"
  },
  {
   "cell_type": "code",
   "execution_count": 4,
   "outputs": [
    {
     "data": {
      "text/plain": "       Name  SignalQuality  pEC50_curvecurator  Slope  Front  Back  \\\n316506  NaN            NaN                 NaN    NaN    NaN   NaN   \n316507  NaN            NaN                 NaN    NaN    NaN   NaN   \n316508  NaN            NaN                 NaN    NaN    NaN   NaN   \n316509  NaN            NaN                 NaN    NaN    NaN   NaN   \n316510  NaN            NaN                 NaN    NaN    NaN   NaN   \n...     ...            ...                 ...    ...    ...   ...   \n316861  NaN            NaN                 NaN    NaN    NaN   NaN   \n316862  NaN            NaN                 NaN    NaN    NaN   NaN   \n316863  NaN            NaN                 NaN    NaN    NaN   NaN   \n316864  NaN            NaN                 NaN    NaN    NaN   NaN   \n316865  NaN            NaN                 NaN    NaN    NaN   NaN   \n\n        FoldChange  AUC_curvecurator  RMSE  R2  ...  drug_id  \\\n316506         NaN               NaN   NaN NaN  ...      NaN   \n316507         NaN               NaN   NaN NaN  ...      NaN   \n316508         NaN               NaN   NaN NaN  ...      NaN   \n316509         NaN               NaN   NaN NaN  ...      NaN   \n316510         NaN               NaN   NaN NaN  ...      NaN   \n...            ...               ...   ...  ..  ...      ...   \n316861         NaN               NaN   NaN NaN  ...      NaN   \n316862         NaN               NaN   NaN NaN  ...      NaN   \n316863         NaN               NaN   NaN NaN  ...      NaN   \n316864         NaN               NaN   NaN NaN  ...      NaN   \n316865         NaN               NaN   NaN NaN  ...      NaN   \n\n        EC50_curvecurator  IC50_curvecurator  CELL_LINE_NAME  \\\n316506                NaN                NaN           451Lu   \n316507                NaN                NaN           647-V   \n316508                NaN                NaN           769-P   \n316509                NaN                NaN         8-MG-BA   \n316510                NaN                NaN           8505C   \n...                   ...                ...             ...   \n316861                NaN                NaN       WSU-DLCL2   \n316862                NaN                NaN       WSU-DLCL2   \n316863                NaN                NaN       WSU-DLCL2   \n316864                NaN                NaN              YT   \n316865                NaN                NaN        ZR-75-30   \n\n                   DRUG_NAME  sample drug   LN_IC50       AUC          IC50  \n316506                 FY012     NaN  NaN -1.662939  0.317389  1.895810e-07  \n316507                 ZL109     NaN  NaN -1.045608  0.410391  3.514781e-07  \n316508                 FY012     NaN  NaN -1.253734  0.380817  2.854370e-07  \n316509  Sepantronium bromide     NaN  NaN -5.628638  0.021640  3.593466e-09  \n316510                torin2     NaN  NaN -2.722521  0.181648  6.570889e-08  \n...                      ...     ...  ...       ...       ...           ...  \n316861                 FY012     NaN  NaN -0.011069  0.577376  9.889920e-07  \n316862            HG-5-88-01     NaN  NaN -0.947387  0.419535  3.877529e-07  \n316863                  IOX2     NaN  NaN -6.229739  0.308971  1.969966e-09  \n316864            Belinostat     NaN  NaN -2.577531  0.100658  7.596132e-08  \n316865                torin2     NaN  NaN  2.226058  0.810394  9.263278e-06  \n\n[360 rows x 28 columns]",
      "text/html": "<div>\n<style scoped>\n    .dataframe tbody tr th:only-of-type {\n        vertical-align: middle;\n    }\n\n    .dataframe tbody tr th {\n        vertical-align: top;\n    }\n\n    .dataframe thead th {\n        text-align: right;\n    }\n</style>\n<table border=\"1\" class=\"dataframe\">\n  <thead>\n    <tr style=\"text-align: right;\">\n      <th></th>\n      <th>Name</th>\n      <th>SignalQuality</th>\n      <th>pEC50_curvecurator</th>\n      <th>Slope</th>\n      <th>Front</th>\n      <th>Back</th>\n      <th>FoldChange</th>\n      <th>AUC_curvecurator</th>\n      <th>RMSE</th>\n      <th>R2</th>\n      <th>...</th>\n      <th>drug_id</th>\n      <th>EC50_curvecurator</th>\n      <th>IC50_curvecurator</th>\n      <th>CELL_LINE_NAME</th>\n      <th>DRUG_NAME</th>\n      <th>sample</th>\n      <th>drug</th>\n      <th>LN_IC50</th>\n      <th>AUC</th>\n      <th>IC50</th>\n    </tr>\n  </thead>\n  <tbody>\n    <tr>\n      <th>316506</th>\n      <td>NaN</td>\n      <td>NaN</td>\n      <td>NaN</td>\n      <td>NaN</td>\n      <td>NaN</td>\n      <td>NaN</td>\n      <td>NaN</td>\n      <td>NaN</td>\n      <td>NaN</td>\n      <td>NaN</td>\n      <td>...</td>\n      <td>NaN</td>\n      <td>NaN</td>\n      <td>NaN</td>\n      <td>451Lu</td>\n      <td>FY012</td>\n      <td>NaN</td>\n      <td>NaN</td>\n      <td>-1.662939</td>\n      <td>0.317389</td>\n      <td>1.895810e-07</td>\n    </tr>\n    <tr>\n      <th>316507</th>\n      <td>NaN</td>\n      <td>NaN</td>\n      <td>NaN</td>\n      <td>NaN</td>\n      <td>NaN</td>\n      <td>NaN</td>\n      <td>NaN</td>\n      <td>NaN</td>\n      <td>NaN</td>\n      <td>NaN</td>\n      <td>...</td>\n      <td>NaN</td>\n      <td>NaN</td>\n      <td>NaN</td>\n      <td>647-V</td>\n      <td>ZL109</td>\n      <td>NaN</td>\n      <td>NaN</td>\n      <td>-1.045608</td>\n      <td>0.410391</td>\n      <td>3.514781e-07</td>\n    </tr>\n    <tr>\n      <th>316508</th>\n      <td>NaN</td>\n      <td>NaN</td>\n      <td>NaN</td>\n      <td>NaN</td>\n      <td>NaN</td>\n      <td>NaN</td>\n      <td>NaN</td>\n      <td>NaN</td>\n      <td>NaN</td>\n      <td>NaN</td>\n      <td>...</td>\n      <td>NaN</td>\n      <td>NaN</td>\n      <td>NaN</td>\n      <td>769-P</td>\n      <td>FY012</td>\n      <td>NaN</td>\n      <td>NaN</td>\n      <td>-1.253734</td>\n      <td>0.380817</td>\n      <td>2.854370e-07</td>\n    </tr>\n    <tr>\n      <th>316509</th>\n      <td>NaN</td>\n      <td>NaN</td>\n      <td>NaN</td>\n      <td>NaN</td>\n      <td>NaN</td>\n      <td>NaN</td>\n      <td>NaN</td>\n      <td>NaN</td>\n      <td>NaN</td>\n      <td>NaN</td>\n      <td>...</td>\n      <td>NaN</td>\n      <td>NaN</td>\n      <td>NaN</td>\n      <td>8-MG-BA</td>\n      <td>Sepantronium bromide</td>\n      <td>NaN</td>\n      <td>NaN</td>\n      <td>-5.628638</td>\n      <td>0.021640</td>\n      <td>3.593466e-09</td>\n    </tr>\n    <tr>\n      <th>316510</th>\n      <td>NaN</td>\n      <td>NaN</td>\n      <td>NaN</td>\n      <td>NaN</td>\n      <td>NaN</td>\n      <td>NaN</td>\n      <td>NaN</td>\n      <td>NaN</td>\n      <td>NaN</td>\n      <td>NaN</td>\n      <td>...</td>\n      <td>NaN</td>\n      <td>NaN</td>\n      <td>NaN</td>\n      <td>8505C</td>\n      <td>torin2</td>\n      <td>NaN</td>\n      <td>NaN</td>\n      <td>-2.722521</td>\n      <td>0.181648</td>\n      <td>6.570889e-08</td>\n    </tr>\n    <tr>\n      <th>...</th>\n      <td>...</td>\n      <td>...</td>\n      <td>...</td>\n      <td>...</td>\n      <td>...</td>\n      <td>...</td>\n      <td>...</td>\n      <td>...</td>\n      <td>...</td>\n      <td>...</td>\n      <td>...</td>\n      <td>...</td>\n      <td>...</td>\n      <td>...</td>\n      <td>...</td>\n      <td>...</td>\n      <td>...</td>\n      <td>...</td>\n      <td>...</td>\n      <td>...</td>\n      <td>...</td>\n    </tr>\n    <tr>\n      <th>316861</th>\n      <td>NaN</td>\n      <td>NaN</td>\n      <td>NaN</td>\n      <td>NaN</td>\n      <td>NaN</td>\n      <td>NaN</td>\n      <td>NaN</td>\n      <td>NaN</td>\n      <td>NaN</td>\n      <td>NaN</td>\n      <td>...</td>\n      <td>NaN</td>\n      <td>NaN</td>\n      <td>NaN</td>\n      <td>WSU-DLCL2</td>\n      <td>FY012</td>\n      <td>NaN</td>\n      <td>NaN</td>\n      <td>-0.011069</td>\n      <td>0.577376</td>\n      <td>9.889920e-07</td>\n    </tr>\n    <tr>\n      <th>316862</th>\n      <td>NaN</td>\n      <td>NaN</td>\n      <td>NaN</td>\n      <td>NaN</td>\n      <td>NaN</td>\n      <td>NaN</td>\n      <td>NaN</td>\n      <td>NaN</td>\n      <td>NaN</td>\n      <td>NaN</td>\n      <td>...</td>\n      <td>NaN</td>\n      <td>NaN</td>\n      <td>NaN</td>\n      <td>WSU-DLCL2</td>\n      <td>HG-5-88-01</td>\n      <td>NaN</td>\n      <td>NaN</td>\n      <td>-0.947387</td>\n      <td>0.419535</td>\n      <td>3.877529e-07</td>\n    </tr>\n    <tr>\n      <th>316863</th>\n      <td>NaN</td>\n      <td>NaN</td>\n      <td>NaN</td>\n      <td>NaN</td>\n      <td>NaN</td>\n      <td>NaN</td>\n      <td>NaN</td>\n      <td>NaN</td>\n      <td>NaN</td>\n      <td>NaN</td>\n      <td>...</td>\n      <td>NaN</td>\n      <td>NaN</td>\n      <td>NaN</td>\n      <td>WSU-DLCL2</td>\n      <td>IOX2</td>\n      <td>NaN</td>\n      <td>NaN</td>\n      <td>-6.229739</td>\n      <td>0.308971</td>\n      <td>1.969966e-09</td>\n    </tr>\n    <tr>\n      <th>316864</th>\n      <td>NaN</td>\n      <td>NaN</td>\n      <td>NaN</td>\n      <td>NaN</td>\n      <td>NaN</td>\n      <td>NaN</td>\n      <td>NaN</td>\n      <td>NaN</td>\n      <td>NaN</td>\n      <td>NaN</td>\n      <td>...</td>\n      <td>NaN</td>\n      <td>NaN</td>\n      <td>NaN</td>\n      <td>YT</td>\n      <td>Belinostat</td>\n      <td>NaN</td>\n      <td>NaN</td>\n      <td>-2.577531</td>\n      <td>0.100658</td>\n      <td>7.596132e-08</td>\n    </tr>\n    <tr>\n      <th>316865</th>\n      <td>NaN</td>\n      <td>NaN</td>\n      <td>NaN</td>\n      <td>NaN</td>\n      <td>NaN</td>\n      <td>NaN</td>\n      <td>NaN</td>\n      <td>NaN</td>\n      <td>NaN</td>\n      <td>NaN</td>\n      <td>...</td>\n      <td>NaN</td>\n      <td>NaN</td>\n      <td>NaN</td>\n      <td>ZR-75-30</td>\n      <td>torin2</td>\n      <td>NaN</td>\n      <td>NaN</td>\n      <td>2.226058</td>\n      <td>0.810394</td>\n      <td>9.263278e-06</td>\n    </tr>\n  </tbody>\n</table>\n<p>360 rows × 28 columns</p>\n</div>"
     },
     "execution_count": 4,
     "metadata": {},
     "output_type": "execute_result"
    }
   ],
   "source": [
    "mapped_response_df = pd.read_csv(\"GDSC1_for_drevalpy.csv\")\n",
    "mapped_response_df = mapped_response_df.drop(columns=[\"Unnamed: 0\"])\n",
    "mapped_response_df[\"sample\"] = mapped_response_df[\"sample\"].replace(to_replace = \"CVCL_ZA06\", value=\"CVCL_1097\")\n",
    "mapped_response_df[\"cell_line_id\"] = mapped_response_df[\"cell_line_id\"].replace(to_replace = \"CVCL_ZA06\", value=\"CVCL_1097\")\n",
    "mapped_response_df[\"sample\"] = mapped_response_df[\"sample\"].replace(to_replace = \"CVCL_C355\", value=\"CVCL_1658\")\n",
    "mapped_response_df[\"cell_line_id\"] = mapped_response_df[\"cell_line_id\"].replace(to_replace = \"CVCL_C355\", value=\"CVCL_1658\")\n",
    "mapped_response_df[mapped_response_df[\"cell_line_id\"].isna()]"
   ],
   "metadata": {
    "collapsed": false,
    "ExecuteTime": {
     "end_time": "2025-02-07T09:20:58.996340Z",
     "start_time": "2025-02-07T09:20:57.136744Z"
    }
   },
   "id": "cb1d1c06e02822fc"
  },
  {
   "cell_type": "code",
   "execution_count": 5,
   "outputs": [
    {
     "data": {
      "text/plain": "Empty DataFrame\nColumns: [Name, SignalQuality, pEC50_curvecurator, Slope, Front, Back, FoldChange, AUC_curvecurator, RMSE, R2, pEC50Error, fValue, pValue, negLog10pValue, fValueSAMCorrected, RelevanceScore, Regulation, cell_line_id, drug_id, EC50_curvecurator, IC50_curvecurator, CELL_LINE_NAME, DRUG_NAME, sample, drug, LN_IC50, AUC, IC50]\nIndex: []\n\n[0 rows x 28 columns]",
      "text/html": "<div>\n<style scoped>\n    .dataframe tbody tr th:only-of-type {\n        vertical-align: middle;\n    }\n\n    .dataframe tbody tr th {\n        vertical-align: top;\n    }\n\n    .dataframe thead th {\n        text-align: right;\n    }\n</style>\n<table border=\"1\" class=\"dataframe\">\n  <thead>\n    <tr style=\"text-align: right;\">\n      <th></th>\n      <th>Name</th>\n      <th>SignalQuality</th>\n      <th>pEC50_curvecurator</th>\n      <th>Slope</th>\n      <th>Front</th>\n      <th>Back</th>\n      <th>FoldChange</th>\n      <th>AUC_curvecurator</th>\n      <th>RMSE</th>\n      <th>R2</th>\n      <th>...</th>\n      <th>drug_id</th>\n      <th>EC50_curvecurator</th>\n      <th>IC50_curvecurator</th>\n      <th>CELL_LINE_NAME</th>\n      <th>DRUG_NAME</th>\n      <th>sample</th>\n      <th>drug</th>\n      <th>LN_IC50</th>\n      <th>AUC</th>\n      <th>IC50</th>\n    </tr>\n  </thead>\n  <tbody>\n  </tbody>\n</table>\n<p>0 rows × 28 columns</p>\n</div>"
     },
     "execution_count": 5,
     "metadata": {},
     "output_type": "execute_result"
    }
   ],
   "source": [
    "mapped_response_df = mapped_response_df[~mapped_response_df[\"cell_line_id\"].isna()]\n",
    "mapped_response_df[mapped_response_df[\"cell_line_id\"].isna()]"
   ],
   "metadata": {
    "collapsed": false,
    "ExecuteTime": {
     "end_time": "2025-02-07T09:21:00.209386Z",
     "start_time": "2025-02-07T09:21:00.095295Z"
    }
   },
   "id": "c1468e286d755458"
  },
  {
   "cell_type": "code",
   "execution_count": 6,
   "outputs": [],
   "source": [
    "# pEC50 = -log10(10^(-6) * dosis)\n",
    "drug_dosages = pd.read_csv(\"drug_dosages_GDSC1.csv\")\n",
    "min_doses_pEC50 = {f'{row[\"DRUG_NAME\"]}|{row[\"CELL_LINE_NAME\"]}': -np.log10(10**-6 * row[\"mindose\"]) for index, row in drug_dosages.iterrows()}\n",
    "max_doses_pEC50 = {f'{row[\"DRUG_NAME\"]}|{row[\"CELL_LINE_NAME\"]}': -np.log10(10**-6 * row[\"maxdose\"]) for index, row in drug_dosages.iterrows()}\n",
    "min_doses_IC50 = {f'{row[\"DRUG_NAME\"]}|{row[\"CELL_LINE_NAME\"]}': 10**-7 * row[\"mindose\"] for index, row in drug_dosages.iterrows()}\n",
    "max_doses_IC50 = {f'{row[\"DRUG_NAME\"]}|{row[\"CELL_LINE_NAME\"]}': 10**-5 * row[\"maxdose\"] for index, row in drug_dosages.iterrows()}"
   ],
   "metadata": {
    "collapsed": false,
    "ExecuteTime": {
     "end_time": "2025-02-07T09:21:21.708375Z",
     "start_time": "2025-02-07T09:21:02.536286Z"
    }
   },
   "id": "6bc7f67ff386597c"
  },
  {
   "cell_type": "code",
   "execution_count": 7,
   "outputs": [],
   "source": [
    "min_doses_M = mapped_response_df.apply(lambda x: 10 * min_doses_IC50[f\"{x['DRUG_NAME']}|{x['CELL_LINE_NAME']}\"], axis=1)\n",
    "max_doses_M = mapped_response_df.apply(lambda x: 0.1 * max_doses_IC50[f\"{x['DRUG_NAME']}|{x['CELL_LINE_NAME']}\"], axis=1)\n",
    "mapped_response_df[\"min_dose_M\"] = min_doses_M\n",
    "mapped_response_df[\"max_dose_M\"] = max_doses_M"
   ],
   "metadata": {
    "collapsed": false,
    "ExecuteTime": {
     "end_time": "2025-02-07T09:21:24.397786Z",
     "start_time": "2025-02-07T09:21:21.707094Z"
    }
   },
   "id": "2f5acefa057e6a8b"
  },
  {
   "cell_type": "code",
   "execution_count": 12,
   "outputs": [],
   "source": [
    "def plot_curve(df, index):\n",
    "    front = df.loc[index, \"Front\"]\n",
    "    back = df.loc[index, \"Back\"]\n",
    "    pec50 = df.loc[index, \"pEC50_curvecurator\"]\n",
    "    ec50 = df.loc[index, \"EC50_curvecurator\"]\n",
    "    \n",
    "    slope = df.loc[index, \"Slope\"]\n",
    "    ic50 = df.loc[index, \"IC50_curvecurator\"]\n",
    "    origic50 = df.loc[index, \"IC50\"]\n",
    "    \n",
    "    min_dosis = df.loc[index, \"min_dose_M\"]\n",
    "    max_dosis = df.loc[index, \"max_dose_M\"]\n",
    "    \n",
    "    xvals = np.linspace(min_dosis*10**-2, max_dosis*10**2, 100000)\n",
    "    xvals_logged = np.log10(xvals)\n",
    "    y = (front - back) / (1 + 10 ** (slope * (xvals_logged + pec50))) + back\n",
    "    plt.scatter(xvals, y, s=1)\n",
    "\n",
    "    plt.axvline(origic50, linestyle='--')\n",
    "    plt.text(x=origic50, y=0.8, s='IC50 orig', color='blue')\n",
    "    plt.axvline(ic50, color=\"red\")\n",
    "    plt.text(x=ic50, y=1.0, s='IC50 curvecurator', color='red')\n",
    "    plt.axvline(ec50, color=\"orange\")\n",
    "    plt.text(x=ec50, y=0.6, s='EC50 curvecurator', color='orange')\n",
    "    plt.axvline(x=min_dosis, color=\"green\")\n",
    "    plt.text(x=min_dosis, y=0.4, s='min dose [M]', color='green')\n",
    "    plt.axvline(x=max_dosis, color=\"green\")\n",
    "    plt.text(x=max_dosis, y=0.4, s='max dose [M]', color='green')\n",
    "    \n",
    "    auc = df.loc[index, \"AUC_curvecurator\"]\n",
    "    plt.title(f\"AUC: {auc}\")\n",
    "\n",
    "    plt.axhline(0.5, linestyle='--', color='black')\n",
    "    plt.xscale('log')\n",
    "    plt.xlim(min_dosis*10**-2, max_dosis*10**2)\n",
    "    plt.ylim(0, 2)"
   ],
   "metadata": {
    "collapsed": false,
    "ExecuteTime": {
     "end_time": "2025-02-07T09:24:42.331539Z",
     "start_time": "2025-02-07T09:24:42.291716Z"
    }
   },
   "id": "dc6da6dbe2d19e06"
  },
  {
   "cell_type": "code",
   "execution_count": 13,
   "outputs": [
    {
     "name": "stderr",
     "output_type": "stream",
     "text": [
      "posx and posy should be finite values\n",
      "posx and posy should be finite values\n",
      "posx and posy should be finite values\n"
     ]
    },
    {
     "data": {
      "text/plain": "<Figure size 640x480 with 1 Axes>",
      "image/png": "[encoded data removed]"
     },
     "metadata": {},
     "output_type": "display_data"
    }
   ],
   "source": [
    "# CurveCurator caps the EC50s at 10**2 * max dose / 10**-2 * min dose\n",
    "index = mapped_response_df.query(\"Name == 'CVCL_1417|8249'\").index[0]\n",
    "plot_curve(mapped_response_df, index=index)"
   ],
   "metadata": {
    "collapsed": false,
    "ExecuteTime": {
     "end_time": "2025-02-07T09:24:43.207128Z",
     "start_time": "2025-02-07T09:24:42.871330Z"
    }
   },
   "id": "e73ca018c04f7859"
  },
  {
   "cell_type": "code",
   "execution_count": 14,
   "outputs": [
    {
     "name": "stderr",
     "output_type": "stream",
     "text": [
      "posx and posy should be finite values\n",
      "posx and posy should be finite values\n",
      "posx and posy should be finite values\n"
     ]
    },
    {
     "data": {
      "text/plain": "<Figure size 640x480 with 1 Axes>",
      "image/png": "[encoded data removed]"
     },
     "metadata": {},
     "output_type": "display_data"
    }
   ],
   "source": [
    "# CurveCurator caps the EC50s at 10**2 * max dose / 10**-2 * min dose\n",
    "index = mapped_response_df.query(\"Name == 'CVCL_1424|5280757'\").index[0]\n",
    "plot_curve(mapped_response_df, index=index)"
   ],
   "metadata": {
    "collapsed": false,
    "ExecuteTime": {
     "end_time": "2025-02-07T09:24:51.240223Z",
     "start_time": "2025-02-07T09:24:50.913524Z"
    }
   },
   "id": "eda617cce7d55e3d"
  },
  {
   "cell_type": "code",
   "execution_count": 15,
   "outputs": [],
   "source": [
    "num_pEC50s_nan = mapped_response_df[\"pEC50_curvecurator\"].isna().sum()\n",
    "num_ic50s_nan = mapped_response_df[\"IC50_curvecurator\"].isna().sum()\n",
    "new_pEC50s = mapped_response_df.apply(lambda x: x[\"pEC50_curvecurator\"] if min_doses_pEC50[f\"{x['DRUG_NAME']}|{x['CELL_LINE_NAME']}\"] >= x[\"pEC50_curvecurator\"] >= max_doses_pEC50[f\"{x['DRUG_NAME']}|{x['CELL_LINE_NAME']}\"] else np.nan, axis=1)\n",
    "new_IC50s = mapped_response_df.apply(lambda x: x[\"IC50_curvecurator\"] if min_doses_IC50[f\"{x['DRUG_NAME']}|{x['CELL_LINE_NAME']}\"] <= x[\"IC50_curvecurator\"] <= max_doses_IC50[f\"{x['DRUG_NAME']}|{x['CELL_LINE_NAME']}\"] else np.nan, axis=1)"
   ],
   "metadata": {
    "collapsed": false,
    "ExecuteTime": {
     "end_time": "2025-02-07T09:25:09.482878Z",
     "start_time": "2025-02-07T09:25:03.272123Z"
    }
   },
   "id": "87d11d0673d68b1d"
  },
  {
   "cell_type": "code",
   "execution_count": 16,
   "outputs": [
    {
     "name": "stdout",
     "output_type": "stream",
     "text": [
      "From 0 to 68224 NaN pEC50s / 316506\n",
      "From 150368 to 157698 NaN IC50s / 316506\n"
     ]
    }
   ],
   "source": [
    "mapped_response_df[\"pEC50_curvecurator\"] = new_pEC50s\n",
    "mapped_response_df[\"IC50_curvecurator\"] = new_IC50s\n",
    "print(f\"From {num_pEC50s_nan} to {mapped_response_df['pEC50_curvecurator'].isna().sum()} NaN pEC50s / {len(mapped_response_df)}\")\n",
    "print(f\"From {num_ic50s_nan} to {mapped_response_df['IC50_curvecurator'].isna().sum()} NaN IC50s / {len(mapped_response_df)}\")"
   ],
   "metadata": {
    "collapsed": false,
    "ExecuteTime": {
     "end_time": "2025-02-07T09:25:09.539532Z",
     "start_time": "2025-02-07T09:25:09.456833Z"
    }
   },
   "id": "c2ea2d4a207cb158"
  },
  {
   "cell_type": "code",
   "execution_count": 17,
   "outputs": [],
   "source": [
    "mapped_response_df[\"LN_IC50_curvecurator\"] = np.log(10**6 * mapped_response_df[\"IC50_curvecurator\"].to_numpy())"
   ],
   "metadata": {
    "collapsed": false,
    "ExecuteTime": {
     "end_time": "2025-02-07T09:25:11.579113Z",
     "start_time": "2025-02-07T09:25:11.534798Z"
    }
   },
   "id": "22d2de2bb5f9824d"
  },
  {
   "cell_type": "code",
   "execution_count": 18,
   "outputs": [
    {
     "data": {
      "text/plain": "<Axes: xlabel='LN_IC50_curvecurator', ylabel='Count'>"
     },
     "execution_count": 18,
     "metadata": {},
     "output_type": "execute_result"
    },
    {
     "data": {
      "text/plain": "<Figure size 640x480 with 1 Axes>",
      "image/png": "[encoded data removed]"
     },
     "metadata": {},
     "output_type": "display_data"
    }
   ],
   "source": [
    "sns.histplot(mapped_response_df[\"LN_IC50_curvecurator\"], bins=10)"
   ],
   "metadata": {
    "collapsed": false,
    "ExecuteTime": {
     "end_time": "2025-02-07T09:25:12.294656Z",
     "start_time": "2025-02-07T09:25:12.103396Z"
    }
   },
   "id": "c746a5c5bcbc041e"
  },
  {
   "cell_type": "code",
   "execution_count": 19,
   "outputs": [
    {
     "data": {
      "text/plain": "<Axes: xlabel='pEC50_curvecurator', ylabel='Count'>"
     },
     "execution_count": 19,
     "metadata": {},
     "output_type": "execute_result"
    },
    {
     "data": {
      "text/plain": "<Figure size 640x480 with 1 Axes>",
      "image/png": "[encoded data removed]"
     },
     "metadata": {},
     "output_type": "display_data"
    }
   ],
   "source": [
    "sns.histplot(mapped_response_df[\"pEC50_curvecurator\"], bins=10)"
   ],
   "metadata": {
    "collapsed": false,
    "ExecuteTime": {
     "end_time": "2025-02-07T09:25:14.795365Z",
     "start_time": "2025-02-07T09:25:14.227292Z"
    }
   },
   "id": "c8f1a7b6f5a2b6a1"
  },
  {
   "cell_type": "code",
   "execution_count": 24,
   "outputs": [
    {
     "data": {
      "text/plain": "<Axes: xlabel='AUC_curvecurator', ylabel='Count'>"
     },
     "execution_count": 24,
     "metadata": {},
     "output_type": "execute_result"
    },
    {
     "data": {
      "text/plain": "<Figure size 640x480 with 1 Axes>",
      "image/png": "[encoded data removed]"
     },
     "metadata": {},
     "output_type": "display_data"
    }
   ],
   "source": [
    "sns.histplot(mapped_response_df[\"AUC_curvecurator\"], bins=10)"
   ],
   "metadata": {
    "collapsed": false,
    "ExecuteTime": {
     "end_time": "2025-02-07T09:25:34.120781Z",
     "start_time": "2025-02-07T09:25:33.836376Z"
    }
   },
   "id": "fa09d7764555f24e"
  },
  {
   "cell_type": "code",
   "execution_count": 20,
   "outputs": [
    {
     "name": "stdout",
     "output_type": "stream",
     "text": [
      "Creating cellosaurus dictionary ...\n"
     ]
    }
   ],
   "source": [
    "# map all names to cellosaurus main names\n",
    "from utils.convert_to_cello import create_cl_dict\n",
    "cello_mapping = pd.read_csv(\"../../mapping/cellosaurus_01_2024.csv\")\n",
    "# replace all NaN values with empty strings\n",
    "cello_mapping = cello_mapping.fillna(\"\")\n",
    "# create cellosaurus dictionary\n",
    "cellosaurus_ac_dict, cellosaurus_sy_dict, species_dict, cello_ac_to_id_dict = create_cl_dict(cello_mapping)"
   ],
   "metadata": {
    "collapsed": false,
    "ExecuteTime": {
     "start_time": "2025-02-07T09:25:15.662391Z"
    }
   },
   "id": "74b4f9ed3e28747a"
  },
  {
   "cell_type": "code",
   "execution_count": 21,
   "outputs": [],
   "source": [
    "main_names = [cello_ac_to_id_dict[row[\"cell_line_id\"]] for _, row in mapped_response_df.iterrows()]\n",
    "mapped_response_df[\"cell_line_name\"] = main_names\n",
    "mapped_response_df = mapped_response_df.set_index([\"cell_line_id\", \"cell_line_name\", \"drug_id\", \"DRUG_NAME\"])"
   ],
   "metadata": {
    "collapsed": false,
    "ExecuteTime": {
     "start_time": "2025-02-07T09:25:21.679040Z"
    }
   },
   "id": "ded8bae3d15ab4c7"
  },
  {
   "cell_type": "code",
   "execution_count": 22,
   "outputs": [],
   "source": [
    "mapped_response_df.to_csv(\"GDSC1.csv\")"
   ],
   "metadata": {
    "collapsed": false,
    "ExecuteTime": {
     "start_time": "2025-02-07T09:25:26.912930Z"
    }
   },
   "id": "806a6d71b1f2d0b8"
  },
  {
   "cell_type": "code",
   "execution_count": 23,
   "outputs": [
    {
     "data": {
      "text/plain": "                                                               Name  \\\ncell_line_id cell_line_name drug_id DRUG_NAME                         \nCVCL_0001    HEL            5280757 Bryostatin 1  CVCL_0001|5280757   \nCVCL_0002    HL-60          5280757 Bryostatin 1  CVCL_0002|5280757   \nCVCL_0004    K-562          5280757 Bryostatin 1  CVCL_0004|5280757   \nCVCL_0005    NB4            5280757 Bryostatin 1  CVCL_0005|5280757   \nCVCL_0006    THP-1          5280757 Bryostatin 1  CVCL_0006|5280757   \n...                                                             ...   \nCVCL_1679    SBC-5          560326  DMOG           CVCL_1679|560326   \nCVCL_1705    SN12C          8249    Phenformin       CVCL_1705|8249   \nCVCL_1823    Karpas-620     8249    Phenformin       CVCL_1823|8249   \nCVCL_1890    SU-DHL-16      560326  DMOG           CVCL_1890|560326   \nCVCL_C171    PCI-04B        8249    Phenformin       CVCL_C171|8249   \n\n                                                  SignalQuality  \\\ncell_line_id cell_line_name drug_id DRUG_NAME                     \nCVCL_0001    HEL            5280757 Bryostatin 1            0.0   \nCVCL_0002    HL-60          5280757 Bryostatin 1            0.0   \nCVCL_0004    K-562          5280757 Bryostatin 1            0.0   \nCVCL_0005    NB4            5280757 Bryostatin 1            0.0   \nCVCL_0006    THP-1          5280757 Bryostatin 1            0.0   \n...                                                         ...   \nCVCL_1679    SBC-5          560326  DMOG                    0.0   \nCVCL_1705    SN12C          8249    Phenformin              0.0   \nCVCL_1823    Karpas-620     8249    Phenformin              0.0   \nCVCL_1890    SU-DHL-16      560326  DMOG                    0.0   \nCVCL_C171    PCI-04B        8249    Phenformin              0.0   \n\n                                                  pEC50_curvecurator  \\\ncell_line_id cell_line_name drug_id DRUG_NAME                          \nCVCL_0001    HEL            5280757 Bryostatin 1            8.108073   \nCVCL_0002    HL-60          5280757 Bryostatin 1            8.409941   \nCVCL_0004    K-562          5280757 Bryostatin 1            8.548625   \nCVCL_0005    NB4            5280757 Bryostatin 1            8.438999   \nCVCL_0006    THP-1          5280757 Bryostatin 1            8.650062   \n...                                                              ...   \nCVCL_1679    SBC-5          560326  DMOG                    3.245661   \nCVCL_1705    SN12C          8249    Phenformin              2.695512   \nCVCL_1823    Karpas-620     8249    Phenformin              4.361405   \nCVCL_1890    SU-DHL-16      560326  DMOG                    3.844805   \nCVCL_C171    PCI-04B        8249    Phenformin              2.821921   \n\n                                                      Slope     Front  \\\ncell_line_id cell_line_name drug_id DRUG_NAME                           \nCVCL_0001    HEL            5280757 Bryostatin 1   1.605647  1.046587   \nCVCL_0002    HL-60          5280757 Bryostatin 1  10.000000  1.029465   \nCVCL_0004    K-562          5280757 Bryostatin 1  10.000000  0.994296   \nCVCL_0005    NB4            5280757 Bryostatin 1  10.000000  1.005756   \nCVCL_0006    THP-1          5280757 Bryostatin 1  10.000000  1.011980   \n...                                                     ...       ...   \nCVCL_1679    SBC-5          560326  DMOG           0.940205  1.146734   \nCVCL_1705    SN12C          8249    Phenformin     0.603697  0.977624   \nCVCL_1823    Karpas-620     8249    Phenformin     0.680181  0.984015   \nCVCL_1890    SU-DHL-16      560326  DMOG           2.201153  1.024656   \nCVCL_C171    PCI-04B        8249    Phenformin     1.383937  0.911407   \n\n                                                      Back  FoldChange  \\\ncell_line_id cell_line_name drug_id DRUG_NAME                            \nCVCL_0001    HEL            5280757 Bryostatin 1  0.291085   -0.597186   \nCVCL_0002    HL-60          5280757 Bryostatin 1  0.831231   -0.266425   \nCVCL_0004    K-562          5280757 Bryostatin 1  1.050375    0.070902   \nCVCL_0005    NB4            5280757 Bryostatin 1  0.473905   -1.076716   \nCVCL_0006    THP-1          5280757 Bryostatin 1  0.960338   -0.058386   \n...                                                    ...         ...   \nCVCL_1679    SBC-5          560326  DMOG          0.000100   -2.662959   \nCVCL_1705    SN12C          8249    Phenformin    0.370678   -0.707769   \nCVCL_1823    Karpas-620     8249    Phenformin    0.000100   -4.521686   \nCVCL_1890    SU-DHL-16      560326  DMOG          0.022761   -5.416412   \nCVCL_C171    PCI-04B        8249    Phenformin    0.000100   -2.414642   \n\n                                                  AUC_curvecurator      RMSE  \\\ncell_line_id cell_line_name drug_id DRUG_NAME                                  \nCVCL_0001    HEL            5280757 Bryostatin 1          0.986014  0.026809   \nCVCL_0002    HL-60          5280757 Bryostatin 1          1.003695  0.033921   \nCVCL_0004    K-562          5280757 Bryostatin 1          1.004815  0.018237   \nCVCL_0005    NB4            5280757 Bryostatin 1          0.930203  0.067179   \nCVCL_0006    THP-1          5280757 Bryostatin 1          1.000118  0.021364   \n...                                                            ...       ...   \nCVCL_1679    SBC-5          560326  DMOG                  0.717923  0.131186   \nCVCL_1705    SN12C          8249    Phenformin            0.819998  0.230365   \nCVCL_1823    Karpas-620     8249    Phenformin            0.275513  0.225811   \nCVCL_1890    SU-DHL-16      560326  DMOG                  0.423292  0.114006   \nCVCL_C171    PCI-04B        8249    Phenformin            0.723833  0.136825   \n\n                                                        R2  ...  \\\ncell_line_id cell_line_name drug_id DRUG_NAME               ...   \nCVCL_0001    HEL            5280757 Bryostatin 1  0.952501  ...   \nCVCL_0002    HL-60          5280757 Bryostatin 1  0.786028  ...   \nCVCL_0004    K-562          5280757 Bryostatin 1  0.593067  ...   \nCVCL_0005    NB4            5280757 Bryostatin 1  0.884457  ...   \nCVCL_0006    THP-1          5280757 Bryostatin 1  0.475456  ...   \n...                                                    ...  ...   \nCVCL_1679    SBC-5          560326  DMOG          0.878403  ...   \nCVCL_1705    SN12C          8249    Phenformin    0.196853  ...   \nCVCL_1823    Karpas-620     8249    Phenformin    0.548946  ...   \nCVCL_1890    SU-DHL-16      560326  DMOG          0.931236  ...   \nCVCL_C171    PCI-04B        8249    Phenformin    0.790504  ...   \n\n                                                  IC50_curvecurator  \\\ncell_line_id cell_line_name drug_id DRUG_NAME                         \nCVCL_0001    HEL            5280757 Bryostatin 1       1.419270e-08   \nCVCL_0002    HL-60          5280757 Bryostatin 1                NaN   \nCVCL_0004    K-562          5280757 Bryostatin 1                NaN   \nCVCL_0005    NB4            5280757 Bryostatin 1       4.894855e-09   \nCVCL_0006    THP-1          5280757 Bryostatin 1                NaN   \n...                                                             ...   \nCVCL_1679    SBC-5          560326  DMOG               7.469557e-04   \nCVCL_1705    SN12C          8249    Phenformin         1.755447e-02   \nCVCL_1823    Karpas-620     8249    Phenformin         4.149321e-05   \nCVCL_1890    SU-DHL-16      560326  DMOG               1.492399e-04   \nCVCL_C171    PCI-04B        8249    Phenformin         1.309002e-03   \n\n                                                  CELL_LINE_NAME     sample  \\\ncell_line_id cell_line_name drug_id DRUG_NAME                                 \nCVCL_0001    HEL            5280757 Bryostatin 1             HEL  CVCL_0001   \nCVCL_0002    HL-60          5280757 Bryostatin 1           HL-60  CVCL_0002   \nCVCL_0004    K-562          5280757 Bryostatin 1           K-562  CVCL_0004   \nCVCL_0005    NB4            5280757 Bryostatin 1             NB4  CVCL_0005   \nCVCL_0006    THP-1          5280757 Bryostatin 1           THP-1  CVCL_0006   \n...                                                          ...        ...   \nCVCL_1679    SBC-5          560326  DMOG                   SBC-5  CVCL_1679   \nCVCL_1705    SN12C          8249    Phenformin             SN12C  CVCL_1705   \nCVCL_1823    Karpas-620     8249    Phenformin        KARPAS-620  CVCL_1823   \nCVCL_1890    SU-DHL-16      560326  DMOG               SU-DHL-16  CVCL_1890   \nCVCL_C171    PCI-04B        8249    Phenformin            PCI-4B  CVCL_C171   \n\n                                                     drug   LN_IC50       AUC  \\\ncell_line_id cell_line_name drug_id DRUG_NAME                                   \nCVCL_0001    HEL            5280757 Bryostatin 1  5280757 -4.307089  0.948487   \nCVCL_0002    HL-60          5280757 Bryostatin 1  5280757 -3.383405  0.968259   \nCVCL_0004    K-562          5280757 Bryostatin 1  5280757 -2.285847  0.983966   \nCVCL_0005    NB4            5280757 Bryostatin 1  5280757 -4.940283  0.904285   \nCVCL_0006    THP-1          5280757 Bryostatin 1  5280757 -2.800297  0.987445   \n...                                                   ...       ...       ...   \nCVCL_1679    SBC-5          560326  DMOG           560326  6.708085  0.698649   \nCVCL_1705    SN12C          8249    Phenformin       8249  8.394486  0.860953   \nCVCL_1823    Karpas-620     8249    Phenformin       8249  3.869974  0.233076   \nCVCL_1890    SU-DHL-16      560326  DMOG           560326  5.027467  0.411516   \nCVCL_C171    PCI-04B        8249    Phenformin       8249  7.059904  0.737141   \n\n                                                          IC50    min_dose_M  \\\ncell_line_id cell_line_name drug_id DRUG_NAME                                  \nCVCL_0001    HEL            5280757 Bryostatin 1  1.347271e-08  3.125000e-11   \nCVCL_0002    HL-60          5280757 Bryostatin 1  3.393172e-08  3.125000e-11   \nCVCL_0004    K-562          5280757 Bryostatin 1  1.016879e-07  3.125000e-11   \nCVCL_0005    NB4            5280757 Bryostatin 1  7.152574e-09  3.125000e-11   \nCVCL_0006    THP-1          5280757 Bryostatin 1  6.079200e-08  3.125000e-11   \n...                                                        ...           ...   \nCVCL_1679    SBC-5          560326  DMOG          8.190008e-04  1.562500e-05   \nCVCL_1705    SN12C          8249    Phenformin    4.422613e-03  1.562500e-05   \nCVCL_1823    Karpas-620     8249    Phenformin    4.794114e-05  1.562500e-05   \nCVCL_1890    SU-DHL-16      560326  DMOG          1.525461e-04  1.562500e-05   \nCVCL_C171    PCI-04B        8249    Phenformin    1.164333e-03  1.562500e-05   \n\n                                                    max_dose_M  \\\ncell_line_id cell_line_name drug_id DRUG_NAME                    \nCVCL_0001    HEL            5280757 Bryostatin 1  8.000000e-09   \nCVCL_0002    HL-60          5280757 Bryostatin 1  8.000000e-09   \nCVCL_0004    K-562          5280757 Bryostatin 1  8.000000e-09   \nCVCL_0005    NB4            5280757 Bryostatin 1  8.000000e-09   \nCVCL_0006    THP-1          5280757 Bryostatin 1  8.000000e-09   \n...                                                        ...   \nCVCL_1679    SBC-5          560326  DMOG          4.000000e-03   \nCVCL_1705    SN12C          8249    Phenformin    4.000000e-03   \nCVCL_1823    Karpas-620     8249    Phenformin    4.000000e-03   \nCVCL_1890    SU-DHL-16      560326  DMOG          4.000000e-03   \nCVCL_C171    PCI-04B        8249    Phenformin    4.000000e-03   \n\n                                                 LN_IC50_curvecurator  \ncell_line_id cell_line_name drug_id DRUG_NAME                          \nCVCL_0001    HEL            5280757 Bryostatin 1            -4.255028  \nCVCL_0002    HL-60          5280757 Bryostatin 1                  NaN  \nCVCL_0004    K-562          5280757 Bryostatin 1                  NaN  \nCVCL_0005    NB4            5280757 Bryostatin 1            -5.319571  \nCVCL_0006    THP-1          5280757 Bryostatin 1                  NaN  \n...                                                               ...  \nCVCL_1679    SBC-5          560326  DMOG                     6.616006  \nCVCL_1705    SN12C          8249    Phenformin               9.773064  \nCVCL_1823    Karpas-620     8249    Phenformin               3.725530  \nCVCL_1890    SU-DHL-16      560326  DMOG                     5.005555  \nCVCL_C171    PCI-04B        8249    Phenformin               7.177021  \n\n[316506 rows x 28 columns]",
      "text/html": "<div>\n<style scoped>\n    .dataframe tbody tr th:only-of-type {\n        vertical-align: middle;\n    }\n\n    .dataframe tbody tr th {\n        vertical-align: top;\n    }\n\n    .dataframe thead th {\n        text-align: right;\n    }\n</style>\n<table border=\"1\" class=\"dataframe\">\n  <thead>\n    <tr style=\"text-align: right;\">\n      <th></th>\n      <th></th>\n      <th></th>\n      <th></th>\n      <th>Name</th>\n      <th>SignalQuality</th>\n      <th>pEC50_curvecurator</th>\n      <th>Slope</th>\n      <th>Front</th>\n      <th>Back</th>\n      <th>FoldChange</th>\n      <th>AUC_curvecurator</th>\n      <th>RMSE</th>\n      <th>R2</th>\n      <th>...</th>\n      <th>IC50_curvecurator</th>\n      <th>CELL_LINE_NAME</th>\n      <th>sample</th>\n      <th>drug</th>\n      <th>LN_IC50</th>\n      <th>AUC</th>\n      <th>IC50</th>\n      <th>min_dose_M</th>\n      <th>max_dose_M</th>\n      <th>LN_IC50_curvecurator</th>\n    </tr>\n    <tr>\n      <th>cell_line_id</th>\n      <th>cell_line_name</th>\n      <th>drug_id</th>\n      <th>DRUG_NAME</th>\n      <th></th>\n      <th></th>\n      <th></th>\n      <th></th>\n      <th></th>\n      <th></th>\n      <th></th>\n      <th></th>\n      <th></th>\n      <th></th>\n      <th></th>\n      <th></th>\n      <th></th>\n      <th></th>\n      <th></th>\n      <th></th>\n      <th></th>\n      <th></th>\n      <th></th>\n      <th></th>\n      <th></th>\n    </tr>\n  </thead>\n  <tbody>\n    <tr>\n      <th>CVCL_0001</th>\n      <th>HEL</th>\n      <th>5280757</th>\n      <th>Bryostatin 1</th>\n      <td>CVCL_0001|5280757</td>\n      <td>0.0</td>\n      <td>8.108073</td>\n      <td>1.605647</td>\n      <td>1.046587</td>\n      <td>0.291085</td>\n      <td>-0.597186</td>\n      <td>0.986014</td>\n      <td>0.026809</td>\n      <td>0.952501</td>\n      <td>...</td>\n      <td>1.419270e-08</td>\n      <td>HEL</td>\n      <td>CVCL_0001</td>\n      <td>5280757</td>\n      <td>-4.307089</td>\n      <td>0.948487</td>\n      <td>1.347271e-08</td>\n      <td>3.125000e-11</td>\n      <td>8.000000e-09</td>\n      <td>-4.255028</td>\n    </tr>\n    <tr>\n      <th>CVCL_0002</th>\n      <th>HL-60</th>\n      <th>5280757</th>\n      <th>Bryostatin 1</th>\n      <td>CVCL_0002|5280757</td>\n      <td>0.0</td>\n      <td>8.409941</td>\n      <td>10.000000</td>\n      <td>1.029465</td>\n      <td>0.831231</td>\n      <td>-0.266425</td>\n      <td>1.003695</td>\n      <td>0.033921</td>\n      <td>0.786028</td>\n      <td>...</td>\n      <td>NaN</td>\n      <td>HL-60</td>\n      <td>CVCL_0002</td>\n      <td>5280757</td>\n      <td>-3.383405</td>\n      <td>0.968259</td>\n      <td>3.393172e-08</td>\n      <td>3.125000e-11</td>\n      <td>8.000000e-09</td>\n      <td>NaN</td>\n    </tr>\n    <tr>\n      <th>CVCL_0004</th>\n      <th>K-562</th>\n      <th>5280757</th>\n      <th>Bryostatin 1</th>\n      <td>CVCL_0004|5280757</td>\n      <td>0.0</td>\n      <td>8.548625</td>\n      <td>10.000000</td>\n      <td>0.994296</td>\n      <td>1.050375</td>\n      <td>0.070902</td>\n      <td>1.004815</td>\n      <td>0.018237</td>\n      <td>0.593067</td>\n      <td>...</td>\n      <td>NaN</td>\n      <td>K-562</td>\n      <td>CVCL_0004</td>\n      <td>5280757</td>\n      <td>-2.285847</td>\n      <td>0.983966</td>\n      <td>1.016879e-07</td>\n      <td>3.125000e-11</td>\n      <td>8.000000e-09</td>\n      <td>NaN</td>\n    </tr>\n    <tr>\n      <th>CVCL_0005</th>\n      <th>NB4</th>\n      <th>5280757</th>\n      <th>Bryostatin 1</th>\n      <td>CVCL_0005|5280757</td>\n      <td>0.0</td>\n      <td>8.438999</td>\n      <td>10.000000</td>\n      <td>1.005756</td>\n      <td>0.473905</td>\n      <td>-1.076716</td>\n      <td>0.930203</td>\n      <td>0.067179</td>\n      <td>0.884457</td>\n      <td>...</td>\n      <td>4.894855e-09</td>\n      <td>NB4</td>\n      <td>CVCL_0005</td>\n      <td>5280757</td>\n      <td>-4.940283</td>\n      <td>0.904285</td>\n      <td>7.152574e-09</td>\n      <td>3.125000e-11</td>\n      <td>8.000000e-09</td>\n      <td>-5.319571</td>\n    </tr>\n    <tr>\n      <th>CVCL_0006</th>\n      <th>THP-1</th>\n      <th>5280757</th>\n      <th>Bryostatin 1</th>\n      <td>CVCL_0006|5280757</td>\n      <td>0.0</td>\n      <td>8.650062</td>\n      <td>10.000000</td>\n      <td>1.011980</td>\n      <td>0.960338</td>\n      <td>-0.058386</td>\n      <td>1.000118</td>\n      <td>0.021364</td>\n      <td>0.475456</td>\n      <td>...</td>\n      <td>NaN</td>\n      <td>THP-1</td>\n      <td>CVCL_0006</td>\n      <td>5280757</td>\n      <td>-2.800297</td>\n      <td>0.987445</td>\n      <td>6.079200e-08</td>\n      <td>3.125000e-11</td>\n      <td>8.000000e-09</td>\n      <td>NaN</td>\n    </tr>\n    <tr>\n      <th>...</th>\n      <th>...</th>\n      <th>...</th>\n      <th>...</th>\n      <td>...</td>\n      <td>...</td>\n      <td>...</td>\n      <td>...</td>\n      <td>...</td>\n      <td>...</td>\n      <td>...</td>\n      <td>...</td>\n      <td>...</td>\n      <td>...</td>\n      <td>...</td>\n      <td>...</td>\n      <td>...</td>\n      <td>...</td>\n      <td>...</td>\n      <td>...</td>\n      <td>...</td>\n      <td>...</td>\n      <td>...</td>\n      <td>...</td>\n      <td>...</td>\n    </tr>\n    <tr>\n      <th>CVCL_1679</th>\n      <th>SBC-5</th>\n      <th>560326</th>\n      <th>DMOG</th>\n      <td>CVCL_1679|560326</td>\n      <td>0.0</td>\n      <td>3.245661</td>\n      <td>0.940205</td>\n      <td>1.146734</td>\n      <td>0.000100</td>\n      <td>-2.662959</td>\n      <td>0.717923</td>\n      <td>0.131186</td>\n      <td>0.878403</td>\n      <td>...</td>\n      <td>7.469557e-04</td>\n      <td>SBC-5</td>\n      <td>CVCL_1679</td>\n      <td>560326</td>\n      <td>6.708085</td>\n      <td>0.698649</td>\n      <td>8.190008e-04</td>\n      <td>1.562500e-05</td>\n      <td>4.000000e-03</td>\n      <td>6.616006</td>\n    </tr>\n    <tr>\n      <th>CVCL_1705</th>\n      <th>SN12C</th>\n      <th>8249</th>\n      <th>Phenformin</th>\n      <td>CVCL_1705|8249</td>\n      <td>0.0</td>\n      <td>2.695512</td>\n      <td>0.603697</td>\n      <td>0.977624</td>\n      <td>0.370678</td>\n      <td>-0.707769</td>\n      <td>0.819998</td>\n      <td>0.230365</td>\n      <td>0.196853</td>\n      <td>...</td>\n      <td>1.755447e-02</td>\n      <td>SN12C</td>\n      <td>CVCL_1705</td>\n      <td>8249</td>\n      <td>8.394486</td>\n      <td>0.860953</td>\n      <td>4.422613e-03</td>\n      <td>1.562500e-05</td>\n      <td>4.000000e-03</td>\n      <td>9.773064</td>\n    </tr>\n    <tr>\n      <th>CVCL_1823</th>\n      <th>Karpas-620</th>\n      <th>8249</th>\n      <th>Phenformin</th>\n      <td>CVCL_1823|8249</td>\n      <td>0.0</td>\n      <td>4.361405</td>\n      <td>0.680181</td>\n      <td>0.984015</td>\n      <td>0.000100</td>\n      <td>-4.521686</td>\n      <td>0.275513</td>\n      <td>0.225811</td>\n      <td>0.548946</td>\n      <td>...</td>\n      <td>4.149321e-05</td>\n      <td>KARPAS-620</td>\n      <td>CVCL_1823</td>\n      <td>8249</td>\n      <td>3.869974</td>\n      <td>0.233076</td>\n      <td>4.794114e-05</td>\n      <td>1.562500e-05</td>\n      <td>4.000000e-03</td>\n      <td>3.725530</td>\n    </tr>\n    <tr>\n      <th>CVCL_1890</th>\n      <th>SU-DHL-16</th>\n      <th>560326</th>\n      <th>DMOG</th>\n      <td>CVCL_1890|560326</td>\n      <td>0.0</td>\n      <td>3.844805</td>\n      <td>2.201153</td>\n      <td>1.024656</td>\n      <td>0.022761</td>\n      <td>-5.416412</td>\n      <td>0.423292</td>\n      <td>0.114006</td>\n      <td>0.931236</td>\n      <td>...</td>\n      <td>1.492399e-04</td>\n      <td>SU-DHL-16</td>\n      <td>CVCL_1890</td>\n      <td>560326</td>\n      <td>5.027467</td>\n      <td>0.411516</td>\n      <td>1.525461e-04</td>\n      <td>1.562500e-05</td>\n      <td>4.000000e-03</td>\n      <td>5.005555</td>\n    </tr>\n    <tr>\n      <th>CVCL_C171</th>\n      <th>PCI-04B</th>\n      <th>8249</th>\n      <th>Phenformin</th>\n      <td>CVCL_C171|8249</td>\n      <td>0.0</td>\n      <td>2.821921</td>\n      <td>1.383937</td>\n      <td>0.911407</td>\n      <td>0.000100</td>\n      <td>-2.414642</td>\n      <td>0.723833</td>\n      <td>0.136825</td>\n      <td>0.790504</td>\n      <td>...</td>\n      <td>1.309002e-03</td>\n      <td>PCI-4B</td>\n      <td>CVCL_C171</td>\n      <td>8249</td>\n      <td>7.059904</td>\n      <td>0.737141</td>\n      <td>1.164333e-03</td>\n      <td>1.562500e-05</td>\n      <td>4.000000e-03</td>\n      <td>7.177021</td>\n    </tr>\n  </tbody>\n</table>\n<p>316506 rows × 28 columns</p>\n</div>"
     },
     "execution_count": 23,
     "metadata": {},
     "output_type": "execute_result"
    }
   ],
   "source": [
    "mapped_response_df"
   ],
   "metadata": {
    "collapsed": false,
    "ExecuteTime": {
     "start_time": "2025-02-07T09:25:33.713239Z"
    }
   },
   "id": "e6ccf3817e97da31"
  },
  {
   "cell_type": "code",
   "execution_count": null,
   "outputs": [],
   "source": [],
   "metadata": {
    "collapsed": false
   },
   "id": "71b8322a5d88df97"
  }
 ],
 "metadata": {
  "kernelspec": {
   "display_name": "Python 3 (ipykernel)",
   "language": "python",
   "name": "python3"
  },
  "language_info": {
   "codemirror_mode": {
    "name": "ipython",
    "version": 3
   },
   "file_extension": ".py",
   "mimetype": "text/x-python",
   "name": "python",
   "nbconvert_exporter": "python",
   "pygments_lexer": "ipython3",
   "version": "3.11.10"
  }
 },
 "nbformat": 4,
 "nbformat_minor": 5
}
