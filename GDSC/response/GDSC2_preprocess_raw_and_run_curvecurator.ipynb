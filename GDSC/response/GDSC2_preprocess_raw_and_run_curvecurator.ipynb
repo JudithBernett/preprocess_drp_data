{
 "cells": [
  {
   "cell_type": "markdown",
   "id": "011d7116-2417-4019-826d-2db40e53e710",
   "metadata": {},
   "source": [
    "# Prepare raw data for curvecurator"
   ]
  },
  {
   "cell_type": "code",
   "execution_count": 1,
   "id": "b5ffc998-c7f8-4ba1-ba37-93644cde9e76",
   "metadata": {
    "ExecuteTime": {
     "end_time": "2025-02-07T10:04:19.501463Z",
     "start_time": "2025-02-07T10:04:19.183162Z"
    }
   },
   "outputs": [],
   "source": [
    "import pandas as pd\n",
    "from pathlib import Path\n",
    "import numpy as np\n",
    "import seaborn as sns\n",
    "import matplotlib.pyplot as plt\n",
    "import pubchempy as pcp\n",
    "from Bio.ExPASy import cellosaurus\n",
    "from drevalpy.datasets.curvecurator import _exec_curvecurator, postprocess"
   ]
  },
  {
   "cell_type": "markdown",
   "id": "853a32f9-b38c-4bd9-b57f-8fc8ad09faf2",
   "metadata": {},
   "source": [
    "## Load Data"
   ]
  },
  {
   "cell_type": "code",
   "execution_count": 2,
   "id": "877b4809-4171-4e7e-9bec-e63b180bbc4d",
   "metadata": {
    "ExecuteTime": {
     "end_time": "2025-02-07T09:49:29.868114Z",
     "start_time": "2025-02-07T09:49:29.837828Z"
    }
   },
   "outputs": [],
   "source": [
    "RAW_FILE_PATH = Path(\"GDSC2_public_raw_data_27Oct23.csv\")"
   ]
  },
  {
   "cell_type": "code",
   "execution_count": 3,
   "id": "419e7f0f-33ac-48dd-bf67-e3996a8adc0c",
   "metadata": {
    "ExecuteTime": {
     "end_time": "2025-02-07T09:49:48.077009Z",
     "start_time": "2025-02-07T09:49:30.462387Z"
    }
   },
   "outputs": [
    {
     "data": {
      "text/plain": "              RESEARCH_PROJECT  BARCODE  SCAN_ID          DATE_CREATED  \\\n0                      GDSC_SA     3230     2945  2015-02-13T00:00:00Z   \n1                      GDSC_SA     3230     2945  2015-02-13T00:00:00Z   \n2                      GDSC_SA     3230     2945  2015-02-13T00:00:00Z   \n3                      GDSC_SA     3230     2945  2015-02-13T00:00:00Z   \n4                      GDSC_SA     3230     2945  2015-02-13T00:00:00Z   \n...                        ...      ...      ...                   ...   \n15069444  GDSC_Panc-Validation    63249    58272  2020-03-16T00:00:00Z   \n15069445  GDSC_Panc-Validation    63249    58272  2020-03-16T00:00:00Z   \n15069446  GDSC_Panc-Validation    63249    58272  2020-03-16T00:00:00Z   \n15069447  GDSC_Panc-Validation    63249    58272  2020-03-16T00:00:00Z   \n15069448  GDSC_Panc-Validation    63249    58272  2020-03-16T00:00:00Z   \n\n                     SCAN_DATE  CELL_ID  MASTER_CELL_ID  COSMIC_ID  \\\n0         2015-02-17T00:00:00Z     4712             198     753608   \n1         2015-02-17T00:00:00Z     4712             198     753608   \n2         2015-02-17T00:00:00Z     4712             198     753608   \n3         2015-02-17T00:00:00Z     4712             198     753608   \n4         2015-02-17T00:00:00Z     4712             198     753608   \n...                        ...      ...             ...        ...   \n15069444  2020-03-20T00:00:00Z    12810            1843    1298141   \n15069445  2020-03-20T00:00:00Z    12810            1843    1298141   \n15069446  2020-03-20T00:00:00Z    12810            1843    1298141   \n15069447  2020-03-20T00:00:00Z    12810            1843    1298141   \n15069448  2020-03-20T00:00:00Z    12810            1843    1298141   \n\n         CELL_LINE_NAME SANGER_MODEL_ID  SEEDING_DENSITY  DRUGSET_ID ASSAY  \\\n0                 PC-14       SIDM00237              250         159   Glo   \n1                 PC-14       SIDM00237              250         159   Glo   \n2                 PC-14       SIDM00237              250         159   Glo   \n3                 PC-14       SIDM00237              250         159   Glo   \n4                 PC-14       SIDM00237              250         159   Glo   \n...                 ...             ...              ...         ...   ...   \n15069444        Hs-766T       SIDM00664              325         630   Glo   \n15069445        Hs-766T       SIDM00664              325         630   Glo   \n15069446        Hs-766T       SIDM00664              325         630   Glo   \n15069447        Hs-766T       SIDM00664              325         630   Glo   \n15069448        Hs-766T       SIDM00664              325         630   Glo   \n\n          DURATION  POSITION      TAG  DRUG_ID  CONC  INTENSITY  \n0                4         1  UN-USED      NaN   NaN          0  \n1                4         2  UN-USED      NaN   NaN          0  \n2                4         3  UN-USED      NaN   NaN        398  \n3                4         4  UN-USED      NaN   NaN        796  \n4                4         5  UN-USED      NaN   NaN        796  \n...            ...       ...      ...      ...   ...        ...  \n15069444         4      1532  UN-USED      NaN   NaN       8504  \n15069445         4      1533  UN-USED      NaN   NaN       5255  \n15069446         4      1534  UN-USED      NaN   NaN       1051  \n15069447         4      1535  UN-USED      NaN   NaN        191  \n15069448         4      1536  UN-USED      NaN   NaN         96  \n\n[15069449 rows x 19 columns]",
      "text/html": "<div>\n<style scoped>\n    .dataframe tbody tr th:only-of-type {\n        vertical-align: middle;\n    }\n\n    .dataframe tbody tr th {\n        vertical-align: top;\n    }\n\n    .dataframe thead th {\n        text-align: right;\n    }\n</style>\n<table border=\"1\" class=\"dataframe\">\n  <thead>\n    <tr style=\"text-align: right;\">\n      <th></th>\n      <th>RESEARCH_PROJECT</th>\n      <th>BARCODE</th>\n      <th>SCAN_ID</th>\n      <th>DATE_CREATED</th>\n      <th>SCAN_DATE</th>\n      <th>CELL_ID</th>\n      <th>MASTER_CELL_ID</th>\n      <th>COSMIC_ID</th>\n      <th>CELL_LINE_NAME</th>\n      <th>SANGER_MODEL_ID</th>\n      <th>SEEDING_DENSITY</th>\n      <th>DRUGSET_ID</th>\n      <th>ASSAY</th>\n      <th>DURATION</th>\n      <th>POSITION</th>\n      <th>TAG</th>\n      <th>DRUG_ID</th>\n      <th>CONC</th>\n      <th>INTENSITY</th>\n    </tr>\n  </thead>\n  <tbody>\n    <tr>\n      <th>0</th>\n      <td>GDSC_SA</td>\n      <td>3230</td>\n      <td>2945</td>\n      <td>2015-02-13T00:00:00Z</td>\n      <td>2015-02-17T00:00:00Z</td>\n      <td>4712</td>\n      <td>198</td>\n      <td>753608</td>\n      <td>PC-14</td>\n      <td>SIDM00237</td>\n      <td>250</td>\n      <td>159</td>\n      <td>Glo</td>\n      <td>4</td>\n      <td>1</td>\n      <td>UN-USED</td>\n      <td>NaN</td>\n      <td>NaN</td>\n      <td>0</td>\n    </tr>\n    <tr>\n      <th>1</th>\n      <td>GDSC_SA</td>\n      <td>3230</td>\n      <td>2945</td>\n      <td>2015-02-13T00:00:00Z</td>\n      <td>2015-02-17T00:00:00Z</td>\n      <td>4712</td>\n      <td>198</td>\n      <td>753608</td>\n      <td>PC-14</td>\n      <td>SIDM00237</td>\n      <td>250</td>\n      <td>159</td>\n      <td>Glo</td>\n      <td>4</td>\n      <td>2</td>\n      <td>UN-USED</td>\n      <td>NaN</td>\n      <td>NaN</td>\n      <td>0</td>\n    </tr>\n    <tr>\n      <th>2</th>\n      <td>GDSC_SA</td>\n      <td>3230</td>\n      <td>2945</td>\n      <td>2015-02-13T00:00:00Z</td>\n      <td>2015-02-17T00:00:00Z</td>\n      <td>4712</td>\n      <td>198</td>\n      <td>753608</td>\n      <td>PC-14</td>\n      <td>SIDM00237</td>\n      <td>250</td>\n      <td>159</td>\n      <td>Glo</td>\n      <td>4</td>\n      <td>3</td>\n      <td>UN-USED</td>\n      <td>NaN</td>\n      <td>NaN</td>\n      <td>398</td>\n    </tr>\n    <tr>\n      <th>3</th>\n      <td>GDSC_SA</td>\n      <td>3230</td>\n      <td>2945</td>\n      <td>2015-02-13T00:00:00Z</td>\n      <td>2015-02-17T00:00:00Z</td>\n      <td>4712</td>\n      <td>198</td>\n      <td>753608</td>\n      <td>PC-14</td>\n      <td>SIDM00237</td>\n      <td>250</td>\n      <td>159</td>\n      <td>Glo</td>\n      <td>4</td>\n      <td>4</td>\n      <td>UN-USED</td>\n      <td>NaN</td>\n      <td>NaN</td>\n      <td>796</td>\n    </tr>\n    <tr>\n      <th>4</th>\n      <td>GDSC_SA</td>\n      <td>3230</td>\n      <td>2945</td>\n      <td>2015-02-13T00:00:00Z</td>\n      <td>2015-02-17T00:00:00Z</td>\n      <td>4712</td>\n      <td>198</td>\n      <td>753608</td>\n      <td>PC-14</td>\n      <td>SIDM00237</td>\n      <td>250</td>\n      <td>159</td>\n      <td>Glo</td>\n      <td>4</td>\n      <td>5</td>\n      <td>UN-USED</td>\n      <td>NaN</td>\n      <td>NaN</td>\n      <td>796</td>\n    </tr>\n    <tr>\n      <th>...</th>\n      <td>...</td>\n      <td>...</td>\n      <td>...</td>\n      <td>...</td>\n      <td>...</td>\n      <td>...</td>\n      <td>...</td>\n      <td>...</td>\n      <td>...</td>\n      <td>...</td>\n      <td>...</td>\n      <td>...</td>\n      <td>...</td>\n      <td>...</td>\n      <td>...</td>\n      <td>...</td>\n      <td>...</td>\n      <td>...</td>\n      <td>...</td>\n    </tr>\n    <tr>\n      <th>15069444</th>\n      <td>GDSC_Panc-Validation</td>\n      <td>63249</td>\n      <td>58272</td>\n      <td>2020-03-16T00:00:00Z</td>\n      <td>2020-03-20T00:00:00Z</td>\n      <td>12810</td>\n      <td>1843</td>\n      <td>1298141</td>\n      <td>Hs-766T</td>\n      <td>SIDM00664</td>\n      <td>325</td>\n      <td>630</td>\n      <td>Glo</td>\n      <td>4</td>\n      <td>1532</td>\n      <td>UN-USED</td>\n      <td>NaN</td>\n      <td>NaN</td>\n      <td>8504</td>\n    </tr>\n    <tr>\n      <th>15069445</th>\n      <td>GDSC_Panc-Validation</td>\n      <td>63249</td>\n      <td>58272</td>\n      <td>2020-03-16T00:00:00Z</td>\n      <td>2020-03-20T00:00:00Z</td>\n      <td>12810</td>\n      <td>1843</td>\n      <td>1298141</td>\n      <td>Hs-766T</td>\n      <td>SIDM00664</td>\n      <td>325</td>\n      <td>630</td>\n      <td>Glo</td>\n      <td>4</td>\n      <td>1533</td>\n      <td>UN-USED</td>\n      <td>NaN</td>\n      <td>NaN</td>\n      <td>5255</td>\n    </tr>\n    <tr>\n      <th>15069446</th>\n      <td>GDSC_Panc-Validation</td>\n      <td>63249</td>\n      <td>58272</td>\n      <td>2020-03-16T00:00:00Z</td>\n      <td>2020-03-20T00:00:00Z</td>\n      <td>12810</td>\n      <td>1843</td>\n      <td>1298141</td>\n      <td>Hs-766T</td>\n      <td>SIDM00664</td>\n      <td>325</td>\n      <td>630</td>\n      <td>Glo</td>\n      <td>4</td>\n      <td>1534</td>\n      <td>UN-USED</td>\n      <td>NaN</td>\n      <td>NaN</td>\n      <td>1051</td>\n    </tr>\n    <tr>\n      <th>15069447</th>\n      <td>GDSC_Panc-Validation</td>\n      <td>63249</td>\n      <td>58272</td>\n      <td>2020-03-16T00:00:00Z</td>\n      <td>2020-03-20T00:00:00Z</td>\n      <td>12810</td>\n      <td>1843</td>\n      <td>1298141</td>\n      <td>Hs-766T</td>\n      <td>SIDM00664</td>\n      <td>325</td>\n      <td>630</td>\n      <td>Glo</td>\n      <td>4</td>\n      <td>1535</td>\n      <td>UN-USED</td>\n      <td>NaN</td>\n      <td>NaN</td>\n      <td>191</td>\n    </tr>\n    <tr>\n      <th>15069448</th>\n      <td>GDSC_Panc-Validation</td>\n      <td>63249</td>\n      <td>58272</td>\n      <td>2020-03-16T00:00:00Z</td>\n      <td>2020-03-20T00:00:00Z</td>\n      <td>12810</td>\n      <td>1843</td>\n      <td>1298141</td>\n      <td>Hs-766T</td>\n      <td>SIDM00664</td>\n      <td>325</td>\n      <td>630</td>\n      <td>Glo</td>\n      <td>4</td>\n      <td>1536</td>\n      <td>UN-USED</td>\n      <td>NaN</td>\n      <td>NaN</td>\n      <td>96</td>\n    </tr>\n  </tbody>\n</table>\n<p>15069449 rows × 19 columns</p>\n</div>"
     },
     "execution_count": 3,
     "metadata": {},
     "output_type": "execute_result"
    }
   ],
   "source": [
    "raw_df = pd.read_csv(RAW_FILE_PATH)\n",
    "raw_df"
   ]
  },
  {
   "cell_type": "code",
   "execution_count": 4,
   "id": "ddc18106-2ae5-49eb-8e0d-3bd5c26bccd2",
   "metadata": {
    "ExecuteTime": {
     "end_time": "2025-02-07T09:49:48.089963Z",
     "start_time": "2025-02-07T09:49:48.072857Z"
    }
   },
   "outputs": [
    {
     "data": {
      "text/plain": "     DRUG_ID SCREENING_SITE              DRUG_NAME  \\\n0          1            MGH              Erlotinib   \n1          3            MGH              Rapamycin   \n2          5            MGH              Sunitinib   \n3          6            MGH             PHA-665752   \n4          9            MGH                 MG-132   \n..       ...            ...                    ...   \n616     2362         SANGER                THR-103   \n617     2438         SANGER  ascorbate (vitamin C)   \n618     2439         SANGER            glutathione   \n619     2498         SANGER      alpha-lipoic acid   \n620     2499         SANGER      N-acetyl cysteine   \n\n                                              SYNONYMS  \\\n0    Tarceva, RG-1415, CP-358774, OSI-774, Ro-50823...   \n1    AY-22989, Sirolimus, WY-090217, Torisel, Rapamune   \n2                   Sutent, Sunitinib Malate, SU-11248   \n3                                PHA665752, PHA 665752   \n4                               LLL cpd, MG 132, MG132   \n..                                                 ...   \n616                                     WIMM synthesis   \n617                        back-up solution from YWKim   \n618                                       G6013, sigma   \n619                                                aLA   \n620                                                NAC   \n\n                                  TARGET                     TARGET_PATHWAY  \n0                                   EGFR                     EGFR signaling  \n1                                 MTORC1                PI3K/MTOR signaling  \n2    PDGFR, KIT, VEGFR, FLT3, RET, CSF1R                      RTK signaling  \n3                                    MET                      RTK signaling  \n4                      Proteasome, CAPN1  Protein stability and degradation  \n..                                   ...                                ...  \n616                           Mutant RAS                PI3K/MTOR signaling  \n617                anti-oxidant proteins                              Other  \n618                anti-oxidant proteins                              Other  \n619                           Metabolism                         Metabolism  \n620                           Metabolism                         Metabolism  \n\n[621 rows x 6 columns]",
      "text/html": "<div>\n<style scoped>\n    .dataframe tbody tr th:only-of-type {\n        vertical-align: middle;\n    }\n\n    .dataframe tbody tr th {\n        vertical-align: top;\n    }\n\n    .dataframe thead th {\n        text-align: right;\n    }\n</style>\n<table border=\"1\" class=\"dataframe\">\n  <thead>\n    <tr style=\"text-align: right;\">\n      <th></th>\n      <th>DRUG_ID</th>\n      <th>SCREENING_SITE</th>\n      <th>DRUG_NAME</th>\n      <th>SYNONYMS</th>\n      <th>TARGET</th>\n      <th>TARGET_PATHWAY</th>\n    </tr>\n  </thead>\n  <tbody>\n    <tr>\n      <th>0</th>\n      <td>1</td>\n      <td>MGH</td>\n      <td>Erlotinib</td>\n      <td>Tarceva, RG-1415, CP-358774, OSI-774, Ro-50823...</td>\n      <td>EGFR</td>\n      <td>EGFR signaling</td>\n    </tr>\n    <tr>\n      <th>1</th>\n      <td>3</td>\n      <td>MGH</td>\n      <td>Rapamycin</td>\n      <td>AY-22989, Sirolimus, WY-090217, Torisel, Rapamune</td>\n      <td>MTORC1</td>\n      <td>PI3K/MTOR signaling</td>\n    </tr>\n    <tr>\n      <th>2</th>\n      <td>5</td>\n      <td>MGH</td>\n      <td>Sunitinib</td>\n      <td>Sutent, Sunitinib Malate, SU-11248</td>\n      <td>PDGFR, KIT, VEGFR, FLT3, RET, CSF1R</td>\n      <td>RTK signaling</td>\n    </tr>\n    <tr>\n      <th>3</th>\n      <td>6</td>\n      <td>MGH</td>\n      <td>PHA-665752</td>\n      <td>PHA665752, PHA 665752</td>\n      <td>MET</td>\n      <td>RTK signaling</td>\n    </tr>\n    <tr>\n      <th>4</th>\n      <td>9</td>\n      <td>MGH</td>\n      <td>MG-132</td>\n      <td>LLL cpd, MG 132, MG132</td>\n      <td>Proteasome, CAPN1</td>\n      <td>Protein stability and degradation</td>\n    </tr>\n    <tr>\n      <th>...</th>\n      <td>...</td>\n      <td>...</td>\n      <td>...</td>\n      <td>...</td>\n      <td>...</td>\n      <td>...</td>\n    </tr>\n    <tr>\n      <th>616</th>\n      <td>2362</td>\n      <td>SANGER</td>\n      <td>THR-103</td>\n      <td>WIMM synthesis</td>\n      <td>Mutant RAS</td>\n      <td>PI3K/MTOR signaling</td>\n    </tr>\n    <tr>\n      <th>617</th>\n      <td>2438</td>\n      <td>SANGER</td>\n      <td>ascorbate (vitamin C)</td>\n      <td>back-up solution from YWKim</td>\n      <td>anti-oxidant proteins</td>\n      <td>Other</td>\n    </tr>\n    <tr>\n      <th>618</th>\n      <td>2439</td>\n      <td>SANGER</td>\n      <td>glutathione</td>\n      <td>G6013, sigma</td>\n      <td>anti-oxidant proteins</td>\n      <td>Other</td>\n    </tr>\n    <tr>\n      <th>619</th>\n      <td>2498</td>\n      <td>SANGER</td>\n      <td>alpha-lipoic acid</td>\n      <td>aLA</td>\n      <td>Metabolism</td>\n      <td>Metabolism</td>\n    </tr>\n    <tr>\n      <th>620</th>\n      <td>2499</td>\n      <td>SANGER</td>\n      <td>N-acetyl cysteine</td>\n      <td>NAC</td>\n      <td>Metabolism</td>\n      <td>Metabolism</td>\n    </tr>\n  </tbody>\n</table>\n<p>621 rows × 6 columns</p>\n</div>"
     },
     "execution_count": 4,
     "metadata": {},
     "output_type": "execute_result"
    }
   ],
   "source": [
    "drug_names = pd.read_csv(\"screened_compounds_rel_8.5.csv\")\n",
    "drug_names[\"DRUG_NAME\"] = drug_names.DRUG_NAME.apply(lambda x: x[:-1] if x[-1] == ' ' else x)  # remove trailing spaces for 'GSK-LSD1-2HCl', 'JAK1_8517'\n",
    "drug_names"
   ]
  },
  {
   "cell_type": "code",
   "execution_count": 5,
   "id": "9fc7f169-83f1-48c9-ae32-ac2358491fba",
   "metadata": {
    "ExecuteTime": {
     "end_time": "2025-02-07T09:50:01.131089Z",
     "start_time": "2025-02-07T09:50:01.087788Z"
    }
   },
   "outputs": [],
   "source": [
    "# Remove failed drugs from the dataset\n",
    "def remove_failed_drugs(df):\n",
    "    # Remove rows where TAG == 'UN-USED'\n",
    "    failed_positions = df[df['TAG'] == 'UN-USED'][['SCAN_ID', 'POSITION']]\n",
    "    df = df.merge(failed_positions, on=['SCAN_ID', 'POSITION'], how='outer', indicator=True)\n",
    "    df = df[df['_merge'] == 'left_only'].drop(columns='_merge')\n",
    "    return df\n",
    "\n",
    "# Remove missing drugs (where DRUG_ID is NA)\n",
    "def remove_missing_drugs(df):\n",
    "    # Remove rows where DRUG_ID is NA\n",
    "    na_libs = df[df['DRUG_ID'].isna() & df['TAG'].str.contains(\"^(L|R|A)\\d+\", regex=True)]\n",
    "    df = df.merge(na_libs[['SCAN_ID', 'POSITION']], on=['SCAN_ID', 'POSITION'], how='outer', indicator=True)\n",
    "    df = df[df['_merge'] == 'left_only'].drop(columns='_merge')\n",
    "    return df\n",
    "\n",
    "# Calculate the mean intensity for a given tag\n",
    "def calc_tag_mean(df, tag_name, mean_col_name=\"tag_mean\"):\n",
    "    # Check if tag exists for all SCAN_IDs\n",
    "    check_for_tag = df[['SCAN_ID']].drop_duplicates().merge(\n",
    "        df[df['TAG'] == tag_name].groupby('SCAN_ID').size().reset_index(name='count'),\n",
    "        on='SCAN_ID', how='left'\n",
    "    )\n",
    "    if check_for_tag['count'].isna().any():\n",
    "        print(check_for_tag['count'])\n",
    "        raise ValueError(f\"calcTagMean: {tag_name} is not present for some or all of the SCAN_IDs.\")\n",
    "    \n",
    "    # Calculate mean intensity for the tag\n",
    "    tag_means = df[df['TAG'] == tag_name].groupby('SCAN_ID')['INTENSITY'].mean().reset_index(name=mean_col_name)\n",
    "    \n",
    "    if tag_means[mean_col_name].isna().any():\n",
    "        raise ValueError(f\"calcTagMean: {tag_name} has a mean of NaN for some or all of the SCAN_IDs.\")\n",
    "    \n",
    "    return tag_means\n",
    "\n",
    "# Normalize the dataset with respect to controls\n",
    "def normalize_data(df, trim=True, neg_control='NC-1', pos_control='B'):\n",
    "    nc1 = calc_tag_mean(df, neg_control, \"NC\")\n",
    "    pc1 = calc_tag_mean(df, pos_control, \"PC\")\n",
    "    \n",
    "    # Filter and select relevant columns\n",
    "    normalized_data = df[df['TAG'].str.contains(r\"(A|L|R)\\d+(-D\\d+)?-(S|C)\")].copy()\n",
    "    \n",
    "    normalized_data['lib_drug'] = normalized_data['TAG'].str.extract(r\"((L|R)\\d+)(-D\\d+)?-(S|C)\")[0]\n",
    "    normalized_data['lib_drug'] = np.where(normalized_data['lib_drug'].str.startswith(\"A\"), np.nan, normalized_data['lib_drug'])\n",
    "    \n",
    "    normalized_data['anchor'] = normalized_data['TAG'].str.extract(r\"(A\\d+)-(S|C)\")[0]\n",
    "    normalized_data['anchor'] = np.where(normalized_data['anchor'].str.startswith(\"(L|R)\"), np.nan, normalized_data['anchor'])\n",
    "    \n",
    "    normalized_data['dose'] = normalized_data['TAG'].str.extract(r\"(A|L|R)\\d+-?(D\\d+)?-(S|C)\")[1]\n",
    "    normalized_data['treatment'] = normalized_data['TAG'].str.extract(r\"((A|L|R)\\d+)(-D\\d+)?-(S|C)\")[3]\n",
    "    \n",
    "    # Join library and anchor data\n",
    "    libraries = normalized_data.loc[~normalized_data['lib_drug'].isna(), normalized_data.columns != 'anchor'].rename(columns={\"DRUG_ID\": \"DRUG_ID_lib\"}).copy()\n",
    "    anchors = normalized_data.loc[~normalized_data['anchor'].isna(), ~normalized_data.columns.isin([\"lib_drug\", \"dose\"])].rename(columns={\"DRUG_ID\": \"DRUG_ID_anch\", \"CONC\": \"CONC_anch\"})\n",
    "    \n",
    "    if not anchors.empty:\n",
    "        normalized_data = pd.merge(libraries, anchors, how='outer')\n",
    "    else:\n",
    "        normalized_data = libraries\n",
    "    \n",
    "    # Merge controls\n",
    "    normalized_data = normalized_data.merge(nc1, on=\"SCAN_ID\", how='left').merge(pc1, on=\"SCAN_ID\", how='left')\n",
    "    \n",
    "    # Normalize intensity\n",
    "    normalized_data['normalized_intensity'] = (normalized_data['INTENSITY'] - normalized_data['PC']) / (normalized_data['NC'] - normalized_data['PC'])\n",
    "    \n",
    "    # Trim values to range [0, 1]\n",
    "    if trim:\n",
    "        normalized_data['normalized_intensity'] = normalized_data['normalized_intensity'].clip(lower=0, upper=1000)\n",
    "    \n",
    "    normalized_data['norm_neg_pos'] = neg_control + \"+\" + pos_control\n",
    "    #normalized_data['time_stamp'] = datetime.now()\n",
    "    \n",
    "    return normalized_data\n",
    "\n",
    "# Main normalization function\n",
    "def main_normalizer(gdsc_dataset):\n",
    "    return normalize_data(remove_missing_drugs(remove_failed_drugs(gdsc_dataset)))\n",
    "\n",
    "# Add DMSO controls\n",
    "def add_dmso(df):\n",
    "    unique_pairs = df[['cell_line', 'drug']].drop_duplicates()\n",
    "    new_rows = unique_pairs.assign(dose=0, response=1.0)\n",
    "    final_dataset = pd.concat([df, new_rows], ignore_index=True)\n",
    "    return final_dataset\n",
    "\n",
    "# Map drug names\n",
    "def drug_name_mapper(df, drug_df):\n",
    "    drug_df = drug_df[['DRUG_ID', 'DRUG_NAME', 'SYNONYMS', 'SCREENING_SITE']]#.rename(columns={'DRUG_ID': 'drug'})\n",
    "    df = df.merge(drug_df, left_on='DRUG_ID_lib', right_on='DRUG_ID', how='left')\n",
    "    df['DRUG_NAME'] = df['DRUG_NAME'].fillna(df['DRUG_ID_lib'].astype(str))\n",
    "    return df.drop(columns='DRUG_ID').rename(columns={'DRUG_ID_lib': 'DRUG_ID'})\n",
    "\n",
    "# Prepare the dataset for curve curator\n",
    "def transform_for_curvecurator(df, drug_names):\n",
    "    # Filter library drugs\n",
    "    df = df[df['lib_drug'].str.startswith('L')]\n",
    "    \n",
    "    # Select relevant columns and rename them\n",
    "    df = df.copy()\n",
    "    #df.columns = ['cell_line', 'drug', 'dose', 'response', 'SANGER_MODEL_ID', \"CELL_ID\", \"MASTER_CELL_ID\"]\n",
    "    \n",
    "    # Add DMSO controls\n",
    "    #df = add_dmso(df)\n",
    "    \n",
    "    # Map drug names\n",
    "    df = drug_name_mapper(df, drug_names)\n",
    "    # Reorder and sort columns\n",
    "    df = df.sort_values(by=['CELL_LINE_NAME', 'DRUG_ID', 'CONC'])\n",
    "    \n",
    "    return df\n",
    "\n"
   ]
  },
  {
   "cell_type": "markdown",
   "id": "6f92a1e7-cb91-4162-b103-feb235c64d67",
   "metadata": {},
   "source": [
    "## Prepare data"
   ]
  },
  {
   "cell_type": "code",
   "execution_count": 6,
   "id": "9b929226-9da4-4936-bb8b-0d1d4860b81f",
   "metadata": {
    "ExecuteTime": {
     "end_time": "2025-02-07T09:52:16.946061Z",
     "start_time": "2025-02-07T09:52:00.986663Z"
    }
   },
   "outputs": [
    {
     "data": {
      "text/plain": "              RESEARCH_PROJECT  BARCODE  SCAN_ID          DATE_CREATED  \\\n96                     GDSC_SA     3230     2945  2015-02-13T00:00:00Z   \n98                     GDSC_SA     3230     2945  2015-02-13T00:00:00Z   \n99                     GDSC_SA     3230     2945  2015-02-13T00:00:00Z   \n100                    GDSC_SA     3230     2945  2015-02-13T00:00:00Z   \n101                    GDSC_SA     3230     2945  2015-02-13T00:00:00Z   \n...                        ...      ...      ...                   ...   \n15069346  GDSC_Panc-Validation    63249    58272  2020-03-16T00:00:00Z   \n15069347  GDSC_Panc-Validation    63249    58272  2020-03-16T00:00:00Z   \n15069348  GDSC_Panc-Validation    63249    58272  2020-03-16T00:00:00Z   \n15069349  GDSC_Panc-Validation    63249    58272  2020-03-16T00:00:00Z   \n15069350  GDSC_Panc-Validation    63249    58272  2020-03-16T00:00:00Z   \n\n                     SCAN_DATE  CELL_ID  MASTER_CELL_ID  COSMIC_ID  \\\n96        2015-02-17T00:00:00Z     4712             198     753608   \n98        2015-02-17T00:00:00Z     4712             198     753608   \n99        2015-02-17T00:00:00Z     4712             198     753608   \n100       2015-02-17T00:00:00Z     4712             198     753608   \n101       2015-02-17T00:00:00Z     4712             198     753608   \n...                        ...      ...             ...        ...   \n15069346  2020-03-20T00:00:00Z    12810            1843    1298141   \n15069347  2020-03-20T00:00:00Z    12810            1843    1298141   \n15069348  2020-03-20T00:00:00Z    12810            1843    1298141   \n15069349  2020-03-20T00:00:00Z    12810            1843    1298141   \n15069350  2020-03-20T00:00:00Z    12810            1843    1298141   \n\n         CELL_LINE_NAME SANGER_MODEL_ID  SEEDING_DENSITY  DRUGSET_ID ASSAY  \\\n96                PC-14       SIDM00237              250         159   Glo   \n98                PC-14       SIDM00237              250         159   Glo   \n99                PC-14       SIDM00237              250         159   Glo   \n100               PC-14       SIDM00237              250         159   Glo   \n101               PC-14       SIDM00237              250         159   Glo   \n...                 ...             ...              ...         ...   ...   \n15069346        Hs-766T       SIDM00664              325         630   Glo   \n15069347        Hs-766T       SIDM00664              325         630   Glo   \n15069348        Hs-766T       SIDM00664              325         630   Glo   \n15069349        Hs-766T       SIDM00664              325         630   Glo   \n15069350        Hs-766T       SIDM00664              325         630   Glo   \n\n          DURATION  POSITION       TAG  DRUG_ID   CONC  INTENSITY  \n96               4        97         B      NaN    NaN          0  \n98               4        99      NC-1   4000.0    NaN      38027  \n99               4       100   R1-D1-S   1003.0   0.10      23093  \n100              4       101   R2-D1-S   1060.0   0.25      38426  \n101              4       102   L3-D1-S   1593.0  10.00      19310  \n...            ...       ...       ...      ...    ...        ...  \n15069346         4      1435      NC-1   4000.0    NaN      15384  \n15069347         4      1436  PC1-D1-S   1862.0   4.00       4586  \n15069348         4      1436      DMSO   4000.0    NaN       4586  \n15069349         4      1437      NC-1   4000.0    NaN      17391  \n15069350         4      1438      NC-1   4000.0    NaN      15575  \n\n[10555745 rows x 19 columns]",
      "text/html": "<div>\n<style scoped>\n    .dataframe tbody tr th:only-of-type {\n        vertical-align: middle;\n    }\n\n    .dataframe tbody tr th {\n        vertical-align: top;\n    }\n\n    .dataframe thead th {\n        text-align: right;\n    }\n</style>\n<table border=\"1\" class=\"dataframe\">\n  <thead>\n    <tr style=\"text-align: right;\">\n      <th></th>\n      <th>RESEARCH_PROJECT</th>\n      <th>BARCODE</th>\n      <th>SCAN_ID</th>\n      <th>DATE_CREATED</th>\n      <th>SCAN_DATE</th>\n      <th>CELL_ID</th>\n      <th>MASTER_CELL_ID</th>\n      <th>COSMIC_ID</th>\n      <th>CELL_LINE_NAME</th>\n      <th>SANGER_MODEL_ID</th>\n      <th>SEEDING_DENSITY</th>\n      <th>DRUGSET_ID</th>\n      <th>ASSAY</th>\n      <th>DURATION</th>\n      <th>POSITION</th>\n      <th>TAG</th>\n      <th>DRUG_ID</th>\n      <th>CONC</th>\n      <th>INTENSITY</th>\n    </tr>\n  </thead>\n  <tbody>\n    <tr>\n      <th>96</th>\n      <td>GDSC_SA</td>\n      <td>3230</td>\n      <td>2945</td>\n      <td>2015-02-13T00:00:00Z</td>\n      <td>2015-02-17T00:00:00Z</td>\n      <td>4712</td>\n      <td>198</td>\n      <td>753608</td>\n      <td>PC-14</td>\n      <td>SIDM00237</td>\n      <td>250</td>\n      <td>159</td>\n      <td>Glo</td>\n      <td>4</td>\n      <td>97</td>\n      <td>B</td>\n      <td>NaN</td>\n      <td>NaN</td>\n      <td>0</td>\n    </tr>\n    <tr>\n      <th>98</th>\n      <td>GDSC_SA</td>\n      <td>3230</td>\n      <td>2945</td>\n      <td>2015-02-13T00:00:00Z</td>\n      <td>2015-02-17T00:00:00Z</td>\n      <td>4712</td>\n      <td>198</td>\n      <td>753608</td>\n      <td>PC-14</td>\n      <td>SIDM00237</td>\n      <td>250</td>\n      <td>159</td>\n      <td>Glo</td>\n      <td>4</td>\n      <td>99</td>\n      <td>NC-1</td>\n      <td>4000.0</td>\n      <td>NaN</td>\n      <td>38027</td>\n    </tr>\n    <tr>\n      <th>99</th>\n      <td>GDSC_SA</td>\n      <td>3230</td>\n      <td>2945</td>\n      <td>2015-02-13T00:00:00Z</td>\n      <td>2015-02-17T00:00:00Z</td>\n      <td>4712</td>\n      <td>198</td>\n      <td>753608</td>\n      <td>PC-14</td>\n      <td>SIDM00237</td>\n      <td>250</td>\n      <td>159</td>\n      <td>Glo</td>\n      <td>4</td>\n      <td>100</td>\n      <td>R1-D1-S</td>\n      <td>1003.0</td>\n      <td>0.10</td>\n      <td>23093</td>\n    </tr>\n    <tr>\n      <th>100</th>\n      <td>GDSC_SA</td>\n      <td>3230</td>\n      <td>2945</td>\n      <td>2015-02-13T00:00:00Z</td>\n      <td>2015-02-17T00:00:00Z</td>\n      <td>4712</td>\n      <td>198</td>\n      <td>753608</td>\n      <td>PC-14</td>\n      <td>SIDM00237</td>\n      <td>250</td>\n      <td>159</td>\n      <td>Glo</td>\n      <td>4</td>\n      <td>101</td>\n      <td>R2-D1-S</td>\n      <td>1060.0</td>\n      <td>0.25</td>\n      <td>38426</td>\n    </tr>\n    <tr>\n      <th>101</th>\n      <td>GDSC_SA</td>\n      <td>3230</td>\n      <td>2945</td>\n      <td>2015-02-13T00:00:00Z</td>\n      <td>2015-02-17T00:00:00Z</td>\n      <td>4712</td>\n      <td>198</td>\n      <td>753608</td>\n      <td>PC-14</td>\n      <td>SIDM00237</td>\n      <td>250</td>\n      <td>159</td>\n      <td>Glo</td>\n      <td>4</td>\n      <td>102</td>\n      <td>L3-D1-S</td>\n      <td>1593.0</td>\n      <td>10.00</td>\n      <td>19310</td>\n    </tr>\n    <tr>\n      <th>...</th>\n      <td>...</td>\n      <td>...</td>\n      <td>...</td>\n      <td>...</td>\n      <td>...</td>\n      <td>...</td>\n      <td>...</td>\n      <td>...</td>\n      <td>...</td>\n      <td>...</td>\n      <td>...</td>\n      <td>...</td>\n      <td>...</td>\n      <td>...</td>\n      <td>...</td>\n      <td>...</td>\n      <td>...</td>\n      <td>...</td>\n      <td>...</td>\n    </tr>\n    <tr>\n      <th>15069346</th>\n      <td>GDSC_Panc-Validation</td>\n      <td>63249</td>\n      <td>58272</td>\n      <td>2020-03-16T00:00:00Z</td>\n      <td>2020-03-20T00:00:00Z</td>\n      <td>12810</td>\n      <td>1843</td>\n      <td>1298141</td>\n      <td>Hs-766T</td>\n      <td>SIDM00664</td>\n      <td>325</td>\n      <td>630</td>\n      <td>Glo</td>\n      <td>4</td>\n      <td>1435</td>\n      <td>NC-1</td>\n      <td>4000.0</td>\n      <td>NaN</td>\n      <td>15384</td>\n    </tr>\n    <tr>\n      <th>15069347</th>\n      <td>GDSC_Panc-Validation</td>\n      <td>63249</td>\n      <td>58272</td>\n      <td>2020-03-16T00:00:00Z</td>\n      <td>2020-03-20T00:00:00Z</td>\n      <td>12810</td>\n      <td>1843</td>\n      <td>1298141</td>\n      <td>Hs-766T</td>\n      <td>SIDM00664</td>\n      <td>325</td>\n      <td>630</td>\n      <td>Glo</td>\n      <td>4</td>\n      <td>1436</td>\n      <td>PC1-D1-S</td>\n      <td>1862.0</td>\n      <td>4.00</td>\n      <td>4586</td>\n    </tr>\n    <tr>\n      <th>15069348</th>\n      <td>GDSC_Panc-Validation</td>\n      <td>63249</td>\n      <td>58272</td>\n      <td>2020-03-16T00:00:00Z</td>\n      <td>2020-03-20T00:00:00Z</td>\n      <td>12810</td>\n      <td>1843</td>\n      <td>1298141</td>\n      <td>Hs-766T</td>\n      <td>SIDM00664</td>\n      <td>325</td>\n      <td>630</td>\n      <td>Glo</td>\n      <td>4</td>\n      <td>1436</td>\n      <td>DMSO</td>\n      <td>4000.0</td>\n      <td>NaN</td>\n      <td>4586</td>\n    </tr>\n    <tr>\n      <th>15069349</th>\n      <td>GDSC_Panc-Validation</td>\n      <td>63249</td>\n      <td>58272</td>\n      <td>2020-03-16T00:00:00Z</td>\n      <td>2020-03-20T00:00:00Z</td>\n      <td>12810</td>\n      <td>1843</td>\n      <td>1298141</td>\n      <td>Hs-766T</td>\n      <td>SIDM00664</td>\n      <td>325</td>\n      <td>630</td>\n      <td>Glo</td>\n      <td>4</td>\n      <td>1437</td>\n      <td>NC-1</td>\n      <td>4000.0</td>\n      <td>NaN</td>\n      <td>17391</td>\n    </tr>\n    <tr>\n      <th>15069350</th>\n      <td>GDSC_Panc-Validation</td>\n      <td>63249</td>\n      <td>58272</td>\n      <td>2020-03-16T00:00:00Z</td>\n      <td>2020-03-20T00:00:00Z</td>\n      <td>12810</td>\n      <td>1843</td>\n      <td>1298141</td>\n      <td>Hs-766T</td>\n      <td>SIDM00664</td>\n      <td>325</td>\n      <td>630</td>\n      <td>Glo</td>\n      <td>4</td>\n      <td>1438</td>\n      <td>NC-1</td>\n      <td>4000.0</td>\n      <td>NaN</td>\n      <td>15575</td>\n    </tr>\n  </tbody>\n</table>\n<p>10555745 rows × 19 columns</p>\n</div>"
     },
     "execution_count": 6,
     "metadata": {},
     "output_type": "execute_result"
    }
   ],
   "source": [
    "raw_df_without_empty_wells = remove_failed_drugs(raw_df)\n",
    "raw_df_without_empty_wells"
   ]
  },
  {
   "cell_type": "code",
   "execution_count": 7,
   "id": "47be288f-6611-4e06-ac2d-64623c6283b8",
   "metadata": {
    "ExecuteTime": {
     "end_time": "2025-02-07T09:52:27.967047Z",
     "start_time": "2025-02-07T09:52:16.942449Z"
    }
   },
   "outputs": [
    {
     "name": "stderr",
     "output_type": "stream",
     "text": [
      "/var/folders/3x/f8j9tddj7flfxt9zx1gkws1m0000gn/T/ipykernel_50369/2350327.py:12: UserWarning: This pattern is interpreted as a regular expression, and has match groups. To actually get the groups, use str.extract.\n",
      "  na_libs = df[df['DRUG_ID'].isna() & df['TAG'].str.contains(\"^(L|R|A)\\d+\", regex=True)]\n"
     ]
    },
    {
     "data": {
      "text/plain": "              RESEARCH_PROJECT  BARCODE  SCAN_ID          DATE_CREATED  \\\n0                      GDSC_SA     3230     2945  2015-02-13T00:00:00Z   \n1                      GDSC_SA     3230     2945  2015-02-13T00:00:00Z   \n2                      GDSC_SA     3230     2945  2015-02-13T00:00:00Z   \n3                      GDSC_SA     3230     2945  2015-02-13T00:00:00Z   \n4                      GDSC_SA     3230     2945  2015-02-13T00:00:00Z   \n...                        ...      ...      ...                   ...   \n10555740  GDSC_Panc-Validation    63249    58272  2020-03-16T00:00:00Z   \n10555741  GDSC_Panc-Validation    63249    58272  2020-03-16T00:00:00Z   \n10555742  GDSC_Panc-Validation    63249    58272  2020-03-16T00:00:00Z   \n10555743  GDSC_Panc-Validation    63249    58272  2020-03-16T00:00:00Z   \n10555744  GDSC_Panc-Validation    63249    58272  2020-03-16T00:00:00Z   \n\n                     SCAN_DATE  CELL_ID  MASTER_CELL_ID  COSMIC_ID  \\\n0         2015-02-17T00:00:00Z     4712             198     753608   \n1         2015-02-17T00:00:00Z     4712             198     753608   \n2         2015-02-17T00:00:00Z     4712             198     753608   \n3         2015-02-17T00:00:00Z     4712             198     753608   \n4         2015-02-17T00:00:00Z     4712             198     753608   \n...                        ...      ...             ...        ...   \n10555740  2020-03-20T00:00:00Z    12810            1843    1298141   \n10555741  2020-03-20T00:00:00Z    12810            1843    1298141   \n10555742  2020-03-20T00:00:00Z    12810            1843    1298141   \n10555743  2020-03-20T00:00:00Z    12810            1843    1298141   \n10555744  2020-03-20T00:00:00Z    12810            1843    1298141   \n\n         CELL_LINE_NAME SANGER_MODEL_ID  SEEDING_DENSITY  DRUGSET_ID ASSAY  \\\n0                 PC-14       SIDM00237              250         159   Glo   \n1                 PC-14       SIDM00237              250         159   Glo   \n2                 PC-14       SIDM00237              250         159   Glo   \n3                 PC-14       SIDM00237              250         159   Glo   \n4                 PC-14       SIDM00237              250         159   Glo   \n...                 ...             ...              ...         ...   ...   \n10555740        Hs-766T       SIDM00664              325         630   Glo   \n10555741        Hs-766T       SIDM00664              325         630   Glo   \n10555742        Hs-766T       SIDM00664              325         630   Glo   \n10555743        Hs-766T       SIDM00664              325         630   Glo   \n10555744        Hs-766T       SIDM00664              325         630   Glo   \n\n          DURATION  POSITION       TAG  DRUG_ID   CONC  INTENSITY  \n0                4        97         B      NaN    NaN          0  \n1                4        99      NC-1   4000.0    NaN      38027  \n2                4       100   R1-D1-S   1003.0   0.10      23093  \n3                4       101   R2-D1-S   1060.0   0.25      38426  \n4                4       102   L3-D1-S   1593.0  10.00      19310  \n...            ...       ...       ...      ...    ...        ...  \n10555740         4      1435      NC-1   4000.0    NaN      15384  \n10555741         4      1436  PC1-D1-S   1862.0   4.00       4586  \n10555742         4      1436      DMSO   4000.0    NaN       4586  \n10555743         4      1437      NC-1   4000.0    NaN      17391  \n10555744         4      1438      NC-1   4000.0    NaN      15575  \n\n[10555745 rows x 19 columns]",
      "text/html": "<div>\n<style scoped>\n    .dataframe tbody tr th:only-of-type {\n        vertical-align: middle;\n    }\n\n    .dataframe tbody tr th {\n        vertical-align: top;\n    }\n\n    .dataframe thead th {\n        text-align: right;\n    }\n</style>\n<table border=\"1\" class=\"dataframe\">\n  <thead>\n    <tr style=\"text-align: right;\">\n      <th></th>\n      <th>RESEARCH_PROJECT</th>\n      <th>BARCODE</th>\n      <th>SCAN_ID</th>\n      <th>DATE_CREATED</th>\n      <th>SCAN_DATE</th>\n      <th>CELL_ID</th>\n      <th>MASTER_CELL_ID</th>\n      <th>COSMIC_ID</th>\n      <th>CELL_LINE_NAME</th>\n      <th>SANGER_MODEL_ID</th>\n      <th>SEEDING_DENSITY</th>\n      <th>DRUGSET_ID</th>\n      <th>ASSAY</th>\n      <th>DURATION</th>\n      <th>POSITION</th>\n      <th>TAG</th>\n      <th>DRUG_ID</th>\n      <th>CONC</th>\n      <th>INTENSITY</th>\n    </tr>\n  </thead>\n  <tbody>\n    <tr>\n      <th>0</th>\n      <td>GDSC_SA</td>\n      <td>3230</td>\n      <td>2945</td>\n      <td>2015-02-13T00:00:00Z</td>\n      <td>2015-02-17T00:00:00Z</td>\n      <td>4712</td>\n      <td>198</td>\n      <td>753608</td>\n      <td>PC-14</td>\n      <td>SIDM00237</td>\n      <td>250</td>\n      <td>159</td>\n      <td>Glo</td>\n      <td>4</td>\n      <td>97</td>\n      <td>B</td>\n      <td>NaN</td>\n      <td>NaN</td>\n      <td>0</td>\n    </tr>\n    <tr>\n      <th>1</th>\n      <td>GDSC_SA</td>\n      <td>3230</td>\n      <td>2945</td>\n      <td>2015-02-13T00:00:00Z</td>\n      <td>2015-02-17T00:00:00Z</td>\n      <td>4712</td>\n      <td>198</td>\n      <td>753608</td>\n      <td>PC-14</td>\n      <td>SIDM00237</td>\n      <td>250</td>\n      <td>159</td>\n      <td>Glo</td>\n      <td>4</td>\n      <td>99</td>\n      <td>NC-1</td>\n      <td>4000.0</td>\n      <td>NaN</td>\n      <td>38027</td>\n    </tr>\n    <tr>\n      <th>2</th>\n      <td>GDSC_SA</td>\n      <td>3230</td>\n      <td>2945</td>\n      <td>2015-02-13T00:00:00Z</td>\n      <td>2015-02-17T00:00:00Z</td>\n      <td>4712</td>\n      <td>198</td>\n      <td>753608</td>\n      <td>PC-14</td>\n      <td>SIDM00237</td>\n      <td>250</td>\n      <td>159</td>\n      <td>Glo</td>\n      <td>4</td>\n      <td>100</td>\n      <td>R1-D1-S</td>\n      <td>1003.0</td>\n      <td>0.10</td>\n      <td>23093</td>\n    </tr>\n    <tr>\n      <th>3</th>\n      <td>GDSC_SA</td>\n      <td>3230</td>\n      <td>2945</td>\n      <td>2015-02-13T00:00:00Z</td>\n      <td>2015-02-17T00:00:00Z</td>\n      <td>4712</td>\n      <td>198</td>\n      <td>753608</td>\n      <td>PC-14</td>\n      <td>SIDM00237</td>\n      <td>250</td>\n      <td>159</td>\n      <td>Glo</td>\n      <td>4</td>\n      <td>101</td>\n      <td>R2-D1-S</td>\n      <td>1060.0</td>\n      <td>0.25</td>\n      <td>38426</td>\n    </tr>\n    <tr>\n      <th>4</th>\n      <td>GDSC_SA</td>\n      <td>3230</td>\n      <td>2945</td>\n      <td>2015-02-13T00:00:00Z</td>\n      <td>2015-02-17T00:00:00Z</td>\n      <td>4712</td>\n      <td>198</td>\n      <td>753608</td>\n      <td>PC-14</td>\n      <td>SIDM00237</td>\n      <td>250</td>\n      <td>159</td>\n      <td>Glo</td>\n      <td>4</td>\n      <td>102</td>\n      <td>L3-D1-S</td>\n      <td>1593.0</td>\n      <td>10.00</td>\n      <td>19310</td>\n    </tr>\n    <tr>\n      <th>...</th>\n      <td>...</td>\n      <td>...</td>\n      <td>...</td>\n      <td>...</td>\n      <td>...</td>\n      <td>...</td>\n      <td>...</td>\n      <td>...</td>\n      <td>...</td>\n      <td>...</td>\n      <td>...</td>\n      <td>...</td>\n      <td>...</td>\n      <td>...</td>\n      <td>...</td>\n      <td>...</td>\n      <td>...</td>\n      <td>...</td>\n      <td>...</td>\n    </tr>\n    <tr>\n      <th>10555740</th>\n      <td>GDSC_Panc-Validation</td>\n      <td>63249</td>\n      <td>58272</td>\n      <td>2020-03-16T00:00:00Z</td>\n      <td>2020-03-20T00:00:00Z</td>\n      <td>12810</td>\n      <td>1843</td>\n      <td>1298141</td>\n      <td>Hs-766T</td>\n      <td>SIDM00664</td>\n      <td>325</td>\n      <td>630</td>\n      <td>Glo</td>\n      <td>4</td>\n      <td>1435</td>\n      <td>NC-1</td>\n      <td>4000.0</td>\n      <td>NaN</td>\n      <td>15384</td>\n    </tr>\n    <tr>\n      <th>10555741</th>\n      <td>GDSC_Panc-Validation</td>\n      <td>63249</td>\n      <td>58272</td>\n      <td>2020-03-16T00:00:00Z</td>\n      <td>2020-03-20T00:00:00Z</td>\n      <td>12810</td>\n      <td>1843</td>\n      <td>1298141</td>\n      <td>Hs-766T</td>\n      <td>SIDM00664</td>\n      <td>325</td>\n      <td>630</td>\n      <td>Glo</td>\n      <td>4</td>\n      <td>1436</td>\n      <td>PC1-D1-S</td>\n      <td>1862.0</td>\n      <td>4.00</td>\n      <td>4586</td>\n    </tr>\n    <tr>\n      <th>10555742</th>\n      <td>GDSC_Panc-Validation</td>\n      <td>63249</td>\n      <td>58272</td>\n      <td>2020-03-16T00:00:00Z</td>\n      <td>2020-03-20T00:00:00Z</td>\n      <td>12810</td>\n      <td>1843</td>\n      <td>1298141</td>\n      <td>Hs-766T</td>\n      <td>SIDM00664</td>\n      <td>325</td>\n      <td>630</td>\n      <td>Glo</td>\n      <td>4</td>\n      <td>1436</td>\n      <td>DMSO</td>\n      <td>4000.0</td>\n      <td>NaN</td>\n      <td>4586</td>\n    </tr>\n    <tr>\n      <th>10555743</th>\n      <td>GDSC_Panc-Validation</td>\n      <td>63249</td>\n      <td>58272</td>\n      <td>2020-03-16T00:00:00Z</td>\n      <td>2020-03-20T00:00:00Z</td>\n      <td>12810</td>\n      <td>1843</td>\n      <td>1298141</td>\n      <td>Hs-766T</td>\n      <td>SIDM00664</td>\n      <td>325</td>\n      <td>630</td>\n      <td>Glo</td>\n      <td>4</td>\n      <td>1437</td>\n      <td>NC-1</td>\n      <td>4000.0</td>\n      <td>NaN</td>\n      <td>17391</td>\n    </tr>\n    <tr>\n      <th>10555744</th>\n      <td>GDSC_Panc-Validation</td>\n      <td>63249</td>\n      <td>58272</td>\n      <td>2020-03-16T00:00:00Z</td>\n      <td>2020-03-20T00:00:00Z</td>\n      <td>12810</td>\n      <td>1843</td>\n      <td>1298141</td>\n      <td>Hs-766T</td>\n      <td>SIDM00664</td>\n      <td>325</td>\n      <td>630</td>\n      <td>Glo</td>\n      <td>4</td>\n      <td>1438</td>\n      <td>NC-1</td>\n      <td>4000.0</td>\n      <td>NaN</td>\n      <td>15575</td>\n    </tr>\n  </tbody>\n</table>\n<p>10555745 rows × 19 columns</p>\n</div>"
     },
     "execution_count": 7,
     "metadata": {},
     "output_type": "execute_result"
    }
   ],
   "source": [
    "raw_df_with_drugs_only = remove_missing_drugs(raw_df_without_empty_wells)\n",
    "raw_df_with_drugs_only"
   ]
  },
  {
   "cell_type": "code",
   "execution_count": 8,
   "id": "c1a1ffb8-0db3-43ee-9aa6-dc93b85dec2d",
   "metadata": {
    "ExecuteTime": {
     "end_time": "2025-02-07T09:53:30.861995Z",
     "start_time": "2025-02-07T09:52:38.850030Z"
    }
   },
   "outputs": [
    {
     "name": "stderr",
     "output_type": "stream",
     "text": [
      "/var/folders/3x/f8j9tddj7flfxt9zx1gkws1m0000gn/T/ipykernel_50369/2350327.py:42: UserWarning: This pattern is interpreted as a regular expression, and has match groups. To actually get the groups, use str.extract.\n",
      "  normalized_data = df[df['TAG'].str.contains(r\"(A|L|R)\\d+(-D\\d+)?-(S|C)\")].copy()\n"
     ]
    },
    {
     "data": {
      "text/plain": "             RESEARCH_PROJECT  BARCODE  SCAN_ID          DATE_CREATED  \\\n0                     GDSC_SA     3230     2945  2015-02-13T00:00:00Z   \n1                     GDSC_SA     3230     2945  2015-02-13T00:00:00Z   \n2                     GDSC_SA     3230     2945  2015-02-13T00:00:00Z   \n3                     GDSC_SA     3230     2945  2015-02-13T00:00:00Z   \n4                     GDSC_SA     3230     2945  2015-02-13T00:00:00Z   \n...                       ...      ...      ...                   ...   \n3335964  GDSC_Panc-Validation    63249    58272  2020-03-16T00:00:00Z   \n3335965  GDSC_Panc-Validation    63249    58272  2020-03-16T00:00:00Z   \n3335966  GDSC_Panc-Validation    63249    58272  2020-03-16T00:00:00Z   \n3335967  GDSC_Panc-Validation    63249    58272  2020-03-16T00:00:00Z   \n3335968  GDSC_Panc-Validation    63249    58272  2020-03-16T00:00:00Z   \n\n                    SCAN_DATE  CELL_ID  MASTER_CELL_ID  COSMIC_ID  \\\n0        2015-02-17T00:00:00Z     4712             198     753608   \n1        2015-02-17T00:00:00Z     4712             198     753608   \n2        2015-02-17T00:00:00Z     4712             198     753608   \n3        2015-02-17T00:00:00Z     4712             198     753608   \n4        2015-02-17T00:00:00Z     4712             198     753608   \n...                       ...      ...             ...        ...   \n3335964  2020-03-20T00:00:00Z    12810            1843    1298141   \n3335965  2020-03-20T00:00:00Z    12810            1843    1298141   \n3335966  2020-03-20T00:00:00Z    12810            1843    1298141   \n3335967  2020-03-20T00:00:00Z    12810            1843    1298141   \n3335968  2020-03-20T00:00:00Z    12810            1843    1298141   \n\n        CELL_LINE_NAME SANGER_MODEL_ID  ...  DRUG_ID_lib     CONC INTENSITY  \\\n0                PC-14       SIDM00237  ...       1003.0   0.1000     23093   \n1                PC-14       SIDM00237  ...       1060.0   0.2500     38426   \n2                PC-14       SIDM00237  ...       1593.0  10.0000     19310   \n3                PC-14       SIDM00237  ...       1613.0   5.0000     18116   \n4                PC-14       SIDM00237  ...       1614.0  10.0000     27275   \n...                ...             ...  ...          ...      ...       ...   \n3335964        Hs-766T       SIDM00664  ...       1594.0   0.0625     12740   \n3335965        Hs-766T       SIDM00664  ...       1594.0   0.2500     12900   \n3335966        Hs-766T       SIDM00664  ...       1594.0   1.0000     10511   \n3335967        Hs-766T       SIDM00664  ...       1594.0   2.0000      8122   \n3335968        Hs-766T       SIDM00664  ...       1594.0   4.0000      7548   \n\n         lib_drug  dose treatment            NC          PC  \\\n0              R1    D1         S  44497.818182  958.321429   \n1              R2    D1         S  44497.818182  958.321429   \n2              L3    D1         S  44497.818182  958.321429   \n3              L4    D1         S  44497.818182  958.321429   \n4              L5    D1         S  44497.818182  958.321429   \n...           ...   ...       ...           ...         ...   \n3335964        L6    D5         S  13059.286458  322.750000   \n3335965        L6    D4         S  13059.286458  322.750000   \n3335966        L6    D3         S  13059.286458  322.750000   \n3335967        L6    D2         S  13059.286458  322.750000   \n3335968        L6    D1         S  13059.286458  322.750000   \n\n         normalized_intensity norm_neg_pos  \n0                    0.508382       NC-1+B  \n1                    0.860545       NC-1+B  \n2                    0.421495       NC-1+B  \n3                    0.394072       NC-1+B  \n4                    0.604432       NC-1+B  \n...                       ...          ...  \n3335964              0.974931       NC-1+B  \n3335965              0.987494       NC-1+B  \n3335966              0.799923       NC-1+B  \n3335967              0.612353       NC-1+B  \n3335968              0.567285       NC-1+B  \n\n[3335969 rows x 26 columns]",
      "text/html": "<div>\n<style scoped>\n    .dataframe tbody tr th:only-of-type {\n        vertical-align: middle;\n    }\n\n    .dataframe tbody tr th {\n        vertical-align: top;\n    }\n\n    .dataframe thead th {\n        text-align: right;\n    }\n</style>\n<table border=\"1\" class=\"dataframe\">\n  <thead>\n    <tr style=\"text-align: right;\">\n      <th></th>\n      <th>RESEARCH_PROJECT</th>\n      <th>BARCODE</th>\n      <th>SCAN_ID</th>\n      <th>DATE_CREATED</th>\n      <th>SCAN_DATE</th>\n      <th>CELL_ID</th>\n      <th>MASTER_CELL_ID</th>\n      <th>COSMIC_ID</th>\n      <th>CELL_LINE_NAME</th>\n      <th>SANGER_MODEL_ID</th>\n      <th>...</th>\n      <th>DRUG_ID_lib</th>\n      <th>CONC</th>\n      <th>INTENSITY</th>\n      <th>lib_drug</th>\n      <th>dose</th>\n      <th>treatment</th>\n      <th>NC</th>\n      <th>PC</th>\n      <th>normalized_intensity</th>\n      <th>norm_neg_pos</th>\n    </tr>\n  </thead>\n  <tbody>\n    <tr>\n      <th>0</th>\n      <td>GDSC_SA</td>\n      <td>3230</td>\n      <td>2945</td>\n      <td>2015-02-13T00:00:00Z</td>\n      <td>2015-02-17T00:00:00Z</td>\n      <td>4712</td>\n      <td>198</td>\n      <td>753608</td>\n      <td>PC-14</td>\n      <td>SIDM00237</td>\n      <td>...</td>\n      <td>1003.0</td>\n      <td>0.1000</td>\n      <td>23093</td>\n      <td>R1</td>\n      <td>D1</td>\n      <td>S</td>\n      <td>44497.818182</td>\n      <td>958.321429</td>\n      <td>0.508382</td>\n      <td>NC-1+B</td>\n    </tr>\n    <tr>\n      <th>1</th>\n      <td>GDSC_SA</td>\n      <td>3230</td>\n      <td>2945</td>\n      <td>2015-02-13T00:00:00Z</td>\n      <td>2015-02-17T00:00:00Z</td>\n      <td>4712</td>\n      <td>198</td>\n      <td>753608</td>\n      <td>PC-14</td>\n      <td>SIDM00237</td>\n      <td>...</td>\n      <td>1060.0</td>\n      <td>0.2500</td>\n      <td>38426</td>\n      <td>R2</td>\n      <td>D1</td>\n      <td>S</td>\n      <td>44497.818182</td>\n      <td>958.321429</td>\n      <td>0.860545</td>\n      <td>NC-1+B</td>\n    </tr>\n    <tr>\n      <th>2</th>\n      <td>GDSC_SA</td>\n      <td>3230</td>\n      <td>2945</td>\n      <td>2015-02-13T00:00:00Z</td>\n      <td>2015-02-17T00:00:00Z</td>\n      <td>4712</td>\n      <td>198</td>\n      <td>753608</td>\n      <td>PC-14</td>\n      <td>SIDM00237</td>\n      <td>...</td>\n      <td>1593.0</td>\n      <td>10.0000</td>\n      <td>19310</td>\n      <td>L3</td>\n      <td>D1</td>\n      <td>S</td>\n      <td>44497.818182</td>\n      <td>958.321429</td>\n      <td>0.421495</td>\n      <td>NC-1+B</td>\n    </tr>\n    <tr>\n      <th>3</th>\n      <td>GDSC_SA</td>\n      <td>3230</td>\n      <td>2945</td>\n      <td>2015-02-13T00:00:00Z</td>\n      <td>2015-02-17T00:00:00Z</td>\n      <td>4712</td>\n      <td>198</td>\n      <td>753608</td>\n      <td>PC-14</td>\n      <td>SIDM00237</td>\n      <td>...</td>\n      <td>1613.0</td>\n      <td>5.0000</td>\n      <td>18116</td>\n      <td>L4</td>\n      <td>D1</td>\n      <td>S</td>\n      <td>44497.818182</td>\n      <td>958.321429</td>\n      <td>0.394072</td>\n      <td>NC-1+B</td>\n    </tr>\n    <tr>\n      <th>4</th>\n      <td>GDSC_SA</td>\n      <td>3230</td>\n      <td>2945</td>\n      <td>2015-02-13T00:00:00Z</td>\n      <td>2015-02-17T00:00:00Z</td>\n      <td>4712</td>\n      <td>198</td>\n      <td>753608</td>\n      <td>PC-14</td>\n      <td>SIDM00237</td>\n      <td>...</td>\n      <td>1614.0</td>\n      <td>10.0000</td>\n      <td>27275</td>\n      <td>L5</td>\n      <td>D1</td>\n      <td>S</td>\n      <td>44497.818182</td>\n      <td>958.321429</td>\n      <td>0.604432</td>\n      <td>NC-1+B</td>\n    </tr>\n    <tr>\n      <th>...</th>\n      <td>...</td>\n      <td>...</td>\n      <td>...</td>\n      <td>...</td>\n      <td>...</td>\n      <td>...</td>\n      <td>...</td>\n      <td>...</td>\n      <td>...</td>\n      <td>...</td>\n      <td>...</td>\n      <td>...</td>\n      <td>...</td>\n      <td>...</td>\n      <td>...</td>\n      <td>...</td>\n      <td>...</td>\n      <td>...</td>\n      <td>...</td>\n      <td>...</td>\n      <td>...</td>\n    </tr>\n    <tr>\n      <th>3335964</th>\n      <td>GDSC_Panc-Validation</td>\n      <td>63249</td>\n      <td>58272</td>\n      <td>2020-03-16T00:00:00Z</td>\n      <td>2020-03-20T00:00:00Z</td>\n      <td>12810</td>\n      <td>1843</td>\n      <td>1298141</td>\n      <td>Hs-766T</td>\n      <td>SIDM00664</td>\n      <td>...</td>\n      <td>1594.0</td>\n      <td>0.0625</td>\n      <td>12740</td>\n      <td>L6</td>\n      <td>D5</td>\n      <td>S</td>\n      <td>13059.286458</td>\n      <td>322.750000</td>\n      <td>0.974931</td>\n      <td>NC-1+B</td>\n    </tr>\n    <tr>\n      <th>3335965</th>\n      <td>GDSC_Panc-Validation</td>\n      <td>63249</td>\n      <td>58272</td>\n      <td>2020-03-16T00:00:00Z</td>\n      <td>2020-03-20T00:00:00Z</td>\n      <td>12810</td>\n      <td>1843</td>\n      <td>1298141</td>\n      <td>Hs-766T</td>\n      <td>SIDM00664</td>\n      <td>...</td>\n      <td>1594.0</td>\n      <td>0.2500</td>\n      <td>12900</td>\n      <td>L6</td>\n      <td>D4</td>\n      <td>S</td>\n      <td>13059.286458</td>\n      <td>322.750000</td>\n      <td>0.987494</td>\n      <td>NC-1+B</td>\n    </tr>\n    <tr>\n      <th>3335966</th>\n      <td>GDSC_Panc-Validation</td>\n      <td>63249</td>\n      <td>58272</td>\n      <td>2020-03-16T00:00:00Z</td>\n      <td>2020-03-20T00:00:00Z</td>\n      <td>12810</td>\n      <td>1843</td>\n      <td>1298141</td>\n      <td>Hs-766T</td>\n      <td>SIDM00664</td>\n      <td>...</td>\n      <td>1594.0</td>\n      <td>1.0000</td>\n      <td>10511</td>\n      <td>L6</td>\n      <td>D3</td>\n      <td>S</td>\n      <td>13059.286458</td>\n      <td>322.750000</td>\n      <td>0.799923</td>\n      <td>NC-1+B</td>\n    </tr>\n    <tr>\n      <th>3335967</th>\n      <td>GDSC_Panc-Validation</td>\n      <td>63249</td>\n      <td>58272</td>\n      <td>2020-03-16T00:00:00Z</td>\n      <td>2020-03-20T00:00:00Z</td>\n      <td>12810</td>\n      <td>1843</td>\n      <td>1298141</td>\n      <td>Hs-766T</td>\n      <td>SIDM00664</td>\n      <td>...</td>\n      <td>1594.0</td>\n      <td>2.0000</td>\n      <td>8122</td>\n      <td>L6</td>\n      <td>D2</td>\n      <td>S</td>\n      <td>13059.286458</td>\n      <td>322.750000</td>\n      <td>0.612353</td>\n      <td>NC-1+B</td>\n    </tr>\n    <tr>\n      <th>3335968</th>\n      <td>GDSC_Panc-Validation</td>\n      <td>63249</td>\n      <td>58272</td>\n      <td>2020-03-16T00:00:00Z</td>\n      <td>2020-03-20T00:00:00Z</td>\n      <td>12810</td>\n      <td>1843</td>\n      <td>1298141</td>\n      <td>Hs-766T</td>\n      <td>SIDM00664</td>\n      <td>...</td>\n      <td>1594.0</td>\n      <td>4.0000</td>\n      <td>7548</td>\n      <td>L6</td>\n      <td>D1</td>\n      <td>S</td>\n      <td>13059.286458</td>\n      <td>322.750000</td>\n      <td>0.567285</td>\n      <td>NC-1+B</td>\n    </tr>\n  </tbody>\n</table>\n<p>3335969 rows × 26 columns</p>\n</div>"
     },
     "execution_count": 8,
     "metadata": {},
     "output_type": "execute_result"
    }
   ],
   "source": [
    "normalized_df = normalize_data(raw_df_with_drugs_only)\n",
    "normalized_df"
   ]
  },
  {
   "cell_type": "code",
   "execution_count": 9,
   "id": "2cfa9df9-874d-4e99-b395-8484aba9d0d1",
   "metadata": {
    "ExecuteTime": {
     "end_time": "2025-02-07T09:53:30.916024Z",
     "start_time": "2025-02-07T09:53:30.853463Z"
    }
   },
   "outputs": [],
   "source": [
    "normalized_df[\"DRUG_ID_lib\"] = normalized_df[\"DRUG_ID_lib\"].astype(int)"
   ]
  },
  {
   "cell_type": "code",
   "execution_count": 10,
   "id": "f17beffb-b752-412d-b45f-269c0faf6a49",
   "metadata": {
    "ExecuteTime": {
     "end_time": "2025-02-07T09:53:44.393735Z",
     "start_time": "2025-02-07T09:53:31.052971Z"
    }
   },
   "outputs": [
    {
     "data": {
      "text/plain": "        RESEARCH_PROJECT  BARCODE  SCAN_ID          DATE_CREATED  \\\n1125291       GDSC_001-B    15150    14769  2016-05-08T23:00:00Z   \n1125290       GDSC_001-B    15150    14769  2016-05-08T23:00:00Z   \n1125289       GDSC_001-B    15150    14769  2016-05-08T23:00:00Z   \n1125288       GDSC_001-B    15150    14769  2016-05-08T23:00:00Z   \n1125287       GDSC_001-B    15150    14769  2016-05-08T23:00:00Z   \n...                  ...      ...      ...                   ...   \n2927353        GDSC_Plus    52679    49717  2019-04-28T23:00:00Z   \n2927354        GDSC_Plus    52679    49717  2019-04-28T23:00:00Z   \n2927355        GDSC_Plus    52679    49717  2019-04-28T23:00:00Z   \n2927356        GDSC_Plus    52679    49717  2019-04-28T23:00:00Z   \n2927357        GDSC_Plus    52679    49717  2019-04-28T23:00:00Z   \n\n                    SCAN_DATE  CELL_ID  MASTER_CELL_ID  COSMIC_ID  \\\n1125291  2016-05-12T23:00:00Z     3399            1027     924100   \n1125290  2016-05-12T23:00:00Z     3399            1027     924100   \n1125289  2016-05-12T23:00:00Z     3399            1027     924100   \n1125288  2016-05-12T23:00:00Z     3399            1027     924100   \n1125287  2016-05-12T23:00:00Z     3399            1027     924100   \n...                       ...      ...             ...        ...   \n2927353  2019-05-02T23:00:00Z     2498            1489     908450   \n2927354  2019-05-02T23:00:00Z     2498            1489     908450   \n2927355  2019-05-02T23:00:00Z     2498            1489     908450   \n2927356  2019-05-02T23:00:00Z     2498            1489     908450   \n2927357  2019-05-02T23:00:00Z     2498            1489     908450   \n\n        CELL_LINE_NAME SANGER_MODEL_ID  ...  lib_drug  dose treatment  \\\n1125291          22RV1       SIDM00499  ...        L2    D7         S   \n1125290          22RV1       SIDM00499  ...        L2    D6         S   \n1125289          22RV1       SIDM00499  ...        L2    D5         S   \n1125288          22RV1       SIDM00499  ...        L2    D4         S   \n1125287          22RV1       SIDM00499  ...        L2    D3         S   \n...                ...             ...  ...       ...   ...       ...   \n2927353          no-11       SIDM00573  ...      L125    D5         S   \n2927354          no-11       SIDM00573  ...      L125    D4         S   \n2927355          no-11       SIDM00573  ...      L125    D3         S   \n2927356          no-11       SIDM00573  ...      L125    D2         S   \n2927357          no-11       SIDM00573  ...      L125    D1         S   \n\n                   NC          PC normalized_intensity  norm_neg_pos  \\\n1125291  37456.865079  361.428571             1.013024        NC-1+B   \n1125290  37456.865079  361.428571             0.997551        NC-1+B   \n1125289  37456.865079  361.428571             0.948596        NC-1+B   \n1125288  37456.865079  361.428571             0.755364        NC-1+B   \n1125287  37456.865079  361.428571             0.281317        NC-1+B   \n...               ...         ...                  ...           ...   \n2927353  26499.047619  769.571429             1.147455        NC-1+B   \n2927354  26499.047619  769.571429             1.147455        NC-1+B   \n2927355  26499.047619  769.571429             1.076875        NC-1+B   \n2927356  26499.047619  769.571429             1.128878        NC-1+B   \n2927357  26499.047619  769.571429             1.162341        NC-1+B   \n\n           DRUG_NAME  SYNONYMS SCREENING_SITE  \n1125291  Vinblastine    Velban         SANGER  \n1125290  Vinblastine    Velban         SANGER  \n1125289  Vinblastine    Velban         SANGER  \n1125288  Vinblastine    Velban         SANGER  \n1125287  Vinblastine    Velban         SANGER  \n...              ...       ...            ...  \n2927353      SGC0946       NaN         SANGER  \n2927354      SGC0946       NaN         SANGER  \n2927355      SGC0946       NaN         SANGER  \n2927356      SGC0946       NaN         SANGER  \n2927357      SGC0946       NaN         SANGER  \n\n[3166905 rows x 29 columns]",
      "text/html": "<div>\n<style scoped>\n    .dataframe tbody tr th:only-of-type {\n        vertical-align: middle;\n    }\n\n    .dataframe tbody tr th {\n        vertical-align: top;\n    }\n\n    .dataframe thead th {\n        text-align: right;\n    }\n</style>\n<table border=\"1\" class=\"dataframe\">\n  <thead>\n    <tr style=\"text-align: right;\">\n      <th></th>\n      <th>RESEARCH_PROJECT</th>\n      <th>BARCODE</th>\n      <th>SCAN_ID</th>\n      <th>DATE_CREATED</th>\n      <th>SCAN_DATE</th>\n      <th>CELL_ID</th>\n      <th>MASTER_CELL_ID</th>\n      <th>COSMIC_ID</th>\n      <th>CELL_LINE_NAME</th>\n      <th>SANGER_MODEL_ID</th>\n      <th>...</th>\n      <th>lib_drug</th>\n      <th>dose</th>\n      <th>treatment</th>\n      <th>NC</th>\n      <th>PC</th>\n      <th>normalized_intensity</th>\n      <th>norm_neg_pos</th>\n      <th>DRUG_NAME</th>\n      <th>SYNONYMS</th>\n      <th>SCREENING_SITE</th>\n    </tr>\n  </thead>\n  <tbody>\n    <tr>\n      <th>1125291</th>\n      <td>GDSC_001-B</td>\n      <td>15150</td>\n      <td>14769</td>\n      <td>2016-05-08T23:00:00Z</td>\n      <td>2016-05-12T23:00:00Z</td>\n      <td>3399</td>\n      <td>1027</td>\n      <td>924100</td>\n      <td>22RV1</td>\n      <td>SIDM00499</td>\n      <td>...</td>\n      <td>L2</td>\n      <td>D7</td>\n      <td>S</td>\n      <td>37456.865079</td>\n      <td>361.428571</td>\n      <td>1.013024</td>\n      <td>NC-1+B</td>\n      <td>Vinblastine</td>\n      <td>Velban</td>\n      <td>SANGER</td>\n    </tr>\n    <tr>\n      <th>1125290</th>\n      <td>GDSC_001-B</td>\n      <td>15150</td>\n      <td>14769</td>\n      <td>2016-05-08T23:00:00Z</td>\n      <td>2016-05-12T23:00:00Z</td>\n      <td>3399</td>\n      <td>1027</td>\n      <td>924100</td>\n      <td>22RV1</td>\n      <td>SIDM00499</td>\n      <td>...</td>\n      <td>L2</td>\n      <td>D6</td>\n      <td>S</td>\n      <td>37456.865079</td>\n      <td>361.428571</td>\n      <td>0.997551</td>\n      <td>NC-1+B</td>\n      <td>Vinblastine</td>\n      <td>Velban</td>\n      <td>SANGER</td>\n    </tr>\n    <tr>\n      <th>1125289</th>\n      <td>GDSC_001-B</td>\n      <td>15150</td>\n      <td>14769</td>\n      <td>2016-05-08T23:00:00Z</td>\n      <td>2016-05-12T23:00:00Z</td>\n      <td>3399</td>\n      <td>1027</td>\n      <td>924100</td>\n      <td>22RV1</td>\n      <td>SIDM00499</td>\n      <td>...</td>\n      <td>L2</td>\n      <td>D5</td>\n      <td>S</td>\n      <td>37456.865079</td>\n      <td>361.428571</td>\n      <td>0.948596</td>\n      <td>NC-1+B</td>\n      <td>Vinblastine</td>\n      <td>Velban</td>\n      <td>SANGER</td>\n    </tr>\n    <tr>\n      <th>1125288</th>\n      <td>GDSC_001-B</td>\n      <td>15150</td>\n      <td>14769</td>\n      <td>2016-05-08T23:00:00Z</td>\n      <td>2016-05-12T23:00:00Z</td>\n      <td>3399</td>\n      <td>1027</td>\n      <td>924100</td>\n      <td>22RV1</td>\n      <td>SIDM00499</td>\n      <td>...</td>\n      <td>L2</td>\n      <td>D4</td>\n      <td>S</td>\n      <td>37456.865079</td>\n      <td>361.428571</td>\n      <td>0.755364</td>\n      <td>NC-1+B</td>\n      <td>Vinblastine</td>\n      <td>Velban</td>\n      <td>SANGER</td>\n    </tr>\n    <tr>\n      <th>1125287</th>\n      <td>GDSC_001-B</td>\n      <td>15150</td>\n      <td>14769</td>\n      <td>2016-05-08T23:00:00Z</td>\n      <td>2016-05-12T23:00:00Z</td>\n      <td>3399</td>\n      <td>1027</td>\n      <td>924100</td>\n      <td>22RV1</td>\n      <td>SIDM00499</td>\n      <td>...</td>\n      <td>L2</td>\n      <td>D3</td>\n      <td>S</td>\n      <td>37456.865079</td>\n      <td>361.428571</td>\n      <td>0.281317</td>\n      <td>NC-1+B</td>\n      <td>Vinblastine</td>\n      <td>Velban</td>\n      <td>SANGER</td>\n    </tr>\n    <tr>\n      <th>...</th>\n      <td>...</td>\n      <td>...</td>\n      <td>...</td>\n      <td>...</td>\n      <td>...</td>\n      <td>...</td>\n      <td>...</td>\n      <td>...</td>\n      <td>...</td>\n      <td>...</td>\n      <td>...</td>\n      <td>...</td>\n      <td>...</td>\n      <td>...</td>\n      <td>...</td>\n      <td>...</td>\n      <td>...</td>\n      <td>...</td>\n      <td>...</td>\n      <td>...</td>\n      <td>...</td>\n    </tr>\n    <tr>\n      <th>2927353</th>\n      <td>GDSC_Plus</td>\n      <td>52679</td>\n      <td>49717</td>\n      <td>2019-04-28T23:00:00Z</td>\n      <td>2019-05-02T23:00:00Z</td>\n      <td>2498</td>\n      <td>1489</td>\n      <td>908450</td>\n      <td>no-11</td>\n      <td>SIDM00573</td>\n      <td>...</td>\n      <td>L125</td>\n      <td>D5</td>\n      <td>S</td>\n      <td>26499.047619</td>\n      <td>769.571429</td>\n      <td>1.147455</td>\n      <td>NC-1+B</td>\n      <td>SGC0946</td>\n      <td>NaN</td>\n      <td>SANGER</td>\n    </tr>\n    <tr>\n      <th>2927354</th>\n      <td>GDSC_Plus</td>\n      <td>52679</td>\n      <td>49717</td>\n      <td>2019-04-28T23:00:00Z</td>\n      <td>2019-05-02T23:00:00Z</td>\n      <td>2498</td>\n      <td>1489</td>\n      <td>908450</td>\n      <td>no-11</td>\n      <td>SIDM00573</td>\n      <td>...</td>\n      <td>L125</td>\n      <td>D4</td>\n      <td>S</td>\n      <td>26499.047619</td>\n      <td>769.571429</td>\n      <td>1.147455</td>\n      <td>NC-1+B</td>\n      <td>SGC0946</td>\n      <td>NaN</td>\n      <td>SANGER</td>\n    </tr>\n    <tr>\n      <th>2927355</th>\n      <td>GDSC_Plus</td>\n      <td>52679</td>\n      <td>49717</td>\n      <td>2019-04-28T23:00:00Z</td>\n      <td>2019-05-02T23:00:00Z</td>\n      <td>2498</td>\n      <td>1489</td>\n      <td>908450</td>\n      <td>no-11</td>\n      <td>SIDM00573</td>\n      <td>...</td>\n      <td>L125</td>\n      <td>D3</td>\n      <td>S</td>\n      <td>26499.047619</td>\n      <td>769.571429</td>\n      <td>1.076875</td>\n      <td>NC-1+B</td>\n      <td>SGC0946</td>\n      <td>NaN</td>\n      <td>SANGER</td>\n    </tr>\n    <tr>\n      <th>2927356</th>\n      <td>GDSC_Plus</td>\n      <td>52679</td>\n      <td>49717</td>\n      <td>2019-04-28T23:00:00Z</td>\n      <td>2019-05-02T23:00:00Z</td>\n      <td>2498</td>\n      <td>1489</td>\n      <td>908450</td>\n      <td>no-11</td>\n      <td>SIDM00573</td>\n      <td>...</td>\n      <td>L125</td>\n      <td>D2</td>\n      <td>S</td>\n      <td>26499.047619</td>\n      <td>769.571429</td>\n      <td>1.128878</td>\n      <td>NC-1+B</td>\n      <td>SGC0946</td>\n      <td>NaN</td>\n      <td>SANGER</td>\n    </tr>\n    <tr>\n      <th>2927357</th>\n      <td>GDSC_Plus</td>\n      <td>52679</td>\n      <td>49717</td>\n      <td>2019-04-28T23:00:00Z</td>\n      <td>2019-05-02T23:00:00Z</td>\n      <td>2498</td>\n      <td>1489</td>\n      <td>908450</td>\n      <td>no-11</td>\n      <td>SIDM00573</td>\n      <td>...</td>\n      <td>L125</td>\n      <td>D1</td>\n      <td>S</td>\n      <td>26499.047619</td>\n      <td>769.571429</td>\n      <td>1.162341</td>\n      <td>NC-1+B</td>\n      <td>SGC0946</td>\n      <td>NaN</td>\n      <td>SANGER</td>\n    </tr>\n  </tbody>\n</table>\n<p>3166905 rows × 29 columns</p>\n</div>"
     },
     "execution_count": 10,
     "metadata": {},
     "output_type": "execute_result"
    }
   ],
   "source": [
    "formatted_gdsc2 = transform_for_curvecurator(normalized_df, drug_names)\n",
    "formatted_gdsc2"
   ]
  },
  {
   "cell_type": "markdown",
   "id": "4a33000b-83c3-4bde-bf71-e0d266a93f5e",
   "metadata": {},
   "source": [
    "## Creating replicate information"
   ]
  },
  {
   "cell_type": "code",
   "execution_count": 11,
   "id": "91c0ace0-de5a-4e40-b6d7-cca12a3a61e7",
   "metadata": {
    "ExecuteTime": {
     "end_time": "2025-02-07T09:53:48.619679Z",
     "start_time": "2025-02-07T09:53:44.403821Z"
    }
   },
   "outputs": [
    {
     "name": "stderr",
     "output_type": "stream",
     "text": [
      "/var/folders/3x/f8j9tddj7flfxt9zx1gkws1m0000gn/T/ipykernel_50369/3637456109.py:2: FutureWarning: The provided callable <built-in function min> is currently using SeriesGroupBy.min. In a future version of pandas, the provided callable will be used directly. To keep current behavior pass the string \"min\" instead.\n",
      "  formatted_gdsc2['mindose'] = formatted_gdsc2.groupby([\"CELL_LINE_NAME\", \"DRUG_NAME\"], as_index=False)['rounddose'].transform(min)\n",
      "/var/folders/3x/f8j9tddj7flfxt9zx1gkws1m0000gn/T/ipykernel_50369/3637456109.py:3: FutureWarning: The provided callable <built-in function max> is currently using SeriesGroupBy.max. In a future version of pandas, the provided callable will be used directly. To keep current behavior pass the string \"max\" instead.\n",
      "  formatted_gdsc2['maxdose'] = formatted_gdsc2.groupby([\"CELL_LINE_NAME\", \"DRUG_NAME\"], as_index=False)['rounddose'].transform(max)\n"
     ]
    },
    {
     "data": {
      "text/plain": "        RESEARCH_PROJECT  BARCODE  SCAN_ID          DATE_CREATED  \\\n1125291       GDSC_001-B    15150    14769  2016-05-08T23:00:00Z   \n1125290       GDSC_001-B    15150    14769  2016-05-08T23:00:00Z   \n1125289       GDSC_001-B    15150    14769  2016-05-08T23:00:00Z   \n1125288       GDSC_001-B    15150    14769  2016-05-08T23:00:00Z   \n1125287       GDSC_001-B    15150    14769  2016-05-08T23:00:00Z   \n...                  ...      ...      ...                   ...   \n2927353        GDSC_Plus    52679    49717  2019-04-28T23:00:00Z   \n2927354        GDSC_Plus    52679    49717  2019-04-28T23:00:00Z   \n2927355        GDSC_Plus    52679    49717  2019-04-28T23:00:00Z   \n2927356        GDSC_Plus    52679    49717  2019-04-28T23:00:00Z   \n2927357        GDSC_Plus    52679    49717  2019-04-28T23:00:00Z   \n\n                    SCAN_DATE  CELL_ID  MASTER_CELL_ID  COSMIC_ID  \\\n1125291  2016-05-12T23:00:00Z     3399            1027     924100   \n1125290  2016-05-12T23:00:00Z     3399            1027     924100   \n1125289  2016-05-12T23:00:00Z     3399            1027     924100   \n1125288  2016-05-12T23:00:00Z     3399            1027     924100   \n1125287  2016-05-12T23:00:00Z     3399            1027     924100   \n...                       ...      ...             ...        ...   \n2927353  2019-05-02T23:00:00Z     2498            1489     908450   \n2927354  2019-05-02T23:00:00Z     2498            1489     908450   \n2927355  2019-05-02T23:00:00Z     2498            1489     908450   \n2927356  2019-05-02T23:00:00Z     2498            1489     908450   \n2927357  2019-05-02T23:00:00Z     2498            1489     908450   \n\n        CELL_LINE_NAME SANGER_MODEL_ID  ...          PC  normalized_intensity  \\\n1125291          22RV1       SIDM00499  ...  361.428571              1.013024   \n1125290          22RV1       SIDM00499  ...  361.428571              0.997551   \n1125289          22RV1       SIDM00499  ...  361.428571              0.948596   \n1125288          22RV1       SIDM00499  ...  361.428571              0.755364   \n1125287          22RV1       SIDM00499  ...  361.428571              0.281317   \n...                ...             ...  ...         ...                   ...   \n2927353          no-11       SIDM00573  ...  769.571429              1.147455   \n2927354          no-11       SIDM00573  ...  769.571429              1.147455   \n2927355          no-11       SIDM00573  ...  769.571429              1.076875   \n2927356          no-11       SIDM00573  ...  769.571429              1.128878   \n2927357          no-11       SIDM00573  ...  769.571429              1.162341   \n\n        norm_neg_pos    DRUG_NAME  SYNONYMS SCREENING_SITE  rounddose  \\\n1125291       NC-1+B  Vinblastine    Velban         SANGER   0.000100   \n1125290       NC-1+B  Vinblastine    Velban         SANGER   0.000316   \n1125289       NC-1+B  Vinblastine    Velban         SANGER   0.001000   \n1125288       NC-1+B  Vinblastine    Velban         SANGER   0.003163   \n1125287       NC-1+B  Vinblastine    Velban         SANGER   0.010002   \n...              ...          ...       ...            ...        ...   \n2927353       NC-1+B      SGC0946       NaN         SANGER   0.005002   \n2927354       NC-1+B      SGC0946       NaN         SANGER   0.015816   \n2927355       NC-1+B      SGC0946       NaN         SANGER   0.050009   \n2927356       NC-1+B      SGC0946       NaN         SANGER   0.158128   \n2927357       NC-1+B      SGC0946       NaN         SANGER   0.500000   \n\n         mindose  maxdose repl  \n1125291   0.0001      0.1    0  \n1125290   0.0001      0.1    0  \n1125289   0.0001      0.1    0  \n1125288   0.0001      0.1    0  \n1125287   0.0001      0.1    0  \n...          ...      ...  ...  \n2927353   0.0005      0.5    0  \n2927354   0.0005      0.5    0  \n2927355   0.0005      0.5    0  \n2927356   0.0005      0.5    0  \n2927357   0.0005      0.5    0  \n\n[3166905 rows x 33 columns]",
      "text/html": "<div>\n<style scoped>\n    .dataframe tbody tr th:only-of-type {\n        vertical-align: middle;\n    }\n\n    .dataframe tbody tr th {\n        vertical-align: top;\n    }\n\n    .dataframe thead th {\n        text-align: right;\n    }\n</style>\n<table border=\"1\" class=\"dataframe\">\n  <thead>\n    <tr style=\"text-align: right;\">\n      <th></th>\n      <th>RESEARCH_PROJECT</th>\n      <th>BARCODE</th>\n      <th>SCAN_ID</th>\n      <th>DATE_CREATED</th>\n      <th>SCAN_DATE</th>\n      <th>CELL_ID</th>\n      <th>MASTER_CELL_ID</th>\n      <th>COSMIC_ID</th>\n      <th>CELL_LINE_NAME</th>\n      <th>SANGER_MODEL_ID</th>\n      <th>...</th>\n      <th>PC</th>\n      <th>normalized_intensity</th>\n      <th>norm_neg_pos</th>\n      <th>DRUG_NAME</th>\n      <th>SYNONYMS</th>\n      <th>SCREENING_SITE</th>\n      <th>rounddose</th>\n      <th>mindose</th>\n      <th>maxdose</th>\n      <th>repl</th>\n    </tr>\n  </thead>\n  <tbody>\n    <tr>\n      <th>1125291</th>\n      <td>GDSC_001-B</td>\n      <td>15150</td>\n      <td>14769</td>\n      <td>2016-05-08T23:00:00Z</td>\n      <td>2016-05-12T23:00:00Z</td>\n      <td>3399</td>\n      <td>1027</td>\n      <td>924100</td>\n      <td>22RV1</td>\n      <td>SIDM00499</td>\n      <td>...</td>\n      <td>361.428571</td>\n      <td>1.013024</td>\n      <td>NC-1+B</td>\n      <td>Vinblastine</td>\n      <td>Velban</td>\n      <td>SANGER</td>\n      <td>0.000100</td>\n      <td>0.0001</td>\n      <td>0.1</td>\n      <td>0</td>\n    </tr>\n    <tr>\n      <th>1125290</th>\n      <td>GDSC_001-B</td>\n      <td>15150</td>\n      <td>14769</td>\n      <td>2016-05-08T23:00:00Z</td>\n      <td>2016-05-12T23:00:00Z</td>\n      <td>3399</td>\n      <td>1027</td>\n      <td>924100</td>\n      <td>22RV1</td>\n      <td>SIDM00499</td>\n      <td>...</td>\n      <td>361.428571</td>\n      <td>0.997551</td>\n      <td>NC-1+B</td>\n      <td>Vinblastine</td>\n      <td>Velban</td>\n      <td>SANGER</td>\n      <td>0.000316</td>\n      <td>0.0001</td>\n      <td>0.1</td>\n      <td>0</td>\n    </tr>\n    <tr>\n      <th>1125289</th>\n      <td>GDSC_001-B</td>\n      <td>15150</td>\n      <td>14769</td>\n      <td>2016-05-08T23:00:00Z</td>\n      <td>2016-05-12T23:00:00Z</td>\n      <td>3399</td>\n      <td>1027</td>\n      <td>924100</td>\n      <td>22RV1</td>\n      <td>SIDM00499</td>\n      <td>...</td>\n      <td>361.428571</td>\n      <td>0.948596</td>\n      <td>NC-1+B</td>\n      <td>Vinblastine</td>\n      <td>Velban</td>\n      <td>SANGER</td>\n      <td>0.001000</td>\n      <td>0.0001</td>\n      <td>0.1</td>\n      <td>0</td>\n    </tr>\n    <tr>\n      <th>1125288</th>\n      <td>GDSC_001-B</td>\n      <td>15150</td>\n      <td>14769</td>\n      <td>2016-05-08T23:00:00Z</td>\n      <td>2016-05-12T23:00:00Z</td>\n      <td>3399</td>\n      <td>1027</td>\n      <td>924100</td>\n      <td>22RV1</td>\n      <td>SIDM00499</td>\n      <td>...</td>\n      <td>361.428571</td>\n      <td>0.755364</td>\n      <td>NC-1+B</td>\n      <td>Vinblastine</td>\n      <td>Velban</td>\n      <td>SANGER</td>\n      <td>0.003163</td>\n      <td>0.0001</td>\n      <td>0.1</td>\n      <td>0</td>\n    </tr>\n    <tr>\n      <th>1125287</th>\n      <td>GDSC_001-B</td>\n      <td>15150</td>\n      <td>14769</td>\n      <td>2016-05-08T23:00:00Z</td>\n      <td>2016-05-12T23:00:00Z</td>\n      <td>3399</td>\n      <td>1027</td>\n      <td>924100</td>\n      <td>22RV1</td>\n      <td>SIDM00499</td>\n      <td>...</td>\n      <td>361.428571</td>\n      <td>0.281317</td>\n      <td>NC-1+B</td>\n      <td>Vinblastine</td>\n      <td>Velban</td>\n      <td>SANGER</td>\n      <td>0.010002</td>\n      <td>0.0001</td>\n      <td>0.1</td>\n      <td>0</td>\n    </tr>\n    <tr>\n      <th>...</th>\n      <td>...</td>\n      <td>...</td>\n      <td>...</td>\n      <td>...</td>\n      <td>...</td>\n      <td>...</td>\n      <td>...</td>\n      <td>...</td>\n      <td>...</td>\n      <td>...</td>\n      <td>...</td>\n      <td>...</td>\n      <td>...</td>\n      <td>...</td>\n      <td>...</td>\n      <td>...</td>\n      <td>...</td>\n      <td>...</td>\n      <td>...</td>\n      <td>...</td>\n      <td>...</td>\n    </tr>\n    <tr>\n      <th>2927353</th>\n      <td>GDSC_Plus</td>\n      <td>52679</td>\n      <td>49717</td>\n      <td>2019-04-28T23:00:00Z</td>\n      <td>2019-05-02T23:00:00Z</td>\n      <td>2498</td>\n      <td>1489</td>\n      <td>908450</td>\n      <td>no-11</td>\n      <td>SIDM00573</td>\n      <td>...</td>\n      <td>769.571429</td>\n      <td>1.147455</td>\n      <td>NC-1+B</td>\n      <td>SGC0946</td>\n      <td>NaN</td>\n      <td>SANGER</td>\n      <td>0.005002</td>\n      <td>0.0005</td>\n      <td>0.5</td>\n      <td>0</td>\n    </tr>\n    <tr>\n      <th>2927354</th>\n      <td>GDSC_Plus</td>\n      <td>52679</td>\n      <td>49717</td>\n      <td>2019-04-28T23:00:00Z</td>\n      <td>2019-05-02T23:00:00Z</td>\n      <td>2498</td>\n      <td>1489</td>\n      <td>908450</td>\n      <td>no-11</td>\n      <td>SIDM00573</td>\n      <td>...</td>\n      <td>769.571429</td>\n      <td>1.147455</td>\n      <td>NC-1+B</td>\n      <td>SGC0946</td>\n      <td>NaN</td>\n      <td>SANGER</td>\n      <td>0.015816</td>\n      <td>0.0005</td>\n      <td>0.5</td>\n      <td>0</td>\n    </tr>\n    <tr>\n      <th>2927355</th>\n      <td>GDSC_Plus</td>\n      <td>52679</td>\n      <td>49717</td>\n      <td>2019-04-28T23:00:00Z</td>\n      <td>2019-05-02T23:00:00Z</td>\n      <td>2498</td>\n      <td>1489</td>\n      <td>908450</td>\n      <td>no-11</td>\n      <td>SIDM00573</td>\n      <td>...</td>\n      <td>769.571429</td>\n      <td>1.076875</td>\n      <td>NC-1+B</td>\n      <td>SGC0946</td>\n      <td>NaN</td>\n      <td>SANGER</td>\n      <td>0.050009</td>\n      <td>0.0005</td>\n      <td>0.5</td>\n      <td>0</td>\n    </tr>\n    <tr>\n      <th>2927356</th>\n      <td>GDSC_Plus</td>\n      <td>52679</td>\n      <td>49717</td>\n      <td>2019-04-28T23:00:00Z</td>\n      <td>2019-05-02T23:00:00Z</td>\n      <td>2498</td>\n      <td>1489</td>\n      <td>908450</td>\n      <td>no-11</td>\n      <td>SIDM00573</td>\n      <td>...</td>\n      <td>769.571429</td>\n      <td>1.128878</td>\n      <td>NC-1+B</td>\n      <td>SGC0946</td>\n      <td>NaN</td>\n      <td>SANGER</td>\n      <td>0.158128</td>\n      <td>0.0005</td>\n      <td>0.5</td>\n      <td>0</td>\n    </tr>\n    <tr>\n      <th>2927357</th>\n      <td>GDSC_Plus</td>\n      <td>52679</td>\n      <td>49717</td>\n      <td>2019-04-28T23:00:00Z</td>\n      <td>2019-05-02T23:00:00Z</td>\n      <td>2498</td>\n      <td>1489</td>\n      <td>908450</td>\n      <td>no-11</td>\n      <td>SIDM00573</td>\n      <td>...</td>\n      <td>769.571429</td>\n      <td>1.162341</td>\n      <td>NC-1+B</td>\n      <td>SGC0946</td>\n      <td>NaN</td>\n      <td>SANGER</td>\n      <td>0.500000</td>\n      <td>0.0005</td>\n      <td>0.5</td>\n      <td>0</td>\n    </tr>\n  </tbody>\n</table>\n<p>3166905 rows × 33 columns</p>\n</div>"
     },
     "execution_count": 11,
     "metadata": {},
     "output_type": "execute_result"
    }
   ],
   "source": [
    "formatted_gdsc2[\"rounddose\"] = formatted_gdsc2[\"CONC\"].round(10)\n",
    "formatted_gdsc2['mindose'] = formatted_gdsc2.groupby([\"CELL_LINE_NAME\", \"DRUG_NAME\"], as_index=False)['rounddose'].transform(min)\n",
    "formatted_gdsc2['maxdose'] = formatted_gdsc2.groupby([\"CELL_LINE_NAME\", \"DRUG_NAME\"], as_index=False)['rounddose'].transform(max)\n",
    "formatted_gdsc2['repl'] = formatted_gdsc2.groupby([\"CELL_LINE_NAME\", \"CELL_ID\", \"DRUG_NAME\", \"lib_drug\",\"rounddose\"]).cumcount()\n",
    "formatted_gdsc2"
   ]
  },
  {
   "cell_type": "code",
   "execution_count": 12,
   "outputs": [],
   "source": [
    "drug_dosages = formatted_gdsc2[[\"CELL_LINE_NAME\", \"DRUG_NAME\", \"mindose\", \"maxdose\"]].drop_duplicates()\n",
    "drug_dosages.to_csv(\"drug_dosages_GDSC2.csv\", index=False)"
   ],
   "metadata": {
    "collapsed": false,
    "ExecuteTime": {
     "end_time": "2025-02-07T09:54:14.644758Z",
     "start_time": "2025-02-07T09:54:13.277306Z"
    }
   },
   "id": "3b09ec7e7a01f913"
  },
  {
   "cell_type": "code",
   "execution_count": 12,
   "id": "821c72c3-e9d8-4c38-8efb-15579f84a606",
   "metadata": {
    "ExecuteTime": {
     "end_time": "2025-02-04T15:32:13.173064Z",
     "start_time": "2025-02-04T15:32:10.139470Z"
    }
   },
   "outputs": [
    {
     "data": {
      "text/plain": "        CELL_LINE_NAME  CELL_ID    DRUG_NAME lib_drug drugcellrep\n1125291          22RV1     3399  Vinblastine       L2           0\n1125852          22RV1     3399    Cisplatin      L50           0\n1798545          22RV1     6909    Cisplatin      L70           1\n1798818          22RV1     6909    Cisplatin      L64           2\n2277253          22RV1     6909    Cisplatin      L49           3\n...                ...      ...          ...      ...         ...\n2927729          no-11     2498          JQ1     L120           0\n2927743          no-11     2498        PFI-1     L121           0\n2927750          no-11     2498         IOX2     L122           0\n2927757          no-11     2498   CHIR-99021     L123           0\n2927351          no-11     2498      SGC0946     L125           0\n\n[312519 rows x 5 columns]",
      "text/html": "<div>\n<style scoped>\n    .dataframe tbody tr th:only-of-type {\n        vertical-align: middle;\n    }\n\n    .dataframe tbody tr th {\n        vertical-align: top;\n    }\n\n    .dataframe thead th {\n        text-align: right;\n    }\n</style>\n<table border=\"1\" class=\"dataframe\">\n  <thead>\n    <tr style=\"text-align: right;\">\n      <th></th>\n      <th>CELL_LINE_NAME</th>\n      <th>CELL_ID</th>\n      <th>DRUG_NAME</th>\n      <th>lib_drug</th>\n      <th>drugcellrep</th>\n    </tr>\n  </thead>\n  <tbody>\n    <tr>\n      <th>1125291</th>\n      <td>22RV1</td>\n      <td>3399</td>\n      <td>Vinblastine</td>\n      <td>L2</td>\n      <td>0</td>\n    </tr>\n    <tr>\n      <th>1125852</th>\n      <td>22RV1</td>\n      <td>3399</td>\n      <td>Cisplatin</td>\n      <td>L50</td>\n      <td>0</td>\n    </tr>\n    <tr>\n      <th>1798545</th>\n      <td>22RV1</td>\n      <td>6909</td>\n      <td>Cisplatin</td>\n      <td>L70</td>\n      <td>1</td>\n    </tr>\n    <tr>\n      <th>1798818</th>\n      <td>22RV1</td>\n      <td>6909</td>\n      <td>Cisplatin</td>\n      <td>L64</td>\n      <td>2</td>\n    </tr>\n    <tr>\n      <th>2277253</th>\n      <td>22RV1</td>\n      <td>6909</td>\n      <td>Cisplatin</td>\n      <td>L49</td>\n      <td>3</td>\n    </tr>\n    <tr>\n      <th>...</th>\n      <td>...</td>\n      <td>...</td>\n      <td>...</td>\n      <td>...</td>\n      <td>...</td>\n    </tr>\n    <tr>\n      <th>2927729</th>\n      <td>no-11</td>\n      <td>2498</td>\n      <td>JQ1</td>\n      <td>L120</td>\n      <td>0</td>\n    </tr>\n    <tr>\n      <th>2927743</th>\n      <td>no-11</td>\n      <td>2498</td>\n      <td>PFI-1</td>\n      <td>L121</td>\n      <td>0</td>\n    </tr>\n    <tr>\n      <th>2927750</th>\n      <td>no-11</td>\n      <td>2498</td>\n      <td>IOX2</td>\n      <td>L122</td>\n      <td>0</td>\n    </tr>\n    <tr>\n      <th>2927757</th>\n      <td>no-11</td>\n      <td>2498</td>\n      <td>CHIR-99021</td>\n      <td>L123</td>\n      <td>0</td>\n    </tr>\n    <tr>\n      <th>2927351</th>\n      <td>no-11</td>\n      <td>2498</td>\n      <td>SGC0946</td>\n      <td>L125</td>\n      <td>0</td>\n    </tr>\n  </tbody>\n</table>\n<p>312519 rows × 5 columns</p>\n</div>"
     },
     "execution_count": 12,
     "metadata": {},
     "output_type": "execute_result"
    }
   ],
   "source": [
    "unique_celldrugcombos = formatted_gdsc2[[\"CELL_LINE_NAME\", \"CELL_ID\", \"DRUG_NAME\", \"lib_drug\"]].drop_duplicates()\n",
    "unique_celldrugcombos[\"drugcellrep\"] = unique_celldrugcombos.groupby([\"CELL_LINE_NAME\", \"DRUG_NAME\"], as_index=True).cumcount().astype(str)\n",
    "unique_celldrugcombos"
   ]
  },
  {
   "cell_type": "code",
   "execution_count": 13,
   "id": "890bec36-e540-4690-9595-c80da8d5c6c3",
   "metadata": {
    "ExecuteTime": {
     "end_time": "2025-02-04T15:32:20.239893Z",
     "start_time": "2025-02-04T15:32:13.185861Z"
    }
   },
   "outputs": [],
   "source": [
    "formatted_gdsc2 = formatted_gdsc2.merge(unique_celldrugcombos, on=[\"CELL_LINE_NAME\", \"CELL_ID\", \"DRUG_NAME\", \"lib_drug\"])"
   ]
  },
  {
   "cell_type": "code",
   "execution_count": 14,
   "id": "2a57e2c4-5f0f-454d-8169-8c59d03b6bd4",
   "metadata": {
    "ExecuteTime": {
     "end_time": "2025-02-04T15:32:42.375809Z",
     "start_time": "2025-02-04T15:32:20.221595Z"
    }
   },
   "outputs": [],
   "source": [
    "formatted_gdsc2['replicate'] = pd.factorize(formatted_gdsc2[[\"repl\", \"drugcellrep\"]].apply(tuple, axis=1))[0]\n",
    "formatted_gdsc2['replicate'] = formatted_gdsc2.groupby([\"CELL_LINE_NAME\", \"DRUG_NAME\"])[\"replicate\"].transform(lambda x: pd.factorize(x)[0])\n",
    "formatted_gdsc2['nreplicates'] = formatted_gdsc2.groupby([\"CELL_LINE_NAME\", \"DRUG_NAME\"])[\"replicate\"].transform('max')"
   ]
  },
  {
   "cell_type": "markdown",
   "id": "4f86dd1e-5838-476a-97a9-18aeb3f2898f",
   "metadata": {},
   "source": [
    "## Drugname to PubChem mapping"
   ]
  },
  {
   "cell_type": "code",
   "execution_count": 16,
   "id": "dffa0c93-4c11-4b9a-977f-82d741e8c8fd",
   "metadata": {},
   "outputs": [],
   "source": [
    "filtered_gdsc2_drugs = drug_names.merge(formatted_gdsc2[['DRUG_ID', 'DRUG_NAME']].drop_duplicates(), on=[\"DRUG_ID\", \"DRUG_NAME\"], how='right').drop(columns=['DRUG_ID']).drop_duplicates().set_index(\"DRUG_NAME\")"
   ]
  },
  {
   "cell_type": "code",
   "execution_count": 17,
   "id": "87a689db-428b-4a5c-803f-dc9100234aa4",
   "metadata": {},
   "outputs": [],
   "source": [
    "filtered_gdsc2_drugs.SYNONYMS.fillna('', inplace=True)"
   ]
  },
  {
   "cell_type": "code",
   "execution_count": 18,
   "id": "96b6689c-688b-45dc-9c3d-9b4e20c451c9",
   "metadata": {},
   "outputs": [
    {
     "name": "stdout",
     "output_type": "stream",
     "text": [
      "0 / 292\n",
      "10 / 292\n",
      "20 / 292\n",
      "30 / 292\n",
      "40 / 292\n",
      "50 / 292\n",
      "60 / 292\n",
      "70 / 292\n",
      "80 / 292\n",
      "90 / 292\n",
      "100 / 292\n",
      "110 / 292\n",
      "120 / 292\n",
      "130 / 292\n",
      "140 / 292\n",
      "150 / 292\n",
      "160 / 292\n",
      "170 / 292\n",
      "180 / 292\n",
      "190 / 292\n",
      "200 / 292\n",
      "210 / 292\n",
      "220 / 292\n",
      "230 / 292\n",
      "240 / 292\n",
      "250 / 292\n",
      "260 / 292\n",
      "270 / 292\n",
      "280 / 292\n",
      "290 / 292\n"
     ]
    }
   ],
   "source": [
    "results = {}\n",
    "chembls = {}\n",
    "manual_review = {}\n",
    "inchis = {}\n",
    "i = 0\n",
    "for brd, vals in filtered_gdsc2_drugs.iterrows():\n",
    "    if i % 10 == 0:\n",
    "        print(i, '/', len(filtered_gdsc2_drugs))\n",
    "   \n",
    "    compounds = pcp.get_compounds(identifier=brd, namespace=\"name\")\n",
    "    if len(compounds) == 0:\n",
    "        if vals[\"SYNONYMS\"]:\n",
    "            syns = vals[\"SYNONYMS\"].split(', ')\n",
    "            syncompounds = []\n",
    "            for syn in syns:\n",
    "                syncompounds.extend(pcp.get_compounds(identifier=brd, namespace=\"name\"))\n",
    "            if len(syncompounds) > 0:\n",
    "                manual_review[brd] = syncompounds\n",
    "            else:\n",
    "                manual_review[brd] = [compounds]\n",
    "        else:\n",
    "            manual_review[brd] = [compounds]\n",
    "    else:\n",
    "        results[brd] = compounds[0].cid\n",
    "        #print(dir(compounds[0]))\n",
    "        inchis = compounds[0].inchi\n",
    "        chembl = None\n",
    "        for syn in compounds[0].synonyms or []:\n",
    "            if syn.startswith(\"CHEMBL\"):\n",
    "                chembl = syn\n",
    "                break\n",
    "        chembls[brd] = chembl\n",
    "    i += 1"
   ]
  },
  {
   "cell_type": "markdown",
   "id": "7e2ca055-9d47-480e-8bb7-113acb20ff81",
   "metadata": {},
   "source": [
    "### Checking results"
   ]
  },
  {
   "cell_type": "code",
   "execution_count": 19,
   "id": "1f7fc6d4-7bc6-41df-98d4-4ac2f80d1339",
   "metadata": {},
   "outputs": [
    {
     "data": {
      "text/plain": [
       "(228, 59)"
      ]
     },
     "execution_count": 19,
     "metadata": {},
     "output_type": "execute_result"
    }
   ],
   "source": [
    "len(results), len(manual_review)"
   ]
  },
  {
   "cell_type": "code",
   "execution_count": 20,
   "id": "b69c0abe-67ad-4d32-a035-c93a8ab8c9c4",
   "metadata": {},
   "outputs": [],
   "source": [
    "manual_review |= {brd: cid for brd, cid in results.items() if cid is None}"
   ]
  },
  {
   "cell_type": "code",
   "execution_count": 21,
   "id": "91e97dc2-0523-4190-9556-17fd3d5aedf5",
   "metadata": {},
   "outputs": [
    {
     "data": {
      "text/plain": [
       "{'Nutlin-3a (-)': [[]],\n",
       " 'Bleomycin (50 uM)': [[]],\n",
       " 'IAP_5620': [[]],\n",
       " 'BDOCA000347a': [[]],\n",
       " 'BDF00022089a': [[]],\n",
       " 'BDILV000379a': [[]],\n",
       " 'Picolinici-acid': [[]],\n",
       " 'CDK9_5576': [[]],\n",
       " 'CDK9_5038': [[]],\n",
       " 'Eg5_9814': [[]],\n",
       " 'ERK_2440': [[]],\n",
       " 'ERK_6604': [[]],\n",
       " 'IRAK4_4710': [[]],\n",
       " 'JAK1_8709': [[]],\n",
       " 'PAK_5339': [[]],\n",
       " 'TAF1_5496': [[]],\n",
       " 'ULK1_4989': [[]],\n",
       " 'VSP34_8731': [[]],\n",
       " 'IGF1R_3801': [[]],\n",
       " 'JAK_8517': [[]],\n",
       " 'GSK2256098C': [[]],\n",
       " 'GSK2276186C': [[]],\n",
       " 'GSK626616AC': [[]],\n",
       " 'GSK3337463A': [[]],\n",
       " 'GSK2830371A': [[]],\n",
       " 'LMB_AB1': [[]],\n",
       " 'LMB_AB2': [[]],\n",
       " 'LMB_AB3': [[]],\n",
       " '1807': [[]],\n",
       " '1818': [[]],\n",
       " '123829': [[]],\n",
       " '765771': [[]],\n",
       " '123138': [[]],\n",
       " '50869': [[]],\n",
       " '720427': [[]],\n",
       " '667880': [[]],\n",
       " '729189': [[]],\n",
       " '741909': [[]],\n",
       " '743380': [[]],\n",
       " '150412': [[]],\n",
       " '615590': [[]],\n",
       " '630600': [[]],\n",
       " '776928': [[]],\n",
       " 'KRAS (G12C) Inhibitor-12': [[]],\n",
       " 'BDP-00009066': [[]],\n",
       " 'BPD-00008900': [[]],\n",
       " 'N25720-51-A1': [[]],\n",
       " 'N27922-53-1': [[]],\n",
       " 'N30652-18-1': [[]],\n",
       " 'N29087-69-1': [[]],\n",
       " 'HKMTI-1-005': [[]],\n",
       " 'VTP-A': [[]],\n",
       " 'VTP-B': [[]],\n",
       " 'PBD-288': [[]],\n",
       " 'CT7033-2': [[]],\n",
       " 'THR-101': [[]],\n",
       " 'THR-102': [[]],\n",
       " 'THR-103': [[]],\n",
       " 'ascorbate (vitamin C)': [[]]}"
      ]
     },
     "execution_count": 21,
     "metadata": {},
     "output_type": "execute_result"
    }
   ],
   "source": [
    "manual_review"
   ]
  },
  {
   "cell_type": "code",
   "execution_count": 22,
   "id": "eeee2642-f02a-4fbf-91a8-665c85568f28",
   "metadata": {},
   "outputs": [],
   "source": [
    "manual_review['123138']='GDSC_123138'\n",
    "manual_review['123829']='GDSC_123829'\n",
    "manual_review['150412']='GDSC_150412'\n",
    "manual_review['1807']='GDSC_1807'\n",
    "manual_review['1818']='GDSC_1818'\n",
    "manual_review['50869']='GDSC_50869'\n",
    "manual_review['615590']='GDSC_615590'\n",
    "manual_review['630600']='GDSC_630600'\n",
    "manual_review['667880']='GDSC_667880'\n",
    "manual_review['720427']='GDSC_720427'\n",
    "manual_review['729189']='GDSC_729189'\n",
    "manual_review['741909']='GDSC_741909'\n",
    "manual_review['743380']='GDSC_743380'\n",
    "manual_review['765771']='GDSC_765771'\n",
    "manual_review['776928']='GDSC_776928'\n",
    "manual_review['BDF00022089a']='BDF00022089a'\n",
    "manual_review['BDILV000379a']='BDILV000379a'\n",
    "manual_review['BDOCA000347a']='BDOCA000347a'\n",
    "manual_review['BDP-00009066']='BDP-00009066'\n",
    "manual_review['BPD-00008900']='BPD-00008900'\n",
    "manual_review['Bleomycin (50 uM)']='5360373'\n",
    "manual_review['CDK9_5038']='CDK9_5038'\n",
    "manual_review['CDK9_5576']='CDK9_5576'\n",
    "manual_review['CT7033-2']='CT7033-2'\n",
    "manual_review['ERK_2440']='ERK_2440'\n",
    "manual_review['ERK_6604']='ERK_6604'\n",
    "manual_review['Eg5_9814']='Eg5_9814'\n",
    "#manual_review['GSK-LSD1-2HCl']='91663353'  # this is technically also correct, but came from an old run where pubchem didn't find the component automatically yet. We will go with the new one (91826516)\n",
    "manual_review['GSK2256098C']='46214930'\n",
    "manual_review['GSK2276186C']='GSK2276186C'\n",
    "manual_review['GSK2830371A']= 'GSK2830371A'  # could be '70983932' but that is already GSK2830371\n",
    "manual_review['GSK3337463A']='GSK3337463A'\n",
    "manual_review['GSK626616AC']='77999'\n",
    "manual_review['HKMTI-1-005']='HKMTI-1-005'\n",
    "manual_review['IAP_5620']='IAP_5620'\n",
    "manual_review['IGF1R_3801']='IGF1R_3801'\n",
    "manual_review['IRAK4_4710']='IRAK4_4710'\n",
    "manual_review['JAK1_8709']='JAK1_8709'\n",
    "manual_review['JAK_8517']='JAK_8517'\n",
    "manual_review['KRAS (G12C) Inhibitor-12']='73555129'\n",
    "manual_review['LMB_AB1']='LMB_AB1'\n",
    "manual_review['LMB_AB2']='LMB_AB2'\n",
    "manual_review['LMB_AB3']='LMB_AB3'\n",
    "manual_review['N25720-51-A1']='N25720-51-A1'\n",
    "manual_review['N27922-53-1']='N27922-53-1'\n",
    "manual_review['N29087-69-1']='N29087-69-1'\n",
    "manual_review['N30652-18-1']='N30652-18-1'\n",
    "manual_review['Nutlin-3a (-)'] = '11433190'\n",
    "manual_review['PAK_5339']='PAK_5339'\n",
    "manual_review['PBD-288']='PBD-288'\n",
    "manual_review['Picolinici-acid']='1018'\n",
    "manual_review['TAF1_5496']='TAF1_5496'\n",
    "manual_review['THR-101']='THR-101'\n",
    "manual_review['THR-102']='THR-102'\n",
    "manual_review['THR-103']='THR-103'\n",
    "manual_review['ULK1_4989']='ULK1_4989'\n",
    "manual_review['VSP34_8731']='VSP34_8731'\n",
    "manual_review['VTP-A']='VTP-A'\n",
    "manual_review['VTP-B']='VTP-B'\n",
    "manual_review['ascorbate (vitamin C)']='54679076'"
   ]
  },
  {
   "cell_type": "code",
   "execution_count": 23,
   "id": "c70ff2d1-1d3e-4673-a3c2-9d71a57a0e85",
   "metadata": {},
   "outputs": [
    {
     "data": {
      "text/plain": [
       "Vinblastine                 13342\n",
       "Cisplatin                 5702198\n",
       "Cytarabine                   6253\n",
       "Docetaxel                  148124\n",
       "Methotrexate               126941\n",
       "                           ...   \n",
       "CT7033-2                 CT7033-2\n",
       "THR-101                   THR-101\n",
       "THR-102                   THR-102\n",
       "THR-103                   THR-103\n",
       "ascorbate (vitamin C)    54679076\n",
       "Name: CID, Length: 287, dtype: object"
      ]
     },
     "execution_count": 23,
     "metadata": {},
     "output_type": "execute_result"
    }
   ],
   "source": [
    "# convert integer CIDs to strings, and in case of multitreatment the list to a comma separated string\n",
    "def sanitize(val):\n",
    "    if isinstance(val, int):\n",
    "        return str(val)\n",
    "    if isinstance(val, list):\n",
    "        return ','.join([str(i) for i in val])\n",
    "    return val\n",
    "\n",
    "cids = pd.Series(results | manual_review, name=\"CID\").apply(sanitize).astype(str)\n",
    "cids"
   ]
  },
  {
   "cell_type": "code",
   "execution_count": 25,
   "id": "ccae458a-a18c-4284-996f-a27503fd80eb",
   "metadata": {},
   "outputs": [
    {
     "data": {
      "text/plain": [
       "Vinblastine         CHEMBL159\n",
       "Cisplatin                None\n",
       "Cytarabine          CHEMBL803\n",
       "Docetaxel            CHEMBL92\n",
       "Methotrexate      CHEMBL34259\n",
       "                    ...      \n",
       "Bicalutamide        CHEMBL409\n",
       "MG-132            CHEMBL64925\n",
       "AZD6482         CHEMBL2165191\n",
       "IOX2            CHEMBL3186774\n",
       "CHIR-99021       CHEMBL412142\n",
       "Name: CHEMBL, Length: 228, dtype: object"
      ]
     },
     "execution_count": 25,
     "metadata": {},
     "output_type": "execute_result"
    }
   ],
   "source": [
    "chembls = pd.Series(chembls, name=\"CHEMBL\")\n",
    "chembls"
   ]
  },
  {
   "cell_type": "markdown",
   "id": "d5ae8b0d-f98e-408c-9d24-1d2eb163b5df",
   "metadata": {},
   "source": [
    "## Cell line name to Cellosaurus Mapping"
   ]
  },
  {
   "cell_type": "code",
   "execution_count": 15,
   "id": "4de63423-f334-47ae-b88f-298f708ba2d0",
   "metadata": {
    "ExecuteTime": {
     "end_time": "2025-02-04T15:32:42.377437Z",
     "start_time": "2025-02-04T15:32:42.371755Z"
    }
   },
   "outputs": [],
   "source": [
    "# Download Cellosaurus data in OBO format\n",
    "#url = \"ftp://ftp.expasy.org/databases/cellosaurus/cellosaurus.txt\"\n",
    "#filename = \"cellosaurus.txt\"\n",
    "#urllib.request.urlretrieve(url, filename)\n",
    "filename = \"../../mapping/cellosaurus.txt\""
   ]
  },
  {
   "cell_type": "code",
   "execution_count": 16,
   "id": "60747b60-97a1-4329-b013-74afee814b68",
   "metadata": {
    "ExecuteTime": {
     "end_time": "2025-02-04T15:33:12.422765Z",
     "start_time": "2025-02-04T15:33:10.042038Z"
    }
   },
   "outputs": [],
   "source": [
    "cl_mappings = {}\n",
    "btos = {}\n",
    "with open(filename) as handle:\n",
    "    records = cellosaurus.parse(handle)\n",
    "    for record in records:\n",
    "        if 'Homo sapiens' in record['OX'][0]:\n",
    "            if record[\"ID\"] not in cl_mappings:\n",
    "                cl_mappings[record[\"ID\"]] = []\n",
    "            cl_mappings[record[\"ID\"]].append(record[\"AC\"])\n",
    "            syns = record[\"SY\"].split(\"; \")\n",
    "            for syn in syns:\n",
    "                if syn == '':\n",
    "                    continue\n",
    "                if syn not in cl_mappings:\n",
    "                    cl_mappings[syn] = []\n",
    "                cl_mappings[syn].append(record[\"AC\"])\n",
    "            for a, b in record[\"DR\"]:\n",
    "                if a == 'BTO':\n",
    "                    if record[\"AC\"] not in btos:\n",
    "                        btos[record[\"AC\"]] = []\n",
    "                    btos[record[\"AC\"]].append(b)"
   ]
  },
  {
   "cell_type": "code",
   "execution_count": 17,
   "id": "75e328ed-9cb1-4abd-8748-478b7ab78cf0",
   "metadata": {
    "ExecuteTime": {
     "end_time": "2025-02-04T15:33:12.536346Z",
     "start_time": "2025-02-04T15:33:12.509960Z"
    }
   },
   "outputs": [],
   "source": [
    "ccls = formatted_gdsc2[\"CELL_LINE_NAME\"].unique()\n",
    "mappings = {}\n",
    "manual_checks = {}\n",
    "for ccl in ccls:\n",
    "    cellosaurus_ids = cl_mappings.get(ccl, [])\n",
    "    if len(cellosaurus_ids) == 1:\n",
    "        mappings[ccl] = cellosaurus_ids[0]\n",
    "    else:\n",
    "        manual_checks[ccl] = cellosaurus_ids"
   ]
  },
  {
   "cell_type": "code",
   "execution_count": 18,
   "id": "ef3a8daa-06fc-4e79-bb52-cfaedd27c18d",
   "metadata": {
    "ExecuteTime": {
     "end_time": "2025-02-04T15:33:21.107101Z",
     "start_time": "2025-02-04T15:33:20.997654Z"
    }
   },
   "outputs": [
    {
     "name": "stdout",
     "output_type": "stream",
     "text": [
      "CCLs: 969 matches: 934 ambiguous: 35\n"
     ]
    }
   ],
   "source": [
    "print(\"CCLs:\", len(ccls), \"matches:\", len(mappings), \"ambiguous:\", len(manual_checks))"
   ]
  },
  {
   "cell_type": "code",
   "execution_count": 19,
   "id": "357c3e15-debc-4308-89ee-80b9f8c4a82d",
   "metadata": {
    "ExecuteTime": {
     "end_time": "2025-02-04T15:33:21.108678Z",
     "start_time": "2025-02-04T15:33:21.005391Z"
    }
   },
   "outputs": [
    {
     "data": {
      "text/plain": "{'697': ['CVCL_0079', 'CVCL_8056'],\n 'ES-2': ['CVCL_3509', 'CVCL_AX39', 'CVCL_C769'],\n 'ES4': ['CVCL_1200', 'CVCL_C771'],\n 'ES5': ['CVCL_1201', 'CVCL_C772'],\n 'ES6': ['CVCL_1202', 'CVCL_C773'],\n 'ES7': ['CVCL_1203', 'CVCL_C774'],\n 'ES8': ['CVCL_1204', 'CVCL_C775'],\n 'G-292-Clone-A141B1': [],\n 'H4': ['CVCL_6C19', 'CVCL_1239', 'CVCL_HA56'],\n 'H9': ['CVCL_1240', 'CVCL_9773'],\n 'HARA': [],\n 'HH': [],\n 'Hep3B2-1-7': [],\n 'Hs-633T': [],\n 'K2': ['CVCL_C8AN', 'CVCL_C7JZ'],\n 'K5': ['CVCL_1322', 'CVCL_C8B0'],\n 'KG-1': ['CVCL_0374', 'CVCL_2971'],\n 'KS-1': [],\n 'M14': ['CVCL_1395', 'CVCL_8102', 'CVCL_U345'],\n 'ML-1': [],\n 'MS-1': [],\n 'NB1': ['CVCL_1440', 'CVCL_8812'],\n 'NB4': ['CVCL_0005', 'CVCL_8821'],\n 'NOS-1': [],\n 'NTERA-2-cl-D1': [],\n 'OMC-1': [],\n 'PC-3': ['CVCL_4011', 'CVCL_0035', 'CVCL_S982'],\n 'PC-3_[JPC-3]': [],\n 'RCM-1': [],\n 'RH-1': ['CVCL_E3SB', 'CVCL_C355'],\n 'SAT': [],\n 'TALL-1': [],\n 'TK': [],\n 'TT': ['CVCL_3174', 'CVCL_1774'],\n 'U-87-MG': ['CVCL_0022', 'CVCL_GP63']}"
     },
     "execution_count": 19,
     "metadata": {},
     "output_type": "execute_result"
    }
   ],
   "source": [
    "manual_checks"
   ]
  },
  {
   "cell_type": "code",
   "execution_count": 20,
   "id": "a95223d1-5de4-405e-99f1-3695813c50b0",
   "metadata": {
    "ExecuteTime": {
     "end_time": "2025-02-04T15:33:21.108760Z",
     "start_time": "2025-02-04T15:33:21.019429Z"
    }
   },
   "outputs": [],
   "source": [
    "manual_checks[\"697\"] = 'CVCL_0079'  # according to cellmodelpassports mapping file and matching GDSC link on cellosaurus\n",
    "manual_checks[\"ES-2\"] = 'CVCL_3509'  # this is ES-2, according to cellmodelpassports mapping file and matching GDSC link on cellosaurus\n",
    "manual_checks[\"ES4\"] = 'CVCL_1200'  # this is ES-4, according to matching GDSC link on cellosaurus\n",
    "manual_checks[\"ES5\"] = 'CVCL_1201'  # this is ES-5, according to matching GDSC link on cellosaurus\n",
    "manual_checks[\"ES6\"] = 'CVCL_1202'  # this is ES-6, according to matching GDSC link on cellosaurus\n",
    "manual_checks[\"ES7\"] = 'CVCL_1203'  # this is ES-7, according to matching GDSC link on cellosaurus\n",
    "manual_checks[\"ES8\"] = 'CVCL_1204'  # this is ES-8, according to matching GDSC link on cellosaurus\n",
    "manual_checks[\"G-292-Clone-A141B1\"] = 'CVCL_2909'  # this is G-292 clone A141B1 according to matching GDSC link on cellosaurus\n",
    "manual_checks[\"H4\"] = 'CVCL_1239'  # this is H-4, according to matching GDSC link on cellosaurus\n",
    "manual_checks[\"H9\"] = 'CVCL_1240'  # this is H-9, according to matching GDSC link on cellosaurus\n",
    "manual_checks[\"HARA\"] = 'CVCL_2914'  # this is HARA [Human squamous cell lung carcinoma], according to matching GDSC link on cellosaurus\n",
    "manual_checks[\"HH\"] = 'CVCL_1280'    # this is HH [Human Lymphoma], according to cellmodelpassports mapping file and matching GDSC link on cellosaurus\n",
    "manual_checks[\"Hep3B2-1-7\"] = 'CVCL_0326'    # this is Hep 3B2.1-7, according to matching GDSC link on cellosaurus\n",
    "manual_checks[\"Hs-633T\"] = 'CVCL_0832'    # this is Hs 633.T, according to matching GDSC link on cellosaurus\n",
    "\n",
    "manual_checks[\"K2\"] = 'CVCL_AT85'  # this is K2 [Human melanoma], according to matching GDSC link on cellosaurus\n",
    "manual_checks[\"K5\"] = 'CVCL_1322'  # this is K5, according to matching GDSC link on cellosaurus\n",
    "manual_checks[\"KG-1\"] = 'CVCL_0374'  # this is KG-1, according to matching GDSC link on cellosaurus\n",
    "manual_checks[\"KS-1\"] = 'CVCL_1343'  # this is KS-1 [Human glioblastoma], according to matching GDSC link on cellosaurus\n",
    "\n",
    "manual_checks[\"M14\"] = 'CVCL_1395'  # this is M14, according to matching GDSC link on cellosaurus\n",
    "manual_checks[\"ML-1\"] = 'CVCL_H525'  # this is ML-1 [Human thyroid carcinoma], according to matching GDSC link on cellosaurus\n",
    "manual_checks[\"MS-1\"] = 'CVCL_1429'  # this is MS-1 [Human lung carcinoma], according to matching GDSC link on cellosaurus\n",
    "manual_checks[\"NB1\"] = 'CVCL_1440'  # this is NB1, according to matching GDSC link on cellosaurus\n",
    "manual_checks[\"NB4\"] = 'CVCL_0005'  # this is NB4, according to matching GDSC link on cellosaurus\n",
    "manual_checks[\"NOS-1\"] = 'CVCL_1610'  # this is NOS-1 [Human osteosarcoma], according to matching GDSC link on cellosaurus\n",
    "manual_checks[\"NTERA-2-cl-D1\"] = 'CVCL_3407'  # this is NT2-D1, according to matching GDSC link on cellosaurus\n",
    "\n",
    "manual_checks[\"OMC-1\"] = 'CVCL_1623'  # this is OMC-1 [Human cervical carcinoma], according to matching GDSC link on cellosaurus\n",
    "manual_checks[\"PC-3\"] = 'CVCL_0035'  # this is PC-3, according to matching GDSC link on cellosaurus\n",
    "manual_checks[\"PC-3_[JPC-3]\"] = 'CVCL_S982'  # this is PC-3 [Human lung carcinoma], according to matching GDSC link on cellosaurus\n",
    "manual_checks[\"RCM-1\"] = 'CVCL_1648'  # this is RCM-1 [Human rectal adenocarcinoma], according to matching GDSC link on cellosaurus\n",
    "manual_checks[\"SAT\"] = 'CVCL_3160'  # this is SAT [Human HNSCC], according to matching GDSC link on cellosaurus\n",
    "manual_checks[\"TALL-1\"] = 'CVCL_1736'  # this is TALL-1 [Human adult T-ALL], according to matching GDSC link on cellosaurus\n",
    "manual_checks[\"TK\"] = 'CVCL_3216'  # this is TK [Human B-cell lymphoma], according to matching GDSC link on cellosaurus\n",
    "manual_checks[\"TT\"] = 'CVCL_1774'  # this is TT, according to matching GDSC link on cellosaurus\n",
    "manual_checks[\"U-87-MG\"] = 'CVCL_0022'  # this is U-87MG ATCC, according to matching GDSC link on cellosaurus\n",
    "\n"
   ]
  },
  {
   "cell_type": "code",
   "execution_count": 21,
   "id": "b9a4d08a-e0fe-4055-8a92-f3507c7b592b",
   "metadata": {
    "ExecuteTime": {
     "end_time": "2025-02-04T15:33:21.599375Z",
     "start_time": "2025-02-04T15:33:21.027304Z"
    }
   },
   "outputs": [
    {
     "ename": "TypeError",
     "evalue": "unhashable type: 'list'",
     "output_type": "error",
     "traceback": [
      "\u001B[0;31m---------------------------------------------------------------------------\u001B[0m",
      "\u001B[0;31mTypeError\u001B[0m                                 Traceback (most recent call last)",
      "Cell \u001B[0;32mIn[21], line 3\u001B[0m\n\u001B[1;32m      1\u001B[0m rev_mapping \u001B[38;5;241m=\u001B[39m {}\n\u001B[1;32m      2\u001B[0m \u001B[38;5;28;01mfor\u001B[39;00m key, val \u001B[38;5;129;01min\u001B[39;00m (mappings \u001B[38;5;241m|\u001B[39m manual_checks)\u001B[38;5;241m.\u001B[39mitems():\n\u001B[0;32m----> 3\u001B[0m     \u001B[38;5;28;01mif\u001B[39;00m \u001B[43mval\u001B[49m\u001B[43m \u001B[49m\u001B[38;5;129;43;01mnot\u001B[39;49;00m\u001B[43m \u001B[49m\u001B[38;5;129;43;01min\u001B[39;49;00m\u001B[43m \u001B[49m\u001B[43mrev_mapping\u001B[49m:\n\u001B[1;32m      4\u001B[0m         rev_mapping[val] \u001B[38;5;241m=\u001B[39m []\n\u001B[1;32m      5\u001B[0m     rev_mapping[val]\u001B[38;5;241m.\u001B[39mappend(key)\n",
      "\u001B[0;31mTypeError\u001B[0m: unhashable type: 'list'"
     ]
    }
   ],
   "source": [
    "rev_mapping = {}\n",
    "for key, val in (mappings | manual_checks).items():\n",
    "    if val not in rev_mapping:\n",
    "        rev_mapping[val] = []\n",
    "    rev_mapping[val].append(key)"
   ]
  },
  {
   "cell_type": "code",
   "execution_count": 22,
   "id": "8373127b-6a1e-48ae-afbc-224b39b57906",
   "metadata": {
    "ExecuteTime": {
     "end_time": "2025-02-04T15:37:46.148346Z",
     "start_time": "2025-02-04T15:37:45.853692Z"
    }
   },
   "outputs": [
    {
     "data": {
      "text/plain": "False"
     },
     "execution_count": 22,
     "metadata": {},
     "output_type": "execute_result"
    }
   ],
   "source": [
    "any([len(val) != 1 for val in rev_mapping.values()])"
   ]
  },
  {
   "cell_type": "code",
   "execution_count": 23,
   "id": "55774f22-44ee-46db-94c5-744ed06f7dc8",
   "metadata": {
    "ExecuteTime": {
     "end_time": "2025-02-04T15:37:52.624269Z",
     "start_time": "2025-02-04T15:37:52.620161Z"
    }
   },
   "outputs": [
    {
     "data": {
      "text/plain": "963"
     },
     "execution_count": 23,
     "metadata": {},
     "output_type": "execute_result"
    }
   ],
   "source": [
    "len(rev_mapping)"
   ]
  },
  {
   "cell_type": "code",
   "execution_count": 24,
   "id": "2f16a7bb-9754-4d05-82c5-917efae07048",
   "metadata": {
    "ExecuteTime": {
     "end_time": "2025-02-04T15:37:52.631348Z",
     "start_time": "2025-02-04T15:37:52.622023Z"
    }
   },
   "outputs": [],
   "source": [
    "mappings |= manual_checks"
   ]
  },
  {
   "cell_type": "code",
   "execution_count": 34,
   "id": "f395f00d-05f9-4935-8716-0d5d0fb10af5",
   "metadata": {
    "ExecuteTime": {
     "end_time": "2025-02-04T15:47:15.025416Z",
     "start_time": "2025-02-04T15:47:14.933381Z"
    }
   },
   "outputs": [],
   "source": [
    "celline_mappings = pd.DataFrame.from_dict(mappings, orient='index')\n",
    "celline_mappings.columns = ['CVCL']\n",
    "btos_df = pd.DataFrame({'BTO': btos.values()}, index=btos.keys())"
   ]
  },
  {
   "cell_type": "markdown",
   "source": [
    "## Compare to Judith's mapping"
   ],
   "metadata": {
    "collapsed": false
   },
   "id": "c4a5aded76e7b6f2"
  },
  {
   "cell_type": "code",
   "execution_count": 35,
   "outputs": [],
   "source": [
    "celline_mappings = celline_mappings.reset_index()\n",
    "celline_mappings = celline_mappings.rename(columns={\"index\": \"cell_line_name\"})"
   ],
   "metadata": {
    "collapsed": false,
    "ExecuteTime": {
     "end_time": "2025-02-04T15:47:27.193278Z",
     "start_time": "2025-02-04T15:47:27.176959Z"
    }
   },
   "id": "65fda0c110804ee"
  },
  {
   "cell_type": "code",
   "execution_count": 36,
   "outputs": [
    {
     "name": "stdout",
     "output_type": "stream",
     "text": [
      "Creating cellosaurus dictionary ...\n",
      "Mapping cell line names to cellosaurus IDs ...\n",
      "Saving dataframe with cellosaurus IDs ...\n"
     ]
    },
    {
     "data": {
      "text/plain": "    cellosaurus_id        cell_line_name                        CVCL  \\\n72       CVCL_1097  C32 [Human melanoma]                   CVCL_ZA06   \n963      CVCL_1658                  EW-8  ['CVCL_E3SB', 'CVCL_C355']   \n\n    cell_line_original_name  \n72                      C32  \n963                    RH-1  ",
      "text/html": "<div>\n<style scoped>\n    .dataframe tbody tr th:only-of-type {\n        vertical-align: middle;\n    }\n\n    .dataframe tbody tr th {\n        vertical-align: top;\n    }\n\n    .dataframe thead th {\n        text-align: right;\n    }\n</style>\n<table border=\"1\" class=\"dataframe\">\n  <thead>\n    <tr style=\"text-align: right;\">\n      <th></th>\n      <th>cellosaurus_id</th>\n      <th>cell_line_name</th>\n      <th>CVCL</th>\n      <th>cell_line_original_name</th>\n    </tr>\n  </thead>\n  <tbody>\n    <tr>\n      <th>72</th>\n      <td>CVCL_1097</td>\n      <td>C32 [Human melanoma]</td>\n      <td>CVCL_ZA06</td>\n      <td>C32</td>\n    </tr>\n    <tr>\n      <th>963</th>\n      <td>CVCL_1658</td>\n      <td>EW-8</td>\n      <td>['CVCL_E3SB', 'CVCL_C355']</td>\n      <td>RH-1</td>\n    </tr>\n  </tbody>\n</table>\n</div>"
     },
     "execution_count": 36,
     "metadata": {},
     "output_type": "execute_result"
    }
   ],
   "source": [
    "from utils.convert_to_cello import create_cl_dict, map_to_cellosaurus\n",
    "cello_mapping = pd.read_csv(\"../../mapping/cellosaurus_01_2024.csv\")\n",
    "# replace all NaN values with empty strings\n",
    "cello_mapping = cello_mapping.fillna(\"\")\n",
    "# create cellosaurus dictionary\n",
    "cellosaurus_ac_dict, cellosaurus_sy_dict, species_dict, cello_ac_to_id_dict = create_cl_dict(cello_mapping)\n",
    "\n",
    "mapping_df = celline_mappings.copy()\n",
    "mapping_df[\"cell_line_original_name\"] = mapping_df[\"cell_line_name\"]\n",
    "mapping_df[\"cell_line_name\"] = mapping_df[\"cell_line_name\"].replace({\n",
    "    \"C32\": \"C32 [Human melanoma]\",\n",
    "    \"C3A\": \"Hep-G2/C3A\",\n",
    "    \"G-292-Clone-A141B1\": \"G-292 clone A141B1\",\n",
    "    \"HARA\": \"HARA [Human squamous cell lung carcinoma]\",\n",
    "    \"Hep3B2-1-7\": \"Hep 3B2.1-7\",\n",
    "    \"HH\": \"HH [Human lymphoma]\",\n",
    "    \"Hs-633T\": \"Hs 633.T\",\n",
    "    \"HT55\": \"HT-55\",\n",
    "    \"JM1\": \"JM-1\",\n",
    "    \"K2\": \"K2 [Human melanoma]\",\n",
    "    \"KS-1\": \"KS-1 [Human glioblastoma]\",\n",
    "    \"ML-1\": \"ML-1 [Human thyroid carcinoma]\",\n",
    "    \"MS-1\": \"MS-1 [Human lung carcinoma]\",\n",
    "    \"NOS-1\": \"NOS-1 [Human osteosarcoma]\",\n",
    "    \"NTERA-2-cl-D1\": \"NT2-D1\",\n",
    "    \"OMC-1\": \"OMC-1 [Human cervical carcinoma]\",\n",
    "    \"PC-3_[JPC-3]\": \"PC-3 [Human lung carcinoma]\",\n",
    "    \"RCM-1\": \"RCM-1 [Human rectal adenocarcinoma]\",\n",
    "    \"RH-1\": \"EW-8\",\n",
    "    \"SAT\": \"SAT [Human HNSCC]\",\n",
    "    \"TALL-1\": \"TALL-1 [Human adult T-ALL]\",\n",
    "    \"TK\": \"TK [Human B-cell lymphoma]\",\n",
    "})\n",
    "map_to_cellosaurus(mapping_df, cellosaurus_ac_dict, cellosaurus_sy_dict, species_dict, cello_ac_to_id_dict, output_path=\"CCLE_mapped.csv\")\n",
    "mapping_df = pd.read_csv(\"CCLE_mapped.csv\")\n",
    "# find out where CVCL is not equal to cellosaurus_id\n",
    "mapping_df.query(\"CVCL != cellosaurus_id\")"
   ],
   "metadata": {
    "collapsed": false,
    "ExecuteTime": {
     "end_time": "2025-02-04T15:47:32.688563Z",
     "start_time": "2025-02-04T15:47:27.184223Z"
    }
   },
   "id": "6b867f97930d3209"
  },
  {
   "cell_type": "code",
   "execution_count": 37,
   "id": "d362bc32-7b90-4412-8559-f22280812440",
   "metadata": {},
   "outputs": [
    {
     "data": {
      "text/html": [
       "<div>\n",
       "<style scoped>\n",
       "    .dataframe tbody tr th:only-of-type {\n",
       "        vertical-align: middle;\n",
       "    }\n",
       "\n",
       "    .dataframe tbody tr th {\n",
       "        vertical-align: top;\n",
       "    }\n",
       "\n",
       "    .dataframe thead th {\n",
       "        text-align: right;\n",
       "    }\n",
       "</style>\n",
       "<table border=\"1\" class=\"dataframe\">\n",
       "  <thead>\n",
       "    <tr style=\"text-align: right;\">\n",
       "      <th></th>\n",
       "      <th>BTO</th>\n",
       "    </tr>\n",
       "  </thead>\n",
       "  <tbody>\n",
       "    <tr>\n",
       "      <th>CVCL_IP58</th>\n",
       "      <td>[BTO:0006002]</td>\n",
       "    </tr>\n",
       "    <tr>\n",
       "      <th>CVCL_IP59</th>\n",
       "      <td>[BTO:0006003]</td>\n",
       "    </tr>\n",
       "    <tr>\n",
       "      <th>CVCL_L211</th>\n",
       "      <td>[BTO:0005352]</td>\n",
       "    </tr>\n",
       "    <tr>\n",
       "      <th>CVCL_5948</th>\n",
       "      <td>[BTO:0002603]</td>\n",
       "    </tr>\n",
       "    <tr>\n",
       "      <th>CVCL_8030</th>\n",
       "      <td>[BTO:0002947]</td>\n",
       "    </tr>\n",
       "    <tr>\n",
       "      <th>...</th>\n",
       "      <td>...</td>\n",
       "    </tr>\n",
       "    <tr>\n",
       "      <th>CVCL_6746</th>\n",
       "      <td>[BTO:0003554]</td>\n",
       "    </tr>\n",
       "    <tr>\n",
       "      <th>CVCL_WY40</th>\n",
       "      <td>[BTO:0006281]</td>\n",
       "    </tr>\n",
       "    <tr>\n",
       "      <th>CVCL_5906</th>\n",
       "      <td>[BTO:0003992]</td>\n",
       "    </tr>\n",
       "    <tr>\n",
       "      <th>CVCL_0588</th>\n",
       "      <td>[BTO:0003136]</td>\n",
       "    </tr>\n",
       "    <tr>\n",
       "      <th>CVCL_1661</th>\n",
       "      <td>[BTO:0004915]</td>\n",
       "    </tr>\n",
       "  </tbody>\n",
       "</table>\n",
       "<p>1774 rows × 1 columns</p>\n",
       "</div>"
      ],
      "text/plain": [
       "                     BTO\n",
       "CVCL_IP58  [BTO:0006002]\n",
       "CVCL_IP59  [BTO:0006003]\n",
       "CVCL_L211  [BTO:0005352]\n",
       "CVCL_5948  [BTO:0002603]\n",
       "CVCL_8030  [BTO:0002947]\n",
       "...                  ...\n",
       "CVCL_6746  [BTO:0003554]\n",
       "CVCL_WY40  [BTO:0006281]\n",
       "CVCL_5906  [BTO:0003992]\n",
       "CVCL_0588  [BTO:0003136]\n",
       "CVCL_1661  [BTO:0004915]\n",
       "\n",
       "[1774 rows x 1 columns]"
      ]
     },
     "execution_count": 37,
     "metadata": {},
     "output_type": "execute_result"
    }
   ],
   "source": [
    "btos_df"
   ]
  },
  {
   "cell_type": "code",
   "execution_count": 38,
   "id": "34624cfb-036a-47fd-b007-7c03c0268891",
   "metadata": {},
   "outputs": [
    {
     "data": {
      "text/html": [
       "<div>\n",
       "<style scoped>\n",
       "    .dataframe tbody tr th:only-of-type {\n",
       "        vertical-align: middle;\n",
       "    }\n",
       "\n",
       "    .dataframe tbody tr th {\n",
       "        vertical-align: top;\n",
       "    }\n",
       "\n",
       "    .dataframe thead th {\n",
       "        text-align: right;\n",
       "    }\n",
       "</style>\n",
       "<table border=\"1\" class=\"dataframe\">\n",
       "  <thead>\n",
       "    <tr style=\"text-align: right;\">\n",
       "      <th></th>\n",
       "      <th>CVCL</th>\n",
       "      <th>BTO</th>\n",
       "    </tr>\n",
       "  </thead>\n",
       "  <tbody>\n",
       "    <tr>\n",
       "      <th>22RV1</th>\n",
       "      <td>CVCL_1045</td>\n",
       "      <td>BTO:0002999</td>\n",
       "    </tr>\n",
       "    <tr>\n",
       "      <th>23132-87</th>\n",
       "      <td>CVCL_1046</td>\n",
       "      <td></td>\n",
       "    </tr>\n",
       "    <tr>\n",
       "      <th>42-MG-BA</th>\n",
       "      <td>CVCL_1798</td>\n",
       "      <td></td>\n",
       "    </tr>\n",
       "    <tr>\n",
       "      <th>451Lu</th>\n",
       "      <td>CVCL_6357</td>\n",
       "      <td>BTO:0003710</td>\n",
       "    </tr>\n",
       "    <tr>\n",
       "      <th>5637</th>\n",
       "      <td>CVCL_0126</td>\n",
       "      <td>BTO:0003137</td>\n",
       "    </tr>\n",
       "    <tr>\n",
       "      <th>...</th>\n",
       "      <td>...</td>\n",
       "      <td>...</td>\n",
       "    </tr>\n",
       "    <tr>\n",
       "      <th>SAT</th>\n",
       "      <td>CVCL_3160</td>\n",
       "      <td></td>\n",
       "    </tr>\n",
       "    <tr>\n",
       "      <th>TALL-1</th>\n",
       "      <td>CVCL_1736</td>\n",
       "      <td>BTO:0003739</td>\n",
       "    </tr>\n",
       "    <tr>\n",
       "      <th>TK</th>\n",
       "      <td>CVCL_3216</td>\n",
       "      <td></td>\n",
       "    </tr>\n",
       "    <tr>\n",
       "      <th>TT</th>\n",
       "      <td>CVCL_1774</td>\n",
       "      <td>BTO:0003074</td>\n",
       "    </tr>\n",
       "    <tr>\n",
       "      <th>U-87-MG</th>\n",
       "      <td>CVCL_0022</td>\n",
       "      <td>BTO:0002036</td>\n",
       "    </tr>\n",
       "  </tbody>\n",
       "</table>\n",
       "<p>969 rows × 2 columns</p>\n",
       "</div>"
      ],
      "text/plain": [
       "               CVCL          BTO\n",
       "22RV1     CVCL_1045  BTO:0002999\n",
       "23132-87  CVCL_1046             \n",
       "42-MG-BA  CVCL_1798             \n",
       "451Lu     CVCL_6357  BTO:0003710\n",
       "5637      CVCL_0126  BTO:0003137\n",
       "...             ...          ...\n",
       "SAT       CVCL_3160             \n",
       "TALL-1    CVCL_1736  BTO:0003739\n",
       "TK        CVCL_3216             \n",
       "TT        CVCL_1774  BTO:0003074\n",
       "U-87-MG   CVCL_0022  BTO:0002036\n",
       "\n",
       "[969 rows x 2 columns]"
      ]
     },
     "execution_count": 38,
     "metadata": {},
     "output_type": "execute_result"
    }
   ],
   "source": [
    "cvcl_to_bto = celline_mappings.merge(btos_df, left_on='CVCL', right_index=True, how='left')\n",
    "cvcl_to_bto['BTO'] = cvcl_to_bto.BTO.transform(lambda x: '' if pd.isna(x) else x[0])\n",
    "cvcl_to_bto"
   ]
  },
  {
   "cell_type": "markdown",
   "id": "894a42d5-c79e-49ad-8495-6289ca7a9bfb",
   "metadata": {},
   "source": [
    "## Bringing viability, drug, and cell line mappings together"
   ]
  },
  {
   "cell_type": "code",
   "execution_count": 39,
   "id": "8f9ab543-6e7b-4f8b-b372-8f4ac1f1930c",
   "metadata": {},
   "outputs": [
    {
     "data": {
      "text/html": [
       "<div>\n",
       "<style scoped>\n",
       "    .dataframe tbody tr th:only-of-type {\n",
       "        vertical-align: middle;\n",
       "    }\n",
       "\n",
       "    .dataframe tbody tr th {\n",
       "        vertical-align: top;\n",
       "    }\n",
       "\n",
       "    .dataframe thead th {\n",
       "        text-align: right;\n",
       "    }\n",
       "</style>\n",
       "<table border=\"1\" class=\"dataframe\">\n",
       "  <thead>\n",
       "    <tr style=\"text-align: right;\">\n",
       "      <th></th>\n",
       "      <th>RESEARCH_PROJECT</th>\n",
       "      <th>BARCODE</th>\n",
       "      <th>SCAN_ID</th>\n",
       "      <th>DATE_CREATED</th>\n",
       "      <th>SCAN_DATE</th>\n",
       "      <th>CELL_ID</th>\n",
       "      <th>MASTER_CELL_ID</th>\n",
       "      <th>COSMIC_ID</th>\n",
       "      <th>CELL_LINE_NAME</th>\n",
       "      <th>SANGER_MODEL_ID</th>\n",
       "      <th>...</th>\n",
       "      <th>mindose</th>\n",
       "      <th>maxdose</th>\n",
       "      <th>repl</th>\n",
       "      <th>drugcellrep</th>\n",
       "      <th>replicate</th>\n",
       "      <th>nreplicates</th>\n",
       "      <th>CID</th>\n",
       "      <th>CVCL</th>\n",
       "      <th>BTO</th>\n",
       "      <th>CHEMBL</th>\n",
       "    </tr>\n",
       "  </thead>\n",
       "  <tbody>\n",
       "    <tr>\n",
       "      <th>0</th>\n",
       "      <td>GDSC_001-B</td>\n",
       "      <td>15150</td>\n",
       "      <td>14769</td>\n",
       "      <td>2016-05-08T23:00:00Z</td>\n",
       "      <td>2016-05-12T23:00:00Z</td>\n",
       "      <td>3399</td>\n",
       "      <td>1027</td>\n",
       "      <td>924100</td>\n",
       "      <td>22RV1</td>\n",
       "      <td>SIDM00499</td>\n",
       "      <td>...</td>\n",
       "      <td>0.000100</td>\n",
       "      <td>0.1</td>\n",
       "      <td>0</td>\n",
       "      <td>0</td>\n",
       "      <td>0</td>\n",
       "      <td>0</td>\n",
       "      <td>13342</td>\n",
       "      <td>CVCL_1045</td>\n",
       "      <td>BTO:0002999</td>\n",
       "      <td>CHEMBL159</td>\n",
       "    </tr>\n",
       "    <tr>\n",
       "      <th>1</th>\n",
       "      <td>GDSC_001-B</td>\n",
       "      <td>15150</td>\n",
       "      <td>14769</td>\n",
       "      <td>2016-05-08T23:00:00Z</td>\n",
       "      <td>2016-05-12T23:00:00Z</td>\n",
       "      <td>3399</td>\n",
       "      <td>1027</td>\n",
       "      <td>924100</td>\n",
       "      <td>22RV1</td>\n",
       "      <td>SIDM00499</td>\n",
       "      <td>...</td>\n",
       "      <td>0.000100</td>\n",
       "      <td>0.1</td>\n",
       "      <td>0</td>\n",
       "      <td>0</td>\n",
       "      <td>0</td>\n",
       "      <td>0</td>\n",
       "      <td>13342</td>\n",
       "      <td>CVCL_1045</td>\n",
       "      <td>BTO:0002999</td>\n",
       "      <td>CHEMBL159</td>\n",
       "    </tr>\n",
       "    <tr>\n",
       "      <th>2</th>\n",
       "      <td>GDSC_001-B</td>\n",
       "      <td>15150</td>\n",
       "      <td>14769</td>\n",
       "      <td>2016-05-08T23:00:00Z</td>\n",
       "      <td>2016-05-12T23:00:00Z</td>\n",
       "      <td>3399</td>\n",
       "      <td>1027</td>\n",
       "      <td>924100</td>\n",
       "      <td>22RV1</td>\n",
       "      <td>SIDM00499</td>\n",
       "      <td>...</td>\n",
       "      <td>0.000100</td>\n",
       "      <td>0.1</td>\n",
       "      <td>0</td>\n",
       "      <td>0</td>\n",
       "      <td>0</td>\n",
       "      <td>0</td>\n",
       "      <td>13342</td>\n",
       "      <td>CVCL_1045</td>\n",
       "      <td>BTO:0002999</td>\n",
       "      <td>CHEMBL159</td>\n",
       "    </tr>\n",
       "    <tr>\n",
       "      <th>3</th>\n",
       "      <td>GDSC_001-B</td>\n",
       "      <td>15150</td>\n",
       "      <td>14769</td>\n",
       "      <td>2016-05-08T23:00:00Z</td>\n",
       "      <td>2016-05-12T23:00:00Z</td>\n",
       "      <td>3399</td>\n",
       "      <td>1027</td>\n",
       "      <td>924100</td>\n",
       "      <td>22RV1</td>\n",
       "      <td>SIDM00499</td>\n",
       "      <td>...</td>\n",
       "      <td>0.000100</td>\n",
       "      <td>0.1</td>\n",
       "      <td>0</td>\n",
       "      <td>0</td>\n",
       "      <td>0</td>\n",
       "      <td>0</td>\n",
       "      <td>13342</td>\n",
       "      <td>CVCL_1045</td>\n",
       "      <td>BTO:0002999</td>\n",
       "      <td>CHEMBL159</td>\n",
       "    </tr>\n",
       "    <tr>\n",
       "      <th>4</th>\n",
       "      <td>GDSC_001-B</td>\n",
       "      <td>15150</td>\n",
       "      <td>14769</td>\n",
       "      <td>2016-05-08T23:00:00Z</td>\n",
       "      <td>2016-05-12T23:00:00Z</td>\n",
       "      <td>3399</td>\n",
       "      <td>1027</td>\n",
       "      <td>924100</td>\n",
       "      <td>22RV1</td>\n",
       "      <td>SIDM00499</td>\n",
       "      <td>...</td>\n",
       "      <td>0.000100</td>\n",
       "      <td>0.1</td>\n",
       "      <td>0</td>\n",
       "      <td>0</td>\n",
       "      <td>0</td>\n",
       "      <td>0</td>\n",
       "      <td>13342</td>\n",
       "      <td>CVCL_1045</td>\n",
       "      <td>BTO:0002999</td>\n",
       "      <td>CHEMBL159</td>\n",
       "    </tr>\n",
       "    <tr>\n",
       "      <th>...</th>\n",
       "      <td>...</td>\n",
       "      <td>...</td>\n",
       "      <td>...</td>\n",
       "      <td>...</td>\n",
       "      <td>...</td>\n",
       "      <td>...</td>\n",
       "      <td>...</td>\n",
       "      <td>...</td>\n",
       "      <td>...</td>\n",
       "      <td>...</td>\n",
       "      <td>...</td>\n",
       "      <td>...</td>\n",
       "      <td>...</td>\n",
       "      <td>...</td>\n",
       "      <td>...</td>\n",
       "      <td>...</td>\n",
       "      <td>...</td>\n",
       "      <td>...</td>\n",
       "      <td>...</td>\n",
       "      <td>...</td>\n",
       "      <td>...</td>\n",
       "    </tr>\n",
       "    <tr>\n",
       "      <th>2462323</th>\n",
       "      <td>GDSC_007-A</td>\n",
       "      <td>39103</td>\n",
       "      <td>38181</td>\n",
       "      <td>2018-05-14T23:00:00Z</td>\n",
       "      <td>2018-05-18T23:00:00Z</td>\n",
       "      <td>7115</td>\n",
       "      <td>861</td>\n",
       "      <td>971774</td>\n",
       "      <td>RH-18</td>\n",
       "      <td>SIDM00454</td>\n",
       "      <td>...</td>\n",
       "      <td>0.640337</td>\n",
       "      <td>640.0</td>\n",
       "      <td>0</td>\n",
       "      <td>0</td>\n",
       "      <td>0</td>\n",
       "      <td>0</td>\n",
       "      <td>124886</td>\n",
       "      <td>CVCL_1659</td>\n",
       "      <td>BTO:0005380</td>\n",
       "      <td>CHEMBL1543</td>\n",
       "    </tr>\n",
       "    <tr>\n",
       "      <th>2462324</th>\n",
       "      <td>GDSC_007-A</td>\n",
       "      <td>39103</td>\n",
       "      <td>38181</td>\n",
       "      <td>2018-05-14T23:00:00Z</td>\n",
       "      <td>2018-05-18T23:00:00Z</td>\n",
       "      <td>7115</td>\n",
       "      <td>861</td>\n",
       "      <td>971774</td>\n",
       "      <td>RH-18</td>\n",
       "      <td>SIDM00454</td>\n",
       "      <td>...</td>\n",
       "      <td>0.640337</td>\n",
       "      <td>640.0</td>\n",
       "      <td>0</td>\n",
       "      <td>0</td>\n",
       "      <td>0</td>\n",
       "      <td>0</td>\n",
       "      <td>124886</td>\n",
       "      <td>CVCL_1659</td>\n",
       "      <td>BTO:0005380</td>\n",
       "      <td>CHEMBL1543</td>\n",
       "    </tr>\n",
       "    <tr>\n",
       "      <th>2462325</th>\n",
       "      <td>GDSC_007-A</td>\n",
       "      <td>39103</td>\n",
       "      <td>38181</td>\n",
       "      <td>2018-05-14T23:00:00Z</td>\n",
       "      <td>2018-05-18T23:00:00Z</td>\n",
       "      <td>7115</td>\n",
       "      <td>861</td>\n",
       "      <td>971774</td>\n",
       "      <td>RH-18</td>\n",
       "      <td>SIDM00454</td>\n",
       "      <td>...</td>\n",
       "      <td>0.640337</td>\n",
       "      <td>640.0</td>\n",
       "      <td>0</td>\n",
       "      <td>0</td>\n",
       "      <td>0</td>\n",
       "      <td>0</td>\n",
       "      <td>124886</td>\n",
       "      <td>CVCL_1659</td>\n",
       "      <td>BTO:0005380</td>\n",
       "      <td>CHEMBL1543</td>\n",
       "    </tr>\n",
       "    <tr>\n",
       "      <th>2462326</th>\n",
       "      <td>GDSC_007-A</td>\n",
       "      <td>39103</td>\n",
       "      <td>38181</td>\n",
       "      <td>2018-05-14T23:00:00Z</td>\n",
       "      <td>2018-05-18T23:00:00Z</td>\n",
       "      <td>7115</td>\n",
       "      <td>861</td>\n",
       "      <td>971774</td>\n",
       "      <td>RH-18</td>\n",
       "      <td>SIDM00454</td>\n",
       "      <td>...</td>\n",
       "      <td>0.640337</td>\n",
       "      <td>640.0</td>\n",
       "      <td>0</td>\n",
       "      <td>0</td>\n",
       "      <td>0</td>\n",
       "      <td>0</td>\n",
       "      <td>124886</td>\n",
       "      <td>CVCL_1659</td>\n",
       "      <td>BTO:0005380</td>\n",
       "      <td>CHEMBL1543</td>\n",
       "    </tr>\n",
       "    <tr>\n",
       "      <th>2462327</th>\n",
       "      <td>GDSC_007-A</td>\n",
       "      <td>39103</td>\n",
       "      <td>38181</td>\n",
       "      <td>2018-05-14T23:00:00Z</td>\n",
       "      <td>2018-05-18T23:00:00Z</td>\n",
       "      <td>7115</td>\n",
       "      <td>861</td>\n",
       "      <td>971774</td>\n",
       "      <td>RH-18</td>\n",
       "      <td>SIDM00454</td>\n",
       "      <td>...</td>\n",
       "      <td>0.640337</td>\n",
       "      <td>640.0</td>\n",
       "      <td>0</td>\n",
       "      <td>0</td>\n",
       "      <td>0</td>\n",
       "      <td>0</td>\n",
       "      <td>124886</td>\n",
       "      <td>CVCL_1659</td>\n",
       "      <td>BTO:0005380</td>\n",
       "      <td>CHEMBL1543</td>\n",
       "    </tr>\n",
       "  </tbody>\n",
       "</table>\n",
       "<p>3166905 rows × 40 columns</p>\n",
       "</div>"
      ],
      "text/plain": [
       "        RESEARCH_PROJECT  BARCODE  SCAN_ID          DATE_CREATED  \\\n",
       "0             GDSC_001-B    15150    14769  2016-05-08T23:00:00Z   \n",
       "1             GDSC_001-B    15150    14769  2016-05-08T23:00:00Z   \n",
       "2             GDSC_001-B    15150    14769  2016-05-08T23:00:00Z   \n",
       "3             GDSC_001-B    15150    14769  2016-05-08T23:00:00Z   \n",
       "4             GDSC_001-B    15150    14769  2016-05-08T23:00:00Z   \n",
       "...                  ...      ...      ...                   ...   \n",
       "2462323       GDSC_007-A    39103    38181  2018-05-14T23:00:00Z   \n",
       "2462324       GDSC_007-A    39103    38181  2018-05-14T23:00:00Z   \n",
       "2462325       GDSC_007-A    39103    38181  2018-05-14T23:00:00Z   \n",
       "2462326       GDSC_007-A    39103    38181  2018-05-14T23:00:00Z   \n",
       "2462327       GDSC_007-A    39103    38181  2018-05-14T23:00:00Z   \n",
       "\n",
       "                    SCAN_DATE  CELL_ID  MASTER_CELL_ID  COSMIC_ID  \\\n",
       "0        2016-05-12T23:00:00Z     3399            1027     924100   \n",
       "1        2016-05-12T23:00:00Z     3399            1027     924100   \n",
       "2        2016-05-12T23:00:00Z     3399            1027     924100   \n",
       "3        2016-05-12T23:00:00Z     3399            1027     924100   \n",
       "4        2016-05-12T23:00:00Z     3399            1027     924100   \n",
       "...                       ...      ...             ...        ...   \n",
       "2462323  2018-05-18T23:00:00Z     7115             861     971774   \n",
       "2462324  2018-05-18T23:00:00Z     7115             861     971774   \n",
       "2462325  2018-05-18T23:00:00Z     7115             861     971774   \n",
       "2462326  2018-05-18T23:00:00Z     7115             861     971774   \n",
       "2462327  2018-05-18T23:00:00Z     7115             861     971774   \n",
       "\n",
       "        CELL_LINE_NAME SANGER_MODEL_ID  ...   mindose  maxdose repl  \\\n",
       "0                22RV1       SIDM00499  ...  0.000100      0.1    0   \n",
       "1                22RV1       SIDM00499  ...  0.000100      0.1    0   \n",
       "2                22RV1       SIDM00499  ...  0.000100      0.1    0   \n",
       "3                22RV1       SIDM00499  ...  0.000100      0.1    0   \n",
       "4                22RV1       SIDM00499  ...  0.000100      0.1    0   \n",
       "...                ...             ...  ...       ...      ...  ...   \n",
       "2462323          RH-18       SIDM00454  ...  0.640337    640.0    0   \n",
       "2462324          RH-18       SIDM00454  ...  0.640337    640.0    0   \n",
       "2462325          RH-18       SIDM00454  ...  0.640337    640.0    0   \n",
       "2462326          RH-18       SIDM00454  ...  0.640337    640.0    0   \n",
       "2462327          RH-18       SIDM00454  ...  0.640337    640.0    0   \n",
       "\n",
       "         drugcellrep  replicate nreplicates     CID       CVCL          BTO  \\\n",
       "0                  0          0           0   13342  CVCL_1045  BTO:0002999   \n",
       "1                  0          0           0   13342  CVCL_1045  BTO:0002999   \n",
       "2                  0          0           0   13342  CVCL_1045  BTO:0002999   \n",
       "3                  0          0           0   13342  CVCL_1045  BTO:0002999   \n",
       "4                  0          0           0   13342  CVCL_1045  BTO:0002999   \n",
       "...              ...        ...         ...     ...        ...          ...   \n",
       "2462323            0          0           0  124886  CVCL_1659  BTO:0005380   \n",
       "2462324            0          0           0  124886  CVCL_1659  BTO:0005380   \n",
       "2462325            0          0           0  124886  CVCL_1659  BTO:0005380   \n",
       "2462326            0          0           0  124886  CVCL_1659  BTO:0005380   \n",
       "2462327            0          0           0  124886  CVCL_1659  BTO:0005380   \n",
       "\n",
       "             CHEMBL  \n",
       "0         CHEMBL159  \n",
       "1         CHEMBL159  \n",
       "2         CHEMBL159  \n",
       "3         CHEMBL159  \n",
       "4         CHEMBL159  \n",
       "...             ...  \n",
       "2462323  CHEMBL1543  \n",
       "2462324  CHEMBL1543  \n",
       "2462325  CHEMBL1543  \n",
       "2462326  CHEMBL1543  \n",
       "2462327  CHEMBL1543  \n",
       "\n",
       "[3166905 rows x 40 columns]"
      ]
     },
     "execution_count": 39,
     "metadata": {},
     "output_type": "execute_result"
    }
   ],
   "source": [
    "full_df = formatted_gdsc2.merge(cids, left_on='DRUG_NAME', right_index=True).merge(cvcl_to_bto, left_on='CELL_LINE_NAME', right_index=True).merge(chembls, left_on=\"DRUG_NAME\", right_index=True, how='left')\n",
    "full_df"
   ]
  },
  {
   "cell_type": "markdown",
   "id": "88a236a4-b43d-42f2-b6a0-f70dc1c651ec",
   "metadata": {},
   "source": [
    "ensure Bleomycin is duplicated (because of having an additional entry (Bleomycin 50um))"
   ]
  },
  {
   "cell_type": "code",
   "execution_count": 40,
   "id": "cda92e80-4e54-4b6a-8879-218865ad3112",
   "metadata": {},
   "outputs": [
    {
     "data": {
      "text/plain": [
       "array(['Bleomycin (50 uM)', 'Bleomycin'], dtype=object)"
      ]
     },
     "execution_count": 40,
     "metadata": {},
     "output_type": "execute_result"
    }
   ],
   "source": [
    "full_df.query(\"DRUG_NAME.str.startswith('Bleo')\").DRUG_NAME.unique()"
   ]
  },
  {
   "cell_type": "code",
   "execution_count": 41,
   "id": "b06d57f7-26d2-475b-9a86-66662ec5cd7e",
   "metadata": {},
   "outputs": [
    {
     "data": {
      "text/plain": [
       "287"
      ]
     },
     "execution_count": 41,
     "metadata": {},
     "output_type": "execute_result"
    }
   ],
   "source": [
    "len(full_df.DRUG_NAME.unique())"
   ]
  },
  {
   "cell_type": "code",
   "execution_count": 42,
   "id": "5cca8742-2931-4a37-be18-3ee0ed3fe0f4",
   "metadata": {},
   "outputs": [
    {
     "data": {
      "text/plain": [
       "286"
      ]
     },
     "execution_count": 42,
     "metadata": {},
     "output_type": "execute_result"
    }
   ],
   "source": [
    "len(full_df.CID.unique())"
   ]
  },
  {
   "cell_type": "markdown",
   "id": "a558e747-85fb-4d40-a5f0-8fce78778f8c",
   "metadata": {},
   "source": [
    "ensure all cellline drug combinations start with only one maxdose"
   ]
  },
  {
   "cell_type": "code",
   "execution_count": 43,
   "id": "4acfcd8f-72c2-438e-a88d-f702a1b206c6",
   "metadata": {},
   "outputs": [
    {
     "data": {
      "text/plain": [
       "maxdose  mindose\n",
       "1        1          234436\n",
       "Name: count, dtype: int64"
      ]
     },
     "execution_count": 43,
     "metadata": {},
     "output_type": "execute_result"
    }
   ],
   "source": [
    "full_df.groupby([\"CELL_LINE_NAME\", \"DRUG_NAME\"])[[\"maxdose\", \"mindose\"]].nunique().value_counts()"
   ]
  },
  {
   "cell_type": "markdown",
   "id": "40fb0b82-839d-4f88-8938-ca7f4c776460",
   "metadata": {},
   "source": [
    "ensure there are no duplicates remaining that cause problems when pivoting the dataframe for curvecurator input creation"
   ]
  },
  {
   "cell_type": "code",
   "execution_count": 55,
   "id": "3b277cf2-3760-42de-b8a3-922da6effef4",
   "metadata": {},
   "outputs": [
    {
     "data": {
      "text/html": [
       "<div>\n",
       "<style scoped>\n",
       "    .dataframe tbody tr th:only-of-type {\n",
       "        vertical-align: middle;\n",
       "    }\n",
       "\n",
       "    .dataframe tbody tr th {\n",
       "        vertical-align: top;\n",
       "    }\n",
       "\n",
       "    .dataframe thead th {\n",
       "        text-align: right;\n",
       "    }\n",
       "</style>\n",
       "<table border=\"1\" class=\"dataframe\">\n",
       "  <thead>\n",
       "    <tr style=\"text-align: right;\">\n",
       "      <th></th>\n",
       "      <th>DRUG_NAME</th>\n",
       "      <th>CELL_LINE_NAME</th>\n",
       "      <th>rounddose</th>\n",
       "      <th>replicate</th>\n",
       "      <th>MASTER_CELL_ID</th>\n",
       "      <th>DRUG_ID</th>\n",
       "    </tr>\n",
       "  </thead>\n",
       "  <tbody>\n",
       "  </tbody>\n",
       "</table>\n",
       "</div>"
      ],
      "text/plain": [
       "Empty DataFrame\n",
       "Columns: [DRUG_NAME, CELL_LINE_NAME, rounddose, replicate, MASTER_CELL_ID, DRUG_ID]\n",
       "Index: []"
      ]
     },
     "execution_count": 55,
     "metadata": {},
     "output_type": "execute_result"
    }
   ],
   "source": [
    "full_df[full_df[[\"DRUG_NAME\", \"CELL_LINE_NAME\", \"rounddose\", \"replicate\"]].duplicated(keep=False)][[\"DRUG_NAME\", \"CELL_LINE_NAME\", \"rounddose\", \"replicate\", \"MASTER_CELL_ID\", \"DRUG_ID\"]]"
   ]
  },
  {
   "cell_type": "markdown",
   "id": "ee1dd5e8-99af-4197-b0c8-ca3d996a2bb3",
   "metadata": {},
   "source": [
    "fix Belomycin CID: add a suffix to differentiate CID"
   ]
  },
  {
   "cell_type": "code",
   "execution_count": 56,
   "id": "b60bef7e-ff18-4e54-85bd-f584a3b1dccc",
   "metadata": {},
   "outputs": [],
   "source": [
    "full_df.loc[full_df['DRUG_NAME'].str.endswith(\"50 uM)\"), \"CID\"] += '_50uM'"
   ]
  },
  {
   "cell_type": "markdown",
   "id": "374bd6e2-4868-4265-9dbc-92664a853958",
   "metadata": {},
   "source": [
    "rename columns for use in CurveCurator and save. Original dose is renamed to \"lib_dose\" to prevent duplication of column name."
   ]
  },
  {
   "cell_type": "code",
   "execution_count": 57,
   "id": "feeea273-674d-4a25-8658-0b0b32628c2c",
   "metadata": {},
   "outputs": [],
   "source": [
    "full_df.rename(columns={\"dose\": \"lib_dose\", \"rounddose\": \"dose\", \"normalized_intensity\": \"response\", \"CVCL\": \"sample\", \"CID\": \"drug\"}, inplace=True)\n",
    "full_df.to_csv(\"viabilities_processed.csv\", index=None)"
   ]
  },
  {
   "cell_type": "code",
   "execution_count": 2,
   "id": "0538313c-64f9-403b-b265-ff39b176527a",
   "metadata": {},
   "outputs": [],
   "source": [
    "preprocess(input_file=\"viabilities_processed.csv\", output_dir='curvecurator', dataset_name=\"GDSC2\", cores=200)"
   ]
  },
  {
   "cell_type": "markdown",
   "id": "e0cc09ce-3e68-4b93-ad30-bf69f663a4f1",
   "metadata": {},
   "source": [
    "# Prepare for DrEvalPy"
   ]
  },
  {
   "cell_type": "markdown",
   "id": "8a971cbf-cd45-4a81-b3b4-2ea50d60c1f5",
   "metadata": {},
   "source": [
    "## Run CurveCurator"
   ]
  },
  {
   "cell_type": "code",
   "execution_count": null,
   "id": "dc9e7b2b-0c89-4412-a042-bbc9c9a75060",
   "metadata": {},
   "outputs": [],
   "source": [
    "_exec_curvecurator(Path(\"curvecurator\"))"
   ]
  },
  {
   "cell_type": "code",
   "execution_count": 2,
   "id": "2d624516-e428-4063-ae32-4d0cddec9124",
   "metadata": {},
   "outputs": [],
   "source": [
    "postprocess(\"curvecurator\", dataset_name=\"GDSC2\")"
   ]
  },
  {
   "cell_type": "markdown",
   "id": "d0294612-cedd-4c22-af67-208593e16cf7",
   "metadata": {},
   "source": [
    "## Combine curvecurator output with original measures from publication"
   ]
  },
  {
   "cell_type": "code",
   "execution_count": 3,
   "id": "a5b72198-74e4-4600-b5a0-7cd9493a2878",
   "metadata": {},
   "outputs": [
    {
     "name": "stderr",
     "output_type": "stream",
     "text": [
      "/tmp/ipykernel_1374135/684903615.py:5: DtypeWarning: Columns (38) have mixed types. Specify dtype option on import or set low_memory=False.\n",
      "  mapping_df = pd.read_csv(\"viabilities_processed.csv\", converters={\"CELL_LINE_NAME\": str, \"DRUG_NAME\": str, \"sample\": str, \"drug\": str})[[\"CELL_LINE_NAME\", \"DRUG_NAME\", \"sample\", \"drug\"]].drop_duplicates()\n"
     ]
    },
    {
     "data": {
      "text/html": [
       "<div>\n",
       "<style scoped>\n",
       "    .dataframe tbody tr th:only-of-type {\n",
       "        vertical-align: middle;\n",
       "    }\n",
       "\n",
       "    .dataframe tbody tr th {\n",
       "        vertical-align: top;\n",
       "    }\n",
       "\n",
       "    .dataframe thead th {\n",
       "        text-align: right;\n",
       "    }\n",
       "</style>\n",
       "<table border=\"1\" class=\"dataframe\">\n",
       "  <thead>\n",
       "    <tr style=\"text-align: right;\">\n",
       "      <th></th>\n",
       "      <th>Name</th>\n",
       "      <th>SignalQuality</th>\n",
       "      <th>pEC50_curvecurator</th>\n",
       "      <th>Slope</th>\n",
       "      <th>Front</th>\n",
       "      <th>Back</th>\n",
       "      <th>FoldChange</th>\n",
       "      <th>AUC_curvecurator</th>\n",
       "      <th>RMSE</th>\n",
       "      <th>R2</th>\n",
       "      <th>...</th>\n",
       "      <th>RelevanceScore</th>\n",
       "      <th>Regulation</th>\n",
       "      <th>cell_line_id</th>\n",
       "      <th>drug_id</th>\n",
       "      <th>EC50_curvecurator</th>\n",
       "      <th>IC50_curvecurator</th>\n",
       "      <th>CELL_LINE_NAME</th>\n",
       "      <th>DRUG_NAME</th>\n",
       "      <th>sample</th>\n",
       "      <th>drug</th>\n",
       "    </tr>\n",
       "  </thead>\n",
       "  <tbody>\n",
       "    <tr>\n",
       "      <th>0</th>\n",
       "      <td>CVCL_0001|5352062</td>\n",
       "      <td>0.0</td>\n",
       "      <td>8.089522</td>\n",
       "      <td>10.000000</td>\n",
       "      <td>1.002152</td>\n",
       "      <td>0.000100</td>\n",
       "      <td>-3.142484</td>\n",
       "      <td>0.970510</td>\n",
       "      <td>0.083503</td>\n",
       "      <td>0.925361</td>\n",
       "      <td>...</td>\n",
       "      <td>2.039440</td>\n",
       "      <td>down</td>\n",
       "      <td>CVCL_0001</td>\n",
       "      <td>5352062</td>\n",
       "      <td>8.137252e-09</td>\n",
       "      <td>8.140911e-09</td>\n",
       "      <td>HEL</td>\n",
       "      <td>Romidepsin</td>\n",
       "      <td>CVCL_0001</td>\n",
       "      <td>5352062</td>\n",
       "    </tr>\n",
       "    <tr>\n",
       "      <th>1</th>\n",
       "      <td>CVCL_0002|36314</td>\n",
       "      <td>0.0</td>\n",
       "      <td>8.396003</td>\n",
       "      <td>10.000000</td>\n",
       "      <td>1.273513</td>\n",
       "      <td>0.081264</td>\n",
       "      <td>-3.618923</td>\n",
       "      <td>1.116121</td>\n",
       "      <td>0.127314</td>\n",
       "      <td>0.904100</td>\n",
       "      <td>...</td>\n",
       "      <td>1.903191</td>\n",
       "      <td>down</td>\n",
       "      <td>CVCL_0002</td>\n",
       "      <td>36314</td>\n",
       "      <td>4.017880e-09</td>\n",
       "      <td>4.272182e-09</td>\n",
       "      <td>HL-60</td>\n",
       "      <td>Paclitaxel</td>\n",
       "      <td>CVCL_0002</td>\n",
       "      <td>36314</td>\n",
       "    </tr>\n",
       "    <tr>\n",
       "      <th>2</th>\n",
       "      <td>CVCL_0002|5352062</td>\n",
       "      <td>0.0</td>\n",
       "      <td>8.691853</td>\n",
       "      <td>1.212055</td>\n",
       "      <td>1.027599</td>\n",
       "      <td>0.000100</td>\n",
       "      <td>-2.940780</td>\n",
       "      <td>0.774196</td>\n",
       "      <td>0.029062</td>\n",
       "      <td>0.992164</td>\n",
       "      <td>...</td>\n",
       "      <td>3.322912</td>\n",
       "      <td>down</td>\n",
       "      <td>CVCL_0002</td>\n",
       "      <td>5352062</td>\n",
       "      <td>2.033047e-09</td>\n",
       "      <td>2.125546e-09</td>\n",
       "      <td>HL-60</td>\n",
       "      <td>Romidepsin</td>\n",
       "      <td>CVCL_0002</td>\n",
       "      <td>5352062</td>\n",
       "    </tr>\n",
       "    <tr>\n",
       "      <th>3</th>\n",
       "      <td>CVCL_0004|36314</td>\n",
       "      <td>0.0</td>\n",
       "      <td>8.166454</td>\n",
       "      <td>2.553741</td>\n",
       "      <td>1.163487</td>\n",
       "      <td>0.358872</td>\n",
       "      <td>-0.789264</td>\n",
       "      <td>1.104288</td>\n",
       "      <td>0.099598</td>\n",
       "      <td>0.786507</td>\n",
       "      <td>...</td>\n",
       "      <td>0.751191</td>\n",
       "      <td>NaN</td>\n",
       "      <td>CVCL_0004</td>\n",
       "      <td>36314</td>\n",
       "      <td>6.816254e-09</td>\n",
       "      <td>1.249613e-08</td>\n",
       "      <td>K-562</td>\n",
       "      <td>Paclitaxel</td>\n",
       "      <td>CVCL_0004</td>\n",
       "      <td>36314</td>\n",
       "    </tr>\n",
       "    <tr>\n",
       "      <th>4</th>\n",
       "      <td>CVCL_0004|5352062</td>\n",
       "      <td>0.0</td>\n",
       "      <td>8.326453</td>\n",
       "      <td>2.605769</td>\n",
       "      <td>0.958683</td>\n",
       "      <td>0.000100</td>\n",
       "      <td>-3.075988</td>\n",
       "      <td>0.847337</td>\n",
       "      <td>0.027443</td>\n",
       "      <td>0.990385</td>\n",
       "      <td>...</td>\n",
       "      <td>3.265515</td>\n",
       "      <td>down</td>\n",
       "      <td>CVCL_0004</td>\n",
       "      <td>5352062</td>\n",
       "      <td>4.715712e-09</td>\n",
       "      <td>4.562531e-09</td>\n",
       "      <td>K-562</td>\n",
       "      <td>Romidepsin</td>\n",
       "      <td>CVCL_0004</td>\n",
       "      <td>5352062</td>\n",
       "    </tr>\n",
       "    <tr>\n",
       "      <th>...</th>\n",
       "      <td>...</td>\n",
       "      <td>...</td>\n",
       "      <td>...</td>\n",
       "      <td>...</td>\n",
       "      <td>...</td>\n",
       "      <td>...</td>\n",
       "      <td>...</td>\n",
       "      <td>...</td>\n",
       "      <td>...</td>\n",
       "      <td>...</td>\n",
       "      <td>...</td>\n",
       "      <td>...</td>\n",
       "      <td>...</td>\n",
       "      <td>...</td>\n",
       "      <td>...</td>\n",
       "      <td>...</td>\n",
       "      <td>...</td>\n",
       "      <td>...</td>\n",
       "      <td>...</td>\n",
       "      <td>...</td>\n",
       "      <td>...</td>\n",
       "    </tr>\n",
       "    <tr>\n",
       "      <th>234431</th>\n",
       "      <td>CVCL_1411|54679076</td>\n",
       "      <td>0.0</td>\n",
       "      <td>3.267237</td>\n",
       "      <td>10.000000</td>\n",
       "      <td>1.025703</td>\n",
       "      <td>0.883452</td>\n",
       "      <td>-0.178776</td>\n",
       "      <td>0.998755</td>\n",
       "      <td>0.072199</td>\n",
       "      <td>0.400090</td>\n",
       "      <td>...</td>\n",
       "      <td>0.010992</td>\n",
       "      <td>not</td>\n",
       "      <td>CVCL_1411</td>\n",
       "      <td>54679076</td>\n",
       "      <td>5.404588e-04</td>\n",
       "      <td>NaN</td>\n",
       "      <td>MHH-ES-1</td>\n",
       "      <td>ascorbate (vitamin C)</td>\n",
       "      <td>CVCL_1411</td>\n",
       "      <td>54679076</td>\n",
       "    </tr>\n",
       "    <tr>\n",
       "      <th>234432</th>\n",
       "      <td>CVCL_1640|12035</td>\n",
       "      <td>0.0</td>\n",
       "      <td>2.563178</td>\n",
       "      <td>10.000000</td>\n",
       "      <td>0.938010</td>\n",
       "      <td>0.005520</td>\n",
       "      <td>-0.153882</td>\n",
       "      <td>0.937431</td>\n",
       "      <td>0.079118</td>\n",
       "      <td>0.028969</td>\n",
       "      <td>...</td>\n",
       "      <td>-0.000000</td>\n",
       "      <td>not</td>\n",
       "      <td>CVCL_1640</td>\n",
       "      <td>12035</td>\n",
       "      <td>2.734150e-03</td>\n",
       "      <td>2.701194e-03</td>\n",
       "      <td>PC-14</td>\n",
       "      <td>N-acetyl cysteine</td>\n",
       "      <td>CVCL_1640</td>\n",
       "      <td>12035</td>\n",
       "    </tr>\n",
       "    <tr>\n",
       "      <th>234433</th>\n",
       "      <td>CVCL_1640|54679076</td>\n",
       "      <td>0.0</td>\n",
       "      <td>5.119383</td>\n",
       "      <td>0.615553</td>\n",
       "      <td>1.060569</td>\n",
       "      <td>0.939953</td>\n",
       "      <td>-0.083547</td>\n",
       "      <td>0.972687</td>\n",
       "      <td>0.086486</td>\n",
       "      <td>0.100900</td>\n",
       "      <td>...</td>\n",
       "      <td>-0.000000</td>\n",
       "      <td>not</td>\n",
       "      <td>CVCL_1640</td>\n",
       "      <td>54679076</td>\n",
       "      <td>7.596565e-06</td>\n",
       "      <td>NaN</td>\n",
       "      <td>PC-14</td>\n",
       "      <td>ascorbate (vitamin C)</td>\n",
       "      <td>CVCL_1640</td>\n",
       "      <td>54679076</td>\n",
       "    </tr>\n",
       "    <tr>\n",
       "      <th>234434</th>\n",
       "      <td>CVCL_ZA06|12035</td>\n",
       "      <td>0.0</td>\n",
       "      <td>5.409917</td>\n",
       "      <td>0.956485</td>\n",
       "      <td>1.028784</td>\n",
       "      <td>0.869934</td>\n",
       "      <td>-0.200352</td>\n",
       "      <td>0.895382</td>\n",
       "      <td>0.107171</td>\n",
       "      <td>0.111310</td>\n",
       "      <td>...</td>\n",
       "      <td>0.007039</td>\n",
       "      <td>NaN</td>\n",
       "      <td>CVCL_ZA06</td>\n",
       "      <td>12035</td>\n",
       "      <td>3.891192e-06</td>\n",
       "      <td>NaN</td>\n",
       "      <td>C32</td>\n",
       "      <td>N-acetyl cysteine</td>\n",
       "      <td>CVCL_ZA06</td>\n",
       "      <td>12035</td>\n",
       "    </tr>\n",
       "    <tr>\n",
       "      <th>234435</th>\n",
       "      <td>CVCL_0547|54679076</td>\n",
       "      <td>0.0</td>\n",
       "      <td>3.130130</td>\n",
       "      <td>10.000000</td>\n",
       "      <td>0.979639</td>\n",
       "      <td>0.677130</td>\n",
       "      <td>-0.562464</td>\n",
       "      <td>0.936159</td>\n",
       "      <td>0.130324</td>\n",
       "      <td>0.389459</td>\n",
       "      <td>...</td>\n",
       "      <td>0.860981</td>\n",
       "      <td>NaN</td>\n",
       "      <td>CVCL_0547</td>\n",
       "      <td>54679076</td>\n",
       "      <td>7.410877e-04</td>\n",
       "      <td>NaN</td>\n",
       "      <td>SW620</td>\n",
       "      <td>ascorbate (vitamin C)</td>\n",
       "      <td>CVCL_0547</td>\n",
       "      <td>54679076</td>\n",
       "    </tr>\n",
       "  </tbody>\n",
       "</table>\n",
       "<p>234436 rows × 25 columns</p>\n",
       "</div>"
      ],
      "text/plain": [
       "                      Name  SignalQuality  pEC50_curvecurator      Slope  \\\n",
       "0        CVCL_0001|5352062            0.0            8.089522  10.000000   \n",
       "1          CVCL_0002|36314            0.0            8.396003  10.000000   \n",
       "2        CVCL_0002|5352062            0.0            8.691853   1.212055   \n",
       "3          CVCL_0004|36314            0.0            8.166454   2.553741   \n",
       "4        CVCL_0004|5352062            0.0            8.326453   2.605769   \n",
       "...                    ...            ...                 ...        ...   \n",
       "234431  CVCL_1411|54679076            0.0            3.267237  10.000000   \n",
       "234432     CVCL_1640|12035            0.0            2.563178  10.000000   \n",
       "234433  CVCL_1640|54679076            0.0            5.119383   0.615553   \n",
       "234434     CVCL_ZA06|12035            0.0            5.409917   0.956485   \n",
       "234435  CVCL_0547|54679076            0.0            3.130130  10.000000   \n",
       "\n",
       "           Front      Back  FoldChange  AUC_curvecurator      RMSE        R2  \\\n",
       "0       1.002152  0.000100   -3.142484          0.970510  0.083503  0.925361   \n",
       "1       1.273513  0.081264   -3.618923          1.116121  0.127314  0.904100   \n",
       "2       1.027599  0.000100   -2.940780          0.774196  0.029062  0.992164   \n",
       "3       1.163487  0.358872   -0.789264          1.104288  0.099598  0.786507   \n",
       "4       0.958683  0.000100   -3.075988          0.847337  0.027443  0.990385   \n",
       "...          ...       ...         ...               ...       ...       ...   \n",
       "234431  1.025703  0.883452   -0.178776          0.998755  0.072199  0.400090   \n",
       "234432  0.938010  0.005520   -0.153882          0.937431  0.079118  0.028969   \n",
       "234433  1.060569  0.939953   -0.083547          0.972687  0.086486  0.100900   \n",
       "234434  1.028784  0.869934   -0.200352          0.895382  0.107171  0.111310   \n",
       "234435  0.979639  0.677130   -0.562464          0.936159  0.130324  0.389459   \n",
       "\n",
       "        ...  RelevanceScore  Regulation  cell_line_id   drug_id  \\\n",
       "0       ...        2.039440        down     CVCL_0001   5352062   \n",
       "1       ...        1.903191        down     CVCL_0002     36314   \n",
       "2       ...        3.322912        down     CVCL_0002   5352062   \n",
       "3       ...        0.751191         NaN     CVCL_0004     36314   \n",
       "4       ...        3.265515        down     CVCL_0004   5352062   \n",
       "...     ...             ...         ...           ...       ...   \n",
       "234431  ...        0.010992         not     CVCL_1411  54679076   \n",
       "234432  ...       -0.000000         not     CVCL_1640     12035   \n",
       "234433  ...       -0.000000         not     CVCL_1640  54679076   \n",
       "234434  ...        0.007039         NaN     CVCL_ZA06     12035   \n",
       "234435  ...        0.860981         NaN     CVCL_0547  54679076   \n",
       "\n",
       "        EC50_curvecurator  IC50_curvecurator CELL_LINE_NAME  \\\n",
       "0            8.137252e-09       8.140911e-09            HEL   \n",
       "1            4.017880e-09       4.272182e-09          HL-60   \n",
       "2            2.033047e-09       2.125546e-09          HL-60   \n",
       "3            6.816254e-09       1.249613e-08          K-562   \n",
       "4            4.715712e-09       4.562531e-09          K-562   \n",
       "...                   ...                ...            ...   \n",
       "234431       5.404588e-04                NaN       MHH-ES-1   \n",
       "234432       2.734150e-03       2.701194e-03          PC-14   \n",
       "234433       7.596565e-06                NaN          PC-14   \n",
       "234434       3.891192e-06                NaN            C32   \n",
       "234435       7.410877e-04                NaN          SW620   \n",
       "\n",
       "                    DRUG_NAME     sample      drug  \n",
       "0                  Romidepsin  CVCL_0001   5352062  \n",
       "1                  Paclitaxel  CVCL_0002     36314  \n",
       "2                  Romidepsin  CVCL_0002   5352062  \n",
       "3                  Paclitaxel  CVCL_0004     36314  \n",
       "4                  Romidepsin  CVCL_0004   5352062  \n",
       "...                       ...        ...       ...  \n",
       "234431  ascorbate (vitamin C)  CVCL_1411  54679076  \n",
       "234432      N-acetyl cysteine  CVCL_1640     12035  \n",
       "234433  ascorbate (vitamin C)  CVCL_1640  54679076  \n",
       "234434      N-acetyl cysteine  CVCL_ZA06     12035  \n",
       "234435  ascorbate (vitamin C)  CVCL_0547  54679076  \n",
       "\n",
       "[234436 rows x 25 columns]"
      ]
     },
     "execution_count": 3,
     "metadata": {},
     "output_type": "execute_result"
    }
   ],
   "source": [
    "# load the curvecurator output\n",
    "viability_df = pd.read_csv(\"curvecurator/GDSC2.csv\", converters={\"cell_line_id\": str, \"drug_id\": str})\n",
    "\n",
    "# load the processed viabilities from 00_preprocess_raw_for_curvecurator.ipynb\n",
    "mapping_df = pd.read_csv(\"viabilities_processed.csv\", converters={\"CELL_LINE_NAME\": str, \"DRUG_NAME\": str, \"sample\": str, \"drug\": str})[[\"CELL_LINE_NAME\", \"DRUG_NAME\", \"sample\", \"drug\"]].drop_duplicates()\n",
    "\n",
    "# merge based on cell_line_id, drug_id to get drug name and cell line name back\n",
    "viability_df = viability_df.merge(mapping_df, left_on=[\"cell_line_id\", \"drug_id\"], right_on=[\"sample\", \"drug\"])\n",
    "viability_df[\"DRUG_NAME\"] = viability_df[\"DRUG_NAME\"].str.strip()\n",
    "viability_df[\"CELL_LINE_NAME\"] = viability_df[\"CELL_LINE_NAME\"].str.strip()\n",
    "viability_df"
   ]
  },
  {
   "cell_type": "code",
   "execution_count": 39,
   "id": "7b3768fc-f793-4899-ae5c-6bc5941a28d2",
   "metadata": {},
   "outputs": [
    {
     "data": {
      "text/html": [
       "<div>\n",
       "<style scoped>\n",
       "    .dataframe tbody tr th:only-of-type {\n",
       "        vertical-align: middle;\n",
       "    }\n",
       "\n",
       "    .dataframe tbody tr th {\n",
       "        vertical-align: top;\n",
       "    }\n",
       "\n",
       "    .dataframe thead th {\n",
       "        text-align: right;\n",
       "    }\n",
       "</style>\n",
       "<table border=\"1\" class=\"dataframe\">\n",
       "  <thead>\n",
       "    <tr style=\"text-align: right;\">\n",
       "      <th></th>\n",
       "      <th>CELL_LINE_NAME</th>\n",
       "      <th>DRUG_NAME</th>\n",
       "      <th>LN_IC50</th>\n",
       "      <th>AUC</th>\n",
       "      <th>IC50</th>\n",
       "    </tr>\n",
       "  </thead>\n",
       "  <tbody>\n",
       "    <tr>\n",
       "      <th>0</th>\n",
       "      <td>22RV1</td>\n",
       "      <td>123138</td>\n",
       "      <td>[2.684483]</td>\n",
       "      <td>[0.950679]</td>\n",
       "      <td>[1.4650625048799548e-05]</td>\n",
       "    </tr>\n",
       "    <tr>\n",
       "      <th>1</th>\n",
       "      <td>22RV1</td>\n",
       "      <td>123829</td>\n",
       "      <td>[0.459784]</td>\n",
       "      <td>[0.779782]</td>\n",
       "      <td>[1.5837318619643403e-06]</td>\n",
       "    </tr>\n",
       "    <tr>\n",
       "      <th>2</th>\n",
       "      <td>22RV1</td>\n",
       "      <td>150412</td>\n",
       "      <td>[1.531967]</td>\n",
       "      <td>[0.85638]</td>\n",
       "      <td>[4.627269716038468e-06]</td>\n",
       "    </tr>\n",
       "    <tr>\n",
       "      <th>3</th>\n",
       "      <td>22RV1</td>\n",
       "      <td>5-Fluorouracil</td>\n",
       "      <td>[2.319585]</td>\n",
       "      <td>[0.751066]</td>\n",
       "      <td>[1.0171452277367867e-05]</td>\n",
       "    </tr>\n",
       "    <tr>\n",
       "      <th>4</th>\n",
       "      <td>22RV1</td>\n",
       "      <td>5-azacytidine</td>\n",
       "      <td>[3.192165]</td>\n",
       "      <td>[0.841318]</td>\n",
       "      <td>[2.4341068852272455e-05]</td>\n",
       "    </tr>\n",
       "    <tr>\n",
       "      <th>...</th>\n",
       "      <td>...</td>\n",
       "      <td>...</td>\n",
       "      <td>...</td>\n",
       "      <td>...</td>\n",
       "      <td>...</td>\n",
       "    </tr>\n",
       "    <tr>\n",
       "      <th>235743</th>\n",
       "      <td>no-11</td>\n",
       "      <td>Wee1 Inhibitor</td>\n",
       "      <td>[2.275658]</td>\n",
       "      <td>[0.831706]</td>\n",
       "      <td>[9.734322089651486e-06]</td>\n",
       "    </tr>\n",
       "    <tr>\n",
       "      <th>235744</th>\n",
       "      <td>no-11</td>\n",
       "      <td>Wnt-C59</td>\n",
       "      <td>[6.463324]</td>\n",
       "      <td>[0.979944]</td>\n",
       "      <td>[0.0006411888299217586]</td>\n",
       "    </tr>\n",
       "    <tr>\n",
       "      <th>235745</th>\n",
       "      <td>no-11</td>\n",
       "      <td>XAV939</td>\n",
       "      <td>[3.852742]</td>\n",
       "      <td>[0.942834]</td>\n",
       "      <td>[4.712209503271516e-05]</td>\n",
       "    </tr>\n",
       "    <tr>\n",
       "      <th>235746</th>\n",
       "      <td>no-11</td>\n",
       "      <td>YK-4-279</td>\n",
       "      <td>[4.530254]</td>\n",
       "      <td>[0.942365]</td>\n",
       "      <td>[9.278212474908563e-05]</td>\n",
       "    </tr>\n",
       "    <tr>\n",
       "      <th>235747</th>\n",
       "      <td>no-11</td>\n",
       "      <td>ZM447439</td>\n",
       "      <td>[4.367081]</td>\n",
       "      <td>[0.937268]</td>\n",
       "      <td>[7.88132397592593e-05]</td>\n",
       "    </tr>\n",
       "  </tbody>\n",
       "</table>\n",
       "<p>235748 rows × 5 columns</p>\n",
       "</div>"
      ],
      "text/plain": [
       "       CELL_LINE_NAME       DRUG_NAME     LN_IC50         AUC  \\\n",
       "0               22RV1          123138  [2.684483]  [0.950679]   \n",
       "1               22RV1          123829  [0.459784]  [0.779782]   \n",
       "2               22RV1          150412  [1.531967]   [0.85638]   \n",
       "3               22RV1  5-Fluorouracil  [2.319585]  [0.751066]   \n",
       "4               22RV1   5-azacytidine  [3.192165]  [0.841318]   \n",
       "...               ...             ...         ...         ...   \n",
       "235743          no-11  Wee1 Inhibitor  [2.275658]  [0.831706]   \n",
       "235744          no-11         Wnt-C59  [6.463324]  [0.979944]   \n",
       "235745          no-11          XAV939  [3.852742]  [0.942834]   \n",
       "235746          no-11        YK-4-279  [4.530254]  [0.942365]   \n",
       "235747          no-11        ZM447439  [4.367081]  [0.937268]   \n",
       "\n",
       "                            IC50  \n",
       "0       [1.4650625048799548e-05]  \n",
       "1       [1.5837318619643403e-06]  \n",
       "2        [4.627269716038468e-06]  \n",
       "3       [1.0171452277367867e-05]  \n",
       "4       [2.4341068852272455e-05]  \n",
       "...                          ...  \n",
       "235743   [9.734322089651486e-06]  \n",
       "235744   [0.0006411888299217586]  \n",
       "235745   [4.712209503271516e-05]  \n",
       "235746   [9.278212474908563e-05]  \n",
       "235747    [7.88132397592593e-05]  \n",
       "\n",
       "[235748 rows x 5 columns]"
      ]
     },
     "execution_count": 39,
     "metadata": {},
     "output_type": "execute_result"
    }
   ],
   "source": [
    "# load the original data\n",
    "orig_measures_df = pd.read_excel(\"raw/GDSC2_fitted_dose_response_24Jul22.xlsx\", converters={\"CELL_LINE_NAME\": str, \"DRUG_NAME\": str, \"LN_IC50\": float, \"AUC\": float})\n",
    "orig_measures_df[\"IC50\"] = np.exp(orig_measures_df[\"LN_IC50\"]) / 1e6  # original one is in µM, but we need it in M. \n",
    "orig_measures_df[\"DRUG_NAME\"] = orig_measures_df[\"DRUG_NAME\"].str.strip()\n",
    "orig_measures_df[\"CELL_LINE_NAME\"] = orig_measures_df[\"CELL_LINE_NAME\"].str.strip()\n",
    "\n",
    "\n",
    "# group based on CELL_LINE_NAME, DRUG_NAME, since the original data was sometimes fitted separately for some of the replicates\n",
    "orig_measures_df_agg = orig_measures_df.groupby([\"CELL_LINE_NAME\", \"DRUG_NAME\"], as_index=False).agg({\"LN_IC50\": list, \"AUC\": list, \"IC50\": list})\n",
    "orig_measures_df_agg"
   ]
  },
  {
   "cell_type": "code",
   "execution_count": 41,
   "id": "02c07759-3aa1-43dc-8549-cd1d51171fa2",
   "metadata": {},
   "outputs": [
    {
     "data": {
      "text/plain": [
       "LN_IC50\n",
       "1    229460\n",
       "2      6288\n",
       "Name: count, dtype: int64"
      ]
     },
     "execution_count": 41,
     "metadata": {},
     "output_type": "execute_result"
    }
   ],
   "source": [
    "# check how many duplicates exist\n",
    "orig_measures_df_agg[\"LN_IC50\"].str.len().value_counts()"
   ]
  },
  {
   "cell_type": "code",
   "execution_count": 42,
   "id": "2f712f51-88f2-4465-904a-7d49c826327d",
   "metadata": {},
   "outputs": [
    {
     "data": {
      "text/plain": [
       "<Axes: >"
      ]
     },
     "execution_count": 42,
     "metadata": {},
     "output_type": "execute_result"
    },
    {
     "data": {
      "image/png": "[encoded data removed]",
      "text/plain": [
       "<Figure size 640x480 with 1 Axes>"
      ]
     },
     "metadata": {},
     "output_type": "display_data"
    }
   ],
   "source": [
    "# check how well values agree with each other\n",
    "orig_measures_df_agg.query(\"LN_IC50.str.len()>1\")[\"LN_IC50\"].apply(lambda x: abs(x[1]-x[0])).hist(bins=100)"
   ]
  },
  {
   "cell_type": "code",
   "execution_count": 43,
   "id": "892d2a67-9812-4f73-b391-8545f491b851",
   "metadata": {},
   "outputs": [
    {
     "data": {
      "text/plain": [
       "<Axes: >"
      ]
     },
     "execution_count": 43,
     "metadata": {},
     "output_type": "execute_result"
    },
    {
     "data": {
      "image/png": "[encoded data removed]",
      "text/plain": [
       "<Figure size 640x480 with 1 Axes>"
      ]
     },
     "metadata": {},
     "output_type": "display_data"
    }
   ],
   "source": [
    "orig_measures_df_agg.query(\"AUC.str.len()>1\")[\"AUC\"].apply(lambda x: abs(x[1]-x[0])).hist(bins=100)"
   ]
  },
  {
   "cell_type": "code",
   "execution_count": 44,
   "id": "80f75673-b9d8-4d48-859a-b85c320ac1f9",
   "metadata": {},
   "outputs": [
    {
     "data": {
      "text/plain": [
       "<Axes: >"
      ]
     },
     "execution_count": 44,
     "metadata": {},
     "output_type": "execute_result"
    },
    {
     "data": {
      "image/png": "[encoded data removed]",
      "text/plain": [
       "<Figure size 640x480 with 1 Axes>"
      ]
     },
     "metadata": {},
     "output_type": "display_data"
    }
   ],
   "source": [
    "orig_measures_df_agg.query(\"IC50.str.len()>1\")[\"IC50\"].apply(lambda x: abs(x[1]-x[0])).hist(bins=100)"
   ]
  },
  {
   "cell_type": "code",
   "execution_count": 45,
   "id": "d53d6fed-7e50-402a-9653-c5da16cd69f2",
   "metadata": {},
   "outputs": [
    {
     "data": {
      "text/html": [
       "<div>\n",
       "<style scoped>\n",
       "    .dataframe tbody tr th:only-of-type {\n",
       "        vertical-align: middle;\n",
       "    }\n",
       "\n",
       "    .dataframe tbody tr th {\n",
       "        vertical-align: top;\n",
       "    }\n",
       "\n",
       "    .dataframe thead th {\n",
       "        text-align: right;\n",
       "    }\n",
       "</style>\n",
       "<table border=\"1\" class=\"dataframe\">\n",
       "  <thead>\n",
       "    <tr style=\"text-align: right;\">\n",
       "      <th></th>\n",
       "      <th>CELL_LINE_NAME</th>\n",
       "      <th>DRUG_NAME</th>\n",
       "      <th>LN_IC50</th>\n",
       "      <th>AUC</th>\n",
       "      <th>IC50</th>\n",
       "    </tr>\n",
       "  </thead>\n",
       "  <tbody>\n",
       "    <tr>\n",
       "      <th>0</th>\n",
       "      <td>22RV1</td>\n",
       "      <td>123138</td>\n",
       "      <td>2.684483</td>\n",
       "      <td>0.950679</td>\n",
       "      <td>0.000015</td>\n",
       "    </tr>\n",
       "    <tr>\n",
       "      <th>1</th>\n",
       "      <td>22RV1</td>\n",
       "      <td>123829</td>\n",
       "      <td>0.459784</td>\n",
       "      <td>0.779782</td>\n",
       "      <td>0.000002</td>\n",
       "    </tr>\n",
       "    <tr>\n",
       "      <th>2</th>\n",
       "      <td>22RV1</td>\n",
       "      <td>150412</td>\n",
       "      <td>1.531967</td>\n",
       "      <td>0.856380</td>\n",
       "      <td>0.000005</td>\n",
       "    </tr>\n",
       "    <tr>\n",
       "      <th>3</th>\n",
       "      <td>22RV1</td>\n",
       "      <td>5-Fluorouracil</td>\n",
       "      <td>2.319585</td>\n",
       "      <td>0.751066</td>\n",
       "      <td>0.000010</td>\n",
       "    </tr>\n",
       "    <tr>\n",
       "      <th>4</th>\n",
       "      <td>22RV1</td>\n",
       "      <td>5-azacytidine</td>\n",
       "      <td>3.192165</td>\n",
       "      <td>0.841318</td>\n",
       "      <td>0.000024</td>\n",
       "    </tr>\n",
       "    <tr>\n",
       "      <th>...</th>\n",
       "      <td>...</td>\n",
       "      <td>...</td>\n",
       "      <td>...</td>\n",
       "      <td>...</td>\n",
       "      <td>...</td>\n",
       "    </tr>\n",
       "    <tr>\n",
       "      <th>235743</th>\n",
       "      <td>no-11</td>\n",
       "      <td>Wee1 Inhibitor</td>\n",
       "      <td>2.275658</td>\n",
       "      <td>0.831706</td>\n",
       "      <td>0.000010</td>\n",
       "    </tr>\n",
       "    <tr>\n",
       "      <th>235744</th>\n",
       "      <td>no-11</td>\n",
       "      <td>Wnt-C59</td>\n",
       "      <td>6.463324</td>\n",
       "      <td>0.979944</td>\n",
       "      <td>0.000641</td>\n",
       "    </tr>\n",
       "    <tr>\n",
       "      <th>235745</th>\n",
       "      <td>no-11</td>\n",
       "      <td>XAV939</td>\n",
       "      <td>3.852742</td>\n",
       "      <td>0.942834</td>\n",
       "      <td>0.000047</td>\n",
       "    </tr>\n",
       "    <tr>\n",
       "      <th>235746</th>\n",
       "      <td>no-11</td>\n",
       "      <td>YK-4-279</td>\n",
       "      <td>4.530254</td>\n",
       "      <td>0.942365</td>\n",
       "      <td>0.000093</td>\n",
       "    </tr>\n",
       "    <tr>\n",
       "      <th>235747</th>\n",
       "      <td>no-11</td>\n",
       "      <td>ZM447439</td>\n",
       "      <td>4.367081</td>\n",
       "      <td>0.937268</td>\n",
       "      <td>0.000079</td>\n",
       "    </tr>\n",
       "  </tbody>\n",
       "</table>\n",
       "<p>235748 rows × 5 columns</p>\n",
       "</div>"
      ],
      "text/plain": [
       "       CELL_LINE_NAME       DRUG_NAME   LN_IC50       AUC      IC50\n",
       "0               22RV1          123138  2.684483  0.950679  0.000015\n",
       "1               22RV1          123829  0.459784  0.779782  0.000002\n",
       "2               22RV1          150412  1.531967  0.856380  0.000005\n",
       "3               22RV1  5-Fluorouracil  2.319585  0.751066  0.000010\n",
       "4               22RV1   5-azacytidine  3.192165  0.841318  0.000024\n",
       "...               ...             ...       ...       ...       ...\n",
       "235743          no-11  Wee1 Inhibitor  2.275658  0.831706  0.000010\n",
       "235744          no-11         Wnt-C59  6.463324  0.979944  0.000641\n",
       "235745          no-11          XAV939  3.852742  0.942834  0.000047\n",
       "235746          no-11        YK-4-279  4.530254  0.942365  0.000093\n",
       "235747          no-11        ZM447439  4.367081  0.937268  0.000079\n",
       "\n",
       "[235748 rows x 5 columns]"
      ]
     },
     "execution_count": 45,
     "metadata": {},
     "output_type": "execute_result"
    }
   ],
   "source": [
    "# aggregate mean\n",
    "orig_measures_df = orig_measures_df.groupby([\"CELL_LINE_NAME\", \"DRUG_NAME\"], as_index=False).agg({\"LN_IC50\": 'mean', \"AUC\": 'mean', \"IC50\": 'mean'})\n",
    "orig_measures_df"
   ]
  },
  {
   "cell_type": "code",
   "execution_count": 46,
   "id": "4878ec2e-5f64-451d-ad67-ed35ca73aedd",
   "metadata": {},
   "outputs": [
    {
     "data": {
      "text/html": [
       "<div>\n",
       "<style scoped>\n",
       "    .dataframe tbody tr th:only-of-type {\n",
       "        vertical-align: middle;\n",
       "    }\n",
       "\n",
       "    .dataframe tbody tr th {\n",
       "        vertical-align: top;\n",
       "    }\n",
       "\n",
       "    .dataframe thead th {\n",
       "        text-align: right;\n",
       "    }\n",
       "</style>\n",
       "<table border=\"1\" class=\"dataframe\">\n",
       "  <thead>\n",
       "    <tr style=\"text-align: right;\">\n",
       "      <th></th>\n",
       "      <th>Name</th>\n",
       "      <th>SignalQuality</th>\n",
       "      <th>pEC50_curvecurator</th>\n",
       "      <th>Slope</th>\n",
       "      <th>Front</th>\n",
       "      <th>Back</th>\n",
       "      <th>FoldChange</th>\n",
       "      <th>AUC_curvecurator</th>\n",
       "      <th>RMSE</th>\n",
       "      <th>R2</th>\n",
       "      <th>...</th>\n",
       "      <th>drug_id</th>\n",
       "      <th>EC50_curvecurator</th>\n",
       "      <th>IC50_curvecurator</th>\n",
       "      <th>CELL_LINE_NAME</th>\n",
       "      <th>DRUG_NAME</th>\n",
       "      <th>sample</th>\n",
       "      <th>drug</th>\n",
       "      <th>LN_IC50</th>\n",
       "      <th>AUC</th>\n",
       "      <th>IC50</th>\n",
       "    </tr>\n",
       "  </thead>\n",
       "  <tbody>\n",
       "    <tr>\n",
       "      <th>0</th>\n",
       "      <td>CVCL_0001|5352062</td>\n",
       "      <td>0.0</td>\n",
       "      <td>8.089522</td>\n",
       "      <td>10.000000</td>\n",
       "      <td>1.002152</td>\n",
       "      <td>0.000100</td>\n",
       "      <td>-3.142484</td>\n",
       "      <td>0.970510</td>\n",
       "      <td>0.083503</td>\n",
       "      <td>0.925361</td>\n",
       "      <td>...</td>\n",
       "      <td>5352062</td>\n",
       "      <td>8.137252e-09</td>\n",
       "      <td>8.140911e-09</td>\n",
       "      <td>HEL</td>\n",
       "      <td>Romidepsin</td>\n",
       "      <td>CVCL_0001</td>\n",
       "      <td>5352062</td>\n",
       "      <td>-5.027970</td>\n",
       "      <td>0.892340</td>\n",
       "      <td>6.552098e-09</td>\n",
       "    </tr>\n",
       "    <tr>\n",
       "      <th>1</th>\n",
       "      <td>CVCL_0002|36314</td>\n",
       "      <td>0.0</td>\n",
       "      <td>8.396003</td>\n",
       "      <td>10.000000</td>\n",
       "      <td>1.273513</td>\n",
       "      <td>0.081264</td>\n",
       "      <td>-3.618923</td>\n",
       "      <td>1.116121</td>\n",
       "      <td>0.127314</td>\n",
       "      <td>0.904100</td>\n",
       "      <td>...</td>\n",
       "      <td>36314</td>\n",
       "      <td>4.017880e-09</td>\n",
       "      <td>4.272182e-09</td>\n",
       "      <td>HL-60</td>\n",
       "      <td>Paclitaxel</td>\n",
       "      <td>CVCL_0002</td>\n",
       "      <td>36314</td>\n",
       "      <td>-4.906881</td>\n",
       "      <td>0.875756</td>\n",
       "      <td>7.395519e-09</td>\n",
       "    </tr>\n",
       "    <tr>\n",
       "      <th>2</th>\n",
       "      <td>CVCL_0002|5352062</td>\n",
       "      <td>0.0</td>\n",
       "      <td>8.691853</td>\n",
       "      <td>1.212055</td>\n",
       "      <td>1.027599</td>\n",
       "      <td>0.000100</td>\n",
       "      <td>-2.940780</td>\n",
       "      <td>0.774196</td>\n",
       "      <td>0.029062</td>\n",
       "      <td>0.992164</td>\n",
       "      <td>...</td>\n",
       "      <td>5352062</td>\n",
       "      <td>2.033047e-09</td>\n",
       "      <td>2.125546e-09</td>\n",
       "      <td>HL-60</td>\n",
       "      <td>Romidepsin</td>\n",
       "      <td>CVCL_0002</td>\n",
       "      <td>5352062</td>\n",
       "      <td>-6.094023</td>\n",
       "      <td>0.755228</td>\n",
       "      <td>2.256313e-09</td>\n",
       "    </tr>\n",
       "    <tr>\n",
       "      <th>3</th>\n",
       "      <td>CVCL_0004|36314</td>\n",
       "      <td>0.0</td>\n",
       "      <td>8.166454</td>\n",
       "      <td>2.553741</td>\n",
       "      <td>1.163487</td>\n",
       "      <td>0.358872</td>\n",
       "      <td>-0.789264</td>\n",
       "      <td>1.104288</td>\n",
       "      <td>0.099598</td>\n",
       "      <td>0.786507</td>\n",
       "      <td>...</td>\n",
       "      <td>36314</td>\n",
       "      <td>6.816254e-09</td>\n",
       "      <td>1.249613e-08</td>\n",
       "      <td>K-562</td>\n",
       "      <td>Paclitaxel</td>\n",
       "      <td>CVCL_0004</td>\n",
       "      <td>36314</td>\n",
       "      <td>-3.609454</td>\n",
       "      <td>0.940273</td>\n",
       "      <td>2.706662e-08</td>\n",
       "    </tr>\n",
       "    <tr>\n",
       "      <th>4</th>\n",
       "      <td>CVCL_0004|5352062</td>\n",
       "      <td>0.0</td>\n",
       "      <td>8.326453</td>\n",
       "      <td>2.605769</td>\n",
       "      <td>0.958683</td>\n",
       "      <td>0.000100</td>\n",
       "      <td>-3.075988</td>\n",
       "      <td>0.847337</td>\n",
       "      <td>0.027443</td>\n",
       "      <td>0.990385</td>\n",
       "      <td>...</td>\n",
       "      <td>5352062</td>\n",
       "      <td>4.715712e-09</td>\n",
       "      <td>4.562531e-09</td>\n",
       "      <td>K-562</td>\n",
       "      <td>Romidepsin</td>\n",
       "      <td>CVCL_0004</td>\n",
       "      <td>5352062</td>\n",
       "      <td>-5.305005</td>\n",
       "      <td>0.825615</td>\n",
       "      <td>4.966673e-09</td>\n",
       "    </tr>\n",
       "    <tr>\n",
       "      <th>...</th>\n",
       "      <td>...</td>\n",
       "      <td>...</td>\n",
       "      <td>...</td>\n",
       "      <td>...</td>\n",
       "      <td>...</td>\n",
       "      <td>...</td>\n",
       "      <td>...</td>\n",
       "      <td>...</td>\n",
       "      <td>...</td>\n",
       "      <td>...</td>\n",
       "      <td>...</td>\n",
       "      <td>...</td>\n",
       "      <td>...</td>\n",
       "      <td>...</td>\n",
       "      <td>...</td>\n",
       "      <td>...</td>\n",
       "      <td>...</td>\n",
       "      <td>...</td>\n",
       "      <td>...</td>\n",
       "      <td>...</td>\n",
       "      <td>...</td>\n",
       "    </tr>\n",
       "    <tr>\n",
       "      <th>237548</th>\n",
       "      <td>NaN</td>\n",
       "      <td>NaN</td>\n",
       "      <td>NaN</td>\n",
       "      <td>NaN</td>\n",
       "      <td>NaN</td>\n",
       "      <td>NaN</td>\n",
       "      <td>NaN</td>\n",
       "      <td>NaN</td>\n",
       "      <td>NaN</td>\n",
       "      <td>NaN</td>\n",
       "      <td>...</td>\n",
       "      <td>NaN</td>\n",
       "      <td>NaN</td>\n",
       "      <td>NaN</td>\n",
       "      <td>huH-1</td>\n",
       "      <td>MG-132</td>\n",
       "      <td>NaN</td>\n",
       "      <td>NaN</td>\n",
       "      <td>0.626409</td>\n",
       "      <td>0.733394</td>\n",
       "      <td>1.870880e-06</td>\n",
       "    </tr>\n",
       "    <tr>\n",
       "      <th>237549</th>\n",
       "      <td>NaN</td>\n",
       "      <td>NaN</td>\n",
       "      <td>NaN</td>\n",
       "      <td>NaN</td>\n",
       "      <td>NaN</td>\n",
       "      <td>NaN</td>\n",
       "      <td>NaN</td>\n",
       "      <td>NaN</td>\n",
       "      <td>NaN</td>\n",
       "      <td>NaN</td>\n",
       "      <td>...</td>\n",
       "      <td>NaN</td>\n",
       "      <td>NaN</td>\n",
       "      <td>NaN</td>\n",
       "      <td>huH-1</td>\n",
       "      <td>PD0325901</td>\n",
       "      <td>NaN</td>\n",
       "      <td>NaN</td>\n",
       "      <td>2.883794</td>\n",
       "      <td>0.952753</td>\n",
       "      <td>1.788199e-05</td>\n",
       "    </tr>\n",
       "    <tr>\n",
       "      <th>237550</th>\n",
       "      <td>NaN</td>\n",
       "      <td>NaN</td>\n",
       "      <td>NaN</td>\n",
       "      <td>NaN</td>\n",
       "      <td>NaN</td>\n",
       "      <td>NaN</td>\n",
       "      <td>NaN</td>\n",
       "      <td>NaN</td>\n",
       "      <td>NaN</td>\n",
       "      <td>NaN</td>\n",
       "      <td>...</td>\n",
       "      <td>NaN</td>\n",
       "      <td>NaN</td>\n",
       "      <td>NaN</td>\n",
       "      <td>huH-1</td>\n",
       "      <td>Staurosporine</td>\n",
       "      <td>NaN</td>\n",
       "      <td>NaN</td>\n",
       "      <td>-1.815391</td>\n",
       "      <td>0.532632</td>\n",
       "      <td>1.627743e-07</td>\n",
       "    </tr>\n",
       "    <tr>\n",
       "      <th>237551</th>\n",
       "      <td>NaN</td>\n",
       "      <td>NaN</td>\n",
       "      <td>NaN</td>\n",
       "      <td>NaN</td>\n",
       "      <td>NaN</td>\n",
       "      <td>NaN</td>\n",
       "      <td>NaN</td>\n",
       "      <td>NaN</td>\n",
       "      <td>NaN</td>\n",
       "      <td>NaN</td>\n",
       "      <td>...</td>\n",
       "      <td>NaN</td>\n",
       "      <td>NaN</td>\n",
       "      <td>NaN</td>\n",
       "      <td>no-10</td>\n",
       "      <td>Staurosporine</td>\n",
       "      <td>NaN</td>\n",
       "      <td>NaN</td>\n",
       "      <td>-2.590771</td>\n",
       "      <td>0.431330</td>\n",
       "      <td>7.496222e-08</td>\n",
       "    </tr>\n",
       "    <tr>\n",
       "      <th>237552</th>\n",
       "      <td>NaN</td>\n",
       "      <td>NaN</td>\n",
       "      <td>NaN</td>\n",
       "      <td>NaN</td>\n",
       "      <td>NaN</td>\n",
       "      <td>NaN</td>\n",
       "      <td>NaN</td>\n",
       "      <td>NaN</td>\n",
       "      <td>NaN</td>\n",
       "      <td>NaN</td>\n",
       "      <td>...</td>\n",
       "      <td>NaN</td>\n",
       "      <td>NaN</td>\n",
       "      <td>NaN</td>\n",
       "      <td>no-11</td>\n",
       "      <td>Staurosporine</td>\n",
       "      <td>NaN</td>\n",
       "      <td>NaN</td>\n",
       "      <td>-1.823346</td>\n",
       "      <td>0.531030</td>\n",
       "      <td>1.614845e-07</td>\n",
       "    </tr>\n",
       "  </tbody>\n",
       "</table>\n",
       "<p>237553 rows × 28 columns</p>\n",
       "</div>"
      ],
      "text/plain": [
       "                     Name  SignalQuality  pEC50_curvecurator      Slope  \\\n",
       "0       CVCL_0001|5352062            0.0            8.089522  10.000000   \n",
       "1         CVCL_0002|36314            0.0            8.396003  10.000000   \n",
       "2       CVCL_0002|5352062            0.0            8.691853   1.212055   \n",
       "3         CVCL_0004|36314            0.0            8.166454   2.553741   \n",
       "4       CVCL_0004|5352062            0.0            8.326453   2.605769   \n",
       "...                   ...            ...                 ...        ...   \n",
       "237548                NaN            NaN                 NaN        NaN   \n",
       "237549                NaN            NaN                 NaN        NaN   \n",
       "237550                NaN            NaN                 NaN        NaN   \n",
       "237551                NaN            NaN                 NaN        NaN   \n",
       "237552                NaN            NaN                 NaN        NaN   \n",
       "\n",
       "           Front      Back  FoldChange  AUC_curvecurator      RMSE        R2  \\\n",
       "0       1.002152  0.000100   -3.142484          0.970510  0.083503  0.925361   \n",
       "1       1.273513  0.081264   -3.618923          1.116121  0.127314  0.904100   \n",
       "2       1.027599  0.000100   -2.940780          0.774196  0.029062  0.992164   \n",
       "3       1.163487  0.358872   -0.789264          1.104288  0.099598  0.786507   \n",
       "4       0.958683  0.000100   -3.075988          0.847337  0.027443  0.990385   \n",
       "...          ...       ...         ...               ...       ...       ...   \n",
       "237548       NaN       NaN         NaN               NaN       NaN       NaN   \n",
       "237549       NaN       NaN         NaN               NaN       NaN       NaN   \n",
       "237550       NaN       NaN         NaN               NaN       NaN       NaN   \n",
       "237551       NaN       NaN         NaN               NaN       NaN       NaN   \n",
       "237552       NaN       NaN         NaN               NaN       NaN       NaN   \n",
       "\n",
       "        ...  drug_id  EC50_curvecurator  IC50_curvecurator  CELL_LINE_NAME  \\\n",
       "0       ...  5352062       8.137252e-09       8.140911e-09             HEL   \n",
       "1       ...    36314       4.017880e-09       4.272182e-09           HL-60   \n",
       "2       ...  5352062       2.033047e-09       2.125546e-09           HL-60   \n",
       "3       ...    36314       6.816254e-09       1.249613e-08           K-562   \n",
       "4       ...  5352062       4.715712e-09       4.562531e-09           K-562   \n",
       "...     ...      ...                ...                ...             ...   \n",
       "237548  ...      NaN                NaN                NaN           huH-1   \n",
       "237549  ...      NaN                NaN                NaN           huH-1   \n",
       "237550  ...      NaN                NaN                NaN           huH-1   \n",
       "237551  ...      NaN                NaN                NaN           no-10   \n",
       "237552  ...      NaN                NaN                NaN           no-11   \n",
       "\n",
       "            DRUG_NAME     sample     drug   LN_IC50       AUC          IC50  \n",
       "0          Romidepsin  CVCL_0001  5352062 -5.027970  0.892340  6.552098e-09  \n",
       "1          Paclitaxel  CVCL_0002    36314 -4.906881  0.875756  7.395519e-09  \n",
       "2          Romidepsin  CVCL_0002  5352062 -6.094023  0.755228  2.256313e-09  \n",
       "3          Paclitaxel  CVCL_0004    36314 -3.609454  0.940273  2.706662e-08  \n",
       "4          Romidepsin  CVCL_0004  5352062 -5.305005  0.825615  4.966673e-09  \n",
       "...               ...        ...      ...       ...       ...           ...  \n",
       "237548         MG-132        NaN      NaN  0.626409  0.733394  1.870880e-06  \n",
       "237549      PD0325901        NaN      NaN  2.883794  0.952753  1.788199e-05  \n",
       "237550  Staurosporine        NaN      NaN -1.815391  0.532632  1.627743e-07  \n",
       "237551  Staurosporine        NaN      NaN -2.590771  0.431330  7.496222e-08  \n",
       "237552  Staurosporine        NaN      NaN -1.823346  0.531030  1.614845e-07  \n",
       "\n",
       "[237553 rows x 28 columns]"
      ]
     },
     "execution_count": 46,
     "metadata": {},
     "output_type": "execute_result"
    }
   ],
   "source": [
    "# merge curvecurator and original fits\n",
    "mapped_response_df = viability_df.merge(orig_measures_df, on=[\"DRUG_NAME\", \"CELL_LINE_NAME\"], how='outer')\n",
    "mapped_response_df"
   ]
  },
  {
   "cell_type": "code",
   "execution_count": 55,
   "id": "a47ba56b-75e4-435f-b6b1-5ef3e47b3892",
   "metadata": {},
   "outputs": [
    {
     "data": {
      "image/png": "[encoded data removed]",
      "text/plain": [
       "<Figure size 640x480 with 1 Axes>"
      ]
     },
     "metadata": {},
     "output_type": "display_data"
    }
   ],
   "source": [
    "sns.scatterplot(mapped_response_df, x=\"IC50_curvecurator\", y=\"IC50\", s=1)\n",
    "plt.xlim(1e-9,1e-0)\n",
    "plt.ylim(1e-9,1e-0)\n",
    "\n",
    "plt.xscale('log')\n",
    "plt.yscale('log')"
   ]
  },
  {
   "cell_type": "code",
   "execution_count": 48,
   "id": "342e9306-bcfc-4b76-b424-0fe2308228d0",
   "metadata": {},
   "outputs": [
    {
     "data": {
      "text/html": [
       "<div>\n",
       "<style scoped>\n",
       "    .dataframe tbody tr th:only-of-type {\n",
       "        vertical-align: middle;\n",
       "    }\n",
       "\n",
       "    .dataframe tbody tr th {\n",
       "        vertical-align: top;\n",
       "    }\n",
       "\n",
       "    .dataframe thead th {\n",
       "        text-align: right;\n",
       "    }\n",
       "</style>\n",
       "<table border=\"1\" class=\"dataframe\">\n",
       "  <thead>\n",
       "    <tr style=\"text-align: right;\">\n",
       "      <th></th>\n",
       "      <th>Name</th>\n",
       "      <th>SignalQuality</th>\n",
       "      <th>pEC50_curvecurator</th>\n",
       "      <th>Slope</th>\n",
       "      <th>Front</th>\n",
       "      <th>Back</th>\n",
       "      <th>FoldChange</th>\n",
       "      <th>AUC_curvecurator</th>\n",
       "      <th>RMSE</th>\n",
       "      <th>R2</th>\n",
       "      <th>...</th>\n",
       "      <th>drug_id</th>\n",
       "      <th>EC50_curvecurator</th>\n",
       "      <th>IC50_curvecurator</th>\n",
       "      <th>CELL_LINE_NAME</th>\n",
       "      <th>DRUG_NAME</th>\n",
       "      <th>sample</th>\n",
       "      <th>drug</th>\n",
       "      <th>LN_IC50</th>\n",
       "      <th>AUC</th>\n",
       "      <th>IC50</th>\n",
       "    </tr>\n",
       "  </thead>\n",
       "  <tbody>\n",
       "    <tr>\n",
       "      <th>0</th>\n",
       "      <td>CVCL_0001|5352062</td>\n",
       "      <td>0.0</td>\n",
       "      <td>8.089522</td>\n",
       "      <td>10.000000</td>\n",
       "      <td>1.002152</td>\n",
       "      <td>0.000100</td>\n",
       "      <td>-3.142484</td>\n",
       "      <td>0.970510</td>\n",
       "      <td>0.083503</td>\n",
       "      <td>0.925361</td>\n",
       "      <td>...</td>\n",
       "      <td>5352062</td>\n",
       "      <td>8.137252e-09</td>\n",
       "      <td>8.140911e-09</td>\n",
       "      <td>HEL</td>\n",
       "      <td>Romidepsin</td>\n",
       "      <td>CVCL_0001</td>\n",
       "      <td>5352062</td>\n",
       "      <td>-5.027970</td>\n",
       "      <td>0.892340</td>\n",
       "      <td>6.552098e-09</td>\n",
       "    </tr>\n",
       "    <tr>\n",
       "      <th>1</th>\n",
       "      <td>CVCL_0002|36314</td>\n",
       "      <td>0.0</td>\n",
       "      <td>8.396003</td>\n",
       "      <td>10.000000</td>\n",
       "      <td>1.273513</td>\n",
       "      <td>0.081264</td>\n",
       "      <td>-3.618923</td>\n",
       "      <td>1.116121</td>\n",
       "      <td>0.127314</td>\n",
       "      <td>0.904100</td>\n",
       "      <td>...</td>\n",
       "      <td>36314</td>\n",
       "      <td>4.017880e-09</td>\n",
       "      <td>4.272182e-09</td>\n",
       "      <td>HL-60</td>\n",
       "      <td>Paclitaxel</td>\n",
       "      <td>CVCL_0002</td>\n",
       "      <td>36314</td>\n",
       "      <td>-4.906881</td>\n",
       "      <td>0.875756</td>\n",
       "      <td>7.395519e-09</td>\n",
       "    </tr>\n",
       "    <tr>\n",
       "      <th>2</th>\n",
       "      <td>CVCL_0002|5352062</td>\n",
       "      <td>0.0</td>\n",
       "      <td>8.691853</td>\n",
       "      <td>1.212055</td>\n",
       "      <td>1.027599</td>\n",
       "      <td>0.000100</td>\n",
       "      <td>-2.940780</td>\n",
       "      <td>0.774196</td>\n",
       "      <td>0.029062</td>\n",
       "      <td>0.992164</td>\n",
       "      <td>...</td>\n",
       "      <td>5352062</td>\n",
       "      <td>2.033047e-09</td>\n",
       "      <td>2.125546e-09</td>\n",
       "      <td>HL-60</td>\n",
       "      <td>Romidepsin</td>\n",
       "      <td>CVCL_0002</td>\n",
       "      <td>5352062</td>\n",
       "      <td>-6.094023</td>\n",
       "      <td>0.755228</td>\n",
       "      <td>2.256313e-09</td>\n",
       "    </tr>\n",
       "    <tr>\n",
       "      <th>3</th>\n",
       "      <td>CVCL_0004|36314</td>\n",
       "      <td>0.0</td>\n",
       "      <td>8.166454</td>\n",
       "      <td>2.553741</td>\n",
       "      <td>1.163487</td>\n",
       "      <td>0.358872</td>\n",
       "      <td>-0.789264</td>\n",
       "      <td>1.104288</td>\n",
       "      <td>0.099598</td>\n",
       "      <td>0.786507</td>\n",
       "      <td>...</td>\n",
       "      <td>36314</td>\n",
       "      <td>6.816254e-09</td>\n",
       "      <td>1.249613e-08</td>\n",
       "      <td>K-562</td>\n",
       "      <td>Paclitaxel</td>\n",
       "      <td>CVCL_0004</td>\n",
       "      <td>36314</td>\n",
       "      <td>-3.609454</td>\n",
       "      <td>0.940273</td>\n",
       "      <td>2.706662e-08</td>\n",
       "    </tr>\n",
       "    <tr>\n",
       "      <th>4</th>\n",
       "      <td>CVCL_0004|5352062</td>\n",
       "      <td>0.0</td>\n",
       "      <td>8.326453</td>\n",
       "      <td>2.605769</td>\n",
       "      <td>0.958683</td>\n",
       "      <td>0.000100</td>\n",
       "      <td>-3.075988</td>\n",
       "      <td>0.847337</td>\n",
       "      <td>0.027443</td>\n",
       "      <td>0.990385</td>\n",
       "      <td>...</td>\n",
       "      <td>5352062</td>\n",
       "      <td>4.715712e-09</td>\n",
       "      <td>4.562531e-09</td>\n",
       "      <td>K-562</td>\n",
       "      <td>Romidepsin</td>\n",
       "      <td>CVCL_0004</td>\n",
       "      <td>5352062</td>\n",
       "      <td>-5.305005</td>\n",
       "      <td>0.825615</td>\n",
       "      <td>4.966673e-09</td>\n",
       "    </tr>\n",
       "    <tr>\n",
       "      <th>...</th>\n",
       "      <td>...</td>\n",
       "      <td>...</td>\n",
       "      <td>...</td>\n",
       "      <td>...</td>\n",
       "      <td>...</td>\n",
       "      <td>...</td>\n",
       "      <td>...</td>\n",
       "      <td>...</td>\n",
       "      <td>...</td>\n",
       "      <td>...</td>\n",
       "      <td>...</td>\n",
       "      <td>...</td>\n",
       "      <td>...</td>\n",
       "      <td>...</td>\n",
       "      <td>...</td>\n",
       "      <td>...</td>\n",
       "      <td>...</td>\n",
       "      <td>...</td>\n",
       "      <td>...</td>\n",
       "      <td>...</td>\n",
       "      <td>...</td>\n",
       "    </tr>\n",
       "    <tr>\n",
       "      <th>234385</th>\n",
       "      <td>CVCL_1453|54679076</td>\n",
       "      <td>0.0</td>\n",
       "      <td>2.094073</td>\n",
       "      <td>1.749019</td>\n",
       "      <td>1.013029</td>\n",
       "      <td>0.000100</td>\n",
       "      <td>-0.102331</td>\n",
       "      <td>1.005996</td>\n",
       "      <td>0.045457</td>\n",
       "      <td>0.264695</td>\n",
       "      <td>...</td>\n",
       "      <td>54679076</td>\n",
       "      <td>8.052425e-03</td>\n",
       "      <td>8.172672e-03</td>\n",
       "      <td>NCI-H1048</td>\n",
       "      <td>ascorbate (vitamin C)</td>\n",
       "      <td>CVCL_1453</td>\n",
       "      <td>54679076</td>\n",
       "      <td>10.378807</td>\n",
       "      <td>0.983739</td>\n",
       "      <td>3.217056e-02</td>\n",
       "    </tr>\n",
       "    <tr>\n",
       "      <th>234388</th>\n",
       "      <td>CVCL_1562|54679076</td>\n",
       "      <td>0.0</td>\n",
       "      <td>3.100117</td>\n",
       "      <td>10.000000</td>\n",
       "      <td>0.999431</td>\n",
       "      <td>0.325960</td>\n",
       "      <td>-1.616943</td>\n",
       "      <td>0.909370</td>\n",
       "      <td>0.115032</td>\n",
       "      <td>0.795120</td>\n",
       "      <td>...</td>\n",
       "      <td>54679076</td>\n",
       "      <td>7.941137e-04</td>\n",
       "      <td>8.823997e-04</td>\n",
       "      <td>NCI-H446</td>\n",
       "      <td>ascorbate (vitamin C)</td>\n",
       "      <td>CVCL_1562</td>\n",
       "      <td>54679076</td>\n",
       "      <td>7.661307</td>\n",
       "      <td>0.884285</td>\n",
       "      <td>2.124532e-03</td>\n",
       "    </tr>\n",
       "    <tr>\n",
       "      <th>234391</th>\n",
       "      <td>CVCL_1600|54679076</td>\n",
       "      <td>0.0</td>\n",
       "      <td>2.702890</td>\n",
       "      <td>10.000000</td>\n",
       "      <td>1.141790</td>\n",
       "      <td>0.000100</td>\n",
       "      <td>-0.875144</td>\n",
       "      <td>1.129571</td>\n",
       "      <td>0.188481</td>\n",
       "      <td>0.536550</td>\n",
       "      <td>...</td>\n",
       "      <td>54679076</td>\n",
       "      <td>1.982029e-03</td>\n",
       "      <td>2.032174e-03</td>\n",
       "      <td>NCI-H929</td>\n",
       "      <td>ascorbate (vitamin C)</td>\n",
       "      <td>CVCL_1600</td>\n",
       "      <td>54679076</td>\n",
       "      <td>8.181905</td>\n",
       "      <td>0.934908</td>\n",
       "      <td>3.575660e-03</td>\n",
       "    </tr>\n",
       "    <tr>\n",
       "      <th>234421</th>\n",
       "      <td>CVCL_1760|54679076</td>\n",
       "      <td>0.0</td>\n",
       "      <td>1.393937</td>\n",
       "      <td>0.549277</td>\n",
       "      <td>1.025575</td>\n",
       "      <td>0.000100</td>\n",
       "      <td>-0.216857</td>\n",
       "      <td>0.979281</td>\n",
       "      <td>0.127940</td>\n",
       "      <td>0.153814</td>\n",
       "      <td>...</td>\n",
       "      <td>54679076</td>\n",
       "      <td>4.037044e-02</td>\n",
       "      <td>4.422453e-02</td>\n",
       "      <td>TE-10</td>\n",
       "      <td>ascorbate (vitamin C)</td>\n",
       "      <td>CVCL_1760</td>\n",
       "      <td>54679076</td>\n",
       "      <td>9.380476</td>\n",
       "      <td>0.965462</td>\n",
       "      <td>1.185466e-02</td>\n",
       "    </tr>\n",
       "    <tr>\n",
       "      <th>234432</th>\n",
       "      <td>CVCL_1640|12035</td>\n",
       "      <td>0.0</td>\n",
       "      <td>2.563178</td>\n",
       "      <td>10.000000</td>\n",
       "      <td>0.938010</td>\n",
       "      <td>0.005520</td>\n",
       "      <td>-0.153882</td>\n",
       "      <td>0.937431</td>\n",
       "      <td>0.079118</td>\n",
       "      <td>0.028969</td>\n",
       "      <td>...</td>\n",
       "      <td>12035</td>\n",
       "      <td>2.734150e-03</td>\n",
       "      <td>2.701194e-03</td>\n",
       "      <td>PC-14</td>\n",
       "      <td>N-acetyl cysteine</td>\n",
       "      <td>CVCL_1640</td>\n",
       "      <td>12035</td>\n",
       "      <td>10.319507</td>\n",
       "      <td>0.971241</td>\n",
       "      <td>3.031831e-02</td>\n",
       "    </tr>\n",
       "  </tbody>\n",
       "</table>\n",
       "<p>94527 rows × 28 columns</p>\n",
       "</div>"
      ],
      "text/plain": [
       "                      Name  SignalQuality  pEC50_curvecurator      Slope  \\\n",
       "0        CVCL_0001|5352062            0.0            8.089522  10.000000   \n",
       "1          CVCL_0002|36314            0.0            8.396003  10.000000   \n",
       "2        CVCL_0002|5352062            0.0            8.691853   1.212055   \n",
       "3          CVCL_0004|36314            0.0            8.166454   2.553741   \n",
       "4        CVCL_0004|5352062            0.0            8.326453   2.605769   \n",
       "...                    ...            ...                 ...        ...   \n",
       "234385  CVCL_1453|54679076            0.0            2.094073   1.749019   \n",
       "234388  CVCL_1562|54679076            0.0            3.100117  10.000000   \n",
       "234391  CVCL_1600|54679076            0.0            2.702890  10.000000   \n",
       "234421  CVCL_1760|54679076            0.0            1.393937   0.549277   \n",
       "234432     CVCL_1640|12035            0.0            2.563178  10.000000   \n",
       "\n",
       "           Front      Back  FoldChange  AUC_curvecurator      RMSE        R2  \\\n",
       "0       1.002152  0.000100   -3.142484          0.970510  0.083503  0.925361   \n",
       "1       1.273513  0.081264   -3.618923          1.116121  0.127314  0.904100   \n",
       "2       1.027599  0.000100   -2.940780          0.774196  0.029062  0.992164   \n",
       "3       1.163487  0.358872   -0.789264          1.104288  0.099598  0.786507   \n",
       "4       0.958683  0.000100   -3.075988          0.847337  0.027443  0.990385   \n",
       "...          ...       ...         ...               ...       ...       ...   \n",
       "234385  1.013029  0.000100   -0.102331          1.005996  0.045457  0.264695   \n",
       "234388  0.999431  0.325960   -1.616943          0.909370  0.115032  0.795120   \n",
       "234391  1.141790  0.000100   -0.875144          1.129571  0.188481  0.536550   \n",
       "234421  1.025575  0.000100   -0.216857          0.979281  0.127940  0.153814   \n",
       "234432  0.938010  0.005520   -0.153882          0.937431  0.079118  0.028969   \n",
       "\n",
       "        ...   drug_id  EC50_curvecurator  IC50_curvecurator  CELL_LINE_NAME  \\\n",
       "0       ...   5352062       8.137252e-09       8.140911e-09             HEL   \n",
       "1       ...     36314       4.017880e-09       4.272182e-09           HL-60   \n",
       "2       ...   5352062       2.033047e-09       2.125546e-09           HL-60   \n",
       "3       ...     36314       6.816254e-09       1.249613e-08           K-562   \n",
       "4       ...   5352062       4.715712e-09       4.562531e-09           K-562   \n",
       "...     ...       ...                ...                ...             ...   \n",
       "234385  ...  54679076       8.052425e-03       8.172672e-03       NCI-H1048   \n",
       "234388  ...  54679076       7.941137e-04       8.823997e-04        NCI-H446   \n",
       "234391  ...  54679076       1.982029e-03       2.032174e-03        NCI-H929   \n",
       "234421  ...  54679076       4.037044e-02       4.422453e-02           TE-10   \n",
       "234432  ...     12035       2.734150e-03       2.701194e-03           PC-14   \n",
       "\n",
       "                    DRUG_NAME     sample      drug    LN_IC50       AUC  \\\n",
       "0                  Romidepsin  CVCL_0001   5352062  -5.027970  0.892340   \n",
       "1                  Paclitaxel  CVCL_0002     36314  -4.906881  0.875756   \n",
       "2                  Romidepsin  CVCL_0002   5352062  -6.094023  0.755228   \n",
       "3                  Paclitaxel  CVCL_0004     36314  -3.609454  0.940273   \n",
       "4                  Romidepsin  CVCL_0004   5352062  -5.305005  0.825615   \n",
       "...                       ...        ...       ...        ...       ...   \n",
       "234385  ascorbate (vitamin C)  CVCL_1453  54679076  10.378807  0.983739   \n",
       "234388  ascorbate (vitamin C)  CVCL_1562  54679076   7.661307  0.884285   \n",
       "234391  ascorbate (vitamin C)  CVCL_1600  54679076   8.181905  0.934908   \n",
       "234421  ascorbate (vitamin C)  CVCL_1760  54679076   9.380476  0.965462   \n",
       "234432      N-acetyl cysteine  CVCL_1640     12035  10.319507  0.971241   \n",
       "\n",
       "                IC50  \n",
       "0       6.552098e-09  \n",
       "1       7.395519e-09  \n",
       "2       2.256313e-09  \n",
       "3       2.706662e-08  \n",
       "4       4.966673e-09  \n",
       "...              ...  \n",
       "234385  3.217056e-02  \n",
       "234388  2.124532e-03  \n",
       "234391  3.575660e-03  \n",
       "234421  1.185466e-02  \n",
       "234432  3.031831e-02  \n",
       "\n",
       "[94527 rows x 28 columns]"
      ]
     },
     "execution_count": 48,
     "metadata": {},
     "output_type": "execute_result"
    }
   ],
   "source": [
    "mapped_response_df.query(\"IC50_curvecurator<0.1\")"
   ]
  },
  {
   "cell_type": "code",
   "execution_count": 58,
   "id": "eff02974-fee9-4b2f-bf2a-0f56807f1d13",
   "metadata": {},
   "outputs": [],
   "source": [
    "mapped_response_df.to_csv(\"GDSC2_for_drevalpy.csv\")"
   ]
  },
  {
   "cell_type": "markdown",
   "source": [
    "## Final tweaks\n",
    "- Kick out rows where CurveCurator failed\n",
    "- Change the following cell line IDs: \n",
    "    - C32: CVCL_ZA06 -> CVCL_1097\n",
    "    - RH-1: CVCL_C355 -> CVCL_1658 (EW-8)\n",
    "    - check out unmapped cell lines \n",
    "- Set EC50s outside the measured range to NaN\n",
    "- Set IC50s outside 10*max/10**-1 min measured range to NaN\n",
    "- Add min/max dosages to the dataframe"
   ],
   "metadata": {
    "collapsed": false
   },
   "id": "9febc69f9eb7f343"
  },
  {
   "cell_type": "code",
   "execution_count": 2,
   "outputs": [
    {
     "name": "stderr",
     "output_type": "stream",
     "text": [
      "/var/folders/3x/f8j9tddj7flfxt9zx1gkws1m0000gn/T/ipykernel_50562/4181334685.py:1: DtypeWarning: Columns (19,25) have mixed types. Specify dtype option on import or set low_memory=False.\n",
      "  mapped_response_df = pd.read_csv(\"GDSC2_for_drevalpy.csv\")\n"
     ]
    },
    {
     "data": {
      "text/plain": "       Name  SignalQuality  pEC50_curvecurator  Slope  Front  Back  \\\n234436  NaN            NaN                 NaN    NaN    NaN   NaN   \n234437  NaN            NaN                 NaN    NaN    NaN   NaN   \n234438  NaN            NaN                 NaN    NaN    NaN   NaN   \n234439  NaN            NaN                 NaN    NaN    NaN   NaN   \n234440  NaN            NaN                 NaN    NaN    NaN   NaN   \n...     ...            ...                 ...    ...    ...   ...   \n237548  NaN            NaN                 NaN    NaN    NaN   NaN   \n237549  NaN            NaN                 NaN    NaN    NaN   NaN   \n237550  NaN            NaN                 NaN    NaN    NaN   NaN   \n237551  NaN            NaN                 NaN    NaN    NaN   NaN   \n237552  NaN            NaN                 NaN    NaN    NaN   NaN   \n\n        FoldChange  AUC_curvecurator  RMSE  R2  ...  drug_id  \\\n234436         NaN               NaN   NaN NaN  ...      NaN   \n234437         NaN               NaN   NaN NaN  ...      NaN   \n234438         NaN               NaN   NaN NaN  ...      NaN   \n234439         NaN               NaN   NaN NaN  ...      NaN   \n234440         NaN               NaN   NaN NaN  ...      NaN   \n...            ...               ...   ...  ..  ...      ...   \n237548         NaN               NaN   NaN NaN  ...      NaN   \n237549         NaN               NaN   NaN NaN  ...      NaN   \n237550         NaN               NaN   NaN NaN  ...      NaN   \n237551         NaN               NaN   NaN NaN  ...      NaN   \n237552         NaN               NaN   NaN NaN  ...      NaN   \n\n        EC50_curvecurator  IC50_curvecurator  CELL_LINE_NAME      DRUG_NAME  \\\n234436                NaN                NaN           22RV1   Camptothecin   \n234437                NaN                NaN           22RV1         MG-132   \n234438                NaN                NaN           22RV1      PD0325901   \n234439                NaN                NaN           22RV1  Staurosporine   \n234440                NaN                NaN        23132-87   Camptothecin   \n...                   ...                ...             ...            ...   \n237548                NaN                NaN           huH-1         MG-132   \n237549                NaN                NaN           huH-1      PD0325901   \n237550                NaN                NaN           huH-1  Staurosporine   \n237551                NaN                NaN           no-10  Staurosporine   \n237552                NaN                NaN           no-11  Staurosporine   \n\n        sample drug   LN_IC50       AUC          IC50  \n234436     NaN  NaN -2.902460  0.782936  5.488803e-08  \n234437     NaN  NaN -1.597174  0.475067  2.024679e-07  \n234438     NaN  NaN  1.264776  0.886073  3.542299e-06  \n234439     NaN  NaN -2.509790  0.449227  8.128531e-08  \n234440     NaN  NaN -2.756992  0.835947  6.348244e-08  \n...        ...  ...       ...       ...           ...  \n237548     NaN  NaN  0.626409  0.733394  1.870880e-06  \n237549     NaN  NaN  2.883794  0.952753  1.788199e-05  \n237550     NaN  NaN -1.815391  0.532632  1.627743e-07  \n237551     NaN  NaN -2.590771  0.431330  7.496222e-08  \n237552     NaN  NaN -1.823346  0.531030  1.614845e-07  \n\n[3117 rows x 28 columns]",
      "text/html": "<div>\n<style scoped>\n    .dataframe tbody tr th:only-of-type {\n        vertical-align: middle;\n    }\n\n    .dataframe tbody tr th {\n        vertical-align: top;\n    }\n\n    .dataframe thead th {\n        text-align: right;\n    }\n</style>\n<table border=\"1\" class=\"dataframe\">\n  <thead>\n    <tr style=\"text-align: right;\">\n      <th></th>\n      <th>Name</th>\n      <th>SignalQuality</th>\n      <th>pEC50_curvecurator</th>\n      <th>Slope</th>\n      <th>Front</th>\n      <th>Back</th>\n      <th>FoldChange</th>\n      <th>AUC_curvecurator</th>\n      <th>RMSE</th>\n      <th>R2</th>\n      <th>...</th>\n      <th>drug_id</th>\n      <th>EC50_curvecurator</th>\n      <th>IC50_curvecurator</th>\n      <th>CELL_LINE_NAME</th>\n      <th>DRUG_NAME</th>\n      <th>sample</th>\n      <th>drug</th>\n      <th>LN_IC50</th>\n      <th>AUC</th>\n      <th>IC50</th>\n    </tr>\n  </thead>\n  <tbody>\n    <tr>\n      <th>234436</th>\n      <td>NaN</td>\n      <td>NaN</td>\n      <td>NaN</td>\n      <td>NaN</td>\n      <td>NaN</td>\n      <td>NaN</td>\n      <td>NaN</td>\n      <td>NaN</td>\n      <td>NaN</td>\n      <td>NaN</td>\n      <td>...</td>\n      <td>NaN</td>\n      <td>NaN</td>\n      <td>NaN</td>\n      <td>22RV1</td>\n      <td>Camptothecin</td>\n      <td>NaN</td>\n      <td>NaN</td>\n      <td>-2.902460</td>\n      <td>0.782936</td>\n      <td>5.488803e-08</td>\n    </tr>\n    <tr>\n      <th>234437</th>\n      <td>NaN</td>\n      <td>NaN</td>\n      <td>NaN</td>\n      <td>NaN</td>\n      <td>NaN</td>\n      <td>NaN</td>\n      <td>NaN</td>\n      <td>NaN</td>\n      <td>NaN</td>\n      <td>NaN</td>\n      <td>...</td>\n      <td>NaN</td>\n      <td>NaN</td>\n      <td>NaN</td>\n      <td>22RV1</td>\n      <td>MG-132</td>\n      <td>NaN</td>\n      <td>NaN</td>\n      <td>-1.597174</td>\n      <td>0.475067</td>\n      <td>2.024679e-07</td>\n    </tr>\n    <tr>\n      <th>234438</th>\n      <td>NaN</td>\n      <td>NaN</td>\n      <td>NaN</td>\n      <td>NaN</td>\n      <td>NaN</td>\n      <td>NaN</td>\n      <td>NaN</td>\n      <td>NaN</td>\n      <td>NaN</td>\n      <td>NaN</td>\n      <td>...</td>\n      <td>NaN</td>\n      <td>NaN</td>\n      <td>NaN</td>\n      <td>22RV1</td>\n      <td>PD0325901</td>\n      <td>NaN</td>\n      <td>NaN</td>\n      <td>1.264776</td>\n      <td>0.886073</td>\n      <td>3.542299e-06</td>\n    </tr>\n    <tr>\n      <th>234439</th>\n      <td>NaN</td>\n      <td>NaN</td>\n      <td>NaN</td>\n      <td>NaN</td>\n      <td>NaN</td>\n      <td>NaN</td>\n      <td>NaN</td>\n      <td>NaN</td>\n      <td>NaN</td>\n      <td>NaN</td>\n      <td>...</td>\n      <td>NaN</td>\n      <td>NaN</td>\n      <td>NaN</td>\n      <td>22RV1</td>\n      <td>Staurosporine</td>\n      <td>NaN</td>\n      <td>NaN</td>\n      <td>-2.509790</td>\n      <td>0.449227</td>\n      <td>8.128531e-08</td>\n    </tr>\n    <tr>\n      <th>234440</th>\n      <td>NaN</td>\n      <td>NaN</td>\n      <td>NaN</td>\n      <td>NaN</td>\n      <td>NaN</td>\n      <td>NaN</td>\n      <td>NaN</td>\n      <td>NaN</td>\n      <td>NaN</td>\n      <td>NaN</td>\n      <td>...</td>\n      <td>NaN</td>\n      <td>NaN</td>\n      <td>NaN</td>\n      <td>23132-87</td>\n      <td>Camptothecin</td>\n      <td>NaN</td>\n      <td>NaN</td>\n      <td>-2.756992</td>\n      <td>0.835947</td>\n      <td>6.348244e-08</td>\n    </tr>\n    <tr>\n      <th>...</th>\n      <td>...</td>\n      <td>...</td>\n      <td>...</td>\n      <td>...</td>\n      <td>...</td>\n      <td>...</td>\n      <td>...</td>\n      <td>...</td>\n      <td>...</td>\n      <td>...</td>\n      <td>...</td>\n      <td>...</td>\n      <td>...</td>\n      <td>...</td>\n      <td>...</td>\n      <td>...</td>\n      <td>...</td>\n      <td>...</td>\n      <td>...</td>\n      <td>...</td>\n      <td>...</td>\n    </tr>\n    <tr>\n      <th>237548</th>\n      <td>NaN</td>\n      <td>NaN</td>\n      <td>NaN</td>\n      <td>NaN</td>\n      <td>NaN</td>\n      <td>NaN</td>\n      <td>NaN</td>\n      <td>NaN</td>\n      <td>NaN</td>\n      <td>NaN</td>\n      <td>...</td>\n      <td>NaN</td>\n      <td>NaN</td>\n      <td>NaN</td>\n      <td>huH-1</td>\n      <td>MG-132</td>\n      <td>NaN</td>\n      <td>NaN</td>\n      <td>0.626409</td>\n      <td>0.733394</td>\n      <td>1.870880e-06</td>\n    </tr>\n    <tr>\n      <th>237549</th>\n      <td>NaN</td>\n      <td>NaN</td>\n      <td>NaN</td>\n      <td>NaN</td>\n      <td>NaN</td>\n      <td>NaN</td>\n      <td>NaN</td>\n      <td>NaN</td>\n      <td>NaN</td>\n      <td>NaN</td>\n      <td>...</td>\n      <td>NaN</td>\n      <td>NaN</td>\n      <td>NaN</td>\n      <td>huH-1</td>\n      <td>PD0325901</td>\n      <td>NaN</td>\n      <td>NaN</td>\n      <td>2.883794</td>\n      <td>0.952753</td>\n      <td>1.788199e-05</td>\n    </tr>\n    <tr>\n      <th>237550</th>\n      <td>NaN</td>\n      <td>NaN</td>\n      <td>NaN</td>\n      <td>NaN</td>\n      <td>NaN</td>\n      <td>NaN</td>\n      <td>NaN</td>\n      <td>NaN</td>\n      <td>NaN</td>\n      <td>NaN</td>\n      <td>...</td>\n      <td>NaN</td>\n      <td>NaN</td>\n      <td>NaN</td>\n      <td>huH-1</td>\n      <td>Staurosporine</td>\n      <td>NaN</td>\n      <td>NaN</td>\n      <td>-1.815391</td>\n      <td>0.532632</td>\n      <td>1.627743e-07</td>\n    </tr>\n    <tr>\n      <th>237551</th>\n      <td>NaN</td>\n      <td>NaN</td>\n      <td>NaN</td>\n      <td>NaN</td>\n      <td>NaN</td>\n      <td>NaN</td>\n      <td>NaN</td>\n      <td>NaN</td>\n      <td>NaN</td>\n      <td>NaN</td>\n      <td>...</td>\n      <td>NaN</td>\n      <td>NaN</td>\n      <td>NaN</td>\n      <td>no-10</td>\n      <td>Staurosporine</td>\n      <td>NaN</td>\n      <td>NaN</td>\n      <td>-2.590771</td>\n      <td>0.431330</td>\n      <td>7.496222e-08</td>\n    </tr>\n    <tr>\n      <th>237552</th>\n      <td>NaN</td>\n      <td>NaN</td>\n      <td>NaN</td>\n      <td>NaN</td>\n      <td>NaN</td>\n      <td>NaN</td>\n      <td>NaN</td>\n      <td>NaN</td>\n      <td>NaN</td>\n      <td>NaN</td>\n      <td>...</td>\n      <td>NaN</td>\n      <td>NaN</td>\n      <td>NaN</td>\n      <td>no-11</td>\n      <td>Staurosporine</td>\n      <td>NaN</td>\n      <td>NaN</td>\n      <td>-1.823346</td>\n      <td>0.531030</td>\n      <td>1.614845e-07</td>\n    </tr>\n  </tbody>\n</table>\n<p>3117 rows × 28 columns</p>\n</div>"
     },
     "execution_count": 2,
     "metadata": {},
     "output_type": "execute_result"
    }
   ],
   "source": [
    "mapped_response_df = pd.read_csv(\"GDSC2_for_drevalpy.csv\")\n",
    "mapped_response_df = mapped_response_df.drop(columns=[\"Unnamed: 0\"])\n",
    "mapped_response_df[\"sample\"] = mapped_response_df[\"sample\"].replace(to_replace = \"CVCL_ZA06\", value=\"CVCL_1097\")\n",
    "mapped_response_df[\"cell_line_id\"] = mapped_response_df[\"cell_line_id\"].replace(to_replace = \"CVCL_ZA06\", value=\"CVCL_1097\")\n",
    "mapped_response_df[\"sample\"] = mapped_response_df[\"sample\"].replace(to_replace = \"CVCL_C355\", value=\"CVCL_1658\")\n",
    "mapped_response_df[\"cell_line_id\"] = mapped_response_df[\"cell_line_id\"].replace(to_replace = \"CVCL_C355\", value=\"CVCL_1658\")\n",
    "mapped_response_df[mapped_response_df[\"cell_line_id\"].isna()]"
   ],
   "metadata": {
    "collapsed": false,
    "ExecuteTime": {
     "end_time": "2025-02-07T10:04:31.251579Z",
     "start_time": "2025-02-07T10:04:30.354870Z"
    }
   },
   "id": "136831c9c12a76b7"
  },
  {
   "cell_type": "code",
   "execution_count": 3,
   "outputs": [
    {
     "data": {
      "text/plain": "Empty DataFrame\nColumns: [Name, SignalQuality, pEC50_curvecurator, Slope, Front, Back, FoldChange, AUC_curvecurator, RMSE, R2, pEC50Error, fValue, pValue, negLog10pValue, fValueSAMCorrected, RelevanceScore, Regulation, cell_line_id, drug_id, EC50_curvecurator, IC50_curvecurator, CELL_LINE_NAME, DRUG_NAME, sample, drug, LN_IC50, AUC, IC50]\nIndex: []\n\n[0 rows x 28 columns]",
      "text/html": "<div>\n<style scoped>\n    .dataframe tbody tr th:only-of-type {\n        vertical-align: middle;\n    }\n\n    .dataframe tbody tr th {\n        vertical-align: top;\n    }\n\n    .dataframe thead th {\n        text-align: right;\n    }\n</style>\n<table border=\"1\" class=\"dataframe\">\n  <thead>\n    <tr style=\"text-align: right;\">\n      <th></th>\n      <th>Name</th>\n      <th>SignalQuality</th>\n      <th>pEC50_curvecurator</th>\n      <th>Slope</th>\n      <th>Front</th>\n      <th>Back</th>\n      <th>FoldChange</th>\n      <th>AUC_curvecurator</th>\n      <th>RMSE</th>\n      <th>R2</th>\n      <th>...</th>\n      <th>drug_id</th>\n      <th>EC50_curvecurator</th>\n      <th>IC50_curvecurator</th>\n      <th>CELL_LINE_NAME</th>\n      <th>DRUG_NAME</th>\n      <th>sample</th>\n      <th>drug</th>\n      <th>LN_IC50</th>\n      <th>AUC</th>\n      <th>IC50</th>\n    </tr>\n  </thead>\n  <tbody>\n  </tbody>\n</table>\n<p>0 rows × 28 columns</p>\n</div>"
     },
     "execution_count": 3,
     "metadata": {},
     "output_type": "execute_result"
    }
   ],
   "source": [
    "mapped_response_df = mapped_response_df[~mapped_response_df[\"cell_line_id\"].isna()]\n",
    "mapped_response_df[mapped_response_df[\"cell_line_id\"].isna()]"
   ],
   "metadata": {
    "collapsed": false,
    "ExecuteTime": {
     "end_time": "2025-02-07T10:04:32.202309Z",
     "start_time": "2025-02-07T10:04:32.098835Z"
    }
   },
   "id": "8f8d35f2031976af"
  },
  {
   "cell_type": "code",
   "execution_count": 4,
   "outputs": [],
   "source": [
    "# pEC50 = -log10(10^(-6) * dosis); allow 10^-1 to 10^2 times the min/max dose\n",
    "drug_dosages = pd.read_csv(\"drug_dosages_GDSC2.csv\")\n",
    "min_doses_pEC50 = {f'{row[\"DRUG_NAME\"]}|{row[\"CELL_LINE_NAME\"]}': -np.log10(10**-6 * row[\"mindose\"]) for index, row in drug_dosages.iterrows()}\n",
    "max_doses_pEC50 = {f'{row[\"DRUG_NAME\"]}|{row[\"CELL_LINE_NAME\"]}': -np.log10(10**-6 * row[\"maxdose\"]) for index, row in drug_dosages.iterrows()}\n",
    "min_doses_IC50 = {f'{row[\"DRUG_NAME\"]}|{row[\"CELL_LINE_NAME\"]}': 10**-7 * row[\"mindose\"] for index, row in drug_dosages.iterrows()}\n",
    "max_doses_IC50 = {f'{row[\"DRUG_NAME\"]}|{row[\"CELL_LINE_NAME\"]}': 10**-5 * row[\"maxdose\"] for index, row in drug_dosages.iterrows()}"
   ],
   "metadata": {
    "collapsed": false,
    "ExecuteTime": {
     "end_time": "2025-02-07T10:05:00.722361Z",
     "start_time": "2025-02-07T10:04:46.022431Z"
    }
   },
   "id": "4f77b6df35198364"
  },
  {
   "cell_type": "code",
   "execution_count": 5,
   "outputs": [],
   "source": [
    "min_doses_M = mapped_response_df.apply(lambda x: 10 * min_doses_IC50[f\"{x['DRUG_NAME']}|{x['CELL_LINE_NAME']}\"], axis=1)\n",
    "max_doses_M = mapped_response_df.apply(lambda x: 0.1 * max_doses_IC50[f\"{x['DRUG_NAME']}|{x['CELL_LINE_NAME']}\"], axis=1)\n",
    "mapped_response_df[\"min_dose_M\"] = min_doses_M\n",
    "mapped_response_df[\"max_dose_M\"] = max_doses_M"
   ],
   "metadata": {
    "collapsed": false,
    "ExecuteTime": {
     "end_time": "2025-02-07T10:05:11.099414Z",
     "start_time": "2025-02-07T10:05:08.390870Z"
    }
   },
   "id": "c5a53cb54e392565"
  },
  {
   "cell_type": "code",
   "execution_count": 6,
   "outputs": [
    {
     "data": {
      "text/plain": "<Figure size 640x480 with 1 Axes>",
      "image/png": "[encoded data removed]"
     },
     "metadata": {},
     "output_type": "display_data"
    }
   ],
   "source": [
    "def plot_curve(df, index):\n",
    "    front = df.loc[index, \"Front\"]\n",
    "    back = df.loc[index, \"Back\"]\n",
    "    pec50 = df.loc[index, \"pEC50_curvecurator\"]\n",
    "    ec50 = df.loc[index, \"EC50_curvecurator\"]\n",
    "    \n",
    "    slope = df.loc[index, \"Slope\"]\n",
    "    ic50 = df.loc[index, \"IC50_curvecurator\"]\n",
    "    origic50 = df.loc[index, \"IC50\"]\n",
    "    \n",
    "    min_dosis = df.loc[index, \"min_dose_M\"]\n",
    "    max_dosis = df.loc[index, \"max_dose_M\"]\n",
    "    \n",
    "    xvals = np.linspace(min_dosis*10**-2, max_dosis*10**2, 100000)\n",
    "    xvals_logged = np.log10(xvals)\n",
    "    y = (front - back) / (1 + 10 ** (slope * (xvals_logged + pec50))) + back\n",
    "    plt.scatter(xvals, y, s=1)\n",
    "\n",
    "    plt.axvline(origic50, linestyle='--')\n",
    "    plt.text(x=origic50, y=0.8, s='IC50 orig', color='blue')\n",
    "    plt.axvline(ic50, color=\"red\")\n",
    "    plt.text(x=ic50, y=1.0, s='IC50 curvecurator', color='red')\n",
    "    plt.axvline(ec50, color=\"orange\")\n",
    "    plt.text(x=ec50, y=0.6, s='EC50 curvecurator', color='orange')\n",
    "    plt.axvline(x=min_dosis, color=\"green\")\n",
    "    plt.text(x=min_dosis, y=0.4, s='min dose [M]', color='green')\n",
    "    plt.axvline(x=max_dosis, color=\"green\")\n",
    "    plt.text(x=max_dosis, y=0.4, s='max dose [M]', color='green')\n",
    "    \n",
    "    auc = df.loc[index, \"AUC_curvecurator\"]\n",
    "    plt.title(f\"AUC: {auc}\")\n",
    "\n",
    "    plt.axhline(0.5, linestyle='--', color='black')\n",
    "    plt.xscale('log')\n",
    "    plt.xlim(min_dosis*10**-2, max_dosis*10**2)\n",
    "    plt.ylim(0, 2)\n",
    "\n",
    "index = mapped_response_df.query(\"Name == 'CVCL_1280|11178236'\").index[0]\n",
    "plot_curve(mapped_response_df, index)"
   ],
   "metadata": {
    "collapsed": false,
    "ExecuteTime": {
     "end_time": "2025-02-07T10:05:11.542417Z",
     "start_time": "2025-02-07T10:05:11.098697Z"
    }
   },
   "id": "f8ee728a-8322-46a4-ab44-00765050a9eb"
  },
  {
   "cell_type": "code",
   "execution_count": 7,
   "id": "34dba78d-6397-4fee-9cd7-160b18fdd167",
   "metadata": {
    "ExecuteTime": {
     "end_time": "2025-02-07T10:05:14.855022Z",
     "start_time": "2025-02-07T10:05:14.534423Z"
    }
   },
   "outputs": [
    {
     "data": {
      "text/plain": "<Figure size 640x480 with 1 Axes>",
      "image/png": "[encoded data removed]"
     },
     "metadata": {},
     "output_type": "display_data"
    }
   ],
   "source": [
    "# CurveCurator caps the EC50s at 10**2 * max dose / 10**-2 * min dose\n",
    "index = mapped_response_df.query(\"Name == 'CVCL_1704|12035'\").index[0]\n",
    "plot_curve(mapped_response_df, index=index)"
   ]
  },
  {
   "cell_type": "code",
   "execution_count": 8,
   "outputs": [
    {
     "name": "stderr",
     "output_type": "stream",
     "text": [
      "posx and posy should be finite values\n",
      "posx and posy should be finite values\n",
      "posx and posy should be finite values\n"
     ]
    },
    {
     "data": {
      "text/plain": "<Figure size 640x480 with 1 Axes>",
      "image/png": "[encoded data removed]"
     },
     "metadata": {},
     "output_type": "display_data"
    }
   ],
   "source": [
    "# CurveCurator caps the EC50s at 10**2 * max dose / 10**-2 * min dose\n",
    "index = mapped_response_df.query(\"Name == 'CVCL_1134|104842'\").index[0]\n",
    "plot_curve(mapped_response_df, index=index)"
   ],
   "metadata": {
    "collapsed": false,
    "ExecuteTime": {
     "end_time": "2025-02-07T10:05:16.198138Z",
     "start_time": "2025-02-07T10:05:15.818402Z"
    }
   },
   "id": "33fa7d664cd93a42"
  },
  {
   "cell_type": "code",
   "execution_count": 9,
   "outputs": [],
   "source": [
    "num_pEC50s_nan = mapped_response_df[\"pEC50_curvecurator\"].isna().sum()\n",
    "num_ic50s_nan = mapped_response_df[\"IC50_curvecurator\"].isna().sum()\n",
    "new_pEC50s = mapped_response_df.apply(lambda x: x[\"pEC50_curvecurator\"] if min_doses_pEC50[f\"{x['DRUG_NAME']}|{x['CELL_LINE_NAME']}\"] >= x[\"pEC50_curvecurator\"] >= max_doses_pEC50[f\"{x['DRUG_NAME']}|{x['CELL_LINE_NAME']}\"] else np.nan, axis=1)\n",
    "new_IC50s = mapped_response_df.apply(lambda x: x[\"IC50_curvecurator\"] if min_doses_IC50[f\"{x['DRUG_NAME']}|{x['CELL_LINE_NAME']}\"] <= x[\"IC50_curvecurator\"] <= max_doses_IC50[f\"{x['DRUG_NAME']}|{x['CELL_LINE_NAME']}\"] else np.nan, axis=1)"
   ],
   "metadata": {
    "collapsed": false,
    "ExecuteTime": {
     "end_time": "2025-02-07T10:05:23.148967Z",
     "start_time": "2025-02-07T10:05:18.243081Z"
    }
   },
   "id": "a6ab8c68efbded15"
  },
  {
   "cell_type": "code",
   "execution_count": 10,
   "outputs": [
    {
     "name": "stdout",
     "output_type": "stream",
     "text": [
      "From 0 to 47817 NaN pEC50s / 234436\n",
      "From 139064 to 143770 NaN IC50s / 234436\n"
     ]
    }
   ],
   "source": [
    "mapped_response_df[\"pEC50_curvecurator\"] = new_pEC50s\n",
    "mapped_response_df[\"IC50_curvecurator\"] = new_IC50s\n",
    "print(f\"From {num_pEC50s_nan} to {mapped_response_df['pEC50_curvecurator'].isna().sum()} NaN pEC50s / {len(mapped_response_df)}\")\n",
    "print(f\"From {num_ic50s_nan} to {mapped_response_df['IC50_curvecurator'].isna().sum()} NaN IC50s / {len(mapped_response_df)}\")"
   ],
   "metadata": {
    "collapsed": false,
    "ExecuteTime": {
     "end_time": "2025-02-07T10:05:23.185679Z",
     "start_time": "2025-02-07T10:05:23.129333Z"
    }
   },
   "id": "5e70ca48962da0bd"
  },
  {
   "cell_type": "code",
   "execution_count": 11,
   "outputs": [],
   "source": [
    "mapped_response_df[\"LN_IC50_curvecurator\"] = np.log(10**6 * mapped_response_df[\"IC50_curvecurator\"].to_numpy())"
   ],
   "metadata": {
    "collapsed": false,
    "ExecuteTime": {
     "end_time": "2025-02-07T10:05:23.192879Z",
     "start_time": "2025-02-07T10:05:23.134803Z"
    }
   },
   "id": "9f58852b8a3c3750"
  },
  {
   "cell_type": "code",
   "execution_count": 12,
   "outputs": [
    {
     "data": {
      "text/plain": "<Axes: xlabel='LN_IC50_curvecurator', ylabel='Count'>"
     },
     "execution_count": 12,
     "metadata": {},
     "output_type": "execute_result"
    },
    {
     "data": {
      "text/plain": "<Figure size 640x480 with 1 Axes>",
      "image/png": "[encoded data removed]"
     },
     "metadata": {},
     "output_type": "display_data"
    }
   ],
   "source": [
    "sns.histplot(mapped_response_df[\"LN_IC50_curvecurator\"], bins=10)"
   ],
   "metadata": {
    "collapsed": false,
    "ExecuteTime": {
     "end_time": "2025-02-07T10:05:23.424160Z",
     "start_time": "2025-02-07T10:05:23.147289Z"
    }
   },
   "id": "12ccc63a945eb27f"
  },
  {
   "cell_type": "code",
   "execution_count": 13,
   "outputs": [
    {
     "data": {
      "text/plain": "<Axes: xlabel='pEC50_curvecurator', ylabel='Count'>"
     },
     "execution_count": 13,
     "metadata": {},
     "output_type": "execute_result"
    },
    {
     "data": {
      "text/plain": "<Figure size 640x480 with 1 Axes>",
      "image/png": "[encoded data removed]"
     },
     "metadata": {},
     "output_type": "display_data"
    }
   ],
   "source": [
    "sns.histplot(mapped_response_df[\"pEC50_curvecurator\"], bins=10)"
   ],
   "metadata": {
    "collapsed": false,
    "ExecuteTime": {
     "end_time": "2025-02-07T10:05:23.594746Z",
     "start_time": "2025-02-07T10:05:23.431332Z"
    }
   },
   "id": "308fc10482c4b5cc"
  },
  {
   "cell_type": "code",
   "execution_count": 14,
   "outputs": [
    {
     "data": {
      "text/plain": "<Axes: xlabel='AUC_curvecurator', ylabel='Count'>"
     },
     "execution_count": 14,
     "metadata": {},
     "output_type": "execute_result"
    },
    {
     "data": {
      "text/plain": "<Figure size 640x480 with 1 Axes>",
      "image/png": "[encoded data removed]"
     },
     "metadata": {},
     "output_type": "display_data"
    }
   ],
   "source": [
    "sns.histplot(mapped_response_df[\"AUC_curvecurator\"], bins=10)"
   ],
   "metadata": {
    "collapsed": false,
    "ExecuteTime": {
     "end_time": "2025-02-07T10:05:23.781957Z",
     "start_time": "2025-02-07T10:05:23.596271Z"
    }
   },
   "id": "8e890aa269fc26b6"
  },
  {
   "cell_type": "code",
   "execution_count": 15,
   "outputs": [
    {
     "name": "stdout",
     "output_type": "stream",
     "text": [
      "Creating cellosaurus dictionary ...\n"
     ]
    }
   ],
   "source": [
    "# map all names to cellosaurus main names\n",
    "from utils.convert_to_cello import create_cl_dict\n",
    "cello_mapping = pd.read_csv(\"../../mapping/cellosaurus_01_2024.csv\")\n",
    "# replace all NaN values with empty strings\n",
    "cello_mapping = cello_mapping.fillna(\"\")\n",
    "# create cellosaurus dictionary\n",
    "cellosaurus_ac_dict, cellosaurus_sy_dict, species_dict, cello_ac_to_id_dict = create_cl_dict(cello_mapping)"
   ],
   "metadata": {
    "collapsed": false,
    "ExecuteTime": {
     "end_time": "2025-02-07T10:05:29.747226Z",
     "start_time": "2025-02-07T10:05:24.657868Z"
    }
   },
   "id": "287a01e882bfe161"
  },
  {
   "cell_type": "code",
   "execution_count": 16,
   "outputs": [],
   "source": [
    "main_names = [cello_ac_to_id_dict[row[\"cell_line_id\"]] for _, row in mapped_response_df.iterrows()]\n",
    "mapped_response_df[\"cell_line_name\"] = main_names\n",
    "mapped_response_df = mapped_response_df.set_index([\"cell_line_id\", \"cell_line_name\", \"drug_id\", \"DRUG_NAME\"])"
   ],
   "metadata": {
    "collapsed": false,
    "ExecuteTime": {
     "end_time": "2025-02-07T10:05:33.611964Z",
     "start_time": "2025-02-07T10:05:29.772980Z"
    }
   },
   "id": "2ee8328ab3fd38c8"
  },
  {
   "cell_type": "code",
   "execution_count": 17,
   "outputs": [],
   "source": [
    "mapped_response_df.to_csv(\"GDSC2.csv\")"
   ],
   "metadata": {
    "collapsed": false,
    "ExecuteTime": {
     "end_time": "2025-02-07T10:05:37.463222Z",
     "start_time": "2025-02-07T10:05:33.609686Z"
    }
   },
   "id": "41ecd1871461b632"
  },
  {
   "cell_type": "code",
   "execution_count": 18,
   "outputs": [
    {
     "data": {
      "text/plain": "                                                                                  Name  \\\ncell_line_id cell_line_name       drug_id    DRUG_NAME                                   \nCVCL_0001    HEL                  5352062    Romidepsin              CVCL_0001|5352062   \nCVCL_0002    HL-60                36314      Paclitaxel                CVCL_0002|36314   \n                                  5352062    Romidepsin              CVCL_0002|5352062   \nCVCL_0004    K-562                36314      Paclitaxel                CVCL_0004|36314   \n                                  5352062    Romidepsin              CVCL_0004|5352062   \n...                                                                                ...   \nCVCL_1411    MHH-ES-1             54679076.0 ascorbate (vitamin C)  CVCL_1411|54679076   \nCVCL_1640    PC-14                12035.0    N-acetyl cysteine         CVCL_1640|12035   \n                                  54679076.0 ascorbate (vitamin C)  CVCL_1640|54679076   \nCVCL_1097    C32 [Human melanoma] 12035.0    N-acetyl cysteine         CVCL_ZA06|12035   \nCVCL_0547    SW620                54679076.0 ascorbate (vitamin C)  CVCL_0547|54679076   \n\n                                                                    SignalQuality  \\\ncell_line_id cell_line_name       drug_id    DRUG_NAME                              \nCVCL_0001    HEL                  5352062    Romidepsin                       0.0   \nCVCL_0002    HL-60                36314      Paclitaxel                       0.0   \n                                  5352062    Romidepsin                       0.0   \nCVCL_0004    K-562                36314      Paclitaxel                       0.0   \n                                  5352062    Romidepsin                       0.0   \n...                                                                           ...   \nCVCL_1411    MHH-ES-1             54679076.0 ascorbate (vitamin C)            0.0   \nCVCL_1640    PC-14                12035.0    N-acetyl cysteine                0.0   \n                                  54679076.0 ascorbate (vitamin C)            0.0   \nCVCL_1097    C32 [Human melanoma] 12035.0    N-acetyl cysteine                0.0   \nCVCL_0547    SW620                54679076.0 ascorbate (vitamin C)            0.0   \n\n                                                                    pEC50_curvecurator  \\\ncell_line_id cell_line_name       drug_id    DRUG_NAME                                   \nCVCL_0001    HEL                  5352062    Romidepsin                       8.089522   \nCVCL_0002    HL-60                36314      Paclitaxel                       8.396003   \n                                  5352062    Romidepsin                       8.691853   \nCVCL_0004    K-562                36314      Paclitaxel                       8.166454   \n                                  5352062    Romidepsin                       8.326453   \n...                                                                                ...   \nCVCL_1411    MHH-ES-1             54679076.0 ascorbate (vitamin C)            3.267237   \nCVCL_1640    PC-14                12035.0    N-acetyl cysteine                     NaN   \n                                  54679076.0 ascorbate (vitamin C)            5.119383   \nCVCL_1097    C32 [Human melanoma] 12035.0    N-acetyl cysteine                5.409917   \nCVCL_0547    SW620                54679076.0 ascorbate (vitamin C)            3.130130   \n\n                                                                        Slope  \\\ncell_line_id cell_line_name       drug_id    DRUG_NAME                          \nCVCL_0001    HEL                  5352062    Romidepsin             10.000000   \nCVCL_0002    HL-60                36314      Paclitaxel             10.000000   \n                                  5352062    Romidepsin              1.212055   \nCVCL_0004    K-562                36314      Paclitaxel              2.553741   \n                                  5352062    Romidepsin              2.605769   \n...                                                                       ...   \nCVCL_1411    MHH-ES-1             54679076.0 ascorbate (vitamin C)  10.000000   \nCVCL_1640    PC-14                12035.0    N-acetyl cysteine      10.000000   \n                                  54679076.0 ascorbate (vitamin C)   0.615553   \nCVCL_1097    C32 [Human melanoma] 12035.0    N-acetyl cysteine       0.956485   \nCVCL_0547    SW620                54679076.0 ascorbate (vitamin C)  10.000000   \n\n                                                                       Front  \\\ncell_line_id cell_line_name       drug_id    DRUG_NAME                         \nCVCL_0001    HEL                  5352062    Romidepsin             1.002152   \nCVCL_0002    HL-60                36314      Paclitaxel             1.273513   \n                                  5352062    Romidepsin             1.027599   \nCVCL_0004    K-562                36314      Paclitaxel             1.163487   \n                                  5352062    Romidepsin             0.958683   \n...                                                                      ...   \nCVCL_1411    MHH-ES-1             54679076.0 ascorbate (vitamin C)  1.025703   \nCVCL_1640    PC-14                12035.0    N-acetyl cysteine      0.938010   \n                                  54679076.0 ascorbate (vitamin C)  1.060569   \nCVCL_1097    C32 [Human melanoma] 12035.0    N-acetyl cysteine      1.028784   \nCVCL_0547    SW620                54679076.0 ascorbate (vitamin C)  0.979639   \n\n                                                                        Back  \\\ncell_line_id cell_line_name       drug_id    DRUG_NAME                         \nCVCL_0001    HEL                  5352062    Romidepsin             0.000100   \nCVCL_0002    HL-60                36314      Paclitaxel             0.081264   \n                                  5352062    Romidepsin             0.000100   \nCVCL_0004    K-562                36314      Paclitaxel             0.358872   \n                                  5352062    Romidepsin             0.000100   \n...                                                                      ...   \nCVCL_1411    MHH-ES-1             54679076.0 ascorbate (vitamin C)  0.883452   \nCVCL_1640    PC-14                12035.0    N-acetyl cysteine      0.005520   \n                                  54679076.0 ascorbate (vitamin C)  0.939953   \nCVCL_1097    C32 [Human melanoma] 12035.0    N-acetyl cysteine      0.869934   \nCVCL_0547    SW620                54679076.0 ascorbate (vitamin C)  0.677130   \n\n                                                                    FoldChange  \\\ncell_line_id cell_line_name       drug_id    DRUG_NAME                           \nCVCL_0001    HEL                  5352062    Romidepsin              -3.142484   \nCVCL_0002    HL-60                36314      Paclitaxel              -3.618923   \n                                  5352062    Romidepsin              -2.940780   \nCVCL_0004    K-562                36314      Paclitaxel              -0.789264   \n                                  5352062    Romidepsin              -3.075988   \n...                                                                        ...   \nCVCL_1411    MHH-ES-1             54679076.0 ascorbate (vitamin C)   -0.178776   \nCVCL_1640    PC-14                12035.0    N-acetyl cysteine       -0.153882   \n                                  54679076.0 ascorbate (vitamin C)   -0.083547   \nCVCL_1097    C32 [Human melanoma] 12035.0    N-acetyl cysteine       -0.200352   \nCVCL_0547    SW620                54679076.0 ascorbate (vitamin C)   -0.562464   \n\n                                                                    AUC_curvecurator  \\\ncell_line_id cell_line_name       drug_id    DRUG_NAME                                 \nCVCL_0001    HEL                  5352062    Romidepsin                     0.970510   \nCVCL_0002    HL-60                36314      Paclitaxel                     1.116121   \n                                  5352062    Romidepsin                     0.774196   \nCVCL_0004    K-562                36314      Paclitaxel                     1.104288   \n                                  5352062    Romidepsin                     0.847337   \n...                                                                              ...   \nCVCL_1411    MHH-ES-1             54679076.0 ascorbate (vitamin C)          0.998755   \nCVCL_1640    PC-14                12035.0    N-acetyl cysteine              0.937431   \n                                  54679076.0 ascorbate (vitamin C)          0.972687   \nCVCL_1097    C32 [Human melanoma] 12035.0    N-acetyl cysteine              0.895382   \nCVCL_0547    SW620                54679076.0 ascorbate (vitamin C)          0.936159   \n\n                                                                        RMSE  \\\ncell_line_id cell_line_name       drug_id    DRUG_NAME                         \nCVCL_0001    HEL                  5352062    Romidepsin             0.083503   \nCVCL_0002    HL-60                36314      Paclitaxel             0.127314   \n                                  5352062    Romidepsin             0.029062   \nCVCL_0004    K-562                36314      Paclitaxel             0.099598   \n                                  5352062    Romidepsin             0.027443   \n...                                                                      ...   \nCVCL_1411    MHH-ES-1             54679076.0 ascorbate (vitamin C)  0.072199   \nCVCL_1640    PC-14                12035.0    N-acetyl cysteine      0.079118   \n                                  54679076.0 ascorbate (vitamin C)  0.086486   \nCVCL_1097    C32 [Human melanoma] 12035.0    N-acetyl cysteine      0.107171   \nCVCL_0547    SW620                54679076.0 ascorbate (vitamin C)  0.130324   \n\n                                                                          R2  \\\ncell_line_id cell_line_name       drug_id    DRUG_NAME                         \nCVCL_0001    HEL                  5352062    Romidepsin             0.925361   \nCVCL_0002    HL-60                36314      Paclitaxel             0.904100   \n                                  5352062    Romidepsin             0.992164   \nCVCL_0004    K-562                36314      Paclitaxel             0.786507   \n                                  5352062    Romidepsin             0.990385   \n...                                                                      ...   \nCVCL_1411    MHH-ES-1             54679076.0 ascorbate (vitamin C)  0.400090   \nCVCL_1640    PC-14                12035.0    N-acetyl cysteine      0.028969   \n                                  54679076.0 ascorbate (vitamin C)  0.100900   \nCVCL_1097    C32 [Human melanoma] 12035.0    N-acetyl cysteine      0.111310   \nCVCL_0547    SW620                54679076.0 ascorbate (vitamin C)  0.389459   \n\n                                                                    ...  \\\ncell_line_id cell_line_name       drug_id    DRUG_NAME              ...   \nCVCL_0001    HEL                  5352062    Romidepsin             ...   \nCVCL_0002    HL-60                36314      Paclitaxel             ...   \n                                  5352062    Romidepsin             ...   \nCVCL_0004    K-562                36314      Paclitaxel             ...   \n                                  5352062    Romidepsin             ...   \n...                                                                 ...   \nCVCL_1411    MHH-ES-1             54679076.0 ascorbate (vitamin C)  ...   \nCVCL_1640    PC-14                12035.0    N-acetyl cysteine      ...   \n                                  54679076.0 ascorbate (vitamin C)  ...   \nCVCL_1097    C32 [Human melanoma] 12035.0    N-acetyl cysteine      ...   \nCVCL_0547    SW620                54679076.0 ascorbate (vitamin C)  ...   \n\n                                                                    IC50_curvecurator  \\\ncell_line_id cell_line_name       drug_id    DRUG_NAME                                  \nCVCL_0001    HEL                  5352062    Romidepsin                  8.140911e-09   \nCVCL_0002    HL-60                36314      Paclitaxel                  4.272182e-09   \n                                  5352062    Romidepsin                  2.125546e-09   \nCVCL_0004    K-562                36314      Paclitaxel                  1.249613e-08   \n                                  5352062    Romidepsin                  4.562531e-09   \n...                                                                               ...   \nCVCL_1411    MHH-ES-1             54679076.0 ascorbate (vitamin C)                NaN   \nCVCL_1640    PC-14                12035.0    N-acetyl cysteine           2.701194e-03   \n                                  54679076.0 ascorbate (vitamin C)                NaN   \nCVCL_1097    C32 [Human melanoma] 12035.0    N-acetyl cysteine                    NaN   \nCVCL_0547    SW620                54679076.0 ascorbate (vitamin C)                NaN   \n\n                                                                    CELL_LINE_NAME  \\\ncell_line_id cell_line_name       drug_id    DRUG_NAME                               \nCVCL_0001    HEL                  5352062    Romidepsin                        HEL   \nCVCL_0002    HL-60                36314      Paclitaxel                      HL-60   \n                                  5352062    Romidepsin                      HL-60   \nCVCL_0004    K-562                36314      Paclitaxel                      K-562   \n                                  5352062    Romidepsin                      K-562   \n...                                                                            ...   \nCVCL_1411    MHH-ES-1             54679076.0 ascorbate (vitamin C)        MHH-ES-1   \nCVCL_1640    PC-14                12035.0    N-acetyl cysteine               PC-14   \n                                  54679076.0 ascorbate (vitamin C)           PC-14   \nCVCL_1097    C32 [Human melanoma] 12035.0    N-acetyl cysteine                 C32   \nCVCL_0547    SW620                54679076.0 ascorbate (vitamin C)           SW620   \n\n                                                                       sample  \\\ncell_line_id cell_line_name       drug_id    DRUG_NAME                          \nCVCL_0001    HEL                  5352062    Romidepsin             CVCL_0001   \nCVCL_0002    HL-60                36314      Paclitaxel             CVCL_0002   \n                                  5352062    Romidepsin             CVCL_0002   \nCVCL_0004    K-562                36314      Paclitaxel             CVCL_0004   \n                                  5352062    Romidepsin             CVCL_0004   \n...                                                                       ...   \nCVCL_1411    MHH-ES-1             54679076.0 ascorbate (vitamin C)  CVCL_1411   \nCVCL_1640    PC-14                12035.0    N-acetyl cysteine      CVCL_1640   \n                                  54679076.0 ascorbate (vitamin C)  CVCL_1640   \nCVCL_1097    C32 [Human melanoma] 12035.0    N-acetyl cysteine      CVCL_1097   \nCVCL_0547    SW620                54679076.0 ascorbate (vitamin C)  CVCL_0547   \n\n                                                                          drug  \\\ncell_line_id cell_line_name       drug_id    DRUG_NAME                           \nCVCL_0001    HEL                  5352062    Romidepsin                5352062   \nCVCL_0002    HL-60                36314      Paclitaxel                  36314   \n                                  5352062    Romidepsin                5352062   \nCVCL_0004    K-562                36314      Paclitaxel                  36314   \n                                  5352062    Romidepsin                5352062   \n...                                                                        ...   \nCVCL_1411    MHH-ES-1             54679076.0 ascorbate (vitamin C)  54679076.0   \nCVCL_1640    PC-14                12035.0    N-acetyl cysteine         12035.0   \n                                  54679076.0 ascorbate (vitamin C)  54679076.0   \nCVCL_1097    C32 [Human melanoma] 12035.0    N-acetyl cysteine         12035.0   \nCVCL_0547    SW620                54679076.0 ascorbate (vitamin C)  54679076.0   \n\n                                                                      LN_IC50  \\\ncell_line_id cell_line_name       drug_id    DRUG_NAME                          \nCVCL_0001    HEL                  5352062    Romidepsin             -5.027970   \nCVCL_0002    HL-60                36314      Paclitaxel             -4.906881   \n                                  5352062    Romidepsin             -6.094023   \nCVCL_0004    K-562                36314      Paclitaxel             -3.609454   \n                                  5352062    Romidepsin             -5.305005   \n...                                                                       ...   \nCVCL_1411    MHH-ES-1             54679076.0 ascorbate (vitamin C)   9.857216   \nCVCL_1640    PC-14                12035.0    N-acetyl cysteine      10.319507   \n                                  54679076.0 ascorbate (vitamin C)  10.650215   \nCVCL_1097    C32 [Human melanoma] 12035.0    N-acetyl cysteine       9.607635   \nCVCL_0547    SW620                54679076.0 ascorbate (vitamin C)   9.261142   \n\n                                                                         AUC  \\\ncell_line_id cell_line_name       drug_id    DRUG_NAME                         \nCVCL_0001    HEL                  5352062    Romidepsin             0.892340   \nCVCL_0002    HL-60                36314      Paclitaxel             0.875756   \n                                  5352062    Romidepsin             0.755228   \nCVCL_0004    K-562                36314      Paclitaxel             0.940273   \n                                  5352062    Romidepsin             0.825615   \n...                                                                      ...   \nCVCL_1411    MHH-ES-1             54679076.0 ascorbate (vitamin C)  0.972756   \nCVCL_1640    PC-14                12035.0    N-acetyl cysteine      0.971241   \n                                  54679076.0 ascorbate (vitamin C)  0.976845   \nCVCL_1097    C32 [Human melanoma] 12035.0    N-acetyl cysteine      0.957082   \nCVCL_0547    SW620                54679076.0 ascorbate (vitamin C)  0.925583   \n\n                                                                            IC50  \\\ncell_line_id cell_line_name       drug_id    DRUG_NAME                             \nCVCL_0001    HEL                  5352062    Romidepsin             6.552098e-09   \nCVCL_0002    HL-60                36314      Paclitaxel             7.395519e-09   \n                                  5352062    Romidepsin             2.256313e-09   \nCVCL_0004    K-562                36314      Paclitaxel             2.706662e-08   \n                                  5352062    Romidepsin             4.966673e-09   \n...                                                                          ...   \nCVCL_1411    MHH-ES-1             54679076.0 ascorbate (vitamin C)  1.909565e-02   \nCVCL_1640    PC-14                12035.0    N-acetyl cysteine      3.031831e-02   \n                                  54679076.0 ascorbate (vitamin C)  4.220167e-02   \nCVCL_1097    C32 [Human melanoma] 12035.0    N-acetyl cysteine      1.487794e-02   \nCVCL_0547    SW620                54679076.0 ascorbate (vitamin C)  1.052114e-02   \n\n                                                                      min_dose_M  \\\ncell_line_id cell_line_name       drug_id    DRUG_NAME                             \nCVCL_0001    HEL                  5352062    Romidepsin             1.000530e-11   \nCVCL_0002    HL-60                36314      Paclitaxel             1.000530e-11   \n                                  5352062    Romidepsin             1.000530e-11   \nCVCL_0004    K-562                36314      Paclitaxel             1.000530e-11   \n                                  5352062    Romidepsin             1.000530e-11   \n...                                                                          ...   \nCVCL_1411    MHH-ES-1             54679076.0 ascorbate (vitamin C)  2.001054e-06   \nCVCL_1640    PC-14                12035.0    N-acetyl cysteine      2.001054e-06   \n                                  54679076.0 ascorbate (vitamin C)  2.001054e-06   \nCVCL_1097    C32 [Human melanoma] 12035.0    N-acetyl cysteine      2.001054e-06   \nCVCL_0547    SW620                54679076.0 ascorbate (vitamin C)  2.001054e-06   \n\n                                                                      max_dose_M  \\\ncell_line_id cell_line_name       drug_id    DRUG_NAME                             \nCVCL_0001    HEL                  5352062    Romidepsin             1.000000e-08   \nCVCL_0002    HL-60                36314      Paclitaxel             1.000000e-08   \n                                  5352062    Romidepsin             1.000000e-08   \nCVCL_0004    K-562                36314      Paclitaxel             1.000000e-08   \n                                  5352062    Romidepsin             1.000000e-08   \n...                                                                          ...   \nCVCL_1411    MHH-ES-1             54679076.0 ascorbate (vitamin C)  2.000000e-03   \nCVCL_1640    PC-14                12035.0    N-acetyl cysteine      2.000000e-03   \n                                  54679076.0 ascorbate (vitamin C)  2.000000e-03   \nCVCL_1097    C32 [Human melanoma] 12035.0    N-acetyl cysteine      2.000000e-03   \nCVCL_0547    SW620                54679076.0 ascorbate (vitamin C)  2.000000e-03   \n\n                                                                   LN_IC50_curvecurator  \ncell_line_id cell_line_name       drug_id    DRUG_NAME                                   \nCVCL_0001    HEL                  5352062    Romidepsin                       -4.810853  \nCVCL_0002    HL-60                36314      Paclitaxel                       -5.455631  \n                                  5352062    Romidepsin                       -6.153727  \nCVCL_0004    K-562                36314      Paclitaxel                       -4.382336  \n                                  5352062    Romidepsin                       -5.389878  \n...                                                                                 ...  \nCVCL_1411    MHH-ES-1             54679076.0 ascorbate (vitamin C)                  NaN  \nCVCL_1640    PC-14                12035.0    N-acetyl cysteine                 7.901449  \n                                  54679076.0 ascorbate (vitamin C)                  NaN  \nCVCL_1097    C32 [Human melanoma] 12035.0    N-acetyl cysteine                      NaN  \nCVCL_0547    SW620                54679076.0 ascorbate (vitamin C)                  NaN  \n\n[234436 rows x 28 columns]",
      "text/html": "<div>\n<style scoped>\n    .dataframe tbody tr th:only-of-type {\n        vertical-align: middle;\n    }\n\n    .dataframe tbody tr th {\n        vertical-align: top;\n    }\n\n    .dataframe thead th {\n        text-align: right;\n    }\n</style>\n<table border=\"1\" class=\"dataframe\">\n  <thead>\n    <tr style=\"text-align: right;\">\n      <th></th>\n      <th></th>\n      <th></th>\n      <th></th>\n      <th>Name</th>\n      <th>SignalQuality</th>\n      <th>pEC50_curvecurator</th>\n      <th>Slope</th>\n      <th>Front</th>\n      <th>Back</th>\n      <th>FoldChange</th>\n      <th>AUC_curvecurator</th>\n      <th>RMSE</th>\n      <th>R2</th>\n      <th>...</th>\n      <th>IC50_curvecurator</th>\n      <th>CELL_LINE_NAME</th>\n      <th>sample</th>\n      <th>drug</th>\n      <th>LN_IC50</th>\n      <th>AUC</th>\n      <th>IC50</th>\n      <th>min_dose_M</th>\n      <th>max_dose_M</th>\n      <th>LN_IC50_curvecurator</th>\n    </tr>\n    <tr>\n      <th>cell_line_id</th>\n      <th>cell_line_name</th>\n      <th>drug_id</th>\n      <th>DRUG_NAME</th>\n      <th></th>\n      <th></th>\n      <th></th>\n      <th></th>\n      <th></th>\n      <th></th>\n      <th></th>\n      <th></th>\n      <th></th>\n      <th></th>\n      <th></th>\n      <th></th>\n      <th></th>\n      <th></th>\n      <th></th>\n      <th></th>\n      <th></th>\n      <th></th>\n      <th></th>\n      <th></th>\n      <th></th>\n    </tr>\n  </thead>\n  <tbody>\n    <tr>\n      <th>CVCL_0001</th>\n      <th>HEL</th>\n      <th>5352062</th>\n      <th>Romidepsin</th>\n      <td>CVCL_0001|5352062</td>\n      <td>0.0</td>\n      <td>8.089522</td>\n      <td>10.000000</td>\n      <td>1.002152</td>\n      <td>0.000100</td>\n      <td>-3.142484</td>\n      <td>0.970510</td>\n      <td>0.083503</td>\n      <td>0.925361</td>\n      <td>...</td>\n      <td>8.140911e-09</td>\n      <td>HEL</td>\n      <td>CVCL_0001</td>\n      <td>5352062</td>\n      <td>-5.027970</td>\n      <td>0.892340</td>\n      <td>6.552098e-09</td>\n      <td>1.000530e-11</td>\n      <td>1.000000e-08</td>\n      <td>-4.810853</td>\n    </tr>\n    <tr>\n      <th rowspan=\"2\" valign=\"top\">CVCL_0002</th>\n      <th rowspan=\"2\" valign=\"top\">HL-60</th>\n      <th>36314</th>\n      <th>Paclitaxel</th>\n      <td>CVCL_0002|36314</td>\n      <td>0.0</td>\n      <td>8.396003</td>\n      <td>10.000000</td>\n      <td>1.273513</td>\n      <td>0.081264</td>\n      <td>-3.618923</td>\n      <td>1.116121</td>\n      <td>0.127314</td>\n      <td>0.904100</td>\n      <td>...</td>\n      <td>4.272182e-09</td>\n      <td>HL-60</td>\n      <td>CVCL_0002</td>\n      <td>36314</td>\n      <td>-4.906881</td>\n      <td>0.875756</td>\n      <td>7.395519e-09</td>\n      <td>1.000530e-11</td>\n      <td>1.000000e-08</td>\n      <td>-5.455631</td>\n    </tr>\n    <tr>\n      <th>5352062</th>\n      <th>Romidepsin</th>\n      <td>CVCL_0002|5352062</td>\n      <td>0.0</td>\n      <td>8.691853</td>\n      <td>1.212055</td>\n      <td>1.027599</td>\n      <td>0.000100</td>\n      <td>-2.940780</td>\n      <td>0.774196</td>\n      <td>0.029062</td>\n      <td>0.992164</td>\n      <td>...</td>\n      <td>2.125546e-09</td>\n      <td>HL-60</td>\n      <td>CVCL_0002</td>\n      <td>5352062</td>\n      <td>-6.094023</td>\n      <td>0.755228</td>\n      <td>2.256313e-09</td>\n      <td>1.000530e-11</td>\n      <td>1.000000e-08</td>\n      <td>-6.153727</td>\n    </tr>\n    <tr>\n      <th rowspan=\"2\" valign=\"top\">CVCL_0004</th>\n      <th rowspan=\"2\" valign=\"top\">K-562</th>\n      <th>36314</th>\n      <th>Paclitaxel</th>\n      <td>CVCL_0004|36314</td>\n      <td>0.0</td>\n      <td>8.166454</td>\n      <td>2.553741</td>\n      <td>1.163487</td>\n      <td>0.358872</td>\n      <td>-0.789264</td>\n      <td>1.104288</td>\n      <td>0.099598</td>\n      <td>0.786507</td>\n      <td>...</td>\n      <td>1.249613e-08</td>\n      <td>K-562</td>\n      <td>CVCL_0004</td>\n      <td>36314</td>\n      <td>-3.609454</td>\n      <td>0.940273</td>\n      <td>2.706662e-08</td>\n      <td>1.000530e-11</td>\n      <td>1.000000e-08</td>\n      <td>-4.382336</td>\n    </tr>\n    <tr>\n      <th>5352062</th>\n      <th>Romidepsin</th>\n      <td>CVCL_0004|5352062</td>\n      <td>0.0</td>\n      <td>8.326453</td>\n      <td>2.605769</td>\n      <td>0.958683</td>\n      <td>0.000100</td>\n      <td>-3.075988</td>\n      <td>0.847337</td>\n      <td>0.027443</td>\n      <td>0.990385</td>\n      <td>...</td>\n      <td>4.562531e-09</td>\n      <td>K-562</td>\n      <td>CVCL_0004</td>\n      <td>5352062</td>\n      <td>-5.305005</td>\n      <td>0.825615</td>\n      <td>4.966673e-09</td>\n      <td>1.000530e-11</td>\n      <td>1.000000e-08</td>\n      <td>-5.389878</td>\n    </tr>\n    <tr>\n      <th>...</th>\n      <th>...</th>\n      <th>...</th>\n      <th>...</th>\n      <td>...</td>\n      <td>...</td>\n      <td>...</td>\n      <td>...</td>\n      <td>...</td>\n      <td>...</td>\n      <td>...</td>\n      <td>...</td>\n      <td>...</td>\n      <td>...</td>\n      <td>...</td>\n      <td>...</td>\n      <td>...</td>\n      <td>...</td>\n      <td>...</td>\n      <td>...</td>\n      <td>...</td>\n      <td>...</td>\n      <td>...</td>\n      <td>...</td>\n      <td>...</td>\n    </tr>\n    <tr>\n      <th>CVCL_1411</th>\n      <th>MHH-ES-1</th>\n      <th>54679076.0</th>\n      <th>ascorbate (vitamin C)</th>\n      <td>CVCL_1411|54679076</td>\n      <td>0.0</td>\n      <td>3.267237</td>\n      <td>10.000000</td>\n      <td>1.025703</td>\n      <td>0.883452</td>\n      <td>-0.178776</td>\n      <td>0.998755</td>\n      <td>0.072199</td>\n      <td>0.400090</td>\n      <td>...</td>\n      <td>NaN</td>\n      <td>MHH-ES-1</td>\n      <td>CVCL_1411</td>\n      <td>54679076.0</td>\n      <td>9.857216</td>\n      <td>0.972756</td>\n      <td>1.909565e-02</td>\n      <td>2.001054e-06</td>\n      <td>2.000000e-03</td>\n      <td>NaN</td>\n    </tr>\n    <tr>\n      <th rowspan=\"2\" valign=\"top\">CVCL_1640</th>\n      <th rowspan=\"2\" valign=\"top\">PC-14</th>\n      <th>12035.0</th>\n      <th>N-acetyl cysteine</th>\n      <td>CVCL_1640|12035</td>\n      <td>0.0</td>\n      <td>NaN</td>\n      <td>10.000000</td>\n      <td>0.938010</td>\n      <td>0.005520</td>\n      <td>-0.153882</td>\n      <td>0.937431</td>\n      <td>0.079118</td>\n      <td>0.028969</td>\n      <td>...</td>\n      <td>2.701194e-03</td>\n      <td>PC-14</td>\n      <td>CVCL_1640</td>\n      <td>12035.0</td>\n      <td>10.319507</td>\n      <td>0.971241</td>\n      <td>3.031831e-02</td>\n      <td>2.001054e-06</td>\n      <td>2.000000e-03</td>\n      <td>7.901449</td>\n    </tr>\n    <tr>\n      <th>54679076.0</th>\n      <th>ascorbate (vitamin C)</th>\n      <td>CVCL_1640|54679076</td>\n      <td>0.0</td>\n      <td>5.119383</td>\n      <td>0.615553</td>\n      <td>1.060569</td>\n      <td>0.939953</td>\n      <td>-0.083547</td>\n      <td>0.972687</td>\n      <td>0.086486</td>\n      <td>0.100900</td>\n      <td>...</td>\n      <td>NaN</td>\n      <td>PC-14</td>\n      <td>CVCL_1640</td>\n      <td>54679076.0</td>\n      <td>10.650215</td>\n      <td>0.976845</td>\n      <td>4.220167e-02</td>\n      <td>2.001054e-06</td>\n      <td>2.000000e-03</td>\n      <td>NaN</td>\n    </tr>\n    <tr>\n      <th>CVCL_1097</th>\n      <th>C32 [Human melanoma]</th>\n      <th>12035.0</th>\n      <th>N-acetyl cysteine</th>\n      <td>CVCL_ZA06|12035</td>\n      <td>0.0</td>\n      <td>5.409917</td>\n      <td>0.956485</td>\n      <td>1.028784</td>\n      <td>0.869934</td>\n      <td>-0.200352</td>\n      <td>0.895382</td>\n      <td>0.107171</td>\n      <td>0.111310</td>\n      <td>...</td>\n      <td>NaN</td>\n      <td>C32</td>\n      <td>CVCL_1097</td>\n      <td>12035.0</td>\n      <td>9.607635</td>\n      <td>0.957082</td>\n      <td>1.487794e-02</td>\n      <td>2.001054e-06</td>\n      <td>2.000000e-03</td>\n      <td>NaN</td>\n    </tr>\n    <tr>\n      <th>CVCL_0547</th>\n      <th>SW620</th>\n      <th>54679076.0</th>\n      <th>ascorbate (vitamin C)</th>\n      <td>CVCL_0547|54679076</td>\n      <td>0.0</td>\n      <td>3.130130</td>\n      <td>10.000000</td>\n      <td>0.979639</td>\n      <td>0.677130</td>\n      <td>-0.562464</td>\n      <td>0.936159</td>\n      <td>0.130324</td>\n      <td>0.389459</td>\n      <td>...</td>\n      <td>NaN</td>\n      <td>SW620</td>\n      <td>CVCL_0547</td>\n      <td>54679076.0</td>\n      <td>9.261142</td>\n      <td>0.925583</td>\n      <td>1.052114e-02</td>\n      <td>2.001054e-06</td>\n      <td>2.000000e-03</td>\n      <td>NaN</td>\n    </tr>\n  </tbody>\n</table>\n<p>234436 rows × 28 columns</p>\n</div>"
     },
     "execution_count": 18,
     "metadata": {},
     "output_type": "execute_result"
    }
   ],
   "source": [
    "mapped_response_df"
   ],
   "metadata": {
    "collapsed": false,
    "ExecuteTime": {
     "end_time": "2025-02-07T10:05:37.754187Z",
     "start_time": "2025-02-07T10:05:37.464491Z"
    }
   },
   "id": "35dcc42a758024d1"
  },
  {
   "cell_type": "code",
   "execution_count": null,
   "outputs": [],
   "source": [],
   "metadata": {
    "collapsed": false
   },
   "id": "feac05cb299bb"
  }
 ],
 "metadata": {
  "kernelspec": {
   "display_name": "Python 3 (ipykernel)",
   "language": "python",
   "name": "python3"
  },
  "language_info": {
   "codemirror_mode": {
    "name": "ipython",
    "version": 3
   },
   "file_extension": ".py",
   "mimetype": "text/x-python",
   "name": "python",
   "nbconvert_exporter": "python",
   "pygments_lexer": "ipython3",
   "version": "3.11.10"
  }
 },
 "nbformat": 4,
 "nbformat_minor": 5
}
