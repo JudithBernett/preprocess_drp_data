{
 "cells": [
  {
   "cell_type": "markdown",
   "source": [
    "We have the following problem: drug names are not unique in the respective dataframes. E.g., sometimes, they are using different synonyms, sometimes, there are typos, sometimes, there is random capitalization. The first resort was retrieving the PubChem IDs. However, this opened up new problems. PubChem IDs are not unique, as it turns out. This notebook tries to see how large the problem is."
   ],
   "metadata": {
    "collapsed": false
   },
   "id": "56ceb2457cd52c80"
  },
  {
   "cell_type": "code",
   "execution_count": 1,
   "outputs": [],
   "source": [
    "import os\n",
    "import pandas as pd\n",
    "import pubchempy as pcp"
   ],
   "metadata": {
    "collapsed": false,
    "ExecuteTime": {
     "end_time": "2025-02-20T10:23:29.260951Z",
     "start_time": "2025-02-20T10:23:28.785124Z"
    }
   },
   "id": "7dfebbcc1436ce8c"
  },
  {
   "cell_type": "code",
   "execution_count": 2,
   "outputs": [
    {
     "name": "stderr",
     "output_type": "stream",
     "text": [
      "/var/folders/3x/f8j9tddj7flfxt9zx1gkws1m0000gn/T/ipykernel_29082/3270284785.py:10: DtypeWarning: Columns (2) have mixed types. Specify dtype option on import or set low_memory=False.\n",
      "  df = pd.read_csv(file)\n",
      "/var/folders/3x/f8j9tddj7flfxt9zx1gkws1m0000gn/T/ipykernel_29082/3270284785.py:10: DtypeWarning: Columns (2,25) have mixed types. Specify dtype option on import or set low_memory=False.\n",
      "  df = pd.read_csv(file)\n"
     ]
    },
    {
     "data": {
      "text/plain": "        pubchem_id              drug_name dataset\n0         11656518                 RAF265    CCLE\n1         24180719                PLX4720    CCLE\n2         10127622                AZD6244    CCLE\n3         10302451                AZD0530    CCLE\n4         10461815             PHA-665752    CCLE\n...            ...                    ...     ...\n229715      3899.0            Leflunomide   GDSC2\n231502       864.0      alpha-lipoic acid   GDSC2\n232237    124886.0            glutathione   GDSC2\n232969     12035.0      N-acetyl cysteine   GDSC2\n232970  54679076.0  ascorbate (vitamin C)   GDSC2\n\n[1617 rows x 3 columns]",
      "text/html": "<div>\n<style scoped>\n    .dataframe tbody tr th:only-of-type {\n        vertical-align: middle;\n    }\n\n    .dataframe tbody tr th {\n        vertical-align: top;\n    }\n\n    .dataframe thead th {\n        text-align: right;\n    }\n</style>\n<table border=\"1\" class=\"dataframe\">\n  <thead>\n    <tr style=\"text-align: right;\">\n      <th></th>\n      <th>pubchem_id</th>\n      <th>drug_name</th>\n      <th>dataset</th>\n    </tr>\n  </thead>\n  <tbody>\n    <tr>\n      <th>0</th>\n      <td>11656518</td>\n      <td>RAF265</td>\n      <td>CCLE</td>\n    </tr>\n    <tr>\n      <th>1</th>\n      <td>24180719</td>\n      <td>PLX4720</td>\n      <td>CCLE</td>\n    </tr>\n    <tr>\n      <th>2</th>\n      <td>10127622</td>\n      <td>AZD6244</td>\n      <td>CCLE</td>\n    </tr>\n    <tr>\n      <th>3</th>\n      <td>10302451</td>\n      <td>AZD0530</td>\n      <td>CCLE</td>\n    </tr>\n    <tr>\n      <th>4</th>\n      <td>10461815</td>\n      <td>PHA-665752</td>\n      <td>CCLE</td>\n    </tr>\n    <tr>\n      <th>...</th>\n      <td>...</td>\n      <td>...</td>\n      <td>...</td>\n    </tr>\n    <tr>\n      <th>229715</th>\n      <td>3899.0</td>\n      <td>Leflunomide</td>\n      <td>GDSC2</td>\n    </tr>\n    <tr>\n      <th>231502</th>\n      <td>864.0</td>\n      <td>alpha-lipoic acid</td>\n      <td>GDSC2</td>\n    </tr>\n    <tr>\n      <th>232237</th>\n      <td>124886.0</td>\n      <td>glutathione</td>\n      <td>GDSC2</td>\n    </tr>\n    <tr>\n      <th>232969</th>\n      <td>12035.0</td>\n      <td>N-acetyl cysteine</td>\n      <td>GDSC2</td>\n    </tr>\n    <tr>\n      <th>232970</th>\n      <td>54679076.0</td>\n      <td>ascorbate (vitamin C)</td>\n      <td>GDSC2</td>\n    </tr>\n  </tbody>\n</table>\n<p>1617 rows × 3 columns</p>\n</div>"
     },
     "execution_count": 2,
     "metadata": {},
     "output_type": "execute_result"
    }
   ],
   "source": [
    "all_datasets = {\n",
    "    \"CCLE\": \"/Users/judithbernett/PycharmProjects/drp_model_suite/data/CCLE/CCLE.csv\",\n",
    "    \"CTRPv1\": \"/Users/judithbernett/PycharmProjects/drp_model_suite/data/CTRPv1/CTRPv1.csv\",\n",
    "    \"CTRPv2\": \"/Users/judithbernett/PycharmProjects/drp_model_suite/data/CTRPv2/CTRPv2.csv\",\n",
    "    \"GDSC1\": \"/Users/judithbernett/PycharmProjects/drp_model_suite/data/GDSC1/GDSC1.csv\",\n",
    "    \"GDSC2\": \"/Users/judithbernett/PycharmProjects/drp_model_suite/data/GDSC2/GDSC2.csv\",\n",
    "}\n",
    "all_drug_names = pd.DataFrame(columns=[\"pubchem_id\",\"drug_name\", \"dataset\"])\n",
    "for dataset, file in all_datasets.items():\n",
    "    df = pd.read_csv(file)\n",
    "    df = df[[\"pubchem_id\", \"drug_name\"]].drop_duplicates()\n",
    "    df[\"dataset\"] = dataset\n",
    "    all_drug_names = pd.concat([all_drug_names, df])\n",
    "all_drug_names"
   ],
   "metadata": {
    "collapsed": false,
    "ExecuteTime": {
     "end_time": "2025-02-20T10:23:35.526402Z",
     "start_time": "2025-02-20T10:23:31.142548Z"
    }
   },
   "id": "df05316eca512646"
  },
  {
   "cell_type": "markdown",
   "source": [
    "We will now iterate through all drug names. For each drug name, we will retrieve the PubChem ID, the synonyms, the IUPAC name, the canonical smiles, the cactvs fingerprints, the fingerprint."
   ],
   "metadata": {
    "collapsed": false
   },
   "id": "6e2772a0a7f44ea4"
  },
  {
   "cell_type": "code",
   "execution_count": 3,
   "outputs": [
    {
     "name": "stdout",
     "output_type": "stream",
     "text": [
      "Processing 0 of 1253\n",
      "Error for BAY-HDAC11_4: No compound found for BAY-HDAC11_4\n",
      "Error for SB590885: Multiple compounds found for SB590885\n",
      "Error for THZ-2-98-01: No compound found for THZ-2-98-01\n",
      "Error for CCT245467: No compound found for CCT245467\n",
      "Processing 10 of 1253\n",
      "Error for PBD-288: No compound found for PBD-288\n",
      "Error for PARP_0108: No compound found for PARP_0108\n",
      "Processing 20 of 1253\n",
      "Error for FS112: No compound found for FS112\n",
      "Error for THZ-1-87: No compound found for THZ-1-87\n",
      "Processing 30 of 1253\n",
      "Processing 40 of 1253\n",
      "Error for N27922-53-1: No compound found for N27922-53-1\n",
      "Error for VNLG/124: Multiple compounds found for VNLG/124\n",
      "Error for selumetinib:UNC0638 (4:1 mol/mol): No compound found for selumetinib:UNC0638 (4:1 mol/mol)\n",
      "Processing 50 of 1253\n",
      "Error for BAY-HDAC11_1: No compound found for BAY-HDAC11_1\n",
      "Processing 60 of 1253\n",
      "Error for THZ-2-102-1: No compound found for THZ-2-102-1\n",
      "Error for vorinostat:navitoclax (4:1 mol/mol): No compound found for vorinostat:navitoclax (4:1 mol/mol)\n",
      "Processing 70 of 1253\n",
      "Error for IPR-456: Multiple compounds found for IPR-456\n",
      "Error for iso-DC-45-A2: No compound found for iso-DC-45-A2\n",
      "Processing 80 of 1253\n",
      "Error for CDK9_5038: No compound found for CDK9_5038\n",
      "Error for CI-1033: Multiple compounds found for CI-1033\n",
      "Processing 90 of 1253\n",
      "Error for nutlin-3: Multiple compounds found for nutlin-3\n",
      "Error for BRD-K14844214: Multiple compounds found for BRD-K14844214\n",
      "Error for 2-bromopyruvate: No compound found for 2-bromopyruvate\n",
      "Error for temsirolimus: Multiple compounds found for temsirolimus\n",
      "Error for BRD-K75293299: Multiple compounds found for BRD-K75293299\n",
      "Error for 2-deoxyglucose: No compound found for 2-deoxyglucose\n",
      "Error for BRD-K99006945: Multiple compounds found for BRD-K99006945\n",
      "Processing 100 of 1253\n",
      "Error for 1818: No compound found for 1818\n",
      "Error for Genentech Cpd 10: No compound found for Genentech Cpd 10\n",
      "Processing 110 of 1253\n",
      "Error for BRD-K19103580: Multiple compounds found for BRD-K19103580\n",
      "Error for erastin-A8: No compound found for erastin-A8\n",
      "Error for CRT0105446: No compound found for CRT0105446\n",
      "Processing 120 of 1253\n",
      "Error for ETP-45835: Multiple compounds found for ETP-45835\n",
      "Error for BRD-K41597374: Multiple compounds found for BRD-K41597374\n",
      "Error for pitstop2: Multiple compounds found for pitstop2\n",
      "Error for AZD7969: No compound found for AZD7969\n",
      "Error for BRD-A02303741: Multiple compounds found for BRD-A02303741\n",
      "Processing 130 of 1253\n",
      "Error for BRD-K16130065: No compound found for BRD-K16130065\n",
      "Processing 140 of 1253\n",
      "Error for 123829: No compound found for 123829\n",
      "Error for BRD63610: No compound found for BRD63610\n",
      "Processing 150 of 1253\n",
      "Error for Temsirolimus: Multiple compounds found for Temsirolimus\n",
      "Processing 160 of 1253\n",
      "Collision for Trametinib: ['trametinib']\n",
      "Error for FGFR_0939: No compound found for FGFR_0939\n",
      "Error for BRD-M00053801: Multiple compounds found for BRD-M00053801\n",
      "Collision for Imatinib: ['imatinib']\n",
      "Collision for PLX4720: ['PLX-4720']\n",
      "Error for BRD-K35604418: No compound found for BRD-K35604418\n",
      "Processing 170 of 1253\n",
      "Error for FEN1_3940: No compound found for FEN1_3940\n",
      "Error for GSK-LSD1: Multiple compounds found for GSK-LSD1\n",
      "Error for PARP_9495: No compound found for PARP_9495\n",
      "Error for SB-743921: Multiple compounds found for SB-743921\n",
      "Error for racemic-2,4-dideoxy-DC-45-A2: No compound found for racemic-2,4-dideoxy-DC-45-A2\n",
      "Error for vincristine: Multiple compounds found for vincristine\n",
      "Processing 180 of 1253\n",
      "Error for GSK3337463A: No compound found for GSK3337463A\n",
      "Error for navitoclax:gemcitabine (1:1 mol/mol): No compound found for navitoclax:gemcitabine (1:1 mol/mol)\n",
      "Processing 190 of 1253\n",
      "Error for ERK_6604: No compound found for ERK_6604\n",
      "Error for BRD8958: No compound found for BRD8958\n",
      "Error for piperlongumine:MST-312 (1:1 mol/mol): No compound found for piperlongumine:MST-312 (1:1 mol/mol)\n",
      "Processing 200 of 1253\n",
      "Error for Bryostatin 1: Multiple compounds found for Bryostatin 1\n",
      "Error for IGFR_3801: No compound found for IGFR_3801\n",
      "Processing 210 of 1253\n",
      "Error for LMB_AB2: No compound found for LMB_AB2\n",
      "Error for MPS-1-IN-1: No compound found for MPS-1-IN-1\n",
      "Processing 220 of 1253\n",
      "Error for Compound 23 citrate: Multiple compounds found for Compound 23 citrate\n",
      "Error for 1205: No compound found for 1205\n",
      "Error for BRD6430: No compound found for BRD6430\n",
      "Error for carboplatin:UNC0638 (2:1 mol/mol): No compound found for carboplatin:UNC0638 (2:1 mol/mol)\n",
      "Error for BRD-K48477130: Multiple compounds found for BRD-K48477130\n",
      "Processing 230 of 1253\n",
      "Error for PRL-3 Inhibitor I: Multiple compounds found for PRL-3 Inhibitor I\n",
      "Error for LMB_AB1: No compound found for LMB_AB1\n",
      "Processing 240 of 1253\n",
      "Error for BRD4372: No compound found for BRD4372\n",
      "Collision for BEZ235: ['NVP-BEZ235']\n",
      "Processing 250 of 1253\n",
      "Error for 741909: No compound found for 741909\n",
      "Error for BRD6825: No compound found for BRD6825\n",
      "Error for JQ-1:navitoclax (2:1 mol/mol): No compound found for JQ-1:navitoclax (2:1 mol/mol)\n",
      "Error for BRD-K02492147: Multiple compounds found for BRD-K02492147\n",
      "Processing 260 of 1253\n",
      "Collision for tivozanib: ['Tivozanib']\n",
      "Error for Eg5_9814: No compound found for Eg5_9814\n",
      "Error for carboplatin:etoposide (40:17 mol/mol): No compound found for carboplatin:etoposide (40:17 mol/mol)\n",
      "Processing 270 of 1253\n",
      "Error for AS605240: Multiple compounds found for AS605240\n",
      "Error for IRAK4_4710: No compound found for IRAK4_4710\n",
      "Error for BDOCA000347a: No compound found for BDOCA000347a\n",
      "Error for PIK-75: Multiple compounds found for PIK-75\n",
      "Error for parthenolide: Multiple compounds found for parthenolide\n",
      "Collision for Veliparib: ['veliparib']\n",
      "Error for BRD-A02303741:carboplatin (1:1 mol/mol): No compound found for BRD-A02303741:carboplatin (1:1 mol/mol)\n",
      "Processing 280 of 1253\n",
      "Error for FY026: No compound found for FY026\n",
      "Error for BRD-K03536150: No compound found for BRD-K03536150\n",
      "Error for Picolinici-acid: No compound found for Picolinici-acid\n",
      "Error for CID 2853753: No compound found for CID 2853753\n",
      "Processing 290 of 1253\n",
      "Error for fumonisin B1: Multiple compounds found for fumonisin B1\n",
      "Error for FY012: No compound found for FY012\n",
      "Collision for Sapitinib: ['AZD8931']\n",
      "Error for Obatoclax Mesylate: Multiple compounds found for Obatoclax Mesylate\n",
      "Processing 300 of 1253\n",
      "Error for 667880: No compound found for 667880\n",
      "Error for 965-D2: No compound found for 965-D2\n",
      "Collision for sirolimus: ['Rapamycin']\n",
      "Error for Venotoclax: No compound found for Venotoclax\n",
      "Processing 310 of 1253\n",
      "Error for GW441756: Multiple compounds found for GW441756\n",
      "Collision for lapatinib: ['Lapatinib']\n",
      "Processing 320 of 1253\n",
      "Error for SR-II-138A: No compound found for SR-II-138A\n",
      "Processing 330 of 1253\n",
      "Error for navitoclax:sorafenib (1:1 mol/mol): No compound found for navitoclax:sorafenib (1:1 mol/mol)\n",
      "Collision for nelarabine: ['Nelarabine']\n",
      "Error for CR-1-31B: Multiple compounds found for CR-1-31B\n",
      "Processing 340 of 1253\n",
      "Error for KIN001-236: No compound found for KIN001-236\n",
      "Collision for oxaliplatin: ['Oxaliplatin']\n",
      "Error for Bleomycin: Multiple compounds found for Bleomycin\n",
      "Error for BRD8097: No compound found for BRD8097\n",
      "Processing 350 of 1253\n",
      "Error for N29087-69-1: No compound found for N29087-69-1\n",
      "Collision for Tozasertib: ['tozasertib']\n",
      "Processing 360 of 1253\n",
      "Error for Dacarbazine: Multiple compounds found for Dacarbazine\n",
      "Collision for etoposide: ['Etoposide']\n",
      "Collision for teniposide: ['Teniposide']\n",
      "Error for navitoclax:piperlongumine (1:1 mol/mol): No compound found for navitoclax:piperlongumine (1:1 mol/mol)\n",
      "Error for JAK1_3715: No compound found for JAK1_3715\n",
      "Processing 370 of 1253\n",
      "Collision for temozolomide: ['Temozolomide']\n",
      "Collision for Lenalidomide: ['lenalidomide']\n",
      "Error for Bleomycin (10 uM): No compound found for Bleomycin (10 uM)\n",
      "Processing 380 of 1253\n",
      "Collision for Afatinib: ['afatinib']\n",
      "Error for BDP-00009066: No compound found for BDP-00009066\n",
      "Error for TTNBP: No compound found for TTNBP\n",
      "Collision for AZD6094: ['Savolitinib']\n",
      "Collision for AZD7545: ['AZD-7545']\n",
      "Processing 390 of 1253\n",
      "Error for m-3M3-FBS: No compound found for m-3M3-FBS\n",
      "Error for UNC0638:navitoclax (1:1 mol/mol): No compound found for UNC0638:navitoclax (1:1 mol/mol)\n",
      "Error for MK-8776: Multiple compounds found for MK-8776\n",
      "Processing 400 of 1253\n",
      "Collision for Cediranib: ['cediranib']\n",
      "Error for EHT-1864: Multiple compounds found for EHT-1864\n",
      "Error for LMB_AB3: No compound found for LMB_AB3\n",
      "Error for Compound 110: No compound found for Compound 110\n",
      "Error for BRD-K58730230: No compound found for BRD-K58730230\n",
      "Error for BRD-K27188169: No compound found for BRD-K27188169\n",
      "Processing 410 of 1253\n",
      "Error for DC-45-A2: No compound found for DC-45-A2\n",
      "Error for T-5345967: No compound found for T-5345967\n",
      "Error for BRD-K70511574: No compound found for BRD-K70511574\n",
      "Error for TL-2-105: No compound found for TL-2-105\n",
      "Processing 420 of 1253\n",
      "Error for BRD-K90370028: Multiple compounds found for BRD-K90370028\n",
      "Collision for MLN-4924: ['Pevonedistat']\n",
      "Error for ML239: Multiple compounds found for ML239\n",
      "Processing 430 of 1253\n",
      "Error for 2,4-dideoxy-DC-45-A2: No compound found for 2,4-dideoxy-DC-45-A2\n",
      "Error for staurosporine: Multiple compounds found for staurosporine\n",
      "Processing 440 of 1253\n",
      "Error for selumetinib:MK-2206 (8:1 mol/mol): No compound found for selumetinib:MK-2206 (8:1 mol/mol)\n",
      "Error for MCT1_6447: No compound found for MCT1_6447\n",
      "Processing 450 of 1253\n",
      "Error for bardoxolone methyl: Multiple compounds found for bardoxolone methyl\n",
      "Error for 1S,3R-RSL-3: No compound found for 1S,3R-RSL-3\n",
      "Error for BRD-K63431240: No compound found for BRD-K63431240\n",
      "Collision for entinostat: ['Entinostat']\n",
      "Processing 460 of 1253\n",
      "Error for BRD-A94377914: Multiple compounds found for BRD-A94377914\n",
      "Error for TAF1_5496: No compound found for TAF1_5496\n",
      "Processing 470 of 1253\n",
      "Error for BRD-K84807411: Multiple compounds found for BRD-K84807411\n",
      "Error for navitoclax:MST-312 (1:1 mol/mol): No compound found for navitoclax:MST-312 (1:1 mol/mol)\n",
      "Error for 729189: No compound found for 729189\n",
      "Error for YL54: No compound found for YL54\n",
      "Error for BRD2762: No compound found for BRD2762\n",
      "Processing 480 of 1253\n",
      "Error for 968: No compound found for 968\n",
      "Error for BRD9786: No compound found for BRD9786\n",
      "Error for BRD-K27188169:navitoclax (2:1 mol/mol): No compound found for BRD-K27188169:navitoclax (2:1 mol/mol)\n",
      "Collision for fulvestrant: ['Fulvestrant']\n",
      "Collision for BYL-719: ['Alpelisib']\n",
      "Processing 490 of 1253\n",
      "Collision for Dactolisib: ['NVP-BEZ235', 'BEZ235']\n",
      "Error for FY069: No compound found for FY069\n",
      "Error for CDK9_5576: No compound found for CDK9_5576\n",
      "Processing 500 of 1253\n",
      "Error for (5Z)-7-Oxozeaenol: Multiple compounds found for (5Z)-7-Oxozeaenol\n",
      "Error for tanespimycin:bortezomib (250:1 mol/mol): No compound found for tanespimycin:bortezomib (250:1 mol/mol)\n",
      "Error for BRD-K64610608: No compound found for BRD-K64610608\n",
      "Collision for JQ1: ['JQ-1']\n",
      "Error for MCT4_1422: No compound found for MCT4_1422\n",
      "Processing 510 of 1253\n",
      "Collision for PF-543: ['Sphingosine Kinase 1 Inhibitor II']\n",
      "Error for BRD-K86535717: Multiple compounds found for BRD-K86535717\n",
      "Error for Vinorelbine: Multiple compounds found for Vinorelbine\n",
      "Error for IAP_7638: No compound found for IAP_7638\n",
      "Processing 520 of 1253\n",
      "Error for FTY-720: Multiple compounds found for FTY-720\n",
      "Error for IGF1R_3801: No compound found for IGF1R_3801\n",
      "Error for BRD-A02303741:navitoclax (2:1 mol/mol): No compound found for BRD-A02303741:navitoclax (2:1 mol/mol)\n",
      "Error for Y-39983: Multiple compounds found for Y-39983\n",
      "Processing 530 of 1253\n",
      "Error for 5-benzyl-9-tert-butyl-paullone: No compound found for 5-benzyl-9-tert-butyl-paullone\n",
      "Error for KIN001-260: No compound found for KIN001-260\n",
      "Processing 540 of 1253\n",
      "Collision for crizotinib: ['Crizotinib']\n",
      "Error for BPD-00008900: No compound found for BPD-00008900\n",
      "Error for ISOX:bortezomib (250:1 mol/mol): No compound found for ISOX:bortezomib (250:1 mol/mol)\n",
      "Processing 550 of 1253\n",
      "Error for BRD-K02251932: Multiple compounds found for BRD-K02251932\n",
      "Collision for nintedanib: ['BIBF-1120']\n",
      "Processing 560 of 1253\n",
      "Error for BRD-K16147474: Multiple compounds found for BRD-K16147474\n",
      "Error for BRD1835: Multiple compounds found for BRD1835\n",
      "Error for Compound 2: No compound found for Compound 2\n",
      "Processing 570 of 1253\n",
      "Error for VTP-B: No compound found for VTP-B\n",
      "Collision for Nilotinib: ['nilotinib']\n",
      "Error for obatoclax: Multiple compounds found for obatoclax\n",
      "Collision for ABT737: ['ABT-737']\n",
      "Error for BRD-K09344309: Multiple compounds found for BRD-K09344309\n",
      "Error for BRD-K50799972: Multiple compounds found for BRD-K50799972\n",
      "Processing 580 of 1253\n",
      "Error for PDMP: Multiple compounds found for PDMP\n",
      "Processing 590 of 1253\n",
      "Error for JNK-9L: No compound found for JNK-9L\n",
      "Error for QL-VIII-58: No compound found for QL-VIII-58\n",
      "Error for Compound 12: No compound found for Compound 12\n",
      "Error for selumetinib:JQ-1 (4:1 mol/mol): No compound found for selumetinib:JQ-1 (4:1 mol/mol)\n",
      "Processing 600 of 1253\n",
      "Error for decitabine:navitoclax (2:1 mol/mol): No compound found for decitabine:navitoclax (2:1 mol/mol)\n",
      "Collision for Sepantronium bromide: ['YM-155']\n",
      "Error for ICL1100013: No compound found for ICL1100013\n",
      "Collision for Selumetinib: ['AZD6244']\n",
      "Error for ML334 diastereomer: No compound found for ML334 diastereomer\n",
      "Processing 610 of 1253\n",
      "Error for BRD-K29313308: No compound found for BRD-K29313308\n",
      "Error for N30652-18-1: No compound found for N30652-18-1\n",
      "Collision for Navitoclax: ['navitoclax']\n",
      "Error for navitoclax:PLX-4032 (1:1 mol/mol): No compound found for navitoclax:PLX-4032 (1:1 mol/mol)\n",
      "Collision for dasatinib: ['Dasatinib']\n",
      "Processing 620 of 1253\n",
      "Collision for erlotinib: ['Erlotinib']\n",
      "Error for BRD-K27224038: Multiple compounds found for BRD-K27224038\n",
      "Error for BDF00022089a: No compound found for BDF00022089a\n",
      "Error for KRAS (G12C) Inhibitor-12: No compound found for KRAS (G12C) Inhibitor-12\n",
      "Error for AA-COCF3: No compound found for AA-COCF3\n",
      "Collision for Daporinad: ['daporinad']\n",
      "Error for MIM1: Multiple compounds found for MIM1\n",
      "Collision for Masitinib: ['masitinib']\n",
      "Processing 630 of 1253\n",
      "Error for BRD-K66453893: Multiple compounds found for BRD-K66453893\n",
      "Error for eEF2K Inhibitor, A-484954: No compound found for eEF2K Inhibitor, A-484954\n",
      "Processing 640 of 1253\n",
      "Error for BRD-K55473186: No compound found for BRD-K55473186\n",
      "Error for tanespimycin:gemcitabine (1:1 mol/mol): No compound found for tanespimycin:gemcitabine (1:1 mol/mol)\n",
      "Error for BRD7137: No compound found for BRD7137\n",
      "Processing 650 of 1253\n",
      "Error for crizotinib:PLX-4032 (2:1 mol/mol): No compound found for crizotinib:PLX-4032 (2:1 mol/mol)\n",
      "Error for selumetinib:piperlongumine (8:1 mol/mol): No compound found for selumetinib:piperlongumine (8:1 mol/mol)\n",
      "Error for GDC-0879: Multiple compounds found for GDC-0879\n",
      "Processing 660 of 1253\n",
      "Error for Cetuximab: No compound found for Cetuximab\n",
      "Error for BAY-MPS1: No compound found for BAY-MPS1\n",
      "Error for BRD-K99584050: No compound found for BRD-K99584050\n",
      "Processing 670 of 1253\n",
      "Error for VAF-347: No compound found for VAF-347\n",
      "Error for JAK_8517: No compound found for JAK_8517\n",
      "Collision for TAE684: ['NVP-TAE684']\n",
      "Error for KIN001-042: No compound found for KIN001-042\n",
      "Processing 680 of 1253\n",
      "Error for BRD-K17060750: Multiple compounds found for BRD-K17060750\n",
      "Error for XMD11-50: No compound found for XMD11-50\n",
      "Processing 690 of 1253\n",
      "Error for BRD5802: No compound found for BRD5802\n",
      "Error for bafilomycin A1: Multiple compounds found for bafilomycin A1\n",
      "Error for BRD4470: No compound found for BRD4470\n",
      "Error for BRD-K96970199: Multiple compounds found for BRD-K96970199\n",
      "Error for BRD-A86708339: No compound found for BRD-A86708339\n",
      "Processing 700 of 1253\n",
      "Error for BRD-K55116708: Multiple compounds found for BRD-K55116708\n",
      "Error for PRL-3 inhibitor I: Multiple compounds found for PRL-3 inhibitor I\n",
      "Error for 123138: No compound found for 123138\n",
      "Processing 710 of 1253\n",
      "Collision for Tamoxifen: ['tamoxifen']\n",
      "Collision for Merck60: ['JQ12']\n",
      "Error for avrainvillamide: Multiple compounds found for avrainvillamide\n",
      "Collision for I-BET-762: ['GSK525762A']\n",
      "Processing 720 of 1253\n",
      "Error for BRD-K09587429: Multiple compounds found for BRD-K09587429\n",
      "Error for HKMTI-1-005: No compound found for HKMTI-1-005\n",
      "Error for BRD-K33199242: Multiple compounds found for BRD-K33199242\n",
      "Collision for MK-1775: ['MK 1775']\n",
      "Processing 730 of 1253\n",
      "Error for BRD9571: No compound found for BRD9571\n",
      "Error for (-)-gallocatechin-3-monogallate: No compound found for (-)-gallocatechin-3-monogallate\n",
      "Error for Compound 11e: No compound found for Compound 11e\n",
      "Processing 740 of 1253\n",
      "Collision for Docetaxel: ['docetaxel']\n",
      "Error for MetAP2 Inhibitor, A832234: No compound found for MetAP2 Inhibitor, A832234\n",
      "Collision for ML083: ['ASN 05257430']\n",
      "Processing 750 of 1253\n",
      "Collision for TW 37: ['TW-37']\n",
      "Error for BRD0713: No compound found for BRD0713\n",
      "Error for ERK_2440: No compound found for ERK_2440\n",
      "Error for docetaxel:tanespimycin (2:1 mol/mol): No compound found for docetaxel:tanespimycin (2:1 mol/mol)\n",
      "Error for PP-30: No compound found for PP-30\n",
      "Processing 760 of 1253\n",
      "Collision for 5-Fluorouracil: ['fluorouracil']\n",
      "Collision for Topotecan: ['topotecan']\n",
      "Processing 770 of 1253\n",
      "Error for BRD-K52037352: Multiple compounds found for BRD-K52037352\n",
      "Error for selumetinib:tretinoin (2:1 mol/mol): No compound found for selumetinib:tretinoin (2:1 mol/mol)\n",
      "Error for 776928: No compound found for 776928\n",
      "Collision for Venetoclax: ['ABT-199']\n",
      "Error for 743380: No compound found for 743380\n",
      "Error for ascorbate (vitamin C): No compound found for ascorbate (vitamin C)\n",
      "Processing 780 of 1253\n",
      "Collision for methotrexate: ['Methotrexate']\n",
      "Error for GSK2830371A: No compound found for GSK2830371A\n",
      "Collision for piperlongumine: ['Piperlongumine']\n",
      "Error for N24798-49-A1: No compound found for N24798-49-A1\n",
      "Processing 790 of 1253\n",
      "Error for PL-DI: Multiple compounds found for PL-DI\n",
      "Error for tretinoin:navitoclax (4:1 mol/mol): No compound found for tretinoin:navitoclax (4:1 mol/mol)\n",
      "Error for selumetinib:decitabine (4:1 mol/mol): No compound found for selumetinib:decitabine (4:1 mol/mol)\n",
      "Collision for FK866: ['daporinad', 'Daporinad']\n",
      "Error for Compound 7d-cis: Multiple compounds found for Compound 7d-cis\n",
      "Error for fluvastatin: Multiple compounds found for fluvastatin\n",
      "Processing 800 of 1253\n",
      "Collision for Dinaciclib: ['dinaciclib']\n",
      "Error for 765771: No compound found for 765771\n",
      "Collision for Capivasertib: ['AZD5363']\n",
      "Error for 17-AAG: Multiple compounds found for 17-AAG\n",
      "Collision for Serdemetan: ['serdemetan']\n",
      "Processing 810 of 1253\n",
      "Error for selumetinib:vorinostat (8:1 mol/mol): No compound found for selumetinib:vorinostat (8:1 mol/mol)\n",
      "Error for QL-XII-61: No compound found for QL-XII-61\n",
      "Processing 820 of 1253\n",
      "Error for BRD-K88742110: No compound found for BRD-K88742110\n",
      "Error for alisertib:navitoclax (2:1 mol/mol): No compound found for alisertib:navitoclax (2:1 mol/mol)\n",
      "Error for BCL-LZH-4: Multiple compounds found for BCL-LZH-4\n",
      "Collision for PF-2341066: ['Crizotinib', 'crizotinib']\n",
      "Processing 830 of 1253\n",
      "Error for navitoclax:pluripotin (1:1 mol/mol): No compound found for navitoclax:pluripotin (1:1 mol/mol)\n",
      "Error for VTP-A: No compound found for VTP-A\n",
      "Error for EphB4_9721: No compound found for EphB4_9721\n",
      "Processing 840 of 1253\n",
      "Error for SNX-2112:bortezomib (250:1 mol/mol): No compound found for SNX-2112:bortezomib (250:1 mol/mol)\n",
      "Error for BRD9876:MK-1775 (4:1 mol/mol): No compound found for BRD9876:MK-1775 (4:1 mol/mol)\n",
      "Error for BRD1812: No compound found for BRD1812\n",
      "Processing 850 of 1253\n",
      "Error for CRT0160829: No compound found for CRT0160829\n",
      "Error for IAP_5620: No compound found for IAP_5620\n",
      "Error for BRD5586: No compound found for BRD5586\n",
      "Error for THZ-2-49: No compound found for THZ-2-49\n",
      "Processing 860 of 1253\n",
      "Collision for Rucaparib: ['rucaparib']\n",
      "Error for BRD-K30019337: Multiple compounds found for BRD-K30019337\n",
      "Error for Compound 4: No compound found for Compound 4\n",
      "Processing 870 of 1253\n",
      "Error for TL-1-85: No compound found for TL-1-85\n",
      "Error for itraconazole: Multiple compounds found for itraconazole\n",
      "Collision for Cabozantinib: ['cabozantinib']\n",
      "Error for BRD-K41334119: Multiple compounds found for BRD-K41334119\n",
      "Error for JQ-1:vorinostat (2:1 mol/mol): No compound found for JQ-1:vorinostat (2:1 mol/mol)\n",
      "Processing 880 of 1253\n",
      "Error for GSK2276186C: No compound found for GSK2276186C\n",
      "Collision for VX-680: ['tozasertib', 'Tozasertib']\n",
      "Error for BRD-K13185470: No compound found for BRD-K13185470\n",
      "Error for BRD6368: No compound found for BRD6368\n",
      "Collision for selumetinib: ['AZD6244', 'Selumetinib']\n",
      "Collision for PD0325901: ['PD-0325901']\n",
      "Error for BRD-K48334597: Multiple compounds found for BRD-K48334597\n",
      "Processing 890 of 1253\n",
      "Error for ZL109: No compound found for ZL109\n",
      "Collision for Luminespib: ['NVP-AUY922']\n",
      "Error for TANK_1366: No compound found for TANK_1366\n",
      "Processing 900 of 1253\n",
      "Error for BRD-K04800985: Multiple compounds found for BRD-K04800985\n",
      "Error for CAP-232, TT-232, TLN-232: No compound found for CAP-232, TT-232, TLN-232\n",
      "Error for THR-101: No compound found for THR-101\n",
      "Collision for linsitinib: ['Linsitinib']\n",
      "Error for BAY AKT1: No compound found for BAY AKT1\n",
      "Processing 910 of 1253\n",
      "Error for SJ-172550: Multiple compounds found for SJ-172550\n",
      "Processing 920 of 1253\n",
      "Error for Nutlin-3: Multiple compounds found for Nutlin-3\n",
      "Error for 993-D2: No compound found for 993-D2\n",
      "Error for BRD-K03911514: No compound found for BRD-K03911514\n",
      "Error for 720427: No compound found for 720427\n",
      "Error for THR-102: No compound found for THR-102\n",
      "Collision for sunitinib: ['Sunitinib']\n",
      "Processing 930 of 1253\n",
      "Collision for Pictilisib: ['GDC-0941']\n",
      "Error for JQ-1:carboplatin (1:1 mol/mol): No compound found for JQ-1:carboplatin (1:1 mol/mol)\n",
      "Error for FGFR_3831: No compound found for FGFR_3831\n",
      "Error for vorinostat:carboplatin (1:1 mol/mol): No compound found for vorinostat:carboplatin (1:1 mol/mol)\n",
      "Processing 940 of 1253\n",
      "Collision for Fedratinib: ['TG-101348']\n",
      "Collision for Doramapimod: ['BIRB-796']\n",
      "Error for BRD-K79669418: No compound found for BRD-K79669418\n",
      "Processing 950 of 1253\n",
      "Error for Bleomycin (50 uM): No compound found for Bleomycin (50 uM)\n",
      "Collision for Quizartinib: ['quizartinib']\n",
      "Error for rTRAIL: No compound found for rTRAIL\n",
      "Error for 630600: No compound found for 630600\n",
      "Processing 960 of 1253\n",
      "Error for PAK_5339: No compound found for PAK_5339\n",
      "Collision for Panobinostat: ['LBH-589']\n",
      "Error for tipifarnib-P1: No compound found for tipifarnib-P1\n",
      "Error for BRD-K20514654: No compound found for BRD-K20514654\n",
      "Processing 970 of 1253\n",
      "Error for 50869: No compound found for 50869\n",
      "Error for BRD-K49290616: Multiple compounds found for BRD-K49290616\n",
      "Error for WT-161: Multiple compounds found for WT-161\n",
      "Error for Brivanib, BMS-540215: No compound found for Brivanib, BMS-540215\n",
      "Error for 615590: No compound found for 615590\n",
      "Processing 980 of 1253\n",
      "Collision for Tubastatin A: ['tubastatin A']\n",
      "Error for BDILV000379a: No compound found for BDILV000379a\n",
      "Collision for bexarotene: ['Bexarotene']\n",
      "Error for tretinoin:carboplatin (2:1 mol/mol): No compound found for tretinoin:carboplatin (2:1 mol/mol)\n",
      "Error for BAY ACCi: No compound found for BAY ACCi\n",
      "Processing 990 of 1253\n",
      "Error for PLK_6522: No compound found for PLK_6522\n",
      "Error for selumetinib:PLX-4032 (8:1 mol/mol): No compound found for selumetinib:PLX-4032 (8:1 mol/mol)\n",
      "Error for RAF_9304: No compound found for RAF_9304\n",
      "Error for dacarbazine: Multiple compounds found for dacarbazine\n",
      "Error for BRD-K71935468: Multiple compounds found for BRD-K71935468\n",
      "Processing 1000 of 1253\n",
      "Error for Parthenolide: Multiple compounds found for Parthenolide\n",
      "Collision for I-BET151: ['I-BET-151']\n",
      "Error for 150412: No compound found for 150412\n",
      "Error for BRD-K27986637: Multiple compounds found for BRD-K27986637\n",
      "Processing 1010 of 1253\n",
      "Error for BRD2572: No compound found for BRD2572\n",
      "Collision for NSC19630: ['MIRA-1']\n",
      "Error for HG-6-71-01: No compound found for HG-6-71-01\n",
      "Processing 1020 of 1253\n",
      "Error for brefeldin A: Multiple compounds found for brefeldin A\n",
      "Collision for PFI3: ['PFI-3']\n",
      "Collision for alvocidib: ['Flavopiridol']\n",
      "Collision for Sorafenib: ['sorafenib']\n",
      "Collision for Tretinoin: ['ATRA']\n",
      "Error for apicidin: Multiple compounds found for apicidin\n",
      "Collision for GW-843682X: ['GW843682X']\n",
      "Processing 1030 of 1253\n",
      "Error for BAY-MPS-combo 2 (paclitaxel 1 uM): No compound found for BAY-MPS-combo 2 (paclitaxel 1 uM)\n",
      "Collision for AGK2: ['AGK-2']\n",
      "Error for BRD2296: No compound found for BRD2296\n",
      "Error for BAY-MPS-combo-1 (paclitaxel 5 uM): No compound found for BAY-MPS-combo-1 (paclitaxel 5 uM)\n",
      "Collision for gemcitabine: ['Gemcitabine']\n",
      "Error for navitoclax:birinapant (1:1 mol/mol): No compound found for navitoclax:birinapant (1:1 mol/mol)\n",
      "Error for XMD15-27: No compound found for XMD15-27\n",
      "Processing 1040 of 1253\n",
      "Error for BRD-K34485477: Multiple compounds found for BRD-K34485477\n",
      "Error for ML029: Multiple compounds found for ML029\n",
      "Error for BRD8418: No compound found for BRD8418\n",
      "Error for BRD55319: No compound found for BRD55319\n",
      "Collision for Selisistat: ['EX-527']\n",
      "Error for decitabine:carboplatin (1:1 mol/mol): No compound found for decitabine:carboplatin (1:1 mol/mol)\n",
      "Error for JW-7-52-1: No compound found for JW-7-52-1\n",
      "Error for GSK2256098C: No compound found for GSK2256098C\n",
      "Processing 1050 of 1253\n",
      "Collision for gefitinib: ['Gefitinib']\n",
      "Error for P-0850: No compound found for P-0850\n",
      "Error for ceranib-2: No compound found for ceranib-2\n",
      "Error for 4-methylfasudil: No compound found for 4-methylfasudil\n",
      "Error for bistramide A: Multiple compounds found for bistramide A\n",
      "Error for Dyrk1b_0191: No compound found for Dyrk1b_0191\n",
      "Error for BRD6150: No compound found for BRD6150\n",
      "Processing 1060 of 1253\n",
      "Error for BRD2649: No compound found for BRD2649\n",
      "Error for BRD-K44224150: Multiple compounds found for BRD-K44224150\n",
      "Collision for Pemetrexed: ['pemetrexed']\n",
      "Collision for CAL-101: ['Idelalisib']\n",
      "Processing 1070 of 1253\n",
      "Error for JAK1_8709: No compound found for JAK1_8709\n",
      "Error for JQ-1:UNC0638 (2:1 mol/mol): No compound found for JQ-1:UNC0638 (2:1 mol/mol)\n",
      "Error for doxorubicin:navitoclax (2:1 mol/mol): No compound found for doxorubicin:navitoclax (2:1 mol/mol)\n",
      "Error for ULK1_4989: No compound found for ULK1_4989\n",
      "Processing 1080 of 1253\n",
      "Error for TKI258: Multiple compounds found for TKI258\n",
      "Error for N25720-51-A1: No compound found for N25720-51-A1\n",
      "Error for BRD-K29086754: Multiple compounds found for BRD-K29086754\n",
      "Collision for Belinostat: ['belinostat']\n",
      "Processing 1090 of 1253\n",
      "Error for PNU-74654: Multiple compounds found for PNU-74654\n",
      "Error for QW-BI-011: No compound found for QW-BI-011\n",
      "Collision for saracatinib: ['Saracatinib']\n",
      "Error for N23918-95-7: No compound found for N23918-95-7\n",
      "Error for BMS-345541: Multiple compounds found for BMS-345541\n",
      "Error for JAK3_7406: No compound found for JAK3_7406\n",
      "Error for BRD-K94991378: Multiple compounds found for BRD-K94991378\n",
      "Processing 1100 of 1253\n",
      "Error for ZL049: No compound found for ZL049\n",
      "Error for AZD6738: Multiple compounds found for AZD6738\n",
      "Error for GSK626616AC: No compound found for GSK626616AC\n",
      "Error for erlotinib:PLX-4032 (2:1 mol/mol): No compound found for erlotinib:PLX-4032 (2:1 mol/mol)\n",
      "Collision for Vorinostat: ['vorinostat']\n",
      "Processing 1110 of 1253\n",
      "Error for CT7033-2: No compound found for CT7033-2\n",
      "Collision for cyclophosphamide: ['Cyclophosphamide']\n",
      "Error for salermide:PLX-4032 (12:1 mol/mol): No compound found for salermide:PLX-4032 (12:1 mol/mol)\n",
      "Collision for TGX-221: ['TGX221']\n",
      "Error for N5-iminoethyl-L-ornithine: Multiple compounds found for N5-iminoethyl-L-ornithine\n",
      "Processing 1120 of 1253\n",
      "Error for ISOX: No compound found for ISOX\n",
      "Error for tipifarnib-P2: No compound found for tipifarnib-P2\n",
      "Error for FMK-PA: No compound found for FMK-PA\n",
      "Error for PAC-1: Multiple compounds found for PAC-1\n",
      "Error for kahalalide F: Multiple compounds found for kahalalide F\n",
      "Collision for GSK319347A: ['CAY10576']\n",
      "Collision for Telomerase Inhibitor IX: ['MST-312']\n",
      "Processing 1130 of 1253\n",
      "Error for BRD-K96431673: Multiple compounds found for BRD-K96431673\n",
      "Error for TTK_3146: No compound found for TTK_3146\n",
      "Collision for Bosutinib: ['bosutinib']\n",
      "Error for PARP_9482: No compound found for PARP_9482\n",
      "Error for BIBR-1532: Multiple compounds found for BIBR-1532\n",
      "Processing 1140 of 1253\n",
      "Error for THR-103: No compound found for THR-103\n",
      "Collision for pazopanib: ['Pazopanib']\n",
      "Collision for Vismodegib: ['vismodegib']\n",
      "Error for serdemetan:SCH-529074 (1:1 mol/mol): No compound found for serdemetan:SCH-529074 (1:1 mol/mol)\n",
      "Collision for linifanib: ['Linifanib']\n",
      "Collision for AZD0530: ['Saracatinib', 'saracatinib']\n",
      "Processing 1150 of 1253\n",
      "Collision for CHEMBL1222381: ['neuronal differentiation inducer III']\n",
      "Error for 1807: No compound found for 1807\n",
      "Error for Vinblastine: Multiple compounds found for Vinblastine\n",
      "Error for BRD-K37390332: Multiple compounds found for BRD-K37390332\n",
      "Processing 1160 of 1253\n",
      "Collision for PD-0332991: ['Palbociclib']\n",
      "Collision for 5-azacytidine: ['azacitidine']\n",
      "Error for 16-beta-bromoandrosterone: No compound found for 16-beta-bromoandrosterone\n",
      "Collision for pevonedistat: ['Pevonedistat', 'MLN-4924']\n",
      "Error for chaetocin: Multiple compounds found for chaetocin\n",
      "Error for selumetinib:GDC-0941 (4:1 mol/mol): No compound found for selumetinib:GDC-0941 (4:1 mol/mol)\n",
      "Processing 1170 of 1253\n",
      "Error for selumetinib:navitoclax (8:1 mol/mol): No compound found for selumetinib:navitoclax (8:1 mol/mol)\n",
      "Error for BRD-K34222889: Multiple compounds found for BRD-K34222889\n",
      "Error for BRD-K07442505: No compound found for BRD-K07442505\n",
      "Error for VSP34_8731: No compound found for VSP34_8731\n",
      "Error for Nutlin-3a (-): No compound found for Nutlin-3a (-)\n",
      "Collision for ruxolitinib: ['Ruxolitinib']\n",
      "Collision for tanespimycin: ['Tanespimycin']\n",
      "Processing 1180 of 1253\n",
      "Error for PI3Ka_4409: No compound found for PI3Ka_4409\n",
      "Collision for ibrutinib: ['Ibrutinib']\n",
      "Processing 1190 of 1253\n",
      "Collision for Alisertib: ['alisertib']\n",
      "Collision for Mitomycin-C: ['mitomycin']\n",
      "Error for BRD-K01737880: Multiple compounds found for BRD-K01737880\n",
      "Collision for XAV939: ['XAV-939']\n",
      "Processing 1200 of 1253\n",
      "Collision for dabrafenib: ['Dabrafenib']\n",
      "Collision for axitinib: ['Axitinib']\n",
      "Collision for BX-795: ['BX795']\n",
      "Error for BAY-HDAC11_2: No compound found for BAY-HDAC11_2\n",
      "Collision for YK-4-279: ['YK 4-279']\n",
      "Processing 1210 of 1253\n",
      "Error for Compound 44: No compound found for Compound 44\n",
      "Error for BRD-K13999467: Multiple compounds found for BRD-K13999467\n",
      "Error for JQ-1:MK-0752 (1:1 mol/mol): No compound found for JQ-1:MK-0752 (1:1 mol/mol)\n",
      "Processing 1220 of 1253\n",
      "Error for sirolimus:bortezomib (250:1 mol/mol): No compound found for sirolimus:bortezomib (250:1 mol/mol)\n",
      "Collision for bortezomib: ['Bortezomib']\n",
      "Error for compound 1B: No compound found for compound 1B\n",
      "Collision for olaparib: ['Olaparib']\n",
      "Error for WEHI-539: Multiple compounds found for WEHI-539\n",
      "Error for BRD4046: No compound found for BRD4046\n",
      "Processing 1230 of 1253\n",
      "Error for FS106: No compound found for FS106\n",
      "Collision for tretinoin: ['ATRA', 'Tretinoin']\n",
      "Error for selumetinib:BRD-A02303741 (4:1 mol/mol): No compound found for selumetinib:BRD-A02303741 (4:1 mol/mol)\n",
      "Processing 1240 of 1253\n",
      "Collision for paclitaxel: ['Paclitaxel']\n",
      "Collision for Vandetanib: ['vandetanib']\n",
      "Error for N22899-6-C1: No compound found for N22899-6-C1\n",
      "Error for bleomycin A2: Multiple compounds found for bleomycin A2\n",
      "Collision for Foretinib: ['foretinib']\n",
      "Processing 1250 of 1253\n",
      "Error for BRD-K78574327: Multiple compounds found for BRD-K78574327\n",
      "Collision for doxorubicin: ['Doxorubicin']\n",
      "Error for BRD9658: No compound found for BRD9658\n"
     ]
    }
   ],
   "source": [
    "drug_names = set(all_drug_names[\"drug_name\"])\n",
    "iupac_hashmap = {}\n",
    "multiple_drug_names = []\n",
    "no_drug_names = []\n",
    "result_df = pd.DataFrame(columns=[\"drug_name\", \"pubchem_id\", \"iupac_name\", \"canonical_smiles\", \"cactvs_fingerprint\", \"fingerprint\"])\n",
    "for idx, drug_name in enumerate(drug_names):\n",
    "    if idx % 10 == 0:\n",
    "        print(f\"Processing {idx} of {len(drug_names)}\")\n",
    "    try:\n",
    "        compound = pcp.get_compounds(drug_name, namespace=\"name\")\n",
    "        if len(compound) == 0:\n",
    "            raise ValueError(f\"No compound found for {drug_name}\")\n",
    "        elif len(compound) > 1:\n",
    "            raise ValueError(f\"Multiple compounds found for {drug_name}\")\n",
    "        compound = compound[0]\n",
    "        iupac_hash = hash(compound.iupac_name)\n",
    "        if iupac_hash not in iupac_hashmap:\n",
    "            iupac_hashmap[iupac_hash] = [drug_name]\n",
    "        elif drug_name not in iupac_hashmap[iupac_hash]:\n",
    "            print(f\"Collision for {drug_name}: {iupac_hashmap[iupac_hash]}\")\n",
    "            iupac_hashmap[iupac_hash].append(drug_name)\n",
    "        result_df = pd.concat([result_df, pd.DataFrame.from_dict({\n",
    "            \"drug_name\": [drug_name],\n",
    "            \"pubchem_id\": [compound.cid],\n",
    "            \"iupac_name\": [compound.iupac_name],\n",
    "            \"canonical_smiles\": [compound.canonical_smiles],\n",
    "            \"cactvs_fingerprint\": [compound.cactvs_fingerprint],\n",
    "            \"fingerprint\": [compound.fingerprint]\n",
    "        })\n",
    "        ])\n",
    "    except Exception as e:\n",
    "        print(f\"Error for {drug_name}: {e}\")\n",
    "        if \"No compound found\" in str(e):\n",
    "            no_drug_names.append(drug_name)\n",
    "        elif \"Multiple compounds found\" in str(e):\n",
    "            multiple_drug_names.append(drug_name)"
   ],
   "metadata": {
    "collapsed": false,
    "ExecuteTime": {
     "end_time": "2025-02-20T10:34:00.249183Z",
     "start_time": "2025-02-20T10:23:40.254596Z"
    }
   },
   "id": "2fd10305f1fdda97"
  },
  {
   "cell_type": "code",
   "execution_count": 4,
   "outputs": [
    {
     "name": "stdout",
     "output_type": "stream",
     "text": [
      "Overall stats: \n",
      "Number of drug names: 1253\n",
      "Number of drug names with multiple compounds: 110\n",
      "Number of drug names with no compounds: 258\n",
      "Number of IUPAC hash collisions: 226\n"
     ]
    }
   ],
   "source": [
    "print(\"Overall stats: \")\n",
    "print(f\"Number of drug names: {len(drug_names)}\")\n",
    "print(f\"Number of drug names with multiple compounds: {len(multiple_drug_names)}\")\n",
    "print(f\"Number of drug names with no compounds: {len(no_drug_names)}\")\n",
    "iupac_hash_collisions = sum([len(v) for v in iupac_hashmap.values() if len(v) > 1])\n",
    "print(f\"Number of IUPAC hash collisions: {iupac_hash_collisions}\")"
   ],
   "metadata": {
    "collapsed": false,
    "ExecuteTime": {
     "end_time": "2025-02-20T10:34:22.065247Z",
     "start_time": "2025-02-20T10:34:21.999921Z"
    }
   },
   "id": "bb88a915af31f608"
  },
  {
   "cell_type": "code",
   "execution_count": 5,
   "outputs": [],
   "source": [
    "iupac_hash_collisions = [v for v in iupac_hashmap.values() if len(v) > 1]"
   ],
   "metadata": {
    "collapsed": false,
    "ExecuteTime": {
     "end_time": "2025-02-20T10:34:24.199714Z",
     "start_time": "2025-02-20T10:34:24.170842Z"
    }
   },
   "id": "a8c015c00c125998"
  },
  {
   "cell_type": "code",
   "execution_count": 6,
   "outputs": [],
   "source": [
    "pd.DataFrame(multiple_drug_names, columns=[\"drug_name\"]).to_csv(\"multiple_drug_names.csv\", index=False)\n",
    "pd.DataFrame(no_drug_names, columns=[\"drug_name\"]).to_csv(\"no_drug_names.csv\", index=False)\n",
    "pd.DataFrame(iupac_hash_collisions, columns=[\"drug_name_1\", \"drug_name_2\", \"drug_name_3\"]).to_csv(\"iupac_hash_collisions.csv\", index=False)"
   ],
   "metadata": {
    "collapsed": false,
    "ExecuteTime": {
     "end_time": "2025-02-20T10:34:27.663907Z",
     "start_time": "2025-02-20T10:34:27.635586Z"
    }
   },
   "id": "fc01194e23ad9fb2"
  },
  {
   "cell_type": "markdown",
   "source": [
    "First task: harmonize the iupac collisions. Find out whether they also got different PubChem IDs."
   ],
   "metadata": {
    "collapsed": false
   },
   "id": "3176442efd9f6102"
  },
  {
   "cell_type": "code",
   "execution_count": 7,
   "outputs": [],
   "source": [
    "import numpy as np\n",
    "iupac_flat = pd.DataFrame(iupac_hash_collisions, columns=[\"drug_name_1\", \"drug_name_2\", \"drug_name_3\"]).to_numpy().flatten()\n",
    "result_subset = result_df[result_df[\"drug_name\"].isin(iupac_flat)]\n",
    "for collision_list in iupac_hash_collisions:\n",
    "    pubchem_ids = result_subset[result_subset[\"drug_name\"].isin(collision_list)][\"pubchem_id\"].unique()\n",
    "    if len(pubchem_ids) > 1:\n",
    "        print(f\"Collision for {collision_list}: {pubchem_ids}\")"
   ],
   "metadata": {
    "collapsed": false,
    "ExecuteTime": {
     "end_time": "2025-02-20T10:34:31.031571Z",
     "start_time": "2025-02-20T10:34:31.010143Z"
    }
   },
   "id": "80e2c0922c77d9c8"
  },
  {
   "cell_type": "markdown",
   "source": [
    "Great news - they all got the same PubChemIDs. We will harmonize the names in a separate csv."
   ],
   "metadata": {
    "collapsed": false
   },
   "id": "f51127d705c19aab"
  },
  {
   "cell_type": "code",
   "execution_count": 8,
   "outputs": [],
   "source": [
    "hash_collisions_resolved = pd.read_csv(\"iupac_hash_collisions_resolved.csv\", index_col=0)\n",
    "mapping_dict = {}\n",
    "for idx, row in hash_collisions_resolved.iterrows():\n",
    "    for drug_name in row:\n",
    "        if not pd.isna(drug_name):\n",
    "            mapping_dict[drug_name] = idx"
   ],
   "metadata": {
    "collapsed": false,
    "ExecuteTime": {
     "end_time": "2025-02-20T10:34:36.952164Z",
     "start_time": "2025-02-20T10:34:36.916717Z"
    }
   },
   "id": "601e1428972c9f9c"
  },
  {
   "cell_type": "markdown",
   "source": [
    "Next, we will resolve the multi-ID cases. We will create a csv with the resolved names by always taking the first PubChem ID."
   ],
   "metadata": {
    "collapsed": false
   },
   "id": "20cb99d7ce8a20f6"
  },
  {
   "cell_type": "code",
   "execution_count": 9,
   "outputs": [],
   "source": [
    "multi_mapping_resolved = pd.DataFrame(columns=[\"pubchem_id\", \"drug_name\"])\n",
    "for drug in multiple_drug_names:\n",
    "    cpd = pcp.get_compounds(drug, namespace=\"name\")[0]\n",
    "    multi_mapping_resolved = pd.concat([multi_mapping_resolved, pd.DataFrame.from_dict({\n",
    "        \"pubchem_id\": [cpd.cid],\n",
    "        \"drug_name\": [drug]\n",
    "    })])\n",
    "    result_df = pd.concat([result_df, pd.DataFrame.from_dict({\n",
    "            \"drug_name\": [drug],\n",
    "            \"pubchem_id\": [cpd.cid],\n",
    "            \"iupac_name\": [cpd.iupac_name],\n",
    "            \"canonical_smiles\": [cpd.canonical_smiles],\n",
    "            \"cactvs_fingerprint\": [cpd.cactvs_fingerprint],\n",
    "            \"fingerprint\": [cpd.fingerprint]\n",
    "        })\n",
    "        ])"
   ],
   "metadata": {
    "collapsed": false,
    "ExecuteTime": {
     "end_time": "2025-02-20T10:36:05.738468Z",
     "start_time": "2025-02-20T10:34:54.392762Z"
    }
   },
   "id": "ef2d46ac93a33c61"
  },
  {
   "cell_type": "code",
   "execution_count": 10,
   "outputs": [
    {
     "data": {
      "text/plain": "  pubchem_id          drug_name\n0     216345           Nutlin-3\n0    6918289       Temsirolimus\n0    7251185       Parthenolide\n0   73707371  PRL-3 inhibitor I\n0  135398738        dacarbazine",
      "text/html": "<div>\n<style scoped>\n    .dataframe tbody tr th:only-of-type {\n        vertical-align: middle;\n    }\n\n    .dataframe tbody tr th {\n        vertical-align: top;\n    }\n\n    .dataframe thead th {\n        text-align: right;\n    }\n</style>\n<table border=\"1\" class=\"dataframe\">\n  <thead>\n    <tr style=\"text-align: right;\">\n      <th></th>\n      <th>pubchem_id</th>\n      <th>drug_name</th>\n    </tr>\n  </thead>\n  <tbody>\n    <tr>\n      <th>0</th>\n      <td>216345</td>\n      <td>Nutlin-3</td>\n    </tr>\n    <tr>\n      <th>0</th>\n      <td>6918289</td>\n      <td>Temsirolimus</td>\n    </tr>\n    <tr>\n      <th>0</th>\n      <td>7251185</td>\n      <td>Parthenolide</td>\n    </tr>\n    <tr>\n      <th>0</th>\n      <td>73707371</td>\n      <td>PRL-3 inhibitor I</td>\n    </tr>\n    <tr>\n      <th>0</th>\n      <td>135398738</td>\n      <td>dacarbazine</td>\n    </tr>\n  </tbody>\n</table>\n</div>"
     },
     "execution_count": 10,
     "metadata": {},
     "output_type": "execute_result"
    }
   ],
   "source": [
    "multi_mapping_resolved[multi_mapping_resolved.duplicated(subset=\"pubchem_id\")].sort_values(\"pubchem_id\")"
   ],
   "metadata": {
    "collapsed": false,
    "ExecuteTime": {
     "end_time": "2025-02-20T10:36:08.768579Z",
     "start_time": "2025-02-20T10:36:08.733646Z"
    }
   },
   "id": "8f08a44396335098"
  },
  {
   "cell_type": "code",
   "execution_count": 11,
   "outputs": [],
   "source": [
    "mapping_dict.update({\n",
    "    \"Nutlin-3\": \"Nutlin-3\",\n",
    "    \"nutlin-3\": \"Nutlin-3\",\n",
    "    \"Temsirolimus\": \"Temsirolimus\",\n",
    "    \"temsirolimus\": \"Temsirolimus\",\n",
    "    \"Parthenolide\": \"Parthenolide\",\n",
    "    \"parthenolide\": \"Parthenolide\",\n",
    "    \"PRL-3 Inhibitor I\": \"PRL-3 Inhibitor I\",\n",
    "    \"PRL-3 inhibitor I\": \"PRL-3 Inhibitor I\",\n",
    "    \"Dacarbazine\": \"Dacarbazine\",\n",
    "    \"dacarbazine\": \"Dacarbazine\"\n",
    "})"
   ],
   "metadata": {
    "collapsed": false,
    "ExecuteTime": {
     "end_time": "2025-02-20T10:36:10.209726Z",
     "start_time": "2025-02-20T10:36:10.194200Z"
    }
   },
   "id": "706318d96e944523"
  },
  {
   "cell_type": "code",
   "execution_count": 12,
   "outputs": [],
   "source": [
    "multi_mapping_resolved.to_csv(\"multi_mapping_resolved.csv\", index=False)"
   ],
   "metadata": {
    "collapsed": false,
    "ExecuteTime": {
     "end_time": "2025-02-20T10:36:12.346528Z",
     "start_time": "2025-02-20T10:36:12.324150Z"
    }
   },
   "id": "b2cce2b968ed45c3"
  },
  {
   "cell_type": "markdown",
   "source": [
    "Next issue: unmappable drug names. Let's see how many of them we found so far."
   ],
   "metadata": {
    "collapsed": false
   },
   "id": "a84c27f3b67cac7c"
  },
  {
   "cell_type": "code",
   "execution_count": 13,
   "outputs": [],
   "source": [
    "subsetted_drug_names = all_drug_names[all_drug_names[\"drug_name\"].isin(no_drug_names)]\n",
    "subsetted_drug_names = subsetted_drug_names.sort_values(by=\"drug_name\")"
   ],
   "metadata": {
    "collapsed": false,
    "ExecuteTime": {
     "end_time": "2025-02-20T10:36:18.671050Z",
     "start_time": "2025-02-20T10:36:18.629008Z"
    }
   },
   "id": "2373766395551d46"
  },
  {
   "cell_type": "code",
   "execution_count": 14,
   "outputs": [],
   "source": [
    "subsetted_drug_names.to_csv(\"no_drug_names_results.csv\", index=False)"
   ],
   "metadata": {
    "collapsed": false,
    "ExecuteTime": {
     "end_time": "2025-02-20T10:36:20.402622Z",
     "start_time": "2025-02-20T10:36:20.379146Z"
    }
   },
   "id": "1de0e771154495a3"
  },
  {
   "cell_type": "markdown",
   "source": [
    "We manually change some of these mappings and adapt the mapping dictionary accordingly."
   ],
   "metadata": {
    "collapsed": false
   },
   "id": "5090d3b874a6d669"
  },
  {
   "cell_type": "code",
   "execution_count": 15,
   "outputs": [],
   "source": [
    "new_mappings = {\n",
    "    \"(-)-gallocatechin-3-monogallate\": \"(-)-Gallocatechin gallate\",\n",
    "    \"16-beta-bromoandrosterone\": \"16beta-Bromoandrosterone\",\n",
    "    \"1S,3R-RSL-3\": \"(1S,3R)-Rsl3\",\n",
    "    \"2,4-dideoxy-DC-45-A2\": \"BRD-K41087962-001-01-7\",\n",
    "    \"2-bromopyruvate\": \"3-Bromopyruvic acid\",\n",
    "    \"2-deoxyglucose\": \"2-Deoxy-D-arabino-hexopyranose\",\n",
    "    \"4-methylfasudil\": \"5-(1,4-Diazepan-1-ylsulfonyl)-4-methylisoquinoline\",\n",
    "    \"5-benzyl-9-tert-butyl-paullone\": \"CHEMBL575106\",\n",
    "    \"968\": \"Glutaminase C-IN-1\",\n",
    "    \"AA-COCF3\": \"Aacocf3\",\n",
    "    \"BRD-A86708339\": \"TCMDC-125552\",\n",
    "    \"BRD-K03536150\": \"SCHEMBL16273428\",\n",
    "    \"BRD-K07442505\": \"BAM7\",\n",
    "    \"BRD-K20514654\": \"BRD-K20514654-001-01-8\",\n",
    "    \"BRD-K29313308\": \"BRD3308\",\n",
    "    \"BRD-K35604418\": \"mim1\",\n",
    "    \"BRD-K63431240\": \"BRD1240\",\n",
    "    \"BRD-K64610608\": \"MLS003179190\",\n",
    "    \"BRD-K70511574\": \"HMS3654N14\",\n",
    "    \"BRD-K79669418\": \"CHEMBL5275075\",\n",
    "    \"BRD-K88742110\": \"PCI-34051\",\n",
    "    \"BRD0713\": \"(2R,3R,4S)-4-(hydroxymethyl)-3-phenyl-1-propylazetidine-2-carbonitrile\",\n",
    "    \"BRD1812\": \"ICG-001\",\n",
    "    \"BRD2572\": \"1-[(1R,5S)-7-phenyl-6-propyl-3,6-diazabicyclo[3.1.1]heptan-3-yl]ethanone\",\n",
    "    \"BRD4046\": \"[(2S,3R,4R)-4-(aminomethyl)-3-phenyl-1-propylazetidin-2-yl]methanol\",\n",
    "    \"BRD4372\": \"1-[(1S,2aS,8bS)-1-(hydroxymethyl)-2-propyl-1,2a,3,8b-tetrahydroazeto[2,3-c]quinolin-4-yl]ethanone\",\n",
    "    \"BRD4470\": \"BRD-4470\",\n",
    "    \"BRD55319\": \"BRD-K53855319-001-01-2\",\n",
    "    \"BRD5586\": \"5-phenyl-1,7-dihydrotetrazolo[1,5-a]pyrimidine\",\n",
    "    \"BRD63610\": \"BRD-K85563610-001-01-0\",\n",
    "    \"BRD6368\": \"BRD-K14696368-001-01-8\",\n",
    "    \"BRD6430\": \"Sonidegib\",\n",
    "    \"BRD6825\": \"BRD-96825\",\n",
    "    \"BRD7137\": \"5H-quinolino[8,7-c][1,2]benzothiazine 6,6-dioxide\",\n",
    "    \"BRD8097\": \"(1S,5R)-3-methylsulfonyl-7-phenyl-6-propyl-3,6-diazabicyclo[3.1.1]heptane\",\n",
    "    \"BRD8418\": \"(1R,5S)-7-phenyl-6-propyl-3,6-diazabicyclo[3.1.1]heptane\",\n",
    "    \"BRD8958\": \"C646\",\n",
    "    \"Brivanib, BMS-540215\": \"Brivanib:BMS-540215\",\n",
    "    \"CAP-232, TT-232, TLN-232\": \"CAP-232:TT-232:TLN-232\",\n",
    "    \"CID 2853753\": \"2-(1,2-Dihydroimidazo[1,2-a]benzimidazol-4-yl)-1-(4-phenylphenyl)ethanone\",\n",
    "    \"Cetuximab\": \"C225\",\n",
    "    \"Compound 110\": \"BRD-K03618428-001-01-3\",\n",
    "    \"Compound 11e\": \"VX-11e\",\n",
    "    \"Compound 12\": \"BRD-K40892394-001-01-9\",\n",
    "    \"Compound 2\": \"BCATc Inhibitor 2\",\n",
    "    \"Compound 4\": \"PTP1B-IN-3\",\n",
    "    \"Compound 44\": \"CHEMBL5270701\",\n",
    "    \"DC-45-A2\": \"BRD-K79983625-001-01-1\",\n",
    "    \"ISOX\": \"Bml-281\",\n",
    "    \"KRAS (G12C) Inhibitor-12\": \"K-Ras(G12C) inhibitor 12\",\n",
    "    \"ML334 diastereomer\": \"BRD-K93367411-001-03-3\",\n",
    "    \"MPS-1-IN-1\": \"Mps1-IN-1\",\n",
    "    \"MetAP2 Inhibitor, A832234\": \"MetAP2 Inhibitor:A832234\",\n",
    "    \"Nutlin-3a (-)\": \"Rebemadlin\",\n",
    "    \"P-0850\": \"BRAF inhibitor\",\n",
    "    \"PP-30\": \"BRD-K30677119-001-01-0\",\n",
    "    \"Picolinici-acid\": \"Picolinic acid\",\n",
    "    \"QW-BI-011\": \"BRD-4770\",\n",
    "    \"SR-II-138A\": \"Rohinitib\",\n",
    "    \"T-5345967\": \"ML-031\",\n",
    "    \"TTNBP\": \"Arotinoid acid\",\n",
    "    \"VAF-347\": \"Vaf347\",\n",
    "    \"Venotoclax\": \"Venetoclax\",\n",
    "    \"YL54\": \"BRD-K58306044-001-01-3\",\n",
    "    \"ascorbate (vitamin C)\": \"Ascorbic acid\",\n",
    "    \"ceranib-2\": \"CHEMBL4788167\",\n",
    "    \"compound 1B\": \"Dnmdp\",\n",
    "    \"eEF2K Inhibitor, A-484954\": \"a-484954\",\n",
    "    \"erastin-A8\": \"SCHEMBL4462685\",\n",
    "    \"m-3M3-FBS\": \"Phospholipase\",\n",
    "    \"racemic-2,4-dideoxy-DC-45-A2\": \"SCHEMBL18710180\",\n",
    "    \"tipifarnib-P1\": \"Tipifarnib S enantiomer\",\n",
    "    \"tipifarnib-P2\": \"Tipifarnib\",\n",
    "}"
   ],
   "metadata": {
    "collapsed": false,
    "ExecuteTime": {
     "end_time": "2025-02-20T10:36:26.620117Z",
     "start_time": "2025-02-20T10:36:26.587228Z"
    }
   },
   "id": "2f2ddded35aacc7b"
  },
  {
   "cell_type": "code",
   "execution_count": 16,
   "outputs": [],
   "source": [
    "mapping_dict.update(new_mappings)"
   ],
   "metadata": {
    "collapsed": false,
    "ExecuteTime": {
     "end_time": "2025-02-20T10:36:28.440357Z",
     "start_time": "2025-02-20T10:36:28.415986Z"
    }
   },
   "id": "febd58ad6dc108d0"
  },
  {
   "cell_type": "code",
   "execution_count": 17,
   "outputs": [],
   "source": [
    "no_drug_names_resolved = pd.read_csv(\"no_drug_names_resolved.csv\", index_col=0)"
   ],
   "metadata": {
    "collapsed": false,
    "ExecuteTime": {
     "end_time": "2025-02-20T10:36:30.662846Z",
     "start_time": "2025-02-20T10:36:30.623116Z"
    }
   },
   "id": "195f9985a10d758e"
  },
  {
   "cell_type": "markdown",
   "source": [
    "Let's concatenate the resolved drug names to the result dataframe."
   ],
   "metadata": {
    "collapsed": false
   },
   "id": "40acccad7432310"
  },
  {
   "cell_type": "code",
   "execution_count": 67,
   "outputs": [
    {
     "name": "stdout",
     "output_type": "stream",
     "text": [
      "1205: 'PUGREST.BadRequest'\n",
      "123138: 'PUGREST.BadRequest'\n",
      "123829: 'PUGREST.BadRequest'\n",
      "150412: 'PUGREST.BadRequest'\n",
      "1807: 'PUGREST.BadRequest'\n",
      "1818: 'PUGREST.BadRequest'\n",
      "50869: 'PUGREST.BadRequest'\n",
      "615590: 'PUGREST.BadRequest'\n",
      "630600: 'PUGREST.BadRequest'\n",
      "667880: 'PUGREST.BadRequest'\n",
      "720427: 'PUGREST.BadRequest'\n",
      "729189: 'PUGREST.BadRequest'\n",
      "741909: 'PUGREST.BadRequest'\n",
      "743380: 'PUGREST.BadRequest'\n",
      "765771: 'PUGREST.BadRequest'\n",
      "776928: 'PUGREST.BadRequest'\n",
      "965-D2: 'PUGREST.BadRequest'\n",
      "993-D2: 'PUGREST.BadRequest'\n",
      "AZD7969: 'PUGREST.BadRequest'\n",
      "BAY ACCi: 'PUGREST.BadRequest'\n",
      "BAY AKT1: 'PUGREST.BadRequest'\n",
      "BAY-HDAC11_1: 'PUGREST.BadRequest'\n",
      "BAY-HDAC11_2: 'PUGREST.BadRequest'\n",
      "BAY-HDAC11_4: 'PUGREST.BadRequest'\n",
      "BAY-MPS-combo 2 (paclitaxel 1 uM): 'PUGREST.BadRequest'\n",
      "BAY-MPS-combo-1 (paclitaxel 5 uM): 'PUGREST.BadRequest'\n",
      "BAY-MPS1: 'PUGREST.BadRequest'\n",
      "BDF00022089a: 'PUGREST.BadRequest'\n",
      "BDILV000379a: 'PUGREST.BadRequest'\n",
      "BDOCA000347a: 'PUGREST.BadRequest'\n",
      "BDP-00009066: 'PUGREST.BadRequest'\n",
      "BPD-00008900: 'PUGREST.BadRequest'\n",
      "BRD-A02303741:carboplatin (1:1 mol/mol): 'PUGREST.BadRequest'\n",
      "BRD-A02303741:navitoclax (2:1 mol/mol): 'PUGREST.BadRequest'\n",
      "BRD-K03911514: 'PUGREST.BadRequest'\n",
      "BRD-K13185470: 'PUGREST.BadRequest'\n",
      "BRD-K16130065: 'PUGREST.BadRequest'\n",
      "BRD-K27188169: 'PUGREST.BadRequest'\n",
      "BRD-K27188169:navitoclax (2:1 mol/mol): 'PUGREST.BadRequest'\n",
      "BRD-K55473186: 'PUGREST.BadRequest'\n",
      "BRD-K58730230: 'PUGREST.BadRequest'\n",
      "BRD-K99584050: 'PUGREST.BadRequest'\n",
      "BRD2296: 'PUGREST.BadRequest'\n",
      "BRD2649: 'PUGREST.BadRequest'\n",
      "BRD2762: 'PUGREST.BadRequest'\n",
      "BRD5802: 'PUGREST.BadRequest'\n",
      "BRD6150: 'PUGREST.BadRequest'\n",
      "Collision for Sonidegib: ['erismodegib', 'BRD6430', 'BRD6430']\n",
      "BRD9571: 'PUGREST.BadRequest'\n",
      "BRD9658: 'PUGREST.BadRequest'\n",
      "BRD9786: 'PUGREST.BadRequest'\n",
      "BRD9876:MK-1775 (4:1 mol/mol): 'PUGREST.BadRequest'\n",
      "Bleomycin (10 uM): 'PUGREST.BadRequest'\n",
      "Bleomycin (50 uM): 'PUGREST.BadRequest'\n",
      "Bleomycin (50 uM): 'PUGREST.BadRequest'\n",
      "Brivanib, BMS-540215: 'PUGREST.BadRequest'\n",
      "CAP-232, TT-232, TLN-232: 'PUGREST.BadRequest'\n",
      "CCT245467: 'PUGREST.BadRequest'\n",
      "CDK9_5038: 'PUGREST.BadRequest'\n",
      "CDK9_5576: 'PUGREST.BadRequest'\n",
      "CRT0105446: 'PUGREST.BadRequest'\n",
      "CRT0160829: 'PUGREST.BadRequest'\n",
      "CT7033-2: 'PUGREST.BadRequest'\n",
      "Dyrk1b_0191: 'PUGREST.BadRequest'\n",
      "ERK_2440: 'PUGREST.BadRequest'\n",
      "ERK_6604: 'PUGREST.BadRequest'\n",
      "Eg5_9814: 'PUGREST.BadRequest'\n",
      "EphB4_9721: 'PUGREST.BadRequest'\n",
      "FEN1_3940: 'PUGREST.BadRequest'\n",
      "FGFR_0939: 'PUGREST.BadRequest'\n",
      "FGFR_3831: 'PUGREST.BadRequest'\n",
      "FS106: 'PUGREST.BadRequest'\n",
      "FS112: 'PUGREST.BadRequest'\n",
      "FY012: 'PUGREST.BadRequest'\n",
      "FY026: 'PUGREST.BadRequest'\n",
      "FY069: 'PUGREST.BadRequest'\n",
      "GSK2256098C: 'PUGREST.BadRequest'\n",
      "GSK2276186C: 'PUGREST.BadRequest'\n",
      "GSK2830371A: 'PUGREST.BadRequest'\n",
      "GSK3337463A: 'PUGREST.BadRequest'\n",
      "GSK626616AC: 'PUGREST.BadRequest'\n",
      "Genentech Cpd 10: 'PUGREST.BadRequest'\n",
      "HG-6-71-01: 'PUGREST.BadRequest'\n",
      "HKMTI-1-005: 'PUGREST.BadRequest'\n",
      "IAP_5620: 'PUGREST.BadRequest'\n",
      "IAP_5620: 'PUGREST.BadRequest'\n",
      "IAP_7638: 'PUGREST.BadRequest'\n",
      "ICL1100013: 'PUGREST.BadRequest'\n",
      "IGF1R_3801: 'PUGREST.BadRequest'\n",
      "IGFR_3801: 'PUGREST.BadRequest'\n",
      "IRAK4_4710: 'PUGREST.BadRequest'\n",
      "Collision for Bml-281: ['CAY10603', 'ISOX', 'ISOX', 'ISOX', 'ISOX']\n",
      "Collision for Bml-281: ['CAY10603', 'ISOX', 'ISOX', 'ISOX', 'ISOX', 'ISOX']\n",
      "ISOX:bortezomib (250:1 mol/mol): 'PUGREST.BadRequest'\n",
      "JAK1_3715: 'PUGREST.BadRequest'\n",
      "JAK1_8709: 'PUGREST.BadRequest'\n",
      "JAK3_7406: 'PUGREST.BadRequest'\n",
      "JAK_8517: 'PUGREST.BadRequest'\n",
      "JNK-9L: 'PUGREST.BadRequest'\n",
      "JQ-1:MK-0752 (1:1 mol/mol): 'PUGREST.BadRequest'\n",
      "JQ-1:UNC0638 (2:1 mol/mol): 'PUGREST.BadRequest'\n",
      "JQ-1:carboplatin (1:1 mol/mol): 'PUGREST.BadRequest'\n",
      "JQ-1:navitoclax (2:1 mol/mol): 'PUGREST.BadRequest'\n",
      "JQ-1:vorinostat (2:1 mol/mol): 'PUGREST.BadRequest'\n",
      "JW-7-52-1: 'PUGREST.BadRequest'\n",
      "KIN001-042: 'PUGREST.BadRequest'\n",
      "KIN001-236: 'PUGREST.BadRequest'\n",
      "KIN001-260: 'PUGREST.BadRequest'\n",
      "LMB_AB1: 'PUGREST.BadRequest'\n",
      "LMB_AB2: 'PUGREST.BadRequest'\n",
      "LMB_AB3: 'PUGREST.BadRequest'\n",
      "MCT1_6447: 'PUGREST.BadRequest'\n",
      "MCT4_1422: 'PUGREST.BadRequest'\n",
      "MetAP2 Inhibitor, A832234: 'PUGREST.BadRequest'\n",
      "N22899-6-C1: 'PUGREST.BadRequest'\n",
      "N23918-95-7: 'PUGREST.BadRequest'\n",
      "N24798-49-A1: 'PUGREST.BadRequest'\n",
      "N25720-51-A1: 'PUGREST.BadRequest'\n",
      "N27922-53-1: 'PUGREST.BadRequest'\n",
      "N29087-69-1: 'PUGREST.BadRequest'\n",
      "N30652-18-1: 'PUGREST.BadRequest'\n",
      "PAK_5339: 'PUGREST.BadRequest'\n",
      "PARP_0108: 'PUGREST.BadRequest'\n",
      "PARP_9482: 'PUGREST.BadRequest'\n",
      "PARP_9495: 'PUGREST.BadRequest'\n",
      "PBD-288: 'PUGREST.BadRequest'\n",
      "PI3Ka_4409: 'PUGREST.BadRequest'\n",
      "PLK_6522: 'PUGREST.BadRequest'\n",
      "QL-VIII-58: 'PUGREST.BadRequest'\n",
      "QL-XII-61: 'PUGREST.BadRequest'\n",
      "Collision for BRD-4770: ['BRD4770', 'QW-BI-011', 'QW-BI-011']\n",
      "RAF_9304: 'PUGREST.BadRequest'\n",
      "SNX-2112:bortezomib (250:1 mol/mol): 'PUGREST.BadRequest'\n",
      "Collision for ML-031: ['ML031', 'T-5345967', 'T-5345967']\n",
      "TAF1_5496: 'PUGREST.BadRequest'\n",
      "TANK_1366: 'PUGREST.BadRequest'\n",
      "THR-101: 'PUGREST.BadRequest'\n",
      "THR-102: 'PUGREST.BadRequest'\n",
      "THR-103: 'PUGREST.BadRequest'\n",
      "THZ-1-87: 'PUGREST.BadRequest'\n",
      "THZ-2-102-1: 'PUGREST.BadRequest'\n",
      "THZ-2-49: 'PUGREST.BadRequest'\n",
      "THZ-2-98-01: 'PUGREST.BadRequest'\n",
      "TL-1-85: 'PUGREST.BadRequest'\n",
      "TL-2-105: 'PUGREST.BadRequest'\n",
      "TTK_3146: 'PUGREST.BadRequest'\n",
      "ULK1_4989: 'PUGREST.BadRequest'\n",
      "UNC0638:navitoclax (1:1 mol/mol): 'PUGREST.BadRequest'\n",
      "VSP34_8731: 'PUGREST.BadRequest'\n",
      "VTP-A: 'PUGREST.BadRequest'\n",
      "VTP-B: 'PUGREST.BadRequest'\n",
      "XMD11-50: 'PUGREST.BadRequest'\n",
      "XMD15-27: 'PUGREST.BadRequest'\n",
      "ZL049: 'PUGREST.BadRequest'\n",
      "ZL109: 'PUGREST.BadRequest'\n",
      "alisertib:navitoclax (2:1 mol/mol): 'PUGREST.BadRequest'\n",
      "carboplatin:UNC0638 (2:1 mol/mol): 'PUGREST.BadRequest'\n",
      "carboplatin:etoposide (40:17 mol/mol): 'PUGREST.BadRequest'\n",
      "crizotinib:PLX-4032 (2:1 mol/mol): 'PUGREST.BadRequest'\n",
      "decitabine:carboplatin (1:1 mol/mol): 'PUGREST.BadRequest'\n",
      "decitabine:navitoclax (2:1 mol/mol): 'PUGREST.BadRequest'\n",
      "docetaxel:tanespimycin (2:1 mol/mol): 'PUGREST.BadRequest'\n",
      "doxorubicin:navitoclax (2:1 mol/mol): 'PUGREST.BadRequest'\n",
      "erlotinib:PLX-4032 (2:1 mol/mol): 'PUGREST.BadRequest'\n",
      "iso-DC-45-A2: 'PUGREST.BadRequest'\n",
      "navitoclax:MST-312 (1:1 mol/mol): 'PUGREST.BadRequest'\n",
      "navitoclax:PLX-4032 (1:1 mol/mol): 'PUGREST.BadRequest'\n",
      "navitoclax:birinapant (1:1 mol/mol): 'PUGREST.BadRequest'\n",
      "navitoclax:gemcitabine (1:1 mol/mol): 'PUGREST.BadRequest'\n",
      "navitoclax:piperlongumine (1:1 mol/mol): 'PUGREST.BadRequest'\n",
      "navitoclax:pluripotin (1:1 mol/mol): 'PUGREST.BadRequest'\n",
      "navitoclax:sorafenib (1:1 mol/mol): 'PUGREST.BadRequest'\n",
      "piperlongumine:MST-312 (1:1 mol/mol): 'PUGREST.BadRequest'\n",
      "rTRAIL: 'PUGREST.BadRequest'\n",
      "salermide:PLX-4032 (12:1 mol/mol): 'PUGREST.BadRequest'\n",
      "selumetinib:BRD-A02303741 (4:1 mol/mol): 'PUGREST.BadRequest'\n",
      "selumetinib:GDC-0941 (4:1 mol/mol): 'PUGREST.BadRequest'\n",
      "selumetinib:JQ-1 (4:1 mol/mol): 'PUGREST.BadRequest'\n",
      "selumetinib:MK-2206 (8:1 mol/mol): 'PUGREST.BadRequest'\n",
      "selumetinib:PLX-4032 (8:1 mol/mol): 'PUGREST.BadRequest'\n",
      "selumetinib:UNC0638 (4:1 mol/mol): 'PUGREST.BadRequest'\n",
      "selumetinib:decitabine (4:1 mol/mol): 'PUGREST.BadRequest'\n",
      "selumetinib:navitoclax (8:1 mol/mol): 'PUGREST.BadRequest'\n",
      "selumetinib:piperlongumine (8:1 mol/mol): 'PUGREST.BadRequest'\n",
      "selumetinib:tretinoin (2:1 mol/mol): 'PUGREST.BadRequest'\n",
      "selumetinib:vorinostat (8:1 mol/mol): 'PUGREST.BadRequest'\n",
      "serdemetan:SCH-529074 (1:1 mol/mol): 'PUGREST.BadRequest'\n",
      "sirolimus:bortezomib (250:1 mol/mol): 'PUGREST.BadRequest'\n",
      "tanespimycin:bortezomib (250:1 mol/mol): 'PUGREST.BadRequest'\n",
      "tanespimycin:gemcitabine (1:1 mol/mol): 'PUGREST.BadRequest'\n",
      "tretinoin:carboplatin (2:1 mol/mol): 'PUGREST.BadRequest'\n",
      "tretinoin:navitoclax (4:1 mol/mol): 'PUGREST.BadRequest'\n",
      "vorinostat:carboplatin (1:1 mol/mol): 'PUGREST.BadRequest'\n",
      "vorinostat:navitoclax (4:1 mol/mol): 'PUGREST.BadRequest'\n"
     ]
    }
   ],
   "source": [
    "new_df = result_df.copy()\n",
    "new_collisions = {}\n",
    "for idx, row in no_drug_names_resolved.iterrows():\n",
    "    try:\n",
    "        compound = pcp.get_compounds(idx, namespace=\"cid\")\n",
    "        if len(compound) == 0:\n",
    "            raise ValueError(f\"No compound found for {row['drug_name']}\")\n",
    "        compound = compound[0]\n",
    "        iupac_hash = hash(compound.iupac_name)\n",
    "        if (iupac_hash in iupac_hashmap) and (mapping_dict.get(row['drug_name'], row['drug_name']) not in iupac_hashmap[iupac_hash]):\n",
    "            new_name = mapping_dict.get(row['drug_name'], row['drug_name'])\n",
    "            print(f\"Collision for {new_name}: {iupac_hashmap[iupac_hash]}\")\n",
    "            new_collisions[iupac_hash] = iupac_hashmap[iupac_hash].append(row['drug_name'])\n",
    "        new_df = pd.concat([new_df, pd.DataFrame.from_dict({\n",
    "            \"drug_name\": [row['drug_name']],\n",
    "            \"pubchem_id\": [compound.cid],\n",
    "            \"iupac_name\": [compound.iupac_name],\n",
    "            \"canonical_smiles\": [compound.canonical_smiles],\n",
    "            \"cactvs_fingerprint\": [compound.cactvs_fingerprint],\n",
    "            \"fingerprint\": [compound.fingerprint]\n",
    "        })\n",
    "        ])\n",
    "    except Exception as e:\n",
    "        print(f\"{row['drug_name']}: {e}\")\n",
    "        "
   ],
   "metadata": {
    "collapsed": false,
    "ExecuteTime": {
     "end_time": "2025-02-20T11:03:53.395570Z",
     "start_time": "2025-02-20T11:02:01.799544Z"
    }
   },
   "id": "aaf8df3bda3304ef"
  },
  {
   "cell_type": "code",
   "execution_count": 68,
   "outputs": [],
   "source": [
    "# change the mapping dict for collisions\n",
    "mapping_dict.update({\n",
    "    \"erismodegib\": \"Sonidegib\",\n",
    "    \"CAY10603\": \"Bml-281\",\n",
    "    \"BRD4770\": \"BRD-4770\",\n",
    "    \"ML031\": \"ML-031\",\n",
    "})"
   ],
   "metadata": {
    "collapsed": false,
    "ExecuteTime": {
     "end_time": "2025-02-20T11:11:59.659298Z",
     "start_time": "2025-02-20T11:11:59.627454Z"
    }
   },
   "id": "e116dc9987bc7936"
  },
  {
   "cell_type": "code",
   "execution_count": 69,
   "outputs": [],
   "source": [
    "no_drug_names_rest = no_drug_names_resolved[no_drug_names_resolved.index.isin([drug_id for drug_id in no_drug_names_resolved.index if drug_id not in new_df[\"pubchem_id\"].values.astype(str)])]"
   ],
   "metadata": {
    "collapsed": false,
    "ExecuteTime": {
     "end_time": "2025-02-20T11:12:01.550474Z",
     "start_time": "2025-02-20T11:12:01.473121Z"
    }
   },
   "id": "7d448c12be987caa"
  },
  {
   "cell_type": "markdown",
   "source": [
    "For CTRPv1, CTRPv2, we have smiles, even if we don't have Pubchem IDs. We shall merge"
   ],
   "metadata": {
    "collapsed": false
   },
   "id": "85031c4a25efa2c8"
  },
  {
   "cell_type": "code",
   "execution_count": 70,
   "outputs": [],
   "source": [
    "smiles_ctrpv1 = pd.read_csv(\"../CTRP/response/CTRPv1.0_2013_pub_Cell_154_1151/v10.M1.informer_set.txt\", sep=\"\\t\")[[\"cpd_name\", \"cpd_smiles\"]].drop_duplicates()\n",
    "smiles_ctrpv2 = pd.read_csv(\"../CTRP/response/CTRPv2.0_2015_ctd2_ExpandedDataset/v20.meta.per_compound.txt\", sep=\"\\t\")[[\"cpd_name\", \"cpd_smiles\"]].drop_duplicates()\n",
    "all_smiles = pd.concat([smiles_ctrpv1, smiles_ctrpv2]).drop_duplicates()"
   ],
   "metadata": {
    "collapsed": false,
    "ExecuteTime": {
     "end_time": "2025-02-20T11:12:03.130243Z",
     "start_time": "2025-02-20T11:12:03.001467Z"
    }
   },
   "id": "426e27c4371481f6"
  },
  {
   "cell_type": "code",
   "execution_count": 71,
   "outputs": [],
   "source": [
    "all_smiles = all_smiles[all_smiles[\"cpd_name\"].isin(no_drug_names_rest[\"drug_name\"])]"
   ],
   "metadata": {
    "collapsed": false,
    "ExecuteTime": {
     "end_time": "2025-02-20T11:12:05.579912Z",
     "start_time": "2025-02-20T11:12:05.552789Z"
    }
   },
   "id": "ec6be17432a7167"
  },
  {
   "cell_type": "code",
   "execution_count": 72,
   "outputs": [],
   "source": [
    "all_smiles.columns = [\"drug_name\", \"canonical_smiles\"]"
   ],
   "metadata": {
    "collapsed": false,
    "ExecuteTime": {
     "end_time": "2025-02-20T11:12:06.183435Z",
     "start_time": "2025-02-20T11:12:06.168122Z"
    }
   },
   "id": "beebee132910d1fa"
  },
  {
   "cell_type": "code",
   "execution_count": 73,
   "outputs": [],
   "source": [
    "no_drug_names_rest = no_drug_names_rest.reset_index()"
   ],
   "metadata": {
    "collapsed": false,
    "ExecuteTime": {
     "end_time": "2025-02-20T11:12:06.645776Z",
     "start_time": "2025-02-20T11:12:06.633610Z"
    }
   },
   "id": "8bd01947fdeb3154"
  },
  {
   "cell_type": "code",
   "execution_count": 74,
   "outputs": [],
   "source": [
    "no_drug_names_rest = no_drug_names_rest.merge(all_smiles, on=\"drug_name\", how=\"left\")"
   ],
   "metadata": {
    "collapsed": false,
    "ExecuteTime": {
     "end_time": "2025-02-20T11:12:07.146484Z",
     "start_time": "2025-02-20T11:12:07.131671Z"
    }
   },
   "id": "efa96e4fd0e6b821"
  },
  {
   "cell_type": "code",
   "execution_count": 75,
   "outputs": [],
   "source": [
    "no_drug_names_rest[\"fingerprint\"] = np.nan\n",
    "no_drug_names_rest[\"iupac_name\"] = np.nan\n",
    "no_drug_names_rest[\"cactvs_fingerprint\"] = np.nan\n",
    "no_drug_names_rest[\"fingerprint\"] = np.nan"
   ],
   "metadata": {
    "collapsed": false,
    "ExecuteTime": {
     "end_time": "2025-02-20T11:12:07.660193Z",
     "start_time": "2025-02-20T11:12:07.629525Z"
    }
   },
   "id": "daad1f56664bde98"
  },
  {
   "cell_type": "code",
   "execution_count": 76,
   "outputs": [],
   "source": [
    "new_df = pd.concat([new_df, no_drug_names_rest])"
   ],
   "metadata": {
    "collapsed": false,
    "ExecuteTime": {
     "end_time": "2025-02-20T11:12:08.287195Z",
     "start_time": "2025-02-20T11:12:08.263750Z"
    }
   },
   "id": "ee7292317e559c9f"
  },
  {
   "cell_type": "code",
   "execution_count": 77,
   "outputs": [],
   "source": [
    "# some last minute mappings\n",
    "new_df[new_df[\"drug_name\"] == \"JNK-9L\"] = [\"JNK-9L\", 25222038, \"4-(3-fluoro-5-morpholin-4-ylphenyl)-N-[4-(3-morpholin-4-yl-1,2,4-triazol-1-yl)phenyl]pyrimidin-2-amine\", \"C1COCCN1C2=CC(=CC(=C2)C3=NC(=NC=C3)NC4=CC=C(C=C4)N5C=NC(=N5)N6CCOCC6)F\", np.nan, np.nan, \"GDSC1\"]\n",
    "new_df[new_df[\"drug_name\"] == \"Bleomycin (10 uM)\"] = [\"Bleomycin (10 uM)\", \"Bleomycin (10 uM)\", \"3-[[2-[2-[2-[[(2S,3R)-2-[[(2S,3S,4R)-4-[[(2S,3R)-2-[[6-amino-2-[(1S)-3-amino-1-[[(2S)-2,3-diamino-3-oxopropyl]amino]-3-oxopropyl]-5-methylpyrimidine-4-carbonyl]amino]-3-[3-[4-carbamoyloxy-3,5-dihydroxy-6-(hydroxymethyl)oxan-2-yl]oxy-4,5-dihydroxy-6-(hydroxymethyl)oxan-2-yl]oxy-3-(1H-imidazol-5-yl)propanoyl]amino]-3-hydroxy-2-methylpentanoyl]amino]-3-hydroxybutanoyl]amino]ethyl]-1,3-thiazol-4-yl]-1,3-thiazole-4-carbonyl]amino]propyl-dimethylsulfanium\", \"CC1=C(N=C(N=C1N)[C@H](CC(=O)N)NC[C@@H](C(=O)N)N)C(=O)N[C@@H]([C@H](C2=CN=CN2)OC3C(C(C(C(O3)CO)O)O)OC4C(C(C(C(O4)CO)O)OC(=O)N)O)C(=O)N[C@H](C)[C@H]([C@H](C)C(=O)N[C@@H]([C@@H](C)O)C(=O)NCCC5=NC(=CS5)C6=NC(=CS6)C(=O)NCCC[S+](C)C)O\", np.nan, np.nan, \"GDSC1\"]\n",
    "\n",
    "new_df[(new_df[\"drug_name\"] == \"Bleomycin (50 uM)\") & (new_df[\"dataset\"] == \"GDSC1\")] = [\"Bleomycin (50 uM)\", \"Bleomycin (50 uM)\", \"3-[[2-[2-[2-[[(2S,3R)-2-[[(2S,3S,4R)-4-[[(2S,3R)-2-[[6-amino-2-[(1S)-3-amino-1-[[(2S)-2,3-diamino-3-oxopropyl]amino]-3-oxopropyl]-5-methylpyrimidine-4-carbonyl]amino]-3-[3-[4-carbamoyloxy-3,5-dihydroxy-6-(hydroxymethyl)oxan-2-yl]oxy-4,5-dihydroxy-6-(hydroxymethyl)oxan-2-yl]oxy-3-(1H-imidazol-5-yl)propanoyl]amino]-3-hydroxy-2-methylpentanoyl]amino]-3-hydroxybutanoyl]amino]ethyl]-1,3-thiazol-4-yl]-1,3-thiazole-4-carbonyl]amino]propyl-dimethylsulfanium\", \"CC1=C(N=C(N=C1N)[C@H](CC(=O)N)NC[C@@H](C(=O)N)N)C(=O)N[C@@H]([C@H](C2=CN=CN2)OC3C(C(C(C(O3)CO)O)O)OC4C(C(C(C(O4)CO)O)OC(=O)N)O)C(=O)N[C@H](C)[C@H]([C@H](C)C(=O)N[C@@H]([C@@H](C)O)C(=O)NCCC5=NC(=CS5)C6=NC(=CS6)C(=O)NCCC[S+](C)C)O\", np.nan, np.nan, \"GDSC1\"]\n",
    "\n",
    "new_df[(new_df[\"drug_name\"] == \"Bleomycin (50 uM)\") & (new_df[\"dataset\"] == \"GDSC2\")] = [\"Bleomycin (50 uM)\", \"Bleomycin (50 uM)\", \"3-[[2-[2-[2-[[(2S,3R)-2-[[(2S,3S,4R)-4-[[(2S,3R)-2-[[6-amino-2-[(1S)-3-amino-1-[[(2S)-2,3-diamino-3-oxopropyl]amino]-3-oxopropyl]-5-methylpyrimidine-4-carbonyl]amino]-3-[3-[4-carbamoyloxy-3,5-dihydroxy-6-(hydroxymethyl)oxan-2-yl]oxy-4,5-dihydroxy-6-(hydroxymethyl)oxan-2-yl]oxy-3-(1H-imidazol-5-yl)propanoyl]amino]-3-hydroxy-2-methylpentanoyl]amino]-3-hydroxybutanoyl]amino]ethyl]-1,3-thiazol-4-yl]-1,3-thiazole-4-carbonyl]amino]propyl-dimethylsulfanium\", \"CC1=C(N=C(N=C1N)[C@H](CC(=O)N)NC[C@@H](C(=O)N)N)C(=O)N[C@@H]([C@H](C2=CN=CN2)OC3C(C(C(C(O3)CO)O)O)OC4C(C(C(C(O4)CO)O)OC(=O)N)O)C(=O)N[C@H](C)[C@H]([C@H](C)C(=O)N[C@@H]([C@@H](C)O)C(=O)NCCC5=NC(=CS5)C6=NC(=CS6)C(=O)NCCC[S+](C)C)O\", np.nan, np.nan, \"GDSC2\"]\n",
    "\n",
    "new_df[new_df[\"drug_name\"] == \"KIN001-260\"] = [\"KIN001-260\", \"157400995\", \"potassium;azide;iodide\", \"[N-]=[N+]=[N-].[K+].[I-]\", np.nan, np.nan, \"GDSC1\"]\n",
    "\n",
    "new_df[new_df[\"drug_name\"] == \"BDILV000379a\"] = [\"BDILV000379a\", \"BDILV000379a\", \"4-(4-(1-methyl-1H-pyrazol-4-yl)-1-(2-(1-methyl-1H-pyrazol-4-yl)ethyl)-4,5-dihydro-1H-imidazol-5-yl)benzonitrile\", \"CN1N=CC(=C1)C1N=CN(C1C1=CC=C(C#N)C=C1)CCC=1C=NN(C1)C\", np.nan, np.nan, \"GDSC2\"]"
   ],
   "metadata": {
    "collapsed": false,
    "ExecuteTime": {
     "end_time": "2025-02-20T11:12:08.878527Z",
     "start_time": "2025-02-20T11:12:08.871730Z"
    }
   },
   "id": "b35b6cda307b3bfb"
  },
  {
   "cell_type": "code",
   "execution_count": 78,
   "outputs": [],
   "source": [
    "new_df = new_df.drop(columns=[\"dataset\"])\n",
    "mapping_dict.update(\n",
    "    {\n",
    "        \"JNK-9L\": \"JNK inhibitor 9l\",\n",
    "        \"KIN001-260\": \"Potassium;azide;iodide\",\n",
    "        \"VNLG/124\": \"VNLG-124\",\n",
    "    }\n",
    ")"
   ],
   "metadata": {
    "collapsed": false,
    "ExecuteTime": {
     "end_time": "2025-02-20T11:12:11.313612Z",
     "start_time": "2025-02-20T11:12:10.982531Z"
    }
   },
   "id": "2730675bf21eac1"
  },
  {
   "cell_type": "code",
   "execution_count": 79,
   "outputs": [],
   "source": [
    "# slashes are a problem\n",
    "new_df[\"drug_name\"] = new_df[\"drug_name\"].astype(str)\n",
    "new_df[\"pubchem_id\"] = new_df[\"pubchem_id\"].astype(str)\n",
    "new_df[\"drug_name\"] = new_df[\"drug_name\"].apply(lambda x: x.replace(\"/\", \"-\"))\n",
    "new_df[\"pubchem_id\"] = new_df[\"pubchem_id\"].apply(lambda x: x.replace(\"/\", \"-\"))"
   ],
   "metadata": {
    "collapsed": false,
    "ExecuteTime": {
     "end_time": "2025-02-20T11:12:14.875108Z",
     "start_time": "2025-02-20T11:12:14.850550Z"
    }
   },
   "id": "3f0f8bb0550db59a"
  },
  {
   "cell_type": "code",
   "execution_count": 80,
   "outputs": [],
   "source": [
    "new_df.to_csv(\"all_smiles_old_names.csv\", index=False)"
   ],
   "metadata": {
    "collapsed": false,
    "ExecuteTime": {
     "end_time": "2025-02-20T11:12:16.319495Z",
     "start_time": "2025-02-20T11:12:16.289013Z"
    }
   },
   "id": "7bd004d81c1a931d"
  },
  {
   "cell_type": "code",
   "execution_count": 81,
   "outputs": [],
   "source": [
    "# new names\n",
    "new_df[\"drug_name\"] = new_df[\"drug_name\"].apply(lambda x: mapping_dict.get(x, x))"
   ],
   "metadata": {
    "collapsed": false,
    "ExecuteTime": {
     "end_time": "2025-02-20T11:12:17.447957Z",
     "start_time": "2025-02-20T11:12:17.408284Z"
    }
   },
   "id": "9777dee46e16ab5"
  },
  {
   "cell_type": "code",
   "execution_count": 82,
   "outputs": [],
   "source": [
    "new_df = new_df.drop_duplicates()\n",
    "new_df.to_csv(\"all_smiles.csv\", index=False)"
   ],
   "metadata": {
    "collapsed": false,
    "ExecuteTime": {
     "end_time": "2025-02-20T11:12:20.179550Z",
     "start_time": "2025-02-20T11:12:20.131843Z"
    }
   },
   "id": "bc7c2f6c01fc0b2a"
  },
  {
   "cell_type": "markdown",
   "source": [
    "Now we change all response files: \n",
    "1. We make a dictionary name -> pubchem id\n",
    "2. We change the names and pubchem ids in the response files"
   ],
   "metadata": {
    "collapsed": false
   },
   "id": "86487ae75d731673"
  },
  {
   "cell_type": "code",
   "execution_count": 83,
   "outputs": [],
   "source": [
    "name_to_pubchem = dict(zip(new_df[\"drug_name\"], new_df[\"pubchem_id\"]))"
   ],
   "metadata": {
    "collapsed": false,
    "ExecuteTime": {
     "end_time": "2025-02-20T11:12:22.989862Z",
     "start_time": "2025-02-20T11:12:22.967118Z"
    }
   },
   "id": "9b8750250387e3a3"
  },
  {
   "cell_type": "code",
   "execution_count": 84,
   "outputs": [
    {
     "name": "stdout",
     "output_type": "stream",
     "text": [
      "Processing CCLE\n",
      "Processing CTRPv1\n",
      "Processing CTRPv2\n"
     ]
    },
    {
     "name": "stderr",
     "output_type": "stream",
     "text": [
      "/var/folders/3x/f8j9tddj7flfxt9zx1gkws1m0000gn/T/ipykernel_29082/2691140757.py:4: DtypeWarning: Columns (2) have mixed types. Specify dtype option on import or set low_memory=False.\n",
      "  df = pd.read_csv(file)\n"
     ]
    },
    {
     "name": "stdout",
     "output_type": "stream",
     "text": [
      "Processing GDSC1\n",
      "Processing GDSC2\n"
     ]
    },
    {
     "name": "stderr",
     "output_type": "stream",
     "text": [
      "/var/folders/3x/f8j9tddj7flfxt9zx1gkws1m0000gn/T/ipykernel_29082/2691140757.py:4: DtypeWarning: Columns (2,25) have mixed types. Specify dtype option on import or set low_memory=False.\n",
      "  df = pd.read_csv(file)\n"
     ]
    }
   ],
   "source": [
    "import os\n",
    "for dataset, file in all_datasets.items():\n",
    "    print(\"Processing\", dataset)\n",
    "    df = pd.read_csv(file)\n",
    "    df[\"drug_name\"] = df[\"drug_name\"].apply(lambda x: mapping_dict.get(x, x))\n",
    "    df[\"pubchem_id\"] = df[\"drug_name\"].apply(lambda x: name_to_pubchem.get(x, x))\n",
    "    df[\"drug_name\"] = df[\"drug_name\"].astype(str)\n",
    "    df[\"pubchem_id\"] = df[\"pubchem_id\"].astype(str)\n",
    "    df[\"drug_name\"] = df[\"drug_name\"].apply(lambda x: x.replace(\"/\", \"-\"))\n",
    "    df[\"pubchem_id\"] = df[\"pubchem_id\"].apply(lambda x: x.replace(\"/\", \"-\"))\n",
    "    df[\"Name\"] = df[\"cellosaurus_id\"] + \"|\" + df[\"pubchem_id\"].astype(str)\n",
    "    new_file = file.replace(\".csv\", \"_new.csv\")\n",
    "    df.to_csv(new_file, index=False)\n",
    "    df_drugs = df[['pubchem_id', 'drug_name']]\n",
    "    df_drugs = df_drugs.drop_duplicates()\n",
    "    dir = os.path.dirname(new_file)\n",
    "    df_drugs.to_csv(f\"{dir}/drug_names.csv\", index=False)"
   ],
   "metadata": {
    "collapsed": false,
    "ExecuteTime": {
     "end_time": "2025-02-20T11:12:49.919613Z",
     "start_time": "2025-02-20T11:12:24.413011Z"
    }
   },
   "id": "8bc29188ab52b6fe"
  },
  {
   "cell_type": "code",
   "execution_count": 85,
   "outputs": [],
   "source": [
    "from rdkit import Chem\n",
    "from rdkit.Chem import rdFingerprintGenerator\n",
    "import numpy as np\n",
    "import pandas as pd\n",
    "# Load SMILES data\n",
    "drugs = pd.read_csv(\"all_smiles.csv\", index_col=1)\n",
    "\n",
    "def smiles_to_demorgan_fingerprints(smiles_df, n_bits=128, radius=2):\n",
    "    \"\"\"\n",
    "    Converts a list of SMILES strings to a list of DeMorgan fingerprints.\n",
    "    Parameters:\n",
    "        smiles_list (list of str): List of SMILES strings.\n",
    "        n_bits (int): Number of bits for the fingerprint (default: 128).\n",
    "        radius (int): Morgan fingerprint radius (default: 2).\n",
    "    Returns:\n",
    "        list: List of fingerprint bit arrays or 'NA' for invalid SMILES.\n",
    "    \"\"\"\n",
    "    fingerprint_df = pd.DataFrame(columns=[\"pubchem_id\", \"fingerprint\"])\n",
    "    for pubchem_id, row in smiles_df.iterrows():\n",
    "        smiles = row[\"canonical_smiles\"]\n",
    "        if not pd.isna(smiles):  \n",
    "            mol = Chem.MolFromSmiles(smiles)\n",
    "            mpfgen = rdFingerprintGenerator.GetMorganGenerator(radius=radius, fpSize=n_bits)\n",
    "            fp = mpfgen.GetFingerprint(mol).ToList()\n",
    "        else:\n",
    "            fp = [np.nan] * n_bits\n",
    "        fingerprint_df = pd.concat([fingerprint_df, pd.DataFrame.from_dict({\n",
    "            \"pubchem_id\": [pubchem_id],\n",
    "            \"fingerprint\": [fp]\n",
    "        })])\n",
    "    return fingerprint_df"
   ],
   "metadata": {
    "collapsed": false,
    "ExecuteTime": {
     "end_time": "2025-02-20T11:12:49.967841Z",
     "start_time": "2025-02-20T11:12:49.928571Z"
    }
   },
   "id": "25d1afe9674fb4a6"
  },
  {
   "cell_type": "code",
   "execution_count": 86,
   "outputs": [],
   "source": [
    "for n_bits in [64, 128, 256, 512, 1024, 2048]:\n",
    "    fingerprints = smiles_to_demorgan_fingerprints(drugs, n_bits=n_bits)\n",
    "    fingerprints = fingerprints.set_index(\"pubchem_id\")\n",
    "    # split list into columns\n",
    "    fingerprints = pd.DataFrame(fingerprints[\"fingerprint\"].tolist(), index=fingerprints.index)\n",
    "    fingerprints = fingerprints[~fingerprints.index.duplicated(keep='first')]\n",
    "    fingerprints = fingerprints.T\n",
    "    # set everything to integers if it is not nan\n",
    "    fingerprints = fingerprints.map(lambda x: x if pd.isna(x) else int(x))\n",
    "    fingerprints.to_csv(f\"pubchem_id_to_demorgan_{n_bits}_map.csv\", index=False)"
   ],
   "metadata": {
    "collapsed": false,
    "ExecuteTime": {
     "end_time": "2025-02-20T11:12:55.329173Z",
     "start_time": "2025-02-20T11:12:50.885310Z"
    }
   },
   "id": "5d97034945449fe7"
  },
  {
   "cell_type": "code",
   "execution_count": 87,
   "outputs": [],
   "source": [
    "drug_to_dataset = {}\n",
    "for dataset, file in all_datasets.items():\n",
    "    parent = os.path.dirname(file)\n",
    "    df = pd.read_csv(f\"{parent}/drug_names.csv\", index_col=0)\n",
    "    for idx, row in df.iterrows():\n",
    "        idx = str(idx)\n",
    "        if drug_to_dataset.get(idx, None) is None:\n",
    "            drug_to_dataset[idx] = [dataset]\n",
    "        else:\n",
    "            drug_to_dataset[idx].append(dataset)"
   ],
   "metadata": {
    "collapsed": false,
    "ExecuteTime": {
     "end_time": "2025-02-20T11:12:55.393595Z",
     "start_time": "2025-02-20T11:12:55.330037Z"
    }
   },
   "id": "8b42821ddaf3be24"
  },
  {
   "cell_type": "code",
   "execution_count": 88,
   "outputs": [],
   "source": [
    "# subset fingerprints\n",
    "for dataset, file in all_datasets.items():\n",
    "    parent = os.path.dirname(file)\n",
    "    new_dir = f\"{parent}/drug_fingerprints\"\n",
    "    for n_bits in [64, 128, 256, 512, 1024, 2048]:\n",
    "        fingerprints = pd.read_csv(f\"pubchem_id_to_demorgan_{n_bits}_map.csv\")\n",
    "        subset = [drug for drug in fingerprints.columns if drug_to_dataset.get(drug) is not None and dataset in drug_to_dataset[drug]]\n",
    "        fingerprints = fingerprints[subset]\n",
    "        fingerprints.to_csv(f\"{new_dir}/pubchem_id_to_demorgan_{n_bits}_map.csv\", index=False)"
   ],
   "metadata": {
    "collapsed": false,
    "ExecuteTime": {
     "end_time": "2025-02-20T11:13:00.162227Z",
     "start_time": "2025-02-20T11:12:58.071093Z"
    }
   },
   "id": "87b960bc11b74efa"
  },
  {
   "cell_type": "code",
   "execution_count": null,
   "outputs": [],
   "source": [],
   "metadata": {
    "collapsed": false
   },
   "id": "42100fd5ef0c0772"
  }
 ],
 "metadata": {
  "kernelspec": {
   "display_name": "Python 3",
   "language": "python",
   "name": "python3"
  },
  "language_info": {
   "codemirror_mode": {
    "name": "ipython",
    "version": 2
   },
   "file_extension": ".py",
   "mimetype": "text/x-python",
   "name": "python",
   "nbconvert_exporter": "python",
   "pygments_lexer": "ipython2",
   "version": "2.7.6"
  }
 },
 "nbformat": 4,
 "nbformat_minor": 5
}
