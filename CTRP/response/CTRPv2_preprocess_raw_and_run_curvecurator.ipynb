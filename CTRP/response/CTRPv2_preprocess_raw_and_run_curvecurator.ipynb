{
 "cells": [
  {
   "cell_type": "markdown",
   "id": "011d7116-2417-4019-826d-2db40e53e710",
   "metadata": {},
   "source": [
    "# Prepare raw data for curvecurator"
   ]
  },
  {
   "cell_type": "code",
   "execution_count": 1,
   "id": "b5ffc998-c7f8-4ba1-ba37-93644cde9e76",
   "metadata": {
    "ExecuteTime": {
     "end_time": "2025-02-04T12:39:09.776467Z",
     "start_time": "2025-02-04T12:39:09.405379Z"
    }
   },
   "outputs": [],
   "source": [
    "import pandas as pd\n",
    "from pathlib import Path\n",
    "import numpy as np\n",
    "import seaborn as sns\n",
    "import matplotlib.pyplot as plt\n",
    "import pubchempy as pcp\n",
    "from Bio.ExPASy import cellosaurus\n",
    "from drevalpy.datasets.curvecurator import preprocess, _exec_curvecurator, postprocess"
   ]
  },
  {
   "cell_type": "markdown",
   "id": "853a32f9-b38c-4bd9-b57f-8fc8ad09faf2",
   "metadata": {},
   "source": [
    "## Load Data"
   ]
  },
  {
   "cell_type": "code",
   "execution_count": 2,
   "id": "877b4809-4171-4e7e-9bec-e63b180bbc4d",
   "metadata": {
    "ExecuteTime": {
     "end_time": "2025-02-04T12:39:31.301352Z",
     "start_time": "2025-02-04T12:39:31.225360Z"
    }
   },
   "outputs": [],
   "source": [
    "RAW_FILE_PATH = Path(\"CTRPv2.0_2015_ctd2_ExpandedDataset/v20.data.per_cpd_well.txt\")"
   ]
  },
  {
   "cell_type": "code",
   "execution_count": 3,
   "id": "419e7f0f-33ac-48dd-bf67-e3996a8adc0c",
   "metadata": {
    "ExecuteTime": {
     "end_time": "2025-02-04T12:40:10.541880Z",
     "start_time": "2025-02-04T12:40:04.939500Z"
    }
   },
   "outputs": [
    {
     "data": {
      "text/plain": "          experiment_id assay_plate_barcode  raw_value_log2  bsub_value_log2  \\\n0                     1            AU050692           14.54         -0.07636   \n1                     1            AU050693           14.45         -0.13200   \n2                     1            AU050692           14.43         -0.18340   \n3                     1            AU050693           14.24         -0.34130   \n4                     1            AU050692           14.57         -0.03871   \n...                 ...                 ...             ...              ...   \n12470170            907            AU072323           10.53         -0.29590   \n12470171            907            AU072322           11.29          0.02746   \n12470172            907            AU072323           10.58         -0.25210   \n12470173            907            AU072322           11.12         -0.14050   \n12470174            907            AU072323           10.52         -0.30600   \n\n          dmso_zscore_log2  cpd_conc_umol  master_cpd_id  \n0                  -0.2608        0.00030           1788  \n1                  -0.4507        0.00030           1788  \n2                  -0.6263        0.00061           1788  \n3                  -1.1650        0.00061           1788  \n4                  -0.1322        0.00120           1788  \n...                    ...            ...            ...  \n12470170           -1.3230       17.00000         710154  \n12470171            0.1227       33.00000         710154  \n12470172           -1.1270       33.00000         710154  \n12470173           -0.6279       66.00000         710154  \n12470174           -1.3680       66.00000         710154  \n\n[12470175 rows x 7 columns]",
      "text/html": "<div>\n<style scoped>\n    .dataframe tbody tr th:only-of-type {\n        vertical-align: middle;\n    }\n\n    .dataframe tbody tr th {\n        vertical-align: top;\n    }\n\n    .dataframe thead th {\n        text-align: right;\n    }\n</style>\n<table border=\"1\" class=\"dataframe\">\n  <thead>\n    <tr style=\"text-align: right;\">\n      <th></th>\n      <th>experiment_id</th>\n      <th>assay_plate_barcode</th>\n      <th>raw_value_log2</th>\n      <th>bsub_value_log2</th>\n      <th>dmso_zscore_log2</th>\n      <th>cpd_conc_umol</th>\n      <th>master_cpd_id</th>\n    </tr>\n  </thead>\n  <tbody>\n    <tr>\n      <th>0</th>\n      <td>1</td>\n      <td>AU050692</td>\n      <td>14.54</td>\n      <td>-0.07636</td>\n      <td>-0.2608</td>\n      <td>0.00030</td>\n      <td>1788</td>\n    </tr>\n    <tr>\n      <th>1</th>\n      <td>1</td>\n      <td>AU050693</td>\n      <td>14.45</td>\n      <td>-0.13200</td>\n      <td>-0.4507</td>\n      <td>0.00030</td>\n      <td>1788</td>\n    </tr>\n    <tr>\n      <th>2</th>\n      <td>1</td>\n      <td>AU050692</td>\n      <td>14.43</td>\n      <td>-0.18340</td>\n      <td>-0.6263</td>\n      <td>0.00061</td>\n      <td>1788</td>\n    </tr>\n    <tr>\n      <th>3</th>\n      <td>1</td>\n      <td>AU050693</td>\n      <td>14.24</td>\n      <td>-0.34130</td>\n      <td>-1.1650</td>\n      <td>0.00061</td>\n      <td>1788</td>\n    </tr>\n    <tr>\n      <th>4</th>\n      <td>1</td>\n      <td>AU050692</td>\n      <td>14.57</td>\n      <td>-0.03871</td>\n      <td>-0.1322</td>\n      <td>0.00120</td>\n      <td>1788</td>\n    </tr>\n    <tr>\n      <th>...</th>\n      <td>...</td>\n      <td>...</td>\n      <td>...</td>\n      <td>...</td>\n      <td>...</td>\n      <td>...</td>\n      <td>...</td>\n    </tr>\n    <tr>\n      <th>12470170</th>\n      <td>907</td>\n      <td>AU072323</td>\n      <td>10.53</td>\n      <td>-0.29590</td>\n      <td>-1.3230</td>\n      <td>17.00000</td>\n      <td>710154</td>\n    </tr>\n    <tr>\n      <th>12470171</th>\n      <td>907</td>\n      <td>AU072322</td>\n      <td>11.29</td>\n      <td>0.02746</td>\n      <td>0.1227</td>\n      <td>33.00000</td>\n      <td>710154</td>\n    </tr>\n    <tr>\n      <th>12470172</th>\n      <td>907</td>\n      <td>AU072323</td>\n      <td>10.58</td>\n      <td>-0.25210</td>\n      <td>-1.1270</td>\n      <td>33.00000</td>\n      <td>710154</td>\n    </tr>\n    <tr>\n      <th>12470173</th>\n      <td>907</td>\n      <td>AU072322</td>\n      <td>11.12</td>\n      <td>-0.14050</td>\n      <td>-0.6279</td>\n      <td>66.00000</td>\n      <td>710154</td>\n    </tr>\n    <tr>\n      <th>12470174</th>\n      <td>907</td>\n      <td>AU072323</td>\n      <td>10.52</td>\n      <td>-0.30600</td>\n      <td>-1.3680</td>\n      <td>66.00000</td>\n      <td>710154</td>\n    </tr>\n  </tbody>\n</table>\n<p>12470175 rows × 7 columns</p>\n</div>"
     },
     "execution_count": 3,
     "metadata": {},
     "output_type": "execute_result"
    }
   ],
   "source": [
    "raw_df = pd.read_csv(RAW_FILE_PATH, sep='\\t')\n",
    "raw_df"
   ]
  },
  {
   "cell_type": "code",
   "execution_count": null,
   "outputs": [],
   "source": [
    "#raw_df = raw_df.sort_values([\"ccl_name\", \"cpd_name\", \"cpd_conc_umol\"])\n",
    "#raw_df"
   ],
   "metadata": {
    "collapsed": false
   },
   "id": "4116bb9c8c223de1"
  },
  {
   "cell_type": "code",
   "execution_count": 6,
   "id": "f4c3598d-4b94-4b9c-817d-de85140a48a5",
   "metadata": {
    "ExecuteTime": {
     "end_time": "2025-02-04T12:45:02.452808Z",
     "start_time": "2025-02-04T12:45:02.293128Z"
    }
   },
   "outputs": [
    {
     "data": {
      "text/plain": "     experiment_id             run_id  experiment_date culture_media  \\\n0                1  7024-01-A01-02-01         20120501       DMEM001   \n1                2  7024-01-A01-02-01         20120501       DMEM001   \n2                3  7024-01-A01-02-01         20120501       RPMI001   \n3                4  7024-01-A01-02-02         20120504       DMEM001   \n4                5  7024-01-A01-02-02         20120504       DMEM001   \n..             ...                ...              ...           ...   \n902            903  7024-01-A01-02-73         20130918       DMEM006   \n903            904  7024-01-A01-02-73         20130918       DMEM006   \n904            905  7024-01-A01-02-73         20130918       DMEM001   \n905            906  7024-01-A01-02-73         20130918       RPMI001   \n906            907  7024-01-A01-02-73         20130918       DMEM006   \n\n     baseline_signal  cells_per_well growth_mode          snp_fp_status  \\\n0             0.2225             500    adherent  SNP-matched-reference   \n1             0.2225             500    adherent  SNP-matched-reference   \n2             0.1195             500    adherent  SNP-matched-reference   \n3             0.2225             500    adherent        SNP-unconfirmed   \n4             0.2225             500    adherent  SNP-matched-reference   \n..               ...             ...         ...                    ...   \n902           0.0548             500    adherent         SNP-not-tested   \n903           0.0548             500    adherent         SNP-not-tested   \n904           0.2225             500    adherent         SNP-not-tested   \n905           0.1195             500    adherent         SNP-not-tested   \n906           0.0548             500    adherent         SNP-not-tested   \n\n     master_ccl_id  \n0              130  \n1              569  \n2              682  \n3                9  \n4               61  \n..             ...  \n902         150887  \n903         155827  \n904         155822  \n905         155824  \n906         155826  \n\n[907 rows x 9 columns]",
      "text/html": "<div>\n<style scoped>\n    .dataframe tbody tr th:only-of-type {\n        vertical-align: middle;\n    }\n\n    .dataframe tbody tr th {\n        vertical-align: top;\n    }\n\n    .dataframe thead th {\n        text-align: right;\n    }\n</style>\n<table border=\"1\" class=\"dataframe\">\n  <thead>\n    <tr style=\"text-align: right;\">\n      <th></th>\n      <th>experiment_id</th>\n      <th>run_id</th>\n      <th>experiment_date</th>\n      <th>culture_media</th>\n      <th>baseline_signal</th>\n      <th>cells_per_well</th>\n      <th>growth_mode</th>\n      <th>snp_fp_status</th>\n      <th>master_ccl_id</th>\n    </tr>\n  </thead>\n  <tbody>\n    <tr>\n      <th>0</th>\n      <td>1</td>\n      <td>7024-01-A01-02-01</td>\n      <td>20120501</td>\n      <td>DMEM001</td>\n      <td>0.2225</td>\n      <td>500</td>\n      <td>adherent</td>\n      <td>SNP-matched-reference</td>\n      <td>130</td>\n    </tr>\n    <tr>\n      <th>1</th>\n      <td>2</td>\n      <td>7024-01-A01-02-01</td>\n      <td>20120501</td>\n      <td>DMEM001</td>\n      <td>0.2225</td>\n      <td>500</td>\n      <td>adherent</td>\n      <td>SNP-matched-reference</td>\n      <td>569</td>\n    </tr>\n    <tr>\n      <th>2</th>\n      <td>3</td>\n      <td>7024-01-A01-02-01</td>\n      <td>20120501</td>\n      <td>RPMI001</td>\n      <td>0.1195</td>\n      <td>500</td>\n      <td>adherent</td>\n      <td>SNP-matched-reference</td>\n      <td>682</td>\n    </tr>\n    <tr>\n      <th>3</th>\n      <td>4</td>\n      <td>7024-01-A01-02-02</td>\n      <td>20120504</td>\n      <td>DMEM001</td>\n      <td>0.2225</td>\n      <td>500</td>\n      <td>adherent</td>\n      <td>SNP-unconfirmed</td>\n      <td>9</td>\n    </tr>\n    <tr>\n      <th>4</th>\n      <td>5</td>\n      <td>7024-01-A01-02-02</td>\n      <td>20120504</td>\n      <td>DMEM001</td>\n      <td>0.2225</td>\n      <td>500</td>\n      <td>adherent</td>\n      <td>SNP-matched-reference</td>\n      <td>61</td>\n    </tr>\n    <tr>\n      <th>...</th>\n      <td>...</td>\n      <td>...</td>\n      <td>...</td>\n      <td>...</td>\n      <td>...</td>\n      <td>...</td>\n      <td>...</td>\n      <td>...</td>\n      <td>...</td>\n    </tr>\n    <tr>\n      <th>902</th>\n      <td>903</td>\n      <td>7024-01-A01-02-73</td>\n      <td>20130918</td>\n      <td>DMEM006</td>\n      <td>0.0548</td>\n      <td>500</td>\n      <td>adherent</td>\n      <td>SNP-not-tested</td>\n      <td>150887</td>\n    </tr>\n    <tr>\n      <th>903</th>\n      <td>904</td>\n      <td>7024-01-A01-02-73</td>\n      <td>20130918</td>\n      <td>DMEM006</td>\n      <td>0.0548</td>\n      <td>500</td>\n      <td>adherent</td>\n      <td>SNP-not-tested</td>\n      <td>155827</td>\n    </tr>\n    <tr>\n      <th>904</th>\n      <td>905</td>\n      <td>7024-01-A01-02-73</td>\n      <td>20130918</td>\n      <td>DMEM001</td>\n      <td>0.2225</td>\n      <td>500</td>\n      <td>adherent</td>\n      <td>SNP-not-tested</td>\n      <td>155822</td>\n    </tr>\n    <tr>\n      <th>905</th>\n      <td>906</td>\n      <td>7024-01-A01-02-73</td>\n      <td>20130918</td>\n      <td>RPMI001</td>\n      <td>0.1195</td>\n      <td>500</td>\n      <td>adherent</td>\n      <td>SNP-not-tested</td>\n      <td>155824</td>\n    </tr>\n    <tr>\n      <th>906</th>\n      <td>907</td>\n      <td>7024-01-A01-02-73</td>\n      <td>20130918</td>\n      <td>DMEM006</td>\n      <td>0.0548</td>\n      <td>500</td>\n      <td>adherent</td>\n      <td>SNP-not-tested</td>\n      <td>155826</td>\n    </tr>\n  </tbody>\n</table>\n<p>907 rows × 9 columns</p>\n</div>"
     },
     "execution_count": 6,
     "metadata": {},
     "output_type": "execute_result"
    }
   ],
   "source": [
    "exp_meta = pd.read_csv(\"CTRPv2.0_2015_ctd2_ExpandedDataset/v20.meta.per_experiment.txt\", sep='\\t').groupby([\"experiment_id\"], as_index=False).first()\n",
    "exp_meta"
   ]
  },
  {
   "cell_type": "code",
   "execution_count": 7,
   "id": "e2f5f94d-9f28-46ff-929a-b710fa239eeb",
   "metadata": {
    "ExecuteTime": {
     "end_time": "2025-02-04T12:45:03.693560Z",
     "start_time": "2025-02-04T12:45:03.642204Z"
    }
   },
   "outputs": [
    {
     "data": {
      "text/plain": "      master_ccl_id ccl_name ccl_availability  \\\n0                 1      697      ccle;public   \n1                 3     5637      ccle;public   \n2                 4  2313287      ccle;public   \n3                 5   1321N1             ccle   \n4                 6     143B             ccle   \n...             ...      ...              ...   \n1102         155824   TTC709     collaborator   \n1103         155825     ASKA     collaborator   \n1104         155826   YAMATO     collaborator   \n1105         155827     SYO1     collaborator   \n1106         155841    U-CH1     collaborator   \n\n                       ccle_primary_site  ccle_primary_hist  \\\n0     haematopoietic_and_lymphoid_tissue  lymphoid_neoplasm   \n1                          urinary_tract          carcinoma   \n2                                stomach          carcinoma   \n3                 central_nervous_system             glioma   \n4                                   bone       osteosarcoma   \n...                                  ...                ...   \n1102                                 NaN                NaN   \n1103                                 NaN                NaN   \n1104                                 NaN                NaN   \n1105                                 NaN                NaN   \n1106                                 NaN                NaN   \n\n                       ccle_hist_subtype_1  \n0     acute_lymphoblastic_B_cell_leukaemia  \n1                                      NaN  \n2                           adenocarcinoma  \n3                              astrocytoma  \n4                                      NaN  \n...                                    ...  \n1102                                   NaN  \n1103                                   NaN  \n1104                                   NaN  \n1105                                   NaN  \n1106                                   NaN  \n\n[1107 rows x 6 columns]",
      "text/html": "<div>\n<style scoped>\n    .dataframe tbody tr th:only-of-type {\n        vertical-align: middle;\n    }\n\n    .dataframe tbody tr th {\n        vertical-align: top;\n    }\n\n    .dataframe thead th {\n        text-align: right;\n    }\n</style>\n<table border=\"1\" class=\"dataframe\">\n  <thead>\n    <tr style=\"text-align: right;\">\n      <th></th>\n      <th>master_ccl_id</th>\n      <th>ccl_name</th>\n      <th>ccl_availability</th>\n      <th>ccle_primary_site</th>\n      <th>ccle_primary_hist</th>\n      <th>ccle_hist_subtype_1</th>\n    </tr>\n  </thead>\n  <tbody>\n    <tr>\n      <th>0</th>\n      <td>1</td>\n      <td>697</td>\n      <td>ccle;public</td>\n      <td>haematopoietic_and_lymphoid_tissue</td>\n      <td>lymphoid_neoplasm</td>\n      <td>acute_lymphoblastic_B_cell_leukaemia</td>\n    </tr>\n    <tr>\n      <th>1</th>\n      <td>3</td>\n      <td>5637</td>\n      <td>ccle;public</td>\n      <td>urinary_tract</td>\n      <td>carcinoma</td>\n      <td>NaN</td>\n    </tr>\n    <tr>\n      <th>2</th>\n      <td>4</td>\n      <td>2313287</td>\n      <td>ccle;public</td>\n      <td>stomach</td>\n      <td>carcinoma</td>\n      <td>adenocarcinoma</td>\n    </tr>\n    <tr>\n      <th>3</th>\n      <td>5</td>\n      <td>1321N1</td>\n      <td>ccle</td>\n      <td>central_nervous_system</td>\n      <td>glioma</td>\n      <td>astrocytoma</td>\n    </tr>\n    <tr>\n      <th>4</th>\n      <td>6</td>\n      <td>143B</td>\n      <td>ccle</td>\n      <td>bone</td>\n      <td>osteosarcoma</td>\n      <td>NaN</td>\n    </tr>\n    <tr>\n      <th>...</th>\n      <td>...</td>\n      <td>...</td>\n      <td>...</td>\n      <td>...</td>\n      <td>...</td>\n      <td>...</td>\n    </tr>\n    <tr>\n      <th>1102</th>\n      <td>155824</td>\n      <td>TTC709</td>\n      <td>collaborator</td>\n      <td>NaN</td>\n      <td>NaN</td>\n      <td>NaN</td>\n    </tr>\n    <tr>\n      <th>1103</th>\n      <td>155825</td>\n      <td>ASKA</td>\n      <td>collaborator</td>\n      <td>NaN</td>\n      <td>NaN</td>\n      <td>NaN</td>\n    </tr>\n    <tr>\n      <th>1104</th>\n      <td>155826</td>\n      <td>YAMATO</td>\n      <td>collaborator</td>\n      <td>NaN</td>\n      <td>NaN</td>\n      <td>NaN</td>\n    </tr>\n    <tr>\n      <th>1105</th>\n      <td>155827</td>\n      <td>SYO1</td>\n      <td>collaborator</td>\n      <td>NaN</td>\n      <td>NaN</td>\n      <td>NaN</td>\n    </tr>\n    <tr>\n      <th>1106</th>\n      <td>155841</td>\n      <td>U-CH1</td>\n      <td>collaborator</td>\n      <td>NaN</td>\n      <td>NaN</td>\n      <td>NaN</td>\n    </tr>\n  </tbody>\n</table>\n<p>1107 rows × 6 columns</p>\n</div>"
     },
     "execution_count": 7,
     "metadata": {},
     "output_type": "execute_result"
    }
   ],
   "source": [
    "cl_meta = pd.read_csv(\"CTRPv2.0_2015_ctd2_ExpandedDataset//v20.meta.per_cell_line.txt\", sep='\\t')\n",
    "cl_meta"
   ]
  },
  {
   "cell_type": "code",
   "execution_count": 8,
   "id": "bd03ab80-6b58-4468-b2e4-0545c4e09ecd",
   "metadata": {
    "ExecuteTime": {
     "end_time": "2025-02-04T12:45:06.794638Z",
     "start_time": "2025-02-04T12:45:06.684040Z"
    }
   },
   "outputs": [
    {
     "data": {
      "text/plain": "     master_cpd_id                       cpd_name   broad_cpd_id  \\\n0             1788                          CIL55  BRD-K46556387   \n1             3588                        BRD4132  BRD-K86574132   \n2            12877                        BRD6340  BRD-K35716340   \n3            17712                          ML006  BRD-K89692698   \n4            18311            Bax channel blocker  BRD-A18763547   \n..             ...                            ...            ...   \n540         688975                       avicin D  BRD-A15100685   \n541         689136  BRD9876:MK-1775 (4:1 mol/mol)  BRD-M80099012   \n542         689506                  BRD-K30748066  BRD-K30748066   \n543         705300                     linsitinib  BRD-K08589866   \n544         710154                         AT-406  BRD-K02834582   \n\n     top_test_conc_umol cpd_status    inclusion_rationale  \\\n0                  10.0      probe              pilot-set   \n1                 160.0      probe    chromatin;pilot-set   \n2                  33.0      probe    chromatin;pilot-set   \n3                 530.0      probe              pilot-set   \n4                  33.0      probe              pilot-set   \n..                  ...        ...                    ...   \n540                66.0      probe               outreach   \n541                66.0      probe            combination   \n542                66.0      probe                 kinome   \n543                33.0   clinical  CTEP;kinome;pilot-set   \n544                66.0      probe   lit-search;synthesis   \n\n    gene_symbol_of_protein_target  \\\n0                             NaN   \n1                             NaN   \n2                             NaN   \n3                           S1PR3   \n4                             BAX   \n..                            ...   \n540                           NaN   \n541                          WEE1   \n542                          CDK9   \n543                    IGF1R;INSR   \n544                          XIAP   \n\n                        target_or_activity_of_compound  \\\n0                                        screening hit   \n1                                        screening hit   \n2                                        screening hit   \n3        agonist of sphingosine 1-phosphate receptor 3   \n4    inhibitor of BAX-mediated mitochondrial cytoch...   \n..                                                 ...   \n540                                    natural product   \n541                    screening hit;inhibitor of WEE1   \n542                                  inhibitor of CDK9   \n543  inhibitor of insulin-like growth factor 1 rece...   \n544  SMAC mimetic; inhibitor of inhibitor of apopto...   \n\n                            source_name source_catalog_id  \\\n0                   Columbia University               NaN   \n1                          ChemDiv Inc.         4998-1380   \n2                          ChemDiv Inc.         1988-0090   \n3                          Enamine Ltd.       Z1037336336   \n4                             Maybridge          RJC01737   \n..                                  ...               ...   \n540           MD Anderson Cancer Center               NaN   \n541                                 NaN               NaN   \n542  Broad Institute of MIT and Harvard               NaN   \n543                             Selleck             S1091   \n544                             Selleck             S2754   \n\n                                            cpd_smiles  \n0                CN(C)CCNC(=O)c1cc2CSc3cc(Cl)ccc3-c2s1  \n1    CC(C)N1C(=O)S\\C(=C\\c2ccc(Sc3nc4ccccc4[nH]3)o2)...  \n2              C(Cn1c2ccccc2c2ccccc12)c1nc2ccccc2[nH]1  \n3             C1CN(CCO1)c1nnc(-c2ccccc2)c(n1)-c1ccccc1  \n4            OC(CN1CCNCC1)Cn1c2ccc(Br)cc2c2cc(Br)ccc12  \n..                                                 ...  \n540  CC1O[C@@H](OCC2O[C@@H](O[C@H]3CC[C@@]4(C)C(CC[...  \n541  CC(C)(C)c1ccc2cc(C#N)c(cc2c1)C#N.CN1CCN(CC1)c1...  \n542      Cc1c(sc(=O)n1C)-c1ccnc(Nc2ccc(cc2)N2CCNCC2)n1  \n543  CC1(O)CC(C1)c2nc(c3ccc4ccc(nc4c3)c5ccccc5)c6c(...  \n544  CNC(C)C(=O)NC1CN(CCC2CCC(N2C1=O)C(=O)NC(c3cccc...  \n\n[545 rows x 11 columns]",
      "text/html": "<div>\n<style scoped>\n    .dataframe tbody tr th:only-of-type {\n        vertical-align: middle;\n    }\n\n    .dataframe tbody tr th {\n        vertical-align: top;\n    }\n\n    .dataframe thead th {\n        text-align: right;\n    }\n</style>\n<table border=\"1\" class=\"dataframe\">\n  <thead>\n    <tr style=\"text-align: right;\">\n      <th></th>\n      <th>master_cpd_id</th>\n      <th>cpd_name</th>\n      <th>broad_cpd_id</th>\n      <th>top_test_conc_umol</th>\n      <th>cpd_status</th>\n      <th>inclusion_rationale</th>\n      <th>gene_symbol_of_protein_target</th>\n      <th>target_or_activity_of_compound</th>\n      <th>source_name</th>\n      <th>source_catalog_id</th>\n      <th>cpd_smiles</th>\n    </tr>\n  </thead>\n  <tbody>\n    <tr>\n      <th>0</th>\n      <td>1788</td>\n      <td>CIL55</td>\n      <td>BRD-K46556387</td>\n      <td>10.0</td>\n      <td>probe</td>\n      <td>pilot-set</td>\n      <td>NaN</td>\n      <td>screening hit</td>\n      <td>Columbia University</td>\n      <td>NaN</td>\n      <td>CN(C)CCNC(=O)c1cc2CSc3cc(Cl)ccc3-c2s1</td>\n    </tr>\n    <tr>\n      <th>1</th>\n      <td>3588</td>\n      <td>BRD4132</td>\n      <td>BRD-K86574132</td>\n      <td>160.0</td>\n      <td>probe</td>\n      <td>chromatin;pilot-set</td>\n      <td>NaN</td>\n      <td>screening hit</td>\n      <td>ChemDiv Inc.</td>\n      <td>4998-1380</td>\n      <td>CC(C)N1C(=O)S\\C(=C\\c2ccc(Sc3nc4ccccc4[nH]3)o2)...</td>\n    </tr>\n    <tr>\n      <th>2</th>\n      <td>12877</td>\n      <td>BRD6340</td>\n      <td>BRD-K35716340</td>\n      <td>33.0</td>\n      <td>probe</td>\n      <td>chromatin;pilot-set</td>\n      <td>NaN</td>\n      <td>screening hit</td>\n      <td>ChemDiv Inc.</td>\n      <td>1988-0090</td>\n      <td>C(Cn1c2ccccc2c2ccccc12)c1nc2ccccc2[nH]1</td>\n    </tr>\n    <tr>\n      <th>3</th>\n      <td>17712</td>\n      <td>ML006</td>\n      <td>BRD-K89692698</td>\n      <td>530.0</td>\n      <td>probe</td>\n      <td>pilot-set</td>\n      <td>S1PR3</td>\n      <td>agonist of sphingosine 1-phosphate receptor 3</td>\n      <td>Enamine Ltd.</td>\n      <td>Z1037336336</td>\n      <td>C1CN(CCO1)c1nnc(-c2ccccc2)c(n1)-c1ccccc1</td>\n    </tr>\n    <tr>\n      <th>4</th>\n      <td>18311</td>\n      <td>Bax channel blocker</td>\n      <td>BRD-A18763547</td>\n      <td>33.0</td>\n      <td>probe</td>\n      <td>pilot-set</td>\n      <td>BAX</td>\n      <td>inhibitor of BAX-mediated mitochondrial cytoch...</td>\n      <td>Maybridge</td>\n      <td>RJC01737</td>\n      <td>OC(CN1CCNCC1)Cn1c2ccc(Br)cc2c2cc(Br)ccc12</td>\n    </tr>\n    <tr>\n      <th>...</th>\n      <td>...</td>\n      <td>...</td>\n      <td>...</td>\n      <td>...</td>\n      <td>...</td>\n      <td>...</td>\n      <td>...</td>\n      <td>...</td>\n      <td>...</td>\n      <td>...</td>\n      <td>...</td>\n    </tr>\n    <tr>\n      <th>540</th>\n      <td>688975</td>\n      <td>avicin D</td>\n      <td>BRD-A15100685</td>\n      <td>66.0</td>\n      <td>probe</td>\n      <td>outreach</td>\n      <td>NaN</td>\n      <td>natural product</td>\n      <td>MD Anderson Cancer Center</td>\n      <td>NaN</td>\n      <td>CC1O[C@@H](OCC2O[C@@H](O[C@H]3CC[C@@]4(C)C(CC[...</td>\n    </tr>\n    <tr>\n      <th>541</th>\n      <td>689136</td>\n      <td>BRD9876:MK-1775 (4:1 mol/mol)</td>\n      <td>BRD-M80099012</td>\n      <td>66.0</td>\n      <td>probe</td>\n      <td>combination</td>\n      <td>WEE1</td>\n      <td>screening hit;inhibitor of WEE1</td>\n      <td>NaN</td>\n      <td>NaN</td>\n      <td>CC(C)(C)c1ccc2cc(C#N)c(cc2c1)C#N.CN1CCN(CC1)c1...</td>\n    </tr>\n    <tr>\n      <th>542</th>\n      <td>689506</td>\n      <td>BRD-K30748066</td>\n      <td>BRD-K30748066</td>\n      <td>66.0</td>\n      <td>probe</td>\n      <td>kinome</td>\n      <td>CDK9</td>\n      <td>inhibitor of CDK9</td>\n      <td>Broad Institute of MIT and Harvard</td>\n      <td>NaN</td>\n      <td>Cc1c(sc(=O)n1C)-c1ccnc(Nc2ccc(cc2)N2CCNCC2)n1</td>\n    </tr>\n    <tr>\n      <th>543</th>\n      <td>705300</td>\n      <td>linsitinib</td>\n      <td>BRD-K08589866</td>\n      <td>33.0</td>\n      <td>clinical</td>\n      <td>CTEP;kinome;pilot-set</td>\n      <td>IGF1R;INSR</td>\n      <td>inhibitor of insulin-like growth factor 1 rece...</td>\n      <td>Selleck</td>\n      <td>S1091</td>\n      <td>CC1(O)CC(C1)c2nc(c3ccc4ccc(nc4c3)c5ccccc5)c6c(...</td>\n    </tr>\n    <tr>\n      <th>544</th>\n      <td>710154</td>\n      <td>AT-406</td>\n      <td>BRD-K02834582</td>\n      <td>66.0</td>\n      <td>probe</td>\n      <td>lit-search;synthesis</td>\n      <td>XIAP</td>\n      <td>SMAC mimetic; inhibitor of inhibitor of apopto...</td>\n      <td>Selleck</td>\n      <td>S2754</td>\n      <td>CNC(C)C(=O)NC1CN(CCC2CCC(N2C1=O)C(=O)NC(c3cccc...</td>\n    </tr>\n  </tbody>\n</table>\n<p>545 rows × 11 columns</p>\n</div>"
     },
     "execution_count": 8,
     "metadata": {},
     "output_type": "execute_result"
    }
   ],
   "source": [
    "drug_meta = pd.read_csv(\"CTRPv2.0_2015_ctd2_ExpandedDataset//v20.meta.per_compound.txt\", sep='\\t')\n",
    "drug_meta"
   ]
  },
  {
   "cell_type": "markdown",
   "id": "6f92a1e7-cb91-4162-b103-feb235c64d67",
   "metadata": {},
   "source": [
    "## Prepare data"
   ]
  },
  {
   "cell_type": "code",
   "execution_count": 9,
   "id": "7fd1dc60-0a81-4d6c-8efb-c2ffc0ec0045",
   "metadata": {
    "ExecuteTime": {
     "end_time": "2025-02-04T12:45:53.403480Z",
     "start_time": "2025-02-04T12:45:20.212858Z"
    }
   },
   "outputs": [
    {
     "data": {
      "text/plain": "          experiment_id assay_plate_barcode  raw_value_log2  bsub_value_log2  \\\n0                     1            AU050692           14.54         -0.07636   \n1                     1            AU050693           14.45         -0.13200   \n2                     1            AU050692           14.43         -0.18340   \n3                     1            AU050693           14.24         -0.34130   \n4                     1            AU050692           14.57         -0.03871   \n...                 ...                 ...             ...              ...   \n12470170            907            AU072323           10.53         -0.29590   \n12470171            907            AU072322           11.29          0.02746   \n12470172            907            AU072323           10.58         -0.25210   \n12470173            907            AU072322           11.12         -0.14050   \n12470174            907            AU072323           10.52         -0.30600   \n\n          dmso_zscore_log2  cpd_conc_umol  master_cpd_id             run_id  \\\n0                  -0.2608        0.00030           1788  7024-01-A01-02-01   \n1                  -0.4507        0.00030           1788  7024-01-A01-02-01   \n2                  -0.6263        0.00061           1788  7024-01-A01-02-01   \n3                  -1.1650        0.00061           1788  7024-01-A01-02-01   \n4                  -0.1322        0.00120           1788  7024-01-A01-02-01   \n...                    ...            ...            ...                ...   \n12470170           -1.3230       17.00000         710154  7024-01-A01-02-73   \n12470171            0.1227       33.00000         710154  7024-01-A01-02-73   \n12470172           -1.1270       33.00000         710154  7024-01-A01-02-73   \n12470173           -0.6279       66.00000         710154  7024-01-A01-02-73   \n12470174           -1.3680       66.00000         710154  7024-01-A01-02-73   \n\n          experiment_date culture_media  ...  cpd_name   broad_cpd_id  \\\n0                20120501       DMEM001  ...     CIL55  BRD-K46556387   \n1                20120501       DMEM001  ...     CIL55  BRD-K46556387   \n2                20120501       DMEM001  ...     CIL55  BRD-K46556387   \n3                20120501       DMEM001  ...     CIL55  BRD-K46556387   \n4                20120501       DMEM001  ...     CIL55  BRD-K46556387   \n...                   ...           ...  ...       ...            ...   \n12470170         20130918       DMEM006  ...    AT-406  BRD-K02834582   \n12470171         20130918       DMEM006  ...    AT-406  BRD-K02834582   \n12470172         20130918       DMEM006  ...    AT-406  BRD-K02834582   \n12470173         20130918       DMEM006  ...    AT-406  BRD-K02834582   \n12470174         20130918       DMEM006  ...    AT-406  BRD-K02834582   \n\n         top_test_conc_umol cpd_status   inclusion_rationale  \\\n0                      10.0      probe             pilot-set   \n1                      10.0      probe             pilot-set   \n2                      10.0      probe             pilot-set   \n3                      10.0      probe             pilot-set   \n4                      10.0      probe             pilot-set   \n...                     ...        ...                   ...   \n12470170               66.0      probe  lit-search;synthesis   \n12470171               66.0      probe  lit-search;synthesis   \n12470172               66.0      probe  lit-search;synthesis   \n12470173               66.0      probe  lit-search;synthesis   \n12470174               66.0      probe  lit-search;synthesis   \n\n         gene_symbol_of_protein_target  \\\n0                                  NaN   \n1                                  NaN   \n2                                  NaN   \n3                                  NaN   \n4                                  NaN   \n...                                ...   \n12470170                          XIAP   \n12470171                          XIAP   \n12470172                          XIAP   \n12470173                          XIAP   \n12470174                          XIAP   \n\n                             target_or_activity_of_compound  \\\n0                                             screening hit   \n1                                             screening hit   \n2                                             screening hit   \n3                                             screening hit   \n4                                             screening hit   \n...                                                     ...   \n12470170  SMAC mimetic; inhibitor of inhibitor of apopto...   \n12470171  SMAC mimetic; inhibitor of inhibitor of apopto...   \n12470172  SMAC mimetic; inhibitor of inhibitor of apopto...   \n12470173  SMAC mimetic; inhibitor of inhibitor of apopto...   \n12470174  SMAC mimetic; inhibitor of inhibitor of apopto...   \n\n                  source_name source_catalog_id  \\\n0         Columbia University               NaN   \n1         Columbia University               NaN   \n2         Columbia University               NaN   \n3         Columbia University               NaN   \n4         Columbia University               NaN   \n...                       ...               ...   \n12470170              Selleck             S2754   \n12470171              Selleck             S2754   \n12470172              Selleck             S2754   \n12470173              Selleck             S2754   \n12470174              Selleck             S2754   \n\n                                                 cpd_smiles  \n0                     CN(C)CCNC(=O)c1cc2CSc3cc(Cl)ccc3-c2s1  \n1                     CN(C)CCNC(=O)c1cc2CSc3cc(Cl)ccc3-c2s1  \n2                     CN(C)CCNC(=O)c1cc2CSc3cc(Cl)ccc3-c2s1  \n3                     CN(C)CCNC(=O)c1cc2CSc3cc(Cl)ccc3-c2s1  \n4                     CN(C)CCNC(=O)c1cc2CSc3cc(Cl)ccc3-c2s1  \n...                                                     ...  \n12470170  CNC(C)C(=O)NC1CN(CCC2CCC(N2C1=O)C(=O)NC(c3cccc...  \n12470171  CNC(C)C(=O)NC1CN(CCC2CCC(N2C1=O)C(=O)NC(c3cccc...  \n12470172  CNC(C)C(=O)NC1CN(CCC2CCC(N2C1=O)C(=O)NC(c3cccc...  \n12470173  CNC(C)C(=O)NC1CN(CCC2CCC(N2C1=O)C(=O)NC(c3cccc...  \n12470174  CNC(C)C(=O)NC1CN(CCC2CCC(N2C1=O)C(=O)NC(c3cccc...  \n\n[12470175 rows x 30 columns]",
      "text/html": "<div>\n<style scoped>\n    .dataframe tbody tr th:only-of-type {\n        vertical-align: middle;\n    }\n\n    .dataframe tbody tr th {\n        vertical-align: top;\n    }\n\n    .dataframe thead th {\n        text-align: right;\n    }\n</style>\n<table border=\"1\" class=\"dataframe\">\n  <thead>\n    <tr style=\"text-align: right;\">\n      <th></th>\n      <th>experiment_id</th>\n      <th>assay_plate_barcode</th>\n      <th>raw_value_log2</th>\n      <th>bsub_value_log2</th>\n      <th>dmso_zscore_log2</th>\n      <th>cpd_conc_umol</th>\n      <th>master_cpd_id</th>\n      <th>run_id</th>\n      <th>experiment_date</th>\n      <th>culture_media</th>\n      <th>...</th>\n      <th>cpd_name</th>\n      <th>broad_cpd_id</th>\n      <th>top_test_conc_umol</th>\n      <th>cpd_status</th>\n      <th>inclusion_rationale</th>\n      <th>gene_symbol_of_protein_target</th>\n      <th>target_or_activity_of_compound</th>\n      <th>source_name</th>\n      <th>source_catalog_id</th>\n      <th>cpd_smiles</th>\n    </tr>\n  </thead>\n  <tbody>\n    <tr>\n      <th>0</th>\n      <td>1</td>\n      <td>AU050692</td>\n      <td>14.54</td>\n      <td>-0.07636</td>\n      <td>-0.2608</td>\n      <td>0.00030</td>\n      <td>1788</td>\n      <td>7024-01-A01-02-01</td>\n      <td>20120501</td>\n      <td>DMEM001</td>\n      <td>...</td>\n      <td>CIL55</td>\n      <td>BRD-K46556387</td>\n      <td>10.0</td>\n      <td>probe</td>\n      <td>pilot-set</td>\n      <td>NaN</td>\n      <td>screening hit</td>\n      <td>Columbia University</td>\n      <td>NaN</td>\n      <td>CN(C)CCNC(=O)c1cc2CSc3cc(Cl)ccc3-c2s1</td>\n    </tr>\n    <tr>\n      <th>1</th>\n      <td>1</td>\n      <td>AU050693</td>\n      <td>14.45</td>\n      <td>-0.13200</td>\n      <td>-0.4507</td>\n      <td>0.00030</td>\n      <td>1788</td>\n      <td>7024-01-A01-02-01</td>\n      <td>20120501</td>\n      <td>DMEM001</td>\n      <td>...</td>\n      <td>CIL55</td>\n      <td>BRD-K46556387</td>\n      <td>10.0</td>\n      <td>probe</td>\n      <td>pilot-set</td>\n      <td>NaN</td>\n      <td>screening hit</td>\n      <td>Columbia University</td>\n      <td>NaN</td>\n      <td>CN(C)CCNC(=O)c1cc2CSc3cc(Cl)ccc3-c2s1</td>\n    </tr>\n    <tr>\n      <th>2</th>\n      <td>1</td>\n      <td>AU050692</td>\n      <td>14.43</td>\n      <td>-0.18340</td>\n      <td>-0.6263</td>\n      <td>0.00061</td>\n      <td>1788</td>\n      <td>7024-01-A01-02-01</td>\n      <td>20120501</td>\n      <td>DMEM001</td>\n      <td>...</td>\n      <td>CIL55</td>\n      <td>BRD-K46556387</td>\n      <td>10.0</td>\n      <td>probe</td>\n      <td>pilot-set</td>\n      <td>NaN</td>\n      <td>screening hit</td>\n      <td>Columbia University</td>\n      <td>NaN</td>\n      <td>CN(C)CCNC(=O)c1cc2CSc3cc(Cl)ccc3-c2s1</td>\n    </tr>\n    <tr>\n      <th>3</th>\n      <td>1</td>\n      <td>AU050693</td>\n      <td>14.24</td>\n      <td>-0.34130</td>\n      <td>-1.1650</td>\n      <td>0.00061</td>\n      <td>1788</td>\n      <td>7024-01-A01-02-01</td>\n      <td>20120501</td>\n      <td>DMEM001</td>\n      <td>...</td>\n      <td>CIL55</td>\n      <td>BRD-K46556387</td>\n      <td>10.0</td>\n      <td>probe</td>\n      <td>pilot-set</td>\n      <td>NaN</td>\n      <td>screening hit</td>\n      <td>Columbia University</td>\n      <td>NaN</td>\n      <td>CN(C)CCNC(=O)c1cc2CSc3cc(Cl)ccc3-c2s1</td>\n    </tr>\n    <tr>\n      <th>4</th>\n      <td>1</td>\n      <td>AU050692</td>\n      <td>14.57</td>\n      <td>-0.03871</td>\n      <td>-0.1322</td>\n      <td>0.00120</td>\n      <td>1788</td>\n      <td>7024-01-A01-02-01</td>\n      <td>20120501</td>\n      <td>DMEM001</td>\n      <td>...</td>\n      <td>CIL55</td>\n      <td>BRD-K46556387</td>\n      <td>10.0</td>\n      <td>probe</td>\n      <td>pilot-set</td>\n      <td>NaN</td>\n      <td>screening hit</td>\n      <td>Columbia University</td>\n      <td>NaN</td>\n      <td>CN(C)CCNC(=O)c1cc2CSc3cc(Cl)ccc3-c2s1</td>\n    </tr>\n    <tr>\n      <th>...</th>\n      <td>...</td>\n      <td>...</td>\n      <td>...</td>\n      <td>...</td>\n      <td>...</td>\n      <td>...</td>\n      <td>...</td>\n      <td>...</td>\n      <td>...</td>\n      <td>...</td>\n      <td>...</td>\n      <td>...</td>\n      <td>...</td>\n      <td>...</td>\n      <td>...</td>\n      <td>...</td>\n      <td>...</td>\n      <td>...</td>\n      <td>...</td>\n      <td>...</td>\n      <td>...</td>\n    </tr>\n    <tr>\n      <th>12470170</th>\n      <td>907</td>\n      <td>AU072323</td>\n      <td>10.53</td>\n      <td>-0.29590</td>\n      <td>-1.3230</td>\n      <td>17.00000</td>\n      <td>710154</td>\n      <td>7024-01-A01-02-73</td>\n      <td>20130918</td>\n      <td>DMEM006</td>\n      <td>...</td>\n      <td>AT-406</td>\n      <td>BRD-K02834582</td>\n      <td>66.0</td>\n      <td>probe</td>\n      <td>lit-search;synthesis</td>\n      <td>XIAP</td>\n      <td>SMAC mimetic; inhibitor of inhibitor of apopto...</td>\n      <td>Selleck</td>\n      <td>S2754</td>\n      <td>CNC(C)C(=O)NC1CN(CCC2CCC(N2C1=O)C(=O)NC(c3cccc...</td>\n    </tr>\n    <tr>\n      <th>12470171</th>\n      <td>907</td>\n      <td>AU072322</td>\n      <td>11.29</td>\n      <td>0.02746</td>\n      <td>0.1227</td>\n      <td>33.00000</td>\n      <td>710154</td>\n      <td>7024-01-A01-02-73</td>\n      <td>20130918</td>\n      <td>DMEM006</td>\n      <td>...</td>\n      <td>AT-406</td>\n      <td>BRD-K02834582</td>\n      <td>66.0</td>\n      <td>probe</td>\n      <td>lit-search;synthesis</td>\n      <td>XIAP</td>\n      <td>SMAC mimetic; inhibitor of inhibitor of apopto...</td>\n      <td>Selleck</td>\n      <td>S2754</td>\n      <td>CNC(C)C(=O)NC1CN(CCC2CCC(N2C1=O)C(=O)NC(c3cccc...</td>\n    </tr>\n    <tr>\n      <th>12470172</th>\n      <td>907</td>\n      <td>AU072323</td>\n      <td>10.58</td>\n      <td>-0.25210</td>\n      <td>-1.1270</td>\n      <td>33.00000</td>\n      <td>710154</td>\n      <td>7024-01-A01-02-73</td>\n      <td>20130918</td>\n      <td>DMEM006</td>\n      <td>...</td>\n      <td>AT-406</td>\n      <td>BRD-K02834582</td>\n      <td>66.0</td>\n      <td>probe</td>\n      <td>lit-search;synthesis</td>\n      <td>XIAP</td>\n      <td>SMAC mimetic; inhibitor of inhibitor of apopto...</td>\n      <td>Selleck</td>\n      <td>S2754</td>\n      <td>CNC(C)C(=O)NC1CN(CCC2CCC(N2C1=O)C(=O)NC(c3cccc...</td>\n    </tr>\n    <tr>\n      <th>12470173</th>\n      <td>907</td>\n      <td>AU072322</td>\n      <td>11.12</td>\n      <td>-0.14050</td>\n      <td>-0.6279</td>\n      <td>66.00000</td>\n      <td>710154</td>\n      <td>7024-01-A01-02-73</td>\n      <td>20130918</td>\n      <td>DMEM006</td>\n      <td>...</td>\n      <td>AT-406</td>\n      <td>BRD-K02834582</td>\n      <td>66.0</td>\n      <td>probe</td>\n      <td>lit-search;synthesis</td>\n      <td>XIAP</td>\n      <td>SMAC mimetic; inhibitor of inhibitor of apopto...</td>\n      <td>Selleck</td>\n      <td>S2754</td>\n      <td>CNC(C)C(=O)NC1CN(CCC2CCC(N2C1=O)C(=O)NC(c3cccc...</td>\n    </tr>\n    <tr>\n      <th>12470174</th>\n      <td>907</td>\n      <td>AU072323</td>\n      <td>10.52</td>\n      <td>-0.30600</td>\n      <td>-1.3680</td>\n      <td>66.00000</td>\n      <td>710154</td>\n      <td>7024-01-A01-02-73</td>\n      <td>20130918</td>\n      <td>DMEM006</td>\n      <td>...</td>\n      <td>AT-406</td>\n      <td>BRD-K02834582</td>\n      <td>66.0</td>\n      <td>probe</td>\n      <td>lit-search;synthesis</td>\n      <td>XIAP</td>\n      <td>SMAC mimetic; inhibitor of inhibitor of apopto...</td>\n      <td>Selleck</td>\n      <td>S2754</td>\n      <td>CNC(C)C(=O)NC1CN(CCC2CCC(N2C1=O)C(=O)NC(c3cccc...</td>\n    </tr>\n  </tbody>\n</table>\n<p>12470175 rows × 30 columns</p>\n</div>"
     },
     "execution_count": 9,
     "metadata": {},
     "output_type": "execute_result"
    }
   ],
   "source": [
    "combined_df = raw_df.merge(exp_meta, on=\"experiment_id\").merge(cl_meta, on=\"master_ccl_id\").merge(drug_meta, on=\"master_cpd_id\")\n",
    "combined_df"
   ]
  },
  {
   "cell_type": "code",
   "execution_count": 10,
   "id": "8605d787-d0dc-4f71-bad1-81c90575a8ad",
   "metadata": {
    "ExecuteTime": {
     "end_time": "2025-02-04T12:46:36.151497Z",
     "start_time": "2025-02-04T12:46:35.492079Z"
    }
   },
   "outputs": [],
   "source": [
    "combined_df[\"bsub_value\"] = np.power(2, raw_df[\"bsub_value_log2\"])"
   ]
  },
  {
   "cell_type": "markdown",
   "id": "4a33000b-83c3-4bde-bf71-e0d266a93f5e",
   "metadata": {},
   "source": [
    "### Creating replicate information"
   ]
  },
  {
   "cell_type": "code",
   "execution_count": 11,
   "id": "45737210-bdad-4380-b8fb-c841d80e7112",
   "metadata": {
    "ExecuteTime": {
     "end_time": "2025-02-04T12:48:17.526371Z",
     "start_time": "2025-02-04T12:46:59.671956Z"
    }
   },
   "outputs": [
    {
     "data": {
      "text/plain": "          experiment_id assay_plate_barcode  raw_value_log2  bsub_value_log2  \\\n0                     1            AU050692           14.54         -0.07636   \n1                     1            AU050693           14.45         -0.13200   \n2                     1            AU050692           14.43         -0.18340   \n3                     1            AU050693           14.24         -0.34130   \n4                     1            AU050692           14.57         -0.03871   \n...                 ...                 ...             ...              ...   \n12470170            907            AU072323           10.53         -0.29590   \n12470171            907            AU072322           11.29          0.02746   \n12470172            907            AU072323           10.58         -0.25210   \n12470173            907            AU072322           11.12         -0.14050   \n12470174            907            AU072323           10.52         -0.30600   \n\n          dmso_zscore_log2  cpd_conc_umol  master_cpd_id             run_id  \\\n0                  -0.2608        0.00030           1788  7024-01-A01-02-01   \n1                  -0.4507        0.00030           1788  7024-01-A01-02-01   \n2                  -0.6263        0.00061           1788  7024-01-A01-02-01   \n3                  -1.1650        0.00061           1788  7024-01-A01-02-01   \n4                  -0.1322        0.00120           1788  7024-01-A01-02-01   \n...                    ...            ...            ...                ...   \n12470170           -1.3230       17.00000         710154  7024-01-A01-02-73   \n12470171            0.1227       33.00000         710154  7024-01-A01-02-73   \n12470172           -1.1270       33.00000         710154  7024-01-A01-02-73   \n12470173           -0.6279       66.00000         710154  7024-01-A01-02-73   \n12470174           -1.3680       66.00000         710154  7024-01-A01-02-73   \n\n          experiment_date culture_media  ...   inclusion_rationale  \\\n0                20120501       DMEM001  ...             pilot-set   \n1                20120501       DMEM001  ...             pilot-set   \n2                20120501       DMEM001  ...             pilot-set   \n3                20120501       DMEM001  ...             pilot-set   \n4                20120501       DMEM001  ...             pilot-set   \n...                   ...           ...  ...                   ...   \n12470170         20130918       DMEM006  ...  lit-search;synthesis   \n12470171         20130918       DMEM006  ...  lit-search;synthesis   \n12470172         20130918       DMEM006  ...  lit-search;synthesis   \n12470173         20130918       DMEM006  ...  lit-search;synthesis   \n12470174         20130918       DMEM006  ...  lit-search;synthesis   \n\n          gene_symbol_of_protein_target  \\\n0                                   NaN   \n1                                   NaN   \n2                                   NaN   \n3                                   NaN   \n4                                   NaN   \n...                                 ...   \n12470170                           XIAP   \n12470171                           XIAP   \n12470172                           XIAP   \n12470173                           XIAP   \n12470174                           XIAP   \n\n                             target_or_activity_of_compound  \\\n0                                             screening hit   \n1                                             screening hit   \n2                                             screening hit   \n3                                             screening hit   \n4                                             screening hit   \n...                                                     ...   \n12470170  SMAC mimetic; inhibitor of inhibitor of apopto...   \n12470171  SMAC mimetic; inhibitor of inhibitor of apopto...   \n12470172  SMAC mimetic; inhibitor of inhibitor of apopto...   \n12470173  SMAC mimetic; inhibitor of inhibitor of apopto...   \n12470174  SMAC mimetic; inhibitor of inhibitor of apopto...   \n\n                  source_name  source_catalog_id  \\\n0         Columbia University                NaN   \n1         Columbia University                NaN   \n2         Columbia University                NaN   \n3         Columbia University                NaN   \n4         Columbia University                NaN   \n...                       ...                ...   \n12470170              Selleck              S2754   \n12470171              Selleck              S2754   \n12470172              Selleck              S2754   \n12470173              Selleck              S2754   \n12470174              Selleck              S2754   \n\n                                                 cpd_smiles bsub_value repl  \\\n0                     CN(C)CCNC(=O)c1cc2CSc3cc(Cl)ccc3-c2s1   0.948448    0   \n1                     CN(C)CCNC(=O)c1cc2CSc3cc(Cl)ccc3-c2s1   0.912565    1   \n2                     CN(C)CCNC(=O)c1cc2CSc3cc(Cl)ccc3-c2s1   0.880625    0   \n3                     CN(C)CCNC(=O)c1cc2CSc3cc(Cl)ccc3-c2s1   0.789330    1   \n4                     CN(C)CCNC(=O)c1cc2CSc3cc(Cl)ccc3-c2s1   0.973525    0   \n...                                                     ...        ...  ...   \n12470170  CNC(C)C(=O)NC1CN(CCC2CCC(N2C1=O)C(=O)NC(c3cccc...   0.814564    1   \n12470171  CNC(C)C(=O)NC1CN(CCC2CCC(N2C1=O)C(=O)NC(c3cccc...   1.019216    0   \n12470172  CNC(C)C(=O)NC1CN(CCC2CCC(N2C1=O)C(=O)NC(c3cccc...   0.839673    1   \n12470173  CNC(C)C(=O)NC1CN(CCC2CCC(N2C1=O)C(=O)NC(c3cccc...   0.907205    0   \n12470174  CNC(C)C(=O)NC1CN(CCC2CCC(N2C1=O)C(=O)NC(c3cccc...   0.808881    1   \n\n         drugcellrep replicate  \n0                  0         0  \n1                  0         1  \n2                  0         0  \n3                  0         1  \n4                  0         0  \n...              ...       ...  \n12470170           0         1  \n12470171           0         0  \n12470172           0         1  \n12470173           0         0  \n12470174           0         1  \n\n[12470175 rows x 34 columns]",
      "text/html": "<div>\n<style scoped>\n    .dataframe tbody tr th:only-of-type {\n        vertical-align: middle;\n    }\n\n    .dataframe tbody tr th {\n        vertical-align: top;\n    }\n\n    .dataframe thead th {\n        text-align: right;\n    }\n</style>\n<table border=\"1\" class=\"dataframe\">\n  <thead>\n    <tr style=\"text-align: right;\">\n      <th></th>\n      <th>experiment_id</th>\n      <th>assay_plate_barcode</th>\n      <th>raw_value_log2</th>\n      <th>bsub_value_log2</th>\n      <th>dmso_zscore_log2</th>\n      <th>cpd_conc_umol</th>\n      <th>master_cpd_id</th>\n      <th>run_id</th>\n      <th>experiment_date</th>\n      <th>culture_media</th>\n      <th>...</th>\n      <th>inclusion_rationale</th>\n      <th>gene_symbol_of_protein_target</th>\n      <th>target_or_activity_of_compound</th>\n      <th>source_name</th>\n      <th>source_catalog_id</th>\n      <th>cpd_smiles</th>\n      <th>bsub_value</th>\n      <th>repl</th>\n      <th>drugcellrep</th>\n      <th>replicate</th>\n    </tr>\n  </thead>\n  <tbody>\n    <tr>\n      <th>0</th>\n      <td>1</td>\n      <td>AU050692</td>\n      <td>14.54</td>\n      <td>-0.07636</td>\n      <td>-0.2608</td>\n      <td>0.00030</td>\n      <td>1788</td>\n      <td>7024-01-A01-02-01</td>\n      <td>20120501</td>\n      <td>DMEM001</td>\n      <td>...</td>\n      <td>pilot-set</td>\n      <td>NaN</td>\n      <td>screening hit</td>\n      <td>Columbia University</td>\n      <td>NaN</td>\n      <td>CN(C)CCNC(=O)c1cc2CSc3cc(Cl)ccc3-c2s1</td>\n      <td>0.948448</td>\n      <td>0</td>\n      <td>0</td>\n      <td>0</td>\n    </tr>\n    <tr>\n      <th>1</th>\n      <td>1</td>\n      <td>AU050693</td>\n      <td>14.45</td>\n      <td>-0.13200</td>\n      <td>-0.4507</td>\n      <td>0.00030</td>\n      <td>1788</td>\n      <td>7024-01-A01-02-01</td>\n      <td>20120501</td>\n      <td>DMEM001</td>\n      <td>...</td>\n      <td>pilot-set</td>\n      <td>NaN</td>\n      <td>screening hit</td>\n      <td>Columbia University</td>\n      <td>NaN</td>\n      <td>CN(C)CCNC(=O)c1cc2CSc3cc(Cl)ccc3-c2s1</td>\n      <td>0.912565</td>\n      <td>1</td>\n      <td>0</td>\n      <td>1</td>\n    </tr>\n    <tr>\n      <th>2</th>\n      <td>1</td>\n      <td>AU050692</td>\n      <td>14.43</td>\n      <td>-0.18340</td>\n      <td>-0.6263</td>\n      <td>0.00061</td>\n      <td>1788</td>\n      <td>7024-01-A01-02-01</td>\n      <td>20120501</td>\n      <td>DMEM001</td>\n      <td>...</td>\n      <td>pilot-set</td>\n      <td>NaN</td>\n      <td>screening hit</td>\n      <td>Columbia University</td>\n      <td>NaN</td>\n      <td>CN(C)CCNC(=O)c1cc2CSc3cc(Cl)ccc3-c2s1</td>\n      <td>0.880625</td>\n      <td>0</td>\n      <td>0</td>\n      <td>0</td>\n    </tr>\n    <tr>\n      <th>3</th>\n      <td>1</td>\n      <td>AU050693</td>\n      <td>14.24</td>\n      <td>-0.34130</td>\n      <td>-1.1650</td>\n      <td>0.00061</td>\n      <td>1788</td>\n      <td>7024-01-A01-02-01</td>\n      <td>20120501</td>\n      <td>DMEM001</td>\n      <td>...</td>\n      <td>pilot-set</td>\n      <td>NaN</td>\n      <td>screening hit</td>\n      <td>Columbia University</td>\n      <td>NaN</td>\n      <td>CN(C)CCNC(=O)c1cc2CSc3cc(Cl)ccc3-c2s1</td>\n      <td>0.789330</td>\n      <td>1</td>\n      <td>0</td>\n      <td>1</td>\n    </tr>\n    <tr>\n      <th>4</th>\n      <td>1</td>\n      <td>AU050692</td>\n      <td>14.57</td>\n      <td>-0.03871</td>\n      <td>-0.1322</td>\n      <td>0.00120</td>\n      <td>1788</td>\n      <td>7024-01-A01-02-01</td>\n      <td>20120501</td>\n      <td>DMEM001</td>\n      <td>...</td>\n      <td>pilot-set</td>\n      <td>NaN</td>\n      <td>screening hit</td>\n      <td>Columbia University</td>\n      <td>NaN</td>\n      <td>CN(C)CCNC(=O)c1cc2CSc3cc(Cl)ccc3-c2s1</td>\n      <td>0.973525</td>\n      <td>0</td>\n      <td>0</td>\n      <td>0</td>\n    </tr>\n    <tr>\n      <th>...</th>\n      <td>...</td>\n      <td>...</td>\n      <td>...</td>\n      <td>...</td>\n      <td>...</td>\n      <td>...</td>\n      <td>...</td>\n      <td>...</td>\n      <td>...</td>\n      <td>...</td>\n      <td>...</td>\n      <td>...</td>\n      <td>...</td>\n      <td>...</td>\n      <td>...</td>\n      <td>...</td>\n      <td>...</td>\n      <td>...</td>\n      <td>...</td>\n      <td>...</td>\n      <td>...</td>\n    </tr>\n    <tr>\n      <th>12470170</th>\n      <td>907</td>\n      <td>AU072323</td>\n      <td>10.53</td>\n      <td>-0.29590</td>\n      <td>-1.3230</td>\n      <td>17.00000</td>\n      <td>710154</td>\n      <td>7024-01-A01-02-73</td>\n      <td>20130918</td>\n      <td>DMEM006</td>\n      <td>...</td>\n      <td>lit-search;synthesis</td>\n      <td>XIAP</td>\n      <td>SMAC mimetic; inhibitor of inhibitor of apopto...</td>\n      <td>Selleck</td>\n      <td>S2754</td>\n      <td>CNC(C)C(=O)NC1CN(CCC2CCC(N2C1=O)C(=O)NC(c3cccc...</td>\n      <td>0.814564</td>\n      <td>1</td>\n      <td>0</td>\n      <td>1</td>\n    </tr>\n    <tr>\n      <th>12470171</th>\n      <td>907</td>\n      <td>AU072322</td>\n      <td>11.29</td>\n      <td>0.02746</td>\n      <td>0.1227</td>\n      <td>33.00000</td>\n      <td>710154</td>\n      <td>7024-01-A01-02-73</td>\n      <td>20130918</td>\n      <td>DMEM006</td>\n      <td>...</td>\n      <td>lit-search;synthesis</td>\n      <td>XIAP</td>\n      <td>SMAC mimetic; inhibitor of inhibitor of apopto...</td>\n      <td>Selleck</td>\n      <td>S2754</td>\n      <td>CNC(C)C(=O)NC1CN(CCC2CCC(N2C1=O)C(=O)NC(c3cccc...</td>\n      <td>1.019216</td>\n      <td>0</td>\n      <td>0</td>\n      <td>0</td>\n    </tr>\n    <tr>\n      <th>12470172</th>\n      <td>907</td>\n      <td>AU072323</td>\n      <td>10.58</td>\n      <td>-0.25210</td>\n      <td>-1.1270</td>\n      <td>33.00000</td>\n      <td>710154</td>\n      <td>7024-01-A01-02-73</td>\n      <td>20130918</td>\n      <td>DMEM006</td>\n      <td>...</td>\n      <td>lit-search;synthesis</td>\n      <td>XIAP</td>\n      <td>SMAC mimetic; inhibitor of inhibitor of apopto...</td>\n      <td>Selleck</td>\n      <td>S2754</td>\n      <td>CNC(C)C(=O)NC1CN(CCC2CCC(N2C1=O)C(=O)NC(c3cccc...</td>\n      <td>0.839673</td>\n      <td>1</td>\n      <td>0</td>\n      <td>1</td>\n    </tr>\n    <tr>\n      <th>12470173</th>\n      <td>907</td>\n      <td>AU072322</td>\n      <td>11.12</td>\n      <td>-0.14050</td>\n      <td>-0.6279</td>\n      <td>66.00000</td>\n      <td>710154</td>\n      <td>7024-01-A01-02-73</td>\n      <td>20130918</td>\n      <td>DMEM006</td>\n      <td>...</td>\n      <td>lit-search;synthesis</td>\n      <td>XIAP</td>\n      <td>SMAC mimetic; inhibitor of inhibitor of apopto...</td>\n      <td>Selleck</td>\n      <td>S2754</td>\n      <td>CNC(C)C(=O)NC1CN(CCC2CCC(N2C1=O)C(=O)NC(c3cccc...</td>\n      <td>0.907205</td>\n      <td>0</td>\n      <td>0</td>\n      <td>0</td>\n    </tr>\n    <tr>\n      <th>12470174</th>\n      <td>907</td>\n      <td>AU072323</td>\n      <td>10.52</td>\n      <td>-0.30600</td>\n      <td>-1.3680</td>\n      <td>66.00000</td>\n      <td>710154</td>\n      <td>7024-01-A01-02-73</td>\n      <td>20130918</td>\n      <td>DMEM006</td>\n      <td>...</td>\n      <td>lit-search;synthesis</td>\n      <td>XIAP</td>\n      <td>SMAC mimetic; inhibitor of inhibitor of apopto...</td>\n      <td>Selleck</td>\n      <td>S2754</td>\n      <td>CNC(C)C(=O)NC1CN(CCC2CCC(N2C1=O)C(=O)NC(c3cccc...</td>\n      <td>0.808881</td>\n      <td>1</td>\n      <td>0</td>\n      <td>1</td>\n    </tr>\n  </tbody>\n</table>\n<p>12470175 rows × 34 columns</p>\n</div>"
     },
     "execution_count": 11,
     "metadata": {},
     "output_type": "execute_result"
    }
   ],
   "source": [
    "combined_df['repl'] = combined_df.groupby([\"ccl_name\", \"cpd_name\", \"experiment_id\", \"cpd_conc_umol\"]).cumcount()\n",
    "drugcellrep_df = combined_df[[\"cpd_name\", \"ccl_name\", \"experiment_id\"]].drop_duplicates()\n",
    "drugcellrep_df[\"drugcellrep\"] = drugcellrep_df.groupby([\"cpd_name\", \"ccl_name\"]).cumcount()\n",
    "combined_df = combined_df.merge(drugcellrep_df, on=[\"cpd_name\", \"ccl_name\", \"experiment_id\"])\n",
    "combined_df['replicate'] = pd.factorize(combined_df[[\"repl\", \"drugcellrep\"]].apply(tuple, axis=1))[0]\n",
    "combined_df['replicate'] = combined_df.groupby([\"ccl_name\", \"cpd_name\"])[\"replicate\"].transform(lambda x: pd.factorize(x)[0])\n",
    "\n",
    "combined_df"
   ]
  },
  {
   "cell_type": "code",
   "execution_count": 12,
   "id": "40bf5db6-bc66-47d5-8ce4-a89fb3f7a075",
   "metadata": {
    "ExecuteTime": {
     "end_time": "2025-02-04T12:49:07.051922Z",
     "start_time": "2025-02-04T12:48:51.700384Z"
    }
   },
   "outputs": [
    {
     "data": {
      "text/plain": "          experiment_id assay_plate_barcode  raw_value_log2  bsub_value_log2  \\\n0                     1            AU050692           14.54         -0.07636   \n1                     1            AU050693           14.45         -0.13200   \n2                     1            AU050692           14.43         -0.18340   \n3                     1            AU050693           14.24         -0.34130   \n4                     1            AU050692           14.57         -0.03871   \n...                 ...                 ...             ...              ...   \n12470170            907            AU072323           10.53         -0.29590   \n12470171            907            AU072322           11.29          0.02746   \n12470172            907            AU072323           10.58         -0.25210   \n12470173            907            AU072322           11.12         -0.14050   \n12470174            907            AU072323           10.52         -0.30600   \n\n          dmso_zscore_log2  cpd_conc_umol  master_cpd_id             run_id  \\\n0                  -0.2608        0.00030           1788  7024-01-A01-02-01   \n1                  -0.4507        0.00030           1788  7024-01-A01-02-01   \n2                  -0.6263        0.00061           1788  7024-01-A01-02-01   \n3                  -1.1650        0.00061           1788  7024-01-A01-02-01   \n4                  -0.1322        0.00120           1788  7024-01-A01-02-01   \n...                    ...            ...            ...                ...   \n12470170           -1.3230       17.00000         710154  7024-01-A01-02-73   \n12470171            0.1227       33.00000         710154  7024-01-A01-02-73   \n12470172           -1.1270       33.00000         710154  7024-01-A01-02-73   \n12470173           -0.6279       66.00000         710154  7024-01-A01-02-73   \n12470174           -1.3680       66.00000         710154  7024-01-A01-02-73   \n\n          experiment_date culture_media  ...          source_name  \\\n0                20120501       DMEM001  ...  Columbia University   \n1                20120501       DMEM001  ...  Columbia University   \n2                20120501       DMEM001  ...  Columbia University   \n3                20120501       DMEM001  ...  Columbia University   \n4                20120501       DMEM001  ...  Columbia University   \n...                   ...           ...  ...                  ...   \n12470170         20130918       DMEM006  ...              Selleck   \n12470171         20130918       DMEM006  ...              Selleck   \n12470172         20130918       DMEM006  ...              Selleck   \n12470173         20130918       DMEM006  ...              Selleck   \n12470174         20130918       DMEM006  ...              Selleck   \n\n          source_catalog_id  \\\n0                       NaN   \n1                       NaN   \n2                       NaN   \n3                       NaN   \n4                       NaN   \n...                     ...   \n12470170              S2754   \n12470171              S2754   \n12470172              S2754   \n12470173              S2754   \n12470174              S2754   \n\n                                                 cpd_smiles bsub_value  repl  \\\n0                     CN(C)CCNC(=O)c1cc2CSc3cc(Cl)ccc3-c2s1   0.948448     0   \n1                     CN(C)CCNC(=O)c1cc2CSc3cc(Cl)ccc3-c2s1   0.912565     1   \n2                     CN(C)CCNC(=O)c1cc2CSc3cc(Cl)ccc3-c2s1   0.880625     0   \n3                     CN(C)CCNC(=O)c1cc2CSc3cc(Cl)ccc3-c2s1   0.789330     1   \n4                     CN(C)CCNC(=O)c1cc2CSc3cc(Cl)ccc3-c2s1   0.973525     0   \n...                                                     ...        ...   ...   \n12470170  CNC(C)C(=O)NC1CN(CCC2CCC(N2C1=O)C(=O)NC(c3cccc...   0.814564     1   \n12470171  CNC(C)C(=O)NC1CN(CCC2CCC(N2C1=O)C(=O)NC(c3cccc...   1.019216     0   \n12470172  CNC(C)C(=O)NC1CN(CCC2CCC(N2C1=O)C(=O)NC(c3cccc...   0.839673     1   \n12470173  CNC(C)C(=O)NC1CN(CCC2CCC(N2C1=O)C(=O)NC(c3cccc...   0.907205     0   \n12470174  CNC(C)C(=O)NC1CN(CCC2CCC(N2C1=O)C(=O)NC(c3cccc...   0.808881     1   \n\n         drugcellrep replicate maxdose mindose nreplicates  \n0                  0         0    10.0  0.0003           1  \n1                  0         1    10.0  0.0003           1  \n2                  0         0    10.0  0.0003           1  \n3                  0         1    10.0  0.0003           1  \n4                  0         0    10.0  0.0003           1  \n...              ...       ...     ...     ...         ...  \n12470170           0         1    66.0  0.0020           1  \n12470171           0         0    66.0  0.0020           1  \n12470172           0         1    66.0  0.0020           1  \n12470173           0         0    66.0  0.0020           1  \n12470174           0         1    66.0  0.0020           1  \n\n[12470175 rows x 37 columns]",
      "text/html": "<div>\n<style scoped>\n    .dataframe tbody tr th:only-of-type {\n        vertical-align: middle;\n    }\n\n    .dataframe tbody tr th {\n        vertical-align: top;\n    }\n\n    .dataframe thead th {\n        text-align: right;\n    }\n</style>\n<table border=\"1\" class=\"dataframe\">\n  <thead>\n    <tr style=\"text-align: right;\">\n      <th></th>\n      <th>experiment_id</th>\n      <th>assay_plate_barcode</th>\n      <th>raw_value_log2</th>\n      <th>bsub_value_log2</th>\n      <th>dmso_zscore_log2</th>\n      <th>cpd_conc_umol</th>\n      <th>master_cpd_id</th>\n      <th>run_id</th>\n      <th>experiment_date</th>\n      <th>culture_media</th>\n      <th>...</th>\n      <th>source_name</th>\n      <th>source_catalog_id</th>\n      <th>cpd_smiles</th>\n      <th>bsub_value</th>\n      <th>repl</th>\n      <th>drugcellrep</th>\n      <th>replicate</th>\n      <th>maxdose</th>\n      <th>mindose</th>\n      <th>nreplicates</th>\n    </tr>\n  </thead>\n  <tbody>\n    <tr>\n      <th>0</th>\n      <td>1</td>\n      <td>AU050692</td>\n      <td>14.54</td>\n      <td>-0.07636</td>\n      <td>-0.2608</td>\n      <td>0.00030</td>\n      <td>1788</td>\n      <td>7024-01-A01-02-01</td>\n      <td>20120501</td>\n      <td>DMEM001</td>\n      <td>...</td>\n      <td>Columbia University</td>\n      <td>NaN</td>\n      <td>CN(C)CCNC(=O)c1cc2CSc3cc(Cl)ccc3-c2s1</td>\n      <td>0.948448</td>\n      <td>0</td>\n      <td>0</td>\n      <td>0</td>\n      <td>10.0</td>\n      <td>0.0003</td>\n      <td>1</td>\n    </tr>\n    <tr>\n      <th>1</th>\n      <td>1</td>\n      <td>AU050693</td>\n      <td>14.45</td>\n      <td>-0.13200</td>\n      <td>-0.4507</td>\n      <td>0.00030</td>\n      <td>1788</td>\n      <td>7024-01-A01-02-01</td>\n      <td>20120501</td>\n      <td>DMEM001</td>\n      <td>...</td>\n      <td>Columbia University</td>\n      <td>NaN</td>\n      <td>CN(C)CCNC(=O)c1cc2CSc3cc(Cl)ccc3-c2s1</td>\n      <td>0.912565</td>\n      <td>1</td>\n      <td>0</td>\n      <td>1</td>\n      <td>10.0</td>\n      <td>0.0003</td>\n      <td>1</td>\n    </tr>\n    <tr>\n      <th>2</th>\n      <td>1</td>\n      <td>AU050692</td>\n      <td>14.43</td>\n      <td>-0.18340</td>\n      <td>-0.6263</td>\n      <td>0.00061</td>\n      <td>1788</td>\n      <td>7024-01-A01-02-01</td>\n      <td>20120501</td>\n      <td>DMEM001</td>\n      <td>...</td>\n      <td>Columbia University</td>\n      <td>NaN</td>\n      <td>CN(C)CCNC(=O)c1cc2CSc3cc(Cl)ccc3-c2s1</td>\n      <td>0.880625</td>\n      <td>0</td>\n      <td>0</td>\n      <td>0</td>\n      <td>10.0</td>\n      <td>0.0003</td>\n      <td>1</td>\n    </tr>\n    <tr>\n      <th>3</th>\n      <td>1</td>\n      <td>AU050693</td>\n      <td>14.24</td>\n      <td>-0.34130</td>\n      <td>-1.1650</td>\n      <td>0.00061</td>\n      <td>1788</td>\n      <td>7024-01-A01-02-01</td>\n      <td>20120501</td>\n      <td>DMEM001</td>\n      <td>...</td>\n      <td>Columbia University</td>\n      <td>NaN</td>\n      <td>CN(C)CCNC(=O)c1cc2CSc3cc(Cl)ccc3-c2s1</td>\n      <td>0.789330</td>\n      <td>1</td>\n      <td>0</td>\n      <td>1</td>\n      <td>10.0</td>\n      <td>0.0003</td>\n      <td>1</td>\n    </tr>\n    <tr>\n      <th>4</th>\n      <td>1</td>\n      <td>AU050692</td>\n      <td>14.57</td>\n      <td>-0.03871</td>\n      <td>-0.1322</td>\n      <td>0.00120</td>\n      <td>1788</td>\n      <td>7024-01-A01-02-01</td>\n      <td>20120501</td>\n      <td>DMEM001</td>\n      <td>...</td>\n      <td>Columbia University</td>\n      <td>NaN</td>\n      <td>CN(C)CCNC(=O)c1cc2CSc3cc(Cl)ccc3-c2s1</td>\n      <td>0.973525</td>\n      <td>0</td>\n      <td>0</td>\n      <td>0</td>\n      <td>10.0</td>\n      <td>0.0003</td>\n      <td>1</td>\n    </tr>\n    <tr>\n      <th>...</th>\n      <td>...</td>\n      <td>...</td>\n      <td>...</td>\n      <td>...</td>\n      <td>...</td>\n      <td>...</td>\n      <td>...</td>\n      <td>...</td>\n      <td>...</td>\n      <td>...</td>\n      <td>...</td>\n      <td>...</td>\n      <td>...</td>\n      <td>...</td>\n      <td>...</td>\n      <td>...</td>\n      <td>...</td>\n      <td>...</td>\n      <td>...</td>\n      <td>...</td>\n      <td>...</td>\n    </tr>\n    <tr>\n      <th>12470170</th>\n      <td>907</td>\n      <td>AU072323</td>\n      <td>10.53</td>\n      <td>-0.29590</td>\n      <td>-1.3230</td>\n      <td>17.00000</td>\n      <td>710154</td>\n      <td>7024-01-A01-02-73</td>\n      <td>20130918</td>\n      <td>DMEM006</td>\n      <td>...</td>\n      <td>Selleck</td>\n      <td>S2754</td>\n      <td>CNC(C)C(=O)NC1CN(CCC2CCC(N2C1=O)C(=O)NC(c3cccc...</td>\n      <td>0.814564</td>\n      <td>1</td>\n      <td>0</td>\n      <td>1</td>\n      <td>66.0</td>\n      <td>0.0020</td>\n      <td>1</td>\n    </tr>\n    <tr>\n      <th>12470171</th>\n      <td>907</td>\n      <td>AU072322</td>\n      <td>11.29</td>\n      <td>0.02746</td>\n      <td>0.1227</td>\n      <td>33.00000</td>\n      <td>710154</td>\n      <td>7024-01-A01-02-73</td>\n      <td>20130918</td>\n      <td>DMEM006</td>\n      <td>...</td>\n      <td>Selleck</td>\n      <td>S2754</td>\n      <td>CNC(C)C(=O)NC1CN(CCC2CCC(N2C1=O)C(=O)NC(c3cccc...</td>\n      <td>1.019216</td>\n      <td>0</td>\n      <td>0</td>\n      <td>0</td>\n      <td>66.0</td>\n      <td>0.0020</td>\n      <td>1</td>\n    </tr>\n    <tr>\n      <th>12470172</th>\n      <td>907</td>\n      <td>AU072323</td>\n      <td>10.58</td>\n      <td>-0.25210</td>\n      <td>-1.1270</td>\n      <td>33.00000</td>\n      <td>710154</td>\n      <td>7024-01-A01-02-73</td>\n      <td>20130918</td>\n      <td>DMEM006</td>\n      <td>...</td>\n      <td>Selleck</td>\n      <td>S2754</td>\n      <td>CNC(C)C(=O)NC1CN(CCC2CCC(N2C1=O)C(=O)NC(c3cccc...</td>\n      <td>0.839673</td>\n      <td>1</td>\n      <td>0</td>\n      <td>1</td>\n      <td>66.0</td>\n      <td>0.0020</td>\n      <td>1</td>\n    </tr>\n    <tr>\n      <th>12470173</th>\n      <td>907</td>\n      <td>AU072322</td>\n      <td>11.12</td>\n      <td>-0.14050</td>\n      <td>-0.6279</td>\n      <td>66.00000</td>\n      <td>710154</td>\n      <td>7024-01-A01-02-73</td>\n      <td>20130918</td>\n      <td>DMEM006</td>\n      <td>...</td>\n      <td>Selleck</td>\n      <td>S2754</td>\n      <td>CNC(C)C(=O)NC1CN(CCC2CCC(N2C1=O)C(=O)NC(c3cccc...</td>\n      <td>0.907205</td>\n      <td>0</td>\n      <td>0</td>\n      <td>0</td>\n      <td>66.0</td>\n      <td>0.0020</td>\n      <td>1</td>\n    </tr>\n    <tr>\n      <th>12470174</th>\n      <td>907</td>\n      <td>AU072323</td>\n      <td>10.52</td>\n      <td>-0.30600</td>\n      <td>-1.3680</td>\n      <td>66.00000</td>\n      <td>710154</td>\n      <td>7024-01-A01-02-73</td>\n      <td>20130918</td>\n      <td>DMEM006</td>\n      <td>...</td>\n      <td>Selleck</td>\n      <td>S2754</td>\n      <td>CNC(C)C(=O)NC1CN(CCC2CCC(N2C1=O)C(=O)NC(c3cccc...</td>\n      <td>0.808881</td>\n      <td>1</td>\n      <td>0</td>\n      <td>1</td>\n      <td>66.0</td>\n      <td>0.0020</td>\n      <td>1</td>\n    </tr>\n  </tbody>\n</table>\n<p>12470175 rows × 37 columns</p>\n</div>"
     },
     "execution_count": 12,
     "metadata": {},
     "output_type": "execute_result"
    }
   ],
   "source": [
    "combined_df[\"maxdose\"] = combined_df.groupby([\"ccl_name\", \"cpd_name\"])[\"cpd_conc_umol\"].transform(\"max\")\n",
    "combined_df[\"mindose\"] = combined_df.groupby([\"ccl_name\", \"cpd_name\"])[\"cpd_conc_umol\"].transform(\"min\")\n",
    "combined_df[\"nreplicates\"] = combined_df.groupby([\"ccl_name\", \"cpd_name\"])[\"replicate\"].transform(\"max\")\n",
    "combined_df"
   ]
  },
  {
   "cell_type": "markdown",
   "id": "4f86dd1e-5838-476a-97a9-18aeb3f2898f",
   "metadata": {},
   "source": [
    "## Drugname to PubChem mapping"
   ]
  },
  {
   "cell_type": "code",
   "execution_count": 13,
   "id": "e613b15f-0d40-43fe-8fb8-4d5cec71c181",
   "metadata": {
    "ExecuteTime": {
     "end_time": "2025-02-04T12:49:57.200989Z",
     "start_time": "2025-02-04T12:49:54.312066Z"
    }
   },
   "outputs": [
    {
     "data": {
      "text/plain": "                                                                      cpd_smiles\ncpd_name                                                                        \nCIL55                                      CN(C)CCNC(=O)c1cc2CSc3cc(Cl)ccc3-c2s1\nBRD4132                        CC(C)N1C(=O)S\\C(=C\\c2ccc(Sc3nc4ccccc4[nH]3)o2)...\nBRD6340                                  C(Cn1c2ccccc2c2ccccc12)c1nc2ccccc2[nH]1\nBRD9876                                         CC(C)(C)c1ccc2cc(C#N)c(cc2c1)C#N\nbetulinic acid                 CC(=C)[C@@H]1CC[C@@]2(CC[C@]3(C)[C@H](CC[C@@H]...\n...                                                                          ...\nbafilomycin A1                 CO[C@H]1\\C=C\\C=C(C)\\C[C@@H](C)[C@H](O)[C@H](C)...\nSR8278                                    CCOC(=O)C1Cc2ccccc2CN1C(=O)c1ccc(SC)s1\nGSK-J4                           CCOC(=O)CCNc1cc(nc(n1)-c1ccccn1)N1CCc2ccccc2CC1\nBRD9876:MK-1775 (4:1 mol/mol)  CC(C)(C)c1ccc2cc(C#N)c(cc2c1)C#N.CN1CCN(CC1)c1...\nBRD-K30748066                      Cc1c(sc(=O)n1C)-c1ccnc(Nc2ccc(cc2)N2CCNCC2)n1\n\n[545 rows x 1 columns]",
      "text/html": "<div>\n<style scoped>\n    .dataframe tbody tr th:only-of-type {\n        vertical-align: middle;\n    }\n\n    .dataframe tbody tr th {\n        vertical-align: top;\n    }\n\n    .dataframe thead th {\n        text-align: right;\n    }\n</style>\n<table border=\"1\" class=\"dataframe\">\n  <thead>\n    <tr style=\"text-align: right;\">\n      <th></th>\n      <th>cpd_smiles</th>\n    </tr>\n    <tr>\n      <th>cpd_name</th>\n      <th></th>\n    </tr>\n  </thead>\n  <tbody>\n    <tr>\n      <th>CIL55</th>\n      <td>CN(C)CCNC(=O)c1cc2CSc3cc(Cl)ccc3-c2s1</td>\n    </tr>\n    <tr>\n      <th>BRD4132</th>\n      <td>CC(C)N1C(=O)S\\C(=C\\c2ccc(Sc3nc4ccccc4[nH]3)o2)...</td>\n    </tr>\n    <tr>\n      <th>BRD6340</th>\n      <td>C(Cn1c2ccccc2c2ccccc12)c1nc2ccccc2[nH]1</td>\n    </tr>\n    <tr>\n      <th>BRD9876</th>\n      <td>CC(C)(C)c1ccc2cc(C#N)c(cc2c1)C#N</td>\n    </tr>\n    <tr>\n      <th>betulinic acid</th>\n      <td>CC(=C)[C@@H]1CC[C@@]2(CC[C@]3(C)[C@H](CC[C@@H]...</td>\n    </tr>\n    <tr>\n      <th>...</th>\n      <td>...</td>\n    </tr>\n    <tr>\n      <th>bafilomycin A1</th>\n      <td>CO[C@H]1\\C=C\\C=C(C)\\C[C@@H](C)[C@H](O)[C@H](C)...</td>\n    </tr>\n    <tr>\n      <th>SR8278</th>\n      <td>CCOC(=O)C1Cc2ccccc2CN1C(=O)c1ccc(SC)s1</td>\n    </tr>\n    <tr>\n      <th>GSK-J4</th>\n      <td>CCOC(=O)CCNc1cc(nc(n1)-c1ccccn1)N1CCc2ccccc2CC1</td>\n    </tr>\n    <tr>\n      <th>BRD9876:MK-1775 (4:1 mol/mol)</th>\n      <td>CC(C)(C)c1ccc2cc(C#N)c(cc2c1)C#N.CN1CCN(CC1)c1...</td>\n    </tr>\n    <tr>\n      <th>BRD-K30748066</th>\n      <td>Cc1c(sc(=O)n1C)-c1ccnc(Nc2ccc(cc2)N2CCNCC2)n1</td>\n    </tr>\n  </tbody>\n</table>\n<p>545 rows × 1 columns</p>\n</div>"
     },
     "execution_count": 13,
     "metadata": {},
     "output_type": "execute_result"
    }
   ],
   "source": [
    "ctrpv2_drugs = combined_df[['cpd_name', 'cpd_smiles']].drop_duplicates().set_index(\"cpd_name\")\n",
    "ctrpv2_drugs"
   ]
  },
  {
   "cell_type": "code",
   "execution_count": 14,
   "id": "ff5365c2-598e-412e-81e2-8932139a7ce6",
   "metadata": {
    "ExecuteTime": {
     "end_time": "2025-02-04T13:02:46.406642Z",
     "start_time": "2025-02-04T12:50:20.600587Z"
    }
   },
   "outputs": [
    {
     "name": "stdout",
     "output_type": "stream",
     "text": [
      "0 / 545\n",
      "10 / 545\n",
      "20 / 545\n",
      "30 / 545\n",
      "40 / 545\n",
      "50 / 545\n",
      "60 / 545\n",
      "70 / 545\n",
      "80 / 545\n",
      "90 / 545\n",
      "100 / 545\n",
      "110 / 545\n",
      "120 / 545\n",
      "130 / 545\n",
      "140 / 545\n",
      "150 / 545\n",
      "160 / 545\n",
      "170 / 545\n",
      "180 / 545\n",
      "190 / 545\n",
      "200 / 545\n",
      "210 / 545\n",
      "220 / 545\n",
      "230 / 545\n",
      "240 / 545\n",
      "250 / 545\n",
      "260 / 545\n",
      "270 / 545\n",
      "280 / 545\n",
      "290 / 545\n",
      "300 / 545\n",
      "310 / 545\n",
      "320 / 545\n",
      "330 / 545\n",
      "340 / 545\n",
      "350 / 545\n",
      "360 / 545\n",
      "370 / 545\n",
      "380 / 545\n",
      "390 / 545\n",
      "400 / 545\n",
      "410 / 545\n",
      "420 / 545\n",
      "430 / 545\n",
      "440 / 545\n",
      "450 / 545\n",
      "460 / 545\n",
      "470 / 545\n",
      "480 / 545\n",
      "490 / 545\n",
      "500 / 545\n",
      "510 / 545\n",
      "520 / 545\n",
      "530 / 545\n",
      "540 / 545\n"
     ]
    }
   ],
   "source": [
    "results = {}\n",
    "chembls = {}\n",
    "manual_review = {}\n",
    "i = len(results)\n",
    "for brd, vals in ctrpv2_drugs.iterrows():\n",
    "    if i % 10 == 0:\n",
    "        print(i, '/', len(ctrpv2_drugs))\n",
    "    if ':' in brd:\n",
    "        cpd_smile_1, cpd_smile_2 = vals.cpd_smiles.split('.')\n",
    "        compounds_1 = pcp.get_compounds(identifier=cpd_smile_1, namespace=\"smiles\")\n",
    "        compounds_2 = pcp.get_compounds(identifier=cpd_smile_2, namespace=\"smiles\")\n",
    "        if (len(compounds_1) != 1) or (len(compounds_2) != 1):\n",
    "            manual_review[brd] = [compounds_1, compounds_2]\n",
    "        else:\n",
    "            results[brd] = [compounds_1[0].cid, compounds_2[0].cid]\n",
    "            c1_chembl = None\n",
    "            c2_chembl = None\n",
    "            for syn in compounds_1[0].synonyms or []:\n",
    "                if syn.startswith(\"CHEMBL\"):\n",
    "                    c1_chembl = syn\n",
    "                    break\n",
    "            for syn in compounds_2[0].synonyms or []:\n",
    "                if syn.startswith(\"CHEMBL\"):\n",
    "                    c2_chembl = syn\n",
    "                    break\n",
    "            chembls[brd] = [c1_chembl, c2_chembl]\n",
    "    else:\n",
    "        compounds = pcp.get_compounds(identifier=vals.cpd_smiles, namespace=\"smiles\")\n",
    "        #print((compounds[0].synonyms))\n",
    "        if len(compounds) != 1:\n",
    "            manual_review[brd] = [compounds]\n",
    "        else:\n",
    "            results[brd] = compounds[0].cid\n",
    "            chembl = None\n",
    "            for syn in compounds[0].synonyms or []:\n",
    "                if syn.startswith(\"CHEMBL\"):\n",
    "                    chembl = syn\n",
    "                    break\n",
    "            chembls[brd] = chembl\n",
    "    i += 1"
   ]
  },
  {
   "cell_type": "markdown",
   "id": "d18b5fd7-2fac-42d8-8289-6825bbb66649",
   "metadata": {},
   "source": [
    "### Checking results"
   ]
  },
  {
   "cell_type": "code",
   "execution_count": 15,
   "id": "8fd3c45b-00ca-424b-8cde-410d4005bb1b",
   "metadata": {
    "ExecuteTime": {
     "end_time": "2025-02-04T13:02:46.465178Z",
     "start_time": "2025-02-04T13:02:46.433943Z"
    }
   },
   "outputs": [
    {
     "data": {
      "text/plain": "(545, 0)"
     },
     "execution_count": 15,
     "metadata": {},
     "output_type": "execute_result"
    }
   ],
   "source": [
    "len(results), len(manual_review)"
   ]
  },
  {
   "cell_type": "markdown",
   "id": "acc8fa11-ba63-4506-89ba-bc8c77e1320a",
   "metadata": {},
   "source": [
    "Using the smiles search, the exact component was always found without ambigouity. But for some, there was no result, of which one (Oligmoycin A) could be found using the BRD ID."
   ]
  },
  {
   "cell_type": "code",
   "execution_count": 16,
   "id": "221f982e-9773-42a9-bfb9-2b2fa611544a",
   "metadata": {
    "ExecuteTime": {
     "end_time": "2025-02-04T13:02:46.465769Z",
     "start_time": "2025-02-04T13:02:46.434173Z"
    }
   },
   "outputs": [
    {
     "data": {
      "text/plain": "{'oligomycin A': None,\n 'BRD-K99584050': None,\n 'BRD-K03911514': None,\n 'BRD-K16130065': None,\n 'BRD-K58730230': None,\n 'BRD-K27188169': None,\n 'BRD-K13185470': None,\n 'BRD-K55473186': None}"
     },
     "execution_count": 16,
     "metadata": {},
     "output_type": "execute_result"
    }
   ],
   "source": [
    "manual_review |= {brd: cid for brd, cid in results.items() if cid is None}\n",
    "manual_review"
   ]
  },
  {
   "cell_type": "code",
   "execution_count": 17,
   "id": "7a2d2704-4407-4bda-b497-6ba5e8f5545f",
   "metadata": {
    "ExecuteTime": {
     "end_time": "2025-02-04T13:02:46.769450Z",
     "start_time": "2025-02-04T13:02:46.448150Z"
    }
   },
   "outputs": [
    {
     "data": {
      "text/plain": "                                                      cpd_smiles\ncpd_name                                                        \noligomycin A   CCC1CCC2OC3(CC[C@@H](C)C(C[C@H](C)O)O3)[C@H](C...\nBRD-K99584050  CC[C@H](C)[C@H](NC(C)=O)C(=O)N[C@@H](Cc1c[nH]c...\nBRD-K03911514  CCCC[C@H](NC(=O)[C@H](CCCNC(N)=N)NC(=O)[C@H](C...\nBRD-K16130065  CC[C@H](C)[C@H](NC(C)=O)C(=O)N[C@@H](Cc1c[nH]c...\nBRD-K58730230  CC(C)C[C@H](NC(=O)[C@H](C)NC(=O)[C@H](CCCCN)NC...\nBRD-K27188169  CC(C)C[C@H](NC(=O)[C@H](C)NC(=O)[C@H](CCCCN)NC...\nBRD-K13185470  CC(C)C[C@H](NC(=O)[C@H](C)NC(=O)[C@H](CCCCN)NC...\nBRD-K55473186  CCC(C)C(NC(=O)C(CCCNC(=N)N)NC(=O)C(CCCNC(=N)N)...",
      "text/html": "<div>\n<style scoped>\n    .dataframe tbody tr th:only-of-type {\n        vertical-align: middle;\n    }\n\n    .dataframe tbody tr th {\n        vertical-align: top;\n    }\n\n    .dataframe thead th {\n        text-align: right;\n    }\n</style>\n<table border=\"1\" class=\"dataframe\">\n  <thead>\n    <tr style=\"text-align: right;\">\n      <th></th>\n      <th>cpd_smiles</th>\n    </tr>\n    <tr>\n      <th>cpd_name</th>\n      <th></th>\n    </tr>\n  </thead>\n  <tbody>\n    <tr>\n      <th>oligomycin A</th>\n      <td>CCC1CCC2OC3(CC[C@@H](C)C(C[C@H](C)O)O3)[C@H](C...</td>\n    </tr>\n    <tr>\n      <th>BRD-K99584050</th>\n      <td>CC[C@H](C)[C@H](NC(C)=O)C(=O)N[C@@H](Cc1c[nH]c...</td>\n    </tr>\n    <tr>\n      <th>BRD-K03911514</th>\n      <td>CCCC[C@H](NC(=O)[C@H](CCCNC(N)=N)NC(=O)[C@H](C...</td>\n    </tr>\n    <tr>\n      <th>BRD-K16130065</th>\n      <td>CC[C@H](C)[C@H](NC(C)=O)C(=O)N[C@@H](Cc1c[nH]c...</td>\n    </tr>\n    <tr>\n      <th>BRD-K58730230</th>\n      <td>CC(C)C[C@H](NC(=O)[C@H](C)NC(=O)[C@H](CCCCN)NC...</td>\n    </tr>\n    <tr>\n      <th>BRD-K27188169</th>\n      <td>CC(C)C[C@H](NC(=O)[C@H](C)NC(=O)[C@H](CCCCN)NC...</td>\n    </tr>\n    <tr>\n      <th>BRD-K13185470</th>\n      <td>CC(C)C[C@H](NC(=O)[C@H](C)NC(=O)[C@H](CCCCN)NC...</td>\n    </tr>\n    <tr>\n      <th>BRD-K55473186</th>\n      <td>CCC(C)C(NC(=O)C(CCCNC(=N)N)NC(=O)C(CCCNC(=N)N)...</td>\n    </tr>\n  </tbody>\n</table>\n</div>"
     },
     "execution_count": 17,
     "metadata": {},
     "output_type": "execute_result"
    }
   ],
   "source": [
    "ctrpv2_drugs.loc[manual_review.keys()]"
   ]
  },
  {
   "cell_type": "markdown",
   "id": "0759c5ad-f7df-4221-b396-84470163d99b",
   "metadata": {},
   "source": [
    "Only for Oligomycin A, the PubChem CID is manually added to the results. It is assumed that the SMILES string is incorrect which prohibits automatic mapping.\n",
    "\n",
    "The other 6 drugs are mapped with their BRD ID"
   ]
  },
  {
   "cell_type": "code",
   "execution_count": 18,
   "id": "1e73c743-da40-4405-9eb0-fca90ce6408b",
   "metadata": {
    "ExecuteTime": {
     "end_time": "2025-02-04T13:02:46.769650Z",
     "start_time": "2025-02-04T13:02:46.476922Z"
    }
   },
   "outputs": [],
   "source": [
    "results[\"oligomycin A\"] = 6364620\n",
    "\n",
    "results[\"BRD-K03911514\"] = \"BRD-K03911514\"\n",
    "results[\"BRD-K13185470\"] = \"BRD-K13185470\"\n",
    "results[\"BRD-K16130065\"] = \"BRD-K16130065\"\n",
    "results[\"BRD-K27188169\"] = \"BRD-K27188169\"\n",
    "results[\"BRD-K55473186\"] = \"BRD-K55473186\"\n",
    "results[\"BRD-K58730230\"] = \"BRD-K58730230\"\n",
    "results[\"BRD-K99584050\"] = \"BRD-K99584050\""
   ]
  },
  {
   "cell_type": "markdown",
   "id": "e0f55c0a-e46b-4f38-bb42-539dc9548068",
   "metadata": {},
   "source": [
    "Fix missing second drug for BRD-M23096439:"
   ]
  },
  {
   "cell_type": "code",
   "execution_count": 19,
   "id": "429c0c72-bd8e-498b-9ee0-975adb1c4e41",
   "metadata": {
    "ExecuteTime": {
     "end_time": "2025-02-04T13:02:46.770586Z",
     "start_time": "2025-02-04T13:02:46.483944Z"
    }
   },
   "outputs": [
    {
     "data": {
      "text/plain": "cpd_smiles    CC1(C)CCC(=C(CN2CCN(CC2)c2ccc(cc2)C(=O)NS(=O)(...\nName: BRD-K27188169:navitoclax (2:1 mol/mol), dtype: object"
     },
     "execution_count": 19,
     "metadata": {},
     "output_type": "execute_result"
    }
   ],
   "source": [
    "ctrpv2_drugs.loc[\"BRD-K27188169:navitoclax (2:1 mol/mol)\"]"
   ]
  },
  {
   "cell_type": "markdown",
   "id": "b320848b-41a8-4fce-a4f7-417485e91fa1",
   "metadata": {},
   "source": [
    "Second drug is among the ones not found in PubChem: BRD-K27188169. Manually modifiying it:"
   ]
  },
  {
   "cell_type": "code",
   "execution_count": 20,
   "id": "6b3b3027-3aa5-4f94-88fe-db056683ff8e",
   "metadata": {
    "ExecuteTime": {
     "end_time": "2025-02-04T13:02:46.770661Z",
     "start_time": "2025-02-04T13:02:46.486153Z"
    }
   },
   "outputs": [],
   "source": [
    "results[\"BRD-K27188169:navitoclax (2:1 mol/mol)\"] = [24978538, \"BRD-K27188169\"]"
   ]
  },
  {
   "cell_type": "code",
   "execution_count": 21,
   "id": "0a91cb34-280b-450b-9b54-831f484c4710",
   "metadata": {
    "ExecuteTime": {
     "end_time": "2025-02-04T13:02:46.771037Z",
     "start_time": "2025-02-04T13:02:46.501228Z"
    }
   },
   "outputs": [
    {
     "data": {
      "text/plain": "CIL55                                    6623618\nBRD4132                                  7326481\nBRD6340                                  1641662\nBRD9876                                   613000\nbetulinic acid                             64971\n                                      ...       \nbafilomycin A1                          23863714\nSR8278                                  53393127\nGSK-J4                                  71729975\nBRD9876:MK-1775 (4:1 mol/mol)    613000,24856436\nBRD-K30748066                           11257553\nName: CID, Length: 545, dtype: object"
     },
     "execution_count": 21,
     "metadata": {},
     "output_type": "execute_result"
    }
   ],
   "source": [
    "# convert integer CIDs to strings, and in case of multitreatment the list to a comma separated string\n",
    "def sanitize(val):\n",
    "    if isinstance(val, int):\n",
    "        return str(val)\n",
    "    if isinstance(val, list):\n",
    "        return ','.join([str(i) for i in val])\n",
    "    return val\n",
    "\n",
    "cids = pd.Series(results, name=\"CID\").apply(sanitize).astype(str)\n",
    "cids"
   ]
  },
  {
   "cell_type": "code",
   "execution_count": 22,
   "id": "9fddf831-b125-4fde-a203-0059c63fc0f4",
   "metadata": {
    "ExecuteTime": {
     "end_time": "2025-02-04T13:02:46.771228Z",
     "start_time": "2025-02-04T13:02:46.506862Z"
    }
   },
   "outputs": [
    {
     "data": {
      "text/plain": "CIL55                                           CHEMBL492468\nBRD4132                                        CHEMBL1300397\nBRD6340                                                 None\nBRD9876                                        CHEMBL4303295\nbetulinic acid                                  CHEMBL269277\n                                            ...             \nbafilomycin A1                                          None\nSR8278                                         CHEMBL4754504\nGSK-J4                                         CHEMBL3183531\nBRD9876:MK-1775 (4:1 mol/mol)    CHEMBL4303295,CHEMBL1976040\nBRD-K30748066                                  CHEMBL3932121\nName: CHEMBL, Length: 545, dtype: object"
     },
     "execution_count": 22,
     "metadata": {},
     "output_type": "execute_result"
    }
   ],
   "source": [
    "chembls = pd.Series(chembls, name=\"CHEMBL\")\n",
    "chembls = chembls.apply(sanitize)\n",
    "chembls"
   ]
  },
  {
   "cell_type": "markdown",
   "id": "d5ae8b0d-f98e-408c-9d24-1d2eb163b5df",
   "metadata": {},
   "source": [
    "## Cell line name to Cellosaurus Mapping"
   ]
  },
  {
   "cell_type": "code",
   "execution_count": 23,
   "id": "4de63423-f334-47ae-b88f-298f708ba2d0",
   "metadata": {
    "ExecuteTime": {
     "end_time": "2025-02-04T13:04:06.133438Z",
     "start_time": "2025-02-04T13:04:06.022555Z"
    }
   },
   "outputs": [],
   "source": [
    "# Download Cellosaurus data in OBO format\n",
    "#url = \"ftp://ftp.expasy.org/databases/cellosaurus/cellosaurus.txt\"\n",
    "#filename = \"cellosaurus.txt\"\n",
    "#urllib.request.urlretrieve(url, filename)\n",
    "filename = \"../../mapping/cellosaurus.txt\""
   ]
  },
  {
   "cell_type": "code",
   "execution_count": 24,
   "id": "60747b60-97a1-4329-b013-74afee814b68",
   "metadata": {
    "ExecuteTime": {
     "end_time": "2025-02-04T13:04:29.103383Z",
     "start_time": "2025-02-04T13:04:27.649686Z"
    }
   },
   "outputs": [],
   "source": [
    "cl_mappings = {}\n",
    "btos = {}\n",
    "with open(filename) as handle:\n",
    "    records = cellosaurus.parse(handle)\n",
    "    for record in records:\n",
    "        if 'Homo sapiens' in record['OX'][0]:\n",
    "            if record[\"ID\"] not in cl_mappings:\n",
    "                cl_mappings[record[\"ID\"]] = []\n",
    "            cl_mappings[record[\"ID\"]].append(record[\"AC\"])\n",
    "            syns = record[\"SY\"].split(\"; \")\n",
    "            for syn in syns:\n",
    "                if syn == '':\n",
    "                    continue\n",
    "                if syn not in cl_mappings:\n",
    "                    cl_mappings[syn] = []\n",
    "                cl_mappings[syn].append(record[\"AC\"])\n",
    "            for a, b in record[\"DR\"]:\n",
    "                if a == 'BTO':\n",
    "                    if record[\"AC\"] not in btos:\n",
    "                        btos[record[\"AC\"]] = []\n",
    "                    btos[record[\"AC\"]].append(b)"
   ]
  },
  {
   "cell_type": "code",
   "execution_count": 25,
   "id": "75e328ed-9cb1-4abd-8748-478b7ab78cf0",
   "metadata": {
    "ExecuteTime": {
     "end_time": "2025-02-04T13:04:29.495684Z",
     "start_time": "2025-02-04T13:04:29.410281Z"
    }
   },
   "outputs": [],
   "source": [
    "ccls = combined_df[\"ccl_name\"].unique()\n",
    "mappings = {}\n",
    "manual_checks = {}\n",
    "for ccl in ccls:\n",
    "    cellosaurus_ids = cl_mappings.get(ccl, [])\n",
    "    if len(cellosaurus_ids) == 1:\n",
    "        mappings[ccl] = cellosaurus_ids[0]\n",
    "    else:\n",
    "        manual_checks[ccl] = cellosaurus_ids"
   ]
  },
  {
   "cell_type": "code",
   "execution_count": 26,
   "id": "ef3a8daa-06fc-4e79-bb52-cfaedd27c18d",
   "metadata": {
    "ExecuteTime": {
     "end_time": "2025-02-04T13:04:29.504538Z",
     "start_time": "2025-02-04T13:04:29.499084Z"
    }
   },
   "outputs": [
    {
     "name": "stdout",
     "output_type": "stream",
     "text": [
      "CCLs: 887 matches: 853 ambiguous: 34\n"
     ]
    }
   ],
   "source": [
    "print(\"CCLs:\", len(ccls), \"matches:\", len(mappings), \"ambiguous:\", len(manual_checks))"
   ]
  },
  {
   "cell_type": "code",
   "execution_count": 27,
   "id": "357c3e15-debc-4308-89ee-80b9f8c4a82d",
   "metadata": {
    "ExecuteTime": {
     "end_time": "2025-02-04T13:04:29.522256Z",
     "start_time": "2025-02-04T13:04:29.506167Z"
    }
   },
   "outputs": [
    {
     "data": {
      "text/plain": "{'HARA': [],\n 'COLO205': ['CVCL_0218', 'CVCL_F402'],\n 'U87MG': ['CVCL_0022', 'CVCL_GP63'],\n 'ES2': ['CVCL_3509', 'CVCL_AX39', 'CVCL_C769'],\n 'TTTHYROID': [],\n 'KMH2': ['CVCL_1330', 'CVCL_S641'],\n 'ML1': ['CVCL_0436', 'CVCL_H525'],\n 'NCIH2444': [],\n 'SCC25': ['CVCL_1682', 'CVCL_7735'],\n 'ME1': ['CVCL_2110', 'CVCL_L911'],\n 'NB1': ['CVCL_1440', 'CVCL_8812'],\n 'PL21': ['CVCL_2161', 'CVCL_JM48', 'CVCL_E295'],\n 'COLO201': ['CVCL_1987', 'CVCL_F399'],\n 'NB4': ['CVCL_0005', 'CVCL_8821'],\n 'EBC1': ['CVCL_2891', 'CVCL_E218'],\n 'G361': ['CVCL_1220', 'CVCL_C8ZL'],\n 'PC3': ['CVCL_C8XA', 'CVCL_4011', 'CVCL_0035', 'CVCL_S982', 'CVCL_4055'],\n 'LK2': ['CVCL_1377', 'CVCL_W132'],\n 'BT164': ['CVCL_WW41', 'CVCL_UK68'],\n 'RCM1': ['CVCL_C099', 'CVCL_1648'],\n 'KRIJ': [],\n '697': ['CVCL_0079', 'CVCL_8056'],\n 'LP1': ['CVCL_0012', 'CVCL_SA54'],\n 'SH4': ['CVCL_1692', 'CVCL_C724'],\n 'BC3C': [],\n 'OV7': ['CVCL_DG86', 'CVCL_2675'],\n 'SCC9': ['CVCL_1685', 'CVCL_7793'],\n 'HH': [],\n 'CJM': [],\n 'MINO': ['CVCL_1872', 'CVCL_UW35'],\n 'TC71': ['CVCL_2213', 'CVCL_S882'],\n 'SCC4': ['CVCL_1684', 'CVCL_7751'],\n 'BT147': ['CVCL_WW40', 'CVCL_UK63'],\n 'BT12': ['CVCL_M155', 'CVCL_RU28']}"
     },
     "execution_count": 27,
     "metadata": {},
     "output_type": "execute_result"
    }
   ],
   "source": [
    "manual_checks"
   ]
  },
  {
   "cell_type": "code",
   "execution_count": 28,
   "id": "f833ac5c-397f-46e8-9b3b-cb8e3196f421",
   "metadata": {
    "ExecuteTime": {
     "end_time": "2025-02-04T13:04:56.128598Z",
     "start_time": "2025-02-04T13:04:56.050948Z"
    }
   },
   "outputs": [],
   "source": [
    "manual_checks[\"BC3C\"] = \"CVCL_1958\"  # this is BC-3C, according to cellmodelpassports mapping file\n",
    "\n",
    "manual_checks[\"CJM\"] = 'CVCL_U797'  # according to cellmodelpassports mapping file\n",
    "manual_checks[\"COLO205\"] = 'CVCL_0218'  # according to cellmodelpassports mapping file\n",
    "\n",
    "manual_checks[\"EBC1\"] = 'CVCL_2891'\n",
    "manual_checks[\"BC3C\"] = \"CVCL_1958\"  # this is BC-3C, according to cellmodelpassports mapping file\n",
    "manual_checks[\"BT12\"] = 'CVCL_M155'  # according to cellmodelpassports mapping file\n",
    "\n",
    "manual_checks[\"CJM\"] = 'CVCL_U797'  # according to cellmodelpassports mapping file\n",
    "manual_checks[\"COLO205\"] = 'CVCL_0218'  # according to cellmodelpassports mapping file\n",
    "\n",
    "manual_checks[\"EBC1\"] = 'CVCL_2891'  # according to cellmodelpassports mapping file\n",
    "manual_checks[\"ES2\"] = 'CVCL_3509'  # this is ES-2, according to cellmodelpassports mapping file\n",
    "manual_checks[\"G361\"] = 'CVCL_1220'  # according to cellmodelpassports mapping file\n",
    "manual_checks[\"HARA\"] = 'CVCL_2914'  # this is HARA [Human squamous cell lung carcinoma] according to cellmodelpassports mapping file\n",
    "\n",
    "manual_checks[\"KMH2\"] = 'CVCL_S641'  # this is KMH-2, according to cellmodelpassports mapping file\n",
    "manual_checks[\"LK2\"] = 'CVCL_1377'  # according to cellmodelpassports mapping file\n",
    "manual_checks[\"LP1\"] = 'CVCL_0012'  # according to cellmodelpassports mapping file\n",
    "\n",
    "  # according to cellmodelpassports mapping file\n",
    "manual_checks[\"ES2\"] = 'CVCL_3509'  # this is ES-2, according to cellmodelpassports mapping file\n",
    "manual_checks[\"G361\"] = 'CVCL_1220'  # according to cellmodelpassports mapping file\n",
    "manual_checks[\"HARA\"] = 'CVCL_2914'  # this is HARA [Human squamous cell lung carcinoma] according to cellmodelpassports mapping file\n",
    "\n",
    "manual_checks[\"KMH2\"] = 'CVCL_S641'  # this is KMH-2, according to cellmodelpassports mapping file\n",
    "manual_checks[\"LK2\"] = 'CVCL_1377'  # according to cellmodelpassports mapping file\n",
    "manual_checks[\"LP1\"] = 'CVCL_0012'  # according to cellmodelpassports mapping file\n",
    "\n",
    "\n",
    "manual_checks[\"ME1\"] = 'CVCL_2110'  # this is ME-1, according to cellmodelpassports mapping file\n",
    "manual_checks[\"MINO\"] = 'CVCL_1872'  # this is Mino, according to cellmodelpassports mapping file\n",
    "manual_checks[\"ML1\"] = 'CVCL_H525'  # this is listed with two entries in cellmodelpassports mapping file, but it is the thyroid ccl according to the CCLE mapping file\n",
    "manual_checks[\"NB1\"] = 'CVCL_1440'  # this is NB-1, according to cellmodelpassports mapping file\n",
    "\n",
    "\n",
    "manual_checks[\"NCIH2444\"] = 'CVCL_1552'  # this is NCI-H2444, according to cellmodelpassports mapping file\n",
    "manual_checks[\"OV7\"] = 'CVCL_2675'  # this is OV-7, according to cellmodelpassports mapping file\n",
    "manual_checks[\"PC3\"] = 'CVCL_0035'  # this is PC-3, according to cellmodelpassports mapping file\n",
    "manual_checks[\"PL21\"] = 'CVCL_2161'  # this is PL-21, according to cellmodelpassports mapping file\n",
    "manual_checks[\"RCM1\"] = 'CVCL_1648'  # this is RCM-1, according to cellmodelpassports mapping file\n",
    "\n",
    "manual_checks[\"SCC25\"] = 'CVCL_1682'  # this is SCC-25, according to cellmodelpassports mapping file\n",
    "manual_checks[\"SCC4\"] = 'CVCL_1684'  # this is SCC-4, according to cellmodelpassports mapping file\n",
    "manual_checks[\"SCC9\"] = 'CVCL_1685'  # this is SCC-9, according to cellmodelpassports mapping file\n",
    "manual_checks[\"SH4\"] = 'CVCL_1692'  # this is SH-4, according to cellmodelpassports mapping file\n",
    "manual_checks[\"TC71\"] = 'CVCL_2213'  # this is TC-71, according to cellmodelpassports mapping file\n",
    "\n",
    "manual_checks[\"TTTHYROID\"] = 'CVCL_1774'  # this is TT [THYROID], according to cellmodelpassports mapping file and CCLE mapping file\n",
    "\n",
    "manual_checks[\"U87MG\"] = 'CVCL_0022'  # this is U-87-MG, according to cellmodelpassports mapping file\n",
    "manual_checks[\"697\"] = 'CVCL_0079'  # according to cellmodelpassports mapping file\n",
    "\n",
    "\n",
    "manual_checks[\"COLO201\"] = 'CVCL_1987'  # according to cellmodelpassports mapping file\n",
    "\n",
    "manual_checks[\"HH\"] = 'CVCL_1280'    # this is HH [Human Lymphoma], according to cellmodelpassports mapping file\n",
    "manual_checks[\"NB4\"] = 'CVCL_0005'   # according to cellmodelpassports mapping file\n",
    "\n",
    "\n",
    "manual_checks[\"KRIJ\"] = 'KRIJ'  # not found\n",
    "manual_checks[\"BT147\"] = 'CVCL_WW40'  # according to PharmacoDB BT147_117_2019\n",
    "manual_checks[\"BT164\"] = 'CVCL_WW41'  # according to PharmacoDB BT164_120_2019\n"
   ]
  },
  {
   "cell_type": "code",
   "execution_count": 29,
   "id": "b9a4d08a-e0fe-4055-8a92-f3507c7b592b",
   "metadata": {
    "ExecuteTime": {
     "end_time": "2025-02-04T13:05:04.121437Z",
     "start_time": "2025-02-04T13:05:04.019342Z"
    }
   },
   "outputs": [],
   "source": [
    "rev_mapping = {}\n",
    "for key, val in (mappings | manual_checks).items():\n",
    "    if val not in rev_mapping:\n",
    "        rev_mapping[val] = []\n",
    "    rev_mapping[val].append(key)"
   ]
  },
  {
   "cell_type": "code",
   "execution_count": 30,
   "id": "8373127b-6a1e-48ae-afbc-224b39b57906",
   "metadata": {
    "ExecuteTime": {
     "end_time": "2025-02-04T13:05:04.125774Z",
     "start_time": "2025-02-04T13:05:04.025078Z"
    }
   },
   "outputs": [
    {
     "data": {
      "text/plain": "False"
     },
     "execution_count": 30,
     "metadata": {},
     "output_type": "execute_result"
    }
   ],
   "source": [
    "any([len(val) != 1 for val in rev_mapping.values()])"
   ]
  },
  {
   "cell_type": "code",
   "execution_count": 31,
   "id": "55774f22-44ee-46db-94c5-744ed06f7dc8",
   "metadata": {
    "ExecuteTime": {
     "end_time": "2025-02-04T13:05:04.126102Z",
     "start_time": "2025-02-04T13:05:04.027826Z"
    }
   },
   "outputs": [
    {
     "data": {
      "text/plain": "887"
     },
     "execution_count": 31,
     "metadata": {},
     "output_type": "execute_result"
    }
   ],
   "source": [
    "len(rev_mapping)"
   ]
  },
  {
   "cell_type": "code",
   "execution_count": 32,
   "id": "2f16a7bb-9754-4d05-82c5-917efae07048",
   "metadata": {
    "ExecuteTime": {
     "end_time": "2025-02-04T13:05:04.126326Z",
     "start_time": "2025-02-04T13:05:04.030469Z"
    }
   },
   "outputs": [],
   "source": [
    "mappings |= manual_checks"
   ]
  },
  {
   "cell_type": "code",
   "execution_count": 39,
   "id": "f395f00d-05f9-4935-8716-0d5d0fb10af5",
   "metadata": {
    "ExecuteTime": {
     "end_time": "2025-02-04T13:13:34.366976Z",
     "start_time": "2025-02-04T13:13:34.339089Z"
    }
   },
   "outputs": [],
   "source": [
    "celline_mappings = pd.DataFrame.from_dict(mappings, orient='index')\n",
    "celline_mappings.columns = ['CVCL']\n",
    "btos_df = pd.DataFrame({'BTO': btos.values()}, index=btos.keys())"
   ]
  },
  {
   "cell_type": "markdown",
   "source": [
    "## Compare to Judith's mapping"
   ],
   "metadata": {
    "collapsed": false
   },
   "id": "d556cbc98bf0108e"
  },
  {
   "cell_type": "code",
   "execution_count": 40,
   "outputs": [],
   "source": [
    "celline_mappings = celline_mappings.reset_index()\n",
    "celline_mappings = celline_mappings.rename(columns={\"index\": \"cell_line_name\"})"
   ],
   "metadata": {
    "collapsed": false,
    "ExecuteTime": {
     "end_time": "2025-02-04T13:13:42.628755Z",
     "start_time": "2025-02-04T13:13:42.592519Z"
    }
   },
   "id": "9c6104cb9c326cf6"
  },
  {
   "cell_type": "code",
   "execution_count": 43,
   "outputs": [
    {
     "name": "stdout",
     "output_type": "stream",
     "text": [
      "Creating cellosaurus dictionary ...\n",
      "Mapping cell line names to cellosaurus IDs ...\n",
      "no match at all for KRIJ\n",
      "Saving dataframe with cellosaurus IDs ...\n"
     ]
    },
    {
     "data": {
      "text/plain": "    cellosaurus_id        cell_line_name       CVCL cell_line_original_name\n544      CVCL_1097  C32 [Human melanoma]  CVCL_ZA06                     C32\n858      CVCL_1330                 KM-H2  CVCL_S641                    KMH2",
      "text/html": "<div>\n<style scoped>\n    .dataframe tbody tr th:only-of-type {\n        vertical-align: middle;\n    }\n\n    .dataframe tbody tr th {\n        vertical-align: top;\n    }\n\n    .dataframe thead th {\n        text-align: right;\n    }\n</style>\n<table border=\"1\" class=\"dataframe\">\n  <thead>\n    <tr style=\"text-align: right;\">\n      <th></th>\n      <th>cellosaurus_id</th>\n      <th>cell_line_name</th>\n      <th>CVCL</th>\n      <th>cell_line_original_name</th>\n    </tr>\n  </thead>\n  <tbody>\n    <tr>\n      <th>544</th>\n      <td>CVCL_1097</td>\n      <td>C32 [Human melanoma]</td>\n      <td>CVCL_ZA06</td>\n      <td>C32</td>\n    </tr>\n    <tr>\n      <th>858</th>\n      <td>CVCL_1330</td>\n      <td>KM-H2</td>\n      <td>CVCL_S641</td>\n      <td>KMH2</td>\n    </tr>\n  </tbody>\n</table>\n</div>"
     },
     "execution_count": 43,
     "metadata": {},
     "output_type": "execute_result"
    }
   ],
   "source": [
    "from utils.convert_to_cello import create_cl_dict, map_to_cellosaurus\n",
    "cello_mapping = pd.read_csv(\"../../mapping/cellosaurus_01_2024.csv\")\n",
    "# replace all NaN values with empty strings\n",
    "cello_mapping = cello_mapping.fillna(\"\")\n",
    "# create cellosaurus dictionary\n",
    "cellosaurus_ac_dict, cellosaurus_sy_dict, species_dict, cello_ac_to_id_dict = create_cl_dict(cello_mapping)\n",
    "\n",
    "mapping_df = celline_mappings.copy()\n",
    "mapping_df[\"cell_line_original_name\"] = mapping_df[\"cell_line_name\"]\n",
    "mapping_df[\"cell_line_name\"] = mapping_df[\"cell_line_name\"].replace({\n",
    "    \"BC3C\": \"BC-3C\",\n",
    "    \"BT164\": \"BT 164\",\n",
    "    \"BT147\": \"BT 147\",\n",
    "    \"C32\": \"C32 [Human melanoma]\",\n",
    "    \"CJM\": \"CJM [Human melanoma]\",\n",
    "    \"COLO201\": \"COLO 201\",\n",
    "    \"COLO205\": \"COLO 205\",\n",
    "    \"ES2\": \"ES-2\",\n",
    "    \"G361\": \"G-361\",\n",
    "    \"HARA\": \"HARA [Human squamous cell lung carcinoma]\",\n",
    "    \"HH\": \"HH [Human lymphoma]\",\n",
    "    \"HT29\": \"HT-29\",\n",
    "    \"HT55\": \"HT-55\",\n",
    "    \"JK1\": \"JK-1\",\n",
    "    \"JM1\": \"JM-1\",\n",
    "    \"LK2\": \"LK-2\",\n",
    "    \"MEC1\": \"MEC-1\",\n",
    "    \"ME1\": \"ME-1 [Human leukemia]\",\n",
    "    \"MINO\": \"Mino\",\n",
    "    \"ML1\": \"ML-1 [Human thyroid carcinoma]\",\n",
    "    \"NCIH2087\": \"NCI-H2087\",\n",
    "    \"NCIH2444\": \"NCI-H2444\",\n",
    "    \"PC3\": \"PC-3\",\n",
    "    \"PL21\": \"PL-21\",\n",
    "    \"PK1\": \"PK-1\",\n",
    "    \"RCM1\": \"RCM-1 [Human rectal adenocarcinoma]\",\n",
    "    \"SH4\": \"SH-4\",\n",
    "    \"TC71\": \"TC-71\",\n",
    "    \"TE1\": \"TE-1\",\n",
    "    \"TE8\": \"TE-8\",\n",
    "    \"TE15\": \"TE-15\",\n",
    "    \"TTTHYROID\": \"TT\"\n",
    "})\n",
    "map_to_cellosaurus(mapping_df, cellosaurus_ac_dict, cellosaurus_sy_dict, species_dict, cello_ac_to_id_dict, output_path=\"CCLE_mapped.csv\")\n",
    "mapping_df = pd.read_csv(\"CCLE_mapped.csv\")\n",
    "# find out where CVCL is not equal to cellosaurus_id\n",
    "mapping_df.query(\"CVCL != cellosaurus_id\")"
   ],
   "metadata": {
    "collapsed": false,
    "ExecuteTime": {
     "end_time": "2025-02-04T14:52:16.597195Z",
     "start_time": "2025-02-04T14:52:11.277232Z"
    }
   },
   "id": "a49ec982105a871e"
  },
  {
   "cell_type": "code",
   "execution_count": 61,
   "id": "d362bc32-7b90-4412-8559-f22280812440",
   "metadata": {},
   "outputs": [
    {
     "data": {
      "text/html": [
       "<div>\n",
       "<style scoped>\n",
       "    .dataframe tbody tr th:only-of-type {\n",
       "        vertical-align: middle;\n",
       "    }\n",
       "\n",
       "    .dataframe tbody tr th {\n",
       "        vertical-align: top;\n",
       "    }\n",
       "\n",
       "    .dataframe thead th {\n",
       "        text-align: right;\n",
       "    }\n",
       "</style>\n",
       "<table border=\"1\" class=\"dataframe\">\n",
       "  <thead>\n",
       "    <tr style=\"text-align: right;\">\n",
       "      <th></th>\n",
       "      <th>BTO</th>\n",
       "    </tr>\n",
       "  </thead>\n",
       "  <tbody>\n",
       "    <tr>\n",
       "      <th>CVCL_IP58</th>\n",
       "      <td>[BTO:0006002]</td>\n",
       "    </tr>\n",
       "    <tr>\n",
       "      <th>CVCL_IP59</th>\n",
       "      <td>[BTO:0006003]</td>\n",
       "    </tr>\n",
       "    <tr>\n",
       "      <th>CVCL_L211</th>\n",
       "      <td>[BTO:0005352]</td>\n",
       "    </tr>\n",
       "    <tr>\n",
       "      <th>CVCL_5948</th>\n",
       "      <td>[BTO:0002603]</td>\n",
       "    </tr>\n",
       "    <tr>\n",
       "      <th>CVCL_8030</th>\n",
       "      <td>[BTO:0002947]</td>\n",
       "    </tr>\n",
       "    <tr>\n",
       "      <th>...</th>\n",
       "      <td>...</td>\n",
       "    </tr>\n",
       "    <tr>\n",
       "      <th>CVCL_6746</th>\n",
       "      <td>[BTO:0003554]</td>\n",
       "    </tr>\n",
       "    <tr>\n",
       "      <th>CVCL_WY40</th>\n",
       "      <td>[BTO:0006281]</td>\n",
       "    </tr>\n",
       "    <tr>\n",
       "      <th>CVCL_5906</th>\n",
       "      <td>[BTO:0003992]</td>\n",
       "    </tr>\n",
       "    <tr>\n",
       "      <th>CVCL_0588</th>\n",
       "      <td>[BTO:0003136]</td>\n",
       "    </tr>\n",
       "    <tr>\n",
       "      <th>CVCL_1661</th>\n",
       "      <td>[BTO:0004915]</td>\n",
       "    </tr>\n",
       "  </tbody>\n",
       "</table>\n",
       "<p>1774 rows × 1 columns</p>\n",
       "</div>"
      ],
      "text/plain": [
       "                     BTO\n",
       "CVCL_IP58  [BTO:0006002]\n",
       "CVCL_IP59  [BTO:0006003]\n",
       "CVCL_L211  [BTO:0005352]\n",
       "CVCL_5948  [BTO:0002603]\n",
       "CVCL_8030  [BTO:0002947]\n",
       "...                  ...\n",
       "CVCL_6746  [BTO:0003554]\n",
       "CVCL_WY40  [BTO:0006281]\n",
       "CVCL_5906  [BTO:0003992]\n",
       "CVCL_0588  [BTO:0003136]\n",
       "CVCL_1661  [BTO:0004915]\n",
       "\n",
       "[1774 rows x 1 columns]"
      ]
     },
     "execution_count": 61,
     "metadata": {},
     "output_type": "execute_result"
    }
   ],
   "source": [
    "btos_df"
   ]
  },
  {
   "cell_type": "code",
   "execution_count": 62,
   "id": "efef41d1-cdeb-4642-9b09-3a4f800314e5",
   "metadata": {},
   "outputs": [
    {
     "data": {
      "text/html": [
       "<div>\n",
       "<style scoped>\n",
       "    .dataframe tbody tr th:only-of-type {\n",
       "        vertical-align: middle;\n",
       "    }\n",
       "\n",
       "    .dataframe tbody tr th {\n",
       "        vertical-align: top;\n",
       "    }\n",
       "\n",
       "    .dataframe thead th {\n",
       "        text-align: right;\n",
       "    }\n",
       "</style>\n",
       "<table border=\"1\" class=\"dataframe\">\n",
       "  <thead>\n",
       "    <tr style=\"text-align: right;\">\n",
       "      <th></th>\n",
       "      <th>CVCL</th>\n",
       "      <th>BTO</th>\n",
       "    </tr>\n",
       "  </thead>\n",
       "  <tbody>\n",
       "  </tbody>\n",
       "</table>\n",
       "</div>"
      ],
      "text/plain": [
       "Empty DataFrame\n",
       "Columns: [CVCL, BTO]\n",
       "Index: []"
      ]
     },
     "execution_count": 62,
     "metadata": {},
     "output_type": "execute_result"
    }
   ],
   "source": [
    "# filter relevant and check for more than one BTO mapping\n",
    "cvcl_to_bto = celline_mappings.merge(btos_df, left_on='CVCL', right_index=True, how='left')#[:220]\n",
    "cvcl_to_bto.query(\"BTO.str.len()>1\")"
   ]
  },
  {
   "cell_type": "code",
   "execution_count": 63,
   "id": "34624cfb-036a-47fd-b007-7c03c0268891",
   "metadata": {},
   "outputs": [
    {
     "data": {
      "text/html": [
       "<div>\n",
       "<style scoped>\n",
       "    .dataframe tbody tr th:only-of-type {\n",
       "        vertical-align: middle;\n",
       "    }\n",
       "\n",
       "    .dataframe tbody tr th {\n",
       "        vertical-align: top;\n",
       "    }\n",
       "\n",
       "    .dataframe thead th {\n",
       "        text-align: right;\n",
       "    }\n",
       "</style>\n",
       "<table border=\"1\" class=\"dataframe\">\n",
       "  <thead>\n",
       "    <tr style=\"text-align: right;\">\n",
       "      <th></th>\n",
       "      <th>CVCL</th>\n",
       "      <th>BTO</th>\n",
       "    </tr>\n",
       "  </thead>\n",
       "  <tbody>\n",
       "    <tr>\n",
       "      <th>CAS1</th>\n",
       "      <td>CVCL_1117</td>\n",
       "      <td></td>\n",
       "    </tr>\n",
       "    <tr>\n",
       "      <th>KPL1</th>\n",
       "      <td>CVCL_2094</td>\n",
       "      <td></td>\n",
       "    </tr>\n",
       "    <tr>\n",
       "      <th>MKN1</th>\n",
       "      <td>CVCL_1415</td>\n",
       "      <td>BTO:0002384</td>\n",
       "    </tr>\n",
       "    <tr>\n",
       "      <th>253JBV</th>\n",
       "      <td>CVCL_7937</td>\n",
       "      <td>BTO:0004894</td>\n",
       "    </tr>\n",
       "    <tr>\n",
       "      <th>BFTC905</th>\n",
       "      <td>CVCL_1083</td>\n",
       "      <td></td>\n",
       "    </tr>\n",
       "    <tr>\n",
       "      <th>...</th>\n",
       "      <td>...</td>\n",
       "      <td>...</td>\n",
       "    </tr>\n",
       "    <tr>\n",
       "      <th>MINO</th>\n",
       "      <td>CVCL_1872</td>\n",
       "      <td></td>\n",
       "    </tr>\n",
       "    <tr>\n",
       "      <th>TC71</th>\n",
       "      <td>CVCL_2213</td>\n",
       "      <td>BTO:0002604</td>\n",
       "    </tr>\n",
       "    <tr>\n",
       "      <th>SCC4</th>\n",
       "      <td>CVCL_1684</td>\n",
       "      <td>BTO:0003775</td>\n",
       "    </tr>\n",
       "    <tr>\n",
       "      <th>BT147</th>\n",
       "      <td>CVCL_WW40</td>\n",
       "      <td></td>\n",
       "    </tr>\n",
       "    <tr>\n",
       "      <th>BT12</th>\n",
       "      <td>CVCL_M155</td>\n",
       "      <td></td>\n",
       "    </tr>\n",
       "  </tbody>\n",
       "</table>\n",
       "<p>887 rows × 2 columns</p>\n",
       "</div>"
      ],
      "text/plain": [
       "              CVCL          BTO\n",
       "CAS1     CVCL_1117             \n",
       "KPL1     CVCL_2094             \n",
       "MKN1     CVCL_1415  BTO:0002384\n",
       "253JBV   CVCL_7937  BTO:0004894\n",
       "BFTC905  CVCL_1083             \n",
       "...            ...          ...\n",
       "MINO     CVCL_1872             \n",
       "TC71     CVCL_2213  BTO:0002604\n",
       "SCC4     CVCL_1684  BTO:0003775\n",
       "BT147    CVCL_WW40             \n",
       "BT12     CVCL_M155             \n",
       "\n",
       "[887 rows x 2 columns]"
      ]
     },
     "execution_count": 63,
     "metadata": {},
     "output_type": "execute_result"
    }
   ],
   "source": [
    "cvcl_to_bto['BTO'] = cvcl_to_bto.BTO.transform(lambda x: '' if pd.isna(x) else x[0])\n",
    "cvcl_to_bto"
   ]
  },
  {
   "cell_type": "markdown",
   "id": "894a42d5-c79e-49ad-8495-6289ca7a9bfb",
   "metadata": {},
   "source": [
    "## Bringing viability, drug, and cell line mappings together"
   ]
  },
  {
   "cell_type": "code",
   "execution_count": 66,
   "id": "b7c9441e-9dba-4eb7-9987-9cb713f2ea5a",
   "metadata": {},
   "outputs": [
    {
     "data": {
      "text/html": [
       "<div>\n",
       "<style scoped>\n",
       "    .dataframe tbody tr th:only-of-type {\n",
       "        vertical-align: middle;\n",
       "    }\n",
       "\n",
       "    .dataframe tbody tr th {\n",
       "        vertical-align: top;\n",
       "    }\n",
       "\n",
       "    .dataframe thead th {\n",
       "        text-align: right;\n",
       "    }\n",
       "</style>\n",
       "<table border=\"1\" class=\"dataframe\">\n",
       "  <thead>\n",
       "    <tr style=\"text-align: right;\">\n",
       "      <th></th>\n",
       "      <th>experiment_id</th>\n",
       "      <th>assay_plate_barcode</th>\n",
       "      <th>raw_value_log2</th>\n",
       "      <th>bsub_value_log2</th>\n",
       "      <th>dmso_zscore_log2</th>\n",
       "      <th>cpd_conc_umol</th>\n",
       "      <th>master_cpd_id</th>\n",
       "      <th>run_id</th>\n",
       "      <th>experiment_date</th>\n",
       "      <th>culture_media</th>\n",
       "      <th>...</th>\n",
       "      <th>repl</th>\n",
       "      <th>drugcellrep</th>\n",
       "      <th>replicate</th>\n",
       "      <th>maxdose</th>\n",
       "      <th>mindose</th>\n",
       "      <th>nreplicates</th>\n",
       "      <th>CID</th>\n",
       "      <th>CVCL</th>\n",
       "      <th>BTO</th>\n",
       "      <th>CHEMBL</th>\n",
       "    </tr>\n",
       "  </thead>\n",
       "  <tbody>\n",
       "    <tr>\n",
       "      <th>0</th>\n",
       "      <td>1</td>\n",
       "      <td>AU050692</td>\n",
       "      <td>14.54</td>\n",
       "      <td>-0.07636</td>\n",
       "      <td>-0.2608</td>\n",
       "      <td>0.00030</td>\n",
       "      <td>1788</td>\n",
       "      <td>7024-01-A01-02-01</td>\n",
       "      <td>20120501</td>\n",
       "      <td>DMEM001</td>\n",
       "      <td>...</td>\n",
       "      <td>0</td>\n",
       "      <td>0</td>\n",
       "      <td>0</td>\n",
       "      <td>10.0</td>\n",
       "      <td>0.0003</td>\n",
       "      <td>1</td>\n",
       "      <td>6623618</td>\n",
       "      <td>CVCL_1117</td>\n",
       "      <td></td>\n",
       "      <td>CHEMBL492468</td>\n",
       "    </tr>\n",
       "    <tr>\n",
       "      <th>1</th>\n",
       "      <td>1</td>\n",
       "      <td>AU050693</td>\n",
       "      <td>14.45</td>\n",
       "      <td>-0.13200</td>\n",
       "      <td>-0.4507</td>\n",
       "      <td>0.00030</td>\n",
       "      <td>1788</td>\n",
       "      <td>7024-01-A01-02-01</td>\n",
       "      <td>20120501</td>\n",
       "      <td>DMEM001</td>\n",
       "      <td>...</td>\n",
       "      <td>1</td>\n",
       "      <td>0</td>\n",
       "      <td>1</td>\n",
       "      <td>10.0</td>\n",
       "      <td>0.0003</td>\n",
       "      <td>1</td>\n",
       "      <td>6623618</td>\n",
       "      <td>CVCL_1117</td>\n",
       "      <td></td>\n",
       "      <td>CHEMBL492468</td>\n",
       "    </tr>\n",
       "    <tr>\n",
       "      <th>2</th>\n",
       "      <td>1</td>\n",
       "      <td>AU050692</td>\n",
       "      <td>14.43</td>\n",
       "      <td>-0.18340</td>\n",
       "      <td>-0.6263</td>\n",
       "      <td>0.00061</td>\n",
       "      <td>1788</td>\n",
       "      <td>7024-01-A01-02-01</td>\n",
       "      <td>20120501</td>\n",
       "      <td>DMEM001</td>\n",
       "      <td>...</td>\n",
       "      <td>0</td>\n",
       "      <td>0</td>\n",
       "      <td>0</td>\n",
       "      <td>10.0</td>\n",
       "      <td>0.0003</td>\n",
       "      <td>1</td>\n",
       "      <td>6623618</td>\n",
       "      <td>CVCL_1117</td>\n",
       "      <td></td>\n",
       "      <td>CHEMBL492468</td>\n",
       "    </tr>\n",
       "    <tr>\n",
       "      <th>3</th>\n",
       "      <td>1</td>\n",
       "      <td>AU050693</td>\n",
       "      <td>14.24</td>\n",
       "      <td>-0.34130</td>\n",
       "      <td>-1.1650</td>\n",
       "      <td>0.00061</td>\n",
       "      <td>1788</td>\n",
       "      <td>7024-01-A01-02-01</td>\n",
       "      <td>20120501</td>\n",
       "      <td>DMEM001</td>\n",
       "      <td>...</td>\n",
       "      <td>1</td>\n",
       "      <td>0</td>\n",
       "      <td>1</td>\n",
       "      <td>10.0</td>\n",
       "      <td>0.0003</td>\n",
       "      <td>1</td>\n",
       "      <td>6623618</td>\n",
       "      <td>CVCL_1117</td>\n",
       "      <td></td>\n",
       "      <td>CHEMBL492468</td>\n",
       "    </tr>\n",
       "    <tr>\n",
       "      <th>4</th>\n",
       "      <td>1</td>\n",
       "      <td>AU050692</td>\n",
       "      <td>14.57</td>\n",
       "      <td>-0.03871</td>\n",
       "      <td>-0.1322</td>\n",
       "      <td>0.00120</td>\n",
       "      <td>1788</td>\n",
       "      <td>7024-01-A01-02-01</td>\n",
       "      <td>20120501</td>\n",
       "      <td>DMEM001</td>\n",
       "      <td>...</td>\n",
       "      <td>0</td>\n",
       "      <td>0</td>\n",
       "      <td>0</td>\n",
       "      <td>10.0</td>\n",
       "      <td>0.0003</td>\n",
       "      <td>1</td>\n",
       "      <td>6623618</td>\n",
       "      <td>CVCL_1117</td>\n",
       "      <td></td>\n",
       "      <td>CHEMBL492468</td>\n",
       "    </tr>\n",
       "    <tr>\n",
       "      <th>...</th>\n",
       "      <td>...</td>\n",
       "      <td>...</td>\n",
       "      <td>...</td>\n",
       "      <td>...</td>\n",
       "      <td>...</td>\n",
       "      <td>...</td>\n",
       "      <td>...</td>\n",
       "      <td>...</td>\n",
       "      <td>...</td>\n",
       "      <td>...</td>\n",
       "      <td>...</td>\n",
       "      <td>...</td>\n",
       "      <td>...</td>\n",
       "      <td>...</td>\n",
       "      <td>...</td>\n",
       "      <td>...</td>\n",
       "      <td>...</td>\n",
       "      <td>...</td>\n",
       "      <td>...</td>\n",
       "      <td>...</td>\n",
       "      <td>...</td>\n",
       "    </tr>\n",
       "    <tr>\n",
       "      <th>12470170</th>\n",
       "      <td>907</td>\n",
       "      <td>AU072323</td>\n",
       "      <td>10.53</td>\n",
       "      <td>-0.29590</td>\n",
       "      <td>-1.3230</td>\n",
       "      <td>17.00000</td>\n",
       "      <td>710154</td>\n",
       "      <td>7024-01-A01-02-73</td>\n",
       "      <td>20130918</td>\n",
       "      <td>DMEM006</td>\n",
       "      <td>...</td>\n",
       "      <td>1</td>\n",
       "      <td>0</td>\n",
       "      <td>1</td>\n",
       "      <td>66.0</td>\n",
       "      <td>0.0020</td>\n",
       "      <td>1</td>\n",
       "      <td>75972143</td>\n",
       "      <td>CVCL_6C44</td>\n",
       "      <td></td>\n",
       "      <td>None</td>\n",
       "    </tr>\n",
       "    <tr>\n",
       "      <th>12470171</th>\n",
       "      <td>907</td>\n",
       "      <td>AU072322</td>\n",
       "      <td>11.29</td>\n",
       "      <td>0.02746</td>\n",
       "      <td>0.1227</td>\n",
       "      <td>33.00000</td>\n",
       "      <td>710154</td>\n",
       "      <td>7024-01-A01-02-73</td>\n",
       "      <td>20130918</td>\n",
       "      <td>DMEM006</td>\n",
       "      <td>...</td>\n",
       "      <td>0</td>\n",
       "      <td>0</td>\n",
       "      <td>0</td>\n",
       "      <td>66.0</td>\n",
       "      <td>0.0020</td>\n",
       "      <td>1</td>\n",
       "      <td>75972143</td>\n",
       "      <td>CVCL_6C44</td>\n",
       "      <td></td>\n",
       "      <td>None</td>\n",
       "    </tr>\n",
       "    <tr>\n",
       "      <th>12470172</th>\n",
       "      <td>907</td>\n",
       "      <td>AU072323</td>\n",
       "      <td>10.58</td>\n",
       "      <td>-0.25210</td>\n",
       "      <td>-1.1270</td>\n",
       "      <td>33.00000</td>\n",
       "      <td>710154</td>\n",
       "      <td>7024-01-A01-02-73</td>\n",
       "      <td>20130918</td>\n",
       "      <td>DMEM006</td>\n",
       "      <td>...</td>\n",
       "      <td>1</td>\n",
       "      <td>0</td>\n",
       "      <td>1</td>\n",
       "      <td>66.0</td>\n",
       "      <td>0.0020</td>\n",
       "      <td>1</td>\n",
       "      <td>75972143</td>\n",
       "      <td>CVCL_6C44</td>\n",
       "      <td></td>\n",
       "      <td>None</td>\n",
       "    </tr>\n",
       "    <tr>\n",
       "      <th>12470173</th>\n",
       "      <td>907</td>\n",
       "      <td>AU072322</td>\n",
       "      <td>11.12</td>\n",
       "      <td>-0.14050</td>\n",
       "      <td>-0.6279</td>\n",
       "      <td>66.00000</td>\n",
       "      <td>710154</td>\n",
       "      <td>7024-01-A01-02-73</td>\n",
       "      <td>20130918</td>\n",
       "      <td>DMEM006</td>\n",
       "      <td>...</td>\n",
       "      <td>0</td>\n",
       "      <td>0</td>\n",
       "      <td>0</td>\n",
       "      <td>66.0</td>\n",
       "      <td>0.0020</td>\n",
       "      <td>1</td>\n",
       "      <td>75972143</td>\n",
       "      <td>CVCL_6C44</td>\n",
       "      <td></td>\n",
       "      <td>None</td>\n",
       "    </tr>\n",
       "    <tr>\n",
       "      <th>12470174</th>\n",
       "      <td>907</td>\n",
       "      <td>AU072323</td>\n",
       "      <td>10.52</td>\n",
       "      <td>-0.30600</td>\n",
       "      <td>-1.3680</td>\n",
       "      <td>66.00000</td>\n",
       "      <td>710154</td>\n",
       "      <td>7024-01-A01-02-73</td>\n",
       "      <td>20130918</td>\n",
       "      <td>DMEM006</td>\n",
       "      <td>...</td>\n",
       "      <td>1</td>\n",
       "      <td>0</td>\n",
       "      <td>1</td>\n",
       "      <td>66.0</td>\n",
       "      <td>0.0020</td>\n",
       "      <td>1</td>\n",
       "      <td>75972143</td>\n",
       "      <td>CVCL_6C44</td>\n",
       "      <td></td>\n",
       "      <td>None</td>\n",
       "    </tr>\n",
       "  </tbody>\n",
       "</table>\n",
       "<p>12470175 rows × 41 columns</p>\n",
       "</div>"
      ],
      "text/plain": [
       "          experiment_id assay_plate_barcode  raw_value_log2  bsub_value_log2  \\\n",
       "0                     1            AU050692           14.54         -0.07636   \n",
       "1                     1            AU050693           14.45         -0.13200   \n",
       "2                     1            AU050692           14.43         -0.18340   \n",
       "3                     1            AU050693           14.24         -0.34130   \n",
       "4                     1            AU050692           14.57         -0.03871   \n",
       "...                 ...                 ...             ...              ...   \n",
       "12470170            907            AU072323           10.53         -0.29590   \n",
       "12470171            907            AU072322           11.29          0.02746   \n",
       "12470172            907            AU072323           10.58         -0.25210   \n",
       "12470173            907            AU072322           11.12         -0.14050   \n",
       "12470174            907            AU072323           10.52         -0.30600   \n",
       "\n",
       "          dmso_zscore_log2  cpd_conc_umol  master_cpd_id             run_id  \\\n",
       "0                  -0.2608        0.00030           1788  7024-01-A01-02-01   \n",
       "1                  -0.4507        0.00030           1788  7024-01-A01-02-01   \n",
       "2                  -0.6263        0.00061           1788  7024-01-A01-02-01   \n",
       "3                  -1.1650        0.00061           1788  7024-01-A01-02-01   \n",
       "4                  -0.1322        0.00120           1788  7024-01-A01-02-01   \n",
       "...                    ...            ...            ...                ...   \n",
       "12470170           -1.3230       17.00000         710154  7024-01-A01-02-73   \n",
       "12470171            0.1227       33.00000         710154  7024-01-A01-02-73   \n",
       "12470172           -1.1270       33.00000         710154  7024-01-A01-02-73   \n",
       "12470173           -0.6279       66.00000         710154  7024-01-A01-02-73   \n",
       "12470174           -1.3680       66.00000         710154  7024-01-A01-02-73   \n",
       "\n",
       "          experiment_date culture_media  ...  repl  drugcellrep replicate  \\\n",
       "0                20120501       DMEM001  ...     0            0         0   \n",
       "1                20120501       DMEM001  ...     1            0         1   \n",
       "2                20120501       DMEM001  ...     0            0         0   \n",
       "3                20120501       DMEM001  ...     1            0         1   \n",
       "4                20120501       DMEM001  ...     0            0         0   \n",
       "...                   ...           ...  ...   ...          ...       ...   \n",
       "12470170         20130918       DMEM006  ...     1            0         1   \n",
       "12470171         20130918       DMEM006  ...     0            0         0   \n",
       "12470172         20130918       DMEM006  ...     1            0         1   \n",
       "12470173         20130918       DMEM006  ...     0            0         0   \n",
       "12470174         20130918       DMEM006  ...     1            0         1   \n",
       "\n",
       "         maxdose  mindose nreplicates       CID       CVCL BTO        CHEMBL  \n",
       "0           10.0   0.0003           1   6623618  CVCL_1117      CHEMBL492468  \n",
       "1           10.0   0.0003           1   6623618  CVCL_1117      CHEMBL492468  \n",
       "2           10.0   0.0003           1   6623618  CVCL_1117      CHEMBL492468  \n",
       "3           10.0   0.0003           1   6623618  CVCL_1117      CHEMBL492468  \n",
       "4           10.0   0.0003           1   6623618  CVCL_1117      CHEMBL492468  \n",
       "...          ...      ...         ...       ...        ...  ..           ...  \n",
       "12470170    66.0   0.0020           1  75972143  CVCL_6C44              None  \n",
       "12470171    66.0   0.0020           1  75972143  CVCL_6C44              None  \n",
       "12470172    66.0   0.0020           1  75972143  CVCL_6C44              None  \n",
       "12470173    66.0   0.0020           1  75972143  CVCL_6C44              None  \n",
       "12470174    66.0   0.0020           1  75972143  CVCL_6C44              None  \n",
       "\n",
       "[12470175 rows x 41 columns]"
      ]
     },
     "execution_count": 66,
     "metadata": {},
     "output_type": "execute_result"
    }
   ],
   "source": [
    "full_df = combined_df.merge(cids, left_on='cpd_name', right_index=True).merge(cvcl_to_bto, left_on='ccl_name', right_index=True).merge(chembls, left_on=\"cpd_name\", right_index=True, how='left')\n",
    "full_df"
   ]
  },
  {
   "cell_type": "code",
   "execution_count": 73,
   "id": "b06d57f7-26d2-475b-9a86-66662ec5cd7e",
   "metadata": {},
   "outputs": [
    {
     "data": {
      "text/plain": [
       "545"
      ]
     },
     "execution_count": 73,
     "metadata": {},
     "output_type": "execute_result"
    }
   ],
   "source": [
    "len(full_df.cpd_name.unique())"
   ]
  },
  {
   "cell_type": "code",
   "execution_count": 74,
   "id": "5cca8742-2931-4a37-be18-3ee0ed3fe0f4",
   "metadata": {},
   "outputs": [
    {
     "data": {
      "text/plain": [
       "545"
      ]
     },
     "execution_count": 74,
     "metadata": {},
     "output_type": "execute_result"
    }
   ],
   "source": [
    "len(full_df.CID.unique())"
   ]
  },
  {
   "cell_type": "markdown",
   "id": "a558e747-85fb-4d40-a5f0-8fce78778f8c",
   "metadata": {},
   "source": [
    "ensure all cellline drug combinations start with only one maxdose"
   ]
  },
  {
   "cell_type": "code",
   "execution_count": 75,
   "id": "4acfcd8f-72c2-438e-a88d-f702a1b206c6",
   "metadata": {},
   "outputs": [
    {
     "data": {
      "text/plain": [
       "maxdose  mindose\n",
       "1        1          387258\n",
       "Name: count, dtype: int64"
      ]
     },
     "execution_count": 75,
     "metadata": {},
     "output_type": "execute_result"
    }
   ],
   "source": [
    "full_df.groupby([\"ccl_name\", \"cpd_name\"])[[\"maxdose\", \"mindose\"]].nunique().value_counts()"
   ]
  },
  {
   "cell_type": "markdown",
   "id": "40fb0b82-839d-4f88-8938-ca7f4c776460",
   "metadata": {},
   "source": [
    "ensure there are no duplicates remaining that cause problems when pivoting the dataframe for curvecurator input creation"
   ]
  },
  {
   "cell_type": "code",
   "execution_count": 76,
   "id": "3b277cf2-3760-42de-b8a3-922da6effef4",
   "metadata": {},
   "outputs": [
    {
     "data": {
      "text/html": [
       "<div>\n",
       "<style scoped>\n",
       "    .dataframe tbody tr th:only-of-type {\n",
       "        vertical-align: middle;\n",
       "    }\n",
       "\n",
       "    .dataframe tbody tr th {\n",
       "        vertical-align: top;\n",
       "    }\n",
       "\n",
       "    .dataframe thead th {\n",
       "        text-align: right;\n",
       "    }\n",
       "</style>\n",
       "<table border=\"1\" class=\"dataframe\">\n",
       "  <thead>\n",
       "    <tr style=\"text-align: right;\">\n",
       "      <th></th>\n",
       "      <th>cpd_name</th>\n",
       "      <th>ccl_name</th>\n",
       "      <th>cpd_conc_umol</th>\n",
       "      <th>replicate</th>\n",
       "    </tr>\n",
       "  </thead>\n",
       "  <tbody>\n",
       "  </tbody>\n",
       "</table>\n",
       "</div>"
      ],
      "text/plain": [
       "Empty DataFrame\n",
       "Columns: [cpd_name, ccl_name, cpd_conc_umol, replicate]\n",
       "Index: []"
      ]
     },
     "execution_count": 76,
     "metadata": {},
     "output_type": "execute_result"
    }
   ],
   "source": [
    "full_df[full_df[[\"cpd_name\", \"ccl_name\", \"cpd_conc_umol\", \"replicate\"]].duplicated(keep=False)][[\"cpd_name\", \"ccl_name\", \"cpd_conc_umol\", \"replicate\"]]"
   ]
  },
  {
   "cell_type": "markdown",
   "id": "374bd6e2-4868-4265-9dbc-92664a853958",
   "metadata": {},
   "source": [
    "rename columns for use in CurveCurator and save."
   ]
  },
  {
   "cell_type": "code",
   "execution_count": 77,
   "id": "feeea273-674d-4a25-8658-0b0b32628c2c",
   "metadata": {},
   "outputs": [],
   "source": [
    "full_df.rename(columns={\"cpd_conc_umol\": \"dose\", \"bsub_value\": \"response\", \"CVCL\": \"sample\", \"CID\": \"drug\"}, inplace=True)\n",
    "full_df.to_csv(\"viabilities_processed.csv\", index=None)"
   ]
  },
  {
   "cell_type": "code",
   "execution_count": 78,
   "id": "0538313c-64f9-403b-b265-ff39b176527a",
   "metadata": {},
   "outputs": [],
   "source": [
    "preprocess(input_file=\"viabilities_processed.csv\", output_dir='curvecurator', dataset_name=\"CTRPv2\", cores=64)"
   ]
  },
  {
   "cell_type": "markdown",
   "id": "f0f954a3-aff5-40cd-8082-60d264dbb801",
   "metadata": {},
   "source": [
    "# Prepare for DrEvalPy"
   ]
  },
  {
   "cell_type": "markdown",
   "id": "63bf8b0a-c7dc-4811-a0b5-868aed36018b",
   "metadata": {},
   "source": [
    "## Run CurveCurator"
   ]
  },
  {
   "cell_type": "code",
   "execution_count": null,
   "id": "7ba9c703-f2c5-4da3-abe5-2e61b4ae8ff3",
   "metadata": {},
   "outputs": [],
   "source": [
    "_exec_curvecurator(Path(\"curvecurator\"))"
   ]
  },
  {
   "cell_type": "code",
   "execution_count": null,
   "id": "2a62d7dd-6fe9-4470-8ddb-4882057df676",
   "metadata": {},
   "outputs": [],
   "source": [
    "postprocess(\"curvecurator\", dataset_name=\"CTRPv2\")"
   ]
  },
  {
   "cell_type": "markdown",
   "id": "31ff340a-0146-478a-893f-4afbcadfae92",
   "metadata": {},
   "source": [
    "## Combine curvecurator output with original measures from publication"
   ]
  },
  {
   "cell_type": "code",
   "execution_count": 69,
   "id": "5cc0fa97-6699-4e65-a915-76ddf657c571",
   "metadata": {},
   "outputs": [
    {
     "name": "stdout",
     "output_type": "stream",
     "text": [
      "387258\n"
     ]
    },
    {
     "data": {
      "text/html": [
       "<div>\n",
       "<style scoped>\n",
       "    .dataframe tbody tr th:only-of-type {\n",
       "        vertical-align: middle;\n",
       "    }\n",
       "\n",
       "    .dataframe tbody tr th {\n",
       "        vertical-align: top;\n",
       "    }\n",
       "\n",
       "    .dataframe thead th {\n",
       "        text-align: right;\n",
       "    }\n",
       "</style>\n",
       "<table border=\"1\" class=\"dataframe\">\n",
       "  <thead>\n",
       "    <tr style=\"text-align: right;\">\n",
       "      <th></th>\n",
       "      <th>Name</th>\n",
       "      <th>SignalQuality</th>\n",
       "      <th>pEC50_curvecurator</th>\n",
       "      <th>Slope</th>\n",
       "      <th>Front</th>\n",
       "      <th>Back</th>\n",
       "      <th>FoldChange</th>\n",
       "      <th>AUC_curvecurator</th>\n",
       "      <th>RMSE</th>\n",
       "      <th>R2</th>\n",
       "      <th>...</th>\n",
       "      <th>fValue</th>\n",
       "      <th>pValue</th>\n",
       "      <th>negLog10pValue</th>\n",
       "      <th>fValueSAMCorrected</th>\n",
       "      <th>RelevanceScore</th>\n",
       "      <th>Regulation</th>\n",
       "      <th>cell_line_id</th>\n",
       "      <th>drug_id</th>\n",
       "      <th>EC50_curvecurator</th>\n",
       "      <th>IC50_curvecurator</th>\n",
       "    </tr>\n",
       "  </thead>\n",
       "  <tbody>\n",
       "    <tr>\n",
       "      <th>0</th>\n",
       "      <td>CVCL_0620|387447</td>\n",
       "      <td>0.0</td>\n",
       "      <td>11.289833</td>\n",
       "      <td>10.000000</td>\n",
       "      <td>1.014012</td>\n",
       "      <td>0.940186</td>\n",
       "      <td>-0.088982</td>\n",
       "      <td>0.944098</td>\n",
       "      <td>0.080861</td>\n",
       "      <td>0.098170</td>\n",
       "      <td>...</td>\n",
       "      <td>0.462637</td>\n",
       "      <td>8.769858e-01</td>\n",
       "      <td>0.057007</td>\n",
       "      <td>0.053520</td>\n",
       "      <td>-0.000000</td>\n",
       "      <td>not</td>\n",
       "      <td>CVCL_0620</td>\n",
       "      <td>387447</td>\n",
       "      <td>5.130591e-12</td>\n",
       "      <td>NaN</td>\n",
       "    </tr>\n",
       "    <tr>\n",
       "      <th>1</th>\n",
       "      <td>CVCL_1579|148198</td>\n",
       "      <td>0.0</td>\n",
       "      <td>9.177362</td>\n",
       "      <td>10.000000</td>\n",
       "      <td>0.664703</td>\n",
       "      <td>1.331885</td>\n",
       "      <td>0.408800</td>\n",
       "      <td>0.734230</td>\n",
       "      <td>0.253525</td>\n",
       "      <td>0.422818</td>\n",
       "      <td>...</td>\n",
       "      <td>1.465110</td>\n",
       "      <td>3.922456e-01</td>\n",
       "      <td>0.406442</td>\n",
       "      <td>0.610089</td>\n",
       "      <td>0.111661</td>\n",
       "      <td>NaN</td>\n",
       "      <td>CVCL_1579</td>\n",
       "      <td>148198</td>\n",
       "      <td>6.647190e-10</td>\n",
       "      <td>NaN</td>\n",
       "    </tr>\n",
       "    <tr>\n",
       "      <th>2</th>\n",
       "      <td>CVCL_1579|16220015</td>\n",
       "      <td>0.0</td>\n",
       "      <td>8.636212</td>\n",
       "      <td>2.053603</td>\n",
       "      <td>1.003815</td>\n",
       "      <td>0.000100</td>\n",
       "      <td>-0.278676</td>\n",
       "      <td>0.983922</td>\n",
       "      <td>0.060002</td>\n",
       "      <td>0.466851</td>\n",
       "      <td>...</td>\n",
       "      <td>1.970208</td>\n",
       "      <td>2.553438e-01</td>\n",
       "      <td>0.592875</td>\n",
       "      <td>0.483826</td>\n",
       "      <td>0.068242</td>\n",
       "      <td>not</td>\n",
       "      <td>CVCL_1579</td>\n",
       "      <td>16220015</td>\n",
       "      <td>2.310935e-09</td>\n",
       "      <td>2.319730e-09</td>\n",
       "    </tr>\n",
       "    <tr>\n",
       "      <th>3</th>\n",
       "      <td>CVCL_0620|148198</td>\n",
       "      <td>0.0</td>\n",
       "      <td>10.993207</td>\n",
       "      <td>10.000000</td>\n",
       "      <td>1.000945</td>\n",
       "      <td>0.939873</td>\n",
       "      <td>-0.089462</td>\n",
       "      <td>0.941608</td>\n",
       "      <td>0.067688</td>\n",
       "      <td>0.077560</td>\n",
       "      <td>...</td>\n",
       "      <td>0.357347</td>\n",
       "      <td>9.381578e-01</td>\n",
       "      <td>0.027724</td>\n",
       "      <td>0.049166</td>\n",
       "      <td>-0.000000</td>\n",
       "      <td>not</td>\n",
       "      <td>CVCL_0620</td>\n",
       "      <td>148198</td>\n",
       "      <td>1.015765e-11</td>\n",
       "      <td>NaN</td>\n",
       "    </tr>\n",
       "    <tr>\n",
       "      <th>4</th>\n",
       "      <td>CVCL_2313|23863714</td>\n",
       "      <td>0.0</td>\n",
       "      <td>9.356237</td>\n",
       "      <td>10.000000</td>\n",
       "      <td>0.950779</td>\n",
       "      <td>1.030867</td>\n",
       "      <td>0.043856</td>\n",
       "      <td>0.968592</td>\n",
       "      <td>0.050227</td>\n",
       "      <td>0.307164</td>\n",
       "      <td>...</td>\n",
       "      <td>1.884211</td>\n",
       "      <td>1.972001e-01</td>\n",
       "      <td>0.705093</td>\n",
       "      <td>0.023554</td>\n",
       "      <td>-0.000000</td>\n",
       "      <td>not</td>\n",
       "      <td>CVCL_2313</td>\n",
       "      <td>23863714</td>\n",
       "      <td>4.403142e-10</td>\n",
       "      <td>NaN</td>\n",
       "    </tr>\n",
       "    <tr>\n",
       "      <th>...</th>\n",
       "      <td>...</td>\n",
       "      <td>...</td>\n",
       "      <td>...</td>\n",
       "      <td>...</td>\n",
       "      <td>...</td>\n",
       "      <td>...</td>\n",
       "      <td>...</td>\n",
       "      <td>...</td>\n",
       "      <td>...</td>\n",
       "      <td>...</td>\n",
       "      <td>...</td>\n",
       "      <td>...</td>\n",
       "      <td>...</td>\n",
       "      <td>...</td>\n",
       "      <td>...</td>\n",
       "      <td>...</td>\n",
       "      <td>...</td>\n",
       "      <td>...</td>\n",
       "      <td>...</td>\n",
       "      <td>...</td>\n",
       "      <td>...</td>\n",
       "    </tr>\n",
       "    <tr>\n",
       "      <th>387253</th>\n",
       "      <td>CVCL_2791|119607</td>\n",
       "      <td>0.0</td>\n",
       "      <td>3.642926</td>\n",
       "      <td>1.159562</td>\n",
       "      <td>0.943744</td>\n",
       "      <td>0.000100</td>\n",
       "      <td>-2.110915</td>\n",
       "      <td>0.833909</td>\n",
       "      <td>0.122701</td>\n",
       "      <td>0.762375</td>\n",
       "      <td>...</td>\n",
       "      <td>52.135125</td>\n",
       "      <td>1.210272e-18</td>\n",
       "      <td>17.917117</td>\n",
       "      <td>13.119025</td>\n",
       "      <td>7.390291</td>\n",
       "      <td>down</td>\n",
       "      <td>CVCL_2791</td>\n",
       "      <td>119607</td>\n",
       "      <td>2.275487e-04</td>\n",
       "      <td>2.053262e-04</td>\n",
       "    </tr>\n",
       "    <tr>\n",
       "      <th>387254</th>\n",
       "      <td>CVCL_3172|119607</td>\n",
       "      <td>0.0</td>\n",
       "      <td>3.433764</td>\n",
       "      <td>5.555668</td>\n",
       "      <td>1.021270</td>\n",
       "      <td>0.000100</td>\n",
       "      <td>-3.971365</td>\n",
       "      <td>0.972288</td>\n",
       "      <td>0.086440</td>\n",
       "      <td>0.881674</td>\n",
       "      <td>...</td>\n",
       "      <td>121.082713</td>\n",
       "      <td>1.063516e-26</td>\n",
       "      <td>25.973256</td>\n",
       "      <td>37.173978</td>\n",
       "      <td>14.958754</td>\n",
       "      <td>down</td>\n",
       "      <td>CVCL_3172</td>\n",
       "      <td>119607</td>\n",
       "      <td>3.683295e-04</td>\n",
       "      <td>3.711152e-04</td>\n",
       "    </tr>\n",
       "    <tr>\n",
       "      <th>387255</th>\n",
       "      <td>CVCL_3385|119607</td>\n",
       "      <td>0.0</td>\n",
       "      <td>3.808927</td>\n",
       "      <td>0.978513</td>\n",
       "      <td>0.976556</td>\n",
       "      <td>0.000100</td>\n",
       "      <td>-2.282731</td>\n",
       "      <td>0.827193</td>\n",
       "      <td>0.090619</td>\n",
       "      <td>0.884150</td>\n",
       "      <td>...</td>\n",
       "      <td>124.017418</td>\n",
       "      <td>6.127201e-27</td>\n",
       "      <td>26.212738</td>\n",
       "      <td>21.229762</td>\n",
       "      <td>10.558192</td>\n",
       "      <td>down</td>\n",
       "      <td>CVCL_3385</td>\n",
       "      <td>119607</td>\n",
       "      <td>1.552650e-04</td>\n",
       "      <td>1.478592e-04</td>\n",
       "    </tr>\n",
       "    <tr>\n",
       "      <th>387256</th>\n",
       "      <td>CVCL_0023|119607</td>\n",
       "      <td>0.0</td>\n",
       "      <td>3.667447</td>\n",
       "      <td>1.239614</td>\n",
       "      <td>0.989520</td>\n",
       "      <td>0.000100</td>\n",
       "      <td>-2.206097</td>\n",
       "      <td>0.873105</td>\n",
       "      <td>0.083147</td>\n",
       "      <td>0.890768</td>\n",
       "      <td>...</td>\n",
       "      <td>197.755396</td>\n",
       "      <td>6.460253e-42</td>\n",
       "      <td>41.189751</td>\n",
       "      <td>23.892450</td>\n",
       "      <td>13.556124</td>\n",
       "      <td>down</td>\n",
       "      <td>CVCL_0023</td>\n",
       "      <td>119607</td>\n",
       "      <td>2.150569e-04</td>\n",
       "      <td>2.114475e-04</td>\n",
       "    </tr>\n",
       "    <tr>\n",
       "      <th>387257</th>\n",
       "      <td>CVCL_5953|119607</td>\n",
       "      <td>0.0</td>\n",
       "      <td>4.403208</td>\n",
       "      <td>10.000000</td>\n",
       "      <td>0.881085</td>\n",
       "      <td>0.491932</td>\n",
       "      <td>-1.023469</td>\n",
       "      <td>0.662795</td>\n",
       "      <td>0.075541</td>\n",
       "      <td>0.855548</td>\n",
       "      <td>...</td>\n",
       "      <td>25.171637</td>\n",
       "      <td>7.675956e-06</td>\n",
       "      <td>5.114868</td>\n",
       "      <td>4.997944</td>\n",
       "      <td>1.912317</td>\n",
       "      <td>down</td>\n",
       "      <td>CVCL_5953</td>\n",
       "      <td>119607</td>\n",
       "      <td>3.951777e-05</td>\n",
       "      <td>5.810570e-05</td>\n",
       "    </tr>\n",
       "  </tbody>\n",
       "</table>\n",
       "<p>387258 rows × 21 columns</p>\n",
       "</div>"
      ],
      "text/plain": [
       "                      Name  SignalQuality  pEC50_curvecurator      Slope  \\\n",
       "0         CVCL_0620|387447            0.0           11.289833  10.000000   \n",
       "1         CVCL_1579|148198            0.0            9.177362  10.000000   \n",
       "2       CVCL_1579|16220015            0.0            8.636212   2.053603   \n",
       "3         CVCL_0620|148198            0.0           10.993207  10.000000   \n",
       "4       CVCL_2313|23863714            0.0            9.356237  10.000000   \n",
       "...                    ...            ...                 ...        ...   \n",
       "387253    CVCL_2791|119607            0.0            3.642926   1.159562   \n",
       "387254    CVCL_3172|119607            0.0            3.433764   5.555668   \n",
       "387255    CVCL_3385|119607            0.0            3.808927   0.978513   \n",
       "387256    CVCL_0023|119607            0.0            3.667447   1.239614   \n",
       "387257    CVCL_5953|119607            0.0            4.403208  10.000000   \n",
       "\n",
       "           Front      Back  FoldChange  AUC_curvecurator      RMSE        R2  \\\n",
       "0       1.014012  0.940186   -0.088982          0.944098  0.080861  0.098170   \n",
       "1       0.664703  1.331885    0.408800          0.734230  0.253525  0.422818   \n",
       "2       1.003815  0.000100   -0.278676          0.983922  0.060002  0.466851   \n",
       "3       1.000945  0.939873   -0.089462          0.941608  0.067688  0.077560   \n",
       "4       0.950779  1.030867    0.043856          0.968592  0.050227  0.307164   \n",
       "...          ...       ...         ...               ...       ...       ...   \n",
       "387253  0.943744  0.000100   -2.110915          0.833909  0.122701  0.762375   \n",
       "387254  1.021270  0.000100   -3.971365          0.972288  0.086440  0.881674   \n",
       "387255  0.976556  0.000100   -2.282731          0.827193  0.090619  0.884150   \n",
       "387256  0.989520  0.000100   -2.206097          0.873105  0.083147  0.890768   \n",
       "387257  0.881085  0.491932   -1.023469          0.662795  0.075541  0.855548   \n",
       "\n",
       "        ...      fValue        pValue  negLog10pValue  fValueSAMCorrected  \\\n",
       "0       ...    0.462637  8.769858e-01        0.057007            0.053520   \n",
       "1       ...    1.465110  3.922456e-01        0.406442            0.610089   \n",
       "2       ...    1.970208  2.553438e-01        0.592875            0.483826   \n",
       "3       ...    0.357347  9.381578e-01        0.027724            0.049166   \n",
       "4       ...    1.884211  1.972001e-01        0.705093            0.023554   \n",
       "...     ...         ...           ...             ...                 ...   \n",
       "387253  ...   52.135125  1.210272e-18       17.917117           13.119025   \n",
       "387254  ...  121.082713  1.063516e-26       25.973256           37.173978   \n",
       "387255  ...  124.017418  6.127201e-27       26.212738           21.229762   \n",
       "387256  ...  197.755396  6.460253e-42       41.189751           23.892450   \n",
       "387257  ...   25.171637  7.675956e-06        5.114868            4.997944   \n",
       "\n",
       "        RelevanceScore  Regulation cell_line_id   drug_id EC50_curvecurator  \\\n",
       "0            -0.000000         not    CVCL_0620    387447      5.130591e-12   \n",
       "1             0.111661         NaN    CVCL_1579    148198      6.647190e-10   \n",
       "2             0.068242         not    CVCL_1579  16220015      2.310935e-09   \n",
       "3            -0.000000         not    CVCL_0620    148198      1.015765e-11   \n",
       "4            -0.000000         not    CVCL_2313  23863714      4.403142e-10   \n",
       "...                ...         ...          ...       ...               ...   \n",
       "387253        7.390291        down    CVCL_2791    119607      2.275487e-04   \n",
       "387254       14.958754        down    CVCL_3172    119607      3.683295e-04   \n",
       "387255       10.558192        down    CVCL_3385    119607      1.552650e-04   \n",
       "387256       13.556124        down    CVCL_0023    119607      2.150569e-04   \n",
       "387257        1.912317        down    CVCL_5953    119607      3.951777e-05   \n",
       "\n",
       "        IC50_curvecurator  \n",
       "0                     NaN  \n",
       "1                     NaN  \n",
       "2            2.319730e-09  \n",
       "3                     NaN  \n",
       "4                     NaN  \n",
       "...                   ...  \n",
       "387253       2.053262e-04  \n",
       "387254       3.711152e-04  \n",
       "387255       1.478592e-04  \n",
       "387256       2.114475e-04  \n",
       "387257       5.810570e-05  \n",
       "\n",
       "[387258 rows x 21 columns]"
      ]
     },
     "execution_count": 69,
     "metadata": {},
     "output_type": "execute_result"
    }
   ],
   "source": [
    "# load the curvecurator output\n",
    "viability_df = pd.read_csv(\"curvecurator/CTRPv2.csv\", converters={\"cell_line_id\": str, \"drug_id\": str, \"master_cpd_id\": int})\n",
    "# load the processed viabilities from 00_preprocess_raw_for_curvecurator.ipynb\n",
    "mapping_df = pd.read_csv(\"viabilities_processed.csv\", converters={\"ccl_name\": str, \"cpd_name\": str, \"sample\": str, \"drug\": str}, usecols=[\"experiment_id\", \"master_cpd_id\", \"drug\", \"sample\", \"mindose\", \"maxdose\", \"ccl_name\",\"cpd_name\", \"master_ccl_id\"]).drop_duplicates()\n",
    "mapping_df[\"cpd_name\"] = mapping_df[\"cpd_name\"].str.strip()\n",
    "mapping_df[\"drug\"] = mapping_df.drug.astype(str)\n",
    "\n",
    "mapping_df[\"ccl_name\"] = mapping_df[\"ccl_name\"].str.strip()\n",
    "mapping_df[\"master_cpd_id\"] = mapping_df.master_cpd_id.astype(int)\n",
    "\n",
    "viability_df"
   ]
  },
  {
   "cell_type": "code",
   "execution_count": 67,
   "id": "ff0033fc-998a-4c8f-83fc-6330fdbb063b",
   "metadata": {},
   "outputs": [],
   "source": [
    "# load the original data\n",
    "orig_measures_df = pd.read_csv(\"raw/v20.data.curves_post_qc.txt\",converters={\"ccl_name\": str, \"master_cpd_id\": int, \"area_under_curve\": float}, sep=\"\\t\")\n",
    "#orig_measures_df[\"IC50\"] = orig_measures_df[\"IC50 (µM)\"] / 1e6  # original one is in µM, but we need it in M. \n",
    "orig_measures_df[\"EC50\"] = orig_measures_df[\"apparent_ec50_umol\"] / 1e6  # original one is in µM, but we need it in M.\n",
    "orig_measures_df[\"AUC\"] = orig_measures_df[\"area_under_curve\"] / 32 # scale this down from a total of 32 measurements to reach sth. more close to [0,1]"
   ]
  },
  {
   "cell_type": "code",
   "execution_count": 68,
   "id": "2bfaa42c-a2b7-4f1d-b321-fbae5ba7ec80",
   "metadata": {},
   "outputs": [
    {
     "data": {
      "text/html": [
       "<div>\n",
       "<style scoped>\n",
       "    .dataframe tbody tr th:only-of-type {\n",
       "        vertical-align: middle;\n",
       "    }\n",
       "\n",
       "    .dataframe tbody tr th {\n",
       "        vertical-align: top;\n",
       "    }\n",
       "\n",
       "    .dataframe thead th {\n",
       "        text-align: right;\n",
       "    }\n",
       "</style>\n",
       "<table border=\"1\" class=\"dataframe\">\n",
       "  <thead>\n",
       "    <tr style=\"text-align: right;\">\n",
       "      <th></th>\n",
       "      <th>experiment_id</th>\n",
       "      <th>conc_pts_fit</th>\n",
       "      <th>fit_num_param</th>\n",
       "      <th>p1_conf_int_high</th>\n",
       "      <th>p1_conf_int_low</th>\n",
       "      <th>p2_conf_int_high</th>\n",
       "      <th>p2_conf_int_low</th>\n",
       "      <th>p4_conf_int_high</th>\n",
       "      <th>p4_conf_int_low</th>\n",
       "      <th>p1_center</th>\n",
       "      <th>p2_slope</th>\n",
       "      <th>p3_total_decline</th>\n",
       "      <th>p4_baseline</th>\n",
       "      <th>apparent_ec50_umol</th>\n",
       "      <th>pred_pv_high_conc</th>\n",
       "      <th>area_under_curve</th>\n",
       "      <th>master_cpd_id</th>\n",
       "      <th>EC50</th>\n",
       "      <th>AUC</th>\n",
       "    </tr>\n",
       "  </thead>\n",
       "  <tbody>\n",
       "    <tr>\n",
       "      <th>0</th>\n",
       "      <td>1</td>\n",
       "      <td>16</td>\n",
       "      <td>3</td>\n",
       "      <td>-2.852000e+05</td>\n",
       "      <td>2.852000e+05</td>\n",
       "      <td>-2.929000e+04</td>\n",
       "      <td>2.929000e+04</td>\n",
       "      <td>-736900.0000</td>\n",
       "      <td>736900.0000</td>\n",
       "      <td>3.170000e+00</td>\n",
       "      <td>-1.091000e-01</td>\n",
       "      <td>1.23400</td>\n",
       "      <td>-0.23450</td>\n",
       "      <td>8.9980</td>\n",
       "      <td>0.0192</td>\n",
       "      <td>14.7820</td>\n",
       "      <td>1788</td>\n",
       "      <td>8.998000e-06</td>\n",
       "      <td>0.461938</td>\n",
       "    </tr>\n",
       "    <tr>\n",
       "      <th>1</th>\n",
       "      <td>1</td>\n",
       "      <td>16</td>\n",
       "      <td>3</td>\n",
       "      <td>-1.215000e+04</td>\n",
       "      <td>1.216000e+04</td>\n",
       "      <td>-6.401000e+04</td>\n",
       "      <td>6.401000e+04</td>\n",
       "      <td>0.2527</td>\n",
       "      <td>0.6297</td>\n",
       "      <td>4.328000e+00</td>\n",
       "      <td>-5.552000e-02</td>\n",
       "      <td>0.55880</td>\n",
       "      <td>0.44120</td>\n",
       "      <td>20.0800</td>\n",
       "      <td>0.4412</td>\n",
       "      <td>13.3270</td>\n",
       "      <td>3588</td>\n",
       "      <td>2.008000e-05</td>\n",
       "      <td>0.416469</td>\n",
       "    </tr>\n",
       "    <tr>\n",
       "      <th>2</th>\n",
       "      <td>1</td>\n",
       "      <td>16</td>\n",
       "      <td>3</td>\n",
       "      <td>-inf</td>\n",
       "      <td>inf</td>\n",
       "      <td>-inf</td>\n",
       "      <td>inf</td>\n",
       "      <td>-inf</td>\n",
       "      <td>inf</td>\n",
       "      <td>-1.524000e+00</td>\n",
       "      <td>-9.165000e-03</td>\n",
       "      <td>-0.16470</td>\n",
       "      <td>1.16500</td>\n",
       "      <td>0.3477</td>\n",
       "      <td>1.1647</td>\n",
       "      <td>16.0820</td>\n",
       "      <td>12877</td>\n",
       "      <td>3.477000e-07</td>\n",
       "      <td>0.502563</td>\n",
       "    </tr>\n",
       "    <tr>\n",
       "      <th>3</th>\n",
       "      <td>1</td>\n",
       "      <td>11</td>\n",
       "      <td>3</td>\n",
       "      <td>-2.239000e+05</td>\n",
       "      <td>2.239000e+05</td>\n",
       "      <td>-2.489000e+04</td>\n",
       "      <td>2.489000e+04</td>\n",
       "      <td>0.7491</td>\n",
       "      <td>0.9520</td>\n",
       "      <td>-1.391000e+00</td>\n",
       "      <td>-3.000000e-02</td>\n",
       "      <td>0.14950</td>\n",
       "      <td>0.85050</td>\n",
       "      <td>0.3812</td>\n",
       "      <td>0.8505</td>\n",
       "      <td>13.7430</td>\n",
       "      <td>19153</td>\n",
       "      <td>3.812000e-07</td>\n",
       "      <td>0.429469</td>\n",
       "    </tr>\n",
       "    <tr>\n",
       "      <th>4</th>\n",
       "      <td>1</td>\n",
       "      <td>16</td>\n",
       "      <td>3</td>\n",
       "      <td>3.027000e+00</td>\n",
       "      <td>5.758000e+00</td>\n",
       "      <td>-7.256000e-01</td>\n",
       "      <td>4.286000e-01</td>\n",
       "      <td>-0.2099</td>\n",
       "      <td>0.2605</td>\n",
       "      <td>4.393000e+00</td>\n",
       "      <td>-1.485000e-01</td>\n",
       "      <td>0.97470</td>\n",
       "      <td>0.02530</td>\n",
       "      <td>21.0000</td>\n",
       "      <td>0.0253</td>\n",
       "      <td>13.3900</td>\n",
       "      <td>23256</td>\n",
       "      <td>2.100000e-05</td>\n",
       "      <td>0.418438</td>\n",
       "    </tr>\n",
       "    <tr>\n",
       "      <th>...</th>\n",
       "      <td>...</td>\n",
       "      <td>...</td>\n",
       "      <td>...</td>\n",
       "      <td>...</td>\n",
       "      <td>...</td>\n",
       "      <td>...</td>\n",
       "      <td>...</td>\n",
       "      <td>...</td>\n",
       "      <td>...</td>\n",
       "      <td>...</td>\n",
       "      <td>...</td>\n",
       "      <td>...</td>\n",
       "      <td>...</td>\n",
       "      <td>...</td>\n",
       "      <td>...</td>\n",
       "      <td>...</td>\n",
       "      <td>...</td>\n",
       "      <td>...</td>\n",
       "      <td>...</td>\n",
       "    </tr>\n",
       "    <tr>\n",
       "      <th>395258</th>\n",
       "      <td>907</td>\n",
       "      <td>16</td>\n",
       "      <td>3</td>\n",
       "      <td>-2.225000e+00</td>\n",
       "      <td>-6.134000e-02</td>\n",
       "      <td>-2.731000e+00</td>\n",
       "      <td>-1.057000e+00</td>\n",
       "      <td>-0.1030</td>\n",
       "      <td>0.1912</td>\n",
       "      <td>-1.143000e+00</td>\n",
       "      <td>-1.894000e+00</td>\n",
       "      <td>0.95590</td>\n",
       "      <td>0.04408</td>\n",
       "      <td>0.4528</td>\n",
       "      <td>0.0650</td>\n",
       "      <td>8.1182</td>\n",
       "      <td>688975</td>\n",
       "      <td>4.528000e-07</td>\n",
       "      <td>0.253694</td>\n",
       "    </tr>\n",
       "    <tr>\n",
       "      <th>395259</th>\n",
       "      <td>907</td>\n",
       "      <td>16</td>\n",
       "      <td>3</td>\n",
       "      <td>-7.965000e-01</td>\n",
       "      <td>8.120000e-01</td>\n",
       "      <td>-1.591000e+00</td>\n",
       "      <td>-2.254000e-01</td>\n",
       "      <td>0.4622</td>\n",
       "      <td>0.6110</td>\n",
       "      <td>7.758000e-03</td>\n",
       "      <td>-9.083000e-01</td>\n",
       "      <td>0.46340</td>\n",
       "      <td>0.53660</td>\n",
       "      <td>1.0050</td>\n",
       "      <td>0.5372</td>\n",
       "      <td>12.2020</td>\n",
       "      <td>689136</td>\n",
       "      <td>1.005000e-06</td>\n",
       "      <td>0.381312</td>\n",
       "    </tr>\n",
       "    <tr>\n",
       "      <th>395260</th>\n",
       "      <td>907</td>\n",
       "      <td>13</td>\n",
       "      <td>3</td>\n",
       "      <td>-1.946000e+01</td>\n",
       "      <td>1.965000e+01</td>\n",
       "      <td>-4.608000e+01</td>\n",
       "      <td>4.590000e+01</td>\n",
       "      <td>-0.1583</td>\n",
       "      <td>0.2937</td>\n",
       "      <td>9.283000e-02</td>\n",
       "      <td>-9.410000e-02</td>\n",
       "      <td>0.93230</td>\n",
       "      <td>0.06766</td>\n",
       "      <td>1.0670</td>\n",
       "      <td>0.0677</td>\n",
       "      <td>9.4511</td>\n",
       "      <td>689506</td>\n",
       "      <td>1.067000e-06</td>\n",
       "      <td>0.295347</td>\n",
       "    </tr>\n",
       "    <tr>\n",
       "      <th>395261</th>\n",
       "      <td>907</td>\n",
       "      <td>16</td>\n",
       "      <td>2</td>\n",
       "      <td>-1.944000e+08</td>\n",
       "      <td>3.910000e+08</td>\n",
       "      <td>-1.743000e+08</td>\n",
       "      <td>8.664000e+07</td>\n",
       "      <td>NaN</td>\n",
       "      <td>NaN</td>\n",
       "      <td>9.831000e+07</td>\n",
       "      <td>-4.381000e+07</td>\n",
       "      <td>1.00000</td>\n",
       "      <td>0.00000</td>\n",
       "      <td>0.0000</td>\n",
       "      <td>0.9041</td>\n",
       "      <td>13.5620</td>\n",
       "      <td>705300</td>\n",
       "      <td>0.000000e+00</td>\n",
       "      <td>0.423812</td>\n",
       "    </tr>\n",
       "    <tr>\n",
       "      <th>395262</th>\n",
       "      <td>907</td>\n",
       "      <td>16</td>\n",
       "      <td>3</td>\n",
       "      <td>-inf</td>\n",
       "      <td>inf</td>\n",
       "      <td>-inf</td>\n",
       "      <td>inf</td>\n",
       "      <td>-inf</td>\n",
       "      <td>inf</td>\n",
       "      <td>-1.103000e+00</td>\n",
       "      <td>-5.280000e-03</td>\n",
       "      <td>0.08131</td>\n",
       "      <td>0.91870</td>\n",
       "      <td>0.4655</td>\n",
       "      <td>0.9187</td>\n",
       "      <td>14.4190</td>\n",
       "      <td>710154</td>\n",
       "      <td>4.655000e-07</td>\n",
       "      <td>0.450594</td>\n",
       "    </tr>\n",
       "  </tbody>\n",
       "</table>\n",
       "<p>395263 rows × 19 columns</p>\n",
       "</div>"
      ],
      "text/plain": [
       "        experiment_id  conc_pts_fit  fit_num_param  p1_conf_int_high  \\\n",
       "0                   1            16              3     -2.852000e+05   \n",
       "1                   1            16              3     -1.215000e+04   \n",
       "2                   1            16              3              -inf   \n",
       "3                   1            11              3     -2.239000e+05   \n",
       "4                   1            16              3      3.027000e+00   \n",
       "...               ...           ...            ...               ...   \n",
       "395258            907            16              3     -2.225000e+00   \n",
       "395259            907            16              3     -7.965000e-01   \n",
       "395260            907            13              3     -1.946000e+01   \n",
       "395261            907            16              2     -1.944000e+08   \n",
       "395262            907            16              3              -inf   \n",
       "\n",
       "        p1_conf_int_low  p2_conf_int_high  p2_conf_int_low  p4_conf_int_high  \\\n",
       "0          2.852000e+05     -2.929000e+04     2.929000e+04      -736900.0000   \n",
       "1          1.216000e+04     -6.401000e+04     6.401000e+04            0.2527   \n",
       "2                   inf              -inf              inf              -inf   \n",
       "3          2.239000e+05     -2.489000e+04     2.489000e+04            0.7491   \n",
       "4          5.758000e+00     -7.256000e-01     4.286000e-01           -0.2099   \n",
       "...                 ...               ...              ...               ...   \n",
       "395258    -6.134000e-02     -2.731000e+00    -1.057000e+00           -0.1030   \n",
       "395259     8.120000e-01     -1.591000e+00    -2.254000e-01            0.4622   \n",
       "395260     1.965000e+01     -4.608000e+01     4.590000e+01           -0.1583   \n",
       "395261     3.910000e+08     -1.743000e+08     8.664000e+07               NaN   \n",
       "395262              inf              -inf              inf              -inf   \n",
       "\n",
       "        p4_conf_int_low     p1_center      p2_slope  p3_total_decline  \\\n",
       "0           736900.0000  3.170000e+00 -1.091000e-01           1.23400   \n",
       "1                0.6297  4.328000e+00 -5.552000e-02           0.55880   \n",
       "2                   inf -1.524000e+00 -9.165000e-03          -0.16470   \n",
       "3                0.9520 -1.391000e+00 -3.000000e-02           0.14950   \n",
       "4                0.2605  4.393000e+00 -1.485000e-01           0.97470   \n",
       "...                 ...           ...           ...               ...   \n",
       "395258           0.1912 -1.143000e+00 -1.894000e+00           0.95590   \n",
       "395259           0.6110  7.758000e-03 -9.083000e-01           0.46340   \n",
       "395260           0.2937  9.283000e-02 -9.410000e-02           0.93230   \n",
       "395261              NaN  9.831000e+07 -4.381000e+07           1.00000   \n",
       "395262              inf -1.103000e+00 -5.280000e-03           0.08131   \n",
       "\n",
       "        p4_baseline  apparent_ec50_umol  pred_pv_high_conc  area_under_curve  \\\n",
       "0          -0.23450              8.9980             0.0192           14.7820   \n",
       "1           0.44120             20.0800             0.4412           13.3270   \n",
       "2           1.16500              0.3477             1.1647           16.0820   \n",
       "3           0.85050              0.3812             0.8505           13.7430   \n",
       "4           0.02530             21.0000             0.0253           13.3900   \n",
       "...             ...                 ...                ...               ...   \n",
       "395258      0.04408              0.4528             0.0650            8.1182   \n",
       "395259      0.53660              1.0050             0.5372           12.2020   \n",
       "395260      0.06766              1.0670             0.0677            9.4511   \n",
       "395261      0.00000              0.0000             0.9041           13.5620   \n",
       "395262      0.91870              0.4655             0.9187           14.4190   \n",
       "\n",
       "        master_cpd_id          EC50       AUC  \n",
       "0                1788  8.998000e-06  0.461938  \n",
       "1                3588  2.008000e-05  0.416469  \n",
       "2               12877  3.477000e-07  0.502563  \n",
       "3               19153  3.812000e-07  0.429469  \n",
       "4               23256  2.100000e-05  0.418438  \n",
       "...               ...           ...       ...  \n",
       "395258         688975  4.528000e-07  0.253694  \n",
       "395259         689136  1.005000e-06  0.381312  \n",
       "395260         689506  1.067000e-06  0.295347  \n",
       "395261         705300  0.000000e+00  0.423812  \n",
       "395262         710154  4.655000e-07  0.450594  \n",
       "\n",
       "[395263 rows x 19 columns]"
      ]
     },
     "execution_count": 68,
     "metadata": {},
     "output_type": "execute_result"
    }
   ],
   "source": [
    "orig_measures_df"
   ]
  },
  {
   "cell_type": "code",
   "execution_count": 10,
   "id": "d4c18970-6711-4714-b6be-0001813a15c8",
   "metadata": {},
   "outputs": [
    {
     "data": {
      "text/plain": [
       "<Axes: xlabel='conc_pts_fit', ylabel='AUC'>"
      ]
     },
     "execution_count": 10,
     "metadata": {},
     "output_type": "execute_result"
    },
    {
     "data": {
      "image/png": "[encoded data removed]",
      "text/plain": [
       "<Figure size 640x480 with 1 Axes>"
      ]
     },
     "metadata": {},
     "output_type": "display_data"
    }
   ],
   "source": [
    "sns.violinplot(orig_measures_df, y=\"AUC\", x=\"conc_pts_fit\")"
   ]
  },
  {
   "cell_type": "code",
   "execution_count": 76,
   "id": "02a021d5-9434-47a3-a17f-4569a82d4672",
   "metadata": {},
   "outputs": [],
   "source": [
    "# merge curvecurator and original fits\n",
    "mapped_response_df = viability_df[[\"Name\", \"cell_line_id\", \"drug_id\"]].merge(mapping_df, left_on=[\"cell_line_id\", \"drug_id\"], right_on=[\"sample\", \"drug\"])[[\"Name\", \"experiment_id\", \"master_cpd_id\"]].merge(orig_measures_df, on=[\"experiment_id\", \"master_cpd_id\"], how='left').drop(columns=[\"experiment_id\"])\n",
    "mapped_response_df = mapped_response_df.groupby(\"Name\").mean()\n",
    "mapped_response_df = viability_df.merge(mapped_response_df, left_on=[\"Name\"], right_index=True)"
   ]
  },
  {
   "cell_type": "code",
   "execution_count": 81,
   "id": "c560c524-4fcc-4e76-8a95-be6ab6a92ff7",
   "metadata": {},
   "outputs": [
    {
     "data": {
      "text/plain": [
       "<Axes: xlabel='AUC_curvecurator', ylabel='AUC'>"
      ]
     },
     "execution_count": 81,
     "metadata": {},
     "output_type": "execute_result"
    },
    {
     "data": {
      "image/png": "[encoded data removed]",
      "text/plain": [
       "<Figure size 640x480 with 1 Axes>"
      ]
     },
     "metadata": {},
     "output_type": "display_data"
    }
   ],
   "source": [
    "sns.scatterplot(mapped_response_df, x=\"AUC_curvecurator\", y=\"AUC\", s=1)\n",
    "#plt.xlim(1e-9,1e-0)\n",
    "#plt.ylim(1e-9,1e-0)\n",
    "\n",
    "#plt.xscale('log')\n",
    "#plt.yscale('log')"
   ]
  },
  {
   "cell_type": "code",
   "execution_count": 82,
   "id": "021be285-ecd6-41c0-84f0-22bbd8ed6a6c",
   "metadata": {},
   "outputs": [
    {
     "data": {
      "text/plain": [
       "(1e-07, 2e+30)"
      ]
     },
     "execution_count": 82,
     "metadata": {},
     "output_type": "execute_result"
    },
    {
     "data": {
      "image/png": "[encoded data removed]",
      "text/plain": [
       "<Figure size 640x480 with 1 Axes>"
      ]
     },
     "metadata": {},
     "output_type": "display_data"
    }
   ],
   "source": [
    "sns.scatterplot(mapped_response_df, x=\"AUC\",y =\"EC50\")\n",
    "plt.ylim(0.0000001,2e30)"
   ]
  },
  {
   "cell_type": "code",
   "execution_count": 83,
   "id": "308ed052-b30b-4006-8505-af9f7403d3e4",
   "metadata": {},
   "outputs": [
    {
     "data": {
      "text/plain": [
       "(1e-07, 2e+30)"
      ]
     },
     "execution_count": 83,
     "metadata": {},
     "output_type": "execute_result"
    },
    {
     "data": {
      "image/png": "[encoded data removed]",
      "text/plain": [
       "<Figure size 640x480 with 1 Axes>"
      ]
     },
     "metadata": {},
     "output_type": "display_data"
    }
   ],
   "source": [
    "sns.scatterplot(mapped_response_df, x=\"FoldChange\",y =\"EC50\")\n",
    "plt.ylim(0.0000001,2e30)"
   ]
  },
  {
   "cell_type": "code",
   "execution_count": 84,
   "id": "bd00311a-08a6-4315-ac02-76af20842f16",
   "metadata": {},
   "outputs": [
    {
     "name": "stderr",
     "output_type": "stream",
     "text": [
      "/cmnfs/home/m.picciani/miniconda3/envs/drevalpy/lib/python3.11/site-packages/matplotlib/scale.py:255: RuntimeWarning: overflow encountered in power\n",
      "  return np.power(self.base, values)\n"
     ]
    },
    {
     "data": {
      "text/plain": [
       "(1e-16, 0.1)"
      ]
     },
     "execution_count": 84,
     "metadata": {},
     "output_type": "execute_result"
    },
    {
     "data": {
      "image/png": "[encoded data removed]",
      "text/plain": [
       "<Figure size 640x480 with 1 Axes>"
      ]
     },
     "metadata": {},
     "output_type": "display_data"
    }
   ],
   "source": [
    "sns.scatterplot(mapped_response_df, x=\"EC50_curvecurator\",y =\"EC50\", s=1)\n",
    "plt.xscale('log')\n",
    "plt.yscale('log')\n",
    "plt.ylim(1e-16,0.1)"
   ]
  },
  {
   "cell_type": "code",
   "execution_count": 95,
   "id": "f76a865c-fa5a-405b-bd1b-d9bb5e7c9e66",
   "metadata": {},
   "outputs": [
    {
     "data": {
      "text/html": [
       "<div>\n",
       "<style scoped>\n",
       "    .dataframe tbody tr th:only-of-type {\n",
       "        vertical-align: middle;\n",
       "    }\n",
       "\n",
       "    .dataframe tbody tr th {\n",
       "        vertical-align: top;\n",
       "    }\n",
       "\n",
       "    .dataframe thead th {\n",
       "        text-align: right;\n",
       "    }\n",
       "</style>\n",
       "<table border=\"1\" class=\"dataframe\">\n",
       "  <thead>\n",
       "    <tr style=\"text-align: right;\">\n",
       "      <th></th>\n",
       "      <th>Name</th>\n",
       "      <th>SignalQuality</th>\n",
       "      <th>pEC50_curvecurator</th>\n",
       "      <th>Slope</th>\n",
       "      <th>Front</th>\n",
       "      <th>Back</th>\n",
       "      <th>FoldChange</th>\n",
       "      <th>AUC_curvecurator</th>\n",
       "      <th>RMSE</th>\n",
       "      <th>R2</th>\n",
       "      <th>...</th>\n",
       "      <th>p4_conf_int_low</th>\n",
       "      <th>p1_center</th>\n",
       "      <th>p2_slope</th>\n",
       "      <th>p3_total_decline</th>\n",
       "      <th>p4_baseline</th>\n",
       "      <th>apparent_ec50_umol</th>\n",
       "      <th>pred_pv_high_conc</th>\n",
       "      <th>area_under_curve</th>\n",
       "      <th>EC50</th>\n",
       "      <th>AUC</th>\n",
       "    </tr>\n",
       "  </thead>\n",
       "  <tbody>\n",
       "    <tr>\n",
       "      <th>1380</th>\n",
       "      <td>CVCL_0006|148198</td>\n",
       "      <td>0.0</td>\n",
       "      <td>6.506285</td>\n",
       "      <td>10.000000</td>\n",
       "      <td>0.978681</td>\n",
       "      <td>0.000100</td>\n",
       "      <td>-0.602658</td>\n",
       "      <td>0.974958</td>\n",
       "      <td>0.123499</td>\n",
       "      <td>0.276766</td>\n",
       "      <td>...</td>\n",
       "      <td>NaN</td>\n",
       "      <td>523.00</td>\n",
       "      <td>-172.2000</td>\n",
       "      <td>1.0</td>\n",
       "      <td>0.0</td>\n",
       "      <td>2.773000e+157</td>\n",
       "      <td>0.95470</td>\n",
       "      <td>14.3480</td>\n",
       "      <td>2.773000e+151</td>\n",
       "      <td>0.448375</td>\n",
       "    </tr>\n",
       "    <tr>\n",
       "      <th>7221</th>\n",
       "      <td>CVCL_5103|44607531</td>\n",
       "      <td>0.0</td>\n",
       "      <td>7.943939</td>\n",
       "      <td>10.000000</td>\n",
       "      <td>1.102744</td>\n",
       "      <td>1.262846</td>\n",
       "      <td>0.336679</td>\n",
       "      <td>1.226460</td>\n",
       "      <td>0.170311</td>\n",
       "      <td>0.171883</td>\n",
       "      <td>...</td>\n",
       "      <td>NaN</td>\n",
       "      <td>827.40</td>\n",
       "      <td>-0.3426</td>\n",
       "      <td>1.0</td>\n",
       "      <td>0.0</td>\n",
       "      <td>1.169000e+249</td>\n",
       "      <td>1.00000</td>\n",
       "      <td>15.0000</td>\n",
       "      <td>1.169000e+243</td>\n",
       "      <td>0.468750</td>\n",
       "    </tr>\n",
       "    <tr>\n",
       "      <th>7687</th>\n",
       "      <td>CVCL_1151|5702613</td>\n",
       "      <td>0.0</td>\n",
       "      <td>5.153675</td>\n",
       "      <td>10.000000</td>\n",
       "      <td>0.977263</td>\n",
       "      <td>0.863582</td>\n",
       "      <td>-0.181947</td>\n",
       "      <td>0.974743</td>\n",
       "      <td>0.096846</td>\n",
       "      <td>0.062776</td>\n",
       "      <td>...</td>\n",
       "      <td>NaN</td>\n",
       "      <td>440.60</td>\n",
       "      <td>-133.7000</td>\n",
       "      <td>1.0</td>\n",
       "      <td>0.0</td>\n",
       "      <td>4.390000e+132</td>\n",
       "      <td>0.96350</td>\n",
       "      <td>14.4700</td>\n",
       "      <td>4.390000e+126</td>\n",
       "      <td>0.452188</td>\n",
       "    </tr>\n",
       "    <tr>\n",
       "      <th>11179</th>\n",
       "      <td>CVCL_1169|132971</td>\n",
       "      <td>0.0</td>\n",
       "      <td>4.630534</td>\n",
       "      <td>10.000000</td>\n",
       "      <td>0.975278</td>\n",
       "      <td>0.000100</td>\n",
       "      <td>-0.093693</td>\n",
       "      <td>0.974904</td>\n",
       "      <td>0.041112</td>\n",
       "      <td>0.046747</td>\n",
       "      <td>...</td>\n",
       "      <td>NaN</td>\n",
       "      <td>793.90</td>\n",
       "      <td>-226.3000</td>\n",
       "      <td>1.0</td>\n",
       "      <td>0.0</td>\n",
       "      <td>9.411000e+238</td>\n",
       "      <td>0.97040</td>\n",
       "      <td>14.5700</td>\n",
       "      <td>9.411000e+232</td>\n",
       "      <td>0.455313</td>\n",
       "    </tr>\n",
       "    <tr>\n",
       "      <th>11634</th>\n",
       "      <td>CVCL_1340|73265342</td>\n",
       "      <td>0.0</td>\n",
       "      <td>8.608804</td>\n",
       "      <td>10.000000</td>\n",
       "      <td>1.016143</td>\n",
       "      <td>0.985198</td>\n",
       "      <td>-0.021514</td>\n",
       "      <td>0.989875</td>\n",
       "      <td>0.039231</td>\n",
       "      <td>0.089007</td>\n",
       "      <td>...</td>\n",
       "      <td>NaN</td>\n",
       "      <td>423.40</td>\n",
       "      <td>-91.4300</td>\n",
       "      <td>1.0</td>\n",
       "      <td>0.0</td>\n",
       "      <td>2.927000e+127</td>\n",
       "      <td>0.98990</td>\n",
       "      <td>14.8600</td>\n",
       "      <td>2.927000e+121</td>\n",
       "      <td>0.464375</td>\n",
       "    </tr>\n",
       "    <tr>\n",
       "      <th>...</th>\n",
       "      <td>...</td>\n",
       "      <td>...</td>\n",
       "      <td>...</td>\n",
       "      <td>...</td>\n",
       "      <td>...</td>\n",
       "      <td>...</td>\n",
       "      <td>...</td>\n",
       "      <td>...</td>\n",
       "      <td>...</td>\n",
       "      <td>...</td>\n",
       "      <td>...</td>\n",
       "      <td>...</td>\n",
       "      <td>...</td>\n",
       "      <td>...</td>\n",
       "      <td>...</td>\n",
       "      <td>...</td>\n",
       "      <td>...</td>\n",
       "      <td>...</td>\n",
       "      <td>...</td>\n",
       "      <td>...</td>\n",
       "      <td>...</td>\n",
       "    </tr>\n",
       "    <tr>\n",
       "      <th>382845</th>\n",
       "      <td>CVCL_1987|2126</td>\n",
       "      <td>0.0</td>\n",
       "      <td>3.026497</td>\n",
       "      <td>10.000000</td>\n",
       "      <td>0.999986</td>\n",
       "      <td>21.916264</td>\n",
       "      <td>0.093696</td>\n",
       "      <td>1.000632</td>\n",
       "      <td>0.035405</td>\n",
       "      <td>0.169814</td>\n",
       "      <td>...</td>\n",
       "      <td>NaN</td>\n",
       "      <td>940.70</td>\n",
       "      <td>-24.5900</td>\n",
       "      <td>1.0</td>\n",
       "      <td>0.0</td>\n",
       "      <td>1.485000e+283</td>\n",
       "      <td>1.00000</td>\n",
       "      <td>15.0000</td>\n",
       "      <td>1.485000e+277</td>\n",
       "      <td>0.468750</td>\n",
       "    </tr>\n",
       "    <tr>\n",
       "      <th>383983</th>\n",
       "      <td>CVCL_5063|252682</td>\n",
       "      <td>0.0</td>\n",
       "      <td>3.574825</td>\n",
       "      <td>4.269493</td>\n",
       "      <td>0.878884</td>\n",
       "      <td>0.784046</td>\n",
       "      <td>-0.342257</td>\n",
       "      <td>0.872499</td>\n",
       "      <td>0.082769</td>\n",
       "      <td>0.075813</td>\n",
       "      <td>...</td>\n",
       "      <td>NaN</td>\n",
       "      <td>377.80</td>\n",
       "      <td>-203.4000</td>\n",
       "      <td>1.0</td>\n",
       "      <td>0.0</td>\n",
       "      <td>5.328000e+113</td>\n",
       "      <td>0.85970</td>\n",
       "      <td>12.9610</td>\n",
       "      <td>5.328000e+107</td>\n",
       "      <td>0.405031</td>\n",
       "    </tr>\n",
       "    <tr>\n",
       "      <th>384199</th>\n",
       "      <td>CVCL_6805|135398744</td>\n",
       "      <td>0.0</td>\n",
       "      <td>4.013549</td>\n",
       "      <td>10.000000</td>\n",
       "      <td>1.001358</td>\n",
       "      <td>1.073621</td>\n",
       "      <td>0.102485</td>\n",
       "      <td>1.013153</td>\n",
       "      <td>0.067433</td>\n",
       "      <td>0.141456</td>\n",
       "      <td>...</td>\n",
       "      <td>NaN</td>\n",
       "      <td>465.70</td>\n",
       "      <td>-21.0600</td>\n",
       "      <td>1.0</td>\n",
       "      <td>0.0</td>\n",
       "      <td>1.563000e+140</td>\n",
       "      <td>1.00000</td>\n",
       "      <td>15.0000</td>\n",
       "      <td>1.563000e+134</td>\n",
       "      <td>0.468750</td>\n",
       "    </tr>\n",
       "    <tr>\n",
       "      <th>384668</th>\n",
       "      <td>CVCL_0459|2113511</td>\n",
       "      <td>0.0</td>\n",
       "      <td>3.213062</td>\n",
       "      <td>10.000000</td>\n",
       "      <td>0.954763</td>\n",
       "      <td>0.000100</td>\n",
       "      <td>-0.372724</td>\n",
       "      <td>0.952817</td>\n",
       "      <td>0.060436</td>\n",
       "      <td>0.344816</td>\n",
       "      <td>...</td>\n",
       "      <td>NaN</td>\n",
       "      <td>493.88</td>\n",
       "      <td>-147.3730</td>\n",
       "      <td>1.0</td>\n",
       "      <td>0.0</td>\n",
       "      <td>2.322500e+289</td>\n",
       "      <td>0.90805</td>\n",
       "      <td>14.1515</td>\n",
       "      <td>2.322500e+283</td>\n",
       "      <td>0.442234</td>\n",
       "    </tr>\n",
       "    <tr>\n",
       "      <th>385212</th>\n",
       "      <td>CVCL_1125|46783268</td>\n",
       "      <td>0.0</td>\n",
       "      <td>3.161477</td>\n",
       "      <td>10.000000</td>\n",
       "      <td>0.951457</td>\n",
       "      <td>0.000100</td>\n",
       "      <td>-0.347386</td>\n",
       "      <td>0.949709</td>\n",
       "      <td>0.055376</td>\n",
       "      <td>0.336981</td>\n",
       "      <td>...</td>\n",
       "      <td>NaN</td>\n",
       "      <td>838.60</td>\n",
       "      <td>-307.0000</td>\n",
       "      <td>1.0</td>\n",
       "      <td>0.0</td>\n",
       "      <td>2.804000e+252</td>\n",
       "      <td>0.93710</td>\n",
       "      <td>14.0780</td>\n",
       "      <td>2.804000e+246</td>\n",
       "      <td>0.439937</td>\n",
       "    </tr>\n",
       "  </tbody>\n",
       "</table>\n",
       "<p>358 rows × 39 columns</p>\n",
       "</div>"
      ],
      "text/plain": [
       "                       Name  SignalQuality  pEC50_curvecurator      Slope  \\\n",
       "1380       CVCL_0006|148198            0.0            6.506285  10.000000   \n",
       "7221     CVCL_5103|44607531            0.0            7.943939  10.000000   \n",
       "7687      CVCL_1151|5702613            0.0            5.153675  10.000000   \n",
       "11179      CVCL_1169|132971            0.0            4.630534  10.000000   \n",
       "11634    CVCL_1340|73265342            0.0            8.608804  10.000000   \n",
       "...                     ...            ...                 ...        ...   \n",
       "382845       CVCL_1987|2126            0.0            3.026497  10.000000   \n",
       "383983     CVCL_5063|252682            0.0            3.574825   4.269493   \n",
       "384199  CVCL_6805|135398744            0.0            4.013549  10.000000   \n",
       "384668    CVCL_0459|2113511            0.0            3.213062  10.000000   \n",
       "385212   CVCL_1125|46783268            0.0            3.161477  10.000000   \n",
       "\n",
       "           Front       Back  FoldChange  AUC_curvecurator      RMSE        R2  \\\n",
       "1380    0.978681   0.000100   -0.602658          0.974958  0.123499  0.276766   \n",
       "7221    1.102744   1.262846    0.336679          1.226460  0.170311  0.171883   \n",
       "7687    0.977263   0.863582   -0.181947          0.974743  0.096846  0.062776   \n",
       "11179   0.975278   0.000100   -0.093693          0.974904  0.041112  0.046747   \n",
       "11634   1.016143   0.985198   -0.021514          0.989875  0.039231  0.089007   \n",
       "...          ...        ...         ...               ...       ...       ...   \n",
       "382845  0.999986  21.916264    0.093696          1.000632  0.035405  0.169814   \n",
       "383983  0.878884   0.784046   -0.342257          0.872499  0.082769  0.075813   \n",
       "384199  1.001358   1.073621    0.102485          1.013153  0.067433  0.141456   \n",
       "384668  0.954763   0.000100   -0.372724          0.952817  0.060436  0.344816   \n",
       "385212  0.951457   0.000100   -0.347386          0.949709  0.055376  0.336981   \n",
       "\n",
       "        ...  p4_conf_int_low  p1_center  p2_slope  p3_total_decline  \\\n",
       "1380    ...              NaN     523.00 -172.2000               1.0   \n",
       "7221    ...              NaN     827.40   -0.3426               1.0   \n",
       "7687    ...              NaN     440.60 -133.7000               1.0   \n",
       "11179   ...              NaN     793.90 -226.3000               1.0   \n",
       "11634   ...              NaN     423.40  -91.4300               1.0   \n",
       "...     ...              ...        ...       ...               ...   \n",
       "382845  ...              NaN     940.70  -24.5900               1.0   \n",
       "383983  ...              NaN     377.80 -203.4000               1.0   \n",
       "384199  ...              NaN     465.70  -21.0600               1.0   \n",
       "384668  ...              NaN     493.88 -147.3730               1.0   \n",
       "385212  ...              NaN     838.60 -307.0000               1.0   \n",
       "\n",
       "        p4_baseline  apparent_ec50_umol pred_pv_high_conc area_under_curve  \\\n",
       "1380            0.0       2.773000e+157           0.95470          14.3480   \n",
       "7221            0.0       1.169000e+249           1.00000          15.0000   \n",
       "7687            0.0       4.390000e+132           0.96350          14.4700   \n",
       "11179           0.0       9.411000e+238           0.97040          14.5700   \n",
       "11634           0.0       2.927000e+127           0.98990          14.8600   \n",
       "...             ...                 ...               ...              ...   \n",
       "382845          0.0       1.485000e+283           1.00000          15.0000   \n",
       "383983          0.0       5.328000e+113           0.85970          12.9610   \n",
       "384199          0.0       1.563000e+140           1.00000          15.0000   \n",
       "384668          0.0       2.322500e+289           0.90805          14.1515   \n",
       "385212          0.0       2.804000e+252           0.93710          14.0780   \n",
       "\n",
       "                 EC50       AUC  \n",
       "1380    2.773000e+151  0.448375  \n",
       "7221    1.169000e+243  0.468750  \n",
       "7687    4.390000e+126  0.452188  \n",
       "11179   9.411000e+232  0.455313  \n",
       "11634   2.927000e+121  0.464375  \n",
       "...               ...       ...  \n",
       "382845  1.485000e+277  0.468750  \n",
       "383983  5.328000e+107  0.405031  \n",
       "384199  1.563000e+134  0.468750  \n",
       "384668  2.322500e+283  0.442234  \n",
       "385212  2.804000e+246  0.439937  \n",
       "\n",
       "[358 rows x 39 columns]"
      ]
     },
     "execution_count": 95,
     "metadata": {},
     "output_type": "execute_result"
    }
   ],
   "source": [
    "mapped_response_df.query(\"EC50>1e100\")"
   ]
  },
  {
   "cell_type": "code",
   "execution_count": 96,
   "id": "298c2503-a4c0-476e-a8bf-98f9b30cc1ee",
   "metadata": {},
   "outputs": [
    {
     "name": "stderr",
     "output_type": "stream",
     "text": [
      "posx and posy should be finite values\n",
      "posx and posy should be finite values\n",
      "posx and posy should be finite values\n"
     ]
    },
    {
     "data": {
      "image/png": "[encoded data removed]",
      "text/plain": [
       "<Figure size 2000x500 with 1 Axes>"
      ]
     },
     "metadata": {},
     "output_type": "display_data"
    }
   ],
   "source": [
    "import matplotlib.pyplot as plt\n",
    "import numpy as np\n",
    "\n",
    "plt.figure(figsize=(20,5))\n",
    "\n",
    "xvals = np.linspace(-9,-1, 10000)\n",
    "\n",
    "index = 383983\n",
    "front = mapped_response_df.loc[index, \"Front\"]\n",
    "back = mapped_response_df.loc[index, \"Back\"]\n",
    "pec50 = mapped_response_df.loc[index, \"pEC50_curvecurator\"]\n",
    "ec50 = mapped_response_df.loc[index, \"EC50_curvecurator\"]\n",
    "\n",
    "slope = mapped_response_df.loc[index, \"Slope\"]\n",
    "ic50 = mapped_response_df.loc[index, \"IC50_curvecurator\"]\n",
    "#origic50 = mapped_response_df.loc[index, \"IC50\"]\n",
    "origec50 = mapped_response_df.loc[index, \"EC50\"]\n",
    "\n",
    "\n",
    "y = (front - back) / (1 + 10 ** (slope * (xvals + pec50))) + back\n",
    "plt.scatter(10**xvals, \ty, s=1)\n",
    "\n",
    "\n",
    "plt.axvline(origec50, linestyle='--')\n",
    "plt.text(x=origec50, y=0.8, s='EC50 orig', color='blue')\n",
    "\n",
    "plt.axvline(ic50, color=\"red\")\n",
    "plt.text(x=ic50, y=1.0, s='IC50 curvecurator', color='red')\n",
    "\n",
    "plt.axvline(ec50, color=\"orange\")\n",
    "plt.text(x=ec50, y=0.6, s='EC50 curvecurator', color='orange')\n",
    "\n",
    "plt.axhline(0.5)\n",
    "\n",
    "plt.xscale('log')\n"
   ]
  },
  {
   "cell_type": "code",
   "execution_count": 97,
   "id": "7ecae377-eb9b-4730-bc24-9ff9153a20eb",
   "metadata": {},
   "outputs": [],
   "source": [
    "mapped_response_df.to_csv(\"CTRPv2_for_drevalpy.csv\")"
   ]
  },
  {
   "cell_type": "code",
   "execution_count": null,
   "id": "b98fdaf3-465e-4312-901a-d733de000599",
   "metadata": {},
   "outputs": [],
   "source": []
  }
 ],
 "metadata": {
  "kernelspec": {
   "display_name": "Python 3 (ipykernel)",
   "language": "python",
   "name": "python3"
  },
  "language_info": {
   "codemirror_mode": {
    "name": "ipython",
    "version": 3
   },
   "file_extension": ".py",
   "mimetype": "text/x-python",
   "name": "python",
   "nbconvert_exporter": "python",
   "pygments_lexer": "ipython3",
   "version": "3.11.10"
  }
 },
 "nbformat": 4,
 "nbformat_minor": 5
}
