{
 "cells": [
  {
   "cell_type": "markdown",
   "id": "011d7116-2417-4019-826d-2db40e53e710",
   "metadata": {},
   "source": [
    "# Prepare raw data for curvecurator"
   ]
  },
  {
   "cell_type": "code",
   "execution_count": 1,
   "id": "b5ffc998-c7f8-4ba1-ba37-93644cde9e76",
   "metadata": {
    "ExecuteTime": {
     "end_time": "2025-02-07T10:46:34.234169Z",
     "start_time": "2025-02-07T10:46:33.922106Z"
    }
   },
   "outputs": [],
   "source": [
    "import pandas as pd\n",
    "from pathlib import Path\n",
    "import numpy as np\n",
    "import seaborn as sns\n",
    "import matplotlib.pyplot as plt\n",
    "import pubchempy as pcp\n",
    "from Bio.ExPASy import cellosaurus\n",
    "import toml\n",
    "from drevalpy.datasets.curvecurator import preprocess, _exec_curvecurator, postprocess"
   ]
  },
  {
   "cell_type": "markdown",
   "id": "853a32f9-b38c-4bd9-b57f-8fc8ad09faf2",
   "metadata": {},
   "source": [
    "## Load Data"
   ]
  },
  {
   "cell_type": "code",
   "execution_count": 2,
   "id": "877b4809-4171-4e7e-9bec-e63b180bbc4d",
   "metadata": {
    "ExecuteTime": {
     "end_time": "2025-02-07T10:46:35.222736Z",
     "start_time": "2025-02-07T10:46:35.157098Z"
    }
   },
   "outputs": [],
   "source": [
    "RAW_FILE_PATH = Path(\"CTRPv1.0_2013_pub_Cell_154_1151/v10.D2.avg_pct_viability_data.txt\")"
   ]
  },
  {
   "cell_type": "code",
   "execution_count": 3,
   "id": "419e7f0f-33ac-48dd-bf67-e3996a8adc0c",
   "metadata": {
    "ExecuteTime": {
     "end_time": "2025-02-07T10:46:35.881471Z",
     "start_time": "2025-02-07T10:46:35.616649Z"
    }
   },
   "outputs": [
    {
     "data": {
      "text/plain": "        ccl_name                         cpd_name well_role  cpd_conc_umol  \\\n195409      5637  (-)-gallocatechin-3-monogallate       Cpd         0.2890   \n195410      5637  (-)-gallocatechin-3-monogallate       Cpd         0.5780   \n195411      5637  (-)-gallocatechin-3-monogallate       Cpd         1.1563   \n195412      5637  (-)-gallocatechin-3-monogallate       Cpd         2.3123   \n195413      5637  (-)-gallocatechin-3-monogallate       Cpd         4.6250   \n...          ...                              ...       ...            ...   \n46034   WSUDLCL2                         zileuton       Cpd        33.3330   \n46035   WSUDLCL2                         zileuton       Cpd        66.6670   \n46036   WSUDLCL2                         zileuton       Cpd       133.3300   \n46037   WSUDLCL2                         zileuton       Cpd       266.6700   \n46038   WSUDLCL2                         zileuton       Cpd       533.3300   \n\n        cpd_avg_pv  \n195409    0.907442  \n195410    0.903863  \n195411    0.942774  \n195412    0.899073  \n195413    0.933793  \n...            ...  \n46034     0.933906  \n46035     1.032896  \n46036     0.934276  \n46037     0.869657  \n46038     0.688523  \n\n[523809 rows x 5 columns]",
      "text/html": "<div>\n<style scoped>\n    .dataframe tbody tr th:only-of-type {\n        vertical-align: middle;\n    }\n\n    .dataframe tbody tr th {\n        vertical-align: top;\n    }\n\n    .dataframe thead th {\n        text-align: right;\n    }\n</style>\n<table border=\"1\" class=\"dataframe\">\n  <thead>\n    <tr style=\"text-align: right;\">\n      <th></th>\n      <th>ccl_name</th>\n      <th>cpd_name</th>\n      <th>well_role</th>\n      <th>cpd_conc_umol</th>\n      <th>cpd_avg_pv</th>\n    </tr>\n  </thead>\n  <tbody>\n    <tr>\n      <th>195409</th>\n      <td>5637</td>\n      <td>(-)-gallocatechin-3-monogallate</td>\n      <td>Cpd</td>\n      <td>0.2890</td>\n      <td>0.907442</td>\n    </tr>\n    <tr>\n      <th>195410</th>\n      <td>5637</td>\n      <td>(-)-gallocatechin-3-monogallate</td>\n      <td>Cpd</td>\n      <td>0.5780</td>\n      <td>0.903863</td>\n    </tr>\n    <tr>\n      <th>195411</th>\n      <td>5637</td>\n      <td>(-)-gallocatechin-3-monogallate</td>\n      <td>Cpd</td>\n      <td>1.1563</td>\n      <td>0.942774</td>\n    </tr>\n    <tr>\n      <th>195412</th>\n      <td>5637</td>\n      <td>(-)-gallocatechin-3-monogallate</td>\n      <td>Cpd</td>\n      <td>2.3123</td>\n      <td>0.899073</td>\n    </tr>\n    <tr>\n      <th>195413</th>\n      <td>5637</td>\n      <td>(-)-gallocatechin-3-monogallate</td>\n      <td>Cpd</td>\n      <td>4.6250</td>\n      <td>0.933793</td>\n    </tr>\n    <tr>\n      <th>...</th>\n      <td>...</td>\n      <td>...</td>\n      <td>...</td>\n      <td>...</td>\n      <td>...</td>\n    </tr>\n    <tr>\n      <th>46034</th>\n      <td>WSUDLCL2</td>\n      <td>zileuton</td>\n      <td>Cpd</td>\n      <td>33.3330</td>\n      <td>0.933906</td>\n    </tr>\n    <tr>\n      <th>46035</th>\n      <td>WSUDLCL2</td>\n      <td>zileuton</td>\n      <td>Cpd</td>\n      <td>66.6670</td>\n      <td>1.032896</td>\n    </tr>\n    <tr>\n      <th>46036</th>\n      <td>WSUDLCL2</td>\n      <td>zileuton</td>\n      <td>Cpd</td>\n      <td>133.3300</td>\n      <td>0.934276</td>\n    </tr>\n    <tr>\n      <th>46037</th>\n      <td>WSUDLCL2</td>\n      <td>zileuton</td>\n      <td>Cpd</td>\n      <td>266.6700</td>\n      <td>0.869657</td>\n    </tr>\n    <tr>\n      <th>46038</th>\n      <td>WSUDLCL2</td>\n      <td>zileuton</td>\n      <td>Cpd</td>\n      <td>533.3300</td>\n      <td>0.688523</td>\n    </tr>\n  </tbody>\n</table>\n<p>523809 rows × 5 columns</p>\n</div>"
     },
     "execution_count": 3,
     "metadata": {},
     "output_type": "execute_result"
    }
   ],
   "source": [
    "raw_df = pd.read_csv(RAW_FILE_PATH, sep='\\t')\n",
    "raw_df = raw_df.sort_values([\"ccl_name\", \"cpd_name\", \"cpd_conc_umol\"])\n",
    "raw_df"
   ]
  },
  {
   "cell_type": "markdown",
   "id": "6f92a1e7-cb91-4162-b103-feb235c64d67",
   "metadata": {},
   "source": [
    "## Prepare data"
   ]
  },
  {
   "cell_type": "code",
   "execution_count": 4,
   "id": "29c87a2a-3311-48cc-86ea-7b82468e9341",
   "metadata": {
    "ExecuteTime": {
     "end_time": "2025-02-07T10:46:41.925228Z",
     "start_time": "2025-02-07T10:46:41.883846Z"
    }
   },
   "outputs": [],
   "source": [
    "## fix low doses that are similar to the 6th digit\n",
    "raw_df.loc[raw_df.cpd_conc_umol == 0.0040623, 'cpd_conc_umol'] = 0.0040625\n",
    "raw_df.loc[raw_df.cpd_conc_umol == 0.0040627, 'cpd_conc_umol'] = 0.0040625\n",
    "\n",
    "raw_df.loc[raw_df.cpd_conc_umol == 0.0020312, 'cpd_conc_umol'] = 0.00203125\n",
    "raw_df.loc[raw_df.cpd_conc_umol == 0.0020313, 'cpd_conc_umol'] = 0.00203125"
   ]
  },
  {
   "cell_type": "code",
   "execution_count": 5,
   "id": "d43ee696-49fe-45c4-acb5-e141293fdf6f",
   "metadata": {
    "ExecuteTime": {
     "end_time": "2025-02-07T10:46:43.284485Z",
     "start_time": "2025-02-07T10:46:43.252659Z"
    }
   },
   "outputs": [],
   "source": [
    "# make pubchem_cids to ints\n",
    "drug_df = pd.read_csv(\"CTRPv1.0_2013_pub_Cell_154_1151/v10.M1.informer_set.txt\", sep=\"\\t\")\n",
    "drug_df[\"pubchem_cid\"] = drug_df.pubchem_cid.fillna(-1).astype(int)"
   ]
  },
  {
   "cell_type": "code",
   "execution_count": 6,
   "id": "87cd17dc-7001-4445-aab9-96cf36d06d7b",
   "metadata": {
    "ExecuteTime": {
     "end_time": "2025-02-07T10:46:43.816900Z",
     "start_time": "2025-02-07T10:46:43.705641Z"
    }
   },
   "outputs": [],
   "source": [
    "full_df = raw_df.merge(drug_df, on=\"cpd_name\")"
   ]
  },
  {
   "cell_type": "markdown",
   "id": "4a33000b-83c3-4bde-bf71-e0d266a93f5e",
   "metadata": {},
   "source": [
    "## Creating replicate information"
   ]
  },
  {
   "cell_type": "code",
   "execution_count": 7,
   "id": "40bf5db6-bc66-47d5-8ce4-a89fb3f7a075",
   "metadata": {
    "ExecuteTime": {
     "end_time": "2025-02-07T10:46:45.968740Z",
     "start_time": "2025-02-07T10:46:45.703067Z"
    }
   },
   "outputs": [
    {
     "data": {
      "text/plain": "        ccl_name                         cpd_name well_role  cpd_conc_umol  \\\n0           5637  (-)-gallocatechin-3-monogallate       Cpd         0.2890   \n1           5637  (-)-gallocatechin-3-monogallate       Cpd         0.5780   \n2           5637  (-)-gallocatechin-3-monogallate       Cpd         1.1563   \n3           5637  (-)-gallocatechin-3-monogallate       Cpd         2.3123   \n4           5637  (-)-gallocatechin-3-monogallate       Cpd         4.6250   \n...          ...                              ...       ...            ...   \n523804  WSUDLCL2                         zileuton       Cpd        33.3330   \n523805  WSUDLCL2                         zileuton       Cpd        66.6670   \n523806  WSUDLCL2                         zileuton       Cpd       133.3300   \n523807  WSUDLCL2                         zileuton       Cpd       266.6700   \n523808  WSUDLCL2                         zileuton       Cpd       533.3300   \n\n        cpd_avg_pv                      cpd_synonym    cpd_status  \\\n0         0.907442  gallocatechin gallate;L-GCG;GCG         probe   \n1         0.903863  gallocatechin gallate;L-GCG;GCG         probe   \n2         0.942774  gallocatechin gallate;L-GCG;GCG         probe   \n3         0.899073  gallocatechin gallate;L-GCG;GCG         probe   \n4         0.933793  gallocatechin gallate;L-GCG;GCG         probe   \n...            ...                              ...           ...   \n523804    0.933906                            Zyflo  FDA-approved   \n523805    1.032896                            Zyflo  FDA-approved   \n523806    0.934276                            Zyflo  FDA-approved   \n523807    0.869657                            Zyflo  FDA-approved   \n523808    0.688523                            Zyflo  FDA-approved   \n\n       target_or_activity_of_compound gene_symbol_of_protein_target  \\\n0                     natural product                           NaN   \n1                     natural product                           NaN   \n2                     natural product                           NaN   \n3                     natural product                           NaN   \n4                     natural product                           NaN   \n...                               ...                           ...   \n523804    inhibitor of 5-lipoxygenase                         ALOX5   \n523805    inhibitor of 5-lipoxygenase                         ALOX5   \n523806    inhibitor of 5-lipoxygenase                         ALOX5   \n523807    inhibitor of 5-lipoxygenase                         ALOX5   \n523808    inhibitor of 5-lipoxygenase                         ALOX5   \n\n        top_test_conc_umol  percent_cpd_purity  \\\n0                   296.00                 NaN   \n1                   296.00                 NaN   \n2                   296.00                 NaN   \n3                   296.00                 NaN   \n4                   296.00                 NaN   \n...                    ...                 ...   \n523804              533.33                87.0   \n523805              533.33                87.0   \n523806              533.33                87.0   \n523807              533.33                87.0   \n523808              533.33                87.0   \n\n                                               cpd_smiles  pubchem_cid  \\\n0       Oc1cc(O)c2C[C@@H](OC(=O)c3cc(O)c(O)c(O)c3)[C@@...       199472   \n1       Oc1cc(O)c2C[C@@H](OC(=O)c3cc(O)c(O)c(O)c3)[C@@...       199472   \n2       Oc1cc(O)c2C[C@@H](OC(=O)c3cc(O)c(O)c(O)c3)[C@@...       199472   \n3       Oc1cc(O)c2C[C@@H](OC(=O)c3cc(O)c(O)c(O)c3)[C@@...       199472   \n4       Oc1cc(O)c2C[C@@H](OC(=O)c3cc(O)c(O)c(O)c3)[C@@...       199472   \n...                                                   ...          ...   \n523804                        CC(N(O)C(=O)N)c1cc2ccccc2s1        60490   \n523805                        CC(N(O)C(=O)N)c1cc2ccccc2s1        60490   \n523806                        CC(N(O)C(=O)N)c1cc2ccccc2s1        60490   \n523807                        CC(N(O)C(=O)N)c1cc2ccccc2s1        60490   \n523808                        CC(N(O)C(=O)N)c1cc2ccccc2s1        60490   \n\n         broad_cpd_id  master_cpd_id  maxdose  mindose  replicate  nreplicates  \n0       BRD-K19216856         411730    37.00   0.2890          1            1  \n1       BRD-K19216856         411730    37.00   0.2890          1            1  \n2       BRD-K19216856         411730    37.00   0.2890          1            1  \n3       BRD-K19216856         411730    37.00   0.2890          1            1  \n4       BRD-K19216856         411730    37.00   0.2890          1            1  \n...               ...            ...      ...      ...        ...          ...  \n523804  BRD-A56359832         346974   533.33   4.1667          1            1  \n523805  BRD-A56359832         346974   533.33   4.1667          1            1  \n523806  BRD-A56359832         346974   533.33   4.1667          1            1  \n523807  BRD-A56359832         346974   533.33   4.1667          1            1  \n523808  BRD-A56359832         346974   533.33   4.1667          1            1  \n\n[523809 rows x 19 columns]",
      "text/html": "<div>\n<style scoped>\n    .dataframe tbody tr th:only-of-type {\n        vertical-align: middle;\n    }\n\n    .dataframe tbody tr th {\n        vertical-align: top;\n    }\n\n    .dataframe thead th {\n        text-align: right;\n    }\n</style>\n<table border=\"1\" class=\"dataframe\">\n  <thead>\n    <tr style=\"text-align: right;\">\n      <th></th>\n      <th>ccl_name</th>\n      <th>cpd_name</th>\n      <th>well_role</th>\n      <th>cpd_conc_umol</th>\n      <th>cpd_avg_pv</th>\n      <th>cpd_synonym</th>\n      <th>cpd_status</th>\n      <th>target_or_activity_of_compound</th>\n      <th>gene_symbol_of_protein_target</th>\n      <th>top_test_conc_umol</th>\n      <th>percent_cpd_purity</th>\n      <th>cpd_smiles</th>\n      <th>pubchem_cid</th>\n      <th>broad_cpd_id</th>\n      <th>master_cpd_id</th>\n      <th>maxdose</th>\n      <th>mindose</th>\n      <th>replicate</th>\n      <th>nreplicates</th>\n    </tr>\n  </thead>\n  <tbody>\n    <tr>\n      <th>0</th>\n      <td>5637</td>\n      <td>(-)-gallocatechin-3-monogallate</td>\n      <td>Cpd</td>\n      <td>0.2890</td>\n      <td>0.907442</td>\n      <td>gallocatechin gallate;L-GCG;GCG</td>\n      <td>probe</td>\n      <td>natural product</td>\n      <td>NaN</td>\n      <td>296.00</td>\n      <td>NaN</td>\n      <td>Oc1cc(O)c2C[C@@H](OC(=O)c3cc(O)c(O)c(O)c3)[C@@...</td>\n      <td>199472</td>\n      <td>BRD-K19216856</td>\n      <td>411730</td>\n      <td>37.00</td>\n      <td>0.2890</td>\n      <td>1</td>\n      <td>1</td>\n    </tr>\n    <tr>\n      <th>1</th>\n      <td>5637</td>\n      <td>(-)-gallocatechin-3-monogallate</td>\n      <td>Cpd</td>\n      <td>0.5780</td>\n      <td>0.903863</td>\n      <td>gallocatechin gallate;L-GCG;GCG</td>\n      <td>probe</td>\n      <td>natural product</td>\n      <td>NaN</td>\n      <td>296.00</td>\n      <td>NaN</td>\n      <td>Oc1cc(O)c2C[C@@H](OC(=O)c3cc(O)c(O)c(O)c3)[C@@...</td>\n      <td>199472</td>\n      <td>BRD-K19216856</td>\n      <td>411730</td>\n      <td>37.00</td>\n      <td>0.2890</td>\n      <td>1</td>\n      <td>1</td>\n    </tr>\n    <tr>\n      <th>2</th>\n      <td>5637</td>\n      <td>(-)-gallocatechin-3-monogallate</td>\n      <td>Cpd</td>\n      <td>1.1563</td>\n      <td>0.942774</td>\n      <td>gallocatechin gallate;L-GCG;GCG</td>\n      <td>probe</td>\n      <td>natural product</td>\n      <td>NaN</td>\n      <td>296.00</td>\n      <td>NaN</td>\n      <td>Oc1cc(O)c2C[C@@H](OC(=O)c3cc(O)c(O)c(O)c3)[C@@...</td>\n      <td>199472</td>\n      <td>BRD-K19216856</td>\n      <td>411730</td>\n      <td>37.00</td>\n      <td>0.2890</td>\n      <td>1</td>\n      <td>1</td>\n    </tr>\n    <tr>\n      <th>3</th>\n      <td>5637</td>\n      <td>(-)-gallocatechin-3-monogallate</td>\n      <td>Cpd</td>\n      <td>2.3123</td>\n      <td>0.899073</td>\n      <td>gallocatechin gallate;L-GCG;GCG</td>\n      <td>probe</td>\n      <td>natural product</td>\n      <td>NaN</td>\n      <td>296.00</td>\n      <td>NaN</td>\n      <td>Oc1cc(O)c2C[C@@H](OC(=O)c3cc(O)c(O)c(O)c3)[C@@...</td>\n      <td>199472</td>\n      <td>BRD-K19216856</td>\n      <td>411730</td>\n      <td>37.00</td>\n      <td>0.2890</td>\n      <td>1</td>\n      <td>1</td>\n    </tr>\n    <tr>\n      <th>4</th>\n      <td>5637</td>\n      <td>(-)-gallocatechin-3-monogallate</td>\n      <td>Cpd</td>\n      <td>4.6250</td>\n      <td>0.933793</td>\n      <td>gallocatechin gallate;L-GCG;GCG</td>\n      <td>probe</td>\n      <td>natural product</td>\n      <td>NaN</td>\n      <td>296.00</td>\n      <td>NaN</td>\n      <td>Oc1cc(O)c2C[C@@H](OC(=O)c3cc(O)c(O)c(O)c3)[C@@...</td>\n      <td>199472</td>\n      <td>BRD-K19216856</td>\n      <td>411730</td>\n      <td>37.00</td>\n      <td>0.2890</td>\n      <td>1</td>\n      <td>1</td>\n    </tr>\n    <tr>\n      <th>...</th>\n      <td>...</td>\n      <td>...</td>\n      <td>...</td>\n      <td>...</td>\n      <td>...</td>\n      <td>...</td>\n      <td>...</td>\n      <td>...</td>\n      <td>...</td>\n      <td>...</td>\n      <td>...</td>\n      <td>...</td>\n      <td>...</td>\n      <td>...</td>\n      <td>...</td>\n      <td>...</td>\n      <td>...</td>\n      <td>...</td>\n      <td>...</td>\n    </tr>\n    <tr>\n      <th>523804</th>\n      <td>WSUDLCL2</td>\n      <td>zileuton</td>\n      <td>Cpd</td>\n      <td>33.3330</td>\n      <td>0.933906</td>\n      <td>Zyflo</td>\n      <td>FDA-approved</td>\n      <td>inhibitor of 5-lipoxygenase</td>\n      <td>ALOX5</td>\n      <td>533.33</td>\n      <td>87.0</td>\n      <td>CC(N(O)C(=O)N)c1cc2ccccc2s1</td>\n      <td>60490</td>\n      <td>BRD-A56359832</td>\n      <td>346974</td>\n      <td>533.33</td>\n      <td>4.1667</td>\n      <td>1</td>\n      <td>1</td>\n    </tr>\n    <tr>\n      <th>523805</th>\n      <td>WSUDLCL2</td>\n      <td>zileuton</td>\n      <td>Cpd</td>\n      <td>66.6670</td>\n      <td>1.032896</td>\n      <td>Zyflo</td>\n      <td>FDA-approved</td>\n      <td>inhibitor of 5-lipoxygenase</td>\n      <td>ALOX5</td>\n      <td>533.33</td>\n      <td>87.0</td>\n      <td>CC(N(O)C(=O)N)c1cc2ccccc2s1</td>\n      <td>60490</td>\n      <td>BRD-A56359832</td>\n      <td>346974</td>\n      <td>533.33</td>\n      <td>4.1667</td>\n      <td>1</td>\n      <td>1</td>\n    </tr>\n    <tr>\n      <th>523806</th>\n      <td>WSUDLCL2</td>\n      <td>zileuton</td>\n      <td>Cpd</td>\n      <td>133.3300</td>\n      <td>0.934276</td>\n      <td>Zyflo</td>\n      <td>FDA-approved</td>\n      <td>inhibitor of 5-lipoxygenase</td>\n      <td>ALOX5</td>\n      <td>533.33</td>\n      <td>87.0</td>\n      <td>CC(N(O)C(=O)N)c1cc2ccccc2s1</td>\n      <td>60490</td>\n      <td>BRD-A56359832</td>\n      <td>346974</td>\n      <td>533.33</td>\n      <td>4.1667</td>\n      <td>1</td>\n      <td>1</td>\n    </tr>\n    <tr>\n      <th>523807</th>\n      <td>WSUDLCL2</td>\n      <td>zileuton</td>\n      <td>Cpd</td>\n      <td>266.6700</td>\n      <td>0.869657</td>\n      <td>Zyflo</td>\n      <td>FDA-approved</td>\n      <td>inhibitor of 5-lipoxygenase</td>\n      <td>ALOX5</td>\n      <td>533.33</td>\n      <td>87.0</td>\n      <td>CC(N(O)C(=O)N)c1cc2ccccc2s1</td>\n      <td>60490</td>\n      <td>BRD-A56359832</td>\n      <td>346974</td>\n      <td>533.33</td>\n      <td>4.1667</td>\n      <td>1</td>\n      <td>1</td>\n    </tr>\n    <tr>\n      <th>523808</th>\n      <td>WSUDLCL2</td>\n      <td>zileuton</td>\n      <td>Cpd</td>\n      <td>533.3300</td>\n      <td>0.688523</td>\n      <td>Zyflo</td>\n      <td>FDA-approved</td>\n      <td>inhibitor of 5-lipoxygenase</td>\n      <td>ALOX5</td>\n      <td>533.33</td>\n      <td>87.0</td>\n      <td>CC(N(O)C(=O)N)c1cc2ccccc2s1</td>\n      <td>60490</td>\n      <td>BRD-A56359832</td>\n      <td>346974</td>\n      <td>533.33</td>\n      <td>4.1667</td>\n      <td>1</td>\n      <td>1</td>\n    </tr>\n  </tbody>\n</table>\n<p>523809 rows × 19 columns</p>\n</div>"
     },
     "execution_count": 7,
     "metadata": {},
     "output_type": "execute_result"
    }
   ],
   "source": [
    "full_df[\"maxdose\"] = full_df.groupby([\"ccl_name\", \"cpd_name\"])[\"cpd_conc_umol\"].transform(\"max\")\n",
    "full_df[\"mindose\"] = full_df.groupby([\"ccl_name\", \"cpd_name\"])[\"cpd_conc_umol\"].transform(\"min\")\n",
    "full_df[\"replicate\"] = full_df.groupby([\"cpd_conc_umol\", \"ccl_name\", \"cpd_name\"]).cumcount() + 1\n",
    "full_df[\"nreplicates\"] = full_df.groupby([\"ccl_name\", \"cpd_name\"])[\"replicate\"].transform(\"max\")\n",
    "full_df"
   ]
  },
  {
   "cell_type": "code",
   "execution_count": 8,
   "outputs": [],
   "source": [
    "drug_dosages = full_df[[\"ccl_name\", \"cpd_name\", \"mindose\", \"maxdose\"]].drop_duplicates()\n",
    "drug_dosages.to_csv(\"drug_dosages_CTRPv1.csv\", index=False)"
   ],
   "metadata": {
    "collapsed": false,
    "ExecuteTime": {
     "end_time": "2025-02-07T10:47:18.144173Z",
     "start_time": "2025-02-07T10:47:17.967420Z"
    }
   },
   "id": "31efa441cb6691b"
  },
  {
   "cell_type": "markdown",
   "id": "4f86dd1e-5838-476a-97a9-18aeb3f2898f",
   "metadata": {},
   "source": [
    "## Drugname to PubChem mapping"
   ]
  },
  {
   "cell_type": "code",
   "execution_count": 8,
   "id": "dffa0c93-4c11-4b9a-977f-82d741e8c8fd",
   "metadata": {
    "ExecuteTime": {
     "end_time": "2025-02-07T10:38:45.501817Z",
     "start_time": "2025-02-07T10:38:45.400770Z"
    }
   },
   "outputs": [
    {
     "data": {
      "text/plain": "                           cpd_name   broad_cpd_id  \\\n24             2,4-dideoxy-DC-45-A2  BRD-K41087962   \n104      6-diazo-5-oxo-L-norleucine  BRD-K84924563   \n264                         BRD2649  BRD-K26312649   \n312                         BRD9786  BRD-K94679786   \n384                    Compound 10b  BRD-K18190982   \n456                        DC-45-A2  BRD-K79983625   \n816                           PP-30  BRD-K30677119   \n832               PRL-3 Inhibitor I  BRD-K09907482   \n976                          WT-161  BRD-K74761218   \n1256                   iso-DC-45-A2  BRD-K51759822   \n1497   racemic-2,4-dideoxy-DC-45-A2  BRD-A31304494   \n1545                      sirolimus  BRD-A23770159   \n1561                     tacrolimus  BRD-K08845546   \n1966                        BRD2762  BRD-K10012762   \n2006                        BRD5802  BRD-K73135802   \n2014                        BRD6150  BRD-K20436150   \n2080                        BRD9658  BRD-K63069658   \n2208                         CIL55A  BRD-K69982010   \n3089                      chaetocin  BRD-A85860691   \n4133                        BRD2296  BRD-K90072296   \n4341                        BRD9571  BRD-K39319571   \n5173                          PL-DI  BRD-K83336168   \n10299                   pandacostat  BRD-K44741158   \n19072                    trans-C 75  BRD-A03397005   \n\n                                      cpd_synonym  \\\n24                                            NaN   \n104                  diazooxonorleucine;DON;L-DON   \n264                                           NaN   \n312                                           NaN   \n384                                           NaN   \n456                                           NaN   \n816                                           NaN   \n832                                           NaN   \n976                                           NaN   \n1256                                          NaN   \n1497                                          NaN   \n1545                           rapamycin;Rapamune   \n1561   FK-506;fujimycin;Prograf;Advagraf;Protopic   \n1966                                          NaN   \n2006                                          NaN   \n2014                                          NaN   \n2080                                          NaN   \n2208                                          NaN   \n3089                                          NaN   \n4133                                          NaN   \n4341                                          NaN   \n5173                                          NaN   \n10299                                         NaN   \n19072                                        C-75   \n\n                                              cpd_smiles  pubchem_cid  \n24     COC(OC)[C@]12O[C@@H]3[C@H](O1)[C@@](O)(Oc4c3c(...           -1  \n104                        N[C@@H](CCC(=O)C[N+]#N)C(=O)O           -1  \n264    CNC[C@@H]1OCC=CC[C@@H](C)Oc2ccc(cc2C(=O)N(C[C@...           -1  \n312    CC(C)N1C[C@@H](C)[C@H](CN(C)Cc2ccc3OCOc3c2)OCC...           -1  \n384           NC(=C)c1cc2c(cnc(N)c2s1)c3cccc(c3)c4ccccc4           -1  \n456    COC(OC)[C@]12O[C@@H]3[C@H](O1)[C@@](O)(Oc4c3c(...           -1  \n816      CC(C)n1nc(c2cccc(c2)C(=O)NC3=NCCC3)c4c(N)ncnc14           -1  \n832         Brc1ccc(OCc2ccccc2Br)c(\\C=C/3\\SC(=S)NC3=O)c1           -1  \n976    ONC(=O)CCCCCCC(=O)N\\N=C\\c1ccc(cc1)N(c2ccccc2)c...           -1  \n1256   COC(OC)[C@@]12O[C@H]3[C@H](O1)[C@](O)(Oc4c3c(C...           -1  \n1497   COC(OC)C12OC3C(O1)C(O)(Oc4c3c(C)cc5c(OC)c6CCCC...           -1  \n1545   CO[C@@H]1C[C@H](C[C@@H](C)[C@@H]2CC(=O)[C@H](C...           -1  \n1561   CO[C@@H]1CC(CC[C@H]1O)\\C=C(/C)\\[C@H]2OC(=O)[C@...           -1  \n1966    CN1[C@@H](CO)[C@H]2CCN([C@H]2c3cc(C)ccc13)C(=O)C           -1  \n2006    CN(C)C[C@@H]1CC[C@@H]2[C@@H](CN2C(=O)c3ccccc3)O1           -1  \n2014              CCCN1[C@H](CO)[C@H]2[C@@H]1CNc3ccccc23           -1  \n2080             CCCN1[C@@H]2CN(C)C[C@H]1[C@@H]2c3ccccc3           -1  \n2208                CN(C)CCNC(=O)c1cc2CSc3ccc(Cl)cc3c2s1           -1  \n3089   CN1C(=O)C23C[C@]4([C@H](Nc5ccccc45)N2C(=O)[C@]...           -1  \n4133        CN(C)C[C@@H]1CC[C@@H]2[C@@H](CN2Cc3ccccc3)O1           -1  \n4341   CN(C)C[C@@H]1CC[C@@H]2[C@@H](CN2S(=O)(=O)c3ccc...           -1  \n5173   COc1cc(\\C=C\\C(=O)N2CCC=CC2=O)cc(OC)c1OCCN(C)CC...           -1  \n10299   ONC(=O)\\C=C\\c1ccc(cc1)C(=O)N\\N=C\\c2ccc(O)c(O)c2O           -1  \n19072  CCCCCCCC[C@@H]1OC(=O)C(=C)[C@H]1C(=O)O.CCCCCCC...           -1  ",
      "text/html": "<div>\n<style scoped>\n    .dataframe tbody tr th:only-of-type {\n        vertical-align: middle;\n    }\n\n    .dataframe tbody tr th {\n        vertical-align: top;\n    }\n\n    .dataframe thead th {\n        text-align: right;\n    }\n</style>\n<table border=\"1\" class=\"dataframe\">\n  <thead>\n    <tr style=\"text-align: right;\">\n      <th></th>\n      <th>cpd_name</th>\n      <th>broad_cpd_id</th>\n      <th>cpd_synonym</th>\n      <th>cpd_smiles</th>\n      <th>pubchem_cid</th>\n    </tr>\n  </thead>\n  <tbody>\n    <tr>\n      <th>24</th>\n      <td>2,4-dideoxy-DC-45-A2</td>\n      <td>BRD-K41087962</td>\n      <td>NaN</td>\n      <td>COC(OC)[C@]12O[C@@H]3[C@H](O1)[C@@](O)(Oc4c3c(...</td>\n      <td>-1</td>\n    </tr>\n    <tr>\n      <th>104</th>\n      <td>6-diazo-5-oxo-L-norleucine</td>\n      <td>BRD-K84924563</td>\n      <td>diazooxonorleucine;DON;L-DON</td>\n      <td>N[C@@H](CCC(=O)C[N+]#N)C(=O)O</td>\n      <td>-1</td>\n    </tr>\n    <tr>\n      <th>264</th>\n      <td>BRD2649</td>\n      <td>BRD-K26312649</td>\n      <td>NaN</td>\n      <td>CNC[C@@H]1OCC=CC[C@@H](C)Oc2ccc(cc2C(=O)N(C[C@...</td>\n      <td>-1</td>\n    </tr>\n    <tr>\n      <th>312</th>\n      <td>BRD9786</td>\n      <td>BRD-K94679786</td>\n      <td>NaN</td>\n      <td>CC(C)N1C[C@@H](C)[C@H](CN(C)Cc2ccc3OCOc3c2)OCC...</td>\n      <td>-1</td>\n    </tr>\n    <tr>\n      <th>384</th>\n      <td>Compound 10b</td>\n      <td>BRD-K18190982</td>\n      <td>NaN</td>\n      <td>NC(=C)c1cc2c(cnc(N)c2s1)c3cccc(c3)c4ccccc4</td>\n      <td>-1</td>\n    </tr>\n    <tr>\n      <th>456</th>\n      <td>DC-45-A2</td>\n      <td>BRD-K79983625</td>\n      <td>NaN</td>\n      <td>COC(OC)[C@]12O[C@@H]3[C@H](O1)[C@@](O)(Oc4c3c(...</td>\n      <td>-1</td>\n    </tr>\n    <tr>\n      <th>816</th>\n      <td>PP-30</td>\n      <td>BRD-K30677119</td>\n      <td>NaN</td>\n      <td>CC(C)n1nc(c2cccc(c2)C(=O)NC3=NCCC3)c4c(N)ncnc14</td>\n      <td>-1</td>\n    </tr>\n    <tr>\n      <th>832</th>\n      <td>PRL-3 Inhibitor I</td>\n      <td>BRD-K09907482</td>\n      <td>NaN</td>\n      <td>Brc1ccc(OCc2ccccc2Br)c(\\C=C/3\\SC(=S)NC3=O)c1</td>\n      <td>-1</td>\n    </tr>\n    <tr>\n      <th>976</th>\n      <td>WT-161</td>\n      <td>BRD-K74761218</td>\n      <td>NaN</td>\n      <td>ONC(=O)CCCCCCC(=O)N\\N=C\\c1ccc(cc1)N(c2ccccc2)c...</td>\n      <td>-1</td>\n    </tr>\n    <tr>\n      <th>1256</th>\n      <td>iso-DC-45-A2</td>\n      <td>BRD-K51759822</td>\n      <td>NaN</td>\n      <td>COC(OC)[C@@]12O[C@H]3[C@H](O1)[C@](O)(Oc4c3c(C...</td>\n      <td>-1</td>\n    </tr>\n    <tr>\n      <th>1497</th>\n      <td>racemic-2,4-dideoxy-DC-45-A2</td>\n      <td>BRD-A31304494</td>\n      <td>NaN</td>\n      <td>COC(OC)C12OC3C(O1)C(O)(Oc4c3c(C)cc5c(OC)c6CCCC...</td>\n      <td>-1</td>\n    </tr>\n    <tr>\n      <th>1545</th>\n      <td>sirolimus</td>\n      <td>BRD-A23770159</td>\n      <td>rapamycin;Rapamune</td>\n      <td>CO[C@@H]1C[C@H](C[C@@H](C)[C@@H]2CC(=O)[C@H](C...</td>\n      <td>-1</td>\n    </tr>\n    <tr>\n      <th>1561</th>\n      <td>tacrolimus</td>\n      <td>BRD-K08845546</td>\n      <td>FK-506;fujimycin;Prograf;Advagraf;Protopic</td>\n      <td>CO[C@@H]1CC(CC[C@H]1O)\\C=C(/C)\\[C@H]2OC(=O)[C@...</td>\n      <td>-1</td>\n    </tr>\n    <tr>\n      <th>1966</th>\n      <td>BRD2762</td>\n      <td>BRD-K10012762</td>\n      <td>NaN</td>\n      <td>CN1[C@@H](CO)[C@H]2CCN([C@H]2c3cc(C)ccc13)C(=O)C</td>\n      <td>-1</td>\n    </tr>\n    <tr>\n      <th>2006</th>\n      <td>BRD5802</td>\n      <td>BRD-K73135802</td>\n      <td>NaN</td>\n      <td>CN(C)C[C@@H]1CC[C@@H]2[C@@H](CN2C(=O)c3ccccc3)O1</td>\n      <td>-1</td>\n    </tr>\n    <tr>\n      <th>2014</th>\n      <td>BRD6150</td>\n      <td>BRD-K20436150</td>\n      <td>NaN</td>\n      <td>CCCN1[C@H](CO)[C@H]2[C@@H]1CNc3ccccc23</td>\n      <td>-1</td>\n    </tr>\n    <tr>\n      <th>2080</th>\n      <td>BRD9658</td>\n      <td>BRD-K63069658</td>\n      <td>NaN</td>\n      <td>CCCN1[C@@H]2CN(C)C[C@H]1[C@@H]2c3ccccc3</td>\n      <td>-1</td>\n    </tr>\n    <tr>\n      <th>2208</th>\n      <td>CIL55A</td>\n      <td>BRD-K69982010</td>\n      <td>NaN</td>\n      <td>CN(C)CCNC(=O)c1cc2CSc3ccc(Cl)cc3c2s1</td>\n      <td>-1</td>\n    </tr>\n    <tr>\n      <th>3089</th>\n      <td>chaetocin</td>\n      <td>BRD-A85860691</td>\n      <td>NaN</td>\n      <td>CN1C(=O)C23C[C@]4([C@H](Nc5ccccc45)N2C(=O)[C@]...</td>\n      <td>-1</td>\n    </tr>\n    <tr>\n      <th>4133</th>\n      <td>BRD2296</td>\n      <td>BRD-K90072296</td>\n      <td>NaN</td>\n      <td>CN(C)C[C@@H]1CC[C@@H]2[C@@H](CN2Cc3ccccc3)O1</td>\n      <td>-1</td>\n    </tr>\n    <tr>\n      <th>4341</th>\n      <td>BRD9571</td>\n      <td>BRD-K39319571</td>\n      <td>NaN</td>\n      <td>CN(C)C[C@@H]1CC[C@@H]2[C@@H](CN2S(=O)(=O)c3ccc...</td>\n      <td>-1</td>\n    </tr>\n    <tr>\n      <th>5173</th>\n      <td>PL-DI</td>\n      <td>BRD-K83336168</td>\n      <td>NaN</td>\n      <td>COc1cc(\\C=C\\C(=O)N2CCC=CC2=O)cc(OC)c1OCCN(C)CC...</td>\n      <td>-1</td>\n    </tr>\n    <tr>\n      <th>10299</th>\n      <td>pandacostat</td>\n      <td>BRD-K44741158</td>\n      <td>NaN</td>\n      <td>ONC(=O)\\C=C\\c1ccc(cc1)C(=O)N\\N=C\\c2ccc(O)c(O)c2O</td>\n      <td>-1</td>\n    </tr>\n    <tr>\n      <th>19072</th>\n      <td>trans-C 75</td>\n      <td>BRD-A03397005</td>\n      <td>C-75</td>\n      <td>CCCCCCCC[C@@H]1OC(=O)C(=C)[C@H]1C(=O)O.CCCCCCC...</td>\n      <td>-1</td>\n    </tr>\n  </tbody>\n</table>\n</div>"
     },
     "execution_count": 8,
     "metadata": {},
     "output_type": "execute_result"
    }
   ],
   "source": [
    "full_df.query(\"pubchem_cid == -1\")[[\"cpd_name\", \"broad_cpd_id\",\"cpd_synonym\", \"cpd_smiles\", \"pubchem_cid\"]].drop_duplicates()"
   ]
  },
  {
   "cell_type": "code",
   "execution_count": 9,
   "id": "e613b15f-0d40-43fe-8fb8-4d5cec71c181",
   "metadata": {
    "ExecuteTime": {
     "end_time": "2025-02-07T10:38:46.563839Z",
     "start_time": "2025-02-07T10:38:46.501188Z"
    }
   },
   "outputs": [
    {
     "name": "stdout",
     "output_type": "stream",
     "text": [
      "COC(OC)[C@]12O[C@@H]3[C@H](O1)[C@@](O)(Oc4c3c(C)cc5c(OC)c6CCCC(=O)c6c(O)c45)[C@@]27CO7\n",
      "N[C@@H](CCC(=O)C[N+]#N)C(=O)O\n",
      "CNC[C@@H]1OCC=CC[C@@H](C)Oc2ccc(cc2C(=O)N(C[C@H]1C)[C@@H](C)CO)N(C)C\n",
      "CC(C)N1C[C@@H](C)[C@H](CN(C)Cc2ccc3OCOc3c2)OCCCC[C@@H](C)Oc4ccc(cc4C1=O)N(C)C\n",
      "NC(=C)c1cc2c(cnc(N)c2s1)c3cccc(c3)c4ccccc4\n",
      "COC(OC)[C@]12O[C@@H]3[C@H](O1)[C@@](O)(Oc4c3c(C)cc5c(OC)c6[C@@H](O)C[C@H](O)C(=O)c6c(O)c45)[C@@]27CO7\n",
      "CC(C)n1nc(c2cccc(c2)C(=O)NC3=NCCC3)c4c(N)ncnc14\n",
      "Brc1ccc(OCc2ccccc2Br)c(\\C=C/3\\SC(=S)NC3=O)c1\n",
      "ONC(=O)CCCCCCC(=O)N\\N=C\\c1ccc(cc1)N(c2ccccc2)c3ccccc3\n",
      "COC(OC)[C@@]12O[C@H]3[C@H](O1)[C@](O)(Oc4c3c(C)cc5c(OC)c6[C@@H](O)C[C@H](O)C(=O)c6c(O)c45)[C@@]27CO7\n",
      "COC(OC)C12OC3C(O1)C(O)(Oc4c3c(C)cc5c(OC)c6CCCC(=O)c6c(O)c45)C27CO7\n",
      "CO[C@@H]1C[C@H](C[C@@H](C)[C@@H]2CC(=O)[C@H](C)\\C=C(/C)\\[C@@H](O)[C@@H](OC)C(=O)[C@H](C)C[C@H](C)\\C=C\\C=C\\C=C(/C)\\[C@H](CC3CC[C@@H](C)[C@@](O)(O3)C(=O)C(=O)N4CCCC[C@H]4C(=O)O2)OC)CCC1O\n",
      "CO[C@@H]1CC(CC[C@H]1O)\\C=C(/C)\\[C@H]2OC(=O)[C@@H]3CCCCN3C(=O)C(=O)[C@]4(O)O[C@H]([C@H](CC(C)C\\C(=C\\[C@@H](CC=C)C(=O)C[C@H](O)[C@H]2C)\\C)OC)[C@H](C[C@H]4C)OC\n",
      "CN1[C@@H](CO)[C@H]2CCN([C@H]2c3cc(C)ccc13)C(=O)C\n",
      "CN(C)C[C@@H]1CC[C@@H]2[C@@H](CN2C(=O)c3ccccc3)O1\n",
      "CCCN1[C@H](CO)[C@H]2[C@@H]1CNc3ccccc23\n",
      "CCCN1[C@@H]2CN(C)C[C@H]1[C@@H]2c3ccccc3\n",
      "CN(C)CCNC(=O)c1cc2CSc3ccc(Cl)cc3c2s1\n",
      "CN1C(=O)C23C[C@]4([C@H](Nc5ccccc45)N2C(=O)[C@]1(CO)SS3)[C@]67C[C@]89SSC(CO)(N(C)C8=O)C(=O)N9[C@H]6Nc%10ccccc7%10\n",
      "CN(C)C[C@@H]1CC[C@@H]2[C@@H](CN2Cc3ccccc3)O1\n",
      "CN(C)C[C@@H]1CC[C@@H]2[C@@H](CN2S(=O)(=O)c3ccccc3)O1\n",
      "COc1cc(\\C=C\\C(=O)N2CCC=CC2=O)cc(OC)c1OCCN(C)CCOc3c(OC)cc(\\C=C\\C(=O)N4CCC=CC4=O)cc3OC\n",
      "ONC(=O)\\C=C\\c1ccc(cc1)C(=O)N\\N=C\\c2ccc(O)c(O)c2O\n",
      "CCCCCCCC[C@@H]1OC(=O)C(=C)[C@H]1C(=O)O.CCCCCCCC[C@H]2OC(=O)C(=C)[C@@H]2C(=O)O\n"
     ]
    }
   ],
   "source": [
    "for smile in full_df.query(\"pubchem_cid == -1\")[[\"cpd_name\", \"cpd_synonym\", \"cpd_smiles\", \"pubchem_cid\"]].drop_duplicates().cpd_smiles:\n",
    "    print(smile)"
   ]
  },
  {
   "cell_type": "code",
   "execution_count": 10,
   "id": "a6b2c187-0495-4328-9d03-9e306c21b9c0",
   "metadata": {
    "ExecuteTime": {
     "end_time": "2025-02-07T10:38:47.588505Z",
     "start_time": "2025-02-07T10:38:47.557068Z"
    }
   },
   "outputs": [],
   "source": [
    "## via manual SMILES search in PubChem\n",
    "results = {}\n",
    "results['2,4-dideoxy-DC-45-A2'] = '73707381'\n",
    "results['6-diazo-5-oxo-L-norleucine'] = '73707377'\n",
    "results['BRD2649'] = 'BRD2649'                            # not found\n",
    "results['BRD9786'] = 'BRD9786'                            # not found\n",
    "results['Compound 10b'] = '73707373'\n",
    "results['DC-45-A2'] = '73707376'\n",
    "results['PP-30'] = '73707372'\n",
    "results['PRL-3 Inhibitor I'] = '73707371'\n",
    "results['WT-161'] = '121596287'\n",
    "results['iso-DC-45-A2'] = 'iso-DC-45-A2'                  # not found\n",
    "results['racemic-2,4-dideoxy-DC-45-A2'] = '126757334'\n",
    "results['sirolimus'] = '5284616'                          # via name search, SMILES did not hit\n",
    "results['tacrolimus'] = '445643'                          # via name search, SMILES did not hit\n",
    "results['BRD2762'] = 'BRD2762'                            # not found\n",
    "results['BRD5802'] = 'BRD5802'                            # not found\n",
    "results['BRD6150'] = 'BRD6150'                            # not found\n",
    "results['BRD9658'] = 'BRD9658'                            # not found\n",
    "\n",
    "results['CIL55A'] = '168313047'\n",
    "results['chaetocin'] = '137549100'\n",
    "results['BRD2296'] = 'BRD2296'                            # not found\n",
    "results['BRD9571'] = 'BRD9571'                            # not found\n",
    "results['PL-DI'] = '73707398'\n",
    "results['pandacostat'] = '136350280'\n",
    "results['trans-C 75'] = '90488767'\n"
   ]
  },
  {
   "cell_type": "markdown",
   "id": "d5ae8b0d-f98e-408c-9d24-1d2eb163b5df",
   "metadata": {},
   "source": [
    "## Cell line name to Cellosaurus Mapping"
   ]
  },
  {
   "cell_type": "code",
   "execution_count": 11,
   "id": "4de63423-f334-47ae-b88f-298f708ba2d0",
   "metadata": {
    "ExecuteTime": {
     "end_time": "2025-02-07T10:38:50.633703Z",
     "start_time": "2025-02-07T10:38:50.590620Z"
    }
   },
   "outputs": [],
   "source": [
    "# Download Cellosaurus data in OBO format\n",
    "#url = \"ftp://ftp.expasy.org/databases/cellosaurus/cellosaurus.txt\"\n",
    "filename = \"../../mapping/cellosaurus.txt\"\n",
    "#urllib.request.urlretrieve(url, filename)"
   ]
  },
  {
   "cell_type": "code",
   "execution_count": 12,
   "id": "60747b60-97a1-4329-b013-74afee814b68",
   "metadata": {
    "ExecuteTime": {
     "end_time": "2025-02-07T10:38:53.128328Z",
     "start_time": "2025-02-07T10:38:51.204187Z"
    }
   },
   "outputs": [],
   "source": [
    "cl_mappings = {}\n",
    "btos = {}\n",
    "with open(filename) as handle:\n",
    "    records = cellosaurus.parse(handle)\n",
    "    for record in records:\n",
    "        if 'Homo sapiens' in record['OX'][0]:\n",
    "            if record[\"ID\"] not in cl_mappings:\n",
    "                cl_mappings[record[\"ID\"]] = []\n",
    "            cl_mappings[record[\"ID\"]].append(record[\"AC\"])\n",
    "            syns = record[\"SY\"].split(\"; \")\n",
    "            for syn in syns:\n",
    "                if syn == '':\n",
    "                    continue\n",
    "                if syn not in cl_mappings:\n",
    "                    cl_mappings[syn] = []\n",
    "                cl_mappings[syn].append(record[\"AC\"])\n",
    "            for a, b in record[\"DR\"]:\n",
    "                if a == 'BTO':\n",
    "                    if record[\"AC\"] not in btos:\n",
    "                        btos[record[\"AC\"]] = []\n",
    "                    btos[record[\"AC\"]].append(b)"
   ]
  },
  {
   "cell_type": "code",
   "execution_count": 13,
   "id": "75e328ed-9cb1-4abd-8748-478b7ab78cf0",
   "metadata": {
    "ExecuteTime": {
     "end_time": "2025-02-07T10:38:54.190292Z",
     "start_time": "2025-02-07T10:38:54.139032Z"
    }
   },
   "outputs": [],
   "source": [
    "ccls = full_df[\"ccl_name\"].unique()\n",
    "mappings = {}\n",
    "manual_checks = {}\n",
    "for ccl in ccls:\n",
    "    cellosaurus_ids = cl_mappings.get(ccl, [])\n",
    "    if len(cellosaurus_ids) == 1:\n",
    "        mappings[ccl] = cellosaurus_ids[0]\n",
    "    else:\n",
    "        manual_checks[ccl] = cellosaurus_ids"
   ]
  },
  {
   "cell_type": "code",
   "execution_count": 14,
   "id": "ef3a8daa-06fc-4e79-bb52-cfaedd27c18d",
   "metadata": {
    "ExecuteTime": {
     "end_time": "2025-02-07T10:38:54.697116Z",
     "start_time": "2025-02-07T10:38:54.662251Z"
    }
   },
   "outputs": [
    {
     "name": "stdout",
     "output_type": "stream",
     "text": [
      "CCLs: 242 matches: 232 ambiguous: 10\n"
     ]
    }
   ],
   "source": [
    "print(\"CCLs:\", len(ccls), \"matches:\", len(mappings), \"ambiguous:\", len(manual_checks))"
   ]
  },
  {
   "cell_type": "code",
   "execution_count": 15,
   "id": "357c3e15-debc-4308-89ee-80b9f8c4a82d",
   "metadata": {
    "ExecuteTime": {
     "end_time": "2025-02-07T10:38:55.165650Z",
     "start_time": "2025-02-07T10:38:55.143486Z"
    }
   },
   "outputs": [
    {
     "data": {
      "text/plain": "{'COLO205': ['CVCL_0218', 'CVCL_F402'],\n 'EBC1': ['CVCL_2891', 'CVCL_E218'],\n 'G361': ['CVCL_1220', 'CVCL_C8ZL'],\n 'HARA': [],\n 'LP1': ['CVCL_0012', 'CVCL_SA54'],\n 'OV7': ['CVCL_DG86', 'CVCL_2675'],\n 'PC3': ['CVCL_C8XA', 'CVCL_4011', 'CVCL_0035', 'CVCL_S982', 'CVCL_4055'],\n 'PL21': ['CVCL_2161', 'CVCL_JM48', 'CVCL_E295'],\n 'RCM1': ['CVCL_C099', 'CVCL_1648'],\n 'SCC9': ['CVCL_1685', 'CVCL_7793']}"
     },
     "execution_count": 15,
     "metadata": {},
     "output_type": "execute_result"
    }
   ],
   "source": [
    "manual_checks"
   ]
  },
  {
   "cell_type": "code",
   "execution_count": 16,
   "id": "a95223d1-5de4-405e-99f1-3695813c50b0",
   "metadata": {
    "ExecuteTime": {
     "end_time": "2025-02-07T10:38:55.680891Z",
     "start_time": "2025-02-07T10:38:55.662416Z"
    }
   },
   "outputs": [],
   "source": [
    "manual_checks['COLO205'] = 'CVCL_0218'  # this is the one derived from an adenocarcinoma in a 70 year old white male, while the other one is a transformed cell line from a young female according to cellosaurus\n",
    "manual_checks['EBC1'] = 'CVCL_2891'  # this is the squamous cell carcinoma according to cellosaurus\n",
    "manual_checks['G361'] = 'CVCL_1220'  # this is the melanoma according to cellosaurus\n",
    "\n",
    "manual_checks[\"HARA\"] = 'CVCL_2914'  # this is HARA [Human squamous cell lung carcinoma]\n",
    "\n",
    "manual_checks[\"LP1\"] = 'CVCL_0012'  # this is the plasma cell myeloma according to cellosaurus\n",
    "manual_checks[\"OV7\"] = 'CVCL_2675'  # this is the ovarian carcinoma according to cellosaurus, kind of a best guess here\n",
    "\n",
    "manual_checks[\"PC3\"] = 'CVCL_0035'  # this is the pancreatic cancer according to cellosaurus\n",
    "manual_checks[\"PL21\"] = 'CVCL_2161'  # this is the accute myeloid leukemia according to cellosaurus\n",
    "\n",
    "manual_checks[\"RCM1\"] = 'CVCL_1648'  # this is RCM-1 [Human rectal adenocarcinoma], according to cellosaurus\n",
    "manual_checks[\"SCC9\"] = 'CVCL_1685'  # this is the tongue squamous cell carcinoma according to cellosaurus\n"
   ]
  },
  {
   "cell_type": "code",
   "execution_count": 17,
   "id": "b9a4d08a-e0fe-4055-8a92-f3507c7b592b",
   "metadata": {
    "ExecuteTime": {
     "end_time": "2025-02-07T10:38:56.509639Z",
     "start_time": "2025-02-07T10:38:56.492656Z"
    }
   },
   "outputs": [],
   "source": [
    "rev_mapping = {}\n",
    "for key, val in (mappings | manual_checks).items():\n",
    "    if val not in rev_mapping:\n",
    "        rev_mapping[val] = []\n",
    "    rev_mapping[val].append(key)"
   ]
  },
  {
   "cell_type": "code",
   "execution_count": 18,
   "id": "8373127b-6a1e-48ae-afbc-224b39b57906",
   "metadata": {
    "ExecuteTime": {
     "end_time": "2025-02-07T10:38:56.986179Z",
     "start_time": "2025-02-07T10:38:56.963427Z"
    }
   },
   "outputs": [
    {
     "data": {
      "text/plain": "False"
     },
     "execution_count": 18,
     "metadata": {},
     "output_type": "execute_result"
    }
   ],
   "source": [
    "any([len(val) != 1 for val in rev_mapping.values()])"
   ]
  },
  {
   "cell_type": "code",
   "execution_count": 19,
   "id": "55774f22-44ee-46db-94c5-744ed06f7dc8",
   "metadata": {
    "ExecuteTime": {
     "end_time": "2025-02-07T10:38:57.541252Z",
     "start_time": "2025-02-07T10:38:57.524598Z"
    }
   },
   "outputs": [
    {
     "data": {
      "text/plain": "242"
     },
     "execution_count": 19,
     "metadata": {},
     "output_type": "execute_result"
    }
   ],
   "source": [
    "len(rev_mapping)"
   ]
  },
  {
   "cell_type": "code",
   "execution_count": 20,
   "id": "2f16a7bb-9754-4d05-82c5-917efae07048",
   "metadata": {
    "ExecuteTime": {
     "end_time": "2025-02-07T10:38:58.281274Z",
     "start_time": "2025-02-07T10:38:58.262386Z"
    }
   },
   "outputs": [],
   "source": [
    "mappings |= manual_checks"
   ]
  },
  {
   "cell_type": "code",
   "execution_count": 21,
   "id": "f395f00d-05f9-4935-8716-0d5d0fb10af5",
   "metadata": {
    "ExecuteTime": {
     "end_time": "2025-02-07T10:39:04.063748Z",
     "start_time": "2025-02-07T10:39:04.019379Z"
    }
   },
   "outputs": [],
   "source": [
    "celline_mappings = pd.DataFrame.from_dict(mappings, orient='index')\n",
    "celline_mappings.columns = ['CVCL']\n",
    "btos_df = pd.DataFrame({'BTO': btos.values()}, index=btos.keys())"
   ]
  },
  {
   "cell_type": "markdown",
   "source": [
    "## Compare to Judith's mapping"
   ],
   "metadata": {
    "collapsed": false
   },
   "id": "5bc98327c56bed83"
  },
  {
   "cell_type": "code",
   "execution_count": 22,
   "outputs": [],
   "source": [
    "celline_mappings = celline_mappings.reset_index()\n",
    "celline_mappings = celline_mappings.rename(columns={\"index\": \"cell_line_name\"})"
   ],
   "metadata": {
    "collapsed": false,
    "ExecuteTime": {
     "end_time": "2025-02-07T10:39:05.472137Z",
     "start_time": "2025-02-07T10:39:05.450259Z"
    }
   },
   "id": "6677bbf4286f8aa"
  },
  {
   "cell_type": "code",
   "execution_count": 23,
   "outputs": [
    {
     "name": "stdout",
     "output_type": "stream",
     "text": [
      "Creating cellosaurus dictionary ...\n",
      "Mapping cell line names to cellosaurus IDs ...\n",
      "Saving dataframe with cellosaurus IDs ...\n"
     ]
    },
    {
     "data": {
      "text/plain": "Empty DataFrame\nColumns: [cellosaurus_id, cell_line_name, CVCL, cell_line_original_name]\nIndex: []",
      "text/html": "<div>\n<style scoped>\n    .dataframe tbody tr th:only-of-type {\n        vertical-align: middle;\n    }\n\n    .dataframe tbody tr th {\n        vertical-align: top;\n    }\n\n    .dataframe thead th {\n        text-align: right;\n    }\n</style>\n<table border=\"1\" class=\"dataframe\">\n  <thead>\n    <tr style=\"text-align: right;\">\n      <th></th>\n      <th>cellosaurus_id</th>\n      <th>cell_line_name</th>\n      <th>CVCL</th>\n      <th>cell_line_original_name</th>\n    </tr>\n  </thead>\n  <tbody>\n  </tbody>\n</table>\n</div>"
     },
     "execution_count": 23,
     "metadata": {},
     "output_type": "execute_result"
    }
   ],
   "source": [
    "from utils.convert_to_cello import create_cl_dict, map_to_cellosaurus\n",
    "cello_mapping = pd.read_csv(\"../../mapping/cellosaurus_01_2024.csv\")\n",
    "# replace all NaN values with empty strings\n",
    "cello_mapping = cello_mapping.fillna(\"\")\n",
    "# create cellosaurus dictionary\n",
    "cellosaurus_ac_dict, cellosaurus_sy_dict, species_dict, cello_ac_to_id_dict = create_cl_dict(cello_mapping)\n",
    "\n",
    "mapping_df = celline_mappings.copy()\n",
    "mapping_df[\"cell_line_original_name\"] = mapping_df[\"cell_line_name\"]\n",
    "mapping_df[\"cell_line_name\"] = mapping_df[\"cell_line_name\"].replace({\n",
    "    \"BC3C\": \"BC-3C\",\n",
    "    \"BT164\": \"BT 164\",\n",
    "    \"BT147\": \"BT 147\",\n",
    "    \"C32\": \"C32 [Human melanoma]\",\n",
    "    \"CJM\": \"CJM [Human melanoma]\",\n",
    "    \"COLO201\": \"COLO 201\",\n",
    "    \"COLO205\": \"COLO 205\",\n",
    "    \"ES2\": \"ES-2\",\n",
    "    \"G361\": \"G-361\",\n",
    "    \"HARA\": \"HARA [Human squamous cell lung carcinoma]\",\n",
    "    \"HH\": \"HH [Human lymphoma]\",\n",
    "    \"HT29\": \"HT-29\",\n",
    "    \"HT55\": \"HT-55\",\n",
    "    \"JK1\": \"JK-1\",\n",
    "    \"JM1\": \"JM-1\",\n",
    "    \"LK2\": \"LK-2\",\n",
    "    \"MEC1\": \"MEC-1\",\n",
    "    \"ME1\": \"ME-1 [Human leukemia]\",\n",
    "    \"MINO\": \"Mino\",\n",
    "    \"ML1\": \"ML-1 [Human thyroid carcinoma]\",\n",
    "    \"NCIH2087\": \"NCI-H2087\",\n",
    "    \"NCIH2444\": \"NCI-H2444\",\n",
    "    \"PC3\": \"PC-3\",\n",
    "    \"PL21\": \"PL-21\",\n",
    "    \"PK1\": \"PK-1\",\n",
    "    \"RCM1\": \"RCM-1 [Human rectal adenocarcinoma]\",\n",
    "    \"SH4\": \"SH-4\",\n",
    "    \"TC71\": \"TC-71\",\n",
    "    \"TE1\": \"TE-1\",\n",
    "    \"TE8\": \"TE-8\",\n",
    "    \"TE15\": \"TE-15\",\n",
    "    \"TTTHYROID\": \"TT\"\n",
    "})\n",
    "map_to_cellosaurus(mapping_df, cellosaurus_ac_dict, cellosaurus_sy_dict, species_dict, cello_ac_to_id_dict, output_path=\"CCLE_mapped.csv\")\n",
    "mapping_df = pd.read_csv(\"CCLE_mapped.csv\")\n",
    "# find out where CVCL is not equal to cellosaurus_id\n",
    "mapping_df.query(\"CVCL != cellosaurus_id\")"
   ],
   "metadata": {
    "collapsed": false,
    "ExecuteTime": {
     "end_time": "2025-02-07T10:39:10.732291Z",
     "start_time": "2025-02-07T10:39:06.129948Z"
    }
   },
   "id": "c0be90239a0d27d3"
  },
  {
   "cell_type": "code",
   "execution_count": 24,
   "id": "d362bc32-7b90-4412-8559-f22280812440",
   "metadata": {
    "ExecuteTime": {
     "end_time": "2025-02-07T10:39:12.356794Z",
     "start_time": "2025-02-07T10:39:12.343657Z"
    }
   },
   "outputs": [
    {
     "data": {
      "text/plain": "                     BTO\nCVCL_IP58  [BTO_0006002]\nCVCL_IP59  [BTO_0006003]\nCVCL_L211  [BTO_0005352]\nCVCL_5948  [BTO_0002603]\nCVCL_8030  [BTO_0002947]\n...                  ...\nCVCL_6746  [BTO_0003554]\nCVCL_WY40  [BTO_0006281]\nCVCL_5906  [BTO_0003992]\nCVCL_0588  [BTO_0003136]\nCVCL_1661  [BTO_0004915]\n\n[1774 rows x 1 columns]",
      "text/html": "<div>\n<style scoped>\n    .dataframe tbody tr th:only-of-type {\n        vertical-align: middle;\n    }\n\n    .dataframe tbody tr th {\n        vertical-align: top;\n    }\n\n    .dataframe thead th {\n        text-align: right;\n    }\n</style>\n<table border=\"1\" class=\"dataframe\">\n  <thead>\n    <tr style=\"text-align: right;\">\n      <th></th>\n      <th>BTO</th>\n    </tr>\n  </thead>\n  <tbody>\n    <tr>\n      <th>CVCL_IP58</th>\n      <td>[BTO_0006002]</td>\n    </tr>\n    <tr>\n      <th>CVCL_IP59</th>\n      <td>[BTO_0006003]</td>\n    </tr>\n    <tr>\n      <th>CVCL_L211</th>\n      <td>[BTO_0005352]</td>\n    </tr>\n    <tr>\n      <th>CVCL_5948</th>\n      <td>[BTO_0002603]</td>\n    </tr>\n    <tr>\n      <th>CVCL_8030</th>\n      <td>[BTO_0002947]</td>\n    </tr>\n    <tr>\n      <th>...</th>\n      <td>...</td>\n    </tr>\n    <tr>\n      <th>CVCL_6746</th>\n      <td>[BTO_0003554]</td>\n    </tr>\n    <tr>\n      <th>CVCL_WY40</th>\n      <td>[BTO_0006281]</td>\n    </tr>\n    <tr>\n      <th>CVCL_5906</th>\n      <td>[BTO_0003992]</td>\n    </tr>\n    <tr>\n      <th>CVCL_0588</th>\n      <td>[BTO_0003136]</td>\n    </tr>\n    <tr>\n      <th>CVCL_1661</th>\n      <td>[BTO_0004915]</td>\n    </tr>\n  </tbody>\n</table>\n<p>1774 rows × 1 columns</p>\n</div>"
     },
     "execution_count": 24,
     "metadata": {},
     "output_type": "execute_result"
    }
   ],
   "source": [
    "btos_df"
   ]
  },
  {
   "cell_type": "code",
   "execution_count": 25,
   "id": "efef41d1-cdeb-4642-9b09-3a4f800314e5",
   "metadata": {
    "ExecuteTime": {
     "end_time": "2025-02-07T10:39:16.973124Z",
     "start_time": "2025-02-07T10:39:16.915857Z"
    }
   },
   "outputs": [
    {
     "data": {
      "text/plain": "    cell_line_name       CVCL                         BTO\n220          SW480  CVCL_0546  [BTO_0000038, BTO_0006552]",
      "text/html": "<div>\n<style scoped>\n    .dataframe tbody tr th:only-of-type {\n        vertical-align: middle;\n    }\n\n    .dataframe tbody tr th {\n        vertical-align: top;\n    }\n\n    .dataframe thead th {\n        text-align: right;\n    }\n</style>\n<table border=\"1\" class=\"dataframe\">\n  <thead>\n    <tr style=\"text-align: right;\">\n      <th></th>\n      <th>cell_line_name</th>\n      <th>CVCL</th>\n      <th>BTO</th>\n    </tr>\n  </thead>\n  <tbody>\n    <tr>\n      <th>220</th>\n      <td>SW480</td>\n      <td>CVCL_0546</td>\n      <td>[BTO_0000038, BTO_0006552]</td>\n    </tr>\n  </tbody>\n</table>\n</div>"
     },
     "execution_count": 25,
     "metadata": {},
     "output_type": "execute_result"
    }
   ],
   "source": [
    "# filter relevant and check for more than one BTO mapping\n",
    "cvcl_to_bto = celline_mappings.merge(btos_df, left_on='CVCL', right_index=True, how='left')#[:220]\n",
    "cvcl_to_bto.query(\"BTO.str.len()>1\")"
   ]
  },
  {
   "cell_type": "code",
   "execution_count": 26,
   "id": "8359723e-a8f7-4dbc-834e-0dca136764b3",
   "metadata": {
    "ExecuteTime": {
     "end_time": "2025-02-07T10:39:17.731296Z",
     "start_time": "2025-02-07T10:39:17.700421Z"
    }
   },
   "outputs": [
    {
     "data": {
      "text/plain": "    cell_line_name       CVCL                         BTO\n220          SW480  CVCL_0546  [BTO_0000038, BTO_0006552]",
      "text/html": "<div>\n<style scoped>\n    .dataframe tbody tr th:only-of-type {\n        vertical-align: middle;\n    }\n\n    .dataframe tbody tr th {\n        vertical-align: top;\n    }\n\n    .dataframe thead th {\n        text-align: right;\n    }\n</style>\n<table border=\"1\" class=\"dataframe\">\n  <thead>\n    <tr style=\"text-align: right;\">\n      <th></th>\n      <th>cell_line_name</th>\n      <th>CVCL</th>\n      <th>BTO</th>\n    </tr>\n  </thead>\n  <tbody>\n    <tr>\n      <th>220</th>\n      <td>SW480</td>\n      <td>CVCL_0546</td>\n      <td>[BTO_0000038, BTO_0006552]</td>\n    </tr>\n  </tbody>\n</table>\n</div>"
     },
     "execution_count": 26,
     "metadata": {},
     "output_type": "execute_result"
    }
   ],
   "source": [
    "# choose BTO:0000038 since the other one refers to SWH80, which is a misspelling of SW-480, according to the entry CVCL_0546 in cellosaurus\n",
    "cvcl_to_bto.loc[\"SW480\", \"BTO\"] = ['BTO:0000038']\n",
    "cvcl_to_bto.query(\"BTO.str.len()>1\")"
   ]
  },
  {
   "cell_type": "code",
   "execution_count": 29,
   "id": "34624cfb-036a-47fd-b007-7c03c0268891",
   "metadata": {
    "ExecuteTime": {
     "end_time": "2025-02-07T10:44:14.801988Z",
     "start_time": "2025-02-07T10:44:14.717674Z"
    }
   },
   "outputs": [
    {
     "data": {
      "text/plain": "      cell_line_name       CVCL          BTO\n0               5637  CVCL_0126  BTO_0003137\n1              A2780  CVCL_0134  BTO_0002549\n2               A375  CVCL_0132  BTO_0002806\n3               A549  CVCL_0023  BTO_0000018\n4                AGS  CVCL_0139  BTO_0001007\n...              ...        ...          ...\n238              PC3  CVCL_0035  BTO_0001061\n239             PL21  CVCL_2161  BTO_0005928\n240             RCM1  CVCL_1648             \n241             SCC9  CVCL_1685  BTO_0005855\nSW480            NaN        NaN  BTO:0000038\n\n[243 rows x 3 columns]",
      "text/html": "<div>\n<style scoped>\n    .dataframe tbody tr th:only-of-type {\n        vertical-align: middle;\n    }\n\n    .dataframe tbody tr th {\n        vertical-align: top;\n    }\n\n    .dataframe thead th {\n        text-align: right;\n    }\n</style>\n<table border=\"1\" class=\"dataframe\">\n  <thead>\n    <tr style=\"text-align: right;\">\n      <th></th>\n      <th>cell_line_name</th>\n      <th>CVCL</th>\n      <th>BTO</th>\n    </tr>\n  </thead>\n  <tbody>\n    <tr>\n      <th>0</th>\n      <td>5637</td>\n      <td>CVCL_0126</td>\n      <td>BTO_0003137</td>\n    </tr>\n    <tr>\n      <th>1</th>\n      <td>A2780</td>\n      <td>CVCL_0134</td>\n      <td>BTO_0002549</td>\n    </tr>\n    <tr>\n      <th>2</th>\n      <td>A375</td>\n      <td>CVCL_0132</td>\n      <td>BTO_0002806</td>\n    </tr>\n    <tr>\n      <th>3</th>\n      <td>A549</td>\n      <td>CVCL_0023</td>\n      <td>BTO_0000018</td>\n    </tr>\n    <tr>\n      <th>4</th>\n      <td>AGS</td>\n      <td>CVCL_0139</td>\n      <td>BTO_0001007</td>\n    </tr>\n    <tr>\n      <th>...</th>\n      <td>...</td>\n      <td>...</td>\n      <td>...</td>\n    </tr>\n    <tr>\n      <th>238</th>\n      <td>PC3</td>\n      <td>CVCL_0035</td>\n      <td>BTO_0001061</td>\n    </tr>\n    <tr>\n      <th>239</th>\n      <td>PL21</td>\n      <td>CVCL_2161</td>\n      <td>BTO_0005928</td>\n    </tr>\n    <tr>\n      <th>240</th>\n      <td>RCM1</td>\n      <td>CVCL_1648</td>\n      <td></td>\n    </tr>\n    <tr>\n      <th>241</th>\n      <td>SCC9</td>\n      <td>CVCL_1685</td>\n      <td>BTO_0005855</td>\n    </tr>\n    <tr>\n      <th>SW480</th>\n      <td>NaN</td>\n      <td>NaN</td>\n      <td>BTO:0000038</td>\n    </tr>\n  </tbody>\n</table>\n<p>243 rows × 3 columns</p>\n</div>"
     },
     "execution_count": 29,
     "metadata": {},
     "output_type": "execute_result"
    }
   ],
   "source": [
    "cvcl_to_bto['BTO'] = cvcl_to_bto.BTO.transform(lambda x: '' if np.any(pd.isna(x)) else x[0])\n",
    "cvcl_to_bto"
   ]
  },
  {
   "cell_type": "markdown",
   "id": "894a42d5-c79e-49ad-8495-6289ca7a9bfb",
   "metadata": {},
   "source": [
    "## Bringing viability, drug, and cell line mappings together"
   ]
  },
  {
   "cell_type": "code",
   "execution_count": 30,
   "id": "b7c9441e-9dba-4eb7-9987-9cb713f2ea5a",
   "metadata": {
    "ExecuteTime": {
     "end_time": "2025-02-07T10:44:24.177270Z",
     "start_time": "2025-02-07T10:44:23.695472Z"
    }
   },
   "outputs": [],
   "source": [
    "# first bring drugs in\n",
    "full_df[\"pubchem_cid\"] = full_df.pubchem_cid.astype(str)\n",
    "for key, value in results.items():\n",
    "    full_df.loc[full_df.cpd_name == key, 'pubchem_cid'] = value"
   ]
  },
  {
   "cell_type": "code",
   "execution_count": 31,
   "id": "8d87a9bc-6f47-4512-b157-9c979915b320",
   "metadata": {
    "ExecuteTime": {
     "end_time": "2025-02-07T10:44:25.715255Z",
     "start_time": "2025-02-07T10:44:25.653410Z"
    }
   },
   "outputs": [
    {
     "data": {
      "text/plain": "Empty DataFrame\nColumns: [ccl_name, cpd_name, well_role, cpd_conc_umol, cpd_avg_pv, cpd_synonym, cpd_status, target_or_activity_of_compound, gene_symbol_of_protein_target, top_test_conc_umol, percent_cpd_purity, cpd_smiles, pubchem_cid, broad_cpd_id, master_cpd_id, maxdose, mindose, replicate, nreplicates]\nIndex: []",
      "text/html": "<div>\n<style scoped>\n    .dataframe tbody tr th:only-of-type {\n        vertical-align: middle;\n    }\n\n    .dataframe tbody tr th {\n        vertical-align: top;\n    }\n\n    .dataframe thead th {\n        text-align: right;\n    }\n</style>\n<table border=\"1\" class=\"dataframe\">\n  <thead>\n    <tr style=\"text-align: right;\">\n      <th></th>\n      <th>ccl_name</th>\n      <th>cpd_name</th>\n      <th>well_role</th>\n      <th>cpd_conc_umol</th>\n      <th>cpd_avg_pv</th>\n      <th>cpd_synonym</th>\n      <th>cpd_status</th>\n      <th>target_or_activity_of_compound</th>\n      <th>gene_symbol_of_protein_target</th>\n      <th>top_test_conc_umol</th>\n      <th>percent_cpd_purity</th>\n      <th>cpd_smiles</th>\n      <th>pubchem_cid</th>\n      <th>broad_cpd_id</th>\n      <th>master_cpd_id</th>\n      <th>maxdose</th>\n      <th>mindose</th>\n      <th>replicate</th>\n      <th>nreplicates</th>\n    </tr>\n  </thead>\n  <tbody>\n  </tbody>\n</table>\n</div>"
     },
     "execution_count": 31,
     "metadata": {},
     "output_type": "execute_result"
    }
   ],
   "source": [
    "# check if there is any drug left without a pubchem_cid\n",
    "full_df.query(\"pubchem_cid=='-1'\")"
   ]
  },
  {
   "cell_type": "code",
   "execution_count": 32,
   "id": "8f9ab543-6e7b-4f8b-b372-8f4ac1f1930c",
   "metadata": {
    "ExecuteTime": {
     "end_time": "2025-02-07T10:44:26.579232Z",
     "start_time": "2025-02-07T10:44:26.516509Z"
    }
   },
   "outputs": [
    {
     "data": {
      "text/plain": "       ccl_name                         cpd_name well_role  cpd_conc_umol  \\\n497446    SW480  (-)-gallocatechin-3-monogallate       Cpd         2.3125   \n497447    SW480  (-)-gallocatechin-3-monogallate       Cpd         4.6250   \n497448    SW480  (-)-gallocatechin-3-monogallate       Cpd         9.2500   \n497449    SW480  (-)-gallocatechin-3-monogallate       Cpd        18.5000   \n497450    SW480  (-)-gallocatechin-3-monogallate       Cpd        37.0000   \n...         ...                              ...       ...            ...   \n499983    SW480                         zileuton       Cpd        33.3330   \n499984    SW480                         zileuton       Cpd        66.6670   \n499985    SW480                         zileuton       Cpd       133.3300   \n499986    SW480                         zileuton       Cpd       266.6700   \n499987    SW480                         zileuton       Cpd       533.3300   \n\n        cpd_avg_pv                      cpd_synonym    cpd_status  \\\n497446    0.961828  gallocatechin gallate;L-GCG;GCG         probe   \n497447    0.946067  gallocatechin gallate;L-GCG;GCG         probe   \n497448    0.918283  gallocatechin gallate;L-GCG;GCG         probe   \n497449    0.869083  gallocatechin gallate;L-GCG;GCG         probe   \n497450    0.886981  gallocatechin gallate;L-GCG;GCG         probe   \n...            ...                              ...           ...   \n499983    0.875758                            Zyflo  FDA-approved   \n499984    0.850361                            Zyflo  FDA-approved   \n499985    0.757622                            Zyflo  FDA-approved   \n499986    0.711516                            Zyflo  FDA-approved   \n499987    0.247761                            Zyflo  FDA-approved   \n\n       target_or_activity_of_compound gene_symbol_of_protein_target  \\\n497446                natural product                           NaN   \n497447                natural product                           NaN   \n497448                natural product                           NaN   \n497449                natural product                           NaN   \n497450                natural product                           NaN   \n...                               ...                           ...   \n499983    inhibitor of 5-lipoxygenase                         ALOX5   \n499984    inhibitor of 5-lipoxygenase                         ALOX5   \n499985    inhibitor of 5-lipoxygenase                         ALOX5   \n499986    inhibitor of 5-lipoxygenase                         ALOX5   \n499987    inhibitor of 5-lipoxygenase                         ALOX5   \n\n        top_test_conc_umol  ...  pubchem_cid   broad_cpd_id master_cpd_id  \\\n497446              296.00  ...       199472  BRD-K19216856        411730   \n497447              296.00  ...       199472  BRD-K19216856        411730   \n497448              296.00  ...       199472  BRD-K19216856        411730   \n497449              296.00  ...       199472  BRD-K19216856        411730   \n497450              296.00  ...       199472  BRD-K19216856        411730   \n...                    ...  ...          ...            ...           ...   \n499983              533.33  ...        60490  BRD-A56359832        346974   \n499984              533.33  ...        60490  BRD-A56359832        346974   \n499985              533.33  ...        60490  BRD-A56359832        346974   \n499986              533.33  ...        60490  BRD-A56359832        346974   \n499987              533.33  ...        60490  BRD-A56359832        346974   \n\n       maxdose  mindose  replicate  nreplicates  cell_line_name  CVCL  \\\n497446  296.00   2.3125          1            1             NaN   NaN   \n497447  296.00   2.3125          1            1             NaN   NaN   \n497448  296.00   2.3125          1            1             NaN   NaN   \n497449  296.00   2.3125          1            1             NaN   NaN   \n497450  296.00   2.3125          1            1             NaN   NaN   \n...        ...      ...        ...          ...             ...   ...   \n499983  533.33   4.1667          1            1             NaN   NaN   \n499984  533.33   4.1667          1            1             NaN   NaN   \n499985  533.33   4.1667          1            1             NaN   NaN   \n499986  533.33   4.1667          1            1             NaN   NaN   \n499987  533.33   4.1667          1            1             NaN   NaN   \n\n                BTO  \n497446  BTO:0000038  \n497447  BTO:0000038  \n497448  BTO:0000038  \n497449  BTO:0000038  \n497450  BTO:0000038  \n...             ...  \n499983  BTO:0000038  \n499984  BTO:0000038  \n499985  BTO:0000038  \n499986  BTO:0000038  \n499987  BTO:0000038  \n\n[2542 rows x 22 columns]",
      "text/html": "<div>\n<style scoped>\n    .dataframe tbody tr th:only-of-type {\n        vertical-align: middle;\n    }\n\n    .dataframe tbody tr th {\n        vertical-align: top;\n    }\n\n    .dataframe thead th {\n        text-align: right;\n    }\n</style>\n<table border=\"1\" class=\"dataframe\">\n  <thead>\n    <tr style=\"text-align: right;\">\n      <th></th>\n      <th>ccl_name</th>\n      <th>cpd_name</th>\n      <th>well_role</th>\n      <th>cpd_conc_umol</th>\n      <th>cpd_avg_pv</th>\n      <th>cpd_synonym</th>\n      <th>cpd_status</th>\n      <th>target_or_activity_of_compound</th>\n      <th>gene_symbol_of_protein_target</th>\n      <th>top_test_conc_umol</th>\n      <th>...</th>\n      <th>pubchem_cid</th>\n      <th>broad_cpd_id</th>\n      <th>master_cpd_id</th>\n      <th>maxdose</th>\n      <th>mindose</th>\n      <th>replicate</th>\n      <th>nreplicates</th>\n      <th>cell_line_name</th>\n      <th>CVCL</th>\n      <th>BTO</th>\n    </tr>\n  </thead>\n  <tbody>\n    <tr>\n      <th>497446</th>\n      <td>SW480</td>\n      <td>(-)-gallocatechin-3-monogallate</td>\n      <td>Cpd</td>\n      <td>2.3125</td>\n      <td>0.961828</td>\n      <td>gallocatechin gallate;L-GCG;GCG</td>\n      <td>probe</td>\n      <td>natural product</td>\n      <td>NaN</td>\n      <td>296.00</td>\n      <td>...</td>\n      <td>199472</td>\n      <td>BRD-K19216856</td>\n      <td>411730</td>\n      <td>296.00</td>\n      <td>2.3125</td>\n      <td>1</td>\n      <td>1</td>\n      <td>NaN</td>\n      <td>NaN</td>\n      <td>BTO:0000038</td>\n    </tr>\n    <tr>\n      <th>497447</th>\n      <td>SW480</td>\n      <td>(-)-gallocatechin-3-monogallate</td>\n      <td>Cpd</td>\n      <td>4.6250</td>\n      <td>0.946067</td>\n      <td>gallocatechin gallate;L-GCG;GCG</td>\n      <td>probe</td>\n      <td>natural product</td>\n      <td>NaN</td>\n      <td>296.00</td>\n      <td>...</td>\n      <td>199472</td>\n      <td>BRD-K19216856</td>\n      <td>411730</td>\n      <td>296.00</td>\n      <td>2.3125</td>\n      <td>1</td>\n      <td>1</td>\n      <td>NaN</td>\n      <td>NaN</td>\n      <td>BTO:0000038</td>\n    </tr>\n    <tr>\n      <th>497448</th>\n      <td>SW480</td>\n      <td>(-)-gallocatechin-3-monogallate</td>\n      <td>Cpd</td>\n      <td>9.2500</td>\n      <td>0.918283</td>\n      <td>gallocatechin gallate;L-GCG;GCG</td>\n      <td>probe</td>\n      <td>natural product</td>\n      <td>NaN</td>\n      <td>296.00</td>\n      <td>...</td>\n      <td>199472</td>\n      <td>BRD-K19216856</td>\n      <td>411730</td>\n      <td>296.00</td>\n      <td>2.3125</td>\n      <td>1</td>\n      <td>1</td>\n      <td>NaN</td>\n      <td>NaN</td>\n      <td>BTO:0000038</td>\n    </tr>\n    <tr>\n      <th>497449</th>\n      <td>SW480</td>\n      <td>(-)-gallocatechin-3-monogallate</td>\n      <td>Cpd</td>\n      <td>18.5000</td>\n      <td>0.869083</td>\n      <td>gallocatechin gallate;L-GCG;GCG</td>\n      <td>probe</td>\n      <td>natural product</td>\n      <td>NaN</td>\n      <td>296.00</td>\n      <td>...</td>\n      <td>199472</td>\n      <td>BRD-K19216856</td>\n      <td>411730</td>\n      <td>296.00</td>\n      <td>2.3125</td>\n      <td>1</td>\n      <td>1</td>\n      <td>NaN</td>\n      <td>NaN</td>\n      <td>BTO:0000038</td>\n    </tr>\n    <tr>\n      <th>497450</th>\n      <td>SW480</td>\n      <td>(-)-gallocatechin-3-monogallate</td>\n      <td>Cpd</td>\n      <td>37.0000</td>\n      <td>0.886981</td>\n      <td>gallocatechin gallate;L-GCG;GCG</td>\n      <td>probe</td>\n      <td>natural product</td>\n      <td>NaN</td>\n      <td>296.00</td>\n      <td>...</td>\n      <td>199472</td>\n      <td>BRD-K19216856</td>\n      <td>411730</td>\n      <td>296.00</td>\n      <td>2.3125</td>\n      <td>1</td>\n      <td>1</td>\n      <td>NaN</td>\n      <td>NaN</td>\n      <td>BTO:0000038</td>\n    </tr>\n    <tr>\n      <th>...</th>\n      <td>...</td>\n      <td>...</td>\n      <td>...</td>\n      <td>...</td>\n      <td>...</td>\n      <td>...</td>\n      <td>...</td>\n      <td>...</td>\n      <td>...</td>\n      <td>...</td>\n      <td>...</td>\n      <td>...</td>\n      <td>...</td>\n      <td>...</td>\n      <td>...</td>\n      <td>...</td>\n      <td>...</td>\n      <td>...</td>\n      <td>...</td>\n      <td>...</td>\n      <td>...</td>\n    </tr>\n    <tr>\n      <th>499983</th>\n      <td>SW480</td>\n      <td>zileuton</td>\n      <td>Cpd</td>\n      <td>33.3330</td>\n      <td>0.875758</td>\n      <td>Zyflo</td>\n      <td>FDA-approved</td>\n      <td>inhibitor of 5-lipoxygenase</td>\n      <td>ALOX5</td>\n      <td>533.33</td>\n      <td>...</td>\n      <td>60490</td>\n      <td>BRD-A56359832</td>\n      <td>346974</td>\n      <td>533.33</td>\n      <td>4.1667</td>\n      <td>1</td>\n      <td>1</td>\n      <td>NaN</td>\n      <td>NaN</td>\n      <td>BTO:0000038</td>\n    </tr>\n    <tr>\n      <th>499984</th>\n      <td>SW480</td>\n      <td>zileuton</td>\n      <td>Cpd</td>\n      <td>66.6670</td>\n      <td>0.850361</td>\n      <td>Zyflo</td>\n      <td>FDA-approved</td>\n      <td>inhibitor of 5-lipoxygenase</td>\n      <td>ALOX5</td>\n      <td>533.33</td>\n      <td>...</td>\n      <td>60490</td>\n      <td>BRD-A56359832</td>\n      <td>346974</td>\n      <td>533.33</td>\n      <td>4.1667</td>\n      <td>1</td>\n      <td>1</td>\n      <td>NaN</td>\n      <td>NaN</td>\n      <td>BTO:0000038</td>\n    </tr>\n    <tr>\n      <th>499985</th>\n      <td>SW480</td>\n      <td>zileuton</td>\n      <td>Cpd</td>\n      <td>133.3300</td>\n      <td>0.757622</td>\n      <td>Zyflo</td>\n      <td>FDA-approved</td>\n      <td>inhibitor of 5-lipoxygenase</td>\n      <td>ALOX5</td>\n      <td>533.33</td>\n      <td>...</td>\n      <td>60490</td>\n      <td>BRD-A56359832</td>\n      <td>346974</td>\n      <td>533.33</td>\n      <td>4.1667</td>\n      <td>1</td>\n      <td>1</td>\n      <td>NaN</td>\n      <td>NaN</td>\n      <td>BTO:0000038</td>\n    </tr>\n    <tr>\n      <th>499986</th>\n      <td>SW480</td>\n      <td>zileuton</td>\n      <td>Cpd</td>\n      <td>266.6700</td>\n      <td>0.711516</td>\n      <td>Zyflo</td>\n      <td>FDA-approved</td>\n      <td>inhibitor of 5-lipoxygenase</td>\n      <td>ALOX5</td>\n      <td>533.33</td>\n      <td>...</td>\n      <td>60490</td>\n      <td>BRD-A56359832</td>\n      <td>346974</td>\n      <td>533.33</td>\n      <td>4.1667</td>\n      <td>1</td>\n      <td>1</td>\n      <td>NaN</td>\n      <td>NaN</td>\n      <td>BTO:0000038</td>\n    </tr>\n    <tr>\n      <th>499987</th>\n      <td>SW480</td>\n      <td>zileuton</td>\n      <td>Cpd</td>\n      <td>533.3300</td>\n      <td>0.247761</td>\n      <td>Zyflo</td>\n      <td>FDA-approved</td>\n      <td>inhibitor of 5-lipoxygenase</td>\n      <td>ALOX5</td>\n      <td>533.33</td>\n      <td>...</td>\n      <td>60490</td>\n      <td>BRD-A56359832</td>\n      <td>346974</td>\n      <td>533.33</td>\n      <td>4.1667</td>\n      <td>1</td>\n      <td>1</td>\n      <td>NaN</td>\n      <td>NaN</td>\n      <td>BTO:0000038</td>\n    </tr>\n  </tbody>\n</table>\n<p>2542 rows × 22 columns</p>\n</div>"
     },
     "execution_count": 32,
     "metadata": {},
     "output_type": "execute_result"
    }
   ],
   "source": [
    "full_df = full_df.merge(cvcl_to_bto, left_on='ccl_name', right_index=True)\n",
    "full_df"
   ]
  },
  {
   "cell_type": "code",
   "execution_count": 33,
   "id": "b06d57f7-26d2-475b-9a86-66662ec5cd7e",
   "metadata": {
    "ExecuteTime": {
     "end_time": "2025-02-07T10:45:19.240314Z",
     "start_time": "2025-02-07T10:45:19.210689Z"
    }
   },
   "outputs": [
    {
     "data": {
      "text/plain": "313"
     },
     "execution_count": 33,
     "metadata": {},
     "output_type": "execute_result"
    }
   ],
   "source": [
    "len(full_df.cpd_name.unique())"
   ]
  },
  {
   "cell_type": "code",
   "execution_count": 34,
   "id": "5cca8742-2931-4a37-be18-3ee0ed3fe0f4",
   "metadata": {
    "ExecuteTime": {
     "end_time": "2025-02-07T10:45:19.682272Z",
     "start_time": "2025-02-07T10:45:19.644378Z"
    }
   },
   "outputs": [
    {
     "data": {
      "text/plain": "313"
     },
     "execution_count": 34,
     "metadata": {},
     "output_type": "execute_result"
    }
   ],
   "source": [
    "len(full_df.pubchem_cid.unique())"
   ]
  },
  {
   "cell_type": "markdown",
   "id": "a558e747-85fb-4d40-a5f0-8fce78778f8c",
   "metadata": {},
   "source": [
    "ensure all cellline drug combinations start with only one maxdose"
   ]
  },
  {
   "cell_type": "code",
   "execution_count": 35,
   "id": "4acfcd8f-72c2-438e-a88d-f702a1b206c6",
   "metadata": {
    "ExecuteTime": {
     "end_time": "2025-02-07T10:45:22.092727Z",
     "start_time": "2025-02-07T10:45:22.031539Z"
    }
   },
   "outputs": [
    {
     "data": {
      "text/plain": "maxdose  mindose\n1        1          313\nName: count, dtype: int64"
     },
     "execution_count": 35,
     "metadata": {},
     "output_type": "execute_result"
    }
   ],
   "source": [
    "full_df.groupby([\"ccl_name\", \"cpd_name\"])[[\"maxdose\", \"mindose\"]].nunique().value_counts()"
   ]
  },
  {
   "cell_type": "markdown",
   "id": "40fb0b82-839d-4f88-8938-ca7f4c776460",
   "metadata": {},
   "source": [
    "ensure there are no duplicates remaining that cause problems when pivoting the dataframe for curvecurator input creation"
   ]
  },
  {
   "cell_type": "code",
   "execution_count": 36,
   "id": "3b277cf2-3760-42de-b8a3-922da6effef4",
   "metadata": {
    "ExecuteTime": {
     "end_time": "2025-02-07T10:45:29.158785Z",
     "start_time": "2025-02-07T10:45:29.080142Z"
    }
   },
   "outputs": [
    {
     "data": {
      "text/plain": "Empty DataFrame\nColumns: [cpd_name, ccl_name, cpd_conc_umol, replicate]\nIndex: []",
      "text/html": "<div>\n<style scoped>\n    .dataframe tbody tr th:only-of-type {\n        vertical-align: middle;\n    }\n\n    .dataframe tbody tr th {\n        vertical-align: top;\n    }\n\n    .dataframe thead th {\n        text-align: right;\n    }\n</style>\n<table border=\"1\" class=\"dataframe\">\n  <thead>\n    <tr style=\"text-align: right;\">\n      <th></th>\n      <th>cpd_name</th>\n      <th>ccl_name</th>\n      <th>cpd_conc_umol</th>\n      <th>replicate</th>\n    </tr>\n  </thead>\n  <tbody>\n  </tbody>\n</table>\n</div>"
     },
     "execution_count": 36,
     "metadata": {},
     "output_type": "execute_result"
    }
   ],
   "source": [
    "full_df[full_df[[\"cpd_name\", \"ccl_name\", \"cpd_conc_umol\", \"replicate\"]].duplicated(keep=False)][[\"cpd_name\", \"ccl_name\", \"cpd_conc_umol\", \"replicate\"]]"
   ]
  },
  {
   "cell_type": "markdown",
   "id": "374bd6e2-4868-4265-9dbc-92664a853958",
   "metadata": {},
   "source": [
    "rename columns for use in CurveCurator and save. Original dose is renamed to \"lib_dose\" to prevent duplication of column name."
   ]
  },
  {
   "cell_type": "code",
   "execution_count": 33,
   "id": "feeea273-674d-4a25-8658-0b0b32628c2c",
   "metadata": {},
   "outputs": [],
   "source": [
    "full_df.rename(columns={\"cpd_conc_umol\": \"dose\", \"cpd_avg_pv\": \"response\", \"CVCL\": \"sample\", \"pubchem_cid\": \"drug\"}, inplace=True)\n",
    "full_df.to_csv(\"viabilities_processed.csv\", index=None)"
   ]
  },
  {
   "cell_type": "code",
   "execution_count": 35,
   "id": "0538313c-64f9-403b-b265-ff39b176527a",
   "metadata": {},
   "outputs": [],
   "source": [
    "preprocess(input_file=\"viabilities_processed.csv\", output_dir='curvecurator', dataset_name=\"CTRPv1\", cores=100)"
   ]
  },
  {
   "cell_type": "markdown",
   "id": "06ad27e0-e31d-4e1e-836c-5168b8118a1b",
   "metadata": {},
   "source": [
    "# Prepare for DrEvalPy"
   ]
  },
  {
   "cell_type": "markdown",
   "id": "c2d44447-0b4b-475c-b232-f1248fecd856",
   "metadata": {},
   "source": [
    "## Run CurveCurator"
   ]
  },
  {
   "cell_type": "code",
   "execution_count": 2,
   "id": "cb3df1bd-f251-4eae-b4e8-33e592fe61ab",
   "metadata": {},
   "outputs": [],
   "source": [
    "_exec_curvecurator(Path(\"curvecurator\"))"
   ]
  },
  {
   "cell_type": "code",
   "execution_count": 3,
   "id": "c8d3f10e-e739-4b58-a6bb-3dc3162a3752",
   "metadata": {},
   "outputs": [],
   "source": [
    "postprocess(\"curvecurator\", dataset_name=\"CTRPv1\")"
   ]
  },
  {
   "cell_type": "markdown",
   "id": "cf4617fb-54be-4d12-92bb-f61679c57348",
   "metadata": {},
   "source": [
    "## Combine curvecurator output with original measures from publication"
   ]
  },
  {
   "cell_type": "code",
   "execution_count": 63,
   "id": "cb76a79e-387d-4027-ba8f-0c1210eae13f",
   "metadata": {},
   "outputs": [
    {
     "data": {
      "text/html": [
       "<div>\n",
       "<style scoped>\n",
       "    .dataframe tbody tr th:only-of-type {\n",
       "        vertical-align: middle;\n",
       "    }\n",
       "\n",
       "    .dataframe tbody tr th {\n",
       "        vertical-align: top;\n",
       "    }\n",
       "\n",
       "    .dataframe thead th {\n",
       "        text-align: right;\n",
       "    }\n",
       "</style>\n",
       "<table border=\"1\" class=\"dataframe\">\n",
       "  <thead>\n",
       "    <tr style=\"text-align: right;\">\n",
       "      <th></th>\n",
       "      <th>Name</th>\n",
       "      <th>SignalQuality</th>\n",
       "      <th>pEC50_curvecurator</th>\n",
       "      <th>Slope</th>\n",
       "      <th>Front</th>\n",
       "      <th>Back</th>\n",
       "      <th>FoldChange</th>\n",
       "      <th>AUC_curvecurator</th>\n",
       "      <th>RMSE</th>\n",
       "      <th>R2</th>\n",
       "      <th>...</th>\n",
       "      <th>RelevanceScore</th>\n",
       "      <th>Regulation</th>\n",
       "      <th>cell_line_id</th>\n",
       "      <th>drug_id</th>\n",
       "      <th>EC50_curvecurator</th>\n",
       "      <th>IC50_curvecurator</th>\n",
       "      <th>ccl_name</th>\n",
       "      <th>cpd_name</th>\n",
       "      <th>sample</th>\n",
       "      <th>drug</th>\n",
       "    </tr>\n",
       "  </thead>\n",
       "  <tbody>\n",
       "    <tr>\n",
       "      <th>0</th>\n",
       "      <td>CVCL_0006|387447</td>\n",
       "      <td>0.0</td>\n",
       "      <td>8.121074</td>\n",
       "      <td>10.000000</td>\n",
       "      <td>1.097185</td>\n",
       "      <td>0.031570</td>\n",
       "      <td>-4.985291</td>\n",
       "      <td>0.472640</td>\n",
       "      <td>0.039506</td>\n",
       "      <td>0.993924</td>\n",
       "      <td>...</td>\n",
       "      <td>4.524094</td>\n",
       "      <td>down</td>\n",
       "      <td>CVCL_0006</td>\n",
       "      <td>387447</td>\n",
       "      <td>7.567035e-09</td>\n",
       "      <td>7.753043e-09</td>\n",
       "      <td>THP1</td>\n",
       "      <td>bortezomib</td>\n",
       "      <td>CVCL_0006</td>\n",
       "      <td>387447</td>\n",
       "    </tr>\n",
       "    <tr>\n",
       "      <th>1</th>\n",
       "      <td>CVCL_0007|387447</td>\n",
       "      <td>0.0</td>\n",
       "      <td>8.386980</td>\n",
       "      <td>10.000000</td>\n",
       "      <td>1.147691</td>\n",
       "      <td>0.010585</td>\n",
       "      <td>-6.561786</td>\n",
       "      <td>0.337758</td>\n",
       "      <td>0.085707</td>\n",
       "      <td>0.973699</td>\n",
       "      <td>...</td>\n",
       "      <td>3.618468</td>\n",
       "      <td>down</td>\n",
       "      <td>CVCL_0007</td>\n",
       "      <td>387447</td>\n",
       "      <td>4.102228e-09</td>\n",
       "      <td>4.218800e-09</td>\n",
       "      <td>U937</td>\n",
       "      <td>bortezomib</td>\n",
       "      <td>CVCL_0007</td>\n",
       "      <td>387447</td>\n",
       "    </tr>\n",
       "    <tr>\n",
       "      <th>2</th>\n",
       "      <td>CVCL_0012|387447</td>\n",
       "      <td>0.0</td>\n",
       "      <td>8.577246</td>\n",
       "      <td>4.573292</td>\n",
       "      <td>1.030760</td>\n",
       "      <td>0.026085</td>\n",
       "      <td>-5.260615</td>\n",
       "      <td>0.225003</td>\n",
       "      <td>0.016225</td>\n",
       "      <td>0.998586</td>\n",
       "      <td>...</td>\n",
       "      <td>5.356272</td>\n",
       "      <td>down</td>\n",
       "      <td>CVCL_0012</td>\n",
       "      <td>387447</td>\n",
       "      <td>2.647000e-09</td>\n",
       "      <td>2.713386e-09</td>\n",
       "      <td>LP1</td>\n",
       "      <td>bortezomib</td>\n",
       "      <td>CVCL_0012</td>\n",
       "      <td>387447</td>\n",
       "    </tr>\n",
       "    <tr>\n",
       "      <th>3</th>\n",
       "      <td>CVCL_0014|387447</td>\n",
       "      <td>0.0</td>\n",
       "      <td>8.526281</td>\n",
       "      <td>8.269879</td>\n",
       "      <td>1.043971</td>\n",
       "      <td>0.010244</td>\n",
       "      <td>-6.609083</td>\n",
       "      <td>0.239339</td>\n",
       "      <td>0.020866</td>\n",
       "      <td>0.998078</td>\n",
       "      <td>...</td>\n",
       "      <td>5.487835</td>\n",
       "      <td>down</td>\n",
       "      <td>CVCL_0014</td>\n",
       "      <td>387447</td>\n",
       "      <td>2.976590e-09</td>\n",
       "      <td>3.014620e-09</td>\n",
       "      <td>RPMI8226</td>\n",
       "      <td>bortezomib</td>\n",
       "      <td>CVCL_0014</td>\n",
       "      <td>387447</td>\n",
       "    </tr>\n",
       "    <tr>\n",
       "      <th>4</th>\n",
       "      <td>CVCL_0024|387447</td>\n",
       "      <td>0.0</td>\n",
       "      <td>8.243077</td>\n",
       "      <td>3.748460</td>\n",
       "      <td>1.119518</td>\n",
       "      <td>0.016693</td>\n",
       "      <td>-5.903842</td>\n",
       "      <td>0.409407</td>\n",
       "      <td>0.170436</td>\n",
       "      <td>0.895521</td>\n",
       "      <td>...</td>\n",
       "      <td>2.302993</td>\n",
       "      <td>down</td>\n",
       "      <td>CVCL_0024</td>\n",
       "      <td>387447</td>\n",
       "      <td>5.713767e-09</td>\n",
       "      <td>6.105049e-09</td>\n",
       "      <td>SCLC21H</td>\n",
       "      <td>bortezomib</td>\n",
       "      <td>CVCL_0024</td>\n",
       "      <td>387447</td>\n",
       "    </tr>\n",
       "    <tr>\n",
       "      <th>...</th>\n",
       "      <td>...</td>\n",
       "      <td>...</td>\n",
       "      <td>...</td>\n",
       "      <td>...</td>\n",
       "      <td>...</td>\n",
       "      <td>...</td>\n",
       "      <td>...</td>\n",
       "      <td>...</td>\n",
       "      <td>...</td>\n",
       "      <td>...</td>\n",
       "      <td>...</td>\n",
       "      <td>...</td>\n",
       "      <td>...</td>\n",
       "      <td>...</td>\n",
       "      <td>...</td>\n",
       "      <td>...</td>\n",
       "      <td>...</td>\n",
       "      <td>...</td>\n",
       "      <td>...</td>\n",
       "      <td>...</td>\n",
       "      <td>...</td>\n",
       "    </tr>\n",
       "    <tr>\n",
       "      <th>60752</th>\n",
       "      <td>CVCL_1662|100016</td>\n",
       "      <td>0.0</td>\n",
       "      <td>2.528659</td>\n",
       "      <td>0.560463</td>\n",
       "      <td>0.977548</td>\n",
       "      <td>0.000100</td>\n",
       "      <td>-0.524009</td>\n",
       "      <td>0.864628</td>\n",
       "      <td>0.056947</td>\n",
       "      <td>0.701450</td>\n",
       "      <td>...</td>\n",
       "      <td>0.550318</td>\n",
       "      <td>NaN</td>\n",
       "      <td>CVCL_1662</td>\n",
       "      <td>100016</td>\n",
       "      <td>2.960337e-03</td>\n",
       "      <td>2.728323e-03</td>\n",
       "      <td>RMGI</td>\n",
       "      <td>zebularine</td>\n",
       "      <td>CVCL_1662</td>\n",
       "      <td>100016</td>\n",
       "    </tr>\n",
       "    <tr>\n",
       "      <th>60753</th>\n",
       "      <td>CVCL_1662|119607</td>\n",
       "      <td>0.0</td>\n",
       "      <td>3.613511</td>\n",
       "      <td>1.785789</td>\n",
       "      <td>0.894399</td>\n",
       "      <td>0.000100</td>\n",
       "      <td>-2.717681</td>\n",
       "      <td>0.711523</td>\n",
       "      <td>0.089469</td>\n",
       "      <td>0.905135</td>\n",
       "      <td>...</td>\n",
       "      <td>4.106325</td>\n",
       "      <td>down</td>\n",
       "      <td>CVCL_1662</td>\n",
       "      <td>119607</td>\n",
       "      <td>2.434945e-04</td>\n",
       "      <td>2.132263e-04</td>\n",
       "      <td>RMGI</td>\n",
       "      <td>valdecoxib</td>\n",
       "      <td>CVCL_1662</td>\n",
       "      <td>119607</td>\n",
       "    </tr>\n",
       "    <tr>\n",
       "      <th>60754</th>\n",
       "      <td>CVCL_1662|216326</td>\n",
       "      <td>0.0</td>\n",
       "      <td>5.349522</td>\n",
       "      <td>10.000000</td>\n",
       "      <td>1.000023</td>\n",
       "      <td>0.931218</td>\n",
       "      <td>-0.102808</td>\n",
       "      <td>0.931982</td>\n",
       "      <td>0.047540</td>\n",
       "      <td>0.124025</td>\n",
       "      <td>...</td>\n",
       "      <td>-0.000000</td>\n",
       "      <td>not</td>\n",
       "      <td>CVCL_1662</td>\n",
       "      <td>216326</td>\n",
       "      <td>4.471758e-06</td>\n",
       "      <td>NaN</td>\n",
       "      <td>RMGI</td>\n",
       "      <td>lenalidomide</td>\n",
       "      <td>CVCL_1662</td>\n",
       "      <td>216326</td>\n",
       "    </tr>\n",
       "    <tr>\n",
       "      <th>60755</th>\n",
       "      <td>CVCL_1662|39562</td>\n",
       "      <td>0.0</td>\n",
       "      <td>3.375186</td>\n",
       "      <td>2.936334</td>\n",
       "      <td>0.933884</td>\n",
       "      <td>0.000100</td>\n",
       "      <td>-1.990078</td>\n",
       "      <td>0.847939</td>\n",
       "      <td>0.076599</td>\n",
       "      <td>0.893732</td>\n",
       "      <td>...</td>\n",
       "      <td>3.426395</td>\n",
       "      <td>down</td>\n",
       "      <td>CVCL_1662</td>\n",
       "      <td>39562</td>\n",
       "      <td>4.215162e-04</td>\n",
       "      <td>4.016673e-04</td>\n",
       "      <td>RMGI</td>\n",
       "      <td>lonidamine</td>\n",
       "      <td>CVCL_1662</td>\n",
       "      <td>39562</td>\n",
       "    </tr>\n",
       "    <tr>\n",
       "      <th>60756</th>\n",
       "      <td>CVCL_1662|4788</td>\n",
       "      <td>0.0</td>\n",
       "      <td>3.392260</td>\n",
       "      <td>4.719809</td>\n",
       "      <td>0.896248</td>\n",
       "      <td>0.000100</td>\n",
       "      <td>-2.960555</td>\n",
       "      <td>0.820205</td>\n",
       "      <td>0.060269</td>\n",
       "      <td>0.943984</td>\n",
       "      <td>...</td>\n",
       "      <td>5.012137</td>\n",
       "      <td>down</td>\n",
       "      <td>CVCL_1662</td>\n",
       "      <td>4788</td>\n",
       "      <td>4.052662e-04</td>\n",
       "      <td>3.857971e-04</td>\n",
       "      <td>RMGI</td>\n",
       "      <td>phloretin</td>\n",
       "      <td>CVCL_1662</td>\n",
       "      <td>4788</td>\n",
       "    </tr>\n",
       "  </tbody>\n",
       "</table>\n",
       "<p>60757 rows × 25 columns</p>\n",
       "</div>"
      ],
      "text/plain": [
       "                   Name  SignalQuality  pEC50_curvecurator      Slope  \\\n",
       "0      CVCL_0006|387447            0.0            8.121074  10.000000   \n",
       "1      CVCL_0007|387447            0.0            8.386980  10.000000   \n",
       "2      CVCL_0012|387447            0.0            8.577246   4.573292   \n",
       "3      CVCL_0014|387447            0.0            8.526281   8.269879   \n",
       "4      CVCL_0024|387447            0.0            8.243077   3.748460   \n",
       "...                 ...            ...                 ...        ...   \n",
       "60752  CVCL_1662|100016            0.0            2.528659   0.560463   \n",
       "60753  CVCL_1662|119607            0.0            3.613511   1.785789   \n",
       "60754  CVCL_1662|216326            0.0            5.349522  10.000000   \n",
       "60755   CVCL_1662|39562            0.0            3.375186   2.936334   \n",
       "60756    CVCL_1662|4788            0.0            3.392260   4.719809   \n",
       "\n",
       "          Front      Back  FoldChange  AUC_curvecurator      RMSE        R2  \\\n",
       "0      1.097185  0.031570   -4.985291          0.472640  0.039506  0.993924   \n",
       "1      1.147691  0.010585   -6.561786          0.337758  0.085707  0.973699   \n",
       "2      1.030760  0.026085   -5.260615          0.225003  0.016225  0.998586   \n",
       "3      1.043971  0.010244   -6.609083          0.239339  0.020866  0.998078   \n",
       "4      1.119518  0.016693   -5.903842          0.409407  0.170436  0.895521   \n",
       "...         ...       ...         ...               ...       ...       ...   \n",
       "60752  0.977548  0.000100   -0.524009          0.864628  0.056947  0.701450   \n",
       "60753  0.894399  0.000100   -2.717681          0.711523  0.089469  0.905135   \n",
       "60754  1.000023  0.931218   -0.102808          0.931982  0.047540  0.124025   \n",
       "60755  0.933884  0.000100   -1.990078          0.847939  0.076599  0.893732   \n",
       "60756  0.896248  0.000100   -2.960555          0.820205  0.060269  0.943984   \n",
       "\n",
       "       ...  RelevanceScore  Regulation  cell_line_id  drug_id  \\\n",
       "0      ...        4.524094        down     CVCL_0006   387447   \n",
       "1      ...        3.618468        down     CVCL_0007   387447   \n",
       "2      ...        5.356272        down     CVCL_0012   387447   \n",
       "3      ...        5.487835        down     CVCL_0014   387447   \n",
       "4      ...        2.302993        down     CVCL_0024   387447   \n",
       "...    ...             ...         ...           ...      ...   \n",
       "60752  ...        0.550318         NaN     CVCL_1662   100016   \n",
       "60753  ...        4.106325        down     CVCL_1662   119607   \n",
       "60754  ...       -0.000000         not     CVCL_1662   216326   \n",
       "60755  ...        3.426395        down     CVCL_1662    39562   \n",
       "60756  ...        5.012137        down     CVCL_1662     4788   \n",
       "\n",
       "       EC50_curvecurator  IC50_curvecurator  ccl_name      cpd_name  \\\n",
       "0           7.567035e-09       7.753043e-09      THP1    bortezomib   \n",
       "1           4.102228e-09       4.218800e-09      U937    bortezomib   \n",
       "2           2.647000e-09       2.713386e-09       LP1    bortezomib   \n",
       "3           2.976590e-09       3.014620e-09  RPMI8226    bortezomib   \n",
       "4           5.713767e-09       6.105049e-09   SCLC21H    bortezomib   \n",
       "...                  ...                ...       ...           ...   \n",
       "60752       2.960337e-03       2.728323e-03      RMGI    zebularine   \n",
       "60753       2.434945e-04       2.132263e-04      RMGI    valdecoxib   \n",
       "60754       4.471758e-06                NaN      RMGI  lenalidomide   \n",
       "60755       4.215162e-04       4.016673e-04      RMGI    lonidamine   \n",
       "60756       4.052662e-04       3.857971e-04      RMGI     phloretin   \n",
       "\n",
       "          sample    drug  \n",
       "0      CVCL_0006  387447  \n",
       "1      CVCL_0007  387447  \n",
       "2      CVCL_0012  387447  \n",
       "3      CVCL_0014  387447  \n",
       "4      CVCL_0024  387447  \n",
       "...          ...     ...  \n",
       "60752  CVCL_1662  100016  \n",
       "60753  CVCL_1662  119607  \n",
       "60754  CVCL_1662  216326  \n",
       "60755  CVCL_1662   39562  \n",
       "60756  CVCL_1662    4788  \n",
       "\n",
       "[60757 rows x 25 columns]"
      ]
     },
     "execution_count": 63,
     "metadata": {},
     "output_type": "execute_result"
    }
   ],
   "source": [
    "# load the curvecurator output\n",
    "viability_df = pd.read_csv(\"curvecurator/CTRPv1.csv\", converters={\"cell_line_id\": str, \"drug_id\": str})\n",
    "\n",
    "# load the processed viabilities from 00_preprocess_raw_for_curvecurator.ipynb\n",
    "mapping_df = pd.read_csv(\"viabilities_processed.csv\", converters={\"ccl_name\": str, \"cpd_name\": str, \"sample\": str, \"drug\": str})[[\"ccl_name\", \"cpd_name\", \"sample\", \"drug\"]].drop_duplicates()\n",
    "\n",
    "# merge based on cell_line_id, drug_id to get drug name and cell line name back\n",
    "viability_df = viability_df.merge(mapping_df, left_on=[\"cell_line_id\", \"drug_id\"], right_on=[\"sample\", \"drug\"])\n",
    "viability_df[\"cpd_name\"] = viability_df[\"cpd_name\"].str.strip()\n",
    "viability_df[\"ccl_name\"] = viability_df[\"ccl_name\"].str.strip()\n",
    "viability_df"
   ]
  },
  {
   "cell_type": "code",
   "execution_count": 71,
   "id": "de842c4c-4e7b-4a04-a65a-4ee53ba89b70",
   "metadata": {},
   "outputs": [],
   "source": [
    "# load the original data\n",
    "orig_measures_df = pd.read_csv(\"CTRPv1.0_2013_pub_Cell_154_1151/v10.D3.area_under_conc_curve.txt\",converters={\"ccl_name\": str, \"cpd_name\": str, \"area_under_curve\": float}, sep=\"\\t\")\n",
    "#orig_measures_df[\"IC50\"] = orig_measures_df[\"IC50 (µM)\"] / 1e6  # original one is in µM, but we need it in M. \n",
    "#orig_measures_df[\"EC50\"] = orig_measures_df[\"EC50 (µM)\"] / 1e6  # original one is in µM, but we need it in M. , for some reason one needs to convert to float again...\n",
    "orig_measures_df[\"AUC\"] = orig_measures_df[\"area_under_curve\"] / 8 # original ActivityArea is calculated as sum(percentage_activity_x for x in doses), so max is 8 with 8 doses but we want to scale to [0,1]\n",
    "\n",
    "\n",
    "\n",
    "orig_measures_df[\"cpd_name\"] = orig_measures_df[\"cpd_name\"].str.strip()\n",
    "orig_measures_df[\"ccl_name\"] = orig_measures_df[\"ccl_name\"].str.strip()\n",
    "\n",
    "\n",
    "orig_measures_df = orig_measures_df.groupby([\"cpd_name\", \"ccl_name\"], as_index=False).agg('mean')"
   ]
  },
  {
   "cell_type": "code",
   "execution_count": 72,
   "id": "bd8e1017-ae93-4961-bed7-7a9b4bc0e8dd",
   "metadata": {},
   "outputs": [
    {
     "data": {
      "text/plain": [
       "<Axes: >"
      ]
     },
     "execution_count": 72,
     "metadata": {},
     "output_type": "execute_result"
    },
    {
     "data": {
      "image/png": "[encoded data removed]",
      "text/plain": [
       "<Figure size 640x480 with 1 Axes>"
      ]
     },
     "metadata": {},
     "output_type": "display_data"
    }
   ],
   "source": [
    "orig_measures_df[\"AUC\"].hist(bins=1000)"
   ]
  },
  {
   "cell_type": "code",
   "execution_count": 78,
   "id": "14437318-d516-4f42-8a79-195de28602fd",
   "metadata": {},
   "outputs": [
    {
     "data": {
      "text/html": [
       "<div>\n",
       "<style scoped>\n",
       "    .dataframe tbody tr th:only-of-type {\n",
       "        vertical-align: middle;\n",
       "    }\n",
       "\n",
       "    .dataframe tbody tr th {\n",
       "        vertical-align: top;\n",
       "    }\n",
       "\n",
       "    .dataframe thead th {\n",
       "        text-align: right;\n",
       "    }\n",
       "</style>\n",
       "<table border=\"1\" class=\"dataframe\">\n",
       "  <thead>\n",
       "    <tr style=\"text-align: right;\">\n",
       "      <th></th>\n",
       "      <th>Name</th>\n",
       "      <th>SignalQuality</th>\n",
       "      <th>pEC50_curvecurator</th>\n",
       "      <th>Slope</th>\n",
       "      <th>Front</th>\n",
       "      <th>Back</th>\n",
       "      <th>FoldChange</th>\n",
       "      <th>AUC_curvecurator</th>\n",
       "      <th>RMSE</th>\n",
       "      <th>R2</th>\n",
       "      <th>...</th>\n",
       "      <th>cell_line_id</th>\n",
       "      <th>drug_id</th>\n",
       "      <th>EC50_curvecurator</th>\n",
       "      <th>IC50_curvecurator</th>\n",
       "      <th>ccl_name</th>\n",
       "      <th>cpd_name</th>\n",
       "      <th>sample</th>\n",
       "      <th>drug</th>\n",
       "      <th>area_under_curve</th>\n",
       "      <th>AUC</th>\n",
       "    </tr>\n",
       "  </thead>\n",
       "  <tbody>\n",
       "    <tr>\n",
       "      <th>0</th>\n",
       "      <td>CVCL_0006|387447</td>\n",
       "      <td>0.0</td>\n",
       "      <td>8.121074</td>\n",
       "      <td>10.000000</td>\n",
       "      <td>1.097185</td>\n",
       "      <td>0.031570</td>\n",
       "      <td>-4.985291</td>\n",
       "      <td>0.472640</td>\n",
       "      <td>0.039506</td>\n",
       "      <td>0.993924</td>\n",
       "      <td>...</td>\n",
       "      <td>CVCL_0006</td>\n",
       "      <td>387447</td>\n",
       "      <td>7.567035e-09</td>\n",
       "      <td>7.753043e-09</td>\n",
       "      <td>THP1</td>\n",
       "      <td>bortezomib</td>\n",
       "      <td>CVCL_0006</td>\n",
       "      <td>387447</td>\n",
       "      <td>3.31050</td>\n",
       "      <td>0.413813</td>\n",
       "    </tr>\n",
       "    <tr>\n",
       "      <th>1</th>\n",
       "      <td>CVCL_0007|387447</td>\n",
       "      <td>0.0</td>\n",
       "      <td>8.386980</td>\n",
       "      <td>10.000000</td>\n",
       "      <td>1.147691</td>\n",
       "      <td>0.010585</td>\n",
       "      <td>-6.561786</td>\n",
       "      <td>0.337758</td>\n",
       "      <td>0.085707</td>\n",
       "      <td>0.973699</td>\n",
       "      <td>...</td>\n",
       "      <td>CVCL_0007</td>\n",
       "      <td>387447</td>\n",
       "      <td>4.102228e-09</td>\n",
       "      <td>4.218800e-09</td>\n",
       "      <td>U937</td>\n",
       "      <td>bortezomib</td>\n",
       "      <td>CVCL_0007</td>\n",
       "      <td>387447</td>\n",
       "      <td>2.51780</td>\n",
       "      <td>0.314725</td>\n",
       "    </tr>\n",
       "    <tr>\n",
       "      <th>2</th>\n",
       "      <td>CVCL_0012|387447</td>\n",
       "      <td>0.0</td>\n",
       "      <td>8.577246</td>\n",
       "      <td>4.573292</td>\n",
       "      <td>1.030760</td>\n",
       "      <td>0.026085</td>\n",
       "      <td>-5.260615</td>\n",
       "      <td>0.225003</td>\n",
       "      <td>0.016225</td>\n",
       "      <td>0.998586</td>\n",
       "      <td>...</td>\n",
       "      <td>CVCL_0012</td>\n",
       "      <td>387447</td>\n",
       "      <td>2.647000e-09</td>\n",
       "      <td>2.713386e-09</td>\n",
       "      <td>LP1</td>\n",
       "      <td>bortezomib</td>\n",
       "      <td>CVCL_0012</td>\n",
       "      <td>387447</td>\n",
       "      <td>1.56290</td>\n",
       "      <td>0.195362</td>\n",
       "    </tr>\n",
       "    <tr>\n",
       "      <th>3</th>\n",
       "      <td>CVCL_0014|387447</td>\n",
       "      <td>0.0</td>\n",
       "      <td>8.526281</td>\n",
       "      <td>8.269879</td>\n",
       "      <td>1.043971</td>\n",
       "      <td>0.010244</td>\n",
       "      <td>-6.609083</td>\n",
       "      <td>0.239339</td>\n",
       "      <td>0.020866</td>\n",
       "      <td>0.998078</td>\n",
       "      <td>...</td>\n",
       "      <td>CVCL_0014</td>\n",
       "      <td>387447</td>\n",
       "      <td>2.976590e-09</td>\n",
       "      <td>3.014620e-09</td>\n",
       "      <td>RPMI8226</td>\n",
       "      <td>bortezomib</td>\n",
       "      <td>CVCL_0014</td>\n",
       "      <td>387447</td>\n",
       "      <td>1.62860</td>\n",
       "      <td>0.203575</td>\n",
       "    </tr>\n",
       "    <tr>\n",
       "      <th>4</th>\n",
       "      <td>CVCL_0024|387447</td>\n",
       "      <td>0.0</td>\n",
       "      <td>8.243077</td>\n",
       "      <td>3.748460</td>\n",
       "      <td>1.119518</td>\n",
       "      <td>0.016693</td>\n",
       "      <td>-5.903842</td>\n",
       "      <td>0.409407</td>\n",
       "      <td>0.170436</td>\n",
       "      <td>0.895521</td>\n",
       "      <td>...</td>\n",
       "      <td>CVCL_0024</td>\n",
       "      <td>387447</td>\n",
       "      <td>5.713767e-09</td>\n",
       "      <td>6.105049e-09</td>\n",
       "      <td>SCLC21H</td>\n",
       "      <td>bortezomib</td>\n",
       "      <td>CVCL_0024</td>\n",
       "      <td>387447</td>\n",
       "      <td>3.08140</td>\n",
       "      <td>0.385175</td>\n",
       "    </tr>\n",
       "    <tr>\n",
       "      <th>...</th>\n",
       "      <td>...</td>\n",
       "      <td>...</td>\n",
       "      <td>...</td>\n",
       "      <td>...</td>\n",
       "      <td>...</td>\n",
       "      <td>...</td>\n",
       "      <td>...</td>\n",
       "      <td>...</td>\n",
       "      <td>...</td>\n",
       "      <td>...</td>\n",
       "      <td>...</td>\n",
       "      <td>...</td>\n",
       "      <td>...</td>\n",
       "      <td>...</td>\n",
       "      <td>...</td>\n",
       "      <td>...</td>\n",
       "      <td>...</td>\n",
       "      <td>...</td>\n",
       "      <td>...</td>\n",
       "      <td>...</td>\n",
       "      <td>...</td>\n",
       "    </tr>\n",
       "    <tr>\n",
       "      <th>60752</th>\n",
       "      <td>CVCL_1662|100016</td>\n",
       "      <td>0.0</td>\n",
       "      <td>2.528659</td>\n",
       "      <td>0.560463</td>\n",
       "      <td>0.977548</td>\n",
       "      <td>0.000100</td>\n",
       "      <td>-0.524009</td>\n",
       "      <td>0.864628</td>\n",
       "      <td>0.056947</td>\n",
       "      <td>0.701450</td>\n",
       "      <td>...</td>\n",
       "      <td>CVCL_1662</td>\n",
       "      <td>100016</td>\n",
       "      <td>2.960337e-03</td>\n",
       "      <td>2.728323e-03</td>\n",
       "      <td>RMGI</td>\n",
       "      <td>zebularine</td>\n",
       "      <td>CVCL_1662</td>\n",
       "      <td>100016</td>\n",
       "      <td>6.03895</td>\n",
       "      <td>0.754869</td>\n",
       "    </tr>\n",
       "    <tr>\n",
       "      <th>60753</th>\n",
       "      <td>CVCL_1662|119607</td>\n",
       "      <td>0.0</td>\n",
       "      <td>3.613511</td>\n",
       "      <td>1.785789</td>\n",
       "      <td>0.894399</td>\n",
       "      <td>0.000100</td>\n",
       "      <td>-2.717681</td>\n",
       "      <td>0.711523</td>\n",
       "      <td>0.089469</td>\n",
       "      <td>0.905135</td>\n",
       "      <td>...</td>\n",
       "      <td>CVCL_1662</td>\n",
       "      <td>119607</td>\n",
       "      <td>2.434945e-04</td>\n",
       "      <td>2.132263e-04</td>\n",
       "      <td>RMGI</td>\n",
       "      <td>valdecoxib</td>\n",
       "      <td>CVCL_1662</td>\n",
       "      <td>119607</td>\n",
       "      <td>4.90615</td>\n",
       "      <td>0.613269</td>\n",
       "    </tr>\n",
       "    <tr>\n",
       "      <th>60754</th>\n",
       "      <td>CVCL_1662|216326</td>\n",
       "      <td>0.0</td>\n",
       "      <td>5.349522</td>\n",
       "      <td>10.000000</td>\n",
       "      <td>1.000023</td>\n",
       "      <td>0.931218</td>\n",
       "      <td>-0.102808</td>\n",
       "      <td>0.931982</td>\n",
       "      <td>0.047540</td>\n",
       "      <td>0.124025</td>\n",
       "      <td>...</td>\n",
       "      <td>CVCL_1662</td>\n",
       "      <td>216326</td>\n",
       "      <td>4.471758e-06</td>\n",
       "      <td>NaN</td>\n",
       "      <td>RMGI</td>\n",
       "      <td>lenalidomide</td>\n",
       "      <td>CVCL_1662</td>\n",
       "      <td>216326</td>\n",
       "      <td>6.53080</td>\n",
       "      <td>0.816350</td>\n",
       "    </tr>\n",
       "    <tr>\n",
       "      <th>60755</th>\n",
       "      <td>CVCL_1662|39562</td>\n",
       "      <td>0.0</td>\n",
       "      <td>3.375186</td>\n",
       "      <td>2.936334</td>\n",
       "      <td>0.933884</td>\n",
       "      <td>0.000100</td>\n",
       "      <td>-1.990078</td>\n",
       "      <td>0.847939</td>\n",
       "      <td>0.076599</td>\n",
       "      <td>0.893732</td>\n",
       "      <td>...</td>\n",
       "      <td>CVCL_1662</td>\n",
       "      <td>39562</td>\n",
       "      <td>4.215162e-04</td>\n",
       "      <td>4.016673e-04</td>\n",
       "      <td>RMGI</td>\n",
       "      <td>lonidamine</td>\n",
       "      <td>CVCL_1662</td>\n",
       "      <td>39562</td>\n",
       "      <td>5.91250</td>\n",
       "      <td>0.739062</td>\n",
       "    </tr>\n",
       "    <tr>\n",
       "      <th>60756</th>\n",
       "      <td>CVCL_1662|4788</td>\n",
       "      <td>0.0</td>\n",
       "      <td>3.392260</td>\n",
       "      <td>4.719809</td>\n",
       "      <td>0.896248</td>\n",
       "      <td>0.000100</td>\n",
       "      <td>-2.960555</td>\n",
       "      <td>0.820205</td>\n",
       "      <td>0.060269</td>\n",
       "      <td>0.943984</td>\n",
       "      <td>...</td>\n",
       "      <td>CVCL_1662</td>\n",
       "      <td>4788</td>\n",
       "      <td>4.052662e-04</td>\n",
       "      <td>3.857971e-04</td>\n",
       "      <td>RMGI</td>\n",
       "      <td>phloretin</td>\n",
       "      <td>CVCL_1662</td>\n",
       "      <td>4788</td>\n",
       "      <td>5.69975</td>\n",
       "      <td>0.712469</td>\n",
       "    </tr>\n",
       "  </tbody>\n",
       "</table>\n",
       "<p>60757 rows × 27 columns</p>\n",
       "</div>"
      ],
      "text/plain": [
       "                   Name  SignalQuality  pEC50_curvecurator      Slope  \\\n",
       "0      CVCL_0006|387447            0.0            8.121074  10.000000   \n",
       "1      CVCL_0007|387447            0.0            8.386980  10.000000   \n",
       "2      CVCL_0012|387447            0.0            8.577246   4.573292   \n",
       "3      CVCL_0014|387447            0.0            8.526281   8.269879   \n",
       "4      CVCL_0024|387447            0.0            8.243077   3.748460   \n",
       "...                 ...            ...                 ...        ...   \n",
       "60752  CVCL_1662|100016            0.0            2.528659   0.560463   \n",
       "60753  CVCL_1662|119607            0.0            3.613511   1.785789   \n",
       "60754  CVCL_1662|216326            0.0            5.349522  10.000000   \n",
       "60755   CVCL_1662|39562            0.0            3.375186   2.936334   \n",
       "60756    CVCL_1662|4788            0.0            3.392260   4.719809   \n",
       "\n",
       "          Front      Back  FoldChange  AUC_curvecurator      RMSE        R2  \\\n",
       "0      1.097185  0.031570   -4.985291          0.472640  0.039506  0.993924   \n",
       "1      1.147691  0.010585   -6.561786          0.337758  0.085707  0.973699   \n",
       "2      1.030760  0.026085   -5.260615          0.225003  0.016225  0.998586   \n",
       "3      1.043971  0.010244   -6.609083          0.239339  0.020866  0.998078   \n",
       "4      1.119518  0.016693   -5.903842          0.409407  0.170436  0.895521   \n",
       "...         ...       ...         ...               ...       ...       ...   \n",
       "60752  0.977548  0.000100   -0.524009          0.864628  0.056947  0.701450   \n",
       "60753  0.894399  0.000100   -2.717681          0.711523  0.089469  0.905135   \n",
       "60754  1.000023  0.931218   -0.102808          0.931982  0.047540  0.124025   \n",
       "60755  0.933884  0.000100   -1.990078          0.847939  0.076599  0.893732   \n",
       "60756  0.896248  0.000100   -2.960555          0.820205  0.060269  0.943984   \n",
       "\n",
       "       ...  cell_line_id  drug_id  EC50_curvecurator  IC50_curvecurator  \\\n",
       "0      ...     CVCL_0006   387447       7.567035e-09       7.753043e-09   \n",
       "1      ...     CVCL_0007   387447       4.102228e-09       4.218800e-09   \n",
       "2      ...     CVCL_0012   387447       2.647000e-09       2.713386e-09   \n",
       "3      ...     CVCL_0014   387447       2.976590e-09       3.014620e-09   \n",
       "4      ...     CVCL_0024   387447       5.713767e-09       6.105049e-09   \n",
       "...    ...           ...      ...                ...                ...   \n",
       "60752  ...     CVCL_1662   100016       2.960337e-03       2.728323e-03   \n",
       "60753  ...     CVCL_1662   119607       2.434945e-04       2.132263e-04   \n",
       "60754  ...     CVCL_1662   216326       4.471758e-06                NaN   \n",
       "60755  ...     CVCL_1662    39562       4.215162e-04       4.016673e-04   \n",
       "60756  ...     CVCL_1662     4788       4.052662e-04       3.857971e-04   \n",
       "\n",
       "       ccl_name      cpd_name     sample    drug area_under_curve       AUC  \n",
       "0          THP1    bortezomib  CVCL_0006  387447          3.31050  0.413813  \n",
       "1          U937    bortezomib  CVCL_0007  387447          2.51780  0.314725  \n",
       "2           LP1    bortezomib  CVCL_0012  387447          1.56290  0.195362  \n",
       "3      RPMI8226    bortezomib  CVCL_0014  387447          1.62860  0.203575  \n",
       "4       SCLC21H    bortezomib  CVCL_0024  387447          3.08140  0.385175  \n",
       "...         ...           ...        ...     ...              ...       ...  \n",
       "60752      RMGI    zebularine  CVCL_1662  100016          6.03895  0.754869  \n",
       "60753      RMGI    valdecoxib  CVCL_1662  119607          4.90615  0.613269  \n",
       "60754      RMGI  lenalidomide  CVCL_1662  216326          6.53080  0.816350  \n",
       "60755      RMGI    lonidamine  CVCL_1662   39562          5.91250  0.739062  \n",
       "60756      RMGI     phloretin  CVCL_1662    4788          5.69975  0.712469  \n",
       "\n",
       "[60757 rows x 27 columns]"
      ]
     },
     "execution_count": 78,
     "metadata": {},
     "output_type": "execute_result"
    }
   ],
   "source": [
    "# merge curvecurator and original fits\n",
    "mapped_response_df = viability_df.merge(orig_measures_df, on=[\"cpd_name\", \"ccl_name\"], how='left')\n",
    "mapped_response_df"
   ]
  },
  {
   "cell_type": "code",
   "execution_count": 53,
   "id": "191809d5-161e-444b-8cc5-7b7eef397f17",
   "metadata": {},
   "outputs": [
    {
     "data": {
      "text/plain": [
       "<Axes: xlabel='AUC_curvecurator', ylabel='AUC'>"
      ]
     },
     "execution_count": 53,
     "metadata": {},
     "output_type": "execute_result"
    },
    {
     "data": {
      "image/png": "[encoded data removed]",
      "text/plain": [
       "<Figure size 640x480 with 1 Axes>"
      ]
     },
     "metadata": {},
     "output_type": "display_data"
    }
   ],
   "source": [
    "sns.scatterplot(mapped_response_df, x=\"AUC_curvecurator\", y=\"AUC\", s=1)"
   ]
  },
  {
   "cell_type": "code",
   "execution_count": 85,
   "id": "3efdfabe-f40d-4ea6-9476-e681e3b42a55",
   "metadata": {},
   "outputs": [
    {
     "data": {
      "text/html": [
       "<div>\n",
       "<style scoped>\n",
       "    .dataframe tbody tr th:only-of-type {\n",
       "        vertical-align: middle;\n",
       "    }\n",
       "\n",
       "    .dataframe tbody tr th {\n",
       "        vertical-align: top;\n",
       "    }\n",
       "\n",
       "    .dataframe thead th {\n",
       "        text-align: right;\n",
       "    }\n",
       "</style>\n",
       "<table border=\"1\" class=\"dataframe\">\n",
       "  <thead>\n",
       "    <tr style=\"text-align: right;\">\n",
       "      <th></th>\n",
       "      <th>Name</th>\n",
       "      <th>SignalQuality</th>\n",
       "      <th>pEC50_curvecurator</th>\n",
       "      <th>Slope</th>\n",
       "      <th>Front</th>\n",
       "      <th>Back</th>\n",
       "      <th>FoldChange</th>\n",
       "      <th>AUC_curvecurator</th>\n",
       "      <th>RMSE</th>\n",
       "      <th>R2</th>\n",
       "      <th>...</th>\n",
       "      <th>cell_line_id</th>\n",
       "      <th>drug_id</th>\n",
       "      <th>EC50_curvecurator</th>\n",
       "      <th>IC50_curvecurator</th>\n",
       "      <th>ccl_name</th>\n",
       "      <th>cpd_name</th>\n",
       "      <th>sample</th>\n",
       "      <th>drug</th>\n",
       "      <th>area_under_curve</th>\n",
       "      <th>AUC</th>\n",
       "    </tr>\n",
       "  </thead>\n",
       "  <tbody>\n",
       "    <tr>\n",
       "      <th>0</th>\n",
       "      <td>CVCL_0006|387447</td>\n",
       "      <td>0.0</td>\n",
       "      <td>8.121074</td>\n",
       "      <td>10.000000</td>\n",
       "      <td>1.097185</td>\n",
       "      <td>0.031570</td>\n",
       "      <td>-4.985291</td>\n",
       "      <td>0.472640</td>\n",
       "      <td>0.039506</td>\n",
       "      <td>0.993924</td>\n",
       "      <td>...</td>\n",
       "      <td>CVCL_0006</td>\n",
       "      <td>387447</td>\n",
       "      <td>7.567035e-09</td>\n",
       "      <td>7.753043e-09</td>\n",
       "      <td>THP1</td>\n",
       "      <td>bortezomib</td>\n",
       "      <td>CVCL_0006</td>\n",
       "      <td>387447</td>\n",
       "      <td>3.31050</td>\n",
       "      <td>0.413813</td>\n",
       "    </tr>\n",
       "    <tr>\n",
       "      <th>1</th>\n",
       "      <td>CVCL_0007|387447</td>\n",
       "      <td>0.0</td>\n",
       "      <td>8.386980</td>\n",
       "      <td>10.000000</td>\n",
       "      <td>1.147691</td>\n",
       "      <td>0.010585</td>\n",
       "      <td>-6.561786</td>\n",
       "      <td>0.337758</td>\n",
       "      <td>0.085707</td>\n",
       "      <td>0.973699</td>\n",
       "      <td>...</td>\n",
       "      <td>CVCL_0007</td>\n",
       "      <td>387447</td>\n",
       "      <td>4.102228e-09</td>\n",
       "      <td>4.218800e-09</td>\n",
       "      <td>U937</td>\n",
       "      <td>bortezomib</td>\n",
       "      <td>CVCL_0007</td>\n",
       "      <td>387447</td>\n",
       "      <td>2.51780</td>\n",
       "      <td>0.314725</td>\n",
       "    </tr>\n",
       "    <tr>\n",
       "      <th>2</th>\n",
       "      <td>CVCL_0012|387447</td>\n",
       "      <td>0.0</td>\n",
       "      <td>8.577246</td>\n",
       "      <td>4.573292</td>\n",
       "      <td>1.030760</td>\n",
       "      <td>0.026085</td>\n",
       "      <td>-5.260615</td>\n",
       "      <td>0.225003</td>\n",
       "      <td>0.016225</td>\n",
       "      <td>0.998586</td>\n",
       "      <td>...</td>\n",
       "      <td>CVCL_0012</td>\n",
       "      <td>387447</td>\n",
       "      <td>2.647000e-09</td>\n",
       "      <td>2.713386e-09</td>\n",
       "      <td>LP1</td>\n",
       "      <td>bortezomib</td>\n",
       "      <td>CVCL_0012</td>\n",
       "      <td>387447</td>\n",
       "      <td>1.56290</td>\n",
       "      <td>0.195362</td>\n",
       "    </tr>\n",
       "    <tr>\n",
       "      <th>3</th>\n",
       "      <td>CVCL_0014|387447</td>\n",
       "      <td>0.0</td>\n",
       "      <td>8.526281</td>\n",
       "      <td>8.269879</td>\n",
       "      <td>1.043971</td>\n",
       "      <td>0.010244</td>\n",
       "      <td>-6.609083</td>\n",
       "      <td>0.239339</td>\n",
       "      <td>0.020866</td>\n",
       "      <td>0.998078</td>\n",
       "      <td>...</td>\n",
       "      <td>CVCL_0014</td>\n",
       "      <td>387447</td>\n",
       "      <td>2.976590e-09</td>\n",
       "      <td>3.014620e-09</td>\n",
       "      <td>RPMI8226</td>\n",
       "      <td>bortezomib</td>\n",
       "      <td>CVCL_0014</td>\n",
       "      <td>387447</td>\n",
       "      <td>1.62860</td>\n",
       "      <td>0.203575</td>\n",
       "    </tr>\n",
       "    <tr>\n",
       "      <th>4</th>\n",
       "      <td>CVCL_0024|387447</td>\n",
       "      <td>0.0</td>\n",
       "      <td>8.243077</td>\n",
       "      <td>3.748460</td>\n",
       "      <td>1.119518</td>\n",
       "      <td>0.016693</td>\n",
       "      <td>-5.903842</td>\n",
       "      <td>0.409407</td>\n",
       "      <td>0.170436</td>\n",
       "      <td>0.895521</td>\n",
       "      <td>...</td>\n",
       "      <td>CVCL_0024</td>\n",
       "      <td>387447</td>\n",
       "      <td>5.713767e-09</td>\n",
       "      <td>6.105049e-09</td>\n",
       "      <td>SCLC21H</td>\n",
       "      <td>bortezomib</td>\n",
       "      <td>CVCL_0024</td>\n",
       "      <td>387447</td>\n",
       "      <td>3.08140</td>\n",
       "      <td>0.385175</td>\n",
       "    </tr>\n",
       "    <tr>\n",
       "      <th>...</th>\n",
       "      <td>...</td>\n",
       "      <td>...</td>\n",
       "      <td>...</td>\n",
       "      <td>...</td>\n",
       "      <td>...</td>\n",
       "      <td>...</td>\n",
       "      <td>...</td>\n",
       "      <td>...</td>\n",
       "      <td>...</td>\n",
       "      <td>...</td>\n",
       "      <td>...</td>\n",
       "      <td>...</td>\n",
       "      <td>...</td>\n",
       "      <td>...</td>\n",
       "      <td>...</td>\n",
       "      <td>...</td>\n",
       "      <td>...</td>\n",
       "      <td>...</td>\n",
       "      <td>...</td>\n",
       "      <td>...</td>\n",
       "      <td>...</td>\n",
       "    </tr>\n",
       "    <tr>\n",
       "      <th>60632</th>\n",
       "      <td>CVCL_2989|100016</td>\n",
       "      <td>0.0</td>\n",
       "      <td>5.252212</td>\n",
       "      <td>2.689566</td>\n",
       "      <td>0.999245</td>\n",
       "      <td>0.017548</td>\n",
       "      <td>-5.832297</td>\n",
       "      <td>0.091387</td>\n",
       "      <td>0.006592</td>\n",
       "      <td>0.999611</td>\n",
       "      <td>...</td>\n",
       "      <td>CVCL_2989</td>\n",
       "      <td>100016</td>\n",
       "      <td>5.594841e-06</td>\n",
       "      <td>5.666468e-06</td>\n",
       "      <td>KMS11</td>\n",
       "      <td>zebularine</td>\n",
       "      <td>CVCL_2989</td>\n",
       "      <td>100016</td>\n",
       "      <td>0.65383</td>\n",
       "      <td>0.081729</td>\n",
       "    </tr>\n",
       "    <tr>\n",
       "      <th>60687</th>\n",
       "      <td>CVCL_5031|100016</td>\n",
       "      <td>0.0</td>\n",
       "      <td>4.795174</td>\n",
       "      <td>4.849421</td>\n",
       "      <td>0.929449</td>\n",
       "      <td>0.237335</td>\n",
       "      <td>-2.075003</td>\n",
       "      <td>0.414675</td>\n",
       "      <td>0.069973</td>\n",
       "      <td>0.950933</td>\n",
       "      <td>...</td>\n",
       "      <td>CVCL_5031</td>\n",
       "      <td>100016</td>\n",
       "      <td>1.602603e-05</td>\n",
       "      <td>1.773593e-05</td>\n",
       "      <td>SNU175</td>\n",
       "      <td>zebularine</td>\n",
       "      <td>CVCL_5031</td>\n",
       "      <td>100016</td>\n",
       "      <td>2.91640</td>\n",
       "      <td>0.364550</td>\n",
       "    </tr>\n",
       "    <tr>\n",
       "      <th>60689</th>\n",
       "      <td>CVCL_5031|216326</td>\n",
       "      <td>0.0</td>\n",
       "      <td>5.458875</td>\n",
       "      <td>0.097911</td>\n",
       "      <td>0.999990</td>\n",
       "      <td>0.116189</td>\n",
       "      <td>-1.154465</td>\n",
       "      <td>0.500040</td>\n",
       "      <td>0.029864</td>\n",
       "      <td>0.966443</td>\n",
       "      <td>...</td>\n",
       "      <td>CVCL_5031</td>\n",
       "      <td>216326</td>\n",
       "      <td>3.476361e-06</td>\n",
       "      <td>5.176882e-05</td>\n",
       "      <td>SNU175</td>\n",
       "      <td>lenalidomide</td>\n",
       "      <td>CVCL_5031</td>\n",
       "      <td>216326</td>\n",
       "      <td>3.49890</td>\n",
       "      <td>0.437362</td>\n",
       "    </tr>\n",
       "    <tr>\n",
       "      <th>60697</th>\n",
       "      <td>CVCL_5098|100016</td>\n",
       "      <td>0.0</td>\n",
       "      <td>4.632868</td>\n",
       "      <td>2.280384</td>\n",
       "      <td>1.056376</td>\n",
       "      <td>0.071469</td>\n",
       "      <td>-3.794185</td>\n",
       "      <td>0.401740</td>\n",
       "      <td>0.069498</td>\n",
       "      <td>0.972341</td>\n",
       "      <td>...</td>\n",
       "      <td>CVCL_5098</td>\n",
       "      <td>100016</td>\n",
       "      <td>2.328799e-05</td>\n",
       "      <td>2.611284e-05</td>\n",
       "      <td>SNU81</td>\n",
       "      <td>zebularine</td>\n",
       "      <td>CVCL_5098</td>\n",
       "      <td>100016</td>\n",
       "      <td>2.87430</td>\n",
       "      <td>0.359287</td>\n",
       "    </tr>\n",
       "    <tr>\n",
       "      <th>60707</th>\n",
       "      <td>CVCL_5111|100016</td>\n",
       "      <td>0.0</td>\n",
       "      <td>4.953186</td>\n",
       "      <td>1.304098</td>\n",
       "      <td>0.988406</td>\n",
       "      <td>0.089563</td>\n",
       "      <td>-3.402220</td>\n",
       "      <td>0.290791</td>\n",
       "      <td>0.046342</td>\n",
       "      <td>0.978081</td>\n",
       "      <td>...</td>\n",
       "      <td>CVCL_5111</td>\n",
       "      <td>100016</td>\n",
       "      <td>1.113818e-05</td>\n",
       "      <td>1.272727e-05</td>\n",
       "      <td>SNUC4</td>\n",
       "      <td>zebularine</td>\n",
       "      <td>CVCL_5111</td>\n",
       "      <td>100016</td>\n",
       "      <td>2.06280</td>\n",
       "      <td>0.257850</td>\n",
       "    </tr>\n",
       "  </tbody>\n",
       "</table>\n",
       "<p>10428 rows × 27 columns</p>\n",
       "</div>"
      ],
      "text/plain": [
       "                   Name  SignalQuality  pEC50_curvecurator      Slope  \\\n",
       "0      CVCL_0006|387447            0.0            8.121074  10.000000   \n",
       "1      CVCL_0007|387447            0.0            8.386980  10.000000   \n",
       "2      CVCL_0012|387447            0.0            8.577246   4.573292   \n",
       "3      CVCL_0014|387447            0.0            8.526281   8.269879   \n",
       "4      CVCL_0024|387447            0.0            8.243077   3.748460   \n",
       "...                 ...            ...                 ...        ...   \n",
       "60632  CVCL_2989|100016            0.0            5.252212   2.689566   \n",
       "60687  CVCL_5031|100016            0.0            4.795174   4.849421   \n",
       "60689  CVCL_5031|216326            0.0            5.458875   0.097911   \n",
       "60697  CVCL_5098|100016            0.0            4.632868   2.280384   \n",
       "60707  CVCL_5111|100016            0.0            4.953186   1.304098   \n",
       "\n",
       "          Front      Back  FoldChange  AUC_curvecurator      RMSE        R2  \\\n",
       "0      1.097185  0.031570   -4.985291          0.472640  0.039506  0.993924   \n",
       "1      1.147691  0.010585   -6.561786          0.337758  0.085707  0.973699   \n",
       "2      1.030760  0.026085   -5.260615          0.225003  0.016225  0.998586   \n",
       "3      1.043971  0.010244   -6.609083          0.239339  0.020866  0.998078   \n",
       "4      1.119518  0.016693   -5.903842          0.409407  0.170436  0.895521   \n",
       "...         ...       ...         ...               ...       ...       ...   \n",
       "60632  0.999245  0.017548   -5.832297          0.091387  0.006592  0.999611   \n",
       "60687  0.929449  0.237335   -2.075003          0.414675  0.069973  0.950933   \n",
       "60689  0.999990  0.116189   -1.154465          0.500040  0.029864  0.966443   \n",
       "60697  1.056376  0.071469   -3.794185          0.401740  0.069498  0.972341   \n",
       "60707  0.988406  0.089563   -3.402220          0.290791  0.046342  0.978081   \n",
       "\n",
       "       ...  cell_line_id  drug_id  EC50_curvecurator  IC50_curvecurator  \\\n",
       "0      ...     CVCL_0006   387447       7.567035e-09       7.753043e-09   \n",
       "1      ...     CVCL_0007   387447       4.102228e-09       4.218800e-09   \n",
       "2      ...     CVCL_0012   387447       2.647000e-09       2.713386e-09   \n",
       "3      ...     CVCL_0014   387447       2.976590e-09       3.014620e-09   \n",
       "4      ...     CVCL_0024   387447       5.713767e-09       6.105049e-09   \n",
       "...    ...           ...      ...                ...                ...   \n",
       "60632  ...     CVCL_2989   100016       5.594841e-06       5.666468e-06   \n",
       "60687  ...     CVCL_5031   100016       1.602603e-05       1.773593e-05   \n",
       "60689  ...     CVCL_5031   216326       3.476361e-06       5.176882e-05   \n",
       "60697  ...     CVCL_5098   100016       2.328799e-05       2.611284e-05   \n",
       "60707  ...     CVCL_5111   100016       1.113818e-05       1.272727e-05   \n",
       "\n",
       "       ccl_name      cpd_name     sample    drug area_under_curve       AUC  \n",
       "0          THP1    bortezomib  CVCL_0006  387447          3.31050  0.413813  \n",
       "1          U937    bortezomib  CVCL_0007  387447          2.51780  0.314725  \n",
       "2           LP1    bortezomib  CVCL_0012  387447          1.56290  0.195362  \n",
       "3      RPMI8226    bortezomib  CVCL_0014  387447          1.62860  0.203575  \n",
       "4       SCLC21H    bortezomib  CVCL_0024  387447          3.08140  0.385175  \n",
       "...         ...           ...        ...     ...              ...       ...  \n",
       "60632     KMS11    zebularine  CVCL_2989  100016          0.65383  0.081729  \n",
       "60687    SNU175    zebularine  CVCL_5031  100016          2.91640  0.364550  \n",
       "60689    SNU175  lenalidomide  CVCL_5031  216326          3.49890  0.437362  \n",
       "60697     SNU81    zebularine  CVCL_5098  100016          2.87430  0.359287  \n",
       "60707     SNUC4    zebularine  CVCL_5111  100016          2.06280  0.257850  \n",
       "\n",
       "[10428 rows x 27 columns]"
      ]
     },
     "execution_count": 85,
     "metadata": {},
     "output_type": "execute_result"
    }
   ],
   "source": [
    "mapped_response_df.query(\"AUC<0.5\")"
   ]
  },
  {
   "cell_type": "code",
   "execution_count": 91,
   "id": "cb9ba433-e07a-42d7-8fa3-5fc8206c70cb",
   "metadata": {},
   "outputs": [],
   "source": [
    "mapped_response_df.to_csv(\"CTRPv1_for_drevalpy.csv\")"
   ]
  },
  {
   "cell_type": "markdown",
   "source": [
    "## Final tweaks\n",
    "- Kick out rows where CurveCurator failed\n",
    "- Check out unmapped cell lines \n",
    "- Set EC50s outside the measured range to NaN\n",
    "- Set IC50s outside 10*max/10**-1 min measured range to NaN\n",
    "- Add min/max dosages to the dataframe"
   ],
   "metadata": {
    "collapsed": false
   },
   "id": "de219978497863a9"
  },
  {
   "cell_type": "code",
   "execution_count": 12,
   "outputs": [
    {
     "data": {
      "text/plain": "Empty DataFrame\nColumns: [Name, SignalQuality, pEC50_curvecurator, Slope, Front, Back, FoldChange, AUC_curvecurator, RMSE, R2, pEC50Error, fValue, pValue, negLog10pValue, fValueSAMCorrected, RelevanceScore, Regulation, cell_line_id, drug_id, EC50_curvecurator, IC50_curvecurator, ccl_name, cpd_name, sample, drug, area_under_curve, AUC]\nIndex: []\n\n[0 rows x 27 columns]",
      "text/html": "<div>\n<style scoped>\n    .dataframe tbody tr th:only-of-type {\n        vertical-align: middle;\n    }\n\n    .dataframe tbody tr th {\n        vertical-align: top;\n    }\n\n    .dataframe thead th {\n        text-align: right;\n    }\n</style>\n<table border=\"1\" class=\"dataframe\">\n  <thead>\n    <tr style=\"text-align: right;\">\n      <th></th>\n      <th>Name</th>\n      <th>SignalQuality</th>\n      <th>pEC50_curvecurator</th>\n      <th>Slope</th>\n      <th>Front</th>\n      <th>Back</th>\n      <th>FoldChange</th>\n      <th>AUC_curvecurator</th>\n      <th>RMSE</th>\n      <th>R2</th>\n      <th>...</th>\n      <th>cell_line_id</th>\n      <th>drug_id</th>\n      <th>EC50_curvecurator</th>\n      <th>IC50_curvecurator</th>\n      <th>ccl_name</th>\n      <th>cpd_name</th>\n      <th>sample</th>\n      <th>drug</th>\n      <th>area_under_curve</th>\n      <th>AUC</th>\n    </tr>\n  </thead>\n  <tbody>\n  </tbody>\n</table>\n<p>0 rows × 27 columns</p>\n</div>"
     },
     "execution_count": 12,
     "metadata": {},
     "output_type": "execute_result"
    }
   ],
   "source": [
    "mapped_response_df = pd.read_csv(\"CTRPv1_for_drevalpy.csv\")\n",
    "mapped_response_df = mapped_response_df.drop(columns=[\"Unnamed: 0\"])\n",
    "mapped_response_df[mapped_response_df[\"cell_line_id\"].isna()]"
   ],
   "metadata": {
    "collapsed": false,
    "ExecuteTime": {
     "end_time": "2025-02-07T10:52:43.616230Z",
     "start_time": "2025-02-07T10:52:43.365605Z"
    }
   },
   "id": "1647cf13fa3be8bc"
  },
  {
   "cell_type": "code",
   "execution_count": 13,
   "outputs": [],
   "source": [
    "# pEC50 = -log10(10^(-6) * dosis); allow 10^-1 to 10^2 times the min/max dose for IC50\n",
    "drug_dosages = pd.read_csv(\"drug_dosages_CTRPv1.csv\")\n",
    "min_doses_pEC50 = {f'{row[\"cpd_name\"]}|{row[\"ccl_name\"]}': -np.log10(10**-6 * row[\"mindose\"]) for index, row in drug_dosages.iterrows()}\n",
    "max_doses_pEC50 = {f'{row[\"cpd_name\"]}|{row[\"ccl_name\"]}': -np.log10(10**-6 * row[\"maxdose\"]) for index, row in drug_dosages.iterrows()}\n",
    "min_doses_IC50 = {f'{row[\"cpd_name\"]}|{row[\"ccl_name\"]}': 10**-7 * row[\"mindose\"] for index, row in drug_dosages.iterrows()}\n",
    "max_doses_IC50 = {f'{row[\"cpd_name\"]}|{row[\"ccl_name\"]}': 10**-5 * row[\"maxdose\"] for index, row in drug_dosages.iterrows()}"
   ],
   "metadata": {
    "collapsed": false,
    "ExecuteTime": {
     "end_time": "2025-02-07T10:54:40.572320Z",
     "start_time": "2025-02-07T10:54:36.127092Z"
    }
   },
   "id": "b1032ad306eb0e4f"
  },
  {
   "cell_type": "code",
   "execution_count": 15,
   "outputs": [],
   "source": [
    "min_doses_M = mapped_response_df.apply(lambda x: 10 * min_doses_IC50[f\"{x['cpd_name']}|{x['ccl_name']}\"], axis=1)\n",
    "max_doses_M = mapped_response_df.apply(lambda x: 0.1 * max_doses_IC50[f\"{x['cpd_name']}|{x['ccl_name']}\"], axis=1)\n",
    "mapped_response_df[\"min_dose_M\"] = min_doses_M\n",
    "mapped_response_df[\"max_dose_M\"] = max_doses_M"
   ],
   "metadata": {
    "collapsed": false,
    "ExecuteTime": {
     "end_time": "2025-02-07T10:55:04.807820Z",
     "start_time": "2025-02-07T10:55:03.948418Z"
    }
   },
   "id": "c83cae58e86f24a2"
  },
  {
   "cell_type": "code",
   "execution_count": 18,
   "outputs": [],
   "source": [
    "def plot_curve(df, index):\n",
    "    front = df.loc[index, \"Front\"]\n",
    "    back = df.loc[index, \"Back\"]\n",
    "    pec50 = df.loc[index, \"pEC50_curvecurator\"]\n",
    "    ec50 = df.loc[index, \"EC50_curvecurator\"]\n",
    "    \n",
    "    slope = df.loc[index, \"Slope\"]\n",
    "    ic50 = df.loc[index, \"IC50_curvecurator\"]\n",
    "    origAUC = df.loc[index, \"AUC\"]\n",
    "    \n",
    "    min_dosis = df.loc[index, \"min_dose_M\"]\n",
    "    max_dosis = df.loc[index, \"max_dose_M\"]\n",
    "    \n",
    "    xvals = np.linspace(min_dosis*10**-2, max_dosis*10**2, 100000)\n",
    "    xvals_logged = np.log10(xvals)\n",
    "    y = (front - back) / (1 + 10 ** (slope * (xvals_logged + pec50))) + back\n",
    "    plt.scatter(xvals, y, s=1)\n",
    "\n",
    "    plt.axvline(ic50, color=\"red\")\n",
    "    plt.text(x=ic50, y=1.0, s='IC50 curvecurator', color='red')\n",
    "    plt.axvline(ec50, color=\"orange\")\n",
    "    plt.text(x=ec50, y=0.6, s='EC50 curvecurator', color='orange')\n",
    "    plt.axvline(x=min_dosis, color=\"green\")\n",
    "    plt.text(x=min_dosis, y=0.4, s='min dose [M]', color='green')\n",
    "    plt.axvline(x=max_dosis, color=\"green\")\n",
    "    plt.text(x=max_dosis, y=0.4, s='max dose [M]', color='green')\n",
    "    \n",
    "    auc = df.loc[index, \"AUC_curvecurator\"]\n",
    "    plt.title(f\"AUC: {auc}, Original AUC: {origAUC}\")\n",
    "\n",
    "    plt.axhline(0.5, linestyle='--', color='black')\n",
    "    plt.xscale('log')\n",
    "    plt.xlim(min_dosis*10**-2, max_dosis*10**2)\n",
    "    plt.ylim(0, 2)"
   ],
   "metadata": {
    "collapsed": false,
    "ExecuteTime": {
     "end_time": "2025-02-07T10:56:27.918401Z",
     "start_time": "2025-02-07T10:56:27.877119Z"
    }
   },
   "id": "8a5f5666fbaeaf9f"
  },
  {
   "cell_type": "code",
   "execution_count": 19,
   "outputs": [
    {
     "data": {
      "text/plain": "<Figure size 640x480 with 1 Axes>",
      "image/png": "[encoded data removed]"
     },
     "metadata": {},
     "output_type": "display_data"
    }
   ],
   "source": [
    "plot_curve(mapped_response_df, 0)"
   ],
   "metadata": {
    "collapsed": false,
    "ExecuteTime": {
     "end_time": "2025-02-07T10:56:29.278276Z",
     "start_time": "2025-02-07T10:56:28.876355Z"
    }
   },
   "id": "6faf2fb7-813e-47bf-8162-7547498550c5"
  },
  {
   "cell_type": "code",
   "execution_count": 20,
   "id": "1e8f7c1b-62e5-4fac-b3cf-2168a67c9327",
   "metadata": {
    "ExecuteTime": {
     "end_time": "2025-02-07T10:57:09.774979Z",
     "start_time": "2025-02-07T10:57:09.434416Z"
    }
   },
   "outputs": [
    {
     "name": "stderr",
     "output_type": "stream",
     "text": [
      "posx and posy should be finite values\n",
      "posx and posy should be finite values\n",
      "posx and posy should be finite values\n"
     ]
    },
    {
     "data": {
      "text/plain": "<Figure size 640x480 with 1 Axes>",
      "image/png": "[encoded data removed]"
     },
     "metadata": {},
     "output_type": "display_data"
    }
   ],
   "source": [
    "# CurveCurator caps the EC50s at 10**2 * max dose / 10**-2 * min dose\n",
    "index = mapped_response_df.query(\"Name == 'CVCL_0526|100016'\").index[0]\n",
    "plot_curve(mapped_response_df, index=index)"
   ]
  },
  {
   "cell_type": "code",
   "execution_count": 21,
   "outputs": [
    {
     "data": {
      "text/plain": "<Figure size 640x480 with 1 Axes>",
      "image/png": "[encoded data removed]"
     },
     "metadata": {},
     "output_type": "display_data"
    }
   ],
   "source": [
    "# CurveCurator caps the EC50s at 10**2 * max dose / 10**-2 * min dose\n",
    "index = mapped_response_df.query(\"Name == 'CVCL_2989|9854230'\").index[0]\n",
    "plot_curve(mapped_response_df, index=index)"
   ],
   "metadata": {
    "collapsed": false,
    "ExecuteTime": {
     "end_time": "2025-02-07T10:57:36.883462Z",
     "start_time": "2025-02-07T10:57:36.563252Z"
    }
   },
   "id": "1c3e2d8eb34f0699"
  },
  {
   "cell_type": "code",
   "execution_count": 22,
   "outputs": [],
   "source": [
    "num_pEC50s_nan = mapped_response_df[\"pEC50_curvecurator\"].isna().sum()\n",
    "num_ic50s_nan = mapped_response_df[\"IC50_curvecurator\"].isna().sum()\n",
    "new_pEC50s = mapped_response_df.apply(lambda x: x[\"pEC50_curvecurator\"] if min_doses_pEC50[f\"{x['cpd_name']}|{x['ccl_name']}\"] >= x[\"pEC50_curvecurator\"] >= max_doses_pEC50[f\"{x['cpd_name']}|{x['ccl_name']}\"] else np.nan, axis=1)\n",
    "new_IC50s = mapped_response_df.apply(lambda x: x[\"IC50_curvecurator\"] if min_doses_IC50[f\"{x['cpd_name']}|{x['ccl_name']}\"] <= x[\"IC50_curvecurator\"] <= max_doses_IC50[f\"{x['cpd_name']}|{x['ccl_name']}\"] else np.nan, axis=1)"
   ],
   "metadata": {
    "collapsed": false,
    "ExecuteTime": {
     "end_time": "2025-02-07T10:58:48.389803Z",
     "start_time": "2025-02-07T10:58:47.175764Z"
    }
   },
   "id": "99fc7649b331d0be"
  },
  {
   "cell_type": "code",
   "execution_count": 23,
   "outputs": [
    {
     "name": "stdout",
     "output_type": "stream",
     "text": [
      "From 0 to 15235 NaN pEC50s / 60757\n",
      "From 20800 to 23287 NaN IC50s / 60757\n"
     ]
    }
   ],
   "source": [
    "mapped_response_df[\"pEC50_curvecurator\"] = new_pEC50s\n",
    "mapped_response_df[\"IC50_curvecurator\"] = new_IC50s\n",
    "print(f\"From {num_pEC50s_nan} to {mapped_response_df['pEC50_curvecurator'].isna().sum()} NaN pEC50s / {len(mapped_response_df)}\")\n",
    "print(f\"From {num_ic50s_nan} to {mapped_response_df['IC50_curvecurator'].isna().sum()} NaN IC50s / {len(mapped_response_df)}\")"
   ],
   "metadata": {
    "collapsed": false,
    "ExecuteTime": {
     "end_time": "2025-02-07T10:58:56.403001Z",
     "start_time": "2025-02-07T10:58:56.335273Z"
    }
   },
   "id": "7a843c95aec2f3b0"
  },
  {
   "cell_type": "code",
   "execution_count": 24,
   "outputs": [],
   "source": [
    "mapped_response_df[\"LN_IC50_curvecurator\"] = np.log(10**6 * mapped_response_df[\"IC50_curvecurator\"].to_numpy())"
   ],
   "metadata": {
    "collapsed": false,
    "ExecuteTime": {
     "end_time": "2025-02-07T10:59:06.643626Z",
     "start_time": "2025-02-07T10:59:06.594009Z"
    }
   },
   "id": "5614db567a1bcc02"
  },
  {
   "cell_type": "code",
   "execution_count": 25,
   "outputs": [
    {
     "data": {
      "text/plain": "<Axes: xlabel='LN_IC50_curvecurator', ylabel='Count'>"
     },
     "execution_count": 25,
     "metadata": {},
     "output_type": "execute_result"
    },
    {
     "data": {
      "text/plain": "<Figure size 640x480 with 1 Axes>",
      "image/png": "[encoded data removed]"
     },
     "metadata": {},
     "output_type": "display_data"
    }
   ],
   "source": [
    "sns.histplot(mapped_response_df[\"LN_IC50_curvecurator\"], bins=10)"
   ],
   "metadata": {
    "collapsed": false,
    "ExecuteTime": {
     "end_time": "2025-02-07T10:59:11.378061Z",
     "start_time": "2025-02-07T10:59:11.006149Z"
    }
   },
   "id": "89ac77ea9c799894"
  },
  {
   "cell_type": "code",
   "execution_count": 26,
   "outputs": [
    {
     "data": {
      "text/plain": "<Axes: xlabel='pEC50_curvecurator', ylabel='Count'>"
     },
     "execution_count": 26,
     "metadata": {},
     "output_type": "execute_result"
    },
    {
     "data": {
      "text/plain": "<Figure size 640x480 with 1 Axes>",
      "image/png": "[encoded data removed]"
     },
     "metadata": {},
     "output_type": "display_data"
    }
   ],
   "source": [
    "sns.histplot(mapped_response_df[\"pEC50_curvecurator\"], bins=10)"
   ],
   "metadata": {
    "collapsed": false,
    "ExecuteTime": {
     "end_time": "2025-02-07T10:59:22.925310Z",
     "start_time": "2025-02-07T10:59:22.782784Z"
    }
   },
   "id": "5988fbac3bddbfe6"
  },
  {
   "cell_type": "code",
   "execution_count": 27,
   "outputs": [
    {
     "data": {
      "text/plain": "<Axes: xlabel='AUC_curvecurator', ylabel='Count'>"
     },
     "execution_count": 27,
     "metadata": {},
     "output_type": "execute_result"
    },
    {
     "data": {
      "text/plain": "<Figure size 640x480 with 1 Axes>",
      "image/png": "[encoded data removed]"
     },
     "metadata": {},
     "output_type": "display_data"
    }
   ],
   "source": [
    "sns.histplot(mapped_response_df[\"AUC_curvecurator\"], bins=10)"
   ],
   "metadata": {
    "collapsed": false,
    "ExecuteTime": {
     "end_time": "2025-02-07T10:59:30.001141Z",
     "start_time": "2025-02-07T10:59:29.839178Z"
    }
   },
   "id": "17e6a0053476094c"
  },
  {
   "cell_type": "code",
   "execution_count": 28,
   "outputs": [
    {
     "name": "stdout",
     "output_type": "stream",
     "text": [
      "Creating cellosaurus dictionary ...\n"
     ]
    }
   ],
   "source": [
    "# map all names to cellosaurus main names\n",
    "from utils.convert_to_cello import create_cl_dict\n",
    "cello_mapping = pd.read_csv(\"../../mapping/cellosaurus_01_2024.csv\")\n",
    "# replace all NaN values with empty strings\n",
    "cello_mapping = cello_mapping.fillna(\"\")\n",
    "# create cellosaurus dictionary\n",
    "cellosaurus_ac_dict, cellosaurus_sy_dict, species_dict, cello_ac_to_id_dict = create_cl_dict(cello_mapping)"
   ],
   "metadata": {
    "collapsed": false,
    "ExecuteTime": {
     "end_time": "2025-02-07T11:01:14.478390Z",
     "start_time": "2025-02-07T11:01:09.216626Z"
    }
   },
   "id": "5509c991ac8bbaa8"
  },
  {
   "cell_type": "code",
   "execution_count": 30,
   "outputs": [],
   "source": [
    "main_names = [cello_ac_to_id_dict[row[\"cell_line_id\"]] for _, row in mapped_response_df.iterrows()]\n",
    "mapped_response_df[\"cell_line_name\"] = main_names\n",
    "mapped_response_df = mapped_response_df.set_index([\"cell_line_id\", \"cell_line_name\", \"drug_id\", \"cpd_name\"])"
   ],
   "metadata": {
    "collapsed": false,
    "ExecuteTime": {
     "end_time": "2025-02-07T11:01:42.074658Z",
     "start_time": "2025-02-07T11:01:40.923824Z"
    }
   },
   "id": "e20f46d37327abaf"
  },
  {
   "cell_type": "code",
   "execution_count": 31,
   "outputs": [],
   "source": [
    "mapped_response_df.to_csv(\"CTRPv1.csv\")"
   ],
   "metadata": {
    "collapsed": false,
    "ExecuteTime": {
     "end_time": "2025-02-07T11:02:00.298726Z",
     "start_time": "2025-02-07T11:01:58.601822Z"
    }
   },
   "id": "f41169969ce095d5"
  },
  {
   "cell_type": "code",
   "execution_count": 32,
   "outputs": [
    {
     "data": {
      "text/plain": "                                                              Name  \\\ncell_line_id cell_line_name drug_id cpd_name                         \nCVCL_0006    THP-1          387447  bortezomib    CVCL_0006|387447   \nCVCL_0007    U-937          387447  bortezomib    CVCL_0007|387447   \nCVCL_0012    LP-1           387447  bortezomib    CVCL_0012|387447   \nCVCL_0014    RPMI-8226      387447  bortezomib    CVCL_0014|387447   \nCVCL_0024    SCLC-21H       387447  bortezomib    CVCL_0024|387447   \n...                                                            ...   \nCVCL_1662    RMG-I          100016  zebularine    CVCL_1662|100016   \n                            119607  valdecoxib    CVCL_1662|119607   \n                            216326  lenalidomide  CVCL_1662|216326   \n                            39562   lonidamine     CVCL_1662|39562   \n                            4788    phloretin       CVCL_1662|4788   \n\n                                                  SignalQuality  \\\ncell_line_id cell_line_name drug_id cpd_name                      \nCVCL_0006    THP-1          387447  bortezomib              0.0   \nCVCL_0007    U-937          387447  bortezomib              0.0   \nCVCL_0012    LP-1           387447  bortezomib              0.0   \nCVCL_0014    RPMI-8226      387447  bortezomib              0.0   \nCVCL_0024    SCLC-21H       387447  bortezomib              0.0   \n...                                                         ...   \nCVCL_1662    RMG-I          100016  zebularine              0.0   \n                            119607  valdecoxib              0.0   \n                            216326  lenalidomide            0.0   \n                            39562   lonidamine              0.0   \n                            4788    phloretin               0.0   \n\n                                                  pEC50_curvecurator  \\\ncell_line_id cell_line_name drug_id cpd_name                           \nCVCL_0006    THP-1          387447  bortezomib              8.121074   \nCVCL_0007    U-937          387447  bortezomib              8.386980   \nCVCL_0012    LP-1           387447  bortezomib              8.577246   \nCVCL_0014    RPMI-8226      387447  bortezomib              8.526281   \nCVCL_0024    SCLC-21H       387447  bortezomib              8.243077   \n...                                                              ...   \nCVCL_1662    RMG-I          100016  zebularine                   NaN   \n                            119607  valdecoxib              3.613511   \n                            216326  lenalidomide                 NaN   \n                            39562   lonidamine              3.375186   \n                            4788    phloretin               3.392260   \n\n                                                      Slope     Front  \\\ncell_line_id cell_line_name drug_id cpd_name                            \nCVCL_0006    THP-1          387447  bortezomib    10.000000  1.097185   \nCVCL_0007    U-937          387447  bortezomib    10.000000  1.147691   \nCVCL_0012    LP-1           387447  bortezomib     4.573292  1.030760   \nCVCL_0014    RPMI-8226      387447  bortezomib     8.269879  1.043971   \nCVCL_0024    SCLC-21H       387447  bortezomib     3.748460  1.119518   \n...                                                     ...       ...   \nCVCL_1662    RMG-I          100016  zebularine     0.560463  0.977548   \n                            119607  valdecoxib     1.785789  0.894399   \n                            216326  lenalidomide  10.000000  1.000023   \n                            39562   lonidamine     2.936334  0.933884   \n                            4788    phloretin      4.719809  0.896248   \n\n                                                      Back  FoldChange  \\\ncell_line_id cell_line_name drug_id cpd_name                             \nCVCL_0006    THP-1          387447  bortezomib    0.031570   -4.985291   \nCVCL_0007    U-937          387447  bortezomib    0.010585   -6.561786   \nCVCL_0012    LP-1           387447  bortezomib    0.026085   -5.260615   \nCVCL_0014    RPMI-8226      387447  bortezomib    0.010244   -6.609083   \nCVCL_0024    SCLC-21H       387447  bortezomib    0.016693   -5.903842   \n...                                                    ...         ...   \nCVCL_1662    RMG-I          100016  zebularine    0.000100   -0.524009   \n                            119607  valdecoxib    0.000100   -2.717681   \n                            216326  lenalidomide  0.931218   -0.102808   \n                            39562   lonidamine    0.000100   -1.990078   \n                            4788    phloretin     0.000100   -2.960555   \n\n                                                  AUC_curvecurator      RMSE  \\\ncell_line_id cell_line_name drug_id cpd_name                                   \nCVCL_0006    THP-1          387447  bortezomib            0.472640  0.039506   \nCVCL_0007    U-937          387447  bortezomib            0.337758  0.085707   \nCVCL_0012    LP-1           387447  bortezomib            0.225003  0.016225   \nCVCL_0014    RPMI-8226      387447  bortezomib            0.239339  0.020866   \nCVCL_0024    SCLC-21H       387447  bortezomib            0.409407  0.170436   \n...                                                            ...       ...   \nCVCL_1662    RMG-I          100016  zebularine            0.864628  0.056947   \n                            119607  valdecoxib            0.711523  0.089469   \n                            216326  lenalidomide          0.931982  0.047540   \n                            39562   lonidamine            0.847939  0.076599   \n                            4788    phloretin             0.820205  0.060269   \n\n                                                        R2  ...  \\\ncell_line_id cell_line_name drug_id cpd_name                ...   \nCVCL_0006    THP-1          387447  bortezomib    0.993924  ...   \nCVCL_0007    U-937          387447  bortezomib    0.973699  ...   \nCVCL_0012    LP-1           387447  bortezomib    0.998586  ...   \nCVCL_0014    RPMI-8226      387447  bortezomib    0.998078  ...   \nCVCL_0024    SCLC-21H       387447  bortezomib    0.895521  ...   \n...                                                    ...  ...   \nCVCL_1662    RMG-I          100016  zebularine    0.701450  ...   \n                            119607  valdecoxib    0.905135  ...   \n                            216326  lenalidomide  0.124025  ...   \n                            39562   lonidamine    0.893732  ...   \n                            4788    phloretin     0.943984  ...   \n\n                                                  EC50_curvecurator  \\\ncell_line_id cell_line_name drug_id cpd_name                          \nCVCL_0006    THP-1          387447  bortezomib         7.567035e-09   \nCVCL_0007    U-937          387447  bortezomib         4.102228e-09   \nCVCL_0012    LP-1           387447  bortezomib         2.647000e-09   \nCVCL_0014    RPMI-8226      387447  bortezomib         2.976590e-09   \nCVCL_0024    SCLC-21H       387447  bortezomib         5.713767e-09   \n...                                                             ...   \nCVCL_1662    RMG-I          100016  zebularine         2.960337e-03   \n                            119607  valdecoxib         2.434945e-04   \n                            216326  lenalidomide       4.471758e-06   \n                            39562   lonidamine         4.215162e-04   \n                            4788    phloretin          4.052662e-04   \n\n                                                  IC50_curvecurator  ccl_name  \\\ncell_line_id cell_line_name drug_id cpd_name                                    \nCVCL_0006    THP-1          387447  bortezomib         7.753043e-09      THP1   \nCVCL_0007    U-937          387447  bortezomib         4.218800e-09      U937   \nCVCL_0012    LP-1           387447  bortezomib         2.713386e-09       LP1   \nCVCL_0014    RPMI-8226      387447  bortezomib         3.014620e-09  RPMI8226   \nCVCL_0024    SCLC-21H       387447  bortezomib         6.105049e-09   SCLC21H   \n...                                                             ...       ...   \nCVCL_1662    RMG-I          100016  zebularine         2.728323e-03      RMGI   \n                            119607  valdecoxib         2.132263e-04      RMGI   \n                            216326  lenalidomide                NaN      RMGI   \n                            39562   lonidamine         4.016673e-04      RMGI   \n                            4788    phloretin          3.857971e-04      RMGI   \n\n                                                     sample    drug  \\\ncell_line_id cell_line_name drug_id cpd_name                          \nCVCL_0006    THP-1          387447  bortezomib    CVCL_0006  387447   \nCVCL_0007    U-937          387447  bortezomib    CVCL_0007  387447   \nCVCL_0012    LP-1           387447  bortezomib    CVCL_0012  387447   \nCVCL_0014    RPMI-8226      387447  bortezomib    CVCL_0014  387447   \nCVCL_0024    SCLC-21H       387447  bortezomib    CVCL_0024  387447   \n...                                                     ...     ...   \nCVCL_1662    RMG-I          100016  zebularine    CVCL_1662  100016   \n                            119607  valdecoxib    CVCL_1662  119607   \n                            216326  lenalidomide  CVCL_1662  216326   \n                            39562   lonidamine    CVCL_1662   39562   \n                            4788    phloretin     CVCL_1662    4788   \n\n                                                  area_under_curve       AUC  \\\ncell_line_id cell_line_name drug_id cpd_name                                   \nCVCL_0006    THP-1          387447  bortezomib             3.31050  0.413813   \nCVCL_0007    U-937          387447  bortezomib             2.51780  0.314725   \nCVCL_0012    LP-1           387447  bortezomib             1.56290  0.195362   \nCVCL_0014    RPMI-8226      387447  bortezomib             1.62860  0.203575   \nCVCL_0024    SCLC-21H       387447  bortezomib             3.08140  0.385175   \n...                                                            ...       ...   \nCVCL_1662    RMG-I          100016  zebularine             6.03895  0.754869   \n                            119607  valdecoxib             4.90615  0.613269   \n                            216326  lenalidomide           6.53080  0.816350   \n                            39562   lonidamine             5.91250  0.739062   \n                            4788    phloretin              5.69975  0.712469   \n\n                                                    min_dose_M    max_dose_M  \\\ncell_line_id cell_line_name drug_id cpd_name                                   \nCVCL_0006    THP-1          387447  bortezomib    1.015600e-09  1.300000e-07   \nCVCL_0007    U-937          387447  bortezomib    1.015600e-09  1.300000e-07   \nCVCL_0012    LP-1           387447  bortezomib    1.015600e-09  1.300000e-07   \nCVCL_0014    RPMI-8226      387447  bortezomib    1.015600e-09  1.300000e-07   \nCVCL_0024    SCLC-21H       387447  bortezomib    1.015600e-09  1.300000e-07   \n...                                                        ...           ...   \nCVCL_1662    RMG-I          100016  zebularine    4.625000e-06  5.920000e-04   \n                            119607  valdecoxib    4.625000e-06  5.920000e-04   \n                            216326  lenalidomide  4.625000e-06  5.920000e-04   \n                            39562   lonidamine    4.625000e-06  5.920000e-04   \n                            4788    phloretin     4.625000e-06  5.920000e-04   \n\n                                                 LN_IC50_curvecurator  \ncell_line_id cell_line_name drug_id cpd_name                           \nCVCL_0006    THP-1          387447  bortezomib              -4.859670  \nCVCL_0007    U-937          387447  bortezomib              -5.468205  \nCVCL_0012    LP-1           387447  bortezomib              -5.909558  \nCVCL_0014    RPMI-8226      387447  bortezomib              -5.804282  \nCVCL_0024    SCLC-21H       387447  bortezomib              -5.098639  \n...                                                               ...  \nCVCL_1662    RMG-I          100016  zebularine               7.911442  \n                            119607  valdecoxib               5.362354  \n                            216326  lenalidomide                  NaN  \n                            39562   lonidamine               5.995624  \n                            4788    phloretin                5.955312  \n\n[60757 rows x 27 columns]",
      "text/html": "<div>\n<style scoped>\n    .dataframe tbody tr th:only-of-type {\n        vertical-align: middle;\n    }\n\n    .dataframe tbody tr th {\n        vertical-align: top;\n    }\n\n    .dataframe thead th {\n        text-align: right;\n    }\n</style>\n<table border=\"1\" class=\"dataframe\">\n  <thead>\n    <tr style=\"text-align: right;\">\n      <th></th>\n      <th></th>\n      <th></th>\n      <th></th>\n      <th>Name</th>\n      <th>SignalQuality</th>\n      <th>pEC50_curvecurator</th>\n      <th>Slope</th>\n      <th>Front</th>\n      <th>Back</th>\n      <th>FoldChange</th>\n      <th>AUC_curvecurator</th>\n      <th>RMSE</th>\n      <th>R2</th>\n      <th>...</th>\n      <th>EC50_curvecurator</th>\n      <th>IC50_curvecurator</th>\n      <th>ccl_name</th>\n      <th>sample</th>\n      <th>drug</th>\n      <th>area_under_curve</th>\n      <th>AUC</th>\n      <th>min_dose_M</th>\n      <th>max_dose_M</th>\n      <th>LN_IC50_curvecurator</th>\n    </tr>\n    <tr>\n      <th>cell_line_id</th>\n      <th>cell_line_name</th>\n      <th>drug_id</th>\n      <th>cpd_name</th>\n      <th></th>\n      <th></th>\n      <th></th>\n      <th></th>\n      <th></th>\n      <th></th>\n      <th></th>\n      <th></th>\n      <th></th>\n      <th></th>\n      <th></th>\n      <th></th>\n      <th></th>\n      <th></th>\n      <th></th>\n      <th></th>\n      <th></th>\n      <th></th>\n      <th></th>\n      <th></th>\n      <th></th>\n    </tr>\n  </thead>\n  <tbody>\n    <tr>\n      <th>CVCL_0006</th>\n      <th>THP-1</th>\n      <th>387447</th>\n      <th>bortezomib</th>\n      <td>CVCL_0006|387447</td>\n      <td>0.0</td>\n      <td>8.121074</td>\n      <td>10.000000</td>\n      <td>1.097185</td>\n      <td>0.031570</td>\n      <td>-4.985291</td>\n      <td>0.472640</td>\n      <td>0.039506</td>\n      <td>0.993924</td>\n      <td>...</td>\n      <td>7.567035e-09</td>\n      <td>7.753043e-09</td>\n      <td>THP1</td>\n      <td>CVCL_0006</td>\n      <td>387447</td>\n      <td>3.31050</td>\n      <td>0.413813</td>\n      <td>1.015600e-09</td>\n      <td>1.300000e-07</td>\n      <td>-4.859670</td>\n    </tr>\n    <tr>\n      <th>CVCL_0007</th>\n      <th>U-937</th>\n      <th>387447</th>\n      <th>bortezomib</th>\n      <td>CVCL_0007|387447</td>\n      <td>0.0</td>\n      <td>8.386980</td>\n      <td>10.000000</td>\n      <td>1.147691</td>\n      <td>0.010585</td>\n      <td>-6.561786</td>\n      <td>0.337758</td>\n      <td>0.085707</td>\n      <td>0.973699</td>\n      <td>...</td>\n      <td>4.102228e-09</td>\n      <td>4.218800e-09</td>\n      <td>U937</td>\n      <td>CVCL_0007</td>\n      <td>387447</td>\n      <td>2.51780</td>\n      <td>0.314725</td>\n      <td>1.015600e-09</td>\n      <td>1.300000e-07</td>\n      <td>-5.468205</td>\n    </tr>\n    <tr>\n      <th>CVCL_0012</th>\n      <th>LP-1</th>\n      <th>387447</th>\n      <th>bortezomib</th>\n      <td>CVCL_0012|387447</td>\n      <td>0.0</td>\n      <td>8.577246</td>\n      <td>4.573292</td>\n      <td>1.030760</td>\n      <td>0.026085</td>\n      <td>-5.260615</td>\n      <td>0.225003</td>\n      <td>0.016225</td>\n      <td>0.998586</td>\n      <td>...</td>\n      <td>2.647000e-09</td>\n      <td>2.713386e-09</td>\n      <td>LP1</td>\n      <td>CVCL_0012</td>\n      <td>387447</td>\n      <td>1.56290</td>\n      <td>0.195362</td>\n      <td>1.015600e-09</td>\n      <td>1.300000e-07</td>\n      <td>-5.909558</td>\n    </tr>\n    <tr>\n      <th>CVCL_0014</th>\n      <th>RPMI-8226</th>\n      <th>387447</th>\n      <th>bortezomib</th>\n      <td>CVCL_0014|387447</td>\n      <td>0.0</td>\n      <td>8.526281</td>\n      <td>8.269879</td>\n      <td>1.043971</td>\n      <td>0.010244</td>\n      <td>-6.609083</td>\n      <td>0.239339</td>\n      <td>0.020866</td>\n      <td>0.998078</td>\n      <td>...</td>\n      <td>2.976590e-09</td>\n      <td>3.014620e-09</td>\n      <td>RPMI8226</td>\n      <td>CVCL_0014</td>\n      <td>387447</td>\n      <td>1.62860</td>\n      <td>0.203575</td>\n      <td>1.015600e-09</td>\n      <td>1.300000e-07</td>\n      <td>-5.804282</td>\n    </tr>\n    <tr>\n      <th>CVCL_0024</th>\n      <th>SCLC-21H</th>\n      <th>387447</th>\n      <th>bortezomib</th>\n      <td>CVCL_0024|387447</td>\n      <td>0.0</td>\n      <td>8.243077</td>\n      <td>3.748460</td>\n      <td>1.119518</td>\n      <td>0.016693</td>\n      <td>-5.903842</td>\n      <td>0.409407</td>\n      <td>0.170436</td>\n      <td>0.895521</td>\n      <td>...</td>\n      <td>5.713767e-09</td>\n      <td>6.105049e-09</td>\n      <td>SCLC21H</td>\n      <td>CVCL_0024</td>\n      <td>387447</td>\n      <td>3.08140</td>\n      <td>0.385175</td>\n      <td>1.015600e-09</td>\n      <td>1.300000e-07</td>\n      <td>-5.098639</td>\n    </tr>\n    <tr>\n      <th>...</th>\n      <th>...</th>\n      <th>...</th>\n      <th>...</th>\n      <td>...</td>\n      <td>...</td>\n      <td>...</td>\n      <td>...</td>\n      <td>...</td>\n      <td>...</td>\n      <td>...</td>\n      <td>...</td>\n      <td>...</td>\n      <td>...</td>\n      <td>...</td>\n      <td>...</td>\n      <td>...</td>\n      <td>...</td>\n      <td>...</td>\n      <td>...</td>\n      <td>...</td>\n      <td>...</td>\n      <td>...</td>\n      <td>...</td>\n      <td>...</td>\n    </tr>\n    <tr>\n      <th rowspan=\"5\" valign=\"top\">CVCL_1662</th>\n      <th rowspan=\"5\" valign=\"top\">RMG-I</th>\n      <th>100016</th>\n      <th>zebularine</th>\n      <td>CVCL_1662|100016</td>\n      <td>0.0</td>\n      <td>NaN</td>\n      <td>0.560463</td>\n      <td>0.977548</td>\n      <td>0.000100</td>\n      <td>-0.524009</td>\n      <td>0.864628</td>\n      <td>0.056947</td>\n      <td>0.701450</td>\n      <td>...</td>\n      <td>2.960337e-03</td>\n      <td>2.728323e-03</td>\n      <td>RMGI</td>\n      <td>CVCL_1662</td>\n      <td>100016</td>\n      <td>6.03895</td>\n      <td>0.754869</td>\n      <td>4.625000e-06</td>\n      <td>5.920000e-04</td>\n      <td>7.911442</td>\n    </tr>\n    <tr>\n      <th>119607</th>\n      <th>valdecoxib</th>\n      <td>CVCL_1662|119607</td>\n      <td>0.0</td>\n      <td>3.613511</td>\n      <td>1.785789</td>\n      <td>0.894399</td>\n      <td>0.000100</td>\n      <td>-2.717681</td>\n      <td>0.711523</td>\n      <td>0.089469</td>\n      <td>0.905135</td>\n      <td>...</td>\n      <td>2.434945e-04</td>\n      <td>2.132263e-04</td>\n      <td>RMGI</td>\n      <td>CVCL_1662</td>\n      <td>119607</td>\n      <td>4.90615</td>\n      <td>0.613269</td>\n      <td>4.625000e-06</td>\n      <td>5.920000e-04</td>\n      <td>5.362354</td>\n    </tr>\n    <tr>\n      <th>216326</th>\n      <th>lenalidomide</th>\n      <td>CVCL_1662|216326</td>\n      <td>0.0</td>\n      <td>NaN</td>\n      <td>10.000000</td>\n      <td>1.000023</td>\n      <td>0.931218</td>\n      <td>-0.102808</td>\n      <td>0.931982</td>\n      <td>0.047540</td>\n      <td>0.124025</td>\n      <td>...</td>\n      <td>4.471758e-06</td>\n      <td>NaN</td>\n      <td>RMGI</td>\n      <td>CVCL_1662</td>\n      <td>216326</td>\n      <td>6.53080</td>\n      <td>0.816350</td>\n      <td>4.625000e-06</td>\n      <td>5.920000e-04</td>\n      <td>NaN</td>\n    </tr>\n    <tr>\n      <th>39562</th>\n      <th>lonidamine</th>\n      <td>CVCL_1662|39562</td>\n      <td>0.0</td>\n      <td>3.375186</td>\n      <td>2.936334</td>\n      <td>0.933884</td>\n      <td>0.000100</td>\n      <td>-1.990078</td>\n      <td>0.847939</td>\n      <td>0.076599</td>\n      <td>0.893732</td>\n      <td>...</td>\n      <td>4.215162e-04</td>\n      <td>4.016673e-04</td>\n      <td>RMGI</td>\n      <td>CVCL_1662</td>\n      <td>39562</td>\n      <td>5.91250</td>\n      <td>0.739062</td>\n      <td>4.625000e-06</td>\n      <td>5.920000e-04</td>\n      <td>5.995624</td>\n    </tr>\n    <tr>\n      <th>4788</th>\n      <th>phloretin</th>\n      <td>CVCL_1662|4788</td>\n      <td>0.0</td>\n      <td>3.392260</td>\n      <td>4.719809</td>\n      <td>0.896248</td>\n      <td>0.000100</td>\n      <td>-2.960555</td>\n      <td>0.820205</td>\n      <td>0.060269</td>\n      <td>0.943984</td>\n      <td>...</td>\n      <td>4.052662e-04</td>\n      <td>3.857971e-04</td>\n      <td>RMGI</td>\n      <td>CVCL_1662</td>\n      <td>4788</td>\n      <td>5.69975</td>\n      <td>0.712469</td>\n      <td>4.625000e-06</td>\n      <td>5.920000e-04</td>\n      <td>5.955312</td>\n    </tr>\n  </tbody>\n</table>\n<p>60757 rows × 27 columns</p>\n</div>"
     },
     "execution_count": 32,
     "metadata": {},
     "output_type": "execute_result"
    }
   ],
   "source": [
    "mapped_response_df"
   ],
   "metadata": {
    "collapsed": false,
    "ExecuteTime": {
     "end_time": "2025-02-07T11:02:05.590454Z",
     "start_time": "2025-02-07T11:02:05.489360Z"
    }
   },
   "id": "aa936d1c49cdadc5"
  },
  {
   "cell_type": "code",
   "execution_count": null,
   "outputs": [],
   "source": [],
   "metadata": {
    "collapsed": false
   },
   "id": "ee2fea1a77d12266"
  }
 ],
 "metadata": {
  "kernelspec": {
   "display_name": "Python 3 (ipykernel)",
   "language": "python",
   "name": "python3"
  },
  "language_info": {
   "codemirror_mode": {
    "name": "ipython",
    "version": 3
   },
   "file_extension": ".py",
   "mimetype": "text/x-python",
   "name": "python",
   "nbconvert_exporter": "python",
   "pygments_lexer": "ipython3",
   "version": "3.11.10"
  }
 },
 "nbformat": 4,
 "nbformat_minor": 5
}
