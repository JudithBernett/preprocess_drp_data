{
 "cells": [
  {
   "cell_type": "markdown",
   "id": "011d7116-2417-4019-826d-2db40e53e710",
   "metadata": {},
   "source": [
    "# Prepare raw data for curvecurator"
   ]
  },
  {
   "cell_type": "code",
   "execution_count": 1,
   "id": "b5ffc998-c7f8-4ba1-ba37-93644cde9e76",
   "metadata": {
    "ExecuteTime": {
     "end_time": "2025-02-07T10:11:43.879551Z",
     "start_time": "2025-02-07T10:11:43.541883Z"
    }
   },
   "outputs": [],
   "source": [
    "import pandas as pd\n",
    "from pathlib import Path\n",
    "import numpy as np\n",
    "import seaborn as sns\n",
    "import matplotlib.pyplot as plt\n",
    "import pubchempy as pcp\n",
    "from Bio.ExPASy import cellosaurus\n",
    "from drevalpy.datasets.curvecurator import _exec_curvecurator, preprocess, postprocess"
   ]
  },
  {
   "cell_type": "markdown",
   "id": "853a32f9-b38c-4bd9-b57f-8fc8ad09faf2",
   "metadata": {},
   "source": [
    "## Load Data"
   ]
  },
  {
   "cell_type": "code",
   "execution_count": 2,
   "id": "877b4809-4171-4e7e-9bec-e63b180bbc4d",
   "metadata": {
    "ExecuteTime": {
     "end_time": "2025-02-06T08:33:35.316518Z",
     "start_time": "2025-02-06T08:33:35.182831Z"
    }
   },
   "outputs": [],
   "source": [
    "RAW_FILE_PATH = Path(\"NIHMS361223-supplement-4.xlsx\")"
   ]
  },
  {
   "cell_type": "code",
   "execution_count": 3,
   "id": "419e7f0f-33ac-48dd-bf67-e3996a8adc0c",
   "metadata": {
    "ExecuteTime": {
     "end_time": "2025-02-06T08:33:36.706451Z",
     "start_time": "2025-02-06T08:33:36.074594Z"
    }
   },
   "outputs": [
    {
     "data": {
      "text/plain": "                                           Unnamed: 0\n0                                Supplementary tables\n1                                                 NaN\n2       Table S1: CCLE cell lines and associated data\n3   Table S2: Oncomap assays and associated mutations\n4   Table S3: Pearson correlation coefficients for...\n5   Table S4: Pearson correlation coefficients for...\n6   Table S5: Pearson correlation coefficients for...\n7                        Table S6: Compounds profiled\n8   Table S7: Known predictors of drug response id...\n9   Table S8: Genomic features predicting sensitiv...\n10  Table S9: Genomic features predicting sensitiv...\n11  Table S10: Expression features predicting sens...\n12                   Table S11: Drug sensitivity data\n13  Table S12: List of 1651 genes selected for hyb...",
      "text/html": "<div>\n<style scoped>\n    .dataframe tbody tr th:only-of-type {\n        vertical-align: middle;\n    }\n\n    .dataframe tbody tr th {\n        vertical-align: top;\n    }\n\n    .dataframe thead th {\n        text-align: right;\n    }\n</style>\n<table border=\"1\" class=\"dataframe\">\n  <thead>\n    <tr style=\"text-align: right;\">\n      <th></th>\n      <th>Unnamed: 0</th>\n    </tr>\n  </thead>\n  <tbody>\n    <tr>\n      <th>0</th>\n      <td>Supplementary tables</td>\n    </tr>\n    <tr>\n      <th>1</th>\n      <td>NaN</td>\n    </tr>\n    <tr>\n      <th>2</th>\n      <td>Table S1: CCLE cell lines and associated data</td>\n    </tr>\n    <tr>\n      <th>3</th>\n      <td>Table S2: Oncomap assays and associated mutations</td>\n    </tr>\n    <tr>\n      <th>4</th>\n      <td>Table S3: Pearson correlation coefficients for...</td>\n    </tr>\n    <tr>\n      <th>5</th>\n      <td>Table S4: Pearson correlation coefficients for...</td>\n    </tr>\n    <tr>\n      <th>6</th>\n      <td>Table S5: Pearson correlation coefficients for...</td>\n    </tr>\n    <tr>\n      <th>7</th>\n      <td>Table S6: Compounds profiled</td>\n    </tr>\n    <tr>\n      <th>8</th>\n      <td>Table S7: Known predictors of drug response id...</td>\n    </tr>\n    <tr>\n      <th>9</th>\n      <td>Table S8: Genomic features predicting sensitiv...</td>\n    </tr>\n    <tr>\n      <th>10</th>\n      <td>Table S9: Genomic features predicting sensitiv...</td>\n    </tr>\n    <tr>\n      <th>11</th>\n      <td>Table S10: Expression features predicting sens...</td>\n    </tr>\n    <tr>\n      <th>12</th>\n      <td>Table S11: Drug sensitivity data</td>\n    </tr>\n    <tr>\n      <th>13</th>\n      <td>Table S12: List of 1651 genes selected for hyb...</td>\n    </tr>\n  </tbody>\n</table>\n</div>"
     },
     "execution_count": 3,
     "metadata": {},
     "output_type": "execute_result"
    }
   ],
   "source": [
    "overview_df = pd.read_excel(RAW_FILE_PATH)\n",
    "overview_df"
   ]
  },
  {
   "cell_type": "code",
   "execution_count": 4,
   "id": "ff1921e9-d427-4445-8298-dcb266b6f543",
   "metadata": {
    "ExecuteTime": {
     "end_time": "2025-02-04T15:49:55.631434Z",
     "start_time": "2025-02-04T15:49:55.257165Z"
    }
   },
   "outputs": [
    {
     "data": {
      "text/plain": "                         CCLE name Cell line primary name Cell line aliases  \\\n0    1321N1_CENTRAL_NERVOUS_SYSTEM                 1321N1               NaN   \n1                        143B_BONE                   143B               NaN   \n2                   22RV1_PROSTATE                  22Rv1               NaN   \n3                  2313287_STOMACH               23132/87               NaN   \n4    42MGBA_CENTRAL_NERVOUS_SYSTEM               42-MG-BA               NaN   \n..                             ...                    ...               ...   \n942    YH13_CENTRAL_NERVOUS_SYSTEM                  YH-13               NaN   \n943    YKG1_CENTRAL_NERVOUS_SYSTEM                   YKG1               NaN   \n944                    YMB1_BREAST                  YMB-1               NaN   \n945                   ZR751_BREAST                ZR-75-1               NaN   \n946                  ZR7530_BREAST               ZR-75-30               NaN   \n\n    Gender            Site Primary     Histology         Hist Subtype1  \\\n0      NaN  central_nervous_system        glioma           astrocytoma   \n1        F                    bone  osteosarcoma                   NaN   \n2        M                prostate     carcinoma                   NaN   \n3        M                 stomach     carcinoma        adenocarcinoma   \n4        M  central_nervous_system        glioma  astrocytoma_Grade_IV   \n..     ...                     ...           ...                   ...   \n942      M  central_nervous_system        glioma  astrocytoma_Grade_IV   \n943      F  central_nervous_system        glioma  astrocytoma_Grade_IV   \n944      F                  breast     carcinoma                   NaN   \n945      F                  breast     carcinoma      ductal_carcinoma   \n946      F                  breast     carcinoma      ductal_carcinoma   \n\n    CCLE tumor type CCLE tumor type 2  \\\n0            glioma             solid   \n1      osteosarcoma             solid   \n2          prostate             solid   \n3           stomach             solid   \n4            glioma             solid   \n..              ...               ...   \n942          glioma             solid   \n943          glioma             solid   \n944          breast             solid   \n945          breast             solid   \n946          breast             solid   \n\n                                                 Notes Source  \\\n0    Identical lines: U-118 MG, U-138 MG and 1321N1...  ECACC   \n1    Identical lines: HOS and 143B share high SNP i...   ATCC   \n2                                                  NaN   ATCC   \n3                                                  NaN   DSMZ   \n4                                                  NaN   DSMZ   \n..                                                 ...    ...   \n942                                                NaN  HSRRB   \n943                                                NaN  HSRRB   \n944  Identical lines: ZR-75-1 and YMB-1 share high ...  HSRRB   \n945  Identical lines: ZR-75-1 and YMB-1 share high ...   ATCC   \n946                                                NaN   ATCC   \n\n     Expression arrays  SNP arrays  Hybrid capture/Sequencing  OncoMap  \\\n0                  1.0           1                        NaN      1.0   \n1                  1.0           1                        NaN      1.0   \n2                  1.0           1                        1.0      1.0   \n3                  1.0           1                        1.0      1.0   \n4                  1.0           1                        1.0      1.0   \n..                 ...         ...                        ...      ...   \n942                1.0           1                        1.0      1.0   \n943                1.0           1                        1.0      1.0   \n944                1.0           1                        NaN      1.0   \n945                1.0           1                        1.0      1.0   \n946                1.0           1                        1.0      1.0   \n\n     Drug sensitivity profiling  \n0                           1.0  \n1                           NaN  \n2                           1.0  \n3                           NaN  \n4                           1.0  \n..                          ...  \n942                         NaN  \n943                         1.0  \n944                         NaN  \n945                         1.0  \n946                         1.0  \n\n[947 rows x 16 columns]",
      "text/html": "<div>\n<style scoped>\n    .dataframe tbody tr th:only-of-type {\n        vertical-align: middle;\n    }\n\n    .dataframe tbody tr th {\n        vertical-align: top;\n    }\n\n    .dataframe thead th {\n        text-align: right;\n    }\n</style>\n<table border=\"1\" class=\"dataframe\">\n  <thead>\n    <tr style=\"text-align: right;\">\n      <th></th>\n      <th>CCLE name</th>\n      <th>Cell line primary name</th>\n      <th>Cell line aliases</th>\n      <th>Gender</th>\n      <th>Site Primary</th>\n      <th>Histology</th>\n      <th>Hist Subtype1</th>\n      <th>CCLE tumor type</th>\n      <th>CCLE tumor type 2</th>\n      <th>Notes</th>\n      <th>Source</th>\n      <th>Expression arrays</th>\n      <th>SNP arrays</th>\n      <th>Hybrid capture/Sequencing</th>\n      <th>OncoMap</th>\n      <th>Drug sensitivity profiling</th>\n    </tr>\n  </thead>\n  <tbody>\n    <tr>\n      <th>0</th>\n      <td>1321N1_CENTRAL_NERVOUS_SYSTEM</td>\n      <td>1321N1</td>\n      <td>NaN</td>\n      <td>NaN</td>\n      <td>central_nervous_system</td>\n      <td>glioma</td>\n      <td>astrocytoma</td>\n      <td>glioma</td>\n      <td>solid</td>\n      <td>Identical lines: U-118 MG, U-138 MG and 1321N1...</td>\n      <td>ECACC</td>\n      <td>1.0</td>\n      <td>1</td>\n      <td>NaN</td>\n      <td>1.0</td>\n      <td>1.0</td>\n    </tr>\n    <tr>\n      <th>1</th>\n      <td>143B_BONE</td>\n      <td>143B</td>\n      <td>NaN</td>\n      <td>F</td>\n      <td>bone</td>\n      <td>osteosarcoma</td>\n      <td>NaN</td>\n      <td>osteosarcoma</td>\n      <td>solid</td>\n      <td>Identical lines: HOS and 143B share high SNP i...</td>\n      <td>ATCC</td>\n      <td>1.0</td>\n      <td>1</td>\n      <td>NaN</td>\n      <td>1.0</td>\n      <td>NaN</td>\n    </tr>\n    <tr>\n      <th>2</th>\n      <td>22RV1_PROSTATE</td>\n      <td>22Rv1</td>\n      <td>NaN</td>\n      <td>M</td>\n      <td>prostate</td>\n      <td>carcinoma</td>\n      <td>NaN</td>\n      <td>prostate</td>\n      <td>solid</td>\n      <td>NaN</td>\n      <td>ATCC</td>\n      <td>1.0</td>\n      <td>1</td>\n      <td>1.0</td>\n      <td>1.0</td>\n      <td>1.0</td>\n    </tr>\n    <tr>\n      <th>3</th>\n      <td>2313287_STOMACH</td>\n      <td>23132/87</td>\n      <td>NaN</td>\n      <td>M</td>\n      <td>stomach</td>\n      <td>carcinoma</td>\n      <td>adenocarcinoma</td>\n      <td>stomach</td>\n      <td>solid</td>\n      <td>NaN</td>\n      <td>DSMZ</td>\n      <td>1.0</td>\n      <td>1</td>\n      <td>1.0</td>\n      <td>1.0</td>\n      <td>NaN</td>\n    </tr>\n    <tr>\n      <th>4</th>\n      <td>42MGBA_CENTRAL_NERVOUS_SYSTEM</td>\n      <td>42-MG-BA</td>\n      <td>NaN</td>\n      <td>M</td>\n      <td>central_nervous_system</td>\n      <td>glioma</td>\n      <td>astrocytoma_Grade_IV</td>\n      <td>glioma</td>\n      <td>solid</td>\n      <td>NaN</td>\n      <td>DSMZ</td>\n      <td>1.0</td>\n      <td>1</td>\n      <td>1.0</td>\n      <td>1.0</td>\n      <td>1.0</td>\n    </tr>\n    <tr>\n      <th>...</th>\n      <td>...</td>\n      <td>...</td>\n      <td>...</td>\n      <td>...</td>\n      <td>...</td>\n      <td>...</td>\n      <td>...</td>\n      <td>...</td>\n      <td>...</td>\n      <td>...</td>\n      <td>...</td>\n      <td>...</td>\n      <td>...</td>\n      <td>...</td>\n      <td>...</td>\n      <td>...</td>\n    </tr>\n    <tr>\n      <th>942</th>\n      <td>YH13_CENTRAL_NERVOUS_SYSTEM</td>\n      <td>YH-13</td>\n      <td>NaN</td>\n      <td>M</td>\n      <td>central_nervous_system</td>\n      <td>glioma</td>\n      <td>astrocytoma_Grade_IV</td>\n      <td>glioma</td>\n      <td>solid</td>\n      <td>NaN</td>\n      <td>HSRRB</td>\n      <td>1.0</td>\n      <td>1</td>\n      <td>1.0</td>\n      <td>1.0</td>\n      <td>NaN</td>\n    </tr>\n    <tr>\n      <th>943</th>\n      <td>YKG1_CENTRAL_NERVOUS_SYSTEM</td>\n      <td>YKG1</td>\n      <td>NaN</td>\n      <td>F</td>\n      <td>central_nervous_system</td>\n      <td>glioma</td>\n      <td>astrocytoma_Grade_IV</td>\n      <td>glioma</td>\n      <td>solid</td>\n      <td>NaN</td>\n      <td>HSRRB</td>\n      <td>1.0</td>\n      <td>1</td>\n      <td>1.0</td>\n      <td>1.0</td>\n      <td>1.0</td>\n    </tr>\n    <tr>\n      <th>944</th>\n      <td>YMB1_BREAST</td>\n      <td>YMB-1</td>\n      <td>NaN</td>\n      <td>F</td>\n      <td>breast</td>\n      <td>carcinoma</td>\n      <td>NaN</td>\n      <td>breast</td>\n      <td>solid</td>\n      <td>Identical lines: ZR-75-1 and YMB-1 share high ...</td>\n      <td>HSRRB</td>\n      <td>1.0</td>\n      <td>1</td>\n      <td>NaN</td>\n      <td>1.0</td>\n      <td>NaN</td>\n    </tr>\n    <tr>\n      <th>945</th>\n      <td>ZR751_BREAST</td>\n      <td>ZR-75-1</td>\n      <td>NaN</td>\n      <td>F</td>\n      <td>breast</td>\n      <td>carcinoma</td>\n      <td>ductal_carcinoma</td>\n      <td>breast</td>\n      <td>solid</td>\n      <td>Identical lines: ZR-75-1 and YMB-1 share high ...</td>\n      <td>ATCC</td>\n      <td>1.0</td>\n      <td>1</td>\n      <td>1.0</td>\n      <td>1.0</td>\n      <td>1.0</td>\n    </tr>\n    <tr>\n      <th>946</th>\n      <td>ZR7530_BREAST</td>\n      <td>ZR-75-30</td>\n      <td>NaN</td>\n      <td>F</td>\n      <td>breast</td>\n      <td>carcinoma</td>\n      <td>ductal_carcinoma</td>\n      <td>breast</td>\n      <td>solid</td>\n      <td>NaN</td>\n      <td>ATCC</td>\n      <td>1.0</td>\n      <td>1</td>\n      <td>1.0</td>\n      <td>1.0</td>\n      <td>1.0</td>\n    </tr>\n  </tbody>\n</table>\n<p>947 rows × 16 columns</p>\n</div>"
     },
     "execution_count": 4,
     "metadata": {},
     "output_type": "execute_result"
    }
   ],
   "source": [
    "cellline_df = pd.read_excel(RAW_FILE_PATH, sheet_name=1, skiprows=2)\n",
    "cellline_df"
   ]
  },
  {
   "cell_type": "code",
   "execution_count": 5,
   "id": "1920a740-940f-4a3e-b181-5ee822c3651b",
   "metadata": {
    "ExecuteTime": {
     "end_time": "2025-02-04T15:49:55.884239Z",
     "start_time": "2025-02-04T15:49:55.609300Z"
    }
   },
   "outputs": [
    {
     "data": {
      "text/plain": "   Compound (code or generic name) Compound (brand name)  \\\n0                        Erlotinib               Tarceva   \n1                        Lapatinib                Tykerb   \n2                       PHA-665752                   NaN   \n3                       PF-2341066            Crizotinib   \n4                           TAE684                   NaN   \n5                       Vandetanib               Zactima   \n6                        Nilotinib               Tasigna   \n7                          AZD0530           Saracatinib   \n8                        Sorafenib               Nexavar   \n9                           TKI258             Dovitinib   \n10                     PD-0332991                    NaN   \n11                          AEW541                   NaN   \n12                          RAF265                   NaN   \n13                         PLX4720                   NaN   \n14                      PD-0325901                   NaN   \n15                         AZD6244           Selumetinib   \n16                        Nutlin-3                   NaN   \n17                          LBW242                   NaN   \n18                          17-AAG          Tanespimycin   \n19                        L-685458                   NaN   \n20                  Panobinostat                Faridak    \n21                      Paclitaxel                 Taxol   \n22                      Irinotecan            Camptosar    \n23                       Topotecan              Hycamtin   \n\n                                            Target(s)  \\\n0                                                EGFR   \n1                                          EGFR, HER2   \n2                                               c-MET   \n3                                          c-MET, ALK   \n4                                                 ALK   \n5     Abl, EGFR, Flt3, C-KIT, RET, VEGFR-1, KDR, FLT4   \n6                                         Abl/Bcr-Abl   \n7                              Src, Abl/Bcr-Abl, EGFR   \n8   Flt3, C-KIT, PDGFRbeta, RET, Raf kinase B, Raf...   \n9                EGFR, FGFR1, PDGFRbeta, VEGFR-1, KDR   \n10                                             CDK4/6   \n11                                             IGF-1R   \n12                                  Raf kinase B, KDR   \n13                                               RAF    \n14                                                MEK   \n15                                                MEK   \n16                                               MDM2   \n17                                                IAP   \n18                                              HSP90   \n19                                    Gamma Secretase   \n20                                               HDAC   \n21                                      beta-tubulin    \n22                                    Topoisomerase I   \n23                                    Topoisomerase I   \n\n                                Mechanism of action                     Class  \\\n0                                   EGFR  Inhibitor          Kinase inhibitor   \n1                           EGFR and HER2 Inhibitor          Kinase inhibitor   \n2                                   c-MET Inhibitor          Kinase inhibitor   \n3                           c-MET and ALK Inhibitor          Kinase inhibitor   \n4                                     ALK Inhibitor          Kinase inhibitor   \n5                            Multi-kinase inhibitor          Kinase inhibitor   \n6                                     Abl Inhibitor          Kinase inhibitor   \n7                             Src and Abl inhibitor          Kinase inhibitor   \n8                            Multi-kinase inhibitor          Kinase inhibitor   \n9                            Multi-kinase inhibitor          Kinase inhibitor   \n10                                 CDK4/6 Inhibitor          Kinase inhibitor   \n11                                 IGF-1R Inhibitor          Kinase inhibitor   \n12                   Raf kinase B and KDR Inhibitor          Kinase inhibitor   \n13                           Raf kinase B Inhibitor          Kinase inhibitor   \n14                          MEK1 and MEK2 Inhibitor          Kinase inhibitor   \n15                          MEK1 and MEK2 Inhibitor          Kinase inhibitor   \n16                                   MDM2 Inhibitor  Other targeted therapies   \n17  Inhibitor of Apoptosis Proteins (IAP) Inhibitor  Other targeted therapies   \n18          Heat Shock Protein 90 (hsp90) Inhibitor  Other targeted therapies   \n19                        gamma-Secretase Inhibitor  Other targeted therapies   \n20             Histone Deacetylase (HDAC) Inhibitor  Other targeted therapies   \n21                   Microtubule-Stabilizing Agents                 Cytotoxic   \n22                    DNA Topoisomerase I Inhibitor                 Cytotoxic   \n23                    DNA Topoisomerase I Inhibitor                 Cytotoxic   \n\n     Highest Phase          Organization  \n0    Launched-2004             Genentech  \n1    Launched-2007       GlaxoSmithKline  \n2      Preclinical               Pfizer   \n3    Launched-2011               Pfizer   \n4      Preclinical              Novartis  \n5    Launched-2011           AstraZeneca  \n6    Launched-2007              Novartis  \n7         Phase II           AstraZeneca  \n8    Launched-2005                 Bayer  \n9        Phase III              Novartis  \n10        Phase II               Pfizer   \n11     Preclinical              Novartis  \n12         Phase I              Novartis  \n13     Preclinical             Plexxikon  \n14    Discontinued               Pfizer   \n15        Phase II           AstraZeneca  \n16     Preclinical                 Roche  \n17     Preclinical              Novartis  \n18       Phase III  Bristol-Myers Squibb  \n19     Preclinical   Merck Sharp & Dohme  \n20  Pre-Registered              Novartis  \n21   Launched-1993  Bristol-Myers Squibb  \n22   Launched-1994               Pfizer   \n23   Launched-1996       GlaxoSmithKline  ",
      "text/html": "<div>\n<style scoped>\n    .dataframe tbody tr th:only-of-type {\n        vertical-align: middle;\n    }\n\n    .dataframe tbody tr th {\n        vertical-align: top;\n    }\n\n    .dataframe thead th {\n        text-align: right;\n    }\n</style>\n<table border=\"1\" class=\"dataframe\">\n  <thead>\n    <tr style=\"text-align: right;\">\n      <th></th>\n      <th>Compound (code or generic name)</th>\n      <th>Compound (brand name)</th>\n      <th>Target(s)</th>\n      <th>Mechanism of action</th>\n      <th>Class</th>\n      <th>Highest Phase</th>\n      <th>Organization</th>\n    </tr>\n  </thead>\n  <tbody>\n    <tr>\n      <th>0</th>\n      <td>Erlotinib</td>\n      <td>Tarceva</td>\n      <td>EGFR</td>\n      <td>EGFR  Inhibitor</td>\n      <td>Kinase inhibitor</td>\n      <td>Launched-2004</td>\n      <td>Genentech</td>\n    </tr>\n    <tr>\n      <th>1</th>\n      <td>Lapatinib</td>\n      <td>Tykerb</td>\n      <td>EGFR, HER2</td>\n      <td>EGFR and HER2 Inhibitor</td>\n      <td>Kinase inhibitor</td>\n      <td>Launched-2007</td>\n      <td>GlaxoSmithKline</td>\n    </tr>\n    <tr>\n      <th>2</th>\n      <td>PHA-665752</td>\n      <td>NaN</td>\n      <td>c-MET</td>\n      <td>c-MET Inhibitor</td>\n      <td>Kinase inhibitor</td>\n      <td>Preclinical</td>\n      <td>Pfizer</td>\n    </tr>\n    <tr>\n      <th>3</th>\n      <td>PF-2341066</td>\n      <td>Crizotinib</td>\n      <td>c-MET, ALK</td>\n      <td>c-MET and ALK Inhibitor</td>\n      <td>Kinase inhibitor</td>\n      <td>Launched-2011</td>\n      <td>Pfizer</td>\n    </tr>\n    <tr>\n      <th>4</th>\n      <td>TAE684</td>\n      <td>NaN</td>\n      <td>ALK</td>\n      <td>ALK Inhibitor</td>\n      <td>Kinase inhibitor</td>\n      <td>Preclinical</td>\n      <td>Novartis</td>\n    </tr>\n    <tr>\n      <th>5</th>\n      <td>Vandetanib</td>\n      <td>Zactima</td>\n      <td>Abl, EGFR, Flt3, C-KIT, RET, VEGFR-1, KDR, FLT4</td>\n      <td>Multi-kinase inhibitor</td>\n      <td>Kinase inhibitor</td>\n      <td>Launched-2011</td>\n      <td>AstraZeneca</td>\n    </tr>\n    <tr>\n      <th>6</th>\n      <td>Nilotinib</td>\n      <td>Tasigna</td>\n      <td>Abl/Bcr-Abl</td>\n      <td>Abl Inhibitor</td>\n      <td>Kinase inhibitor</td>\n      <td>Launched-2007</td>\n      <td>Novartis</td>\n    </tr>\n    <tr>\n      <th>7</th>\n      <td>AZD0530</td>\n      <td>Saracatinib</td>\n      <td>Src, Abl/Bcr-Abl, EGFR</td>\n      <td>Src and Abl inhibitor</td>\n      <td>Kinase inhibitor</td>\n      <td>Phase II</td>\n      <td>AstraZeneca</td>\n    </tr>\n    <tr>\n      <th>8</th>\n      <td>Sorafenib</td>\n      <td>Nexavar</td>\n      <td>Flt3, C-KIT, PDGFRbeta, RET, Raf kinase B, Raf...</td>\n      <td>Multi-kinase inhibitor</td>\n      <td>Kinase inhibitor</td>\n      <td>Launched-2005</td>\n      <td>Bayer</td>\n    </tr>\n    <tr>\n      <th>9</th>\n      <td>TKI258</td>\n      <td>Dovitinib</td>\n      <td>EGFR, FGFR1, PDGFRbeta, VEGFR-1, KDR</td>\n      <td>Multi-kinase inhibitor</td>\n      <td>Kinase inhibitor</td>\n      <td>Phase III</td>\n      <td>Novartis</td>\n    </tr>\n    <tr>\n      <th>10</th>\n      <td>PD-0332991</td>\n      <td>NaN</td>\n      <td>CDK4/6</td>\n      <td>CDK4/6 Inhibitor</td>\n      <td>Kinase inhibitor</td>\n      <td>Phase II</td>\n      <td>Pfizer</td>\n    </tr>\n    <tr>\n      <th>11</th>\n      <td>AEW541</td>\n      <td>NaN</td>\n      <td>IGF-1R</td>\n      <td>IGF-1R Inhibitor</td>\n      <td>Kinase inhibitor</td>\n      <td>Preclinical</td>\n      <td>Novartis</td>\n    </tr>\n    <tr>\n      <th>12</th>\n      <td>RAF265</td>\n      <td>NaN</td>\n      <td>Raf kinase B, KDR</td>\n      <td>Raf kinase B and KDR Inhibitor</td>\n      <td>Kinase inhibitor</td>\n      <td>Phase I</td>\n      <td>Novartis</td>\n    </tr>\n    <tr>\n      <th>13</th>\n      <td>PLX4720</td>\n      <td>NaN</td>\n      <td>RAF</td>\n      <td>Raf kinase B Inhibitor</td>\n      <td>Kinase inhibitor</td>\n      <td>Preclinical</td>\n      <td>Plexxikon</td>\n    </tr>\n    <tr>\n      <th>14</th>\n      <td>PD-0325901</td>\n      <td>NaN</td>\n      <td>MEK</td>\n      <td>MEK1 and MEK2 Inhibitor</td>\n      <td>Kinase inhibitor</td>\n      <td>Discontinued</td>\n      <td>Pfizer</td>\n    </tr>\n    <tr>\n      <th>15</th>\n      <td>AZD6244</td>\n      <td>Selumetinib</td>\n      <td>MEK</td>\n      <td>MEK1 and MEK2 Inhibitor</td>\n      <td>Kinase inhibitor</td>\n      <td>Phase II</td>\n      <td>AstraZeneca</td>\n    </tr>\n    <tr>\n      <th>16</th>\n      <td>Nutlin-3</td>\n      <td>NaN</td>\n      <td>MDM2</td>\n      <td>MDM2 Inhibitor</td>\n      <td>Other targeted therapies</td>\n      <td>Preclinical</td>\n      <td>Roche</td>\n    </tr>\n    <tr>\n      <th>17</th>\n      <td>LBW242</td>\n      <td>NaN</td>\n      <td>IAP</td>\n      <td>Inhibitor of Apoptosis Proteins (IAP) Inhibitor</td>\n      <td>Other targeted therapies</td>\n      <td>Preclinical</td>\n      <td>Novartis</td>\n    </tr>\n    <tr>\n      <th>18</th>\n      <td>17-AAG</td>\n      <td>Tanespimycin</td>\n      <td>HSP90</td>\n      <td>Heat Shock Protein 90 (hsp90) Inhibitor</td>\n      <td>Other targeted therapies</td>\n      <td>Phase III</td>\n      <td>Bristol-Myers Squibb</td>\n    </tr>\n    <tr>\n      <th>19</th>\n      <td>L-685458</td>\n      <td>NaN</td>\n      <td>Gamma Secretase</td>\n      <td>gamma-Secretase Inhibitor</td>\n      <td>Other targeted therapies</td>\n      <td>Preclinical</td>\n      <td>Merck Sharp &amp; Dohme</td>\n    </tr>\n    <tr>\n      <th>20</th>\n      <td>Panobinostat</td>\n      <td>Faridak</td>\n      <td>HDAC</td>\n      <td>Histone Deacetylase (HDAC) Inhibitor</td>\n      <td>Other targeted therapies</td>\n      <td>Pre-Registered</td>\n      <td>Novartis</td>\n    </tr>\n    <tr>\n      <th>21</th>\n      <td>Paclitaxel</td>\n      <td>Taxol</td>\n      <td>beta-tubulin</td>\n      <td>Microtubule-Stabilizing Agents</td>\n      <td>Cytotoxic</td>\n      <td>Launched-1993</td>\n      <td>Bristol-Myers Squibb</td>\n    </tr>\n    <tr>\n      <th>22</th>\n      <td>Irinotecan</td>\n      <td>Camptosar</td>\n      <td>Topoisomerase I</td>\n      <td>DNA Topoisomerase I Inhibitor</td>\n      <td>Cytotoxic</td>\n      <td>Launched-1994</td>\n      <td>Pfizer</td>\n    </tr>\n    <tr>\n      <th>23</th>\n      <td>Topotecan</td>\n      <td>Hycamtin</td>\n      <td>Topoisomerase I</td>\n      <td>DNA Topoisomerase I Inhibitor</td>\n      <td>Cytotoxic</td>\n      <td>Launched-1996</td>\n      <td>GlaxoSmithKline</td>\n    </tr>\n  </tbody>\n</table>\n</div>"
     },
     "execution_count": 5,
     "metadata": {},
     "output_type": "execute_result"
    }
   ],
   "source": [
    "drug_df = pd.read_excel(RAW_FILE_PATH, sheet_name=6, skiprows=2)\n",
    "drug_df"
   ]
  },
  {
   "cell_type": "code",
   "execution_count": 6,
   "id": "5f63346c-816b-4b81-b324-5e6d4003a49a",
   "metadata": {
    "ExecuteTime": {
     "end_time": "2025-02-04T15:49:57.394370Z",
     "start_time": "2025-02-04T15:49:55.879219Z"
    }
   },
   "outputs": [
    {
     "data": {
      "text/plain": "                 CCLE Cell Line Name Primary Cell Line Name Compound Target  \\\n0      1321N1_CENTRAL_NERVOUS_SYSTEM                 1321N1   17-AAG  HSP90   \n1                     22RV1_PROSTATE                  22Rv1   17-AAG  HSP90   \n2      42MGBA_CENTRAL_NERVOUS_SYSTEM               42-MG-BA   17-AAG  HSP90   \n3                 5637_URINARY_TRACT                   5637   17-AAG  HSP90   \n4                 639V_URINARY_TRACT                  639-V   17-AAG  HSP90   \n...                              ...                    ...      ...    ...   \n11665                      WM88_SKIN                  WM-88  ZD-6474   EGFR   \n11666                    WM983B_SKIN                WM-983B  ZD-6474   EGFR   \n11667    YKG1_CENTRAL_NERVOUS_SYSTEM                   YKG1  ZD-6474   EGFR   \n11668                   ZR751_BREAST                ZR-75-1  ZD-6474   EGFR   \n11669                  ZR7530_BREAST               ZR-75-30  ZD-6474   EGFR   \n\n                                 Doses (uM)  \\\n0      .0025,.0080,.025,.080,.25,.80,2.53,8   \n1      .0025,.0080,.025,.080,.25,.80,2.53,8   \n2      .0025,.0080,.025,.080,.25,.80,2.53,8   \n3      .0025,.0080,.025,.080,.25,.80,2.53,8   \n4      .0025,.0080,.025,.080,.25,.80,2.53,8   \n...                                     ...   \n11665  .0025,.0080,.025,.080,.25,.80,2.53,8   \n11666  .0025,.0080,.025,.080,.25,.80,2.53,8   \n11667  .0025,.0080,.025,.080,.25,.80,2.53,8   \n11668  .0025,.0080,.025,.080,.25,.80,2.53,8   \n11669  .0025,.0080,.025,.080,.25,.80,2.53,8   \n\n                      Activity Data (median)  \\\n0         -58,-7.5,-1.7,7.04,-58,-70,-73,-73   \n1         -5.9,-14,-.068,-15,-38,-71,-74,-80   \n2           -4.2,-62,-19,-72,-69,-84,-78,-91   \n3         3.24,-2.6,9.10,-35,-87,-91,-91,-92   \n4           -10,-14,-1.2,-23,-74,-87,-90,-91   \n...                                      ...   \n11665  -2.3,-8.5,-14,7.78,-3.3,-3.6,-9.1,.43   \n11666    -26,-4.5,-3.8,-3.2,-.26,-12,-36,-67   \n11667   -9.8,-14,-5.5,-5.0,-5.7,-8.4,-18,-25   \n11668    -18,-18,-7.4,3.62,14.5,5.21,-19,-41   \n11669   -7.1,-17,15.1,-30,25.0,-3.5,18.6,-35   \n\n                                   Activity SD  Num Data   FitType  EC50 (µM)  \\\n0         43.3,11.5,3.65,2.85,.28,.18,3.31,.64         8   Sigmoid   0.193677   \n1        .35,8.56,.53,21.6,1.08,1.37,3.71,2.17         8   Sigmoid   0.267215   \n2      19.1,42.8,13.5,6.12,7.84,16.9,5.98,7.26         8   Sigmoid   0.052081   \n3       5.69,14.8,29.2,30.4,5.11,.39,1.98,.041         8   Sigmoid   0.060907   \n4       6.48,.16,2.77,2.31,4.07,1.69,.035,.036         8   Sigmoid   0.147930   \n...                                        ...       ...       ...        ...   \n11665    4.73,2.92,8.77,6.60,.21,12.9,.89,2.23         8  Constant        NaN   \n11666   12.0,5.34,.44,9.05,9.20,19.9,19.0,2.34         8   Sigmoid   2.634596   \n11667    8.10,2.87,.80,4.44,4.18,.39,3.12,5.96         8  Constant        NaN   \n11668  25.7,10.2,39.8,6.92,6.13,16.8,3.08,21.1         8    Linear        NaN   \n11669  27.0,15.0,41.5,17.6,23.2,30.1,9.07,15.4         8  Constant        NaN   \n\n       IC50 (µM)       Amax  ActArea  \n0       0.228078 -72.123810   3.0302  \n1       0.329702 -76.301483   3.0622  \n2       0.053038 -80.377663   5.0587  \n3       0.070823 -91.651482   3.5350  \n4       0.150094 -89.639069   3.7820  \n...          ...        ...      ...  \n11665   8.000000  -4.455294   0.7113  \n11666   3.646733 -66.604378   2.2778  \n11667   8.000000  -8.592502   0.4073  \n11668   8.000000 -40.773281   1.1891  \n11669   8.000000  -9.871531   0.4616  \n\n[11670 rows x 13 columns]",
      "text/html": "<div>\n<style scoped>\n    .dataframe tbody tr th:only-of-type {\n        vertical-align: middle;\n    }\n\n    .dataframe tbody tr th {\n        vertical-align: top;\n    }\n\n    .dataframe thead th {\n        text-align: right;\n    }\n</style>\n<table border=\"1\" class=\"dataframe\">\n  <thead>\n    <tr style=\"text-align: right;\">\n      <th></th>\n      <th>CCLE Cell Line Name</th>\n      <th>Primary Cell Line Name</th>\n      <th>Compound</th>\n      <th>Target</th>\n      <th>Doses (uM)</th>\n      <th>Activity Data (median)</th>\n      <th>Activity SD</th>\n      <th>Num Data</th>\n      <th>FitType</th>\n      <th>EC50 (µM)</th>\n      <th>IC50 (µM)</th>\n      <th>Amax</th>\n      <th>ActArea</th>\n    </tr>\n  </thead>\n  <tbody>\n    <tr>\n      <th>0</th>\n      <td>1321N1_CENTRAL_NERVOUS_SYSTEM</td>\n      <td>1321N1</td>\n      <td>17-AAG</td>\n      <td>HSP90</td>\n      <td>.0025,.0080,.025,.080,.25,.80,2.53,8</td>\n      <td>-58,-7.5,-1.7,7.04,-58,-70,-73,-73</td>\n      <td>43.3,11.5,3.65,2.85,.28,.18,3.31,.64</td>\n      <td>8</td>\n      <td>Sigmoid</td>\n      <td>0.193677</td>\n      <td>0.228078</td>\n      <td>-72.123810</td>\n      <td>3.0302</td>\n    </tr>\n    <tr>\n      <th>1</th>\n      <td>22RV1_PROSTATE</td>\n      <td>22Rv1</td>\n      <td>17-AAG</td>\n      <td>HSP90</td>\n      <td>.0025,.0080,.025,.080,.25,.80,2.53,8</td>\n      <td>-5.9,-14,-.068,-15,-38,-71,-74,-80</td>\n      <td>.35,8.56,.53,21.6,1.08,1.37,3.71,2.17</td>\n      <td>8</td>\n      <td>Sigmoid</td>\n      <td>0.267215</td>\n      <td>0.329702</td>\n      <td>-76.301483</td>\n      <td>3.0622</td>\n    </tr>\n    <tr>\n      <th>2</th>\n      <td>42MGBA_CENTRAL_NERVOUS_SYSTEM</td>\n      <td>42-MG-BA</td>\n      <td>17-AAG</td>\n      <td>HSP90</td>\n      <td>.0025,.0080,.025,.080,.25,.80,2.53,8</td>\n      <td>-4.2,-62,-19,-72,-69,-84,-78,-91</td>\n      <td>19.1,42.8,13.5,6.12,7.84,16.9,5.98,7.26</td>\n      <td>8</td>\n      <td>Sigmoid</td>\n      <td>0.052081</td>\n      <td>0.053038</td>\n      <td>-80.377663</td>\n      <td>5.0587</td>\n    </tr>\n    <tr>\n      <th>3</th>\n      <td>5637_URINARY_TRACT</td>\n      <td>5637</td>\n      <td>17-AAG</td>\n      <td>HSP90</td>\n      <td>.0025,.0080,.025,.080,.25,.80,2.53,8</td>\n      <td>3.24,-2.6,9.10,-35,-87,-91,-91,-92</td>\n      <td>5.69,14.8,29.2,30.4,5.11,.39,1.98,.041</td>\n      <td>8</td>\n      <td>Sigmoid</td>\n      <td>0.060907</td>\n      <td>0.070823</td>\n      <td>-91.651482</td>\n      <td>3.5350</td>\n    </tr>\n    <tr>\n      <th>4</th>\n      <td>639V_URINARY_TRACT</td>\n      <td>639-V</td>\n      <td>17-AAG</td>\n      <td>HSP90</td>\n      <td>.0025,.0080,.025,.080,.25,.80,2.53,8</td>\n      <td>-10,-14,-1.2,-23,-74,-87,-90,-91</td>\n      <td>6.48,.16,2.77,2.31,4.07,1.69,.035,.036</td>\n      <td>8</td>\n      <td>Sigmoid</td>\n      <td>0.147930</td>\n      <td>0.150094</td>\n      <td>-89.639069</td>\n      <td>3.7820</td>\n    </tr>\n    <tr>\n      <th>...</th>\n      <td>...</td>\n      <td>...</td>\n      <td>...</td>\n      <td>...</td>\n      <td>...</td>\n      <td>...</td>\n      <td>...</td>\n      <td>...</td>\n      <td>...</td>\n      <td>...</td>\n      <td>...</td>\n      <td>...</td>\n      <td>...</td>\n    </tr>\n    <tr>\n      <th>11665</th>\n      <td>WM88_SKIN</td>\n      <td>WM-88</td>\n      <td>ZD-6474</td>\n      <td>EGFR</td>\n      <td>.0025,.0080,.025,.080,.25,.80,2.53,8</td>\n      <td>-2.3,-8.5,-14,7.78,-3.3,-3.6,-9.1,.43</td>\n      <td>4.73,2.92,8.77,6.60,.21,12.9,.89,2.23</td>\n      <td>8</td>\n      <td>Constant</td>\n      <td>NaN</td>\n      <td>8.000000</td>\n      <td>-4.455294</td>\n      <td>0.7113</td>\n    </tr>\n    <tr>\n      <th>11666</th>\n      <td>WM983B_SKIN</td>\n      <td>WM-983B</td>\n      <td>ZD-6474</td>\n      <td>EGFR</td>\n      <td>.0025,.0080,.025,.080,.25,.80,2.53,8</td>\n      <td>-26,-4.5,-3.8,-3.2,-.26,-12,-36,-67</td>\n      <td>12.0,5.34,.44,9.05,9.20,19.9,19.0,2.34</td>\n      <td>8</td>\n      <td>Sigmoid</td>\n      <td>2.634596</td>\n      <td>3.646733</td>\n      <td>-66.604378</td>\n      <td>2.2778</td>\n    </tr>\n    <tr>\n      <th>11667</th>\n      <td>YKG1_CENTRAL_NERVOUS_SYSTEM</td>\n      <td>YKG1</td>\n      <td>ZD-6474</td>\n      <td>EGFR</td>\n      <td>.0025,.0080,.025,.080,.25,.80,2.53,8</td>\n      <td>-9.8,-14,-5.5,-5.0,-5.7,-8.4,-18,-25</td>\n      <td>8.10,2.87,.80,4.44,4.18,.39,3.12,5.96</td>\n      <td>8</td>\n      <td>Constant</td>\n      <td>NaN</td>\n      <td>8.000000</td>\n      <td>-8.592502</td>\n      <td>0.4073</td>\n    </tr>\n    <tr>\n      <th>11668</th>\n      <td>ZR751_BREAST</td>\n      <td>ZR-75-1</td>\n      <td>ZD-6474</td>\n      <td>EGFR</td>\n      <td>.0025,.0080,.025,.080,.25,.80,2.53,8</td>\n      <td>-18,-18,-7.4,3.62,14.5,5.21,-19,-41</td>\n      <td>25.7,10.2,39.8,6.92,6.13,16.8,3.08,21.1</td>\n      <td>8</td>\n      <td>Linear</td>\n      <td>NaN</td>\n      <td>8.000000</td>\n      <td>-40.773281</td>\n      <td>1.1891</td>\n    </tr>\n    <tr>\n      <th>11669</th>\n      <td>ZR7530_BREAST</td>\n      <td>ZR-75-30</td>\n      <td>ZD-6474</td>\n      <td>EGFR</td>\n      <td>.0025,.0080,.025,.080,.25,.80,2.53,8</td>\n      <td>-7.1,-17,15.1,-30,25.0,-3.5,18.6,-35</td>\n      <td>27.0,15.0,41.5,17.6,23.2,30.1,9.07,15.4</td>\n      <td>8</td>\n      <td>Constant</td>\n      <td>NaN</td>\n      <td>8.000000</td>\n      <td>-9.871531</td>\n      <td>0.4616</td>\n    </tr>\n  </tbody>\n</table>\n<p>11670 rows × 13 columns</p>\n</div>"
     },
     "execution_count": 6,
     "metadata": {},
     "output_type": "execute_result"
    }
   ],
   "source": [
    "raw_df = pd.read_excel(RAW_FILE_PATH, sheet_name=11, skiprows=2)\n",
    "raw_df"
   ]
  },
  {
   "cell_type": "code",
   "execution_count": 7,
   "id": "8f7d7fdf-20ef-4220-8ddc-a1853195f74b",
   "metadata": {
    "ExecuteTime": {
     "end_time": "2025-02-04T15:49:57.802311Z",
     "start_time": "2025-02-04T15:49:57.395475Z"
    }
   },
   "outputs": [
    {
     "data": {
      "text/plain": "<matplotlib.lines.Line2D at 0x14221e610>"
     },
     "execution_count": 7,
     "metadata": {},
     "output_type": "execute_result"
    },
    {
     "data": {
      "text/plain": "<Figure size 640x480 with 1 Axes>",
      "image/png": "[encoded data removed]"
     },
     "metadata": {},
     "output_type": "display_data"
    }
   ],
   "source": [
    "xvals = [float(x) for x in raw_df.loc[0,\"Doses (uM)\"].split(',')]\n",
    "yvals = [float(x) for x in raw_df.loc[0,\"Activity Data (median)\"].split(',')]# - raw_df.loc[0,\"Amax\"]\n",
    "plt.scatter(xvals, yvals)\n",
    "plt.xscale('log')\n",
    "plt.axvline(raw_df.loc[0,\"EC50 (µM)\"])\n",
    "plt.axvline(raw_df.loc[0,\"IC50 (µM)\"], color=\"red\")\n",
    "plt.axhline(raw_df.loc[0, \"Amax\"], color=\"k\")"
   ]
  },
  {
   "cell_type": "markdown",
   "id": "6f92a1e7-cb91-4162-b103-feb235c64d67",
   "metadata": {},
   "source": [
    "## Prepare data"
   ]
  },
  {
   "cell_type": "code",
   "execution_count": 8,
   "id": "c9c6c42d-78b4-4a35-9b10-88567b9d7021",
   "metadata": {
    "ExecuteTime": {
     "end_time": "2025-02-04T15:49:57.846779Z",
     "start_time": "2025-02-04T15:49:57.822264Z"
    }
   },
   "outputs": [],
   "source": [
    "def explode_to_long(raw_df):\n",
    "    raw_df['Doses (uM)'] = raw_df['Doses (uM)'].str.split(',')\n",
    "    raw_df['Activity Data (median)'] = raw_df['Activity Data (median)'].str.split(',')\n",
    "    raw_df['Activity SD'] = raw_df['Activity SD'].str.split(',')\n",
    "    \n",
    "    raw_df = raw_df.explode(['Doses (uM)', 'Activity Data (median)', \"Activity SD\"], ignore_index=True)\n",
    "    \n",
    "    raw_df['Doses (uM)'] = raw_df['Doses (uM)'].astype(float)\n",
    "    raw_df['Activity Data (median)'] = raw_df['Activity Data (median)'].astype(float)\n",
    "    raw_df['Activity SD'] = raw_df['Activity SD'].astype(float)\n",
    "    return raw_df\n",
    "\n",
    "# transfroms [0, -100] to [1,0] for curvecurator processing\n",
    "def transform_activity_range(raw_df):\n",
    "    raw_df[\"Activity Data (median)\"] = raw_df[\"Activity Data (median)\"] / 100 + 1\n",
    "    raw_df[\"Amax\"] = raw_df[\"Amax\"] / 100 + 1\n",
    "\n"
   ]
  },
  {
   "cell_type": "code",
   "execution_count": 9,
   "id": "8956c23c-33bf-4dc7-822c-150a3766b28b",
   "metadata": {
    "ExecuteTime": {
     "end_time": "2025-02-04T15:50:00.437240Z",
     "start_time": "2025-02-04T15:50:00.320134Z"
    }
   },
   "outputs": [],
   "source": [
    "raw_df = explode_to_long(raw_df)\n",
    "transform_activity_range(raw_df)\n",
    "raw_df[\"Primary Cell Line Name\"] = raw_df[\"Primary Cell Line Name\"].astype(str)\n"
   ]
  },
  {
   "cell_type": "code",
   "execution_count": 10,
   "id": "0db34ada-77a1-4bca-8144-b96d14f35cba",
   "metadata": {
    "ExecuteTime": {
     "end_time": "2025-02-04T15:50:01.660461Z",
     "start_time": "2025-02-04T15:50:01.325838Z"
    }
   },
   "outputs": [
    {
     "data": {
      "text/plain": "<matplotlib.lines.Line2D at 0x14221dd50>"
     },
     "execution_count": 10,
     "metadata": {},
     "output_type": "execute_result"
    },
    {
     "data": {
      "text/plain": "<Figure size 640x480 with 1 Axes>",
      "image/png": "[encoded data removed]"
     },
     "metadata": {},
     "output_type": "display_data"
    }
   ],
   "source": [
    "sns.scatterplot(raw_df.iloc[:8], x=\"Doses (uM)\", y=\"Activity Data (median)\")\n",
    "plt.xscale('log')\n",
    "plt.axvline(raw_df.loc[0,\"EC50 (µM)\"])\n",
    "plt.axvline(raw_df.loc[0,\"IC50 (µM)\"], color=\"red\")\n",
    "plt.axhline(raw_df.loc[0, \"Amax\"], color=\"k\")"
   ]
  },
  {
   "cell_type": "code",
   "execution_count": 11,
   "id": "06c36119-c040-4110-9740-d3f3bb19d2a8",
   "metadata": {
    "ExecuteTime": {
     "end_time": "2025-02-04T15:50:03.218130Z",
     "start_time": "2025-02-04T15:50:03.137273Z"
    }
   },
   "outputs": [
    {
     "data": {
      "text/plain": "   Compound (code or generic name) Compound (brand name)  \\\n0                           17-AAG          Tanespimycin   \n1                           AEW541                   NaN   \n2                          AZD0530           Saracatinib   \n3                          AZD6244           Selumetinib   \n4                        Erlotinib               Tarceva   \n5                       Irinotecan            Camptosar    \n6                         L-685458                   NaN   \n7                           LBW242                   NaN   \n8                        Lapatinib                Tykerb   \n9                        Nilotinib               Tasigna   \n10                        Nutlin-3                   NaN   \n11                      PD-0325901                   NaN   \n12                             NaN                   NaN   \n13                     PD-0332991                    NaN   \n14                      PF-2341066            Crizotinib   \n15                             NaN                   NaN   \n16                      PHA-665752                   NaN   \n17                         PLX4720                   NaN   \n18                      Paclitaxel                 Taxol   \n19                             NaN                   NaN   \n20                  Panobinostat                Faridak    \n21                          RAF265                   NaN   \n22                       Sorafenib               Nexavar   \n23                          TAE684                   NaN   \n24                          TKI258             Dovitinib   \n25                       Topotecan              Hycamtin   \n26                      Vandetanib               Zactima   \n27                             NaN                   NaN   \n\n                                            Target(s)  \\\n0                                               HSP90   \n1                                              IGF-1R   \n2                              Src, Abl/Bcr-Abl, EGFR   \n3                                                 MEK   \n4                                                EGFR   \n5                                     Topoisomerase I   \n6                                     Gamma Secretase   \n7                                                 IAP   \n8                                          EGFR, HER2   \n9                                         Abl/Bcr-Abl   \n10                                               MDM2   \n11                                                MEK   \n12                                                NaN   \n13                                             CDK4/6   \n14                                         c-MET, ALK   \n15                                                NaN   \n16                                              c-MET   \n17                                               RAF    \n18                                      beta-tubulin    \n19                                                NaN   \n20                                               HDAC   \n21                                  Raf kinase B, KDR   \n22  Flt3, C-KIT, PDGFRbeta, RET, Raf kinase B, Raf...   \n23                                                ALK   \n24               EGFR, FGFR1, PDGFRbeta, VEGFR-1, KDR   \n25                                    Topoisomerase I   \n26    Abl, EGFR, Flt3, C-KIT, RET, VEGFR-1, KDR, FLT4   \n27                                                NaN   \n\n                                Mechanism of action                     Class  \\\n0           Heat Shock Protein 90 (hsp90) Inhibitor  Other targeted therapies   \n1                                  IGF-1R Inhibitor          Kinase inhibitor   \n2                             Src and Abl inhibitor          Kinase inhibitor   \n3                           MEK1 and MEK2 Inhibitor          Kinase inhibitor   \n4                                   EGFR  Inhibitor          Kinase inhibitor   \n5                     DNA Topoisomerase I Inhibitor                 Cytotoxic   \n6                         gamma-Secretase Inhibitor  Other targeted therapies   \n7   Inhibitor of Apoptosis Proteins (IAP) Inhibitor  Other targeted therapies   \n8                           EGFR and HER2 Inhibitor          Kinase inhibitor   \n9                                     Abl Inhibitor          Kinase inhibitor   \n10                                   MDM2 Inhibitor  Other targeted therapies   \n11                          MEK1 and MEK2 Inhibitor          Kinase inhibitor   \n12                                              NaN                       NaN   \n13                                 CDK4/6 Inhibitor          Kinase inhibitor   \n14                          c-MET and ALK Inhibitor          Kinase inhibitor   \n15                                              NaN                       NaN   \n16                                  c-MET Inhibitor          Kinase inhibitor   \n17                           Raf kinase B Inhibitor          Kinase inhibitor   \n18                   Microtubule-Stabilizing Agents                 Cytotoxic   \n19                                              NaN                       NaN   \n20             Histone Deacetylase (HDAC) Inhibitor  Other targeted therapies   \n21                   Raf kinase B and KDR Inhibitor          Kinase inhibitor   \n22                           Multi-kinase inhibitor          Kinase inhibitor   \n23                                    ALK Inhibitor          Kinase inhibitor   \n24                           Multi-kinase inhibitor          Kinase inhibitor   \n25                    DNA Topoisomerase I Inhibitor                 Cytotoxic   \n26                           Multi-kinase inhibitor          Kinase inhibitor   \n27                                              NaN                       NaN   \n\n     Highest Phase          Organization      Compound  \n0        Phase III  Bristol-Myers Squibb        17-AAG  \n1      Preclinical              Novartis        AEW541  \n2         Phase II           AstraZeneca       AZD0530  \n3         Phase II           AstraZeneca       AZD6244  \n4    Launched-2004             Genentech     Erlotinib  \n5    Launched-1994               Pfizer     Irinotecan  \n6      Preclinical   Merck Sharp & Dohme      L-685458  \n7      Preclinical              Novartis        LBW242  \n8    Launched-2007       GlaxoSmithKline     Lapatinib  \n9    Launched-2007              Novartis     Nilotinib  \n10     Preclinical                 Roche      Nutlin-3  \n11    Discontinued               Pfizer     PD-0325901  \n12             NaN                   NaN    PD-0332991  \n13        Phase II               Pfizer            NaN  \n14   Launched-2011               Pfizer            NaN  \n15             NaN                   NaN     PF2341066  \n16     Preclinical               Pfizer     PHA-665752  \n17     Preclinical             Plexxikon       PLX4720  \n18   Launched-1993  Bristol-Myers Squibb    Paclitaxel  \n19             NaN                   NaN  Panobinostat  \n20  Pre-Registered              Novartis           NaN  \n21         Phase I              Novartis        RAF265  \n22   Launched-2005                 Bayer     Sorafenib  \n23     Preclinical              Novartis        TAE684  \n24       Phase III              Novartis        TKI258  \n25   Launched-1996       GlaxoSmithKline     Topotecan  \n26   Launched-2011           AstraZeneca           NaN  \n27             NaN                   NaN       ZD-6474  ",
      "text/html": "<div>\n<style scoped>\n    .dataframe tbody tr th:only-of-type {\n        vertical-align: middle;\n    }\n\n    .dataframe tbody tr th {\n        vertical-align: top;\n    }\n\n    .dataframe thead th {\n        text-align: right;\n    }\n</style>\n<table border=\"1\" class=\"dataframe\">\n  <thead>\n    <tr style=\"text-align: right;\">\n      <th></th>\n      <th>Compound (code or generic name)</th>\n      <th>Compound (brand name)</th>\n      <th>Target(s)</th>\n      <th>Mechanism of action</th>\n      <th>Class</th>\n      <th>Highest Phase</th>\n      <th>Organization</th>\n      <th>Compound</th>\n    </tr>\n  </thead>\n  <tbody>\n    <tr>\n      <th>0</th>\n      <td>17-AAG</td>\n      <td>Tanespimycin</td>\n      <td>HSP90</td>\n      <td>Heat Shock Protein 90 (hsp90) Inhibitor</td>\n      <td>Other targeted therapies</td>\n      <td>Phase III</td>\n      <td>Bristol-Myers Squibb</td>\n      <td>17-AAG</td>\n    </tr>\n    <tr>\n      <th>1</th>\n      <td>AEW541</td>\n      <td>NaN</td>\n      <td>IGF-1R</td>\n      <td>IGF-1R Inhibitor</td>\n      <td>Kinase inhibitor</td>\n      <td>Preclinical</td>\n      <td>Novartis</td>\n      <td>AEW541</td>\n    </tr>\n    <tr>\n      <th>2</th>\n      <td>AZD0530</td>\n      <td>Saracatinib</td>\n      <td>Src, Abl/Bcr-Abl, EGFR</td>\n      <td>Src and Abl inhibitor</td>\n      <td>Kinase inhibitor</td>\n      <td>Phase II</td>\n      <td>AstraZeneca</td>\n      <td>AZD0530</td>\n    </tr>\n    <tr>\n      <th>3</th>\n      <td>AZD6244</td>\n      <td>Selumetinib</td>\n      <td>MEK</td>\n      <td>MEK1 and MEK2 Inhibitor</td>\n      <td>Kinase inhibitor</td>\n      <td>Phase II</td>\n      <td>AstraZeneca</td>\n      <td>AZD6244</td>\n    </tr>\n    <tr>\n      <th>4</th>\n      <td>Erlotinib</td>\n      <td>Tarceva</td>\n      <td>EGFR</td>\n      <td>EGFR  Inhibitor</td>\n      <td>Kinase inhibitor</td>\n      <td>Launched-2004</td>\n      <td>Genentech</td>\n      <td>Erlotinib</td>\n    </tr>\n    <tr>\n      <th>5</th>\n      <td>Irinotecan</td>\n      <td>Camptosar</td>\n      <td>Topoisomerase I</td>\n      <td>DNA Topoisomerase I Inhibitor</td>\n      <td>Cytotoxic</td>\n      <td>Launched-1994</td>\n      <td>Pfizer</td>\n      <td>Irinotecan</td>\n    </tr>\n    <tr>\n      <th>6</th>\n      <td>L-685458</td>\n      <td>NaN</td>\n      <td>Gamma Secretase</td>\n      <td>gamma-Secretase Inhibitor</td>\n      <td>Other targeted therapies</td>\n      <td>Preclinical</td>\n      <td>Merck Sharp &amp; Dohme</td>\n      <td>L-685458</td>\n    </tr>\n    <tr>\n      <th>7</th>\n      <td>LBW242</td>\n      <td>NaN</td>\n      <td>IAP</td>\n      <td>Inhibitor of Apoptosis Proteins (IAP) Inhibitor</td>\n      <td>Other targeted therapies</td>\n      <td>Preclinical</td>\n      <td>Novartis</td>\n      <td>LBW242</td>\n    </tr>\n    <tr>\n      <th>8</th>\n      <td>Lapatinib</td>\n      <td>Tykerb</td>\n      <td>EGFR, HER2</td>\n      <td>EGFR and HER2 Inhibitor</td>\n      <td>Kinase inhibitor</td>\n      <td>Launched-2007</td>\n      <td>GlaxoSmithKline</td>\n      <td>Lapatinib</td>\n    </tr>\n    <tr>\n      <th>9</th>\n      <td>Nilotinib</td>\n      <td>Tasigna</td>\n      <td>Abl/Bcr-Abl</td>\n      <td>Abl Inhibitor</td>\n      <td>Kinase inhibitor</td>\n      <td>Launched-2007</td>\n      <td>Novartis</td>\n      <td>Nilotinib</td>\n    </tr>\n    <tr>\n      <th>10</th>\n      <td>Nutlin-3</td>\n      <td>NaN</td>\n      <td>MDM2</td>\n      <td>MDM2 Inhibitor</td>\n      <td>Other targeted therapies</td>\n      <td>Preclinical</td>\n      <td>Roche</td>\n      <td>Nutlin-3</td>\n    </tr>\n    <tr>\n      <th>11</th>\n      <td>PD-0325901</td>\n      <td>NaN</td>\n      <td>MEK</td>\n      <td>MEK1 and MEK2 Inhibitor</td>\n      <td>Kinase inhibitor</td>\n      <td>Discontinued</td>\n      <td>Pfizer</td>\n      <td>PD-0325901</td>\n    </tr>\n    <tr>\n      <th>12</th>\n      <td>NaN</td>\n      <td>NaN</td>\n      <td>NaN</td>\n      <td>NaN</td>\n      <td>NaN</td>\n      <td>NaN</td>\n      <td>NaN</td>\n      <td>PD-0332991</td>\n    </tr>\n    <tr>\n      <th>13</th>\n      <td>PD-0332991</td>\n      <td>NaN</td>\n      <td>CDK4/6</td>\n      <td>CDK4/6 Inhibitor</td>\n      <td>Kinase inhibitor</td>\n      <td>Phase II</td>\n      <td>Pfizer</td>\n      <td>NaN</td>\n    </tr>\n    <tr>\n      <th>14</th>\n      <td>PF-2341066</td>\n      <td>Crizotinib</td>\n      <td>c-MET, ALK</td>\n      <td>c-MET and ALK Inhibitor</td>\n      <td>Kinase inhibitor</td>\n      <td>Launched-2011</td>\n      <td>Pfizer</td>\n      <td>NaN</td>\n    </tr>\n    <tr>\n      <th>15</th>\n      <td>NaN</td>\n      <td>NaN</td>\n      <td>NaN</td>\n      <td>NaN</td>\n      <td>NaN</td>\n      <td>NaN</td>\n      <td>NaN</td>\n      <td>PF2341066</td>\n    </tr>\n    <tr>\n      <th>16</th>\n      <td>PHA-665752</td>\n      <td>NaN</td>\n      <td>c-MET</td>\n      <td>c-MET Inhibitor</td>\n      <td>Kinase inhibitor</td>\n      <td>Preclinical</td>\n      <td>Pfizer</td>\n      <td>PHA-665752</td>\n    </tr>\n    <tr>\n      <th>17</th>\n      <td>PLX4720</td>\n      <td>NaN</td>\n      <td>RAF</td>\n      <td>Raf kinase B Inhibitor</td>\n      <td>Kinase inhibitor</td>\n      <td>Preclinical</td>\n      <td>Plexxikon</td>\n      <td>PLX4720</td>\n    </tr>\n    <tr>\n      <th>18</th>\n      <td>Paclitaxel</td>\n      <td>Taxol</td>\n      <td>beta-tubulin</td>\n      <td>Microtubule-Stabilizing Agents</td>\n      <td>Cytotoxic</td>\n      <td>Launched-1993</td>\n      <td>Bristol-Myers Squibb</td>\n      <td>Paclitaxel</td>\n    </tr>\n    <tr>\n      <th>19</th>\n      <td>NaN</td>\n      <td>NaN</td>\n      <td>NaN</td>\n      <td>NaN</td>\n      <td>NaN</td>\n      <td>NaN</td>\n      <td>NaN</td>\n      <td>Panobinostat</td>\n    </tr>\n    <tr>\n      <th>20</th>\n      <td>Panobinostat</td>\n      <td>Faridak</td>\n      <td>HDAC</td>\n      <td>Histone Deacetylase (HDAC) Inhibitor</td>\n      <td>Other targeted therapies</td>\n      <td>Pre-Registered</td>\n      <td>Novartis</td>\n      <td>NaN</td>\n    </tr>\n    <tr>\n      <th>21</th>\n      <td>RAF265</td>\n      <td>NaN</td>\n      <td>Raf kinase B, KDR</td>\n      <td>Raf kinase B and KDR Inhibitor</td>\n      <td>Kinase inhibitor</td>\n      <td>Phase I</td>\n      <td>Novartis</td>\n      <td>RAF265</td>\n    </tr>\n    <tr>\n      <th>22</th>\n      <td>Sorafenib</td>\n      <td>Nexavar</td>\n      <td>Flt3, C-KIT, PDGFRbeta, RET, Raf kinase B, Raf...</td>\n      <td>Multi-kinase inhibitor</td>\n      <td>Kinase inhibitor</td>\n      <td>Launched-2005</td>\n      <td>Bayer</td>\n      <td>Sorafenib</td>\n    </tr>\n    <tr>\n      <th>23</th>\n      <td>TAE684</td>\n      <td>NaN</td>\n      <td>ALK</td>\n      <td>ALK Inhibitor</td>\n      <td>Kinase inhibitor</td>\n      <td>Preclinical</td>\n      <td>Novartis</td>\n      <td>TAE684</td>\n    </tr>\n    <tr>\n      <th>24</th>\n      <td>TKI258</td>\n      <td>Dovitinib</td>\n      <td>EGFR, FGFR1, PDGFRbeta, VEGFR-1, KDR</td>\n      <td>Multi-kinase inhibitor</td>\n      <td>Kinase inhibitor</td>\n      <td>Phase III</td>\n      <td>Novartis</td>\n      <td>TKI258</td>\n    </tr>\n    <tr>\n      <th>25</th>\n      <td>Topotecan</td>\n      <td>Hycamtin</td>\n      <td>Topoisomerase I</td>\n      <td>DNA Topoisomerase I Inhibitor</td>\n      <td>Cytotoxic</td>\n      <td>Launched-1996</td>\n      <td>GlaxoSmithKline</td>\n      <td>Topotecan</td>\n    </tr>\n    <tr>\n      <th>26</th>\n      <td>Vandetanib</td>\n      <td>Zactima</td>\n      <td>Abl, EGFR, Flt3, C-KIT, RET, VEGFR-1, KDR, FLT4</td>\n      <td>Multi-kinase inhibitor</td>\n      <td>Kinase inhibitor</td>\n      <td>Launched-2011</td>\n      <td>AstraZeneca</td>\n      <td>NaN</td>\n    </tr>\n    <tr>\n      <th>27</th>\n      <td>NaN</td>\n      <td>NaN</td>\n      <td>NaN</td>\n      <td>NaN</td>\n      <td>NaN</td>\n      <td>NaN</td>\n      <td>NaN</td>\n      <td>ZD-6474</td>\n    </tr>\n  </tbody>\n</table>\n</div>"
     },
     "execution_count": 11,
     "metadata": {},
     "output_type": "execute_result"
    }
   ],
   "source": [
    "# fix drug names in drug_df that cannot map to raw_df\n",
    "drug_df.merge(raw_df[['Compound']].drop_duplicates(), left_on=[\"Compound (code or generic name)\"], right_on='Compound', how='outer')"
   ]
  },
  {
   "cell_type": "code",
   "execution_count": 12,
   "id": "b2abd574-f791-44d9-bfb3-e602fbe5e58b",
   "metadata": {
    "ExecuteTime": {
     "end_time": "2025-02-04T12:34:22.979481Z",
     "start_time": "2025-02-04T12:34:22.805335Z"
    }
   },
   "outputs": [
    {
     "data": {
      "text/plain": "('PD-0332991 ', 'Panobinostat\\xa0\\xa0')"
     },
     "execution_count": 12,
     "metadata": {},
     "output_type": "execute_result"
    }
   ],
   "source": [
    "drug_df.iloc[10,0], drug_df.iloc[20,0]"
   ]
  },
  {
   "cell_type": "code",
   "execution_count": 13,
   "id": "bcb0fdcb-477a-42c5-899b-a6b0728625c0",
   "metadata": {
    "ExecuteTime": {
     "end_time": "2025-02-04T12:34:23.474127Z",
     "start_time": "2025-02-04T12:34:23.438427Z"
    }
   },
   "outputs": [],
   "source": [
    "# remove trailing characters\n",
    "drug_df.iloc[10,0] = \"PD-0332991\"\n",
    "drug_df.iloc[20,0] = \"Panobinostat\""
   ]
  },
  {
   "cell_type": "code",
   "execution_count": 14,
   "id": "8e888b97-9b5b-49ce-bffd-824b9a4a9dd6",
   "metadata": {
    "ExecuteTime": {
     "end_time": "2025-02-04T12:34:23.964329Z",
     "start_time": "2025-02-04T12:34:23.923842Z"
    }
   },
   "outputs": [],
   "source": [
    "# fix the names in the raw_df\n",
    "raw_df.loc[raw_df[\"Compound\"] == 'ZD-6474', \"Compound\"] = \"Vandetanib\"\n",
    "raw_df.loc[raw_df[\"Compound\"] == 'PF2341066', \"Compound\"] = \"PF-2341066\""
   ]
  },
  {
   "cell_type": "code",
   "execution_count": 15,
   "id": "3af98ef8-4349-4d93-82e9-5e76ece70cc5",
   "metadata": {
    "ExecuteTime": {
     "end_time": "2025-02-04T12:34:24.517496Z",
     "start_time": "2025-02-04T12:34:24.438132Z"
    }
   },
   "outputs": [
    {
     "name": "stderr",
     "output_type": "stream",
     "text": [
      "/var/folders/3x/f8j9tddj7flfxt9zx1gkws1m0000gn/T/ipykernel_31076/2199177255.py:2: FutureWarning: A value is trying to be set on a copy of a DataFrame or Series through chained assignment using an inplace method.\n",
      "The behavior will change in pandas 3.0. This inplace method will never work because the intermediate object on which we are setting values always behaves as a copy.\n",
      "\n",
      "For example, when doing 'df[col].method(value, inplace=True)', try using 'df.method({col: value}, inplace=True)' or df[col] = df[col].method(value) instead, to perform the operation inplace on the original object.\n",
      "\n",
      "\n",
      "  filtered_ccle_drugs[\"Compound (brand name)\"].fillna('', inplace=True)\n"
     ]
    },
    {
     "data": {
      "text/plain": "                                Compound (brand name)  \\\nCompound (code or generic name)                         \nErlotinib                                     Tarceva   \nLapatinib                                      Tykerb   \nPHA-665752                                              \nPF-2341066                                 Crizotinib   \nTAE684                                                  \nVandetanib                                    Zactima   \nNilotinib                                     Tasigna   \nAZD0530                                   Saracatinib   \nSorafenib                                     Nexavar   \nTKI258                                      Dovitinib   \nPD-0332991                                              \nAEW541                                                  \nRAF265                                                  \nPLX4720                                                 \nPD-0325901                                              \nAZD6244                                   Selumetinib   \nNutlin-3                                                \nLBW242                                                  \n17-AAG                                   Tanespimycin   \nL-685458                                                \nPanobinostat                                 Faridak    \nPaclitaxel                                      Taxol   \nIrinotecan                                 Camptosar    \nTopotecan                                    Hycamtin   \n\n                                                                         Target(s)  \\\nCompound (code or generic name)                                                      \nErlotinib                                                                     EGFR   \nLapatinib                                                               EGFR, HER2   \nPHA-665752                                                                   c-MET   \nPF-2341066                                                              c-MET, ALK   \nTAE684                                                                         ALK   \nVandetanib                         Abl, EGFR, Flt3, C-KIT, RET, VEGFR-1, KDR, FLT4   \nNilotinib                                                              Abl/Bcr-Abl   \nAZD0530                                                     Src, Abl/Bcr-Abl, EGFR   \nSorafenib                        Flt3, C-KIT, PDGFRbeta, RET, Raf kinase B, Raf...   \nTKI258                                        EGFR, FGFR1, PDGFRbeta, VEGFR-1, KDR   \nPD-0332991                                                                  CDK4/6   \nAEW541                                                                      IGF-1R   \nRAF265                                                           Raf kinase B, KDR   \nPLX4720                                                                       RAF    \nPD-0325901                                                                     MEK   \nAZD6244                                                                        MEK   \nNutlin-3                                                                      MDM2   \nLBW242                                                                         IAP   \n17-AAG                                                                       HSP90   \nL-685458                                                           Gamma Secretase   \nPanobinostat                                                                  HDAC   \nPaclitaxel                                                           beta-tubulin    \nIrinotecan                                                         Topoisomerase I   \nTopotecan                                                          Topoisomerase I   \n\n                                                             Mechanism of action  \\\nCompound (code or generic name)                                                    \nErlotinib                                                        EGFR  Inhibitor   \nLapatinib                                                EGFR and HER2 Inhibitor   \nPHA-665752                                                       c-MET Inhibitor   \nPF-2341066                                               c-MET and ALK Inhibitor   \nTAE684                                                             ALK Inhibitor   \nVandetanib                                                Multi-kinase inhibitor   \nNilotinib                                                          Abl Inhibitor   \nAZD0530                                                    Src and Abl inhibitor   \nSorafenib                                                 Multi-kinase inhibitor   \nTKI258                                                    Multi-kinase inhibitor   \nPD-0332991                                                      CDK4/6 Inhibitor   \nAEW541                                                          IGF-1R Inhibitor   \nRAF265                                            Raf kinase B and KDR Inhibitor   \nPLX4720                                                   Raf kinase B Inhibitor   \nPD-0325901                                               MEK1 and MEK2 Inhibitor   \nAZD6244                                                  MEK1 and MEK2 Inhibitor   \nNutlin-3                                                          MDM2 Inhibitor   \nLBW242                           Inhibitor of Apoptosis Proteins (IAP) Inhibitor   \n17-AAG                                   Heat Shock Protein 90 (hsp90) Inhibitor   \nL-685458                                               gamma-Secretase Inhibitor   \nPanobinostat                                Histone Deacetylase (HDAC) Inhibitor   \nPaclitaxel                                        Microtubule-Stabilizing Agents   \nIrinotecan                                         DNA Topoisomerase I Inhibitor   \nTopotecan                                          DNA Topoisomerase I Inhibitor   \n\n                                                    Class   Highest Phase  \\\nCompound (code or generic name)                                             \nErlotinib                                Kinase inhibitor   Launched-2004   \nLapatinib                                Kinase inhibitor   Launched-2007   \nPHA-665752                               Kinase inhibitor     Preclinical   \nPF-2341066                               Kinase inhibitor   Launched-2011   \nTAE684                                   Kinase inhibitor     Preclinical   \nVandetanib                               Kinase inhibitor   Launched-2011   \nNilotinib                                Kinase inhibitor   Launched-2007   \nAZD0530                                  Kinase inhibitor        Phase II   \nSorafenib                                Kinase inhibitor   Launched-2005   \nTKI258                                   Kinase inhibitor       Phase III   \nPD-0332991                               Kinase inhibitor        Phase II   \nAEW541                                   Kinase inhibitor     Preclinical   \nRAF265                                   Kinase inhibitor         Phase I   \nPLX4720                                  Kinase inhibitor     Preclinical   \nPD-0325901                               Kinase inhibitor    Discontinued   \nAZD6244                                  Kinase inhibitor        Phase II   \nNutlin-3                         Other targeted therapies     Preclinical   \nLBW242                           Other targeted therapies     Preclinical   \n17-AAG                           Other targeted therapies       Phase III   \nL-685458                         Other targeted therapies     Preclinical   \nPanobinostat                     Other targeted therapies  Pre-Registered   \nPaclitaxel                                      Cytotoxic   Launched-1993   \nIrinotecan                                      Cytotoxic   Launched-1994   \nTopotecan                                       Cytotoxic   Launched-1996   \n\n                                         Organization      Compound  \nCompound (code or generic name)                                      \nErlotinib                                   Genentech     Erlotinib  \nLapatinib                             GlaxoSmithKline     Lapatinib  \nPHA-665752                                    Pfizer     PHA-665752  \nPF-2341066                                    Pfizer     PF-2341066  \nTAE684                                       Novartis        TAE684  \nVandetanib                                AstraZeneca    Vandetanib  \nNilotinib                                    Novartis     Nilotinib  \nAZD0530                                   AstraZeneca       AZD0530  \nSorafenib                                       Bayer     Sorafenib  \nTKI258                                       Novartis        TKI258  \nPD-0332991                                    Pfizer     PD-0332991  \nAEW541                                       Novartis        AEW541  \nRAF265                                       Novartis        RAF265  \nPLX4720                                     Plexxikon       PLX4720  \nPD-0325901                                    Pfizer     PD-0325901  \nAZD6244                                   AstraZeneca       AZD6244  \nNutlin-3                                        Roche      Nutlin-3  \nLBW242                                       Novartis        LBW242  \n17-AAG                           Bristol-Myers Squibb        17-AAG  \nL-685458                          Merck Sharp & Dohme      L-685458  \nPanobinostat                                 Novartis  Panobinostat  \nPaclitaxel                       Bristol-Myers Squibb    Paclitaxel  \nIrinotecan                                    Pfizer     Irinotecan  \nTopotecan                             GlaxoSmithKline     Topotecan  ",
      "text/html": "<div>\n<style scoped>\n    .dataframe tbody tr th:only-of-type {\n        vertical-align: middle;\n    }\n\n    .dataframe tbody tr th {\n        vertical-align: top;\n    }\n\n    .dataframe thead th {\n        text-align: right;\n    }\n</style>\n<table border=\"1\" class=\"dataframe\">\n  <thead>\n    <tr style=\"text-align: right;\">\n      <th></th>\n      <th>Compound (brand name)</th>\n      <th>Target(s)</th>\n      <th>Mechanism of action</th>\n      <th>Class</th>\n      <th>Highest Phase</th>\n      <th>Organization</th>\n      <th>Compound</th>\n    </tr>\n    <tr>\n      <th>Compound (code or generic name)</th>\n      <th></th>\n      <th></th>\n      <th></th>\n      <th></th>\n      <th></th>\n      <th></th>\n      <th></th>\n    </tr>\n  </thead>\n  <tbody>\n    <tr>\n      <th>Erlotinib</th>\n      <td>Tarceva</td>\n      <td>EGFR</td>\n      <td>EGFR  Inhibitor</td>\n      <td>Kinase inhibitor</td>\n      <td>Launched-2004</td>\n      <td>Genentech</td>\n      <td>Erlotinib</td>\n    </tr>\n    <tr>\n      <th>Lapatinib</th>\n      <td>Tykerb</td>\n      <td>EGFR, HER2</td>\n      <td>EGFR and HER2 Inhibitor</td>\n      <td>Kinase inhibitor</td>\n      <td>Launched-2007</td>\n      <td>GlaxoSmithKline</td>\n      <td>Lapatinib</td>\n    </tr>\n    <tr>\n      <th>PHA-665752</th>\n      <td></td>\n      <td>c-MET</td>\n      <td>c-MET Inhibitor</td>\n      <td>Kinase inhibitor</td>\n      <td>Preclinical</td>\n      <td>Pfizer</td>\n      <td>PHA-665752</td>\n    </tr>\n    <tr>\n      <th>PF-2341066</th>\n      <td>Crizotinib</td>\n      <td>c-MET, ALK</td>\n      <td>c-MET and ALK Inhibitor</td>\n      <td>Kinase inhibitor</td>\n      <td>Launched-2011</td>\n      <td>Pfizer</td>\n      <td>PF-2341066</td>\n    </tr>\n    <tr>\n      <th>TAE684</th>\n      <td></td>\n      <td>ALK</td>\n      <td>ALK Inhibitor</td>\n      <td>Kinase inhibitor</td>\n      <td>Preclinical</td>\n      <td>Novartis</td>\n      <td>TAE684</td>\n    </tr>\n    <tr>\n      <th>Vandetanib</th>\n      <td>Zactima</td>\n      <td>Abl, EGFR, Flt3, C-KIT, RET, VEGFR-1, KDR, FLT4</td>\n      <td>Multi-kinase inhibitor</td>\n      <td>Kinase inhibitor</td>\n      <td>Launched-2011</td>\n      <td>AstraZeneca</td>\n      <td>Vandetanib</td>\n    </tr>\n    <tr>\n      <th>Nilotinib</th>\n      <td>Tasigna</td>\n      <td>Abl/Bcr-Abl</td>\n      <td>Abl Inhibitor</td>\n      <td>Kinase inhibitor</td>\n      <td>Launched-2007</td>\n      <td>Novartis</td>\n      <td>Nilotinib</td>\n    </tr>\n    <tr>\n      <th>AZD0530</th>\n      <td>Saracatinib</td>\n      <td>Src, Abl/Bcr-Abl, EGFR</td>\n      <td>Src and Abl inhibitor</td>\n      <td>Kinase inhibitor</td>\n      <td>Phase II</td>\n      <td>AstraZeneca</td>\n      <td>AZD0530</td>\n    </tr>\n    <tr>\n      <th>Sorafenib</th>\n      <td>Nexavar</td>\n      <td>Flt3, C-KIT, PDGFRbeta, RET, Raf kinase B, Raf...</td>\n      <td>Multi-kinase inhibitor</td>\n      <td>Kinase inhibitor</td>\n      <td>Launched-2005</td>\n      <td>Bayer</td>\n      <td>Sorafenib</td>\n    </tr>\n    <tr>\n      <th>TKI258</th>\n      <td>Dovitinib</td>\n      <td>EGFR, FGFR1, PDGFRbeta, VEGFR-1, KDR</td>\n      <td>Multi-kinase inhibitor</td>\n      <td>Kinase inhibitor</td>\n      <td>Phase III</td>\n      <td>Novartis</td>\n      <td>TKI258</td>\n    </tr>\n    <tr>\n      <th>PD-0332991</th>\n      <td></td>\n      <td>CDK4/6</td>\n      <td>CDK4/6 Inhibitor</td>\n      <td>Kinase inhibitor</td>\n      <td>Phase II</td>\n      <td>Pfizer</td>\n      <td>PD-0332991</td>\n    </tr>\n    <tr>\n      <th>AEW541</th>\n      <td></td>\n      <td>IGF-1R</td>\n      <td>IGF-1R Inhibitor</td>\n      <td>Kinase inhibitor</td>\n      <td>Preclinical</td>\n      <td>Novartis</td>\n      <td>AEW541</td>\n    </tr>\n    <tr>\n      <th>RAF265</th>\n      <td></td>\n      <td>Raf kinase B, KDR</td>\n      <td>Raf kinase B and KDR Inhibitor</td>\n      <td>Kinase inhibitor</td>\n      <td>Phase I</td>\n      <td>Novartis</td>\n      <td>RAF265</td>\n    </tr>\n    <tr>\n      <th>PLX4720</th>\n      <td></td>\n      <td>RAF</td>\n      <td>Raf kinase B Inhibitor</td>\n      <td>Kinase inhibitor</td>\n      <td>Preclinical</td>\n      <td>Plexxikon</td>\n      <td>PLX4720</td>\n    </tr>\n    <tr>\n      <th>PD-0325901</th>\n      <td></td>\n      <td>MEK</td>\n      <td>MEK1 and MEK2 Inhibitor</td>\n      <td>Kinase inhibitor</td>\n      <td>Discontinued</td>\n      <td>Pfizer</td>\n      <td>PD-0325901</td>\n    </tr>\n    <tr>\n      <th>AZD6244</th>\n      <td>Selumetinib</td>\n      <td>MEK</td>\n      <td>MEK1 and MEK2 Inhibitor</td>\n      <td>Kinase inhibitor</td>\n      <td>Phase II</td>\n      <td>AstraZeneca</td>\n      <td>AZD6244</td>\n    </tr>\n    <tr>\n      <th>Nutlin-3</th>\n      <td></td>\n      <td>MDM2</td>\n      <td>MDM2 Inhibitor</td>\n      <td>Other targeted therapies</td>\n      <td>Preclinical</td>\n      <td>Roche</td>\n      <td>Nutlin-3</td>\n    </tr>\n    <tr>\n      <th>LBW242</th>\n      <td></td>\n      <td>IAP</td>\n      <td>Inhibitor of Apoptosis Proteins (IAP) Inhibitor</td>\n      <td>Other targeted therapies</td>\n      <td>Preclinical</td>\n      <td>Novartis</td>\n      <td>LBW242</td>\n    </tr>\n    <tr>\n      <th>17-AAG</th>\n      <td>Tanespimycin</td>\n      <td>HSP90</td>\n      <td>Heat Shock Protein 90 (hsp90) Inhibitor</td>\n      <td>Other targeted therapies</td>\n      <td>Phase III</td>\n      <td>Bristol-Myers Squibb</td>\n      <td>17-AAG</td>\n    </tr>\n    <tr>\n      <th>L-685458</th>\n      <td></td>\n      <td>Gamma Secretase</td>\n      <td>gamma-Secretase Inhibitor</td>\n      <td>Other targeted therapies</td>\n      <td>Preclinical</td>\n      <td>Merck Sharp &amp; Dohme</td>\n      <td>L-685458</td>\n    </tr>\n    <tr>\n      <th>Panobinostat</th>\n      <td>Faridak</td>\n      <td>HDAC</td>\n      <td>Histone Deacetylase (HDAC) Inhibitor</td>\n      <td>Other targeted therapies</td>\n      <td>Pre-Registered</td>\n      <td>Novartis</td>\n      <td>Panobinostat</td>\n    </tr>\n    <tr>\n      <th>Paclitaxel</th>\n      <td>Taxol</td>\n      <td>beta-tubulin</td>\n      <td>Microtubule-Stabilizing Agents</td>\n      <td>Cytotoxic</td>\n      <td>Launched-1993</td>\n      <td>Bristol-Myers Squibb</td>\n      <td>Paclitaxel</td>\n    </tr>\n    <tr>\n      <th>Irinotecan</th>\n      <td>Camptosar</td>\n      <td>Topoisomerase I</td>\n      <td>DNA Topoisomerase I Inhibitor</td>\n      <td>Cytotoxic</td>\n      <td>Launched-1994</td>\n      <td>Pfizer</td>\n      <td>Irinotecan</td>\n    </tr>\n    <tr>\n      <th>Topotecan</th>\n      <td>Hycamtin</td>\n      <td>Topoisomerase I</td>\n      <td>DNA Topoisomerase I Inhibitor</td>\n      <td>Cytotoxic</td>\n      <td>Launched-1996</td>\n      <td>GlaxoSmithKline</td>\n      <td>Topotecan</td>\n    </tr>\n  </tbody>\n</table>\n</div>"
     },
     "execution_count": 15,
     "metadata": {},
     "output_type": "execute_result"
    }
   ],
   "source": [
    "filtered_ccle_drugs = drug_df.merge(raw_df[['Compound']].drop_duplicates(), left_on=[\"Compound (code or generic name)\"], right_on='Compound', how='inner').set_index(\"Compound (code or generic name)\")\n",
    "filtered_ccle_drugs[\"Compound (brand name)\"].fillna('', inplace=True)\n",
    "filtered_ccle_drugs"
   ]
  },
  {
   "cell_type": "markdown",
   "id": "f93e56a9-a271-496b-9380-846cb479b7e6",
   "metadata": {},
   "source": [
    "### Cell line mapping"
   ]
  },
  {
   "cell_type": "code",
   "execution_count": 16,
   "id": "38c4d9eb-7c9e-4ab4-8520-8c2d376ba2a0",
   "metadata": {
    "ExecuteTime": {
     "end_time": "2025-02-04T12:34:26.628806Z",
     "start_time": "2025-02-04T12:34:26.492622Z"
    }
   },
   "outputs": [
    {
     "data": {
      "text/plain": "    Primary Cell Line Name            CCLE Cell Line Name  \\\n0                   1321N1  1321N1_CENTRAL_NERVOUS_SYSTEM   \n1                    22Rv1                 22RV1_PROSTATE   \n2                 42-MG-BA  42MGBA_CENTRAL_NERVOUS_SYSTEM   \n3                     5637             5637_URINARY_TRACT   \n4                    639-V             639V_URINARY_TRACT   \n..                     ...                            ...   \n499                WM-983B                    WM983B_SKIN   \n500                   YKG1    YKG1_CENTRAL_NERVOUS_SYSTEM   \n501                ZR-75-1                   ZR751_BREAST   \n502               ZR-75-30                  ZR7530_BREAST   \n503                 HCC-56          HCC56_LARGE_INTESTINE   \n\n                         CCLE name Cell line primary name Cell line aliases  \\\n0    1321N1_CENTRAL_NERVOUS_SYSTEM                 1321N1            1321N1   \n1                   22RV1_PROSTATE                  22Rv1             22Rv1   \n2    42MGBA_CENTRAL_NERVOUS_SYSTEM               42-MG-BA          42-MG-BA   \n3               5637_URINARY_TRACT                   5637              5637   \n4               639V_URINARY_TRACT                  639-V             639-V   \n..                             ...                    ...               ...   \n499                    WM983B_SKIN                WM-983B           WM-983B   \n500    YKG1_CENTRAL_NERVOUS_SYSTEM                   YKG1              YKG1   \n501                   ZR751_BREAST                ZR-75-1           ZR-75-1   \n502                  ZR7530_BREAST               ZR-75-30          ZR-75-30   \n503          HCC56_LARGE_INTESTINE                 HCC-56            HCC-56   \n\n    Gender            Site Primary           Histology  \\\n0      NaN  central_nervous_system              glioma   \n1        M                prostate           carcinoma   \n2        M  central_nervous_system              glioma   \n3        M           urinary_tract           carcinoma   \n4        M           urinary_tract           carcinoma   \n..     ...                     ...                 ...   \n499    NaN                    skin  malignant_melanoma   \n500      F  central_nervous_system              glioma   \n501      F                  breast           carcinoma   \n502      F                  breast           carcinoma   \n503    NaN         large_intestine           carcinoma   \n\n                   Hist Subtype1 CCLE tumor type CCLE tumor type 2  \\\n0                    astrocytoma          glioma             solid   \n1                            NaN        prostate             solid   \n2           astrocytoma_Grade_IV          glioma             solid   \n3                            NaN   urinary_tract             solid   \n4    transitional_cell_carcinoma   urinary_tract             solid   \n..                           ...             ...               ...   \n499                          NaN        melanoma             solid   \n500         astrocytoma_Grade_IV          glioma             solid   \n501             ductal_carcinoma          breast             solid   \n502             ductal_carcinoma          breast             solid   \n503               adenocarcinoma      colorectal             solid   \n\n                                                 Notes        Source  \\\n0    Identical lines: U-118 MG, U-138 MG and 1321N1...         ECACC   \n1                                                  NaN          ATCC   \n2                                                  NaN          DSMZ   \n3                                                  NaN          ATCC   \n4                                                  NaN          DSMZ   \n..                                                 ...           ...   \n499                                                NaN  Academic Lab   \n500                                                NaN         HSRRB   \n501  Identical lines: ZR-75-1 and YMB-1 share high ...          ATCC   \n502                                                NaN          ATCC   \n503                                                NaN         HSRRB   \n\n     Expression arrays  SNP arrays  Hybrid capture/Sequencing  OncoMap  \\\n0                  1.0         1.0                        NaN      1.0   \n1                  1.0         1.0                        1.0      1.0   \n2                  1.0         1.0                        1.0      1.0   \n3                  1.0         1.0                        1.0      1.0   \n4                  1.0         1.0                        1.0      1.0   \n..                 ...         ...                        ...      ...   \n499                1.0         1.0                        1.0      1.0   \n500                1.0         1.0                        1.0      1.0   \n501                1.0         1.0                        1.0      1.0   \n502                1.0         1.0                        1.0      1.0   \n503                1.0         1.0                        1.0      1.0   \n\n     Drug sensitivity profiling  \n0                           1.0  \n1                           1.0  \n2                           1.0  \n3                           1.0  \n4                           1.0  \n..                          ...  \n499                         1.0  \n500                         1.0  \n501                         1.0  \n502                         1.0  \n503                         1.0  \n\n[504 rows x 18 columns]",
      "text/html": "<div>\n<style scoped>\n    .dataframe tbody tr th:only-of-type {\n        vertical-align: middle;\n    }\n\n    .dataframe tbody tr th {\n        vertical-align: top;\n    }\n\n    .dataframe thead th {\n        text-align: right;\n    }\n</style>\n<table border=\"1\" class=\"dataframe\">\n  <thead>\n    <tr style=\"text-align: right;\">\n      <th></th>\n      <th>Primary Cell Line Name</th>\n      <th>CCLE Cell Line Name</th>\n      <th>CCLE name</th>\n      <th>Cell line primary name</th>\n      <th>Cell line aliases</th>\n      <th>Gender</th>\n      <th>Site Primary</th>\n      <th>Histology</th>\n      <th>Hist Subtype1</th>\n      <th>CCLE tumor type</th>\n      <th>CCLE tumor type 2</th>\n      <th>Notes</th>\n      <th>Source</th>\n      <th>Expression arrays</th>\n      <th>SNP arrays</th>\n      <th>Hybrid capture/Sequencing</th>\n      <th>OncoMap</th>\n      <th>Drug sensitivity profiling</th>\n    </tr>\n  </thead>\n  <tbody>\n    <tr>\n      <th>0</th>\n      <td>1321N1</td>\n      <td>1321N1_CENTRAL_NERVOUS_SYSTEM</td>\n      <td>1321N1_CENTRAL_NERVOUS_SYSTEM</td>\n      <td>1321N1</td>\n      <td>1321N1</td>\n      <td>NaN</td>\n      <td>central_nervous_system</td>\n      <td>glioma</td>\n      <td>astrocytoma</td>\n      <td>glioma</td>\n      <td>solid</td>\n      <td>Identical lines: U-118 MG, U-138 MG and 1321N1...</td>\n      <td>ECACC</td>\n      <td>1.0</td>\n      <td>1.0</td>\n      <td>NaN</td>\n      <td>1.0</td>\n      <td>1.0</td>\n    </tr>\n    <tr>\n      <th>1</th>\n      <td>22Rv1</td>\n      <td>22RV1_PROSTATE</td>\n      <td>22RV1_PROSTATE</td>\n      <td>22Rv1</td>\n      <td>22Rv1</td>\n      <td>M</td>\n      <td>prostate</td>\n      <td>carcinoma</td>\n      <td>NaN</td>\n      <td>prostate</td>\n      <td>solid</td>\n      <td>NaN</td>\n      <td>ATCC</td>\n      <td>1.0</td>\n      <td>1.0</td>\n      <td>1.0</td>\n      <td>1.0</td>\n      <td>1.0</td>\n    </tr>\n    <tr>\n      <th>2</th>\n      <td>42-MG-BA</td>\n      <td>42MGBA_CENTRAL_NERVOUS_SYSTEM</td>\n      <td>42MGBA_CENTRAL_NERVOUS_SYSTEM</td>\n      <td>42-MG-BA</td>\n      <td>42-MG-BA</td>\n      <td>M</td>\n      <td>central_nervous_system</td>\n      <td>glioma</td>\n      <td>astrocytoma_Grade_IV</td>\n      <td>glioma</td>\n      <td>solid</td>\n      <td>NaN</td>\n      <td>DSMZ</td>\n      <td>1.0</td>\n      <td>1.0</td>\n      <td>1.0</td>\n      <td>1.0</td>\n      <td>1.0</td>\n    </tr>\n    <tr>\n      <th>3</th>\n      <td>5637</td>\n      <td>5637_URINARY_TRACT</td>\n      <td>5637_URINARY_TRACT</td>\n      <td>5637</td>\n      <td>5637</td>\n      <td>M</td>\n      <td>urinary_tract</td>\n      <td>carcinoma</td>\n      <td>NaN</td>\n      <td>urinary_tract</td>\n      <td>solid</td>\n      <td>NaN</td>\n      <td>ATCC</td>\n      <td>1.0</td>\n      <td>1.0</td>\n      <td>1.0</td>\n      <td>1.0</td>\n      <td>1.0</td>\n    </tr>\n    <tr>\n      <th>4</th>\n      <td>639-V</td>\n      <td>639V_URINARY_TRACT</td>\n      <td>639V_URINARY_TRACT</td>\n      <td>639-V</td>\n      <td>639-V</td>\n      <td>M</td>\n      <td>urinary_tract</td>\n      <td>carcinoma</td>\n      <td>transitional_cell_carcinoma</td>\n      <td>urinary_tract</td>\n      <td>solid</td>\n      <td>NaN</td>\n      <td>DSMZ</td>\n      <td>1.0</td>\n      <td>1.0</td>\n      <td>1.0</td>\n      <td>1.0</td>\n      <td>1.0</td>\n    </tr>\n    <tr>\n      <th>...</th>\n      <td>...</td>\n      <td>...</td>\n      <td>...</td>\n      <td>...</td>\n      <td>...</td>\n      <td>...</td>\n      <td>...</td>\n      <td>...</td>\n      <td>...</td>\n      <td>...</td>\n      <td>...</td>\n      <td>...</td>\n      <td>...</td>\n      <td>...</td>\n      <td>...</td>\n      <td>...</td>\n      <td>...</td>\n      <td>...</td>\n    </tr>\n    <tr>\n      <th>499</th>\n      <td>WM-983B</td>\n      <td>WM983B_SKIN</td>\n      <td>WM983B_SKIN</td>\n      <td>WM-983B</td>\n      <td>WM-983B</td>\n      <td>NaN</td>\n      <td>skin</td>\n      <td>malignant_melanoma</td>\n      <td>NaN</td>\n      <td>melanoma</td>\n      <td>solid</td>\n      <td>NaN</td>\n      <td>Academic Lab</td>\n      <td>1.0</td>\n      <td>1.0</td>\n      <td>1.0</td>\n      <td>1.0</td>\n      <td>1.0</td>\n    </tr>\n    <tr>\n      <th>500</th>\n      <td>YKG1</td>\n      <td>YKG1_CENTRAL_NERVOUS_SYSTEM</td>\n      <td>YKG1_CENTRAL_NERVOUS_SYSTEM</td>\n      <td>YKG1</td>\n      <td>YKG1</td>\n      <td>F</td>\n      <td>central_nervous_system</td>\n      <td>glioma</td>\n      <td>astrocytoma_Grade_IV</td>\n      <td>glioma</td>\n      <td>solid</td>\n      <td>NaN</td>\n      <td>HSRRB</td>\n      <td>1.0</td>\n      <td>1.0</td>\n      <td>1.0</td>\n      <td>1.0</td>\n      <td>1.0</td>\n    </tr>\n    <tr>\n      <th>501</th>\n      <td>ZR-75-1</td>\n      <td>ZR751_BREAST</td>\n      <td>ZR751_BREAST</td>\n      <td>ZR-75-1</td>\n      <td>ZR-75-1</td>\n      <td>F</td>\n      <td>breast</td>\n      <td>carcinoma</td>\n      <td>ductal_carcinoma</td>\n      <td>breast</td>\n      <td>solid</td>\n      <td>Identical lines: ZR-75-1 and YMB-1 share high ...</td>\n      <td>ATCC</td>\n      <td>1.0</td>\n      <td>1.0</td>\n      <td>1.0</td>\n      <td>1.0</td>\n      <td>1.0</td>\n    </tr>\n    <tr>\n      <th>502</th>\n      <td>ZR-75-30</td>\n      <td>ZR7530_BREAST</td>\n      <td>ZR7530_BREAST</td>\n      <td>ZR-75-30</td>\n      <td>ZR-75-30</td>\n      <td>F</td>\n      <td>breast</td>\n      <td>carcinoma</td>\n      <td>ductal_carcinoma</td>\n      <td>breast</td>\n      <td>solid</td>\n      <td>NaN</td>\n      <td>ATCC</td>\n      <td>1.0</td>\n      <td>1.0</td>\n      <td>1.0</td>\n      <td>1.0</td>\n      <td>1.0</td>\n    </tr>\n    <tr>\n      <th>503</th>\n      <td>HCC-56</td>\n      <td>HCC56_LARGE_INTESTINE</td>\n      <td>HCC56_LARGE_INTESTINE</td>\n      <td>HCC-56</td>\n      <td>HCC-56</td>\n      <td>NaN</td>\n      <td>large_intestine</td>\n      <td>carcinoma</td>\n      <td>adenocarcinoma</td>\n      <td>colorectal</td>\n      <td>solid</td>\n      <td>NaN</td>\n      <td>HSRRB</td>\n      <td>1.0</td>\n      <td>1.0</td>\n      <td>1.0</td>\n      <td>1.0</td>\n      <td>1.0</td>\n    </tr>\n  </tbody>\n</table>\n<p>504 rows × 18 columns</p>\n</div>"
     },
     "execution_count": 16,
     "metadata": {},
     "output_type": "execute_result"
    }
   ],
   "source": [
    "cellline_df[\"Cell line primary name\"] = cellline_df[\"Cell line primary name\"].astype(str).fillna(\"\")\n",
    "cellline_df[\"Cell line aliases\"] = cellline_df[\"Cell line primary name\"].astype(str).fillna(\"\")\n",
    "\n",
    "ccle_cellline_df = raw_df[['Primary Cell Line Name', \"CCLE Cell Line Name\"]].drop_duplicates()\n",
    "ccle_cellline_df = ccle_cellline_df.merge(cellline_df, left_on=\"CCLE Cell Line Name\", right_on=\"CCLE name\", how=\"left\")  # some cannot be mapped\n",
    "ccle_cellline_df"
   ]
  },
  {
   "cell_type": "code",
   "execution_count": 17,
   "id": "97d75ddc-b99b-4e41-b8bd-f389bf70ebb1",
   "metadata": {
    "ExecuteTime": {
     "end_time": "2025-02-04T12:34:27.069061Z",
     "start_time": "2025-02-04T12:34:27.051030Z"
    }
   },
   "outputs": [
    {
     "data": {
      "text/plain": "    Primary Cell Line Name                           CCLE Cell Line Name  \\\n20                 ALL-SIL     ALLSIL_HAEMATOPOIETIC_AND_LYMPHOID_TISSUE   \n29                 BGC-823                                BGC823_STOMACH   \n55                COLO 201                       COLO201_LARGE_INTESTINE   \n58                COLO-677                                  COLO677_LUNG   \n74                   DOV13                                   DOV13_OVARY   \n100                 GLC-82                                    GLC82_LUNG   \n136                HMC-1-8                                  HMC18_BREAST   \n194             KARPAS-422  KARPAS422_HAEMATOPOIETIC_AND_LYMPHOID_TISSUE   \n218                 KP-1NL                                KP1NL_PANCREAS   \n219                  KP-1N                                 KP1N_PANCREAS   \n251                  M059J                                         M059J   \n253                 MB 157                                  MB157_BREAST   \n267                 MES-SA                             MESSA_SOFT_TISSUE   \n280              MOG-G-CCM                MOGGCCM_CENTRAL_NERVOUS_SYSTEM   \n331              NCI-H3255                                 NCIH3255_LUNG   \n349                 OC 315                                   OC315_OVARY   \n353               OCI-LY10    OCILY10_HAEMATOPOIETIC_AND_LYMPHOID_TISSUE   \n357              ONCO-DG-1                                 ONCODG1_OVARY   \n390                    RKN                                     RKN_OVARY   \n398                 Saos-2                                    SAOS2_BONE   \n405                 SF8657                                        SF8657   \n441                SNU-C2B                                        SNUC2B   \n465                 T3M-10                                    T3M10_LUNG   \n491               VMRC-LCD                                  VMRCLCD_LUNG   \n\n    CCLE name Cell line primary name Cell line aliases Gender Site Primary  \\\n20        NaN                    NaN               NaN    NaN          NaN   \n29        NaN                    NaN               NaN    NaN          NaN   \n55        NaN                    NaN               NaN    NaN          NaN   \n58        NaN                    NaN               NaN    NaN          NaN   \n74        NaN                    NaN               NaN    NaN          NaN   \n100       NaN                    NaN               NaN    NaN          NaN   \n136       NaN                    NaN               NaN    NaN          NaN   \n194       NaN                    NaN               NaN    NaN          NaN   \n218       NaN                    NaN               NaN    NaN          NaN   \n219       NaN                    NaN               NaN    NaN          NaN   \n251       NaN                    NaN               NaN    NaN          NaN   \n253       NaN                    NaN               NaN    NaN          NaN   \n267       NaN                    NaN               NaN    NaN          NaN   \n280       NaN                    NaN               NaN    NaN          NaN   \n331       NaN                    NaN               NaN    NaN          NaN   \n349       NaN                    NaN               NaN    NaN          NaN   \n353       NaN                    NaN               NaN    NaN          NaN   \n357       NaN                    NaN               NaN    NaN          NaN   \n390       NaN                    NaN               NaN    NaN          NaN   \n398       NaN                    NaN               NaN    NaN          NaN   \n405       NaN                    NaN               NaN    NaN          NaN   \n441       NaN                    NaN               NaN    NaN          NaN   \n465       NaN                    NaN               NaN    NaN          NaN   \n491       NaN                    NaN               NaN    NaN          NaN   \n\n    Histology Hist Subtype1 CCLE tumor type CCLE tumor type 2 Notes Source  \\\n20        NaN           NaN             NaN               NaN   NaN    NaN   \n29        NaN           NaN             NaN               NaN   NaN    NaN   \n55        NaN           NaN             NaN               NaN   NaN    NaN   \n58        NaN           NaN             NaN               NaN   NaN    NaN   \n74        NaN           NaN             NaN               NaN   NaN    NaN   \n100       NaN           NaN             NaN               NaN   NaN    NaN   \n136       NaN           NaN             NaN               NaN   NaN    NaN   \n194       NaN           NaN             NaN               NaN   NaN    NaN   \n218       NaN           NaN             NaN               NaN   NaN    NaN   \n219       NaN           NaN             NaN               NaN   NaN    NaN   \n251       NaN           NaN             NaN               NaN   NaN    NaN   \n253       NaN           NaN             NaN               NaN   NaN    NaN   \n267       NaN           NaN             NaN               NaN   NaN    NaN   \n280       NaN           NaN             NaN               NaN   NaN    NaN   \n331       NaN           NaN             NaN               NaN   NaN    NaN   \n349       NaN           NaN             NaN               NaN   NaN    NaN   \n353       NaN           NaN             NaN               NaN   NaN    NaN   \n357       NaN           NaN             NaN               NaN   NaN    NaN   \n390       NaN           NaN             NaN               NaN   NaN    NaN   \n398       NaN           NaN             NaN               NaN   NaN    NaN   \n405       NaN           NaN             NaN               NaN   NaN    NaN   \n441       NaN           NaN             NaN               NaN   NaN    NaN   \n465       NaN           NaN             NaN               NaN   NaN    NaN   \n491       NaN           NaN             NaN               NaN   NaN    NaN   \n\n     Expression arrays  SNP arrays  Hybrid capture/Sequencing  OncoMap  \\\n20                 NaN         NaN                        NaN      NaN   \n29                 NaN         NaN                        NaN      NaN   \n55                 NaN         NaN                        NaN      NaN   \n58                 NaN         NaN                        NaN      NaN   \n74                 NaN         NaN                        NaN      NaN   \n100                NaN         NaN                        NaN      NaN   \n136                NaN         NaN                        NaN      NaN   \n194                NaN         NaN                        NaN      NaN   \n218                NaN         NaN                        NaN      NaN   \n219                NaN         NaN                        NaN      NaN   \n251                NaN         NaN                        NaN      NaN   \n253                NaN         NaN                        NaN      NaN   \n267                NaN         NaN                        NaN      NaN   \n280                NaN         NaN                        NaN      NaN   \n331                NaN         NaN                        NaN      NaN   \n349                NaN         NaN                        NaN      NaN   \n353                NaN         NaN                        NaN      NaN   \n357                NaN         NaN                        NaN      NaN   \n390                NaN         NaN                        NaN      NaN   \n398                NaN         NaN                        NaN      NaN   \n405                NaN         NaN                        NaN      NaN   \n441                NaN         NaN                        NaN      NaN   \n465                NaN         NaN                        NaN      NaN   \n491                NaN         NaN                        NaN      NaN   \n\n     Drug sensitivity profiling  \n20                          NaN  \n29                          NaN  \n55                          NaN  \n58                          NaN  \n74                          NaN  \n100                         NaN  \n136                         NaN  \n194                         NaN  \n218                         NaN  \n219                         NaN  \n251                         NaN  \n253                         NaN  \n267                         NaN  \n280                         NaN  \n331                         NaN  \n349                         NaN  \n353                         NaN  \n357                         NaN  \n390                         NaN  \n398                         NaN  \n405                         NaN  \n441                         NaN  \n465                         NaN  \n491                         NaN  ",
      "text/html": "<div>\n<style scoped>\n    .dataframe tbody tr th:only-of-type {\n        vertical-align: middle;\n    }\n\n    .dataframe tbody tr th {\n        vertical-align: top;\n    }\n\n    .dataframe thead th {\n        text-align: right;\n    }\n</style>\n<table border=\"1\" class=\"dataframe\">\n  <thead>\n    <tr style=\"text-align: right;\">\n      <th></th>\n      <th>Primary Cell Line Name</th>\n      <th>CCLE Cell Line Name</th>\n      <th>CCLE name</th>\n      <th>Cell line primary name</th>\n      <th>Cell line aliases</th>\n      <th>Gender</th>\n      <th>Site Primary</th>\n      <th>Histology</th>\n      <th>Hist Subtype1</th>\n      <th>CCLE tumor type</th>\n      <th>CCLE tumor type 2</th>\n      <th>Notes</th>\n      <th>Source</th>\n      <th>Expression arrays</th>\n      <th>SNP arrays</th>\n      <th>Hybrid capture/Sequencing</th>\n      <th>OncoMap</th>\n      <th>Drug sensitivity profiling</th>\n    </tr>\n  </thead>\n  <tbody>\n    <tr>\n      <th>20</th>\n      <td>ALL-SIL</td>\n      <td>ALLSIL_HAEMATOPOIETIC_AND_LYMPHOID_TISSUE</td>\n      <td>NaN</td>\n      <td>NaN</td>\n      <td>NaN</td>\n      <td>NaN</td>\n      <td>NaN</td>\n      <td>NaN</td>\n      <td>NaN</td>\n      <td>NaN</td>\n      <td>NaN</td>\n      <td>NaN</td>\n      <td>NaN</td>\n      <td>NaN</td>\n      <td>NaN</td>\n      <td>NaN</td>\n      <td>NaN</td>\n      <td>NaN</td>\n    </tr>\n    <tr>\n      <th>29</th>\n      <td>BGC-823</td>\n      <td>BGC823_STOMACH</td>\n      <td>NaN</td>\n      <td>NaN</td>\n      <td>NaN</td>\n      <td>NaN</td>\n      <td>NaN</td>\n      <td>NaN</td>\n      <td>NaN</td>\n      <td>NaN</td>\n      <td>NaN</td>\n      <td>NaN</td>\n      <td>NaN</td>\n      <td>NaN</td>\n      <td>NaN</td>\n      <td>NaN</td>\n      <td>NaN</td>\n      <td>NaN</td>\n    </tr>\n    <tr>\n      <th>55</th>\n      <td>COLO 201</td>\n      <td>COLO201_LARGE_INTESTINE</td>\n      <td>NaN</td>\n      <td>NaN</td>\n      <td>NaN</td>\n      <td>NaN</td>\n      <td>NaN</td>\n      <td>NaN</td>\n      <td>NaN</td>\n      <td>NaN</td>\n      <td>NaN</td>\n      <td>NaN</td>\n      <td>NaN</td>\n      <td>NaN</td>\n      <td>NaN</td>\n      <td>NaN</td>\n      <td>NaN</td>\n      <td>NaN</td>\n    </tr>\n    <tr>\n      <th>58</th>\n      <td>COLO-677</td>\n      <td>COLO677_LUNG</td>\n      <td>NaN</td>\n      <td>NaN</td>\n      <td>NaN</td>\n      <td>NaN</td>\n      <td>NaN</td>\n      <td>NaN</td>\n      <td>NaN</td>\n      <td>NaN</td>\n      <td>NaN</td>\n      <td>NaN</td>\n      <td>NaN</td>\n      <td>NaN</td>\n      <td>NaN</td>\n      <td>NaN</td>\n      <td>NaN</td>\n      <td>NaN</td>\n    </tr>\n    <tr>\n      <th>74</th>\n      <td>DOV13</td>\n      <td>DOV13_OVARY</td>\n      <td>NaN</td>\n      <td>NaN</td>\n      <td>NaN</td>\n      <td>NaN</td>\n      <td>NaN</td>\n      <td>NaN</td>\n      <td>NaN</td>\n      <td>NaN</td>\n      <td>NaN</td>\n      <td>NaN</td>\n      <td>NaN</td>\n      <td>NaN</td>\n      <td>NaN</td>\n      <td>NaN</td>\n      <td>NaN</td>\n      <td>NaN</td>\n    </tr>\n    <tr>\n      <th>100</th>\n      <td>GLC-82</td>\n      <td>GLC82_LUNG</td>\n      <td>NaN</td>\n      <td>NaN</td>\n      <td>NaN</td>\n      <td>NaN</td>\n      <td>NaN</td>\n      <td>NaN</td>\n      <td>NaN</td>\n      <td>NaN</td>\n      <td>NaN</td>\n      <td>NaN</td>\n      <td>NaN</td>\n      <td>NaN</td>\n      <td>NaN</td>\n      <td>NaN</td>\n      <td>NaN</td>\n      <td>NaN</td>\n    </tr>\n    <tr>\n      <th>136</th>\n      <td>HMC-1-8</td>\n      <td>HMC18_BREAST</td>\n      <td>NaN</td>\n      <td>NaN</td>\n      <td>NaN</td>\n      <td>NaN</td>\n      <td>NaN</td>\n      <td>NaN</td>\n      <td>NaN</td>\n      <td>NaN</td>\n      <td>NaN</td>\n      <td>NaN</td>\n      <td>NaN</td>\n      <td>NaN</td>\n      <td>NaN</td>\n      <td>NaN</td>\n      <td>NaN</td>\n      <td>NaN</td>\n    </tr>\n    <tr>\n      <th>194</th>\n      <td>KARPAS-422</td>\n      <td>KARPAS422_HAEMATOPOIETIC_AND_LYMPHOID_TISSUE</td>\n      <td>NaN</td>\n      <td>NaN</td>\n      <td>NaN</td>\n      <td>NaN</td>\n      <td>NaN</td>\n      <td>NaN</td>\n      <td>NaN</td>\n      <td>NaN</td>\n      <td>NaN</td>\n      <td>NaN</td>\n      <td>NaN</td>\n      <td>NaN</td>\n      <td>NaN</td>\n      <td>NaN</td>\n      <td>NaN</td>\n      <td>NaN</td>\n    </tr>\n    <tr>\n      <th>218</th>\n      <td>KP-1NL</td>\n      <td>KP1NL_PANCREAS</td>\n      <td>NaN</td>\n      <td>NaN</td>\n      <td>NaN</td>\n      <td>NaN</td>\n      <td>NaN</td>\n      <td>NaN</td>\n      <td>NaN</td>\n      <td>NaN</td>\n      <td>NaN</td>\n      <td>NaN</td>\n      <td>NaN</td>\n      <td>NaN</td>\n      <td>NaN</td>\n      <td>NaN</td>\n      <td>NaN</td>\n      <td>NaN</td>\n    </tr>\n    <tr>\n      <th>219</th>\n      <td>KP-1N</td>\n      <td>KP1N_PANCREAS</td>\n      <td>NaN</td>\n      <td>NaN</td>\n      <td>NaN</td>\n      <td>NaN</td>\n      <td>NaN</td>\n      <td>NaN</td>\n      <td>NaN</td>\n      <td>NaN</td>\n      <td>NaN</td>\n      <td>NaN</td>\n      <td>NaN</td>\n      <td>NaN</td>\n      <td>NaN</td>\n      <td>NaN</td>\n      <td>NaN</td>\n      <td>NaN</td>\n    </tr>\n    <tr>\n      <th>251</th>\n      <td>M059J</td>\n      <td>M059J</td>\n      <td>NaN</td>\n      <td>NaN</td>\n      <td>NaN</td>\n      <td>NaN</td>\n      <td>NaN</td>\n      <td>NaN</td>\n      <td>NaN</td>\n      <td>NaN</td>\n      <td>NaN</td>\n      <td>NaN</td>\n      <td>NaN</td>\n      <td>NaN</td>\n      <td>NaN</td>\n      <td>NaN</td>\n      <td>NaN</td>\n      <td>NaN</td>\n    </tr>\n    <tr>\n      <th>253</th>\n      <td>MB 157</td>\n      <td>MB157_BREAST</td>\n      <td>NaN</td>\n      <td>NaN</td>\n      <td>NaN</td>\n      <td>NaN</td>\n      <td>NaN</td>\n      <td>NaN</td>\n      <td>NaN</td>\n      <td>NaN</td>\n      <td>NaN</td>\n      <td>NaN</td>\n      <td>NaN</td>\n      <td>NaN</td>\n      <td>NaN</td>\n      <td>NaN</td>\n      <td>NaN</td>\n      <td>NaN</td>\n    </tr>\n    <tr>\n      <th>267</th>\n      <td>MES-SA</td>\n      <td>MESSA_SOFT_TISSUE</td>\n      <td>NaN</td>\n      <td>NaN</td>\n      <td>NaN</td>\n      <td>NaN</td>\n      <td>NaN</td>\n      <td>NaN</td>\n      <td>NaN</td>\n      <td>NaN</td>\n      <td>NaN</td>\n      <td>NaN</td>\n      <td>NaN</td>\n      <td>NaN</td>\n      <td>NaN</td>\n      <td>NaN</td>\n      <td>NaN</td>\n      <td>NaN</td>\n    </tr>\n    <tr>\n      <th>280</th>\n      <td>MOG-G-CCM</td>\n      <td>MOGGCCM_CENTRAL_NERVOUS_SYSTEM</td>\n      <td>NaN</td>\n      <td>NaN</td>\n      <td>NaN</td>\n      <td>NaN</td>\n      <td>NaN</td>\n      <td>NaN</td>\n      <td>NaN</td>\n      <td>NaN</td>\n      <td>NaN</td>\n      <td>NaN</td>\n      <td>NaN</td>\n      <td>NaN</td>\n      <td>NaN</td>\n      <td>NaN</td>\n      <td>NaN</td>\n      <td>NaN</td>\n    </tr>\n    <tr>\n      <th>331</th>\n      <td>NCI-H3255</td>\n      <td>NCIH3255_LUNG</td>\n      <td>NaN</td>\n      <td>NaN</td>\n      <td>NaN</td>\n      <td>NaN</td>\n      <td>NaN</td>\n      <td>NaN</td>\n      <td>NaN</td>\n      <td>NaN</td>\n      <td>NaN</td>\n      <td>NaN</td>\n      <td>NaN</td>\n      <td>NaN</td>\n      <td>NaN</td>\n      <td>NaN</td>\n      <td>NaN</td>\n      <td>NaN</td>\n    </tr>\n    <tr>\n      <th>349</th>\n      <td>OC 315</td>\n      <td>OC315_OVARY</td>\n      <td>NaN</td>\n      <td>NaN</td>\n      <td>NaN</td>\n      <td>NaN</td>\n      <td>NaN</td>\n      <td>NaN</td>\n      <td>NaN</td>\n      <td>NaN</td>\n      <td>NaN</td>\n      <td>NaN</td>\n      <td>NaN</td>\n      <td>NaN</td>\n      <td>NaN</td>\n      <td>NaN</td>\n      <td>NaN</td>\n      <td>NaN</td>\n    </tr>\n    <tr>\n      <th>353</th>\n      <td>OCI-LY10</td>\n      <td>OCILY10_HAEMATOPOIETIC_AND_LYMPHOID_TISSUE</td>\n      <td>NaN</td>\n      <td>NaN</td>\n      <td>NaN</td>\n      <td>NaN</td>\n      <td>NaN</td>\n      <td>NaN</td>\n      <td>NaN</td>\n      <td>NaN</td>\n      <td>NaN</td>\n      <td>NaN</td>\n      <td>NaN</td>\n      <td>NaN</td>\n      <td>NaN</td>\n      <td>NaN</td>\n      <td>NaN</td>\n      <td>NaN</td>\n    </tr>\n    <tr>\n      <th>357</th>\n      <td>ONCO-DG-1</td>\n      <td>ONCODG1_OVARY</td>\n      <td>NaN</td>\n      <td>NaN</td>\n      <td>NaN</td>\n      <td>NaN</td>\n      <td>NaN</td>\n      <td>NaN</td>\n      <td>NaN</td>\n      <td>NaN</td>\n      <td>NaN</td>\n      <td>NaN</td>\n      <td>NaN</td>\n      <td>NaN</td>\n      <td>NaN</td>\n      <td>NaN</td>\n      <td>NaN</td>\n      <td>NaN</td>\n    </tr>\n    <tr>\n      <th>390</th>\n      <td>RKN</td>\n      <td>RKN_OVARY</td>\n      <td>NaN</td>\n      <td>NaN</td>\n      <td>NaN</td>\n      <td>NaN</td>\n      <td>NaN</td>\n      <td>NaN</td>\n      <td>NaN</td>\n      <td>NaN</td>\n      <td>NaN</td>\n      <td>NaN</td>\n      <td>NaN</td>\n      <td>NaN</td>\n      <td>NaN</td>\n      <td>NaN</td>\n      <td>NaN</td>\n      <td>NaN</td>\n    </tr>\n    <tr>\n      <th>398</th>\n      <td>Saos-2</td>\n      <td>SAOS2_BONE</td>\n      <td>NaN</td>\n      <td>NaN</td>\n      <td>NaN</td>\n      <td>NaN</td>\n      <td>NaN</td>\n      <td>NaN</td>\n      <td>NaN</td>\n      <td>NaN</td>\n      <td>NaN</td>\n      <td>NaN</td>\n      <td>NaN</td>\n      <td>NaN</td>\n      <td>NaN</td>\n      <td>NaN</td>\n      <td>NaN</td>\n      <td>NaN</td>\n    </tr>\n    <tr>\n      <th>405</th>\n      <td>SF8657</td>\n      <td>SF8657</td>\n      <td>NaN</td>\n      <td>NaN</td>\n      <td>NaN</td>\n      <td>NaN</td>\n      <td>NaN</td>\n      <td>NaN</td>\n      <td>NaN</td>\n      <td>NaN</td>\n      <td>NaN</td>\n      <td>NaN</td>\n      <td>NaN</td>\n      <td>NaN</td>\n      <td>NaN</td>\n      <td>NaN</td>\n      <td>NaN</td>\n      <td>NaN</td>\n    </tr>\n    <tr>\n      <th>441</th>\n      <td>SNU-C2B</td>\n      <td>SNUC2B</td>\n      <td>NaN</td>\n      <td>NaN</td>\n      <td>NaN</td>\n      <td>NaN</td>\n      <td>NaN</td>\n      <td>NaN</td>\n      <td>NaN</td>\n      <td>NaN</td>\n      <td>NaN</td>\n      <td>NaN</td>\n      <td>NaN</td>\n      <td>NaN</td>\n      <td>NaN</td>\n      <td>NaN</td>\n      <td>NaN</td>\n      <td>NaN</td>\n    </tr>\n    <tr>\n      <th>465</th>\n      <td>T3M-10</td>\n      <td>T3M10_LUNG</td>\n      <td>NaN</td>\n      <td>NaN</td>\n      <td>NaN</td>\n      <td>NaN</td>\n      <td>NaN</td>\n      <td>NaN</td>\n      <td>NaN</td>\n      <td>NaN</td>\n      <td>NaN</td>\n      <td>NaN</td>\n      <td>NaN</td>\n      <td>NaN</td>\n      <td>NaN</td>\n      <td>NaN</td>\n      <td>NaN</td>\n      <td>NaN</td>\n    </tr>\n    <tr>\n      <th>491</th>\n      <td>VMRC-LCD</td>\n      <td>VMRCLCD_LUNG</td>\n      <td>NaN</td>\n      <td>NaN</td>\n      <td>NaN</td>\n      <td>NaN</td>\n      <td>NaN</td>\n      <td>NaN</td>\n      <td>NaN</td>\n      <td>NaN</td>\n      <td>NaN</td>\n      <td>NaN</td>\n      <td>NaN</td>\n      <td>NaN</td>\n      <td>NaN</td>\n      <td>NaN</td>\n      <td>NaN</td>\n      <td>NaN</td>\n    </tr>\n  </tbody>\n</table>\n</div>"
     },
     "execution_count": 17,
     "metadata": {},
     "output_type": "execute_result"
    }
   ],
   "source": [
    "# some cannot be mapped\n",
    "ccle_cellline_df[ccle_cellline_df[\"CCLE name\"].isna()]"
   ]
  },
  {
   "cell_type": "markdown",
   "id": "4f86dd1e-5838-476a-97a9-18aeb3f2898f",
   "metadata": {},
   "source": [
    "## Drugname to PubChem mapping"
   ]
  },
  {
   "cell_type": "code",
   "execution_count": 18,
   "id": "96b6689c-688b-45dc-9c3d-9b4e20c451c9",
   "metadata": {
    "ExecuteTime": {
     "end_time": "2025-02-04T12:34:52.637306Z",
     "start_time": "2025-02-04T12:34:29.118129Z"
    }
   },
   "outputs": [
    {
     "name": "stdout",
     "output_type": "stream",
     "text": [
      "0 / 24\n",
      "10 / 24\n",
      "20 / 24\n"
     ]
    }
   ],
   "source": [
    "results = {}\n",
    "chembls = {}\n",
    "manual_review = {}\n",
    "inchis = {}\n",
    "i = 0\n",
    "for brd, vals in filtered_ccle_drugs.iterrows():\n",
    "    if i % 10 == 0:\n",
    "        print(i, '/', len(filtered_ccle_drugs))\n",
    "   \n",
    "    compounds = pcp.get_compounds(identifier=brd, namespace=\"name\")\n",
    "    if len(compounds) == 0:\n",
    "        if vals[\"Compound (brand name)\"]:\n",
    "            syns = vals[\"Compound (brand name)\"].split(', ')\n",
    "            syncompounds = []\n",
    "            for syn in syns:\n",
    "                syncompounds.extend(pcp.get_compounds(identifier=brd, namespace=\"name\"))\n",
    "            if len(syncompounds) > 0:\n",
    "                manual_review[brd] = syncompounds\n",
    "            else:\n",
    "                manual_review[brd] = [compounds]\n",
    "        else:\n",
    "            manual_review[brd] = [compounds]\n",
    "    else:\n",
    "        results[brd] = compounds[0].cid\n",
    "        #print(dir(compounds[0]))\n",
    "        inchis = compounds[0].inchi\n",
    "        chembl = None\n",
    "        for syn in compounds[0].synonyms or []:\n",
    "            if syn.startswith(\"CHEMBL\"):\n",
    "                chembl = syn\n",
    "                break\n",
    "        chembls[brd] = chembl\n",
    "    i += 1"
   ]
  },
  {
   "cell_type": "markdown",
   "id": "7e2ca055-9d47-480e-8bb7-113acb20ff81",
   "metadata": {},
   "source": [
    "### Checking results"
   ]
  },
  {
   "cell_type": "code",
   "execution_count": 19,
   "id": "1f7fc6d4-7bc6-41df-98d4-4ac2f80d1339",
   "metadata": {
    "ExecuteTime": {
     "end_time": "2025-02-04T12:34:52.644033Z",
     "start_time": "2025-02-04T12:34:52.630715Z"
    }
   },
   "outputs": [
    {
     "data": {
      "text/plain": "(24, 0)"
     },
     "execution_count": 19,
     "metadata": {},
     "output_type": "execute_result"
    }
   ],
   "source": [
    "len(results), len(manual_review)"
   ]
  },
  {
   "cell_type": "code",
   "execution_count": 20,
   "id": "b69c0abe-67ad-4d32-a035-c93a8ab8c9c4",
   "metadata": {
    "ExecuteTime": {
     "end_time": "2025-02-04T12:34:52.654622Z",
     "start_time": "2025-02-04T12:34:52.641513Z"
    }
   },
   "outputs": [
    {
     "data": {
      "text/plain": "{}"
     },
     "execution_count": 20,
     "metadata": {},
     "output_type": "execute_result"
    }
   ],
   "source": [
    "manual_review |= {brd: cid for brd, cid in results.items() if cid is None}\n",
    "manual_review"
   ]
  },
  {
   "cell_type": "code",
   "execution_count": 21,
   "id": "c70ff2d1-1d3e-4673-a3c2-9d71a57a0e85",
   "metadata": {
    "ExecuteTime": {
     "end_time": "2025-02-04T12:34:52.657901Z",
     "start_time": "2025-02-04T12:34:52.651409Z"
    }
   },
   "outputs": [
    {
     "data": {
      "text/plain": "Erlotinib          176870\nLapatinib          208908\nPHA-665752       10461815\nPF-2341066       11626560\nTAE684           16038120\nVandetanib        3081361\nNilotinib          644241\nAZD0530          10302451\nSorafenib          216239\nTKI258          135398510\nPD-0332991        5330286\nAEW541           11476171\nRAF265           11656518\nPLX4720          24180719\nPD-0325901        9826528\nAZD6244          10127622\nNutlin-3           216345\nLBW242           11503417\n17-AAG            6505803\nL-685458          5479543\nPanobinostat      6918837\nPaclitaxel          36314\nIrinotecan          60838\nTopotecan           60700\nName: CID, dtype: object"
     },
     "execution_count": 21,
     "metadata": {},
     "output_type": "execute_result"
    }
   ],
   "source": [
    "# convert integer CIDs to strings, and in case of multitreatment the list to a comma separated string\n",
    "def sanitize(val):\n",
    "    if isinstance(val, int):\n",
    "        return str(val)\n",
    "    if isinstance(val, list):\n",
    "        return ','.join([str(i) for i in val])\n",
    "    return val\n",
    "\n",
    "cids = pd.Series(results | manual_review, name=\"CID\").apply(sanitize).astype(str)\n",
    "cids"
   ]
  },
  {
   "cell_type": "markdown",
   "id": "d5ae8b0d-f98e-408c-9d24-1d2eb163b5df",
   "metadata": {},
   "source": [
    "## Cell line name to Cellosaurus Mapping"
   ]
  },
  {
   "cell_type": "code",
   "execution_count": 22,
   "id": "4de63423-f334-47ae-b88f-298f708ba2d0",
   "metadata": {
    "ExecuteTime": {
     "end_time": "2025-02-04T12:34:52.660219Z",
     "start_time": "2025-02-04T12:34:52.655510Z"
    }
   },
   "outputs": [],
   "source": [
    "# Download Cellosaurus data in OBO format\n",
    "#import urllib\n",
    "#url = \"ftp://ftp.expasy.org/databases/cellosaurus/cellosaurus.txt\"\n",
    "#filename = \"cellosaurus.txt\"\n",
    "#urllib.request.urlretrieve(url, filename)\n",
    "filename = \"../../mapping/cellosaurus.txt\""
   ]
  },
  {
   "cell_type": "code",
   "execution_count": 23,
   "id": "60747b60-97a1-4329-b013-74afee814b68",
   "metadata": {
    "ExecuteTime": {
     "end_time": "2025-02-04T12:34:54.921825Z",
     "start_time": "2025-02-04T12:34:52.659381Z"
    }
   },
   "outputs": [],
   "source": [
    "cl_mappings = {}\n",
    "btos = {}\n",
    "with open(filename) as handle:\n",
    "    records = cellosaurus.parse(handle)\n",
    "    for record in records:\n",
    "        if 'Homo sapiens' in record['OX'][0]:\n",
    "            if record[\"ID\"] not in cl_mappings:\n",
    "                cl_mappings[record[\"ID\"]] = []\n",
    "            cl_mappings[record[\"ID\"]].append(record[\"AC\"])\n",
    "            syns = record[\"SY\"].split(\"; \")\n",
    "            for syn in syns:\n",
    "                if syn == '':\n",
    "                    continue\n",
    "                if syn not in cl_mappings:\n",
    "                    cl_mappings[syn] = []\n",
    "                cl_mappings[syn].append(record[\"AC\"])\n",
    "            for a, b in record[\"DR\"]:\n",
    "                if a == 'BTO':\n",
    "                    if record[\"AC\"] not in btos:\n",
    "                        btos[record[\"AC\"]] = []\n",
    "                    btos[record[\"AC\"]].append(b)"
   ]
  },
  {
   "cell_type": "code",
   "execution_count": 24,
   "id": "75e328ed-9cb1-4abd-8748-478b7ab78cf0",
   "metadata": {
    "ExecuteTime": {
     "end_time": "2025-02-04T12:34:54.922392Z",
     "start_time": "2025-02-04T12:34:54.911503Z"
    }
   },
   "outputs": [],
   "source": [
    "ccls = ccle_cellline_df[\"Primary Cell Line Name\"].unique()\n",
    "mappings = {}\n",
    "manual_checks = {}\n",
    "for ccl in ccls:\n",
    "    cellosaurus_ids = cl_mappings.get(ccl, [])\n",
    "    if len(cellosaurus_ids) == 1:\n",
    "        mappings[ccl] = cellosaurus_ids[0]\n",
    "    else:\n",
    "        manual_checks[ccl] = cellosaurus_ids"
   ]
  },
  {
   "cell_type": "code",
   "execution_count": 25,
   "id": "ef3a8daa-06fc-4e79-bb52-cfaedd27c18d",
   "metadata": {
    "ExecuteTime": {
     "end_time": "2025-02-04T12:34:54.925359Z",
     "start_time": "2025-02-04T12:34:54.913524Z"
    }
   },
   "outputs": [
    {
     "name": "stdout",
     "output_type": "stream",
     "text": [
      "CCLs: 504 matches: 496 ambiguous: 8\n"
     ]
    }
   ],
   "source": [
    "print(\"CCLs:\", len(ccls), \"matches:\", len(mappings), \"ambiguous:\", len(manual_checks))"
   ]
  },
  {
   "cell_type": "code",
   "execution_count": 26,
   "id": "357c3e15-debc-4308-89ee-80b9f8c4a82d",
   "metadata": {
    "ExecuteTime": {
     "end_time": "2025-02-04T12:34:54.941038Z",
     "start_time": "2025-02-04T12:34:54.915931Z"
    }
   },
   "outputs": [
    {
     "data": {
      "text/plain": "{'697': ['CVCL_0079', 'CVCL_8056'],\n 'ES-2': ['CVCL_3509', 'CVCL_AX39', 'CVCL_C769'],\n 'H4': ['CVCL_6C19', 'CVCL_1239', 'CVCL_HA56'],\n 'HARA': [],\n 'HH': [],\n 'KG-1': ['CVCL_0374', 'CVCL_2971'],\n 'PC-3': ['CVCL_4011', 'CVCL_0035', 'CVCL_S982'],\n 'U-87 MG': ['CVCL_0022', 'CVCL_GP63']}"
     },
     "execution_count": 26,
     "metadata": {},
     "output_type": "execute_result"
    }
   ],
   "source": [
    "manual_checks"
   ]
  },
  {
   "cell_type": "code",
   "execution_count": 27,
   "id": "a95223d1-5de4-405e-99f1-3695813c50b0",
   "metadata": {
    "ExecuteTime": {
     "end_time": "2025-02-04T12:34:54.945627Z",
     "start_time": "2025-02-04T12:34:54.921711Z"
    }
   },
   "outputs": [],
   "source": [
    "manual_checks['697'] = 'CVCL_0079'  # this is 697, according to information on cellosaurus\n",
    "\n",
    "manual_checks[\"ES-2\"] = 'CVCL_3509'  # this is ES-2, according to information on cellosaurus\n",
    "manual_checks[\"H4\"] = 'CVCL_1239'  # this is H-4, according to information on cellosaurus\n",
    "manual_checks[\"HARA\"] = 'CVCL_2914'  # this is HARA [Human squamous cell lung carcinoma], according to information on cellosaurus\n",
    "manual_checks[\"HH\"] = 'CVCL_1280'    # this is HH [Human Lymphoma], according to information on cellosaurus\n",
    "manual_checks[\"KG-1\"] = 'CVCL_0374'  # this is KG-1, according to information on cellosaurus\n",
    "\n",
    "manual_checks[\"PC-3\"] = 'CVCL_0035'  # this is PC-3, according to information on cellosaurus\n",
    "manual_checks[\"U-87 MG\"] = 'CVCL_0022'  # this is U-87MG ATCC, according to information on cellosaurus\n",
    "\n"
   ]
  },
  {
   "cell_type": "code",
   "execution_count": 28,
   "id": "b9a4d08a-e0fe-4055-8a92-f3507c7b592b",
   "metadata": {
    "ExecuteTime": {
     "end_time": "2025-02-04T12:34:54.947178Z",
     "start_time": "2025-02-04T12:34:54.925239Z"
    }
   },
   "outputs": [],
   "source": [
    "rev_mapping = {}\n",
    "for key, val in (mappings | manual_checks).items():\n",
    "    if val not in rev_mapping:\n",
    "        rev_mapping[val] = []\n",
    "    rev_mapping[val].append(key)"
   ]
  },
  {
   "cell_type": "code",
   "execution_count": 29,
   "id": "8373127b-6a1e-48ae-afbc-224b39b57906",
   "metadata": {
    "ExecuteTime": {
     "end_time": "2025-02-04T12:34:54.947359Z",
     "start_time": "2025-02-04T12:34:54.928824Z"
    }
   },
   "outputs": [
    {
     "data": {
      "text/plain": "True"
     },
     "execution_count": 29,
     "metadata": {},
     "output_type": "execute_result"
    }
   ],
   "source": [
    "any([len(val) != 1 for val in rev_mapping.values()])"
   ]
  },
  {
   "cell_type": "code",
   "execution_count": 30,
   "id": "fd05e653-0a03-45eb-bee9-f5f919a0e61b",
   "metadata": {
    "ExecuteTime": {
     "end_time": "2025-02-04T12:34:54.947467Z",
     "start_time": "2025-02-04T12:34:54.932191Z"
    }
   },
   "outputs": [
    {
     "name": "stdout",
     "output_type": "stream",
     "text": [
      "CVCL_0618 ['MB 157', 'MDA-MB-157']\n"
     ]
    }
   ],
   "source": [
    "for key, val in rev_mapping.items():\n",
    "    if len(val) != 1:\n",
    "        print(key, val)"
   ]
  },
  {
   "cell_type": "code",
   "execution_count": 31,
   "id": "31480f4a-04ad-4d3b-b9f5-ed22840ebec8",
   "metadata": {
    "ExecuteTime": {
     "end_time": "2025-02-04T12:34:55.058591Z",
     "start_time": "2025-02-04T12:34:54.938608Z"
    }
   },
   "outputs": [
    {
     "data": {
      "text/plain": "     CCLE Cell Line Name Primary Cell Line Name\n2022        MB157_BREAST                 MB 157",
      "text/html": "<div>\n<style scoped>\n    .dataframe tbody tr th:only-of-type {\n        vertical-align: middle;\n    }\n\n    .dataframe tbody tr th {\n        vertical-align: top;\n    }\n\n    .dataframe thead th {\n        text-align: right;\n    }\n</style>\n<table border=\"1\" class=\"dataframe\">\n  <thead>\n    <tr style=\"text-align: right;\">\n      <th></th>\n      <th>CCLE Cell Line Name</th>\n      <th>Primary Cell Line Name</th>\n    </tr>\n  </thead>\n  <tbody>\n    <tr>\n      <th>2022</th>\n      <td>MB157_BREAST</td>\n      <td>MB 157</td>\n    </tr>\n  </tbody>\n</table>\n</div>"
     },
     "execution_count": 31,
     "metadata": {},
     "output_type": "execute_result"
    }
   ],
   "source": [
    "raw_df[raw_df[\"Primary Cell Line Name\"].str.startswith(\"MB\")][['CCLE Cell Line Name', 'Primary Cell Line Name']].drop_duplicates()"
   ]
  },
  {
   "cell_type": "code",
   "execution_count": 32,
   "id": "06cdbeb0-7425-4e29-844d-bb1e992cc78b",
   "metadata": {
    "ExecuteTime": {
     "end_time": "2025-02-04T12:34:55.061158Z",
     "start_time": "2025-02-04T12:34:54.972845Z"
    }
   },
   "outputs": [
    {
     "data": {
      "text/plain": "     CCLE Cell Line Name Primary Cell Line Name\n2054     MDAMB157_BREAST             MDA-MB-157\n2062  MDAMB175VII_BREAST         MDA-MB-175-VII\n2070     MDAMB415_BREAST             MDA-MB-415\n2078      MDAMB435S_SKIN            MDA-MB-435S\n2086     MDAMB436_BREAST             MDA-MB-436\n2094     MDAMB453_BREAST             MDA-MB-453\n2102     MDAMB468_BREAST             MDA-MB-468",
      "text/html": "<div>\n<style scoped>\n    .dataframe tbody tr th:only-of-type {\n        vertical-align: middle;\n    }\n\n    .dataframe tbody tr th {\n        vertical-align: top;\n    }\n\n    .dataframe thead th {\n        text-align: right;\n    }\n</style>\n<table border=\"1\" class=\"dataframe\">\n  <thead>\n    <tr style=\"text-align: right;\">\n      <th></th>\n      <th>CCLE Cell Line Name</th>\n      <th>Primary Cell Line Name</th>\n    </tr>\n  </thead>\n  <tbody>\n    <tr>\n      <th>2054</th>\n      <td>MDAMB157_BREAST</td>\n      <td>MDA-MB-157</td>\n    </tr>\n    <tr>\n      <th>2062</th>\n      <td>MDAMB175VII_BREAST</td>\n      <td>MDA-MB-175-VII</td>\n    </tr>\n    <tr>\n      <th>2070</th>\n      <td>MDAMB415_BREAST</td>\n      <td>MDA-MB-415</td>\n    </tr>\n    <tr>\n      <th>2078</th>\n      <td>MDAMB435S_SKIN</td>\n      <td>MDA-MB-435S</td>\n    </tr>\n    <tr>\n      <th>2086</th>\n      <td>MDAMB436_BREAST</td>\n      <td>MDA-MB-436</td>\n    </tr>\n    <tr>\n      <th>2094</th>\n      <td>MDAMB453_BREAST</td>\n      <td>MDA-MB-453</td>\n    </tr>\n    <tr>\n      <th>2102</th>\n      <td>MDAMB468_BREAST</td>\n      <td>MDA-MB-468</td>\n    </tr>\n  </tbody>\n</table>\n</div>"
     },
     "execution_count": 32,
     "metadata": {},
     "output_type": "execute_result"
    }
   ],
   "source": [
    "raw_df[raw_df[\"Primary Cell Line Name\"].str.startswith(\"MDA-MB\")][['CCLE Cell Line Name', 'Primary Cell Line Name']].drop_duplicates()"
   ]
  },
  {
   "cell_type": "code",
   "execution_count": 33,
   "id": "b1b131b9-c991-4726-9c14-d58ce7024484",
   "metadata": {
    "ExecuteTime": {
     "end_time": "2025-02-04T12:34:55.061368Z",
     "start_time": "2025-02-04T12:34:54.984938Z"
    }
   },
   "outputs": [
    {
     "data": {
      "text/plain": "array(['Identical lines: MB 157 and MDA-MB-157 share high SNP identity'],\n      dtype=object)"
     },
     "execution_count": 33,
     "metadata": {},
     "output_type": "execute_result"
    }
   ],
   "source": [
    "cellline_df[cellline_df[\"Cell line primary name\"].str.startswith(\"MDA-MB-157\")].Notes.values"
   ]
  },
  {
   "cell_type": "markdown",
   "id": "cbd9052a-c29a-4494-a270-f0ab14a7cac4",
   "metadata": {},
   "source": [
    "To resolve the problem with the duplicate entry, the cell line MB  157 will receive a  '_CCLE' tag in its CVCL identifier."
   ]
  },
  {
   "cell_type": "code",
   "execution_count": 34,
   "id": "88f4b041-475f-4d50-b0bf-4416b7991a20",
   "metadata": {
    "ExecuteTime": {
     "end_time": "2025-02-04T12:34:55.061426Z",
     "start_time": "2025-02-04T12:34:54.990449Z"
    }
   },
   "outputs": [],
   "source": [
    "manual_checks[\"MB 157\"] = \"CVCL_0618_CCLE\"\n",
    "manual_checks[\"MDA-MB-157\"] = \"CVCL_0618\""
   ]
  },
  {
   "cell_type": "code",
   "execution_count": 35,
   "id": "eb6f1300-f672-4e06-95b4-1503759180d7",
   "metadata": {
    "ExecuteTime": {
     "end_time": "2025-02-04T12:34:55.061501Z",
     "start_time": "2025-02-04T12:34:54.993601Z"
    }
   },
   "outputs": [],
   "source": [
    "rev_mapping = {}\n",
    "for key, val in (mappings | manual_checks).items():\n",
    "    if val not in rev_mapping:\n",
    "        rev_mapping[val] = []\n",
    "    rev_mapping[val].append(key)"
   ]
  },
  {
   "cell_type": "code",
   "execution_count": 36,
   "id": "fa19dc7c-9200-4589-8cef-49d0741b254d",
   "metadata": {
    "ExecuteTime": {
     "end_time": "2025-02-04T12:34:55.061622Z",
     "start_time": "2025-02-04T12:34:54.996863Z"
    }
   },
   "outputs": [
    {
     "data": {
      "text/plain": "False"
     },
     "execution_count": 36,
     "metadata": {},
     "output_type": "execute_result"
    }
   ],
   "source": [
    "any([len(val) != 1 for val in rev_mapping.values()])"
   ]
  },
  {
   "cell_type": "code",
   "execution_count": 37,
   "id": "55774f22-44ee-46db-94c5-744ed06f7dc8",
   "metadata": {
    "ExecuteTime": {
     "end_time": "2025-02-04T12:34:55.061722Z",
     "start_time": "2025-02-04T12:34:55.000444Z"
    }
   },
   "outputs": [
    {
     "data": {
      "text/plain": "504"
     },
     "execution_count": 37,
     "metadata": {},
     "output_type": "execute_result"
    }
   ],
   "source": [
    "len(rev_mapping)"
   ]
  },
  {
   "cell_type": "code",
   "execution_count": 38,
   "id": "2f16a7bb-9754-4d05-82c5-917efae07048",
   "metadata": {
    "ExecuteTime": {
     "end_time": "2025-02-04T12:34:55.061774Z",
     "start_time": "2025-02-04T12:34:55.003960Z"
    }
   },
   "outputs": [],
   "source": [
    "mappings |= manual_checks"
   ]
  },
  {
   "cell_type": "code",
   "execution_count": 39,
   "id": "f395f00d-05f9-4935-8716-0d5d0fb10af5",
   "metadata": {
    "ExecuteTime": {
     "end_time": "2025-02-04T12:34:55.513486Z",
     "start_time": "2025-02-04T12:34:55.475625Z"
    }
   },
   "outputs": [],
   "source": [
    "celline_mappings = pd.DataFrame.from_dict(mappings, orient='index')\n",
    "celline_mappings.columns = ['CVCL']\n",
    "btos_df = pd.DataFrame({'BTO': btos.values()}, index=btos.keys())"
   ]
  },
  {
   "cell_type": "markdown",
   "source": [
    "## Compare to Judith's mapping"
   ],
   "metadata": {
    "collapsed": false
   },
   "id": "92a60f094ee91c9b"
  },
  {
   "cell_type": "code",
   "execution_count": 40,
   "outputs": [
    {
     "name": "stdout",
     "output_type": "stream",
     "text": [
      "Creating cellosaurus dictionary ...\n",
      "Mapping cell line names to cellosaurus IDs ...\n",
      "no main match for MB 157, matched it to CVCL_0618 = MDA-MB-157, but the similarity was rather low:0.625\n",
      "no main match for U-87 MG, matched it to CVCL_0022 = U-87MG ATCC, but the similarity was rather low:0.6666666666666666\n",
      "Saving dataframe with cellosaurus IDs ...\n"
     ]
    },
    {
     "data": {
      "text/plain": "    cellosaurus_id        cell_line_name            CVCL  \\\n36       CVCL_1097  C32 [Human melanoma]       CVCL_ZA06   \n247      CVCL_0618            MDA-MB-157  CVCL_0618_CCLE   \n\n    cell_line_original_name  \n36                      C32  \n247                  MB 157  ",
      "text/html": "<div>\n<style scoped>\n    .dataframe tbody tr th:only-of-type {\n        vertical-align: middle;\n    }\n\n    .dataframe tbody tr th {\n        vertical-align: top;\n    }\n\n    .dataframe thead th {\n        text-align: right;\n    }\n</style>\n<table border=\"1\" class=\"dataframe\">\n  <thead>\n    <tr style=\"text-align: right;\">\n      <th></th>\n      <th>cellosaurus_id</th>\n      <th>cell_line_name</th>\n      <th>CVCL</th>\n      <th>cell_line_original_name</th>\n    </tr>\n  </thead>\n  <tbody>\n    <tr>\n      <th>36</th>\n      <td>CVCL_1097</td>\n      <td>C32 [Human melanoma]</td>\n      <td>CVCL_ZA06</td>\n      <td>C32</td>\n    </tr>\n    <tr>\n      <th>247</th>\n      <td>CVCL_0618</td>\n      <td>MDA-MB-157</td>\n      <td>CVCL_0618_CCLE</td>\n      <td>MB 157</td>\n    </tr>\n  </tbody>\n</table>\n</div>"
     },
     "execution_count": 40,
     "metadata": {},
     "output_type": "execute_result"
    }
   ],
   "source": [
    "from utils.convert_to_cello import create_cl_dict, map_to_cellosaurus\n",
    "celline_mappings = celline_mappings.reset_index()\n",
    "celline_mappings = celline_mappings.rename(columns={\"index\": \"cell_line_name\"})\n",
    "cello_mapping = pd.read_csv(\"../../mapping/cellosaurus_01_2024.csv\")\n",
    "# replace all NaN values with empty strings\n",
    "cello_mapping = cello_mapping.fillna(\"\")\n",
    "# create cellosaurus dictionary\n",
    "cellosaurus_ac_dict, cellosaurus_sy_dict, species_dict, cello_ac_to_id_dict = create_cl_dict(cello_mapping)\n",
    "\n",
    "mapping_df = celline_mappings.copy()\n",
    "mapping_df[\"cell_line_original_name\"] = mapping_df[\"cell_line_name\"]\n",
    "mapping_df[\"cell_line_name\"] = mapping_df[\"cell_line_name\"].replace({\n",
    "    \"C32\": \"C32 [Human melanoma]\",\n",
    "    \"C3A\": \"Hep-G2/C3A\",\n",
    "    \"HARA\": \"HARA [Human squamous cell lung carcinoma]\",\n",
    "    \"HH\": \"HH [Human lymphoma]\",\n",
    "    \"JM1\": \"JM-1\"\n",
    "})\n",
    "map_to_cellosaurus(mapping_df, cellosaurus_ac_dict, cellosaurus_sy_dict, species_dict, cello_ac_to_id_dict, output_path=\"CCLE_mapped.csv\")\n",
    "mapping_df = pd.read_csv(\"CCLE_mapped.csv\")\n",
    "# find out where CVCL is not equal to cellosaurus_id\n",
    "mapping_df.query(\"CVCL != cellosaurus_id\")"
   ],
   "metadata": {
    "collapsed": false,
    "ExecuteTime": {
     "end_time": "2025-02-04T12:35:03.799908Z",
     "start_time": "2025-02-04T12:34:59.380960Z"
    }
   },
   "id": "d77bf3397eb62102"
  },
  {
   "cell_type": "markdown",
   "source": [
    "## Continue BPO Mapping"
   ],
   "metadata": {
    "collapsed": false
   },
   "id": "184c17f67a32a689"
  },
  {
   "cell_type": "code",
   "execution_count": 41,
   "id": "b0d72a23-3628-423a-a1fc-3c9662b796b5",
   "metadata": {
    "ExecuteTime": {
     "end_time": "2025-02-04T12:35:07.014529Z",
     "start_time": "2025-02-04T12:35:06.967330Z"
    }
   },
   "outputs": [
    {
     "data": {
      "text/plain": "    cell_line_name       CVCL                         BTO\n451          SW480  CVCL_0546  [BTO_0000038, BTO_0006552]",
      "text/html": "<div>\n<style scoped>\n    .dataframe tbody tr th:only-of-type {\n        vertical-align: middle;\n    }\n\n    .dataframe tbody tr th {\n        vertical-align: top;\n    }\n\n    .dataframe thead th {\n        text-align: right;\n    }\n</style>\n<table border=\"1\" class=\"dataframe\">\n  <thead>\n    <tr style=\"text-align: right;\">\n      <th></th>\n      <th>cell_line_name</th>\n      <th>CVCL</th>\n      <th>BTO</th>\n    </tr>\n  </thead>\n  <tbody>\n    <tr>\n      <th>451</th>\n      <td>SW480</td>\n      <td>CVCL_0546</td>\n      <td>[BTO_0000038, BTO_0006552]</td>\n    </tr>\n  </tbody>\n</table>\n</div>"
     },
     "execution_count": 41,
     "metadata": {},
     "output_type": "execute_result"
    }
   ],
   "source": [
    "# filter relevant and check for more than one BTO mapping\n",
    "cvcl_to_bto = celline_mappings.merge(btos_df, left_on='CVCL', right_index=True, how='left')#[:220]\n",
    "cvcl_to_bto.query(\"BTO.str.len()>1\")"
   ]
  },
  {
   "cell_type": "code",
   "execution_count": 42,
   "id": "e785282d-9e40-4302-960f-b71a96e816ed",
   "metadata": {
    "ExecuteTime": {
     "end_time": "2025-02-04T12:35:07.550043Z",
     "start_time": "2025-02-04T12:35:07.486500Z"
    }
   },
   "outputs": [
    {
     "data": {
      "text/plain": "    cell_line_name       CVCL                         BTO\n451          SW480  CVCL_0546  [BTO_0000038, BTO_0006552]",
      "text/html": "<div>\n<style scoped>\n    .dataframe tbody tr th:only-of-type {\n        vertical-align: middle;\n    }\n\n    .dataframe tbody tr th {\n        vertical-align: top;\n    }\n\n    .dataframe thead th {\n        text-align: right;\n    }\n</style>\n<table border=\"1\" class=\"dataframe\">\n  <thead>\n    <tr style=\"text-align: right;\">\n      <th></th>\n      <th>cell_line_name</th>\n      <th>CVCL</th>\n      <th>BTO</th>\n    </tr>\n  </thead>\n  <tbody>\n    <tr>\n      <th>451</th>\n      <td>SW480</td>\n      <td>CVCL_0546</td>\n      <td>[BTO_0000038, BTO_0006552]</td>\n    </tr>\n  </tbody>\n</table>\n</div>"
     },
     "execution_count": 42,
     "metadata": {},
     "output_type": "execute_result"
    }
   ],
   "source": [
    "# choose BTO:0000038 since the other one refers to SWH80, which is a misspelling of SW-480, according to the entry CVCL_0546 in cellosaurus\n",
    "cvcl_to_bto.loc[\"SW480\", \"BTO\"] = ['BTO:0000038']\n",
    "cvcl_to_bto.query(\"BTO.str.len()>1\")"
   ]
  },
  {
   "cell_type": "code",
   "execution_count": 43,
   "id": "53e1c6d6-28c8-48b2-8e74-ecac5bfed99a",
   "metadata": {
    "ExecuteTime": {
     "end_time": "2025-02-04T12:35:09.443064Z",
     "start_time": "2025-02-04T12:35:08.490802Z"
    }
   },
   "outputs": [
    {
     "ename": "ValueError",
     "evalue": "Transform function failed",
     "output_type": "error",
     "traceback": [
      "\u001B[0;31m---------------------------------------------------------------------------\u001B[0m",
      "\u001B[0;31mValueError\u001B[0m                                Traceback (most recent call last)",
      "File \u001B[0;32m~/miniforge3/envs/preprocess_DRP/lib/python3.11/site-packages/pandas/core/apply.py:314\u001B[0m, in \u001B[0;36mApply.transform_str_or_callable\u001B[0;34m(self, func)\u001B[0m\n\u001B[1;32m    313\u001B[0m \u001B[38;5;28;01mtry\u001B[39;00m:\n\u001B[0;32m--> 314\u001B[0m     \u001B[38;5;28;01mreturn\u001B[39;00m \u001B[43mobj\u001B[49m\u001B[38;5;241;43m.\u001B[39;49m\u001B[43mapply\u001B[49m\u001B[43m(\u001B[49m\u001B[43mfunc\u001B[49m\u001B[43m,\u001B[49m\u001B[43m \u001B[49m\u001B[43margs\u001B[49m\u001B[38;5;241;43m=\u001B[39;49m\u001B[43margs\u001B[49m\u001B[43m,\u001B[49m\u001B[43m \u001B[49m\u001B[38;5;241;43m*\u001B[39;49m\u001B[38;5;241;43m*\u001B[39;49m\u001B[43mkwargs\u001B[49m\u001B[43m)\u001B[49m\n\u001B[1;32m    315\u001B[0m \u001B[38;5;28;01mexcept\u001B[39;00m \u001B[38;5;167;01mException\u001B[39;00m:\n",
      "File \u001B[0;32m~/miniforge3/envs/preprocess_DRP/lib/python3.11/site-packages/pandas/core/series.py:4924\u001B[0m, in \u001B[0;36mSeries.apply\u001B[0;34m(self, func, convert_dtype, args, by_row, **kwargs)\u001B[0m\n\u001B[1;32m   4798\u001B[0m \u001B[38;5;250m\u001B[39m\u001B[38;5;124;03m\"\"\"\u001B[39;00m\n\u001B[1;32m   4799\u001B[0m \u001B[38;5;124;03mInvoke function on values of Series.\u001B[39;00m\n\u001B[1;32m   4800\u001B[0m \n\u001B[0;32m   (...)\u001B[0m\n\u001B[1;32m   4915\u001B[0m \u001B[38;5;124;03mdtype: float64\u001B[39;00m\n\u001B[1;32m   4916\u001B[0m \u001B[38;5;124;03m\"\"\"\u001B[39;00m\n\u001B[1;32m   4917\u001B[0m \u001B[38;5;28;01mreturn\u001B[39;00m \u001B[43mSeriesApply\u001B[49m\u001B[43m(\u001B[49m\n\u001B[1;32m   4918\u001B[0m \u001B[43m    \u001B[49m\u001B[38;5;28;43mself\u001B[39;49m\u001B[43m,\u001B[49m\n\u001B[1;32m   4919\u001B[0m \u001B[43m    \u001B[49m\u001B[43mfunc\u001B[49m\u001B[43m,\u001B[49m\n\u001B[1;32m   4920\u001B[0m \u001B[43m    \u001B[49m\u001B[43mconvert_dtype\u001B[49m\u001B[38;5;241;43m=\u001B[39;49m\u001B[43mconvert_dtype\u001B[49m\u001B[43m,\u001B[49m\n\u001B[1;32m   4921\u001B[0m \u001B[43m    \u001B[49m\u001B[43mby_row\u001B[49m\u001B[38;5;241;43m=\u001B[39;49m\u001B[43mby_row\u001B[49m\u001B[43m,\u001B[49m\n\u001B[1;32m   4922\u001B[0m \u001B[43m    \u001B[49m\u001B[43margs\u001B[49m\u001B[38;5;241;43m=\u001B[39;49m\u001B[43margs\u001B[49m\u001B[43m,\u001B[49m\n\u001B[1;32m   4923\u001B[0m \u001B[43m    \u001B[49m\u001B[43mkwargs\u001B[49m\u001B[38;5;241;43m=\u001B[39;49m\u001B[43mkwargs\u001B[49m\u001B[43m,\u001B[49m\n\u001B[0;32m-> 4924\u001B[0m \u001B[43m\u001B[49m\u001B[43m)\u001B[49m\u001B[38;5;241;43m.\u001B[39;49m\u001B[43mapply\u001B[49m\u001B[43m(\u001B[49m\u001B[43m)\u001B[49m\n",
      "File \u001B[0;32m~/miniforge3/envs/preprocess_DRP/lib/python3.11/site-packages/pandas/core/apply.py:1427\u001B[0m, in \u001B[0;36mSeriesApply.apply\u001B[0;34m(self)\u001B[0m\n\u001B[1;32m   1426\u001B[0m \u001B[38;5;66;03m# self.func is Callable\u001B[39;00m\n\u001B[0;32m-> 1427\u001B[0m \u001B[38;5;28;01mreturn\u001B[39;00m \u001B[38;5;28;43mself\u001B[39;49m\u001B[38;5;241;43m.\u001B[39;49m\u001B[43mapply_standard\u001B[49m\u001B[43m(\u001B[49m\u001B[43m)\u001B[49m\n",
      "File \u001B[0;32m~/miniforge3/envs/preprocess_DRP/lib/python3.11/site-packages/pandas/core/apply.py:1507\u001B[0m, in \u001B[0;36mSeriesApply.apply_standard\u001B[0;34m(self)\u001B[0m\n\u001B[1;32m   1506\u001B[0m action \u001B[38;5;241m=\u001B[39m \u001B[38;5;124m\"\u001B[39m\u001B[38;5;124mignore\u001B[39m\u001B[38;5;124m\"\u001B[39m \u001B[38;5;28;01mif\u001B[39;00m \u001B[38;5;28misinstance\u001B[39m(obj\u001B[38;5;241m.\u001B[39mdtype, CategoricalDtype) \u001B[38;5;28;01melse\u001B[39;00m \u001B[38;5;28;01mNone\u001B[39;00m\n\u001B[0;32m-> 1507\u001B[0m mapped \u001B[38;5;241m=\u001B[39m \u001B[43mobj\u001B[49m\u001B[38;5;241;43m.\u001B[39;49m\u001B[43m_map_values\u001B[49m\u001B[43m(\u001B[49m\n\u001B[1;32m   1508\u001B[0m \u001B[43m    \u001B[49m\u001B[43mmapper\u001B[49m\u001B[38;5;241;43m=\u001B[39;49m\u001B[43mcurried\u001B[49m\u001B[43m,\u001B[49m\u001B[43m \u001B[49m\u001B[43mna_action\u001B[49m\u001B[38;5;241;43m=\u001B[39;49m\u001B[43maction\u001B[49m\u001B[43m,\u001B[49m\u001B[43m \u001B[49m\u001B[43mconvert\u001B[49m\u001B[38;5;241;43m=\u001B[39;49m\u001B[38;5;28;43mself\u001B[39;49m\u001B[38;5;241;43m.\u001B[39;49m\u001B[43mconvert_dtype\u001B[49m\n\u001B[1;32m   1509\u001B[0m \u001B[43m\u001B[49m\u001B[43m)\u001B[49m\n\u001B[1;32m   1511\u001B[0m \u001B[38;5;28;01mif\u001B[39;00m \u001B[38;5;28mlen\u001B[39m(mapped) \u001B[38;5;129;01mand\u001B[39;00m \u001B[38;5;28misinstance\u001B[39m(mapped[\u001B[38;5;241m0\u001B[39m], ABCSeries):\n\u001B[1;32m   1512\u001B[0m     \u001B[38;5;66;03m# GH#43986 Need to do list(mapped) in order to get treated as nested\u001B[39;00m\n\u001B[1;32m   1513\u001B[0m     \u001B[38;5;66;03m#  See also GH#25959 regarding EA support\u001B[39;00m\n",
      "File \u001B[0;32m~/miniforge3/envs/preprocess_DRP/lib/python3.11/site-packages/pandas/core/base.py:921\u001B[0m, in \u001B[0;36mIndexOpsMixin._map_values\u001B[0;34m(self, mapper, na_action, convert)\u001B[0m\n\u001B[1;32m    919\u001B[0m     \u001B[38;5;28;01mreturn\u001B[39;00m arr\u001B[38;5;241m.\u001B[39mmap(mapper, na_action\u001B[38;5;241m=\u001B[39mna_action)\n\u001B[0;32m--> 921\u001B[0m \u001B[38;5;28;01mreturn\u001B[39;00m \u001B[43malgorithms\u001B[49m\u001B[38;5;241;43m.\u001B[39;49m\u001B[43mmap_array\u001B[49m\u001B[43m(\u001B[49m\u001B[43marr\u001B[49m\u001B[43m,\u001B[49m\u001B[43m \u001B[49m\u001B[43mmapper\u001B[49m\u001B[43m,\u001B[49m\u001B[43m \u001B[49m\u001B[43mna_action\u001B[49m\u001B[38;5;241;43m=\u001B[39;49m\u001B[43mna_action\u001B[49m\u001B[43m,\u001B[49m\u001B[43m \u001B[49m\u001B[43mconvert\u001B[49m\u001B[38;5;241;43m=\u001B[39;49m\u001B[43mconvert\u001B[49m\u001B[43m)\u001B[49m\n",
      "File \u001B[0;32m~/miniforge3/envs/preprocess_DRP/lib/python3.11/site-packages/pandas/core/algorithms.py:1743\u001B[0m, in \u001B[0;36mmap_array\u001B[0;34m(arr, mapper, na_action, convert)\u001B[0m\n\u001B[1;32m   1742\u001B[0m \u001B[38;5;28;01mif\u001B[39;00m na_action \u001B[38;5;129;01mis\u001B[39;00m \u001B[38;5;28;01mNone\u001B[39;00m:\n\u001B[0;32m-> 1743\u001B[0m     \u001B[38;5;28;01mreturn\u001B[39;00m \u001B[43mlib\u001B[49m\u001B[38;5;241;43m.\u001B[39;49m\u001B[43mmap_infer\u001B[49m\u001B[43m(\u001B[49m\u001B[43mvalues\u001B[49m\u001B[43m,\u001B[49m\u001B[43m \u001B[49m\u001B[43mmapper\u001B[49m\u001B[43m,\u001B[49m\u001B[43m \u001B[49m\u001B[43mconvert\u001B[49m\u001B[38;5;241;43m=\u001B[39;49m\u001B[43mconvert\u001B[49m\u001B[43m)\u001B[49m\n\u001B[1;32m   1744\u001B[0m \u001B[38;5;28;01melse\u001B[39;00m:\n",
      "File \u001B[0;32mlib.pyx:2972\u001B[0m, in \u001B[0;36mpandas._libs.lib.map_infer\u001B[0;34m()\u001B[0m\n",
      "Cell \u001B[0;32mIn[43], line 1\u001B[0m, in \u001B[0;36m<lambda>\u001B[0;34m(x)\u001B[0m\n\u001B[0;32m----> 1\u001B[0m cvcl_to_bto[\u001B[38;5;124m'\u001B[39m\u001B[38;5;124mBTO\u001B[39m\u001B[38;5;124m'\u001B[39m] \u001B[38;5;241m=\u001B[39m cvcl_to_bto\u001B[38;5;241m.\u001B[39mBTO\u001B[38;5;241m.\u001B[39mtransform(\u001B[38;5;28;01mlambda\u001B[39;00m x: \u001B[38;5;124m'\u001B[39m\u001B[38;5;124m'\u001B[39m \u001B[38;5;28;01mif\u001B[39;00m pd\u001B[38;5;241m.\u001B[39misna(x) \u001B[38;5;28;01melse\u001B[39;00m x[\u001B[38;5;241m0\u001B[39m])\n\u001B[1;32m      2\u001B[0m cvcl_to_bto\n",
      "\u001B[0;31mValueError\u001B[0m: The truth value of an array with more than one element is ambiguous. Use a.any() or a.all()",
      "\nDuring handling of the above exception, another exception occurred:\n",
      "\u001B[0;31mValueError\u001B[0m                                Traceback (most recent call last)",
      "\u001B[0;32m~/miniforge3/envs/preprocess_DRP/lib/python3.11/site-packages/pandas/core/apply.py\u001B[0m in \u001B[0;36m?\u001B[0;34m(self)\u001B[0m\n\u001B[1;32m    248\u001B[0m             \u001B[0;32mraise\u001B[0m\u001B[0;34m\u001B[0m\u001B[0;34m\u001B[0m\u001B[0m\n\u001B[1;32m    249\u001B[0m         \u001B[0;32mexcept\u001B[0m \u001B[0mException\u001B[0m \u001B[0;32mas\u001B[0m \u001B[0merr\u001B[0m\u001B[0;34m:\u001B[0m\u001B[0;34m\u001B[0m\u001B[0;34m\u001B[0m\u001B[0m\n\u001B[0;32m--> 250\u001B[0;31m             \u001B[0;32mraise\u001B[0m \u001B[0mValueError\u001B[0m\u001B[0;34m(\u001B[0m\u001B[0;34m\"Transform function failed\"\u001B[0m\u001B[0;34m)\u001B[0m \u001B[0;32mfrom\u001B[0m \u001B[0merr\u001B[0m\u001B[0;34m\u001B[0m\u001B[0;34m\u001B[0m\u001B[0m\n\u001B[0m\u001B[1;32m    251\u001B[0m \u001B[0;34m\u001B[0m\u001B[0m\n",
      "\u001B[0;32m~/miniforge3/envs/preprocess_DRP/lib/python3.11/site-packages/pandas/core/apply.py\u001B[0m in \u001B[0;36m?\u001B[0;34m(self, func)\u001B[0m\n\u001B[1;32m    314\u001B[0m             \u001B[0;32mreturn\u001B[0m \u001B[0mobj\u001B[0m\u001B[0;34m.\u001B[0m\u001B[0mapply\u001B[0m\u001B[0;34m(\u001B[0m\u001B[0mfunc\u001B[0m\u001B[0;34m,\u001B[0m \u001B[0margs\u001B[0m\u001B[0;34m=\u001B[0m\u001B[0margs\u001B[0m\u001B[0;34m,\u001B[0m \u001B[0;34m**\u001B[0m\u001B[0mkwargs\u001B[0m\u001B[0;34m)\u001B[0m\u001B[0;34m\u001B[0m\u001B[0;34m\u001B[0m\u001B[0m\n\u001B[1;32m    315\u001B[0m         \u001B[0;32mexcept\u001B[0m \u001B[0mException\u001B[0m\u001B[0;34m:\u001B[0m\u001B[0;34m\u001B[0m\u001B[0;34m\u001B[0m\u001B[0m\n\u001B[0;32m--> 316\u001B[0;31m             \u001B[0;32mreturn\u001B[0m \u001B[0mfunc\u001B[0m\u001B[0;34m(\u001B[0m\u001B[0mobj\u001B[0m\u001B[0;34m,\u001B[0m \u001B[0;34m*\u001B[0m\u001B[0margs\u001B[0m\u001B[0;34m,\u001B[0m \u001B[0;34m**\u001B[0m\u001B[0mkwargs\u001B[0m\u001B[0;34m)\u001B[0m\u001B[0;34m\u001B[0m\u001B[0;34m\u001B[0m\u001B[0m\n\u001B[0m",
      "\u001B[0;32m/var/folders/3x/f8j9tddj7flfxt9zx1gkws1m0000gn/T/ipykernel_31076/2271882131.py\u001B[0m in \u001B[0;36m?\u001B[0;34m(x)\u001B[0m\n\u001B[0;32m----> 1\u001B[0;31m \u001B[0mcvcl_to_bto\u001B[0m\u001B[0;34m[\u001B[0m\u001B[0;34m'BTO'\u001B[0m\u001B[0;34m]\u001B[0m \u001B[0;34m=\u001B[0m \u001B[0mcvcl_to_bto\u001B[0m\u001B[0;34m.\u001B[0m\u001B[0mBTO\u001B[0m\u001B[0;34m.\u001B[0m\u001B[0mtransform\u001B[0m\u001B[0;34m(\u001B[0m\u001B[0;32mlambda\u001B[0m \u001B[0mx\u001B[0m\u001B[0;34m:\u001B[0m \u001B[0;34m''\u001B[0m \u001B[0;32mif\u001B[0m \u001B[0mpd\u001B[0m\u001B[0;34m.\u001B[0m\u001B[0misna\u001B[0m\u001B[0;34m(\u001B[0m\u001B[0mx\u001B[0m\u001B[0;34m)\u001B[0m \u001B[0;32melse\u001B[0m \u001B[0mx\u001B[0m\u001B[0;34m[\u001B[0m\u001B[0;36m0\u001B[0m\u001B[0;34m]\u001B[0m\u001B[0;34m)\u001B[0m\u001B[0;34m\u001B[0m\u001B[0;34m\u001B[0m\u001B[0m\n\u001B[0m",
      "\u001B[0;32m~/miniforge3/envs/preprocess_DRP/lib/python3.11/site-packages/pandas/core/generic.py\u001B[0m in \u001B[0;36m?\u001B[0;34m(self)\u001B[0m\n\u001B[1;32m   1575\u001B[0m     \u001B[0;34m@\u001B[0m\u001B[0mfinal\u001B[0m\u001B[0;34m\u001B[0m\u001B[0;34m\u001B[0m\u001B[0m\n\u001B[1;32m   1576\u001B[0m     \u001B[0;32mdef\u001B[0m \u001B[0m__nonzero__\u001B[0m\u001B[0;34m(\u001B[0m\u001B[0mself\u001B[0m\u001B[0;34m)\u001B[0m \u001B[0;34m->\u001B[0m \u001B[0mNoReturn\u001B[0m\u001B[0;34m:\u001B[0m\u001B[0;34m\u001B[0m\u001B[0;34m\u001B[0m\u001B[0m\n\u001B[0;32m-> 1577\u001B[0;31m         raise ValueError(\n\u001B[0m\u001B[1;32m   1578\u001B[0m             \u001B[0;34mf\"The truth value of a {type(self).__name__} is ambiguous. \"\u001B[0m\u001B[0;34m\u001B[0m\u001B[0;34m\u001B[0m\u001B[0m\n",
      "\u001B[0;31mValueError\u001B[0m: The truth value of a Series is ambiguous. Use a.empty, a.bool(), a.item(), a.any() or a.all().",
      "\nThe above exception was the direct cause of the following exception:\n",
      "\u001B[0;31mValueError\u001B[0m                                Traceback (most recent call last)",
      "Cell \u001B[0;32mIn[43], line 1\u001B[0m\n\u001B[0;32m----> 1\u001B[0m cvcl_to_bto[\u001B[38;5;124m'\u001B[39m\u001B[38;5;124mBTO\u001B[39m\u001B[38;5;124m'\u001B[39m] \u001B[38;5;241m=\u001B[39m \u001B[43mcvcl_to_bto\u001B[49m\u001B[38;5;241;43m.\u001B[39;49m\u001B[43mBTO\u001B[49m\u001B[38;5;241;43m.\u001B[39;49m\u001B[43mtransform\u001B[49m\u001B[43m(\u001B[49m\u001B[38;5;28;43;01mlambda\u001B[39;49;00m\u001B[43m \u001B[49m\u001B[43mx\u001B[49m\u001B[43m:\u001B[49m\u001B[43m \u001B[49m\u001B[38;5;124;43m'\u001B[39;49m\u001B[38;5;124;43m'\u001B[39;49m\u001B[43m \u001B[49m\u001B[38;5;28;43;01mif\u001B[39;49;00m\u001B[43m \u001B[49m\u001B[43mpd\u001B[49m\u001B[38;5;241;43m.\u001B[39;49m\u001B[43misna\u001B[49m\u001B[43m(\u001B[49m\u001B[43mx\u001B[49m\u001B[43m)\u001B[49m\u001B[43m \u001B[49m\u001B[38;5;28;43;01melse\u001B[39;49;00m\u001B[43m \u001B[49m\u001B[43mx\u001B[49m\u001B[43m[\u001B[49m\u001B[38;5;241;43m0\u001B[39;49m\u001B[43m]\u001B[49m\u001B[43m)\u001B[49m\n\u001B[1;32m      2\u001B[0m cvcl_to_bto\n",
      "File \u001B[0;32m~/miniforge3/envs/preprocess_DRP/lib/python3.11/site-packages/pandas/core/series.py:4786\u001B[0m, in \u001B[0;36mSeries.transform\u001B[0;34m(self, func, axis, *args, **kwargs)\u001B[0m\n\u001B[1;32m   4780\u001B[0m \u001B[38;5;28mself\u001B[39m\u001B[38;5;241m.\u001B[39m_get_axis_number(axis)\n\u001B[1;32m   4781\u001B[0m ser \u001B[38;5;241m=\u001B[39m (\n\u001B[1;32m   4782\u001B[0m     \u001B[38;5;28mself\u001B[39m\u001B[38;5;241m.\u001B[39mcopy(deep\u001B[38;5;241m=\u001B[39m\u001B[38;5;28;01mFalse\u001B[39;00m)\n\u001B[1;32m   4783\u001B[0m     \u001B[38;5;28;01mif\u001B[39;00m using_copy_on_write() \u001B[38;5;129;01mor\u001B[39;00m warn_copy_on_write()\n\u001B[1;32m   4784\u001B[0m     \u001B[38;5;28;01melse\u001B[39;00m \u001B[38;5;28mself\u001B[39m\n\u001B[1;32m   4785\u001B[0m )\n\u001B[0;32m-> 4786\u001B[0m result \u001B[38;5;241m=\u001B[39m \u001B[43mSeriesApply\u001B[49m\u001B[43m(\u001B[49m\u001B[43mser\u001B[49m\u001B[43m,\u001B[49m\u001B[43m \u001B[49m\u001B[43mfunc\u001B[49m\u001B[38;5;241;43m=\u001B[39;49m\u001B[43mfunc\u001B[49m\u001B[43m,\u001B[49m\u001B[43m \u001B[49m\u001B[43margs\u001B[49m\u001B[38;5;241;43m=\u001B[39;49m\u001B[43margs\u001B[49m\u001B[43m,\u001B[49m\u001B[43m \u001B[49m\u001B[43mkwargs\u001B[49m\u001B[38;5;241;43m=\u001B[39;49m\u001B[43mkwargs\u001B[49m\u001B[43m)\u001B[49m\u001B[38;5;241;43m.\u001B[39;49m\u001B[43mtransform\u001B[49m\u001B[43m(\u001B[49m\u001B[43m)\u001B[49m\n\u001B[1;32m   4787\u001B[0m \u001B[38;5;28;01mreturn\u001B[39;00m result\n",
      "File \u001B[0;32m~/miniforge3/envs/preprocess_DRP/lib/python3.11/site-packages/pandas/core/apply.py:250\u001B[0m, in \u001B[0;36mApply.transform\u001B[0;34m(self)\u001B[0m\n\u001B[1;32m    248\u001B[0m     \u001B[38;5;28;01mraise\u001B[39;00m\n\u001B[1;32m    249\u001B[0m \u001B[38;5;28;01mexcept\u001B[39;00m \u001B[38;5;167;01mException\u001B[39;00m \u001B[38;5;28;01mas\u001B[39;00m err:\n\u001B[0;32m--> 250\u001B[0m     \u001B[38;5;28;01mraise\u001B[39;00m \u001B[38;5;167;01mValueError\u001B[39;00m(\u001B[38;5;124m\"\u001B[39m\u001B[38;5;124mTransform function failed\u001B[39m\u001B[38;5;124m\"\u001B[39m) \u001B[38;5;28;01mfrom\u001B[39;00m\u001B[38;5;250m \u001B[39m\u001B[38;5;21;01merr\u001B[39;00m\n\u001B[1;32m    252\u001B[0m \u001B[38;5;66;03m# Functions that transform may return empty Series/DataFrame\u001B[39;00m\n\u001B[1;32m    253\u001B[0m \u001B[38;5;66;03m# when the dtype is not appropriate\u001B[39;00m\n\u001B[1;32m    254\u001B[0m \u001B[38;5;28;01mif\u001B[39;00m (\n\u001B[1;32m    255\u001B[0m     \u001B[38;5;28misinstance\u001B[39m(result, (ABCSeries, ABCDataFrame))\n\u001B[1;32m    256\u001B[0m     \u001B[38;5;129;01mand\u001B[39;00m result\u001B[38;5;241m.\u001B[39mempty\n\u001B[1;32m    257\u001B[0m     \u001B[38;5;129;01mand\u001B[39;00m \u001B[38;5;129;01mnot\u001B[39;00m obj\u001B[38;5;241m.\u001B[39mempty\n\u001B[1;32m    258\u001B[0m ):\n",
      "\u001B[0;31mValueError\u001B[0m: Transform function failed"
     ]
    }
   ],
   "source": [
    "cvcl_to_bto['BTO'] = cvcl_to_bto.BTO.transform(lambda x: '' if pd.isna(x) else x[0])\n",
    "cvcl_to_bto"
   ]
  },
  {
   "cell_type": "markdown",
   "id": "894a42d5-c79e-49ad-8495-6289ca7a9bfb",
   "metadata": {},
   "source": [
    "## Bringing viability, drug, and cell line mappings together"
   ]
  },
  {
   "cell_type": "code",
   "execution_count": 44,
   "id": "8f9ab543-6e7b-4f8b-b372-8f4ac1f1930c",
   "metadata": {
    "ExecuteTime": {
     "end_time": "2025-02-04T12:35:10.139722Z",
     "start_time": "2025-02-04T12:35:09.862236Z"
    }
   },
   "outputs": [
    {
     "data": {
      "text/plain": "         CCLE Cell Line Name Primary Cell Line Name    Compound Target  \\\n3661   SW480_LARGE_INTESTINE                  SW480      17-AAG  HSP90   \n3662   SW480_LARGE_INTESTINE                  SW480      17-AAG  HSP90   \n3663   SW480_LARGE_INTESTINE                  SW480      17-AAG  HSP90   \n3664   SW480_LARGE_INTESTINE                  SW480      17-AAG  HSP90   \n3665   SW480_LARGE_INTESTINE                  SW480      17-AAG  HSP90   \n...                      ...                    ...         ...    ...   \n92902  SW480_LARGE_INTESTINE                  SW480  Vandetanib   EGFR   \n92903  SW480_LARGE_INTESTINE                  SW480  Vandetanib   EGFR   \n92904  SW480_LARGE_INTESTINE                  SW480  Vandetanib   EGFR   \n92905  SW480_LARGE_INTESTINE                  SW480  Vandetanib   EGFR   \n92906  SW480_LARGE_INTESTINE                  SW480  Vandetanib   EGFR   \n\n       Doses (uM)  Activity Data (median)  Activity SD  Num Data   FitType  \\\n3661       0.0025                   0.850         5.63         8   Sigmoid   \n3662       0.0080                   0.979         2.65         8   Sigmoid   \n3663       0.0250                   0.986         3.86         8   Sigmoid   \n3664       0.0800                   0.710        13.30         8   Sigmoid   \n3665       0.2500                   0.340         2.59         8   Sigmoid   \n...           ...                     ...          ...       ...       ...   \n92902      0.0800                   0.951         4.35         8  Constant   \n92903      0.2500                   0.870         4.92         8  Constant   \n92904      0.8000                   0.900         2.36         8  Constant   \n92905      2.5300                   0.830         2.64         8  Constant   \n92906      8.0000                   0.820         9.17         8  Constant   \n\n       EC50 (µM)  IC50 (µM)     Amax  ActArea      CID cell_line_name CVCL  \\\n3661    0.087803   0.106521  0.32642   2.2298  6505803            NaN  NaN   \n3662    0.087803   0.106521  0.32642   2.2298  6505803            NaN  NaN   \n3663    0.087803   0.106521  0.32642   2.2298  6505803            NaN  NaN   \n3664    0.087803   0.106521  0.32642   2.2298  6505803            NaN  NaN   \n3665    0.087803   0.106521  0.32642   2.2298  6505803            NaN  NaN   \n...          ...        ...      ...      ...      ...            ...  ...   \n92902        NaN   8.000000  0.87922   0.5891  3081361            NaN  NaN   \n92903        NaN   8.000000  0.87922   0.5891  3081361            NaN  NaN   \n92904        NaN   8.000000  0.87922   0.5891  3081361            NaN  NaN   \n92905        NaN   8.000000  0.87922   0.5891  3081361            NaN  NaN   \n92906        NaN   8.000000  0.87922   0.5891  3081361            NaN  NaN   \n\n                 BTO  \n3661   [BTO:0000038]  \n3662   [BTO:0000038]  \n3663   [BTO:0000038]  \n3664   [BTO:0000038]  \n3665   [BTO:0000038]  \n...              ...  \n92902  [BTO:0000038]  \n92903  [BTO:0000038]  \n92904  [BTO:0000038]  \n92905  [BTO:0000038]  \n92906  [BTO:0000038]  \n\n[192 rows x 17 columns]",
      "text/html": "<div>\n<style scoped>\n    .dataframe tbody tr th:only-of-type {\n        vertical-align: middle;\n    }\n\n    .dataframe tbody tr th {\n        vertical-align: top;\n    }\n\n    .dataframe thead th {\n        text-align: right;\n    }\n</style>\n<table border=\"1\" class=\"dataframe\">\n  <thead>\n    <tr style=\"text-align: right;\">\n      <th></th>\n      <th>CCLE Cell Line Name</th>\n      <th>Primary Cell Line Name</th>\n      <th>Compound</th>\n      <th>Target</th>\n      <th>Doses (uM)</th>\n      <th>Activity Data (median)</th>\n      <th>Activity SD</th>\n      <th>Num Data</th>\n      <th>FitType</th>\n      <th>EC50 (µM)</th>\n      <th>IC50 (µM)</th>\n      <th>Amax</th>\n      <th>ActArea</th>\n      <th>CID</th>\n      <th>cell_line_name</th>\n      <th>CVCL</th>\n      <th>BTO</th>\n    </tr>\n  </thead>\n  <tbody>\n    <tr>\n      <th>3661</th>\n      <td>SW480_LARGE_INTESTINE</td>\n      <td>SW480</td>\n      <td>17-AAG</td>\n      <td>HSP90</td>\n      <td>0.0025</td>\n      <td>0.850</td>\n      <td>5.63</td>\n      <td>8</td>\n      <td>Sigmoid</td>\n      <td>0.087803</td>\n      <td>0.106521</td>\n      <td>0.32642</td>\n      <td>2.2298</td>\n      <td>6505803</td>\n      <td>NaN</td>\n      <td>NaN</td>\n      <td>[BTO:0000038]</td>\n    </tr>\n    <tr>\n      <th>3662</th>\n      <td>SW480_LARGE_INTESTINE</td>\n      <td>SW480</td>\n      <td>17-AAG</td>\n      <td>HSP90</td>\n      <td>0.0080</td>\n      <td>0.979</td>\n      <td>2.65</td>\n      <td>8</td>\n      <td>Sigmoid</td>\n      <td>0.087803</td>\n      <td>0.106521</td>\n      <td>0.32642</td>\n      <td>2.2298</td>\n      <td>6505803</td>\n      <td>NaN</td>\n      <td>NaN</td>\n      <td>[BTO:0000038]</td>\n    </tr>\n    <tr>\n      <th>3663</th>\n      <td>SW480_LARGE_INTESTINE</td>\n      <td>SW480</td>\n      <td>17-AAG</td>\n      <td>HSP90</td>\n      <td>0.0250</td>\n      <td>0.986</td>\n      <td>3.86</td>\n      <td>8</td>\n      <td>Sigmoid</td>\n      <td>0.087803</td>\n      <td>0.106521</td>\n      <td>0.32642</td>\n      <td>2.2298</td>\n      <td>6505803</td>\n      <td>NaN</td>\n      <td>NaN</td>\n      <td>[BTO:0000038]</td>\n    </tr>\n    <tr>\n      <th>3664</th>\n      <td>SW480_LARGE_INTESTINE</td>\n      <td>SW480</td>\n      <td>17-AAG</td>\n      <td>HSP90</td>\n      <td>0.0800</td>\n      <td>0.710</td>\n      <td>13.30</td>\n      <td>8</td>\n      <td>Sigmoid</td>\n      <td>0.087803</td>\n      <td>0.106521</td>\n      <td>0.32642</td>\n      <td>2.2298</td>\n      <td>6505803</td>\n      <td>NaN</td>\n      <td>NaN</td>\n      <td>[BTO:0000038]</td>\n    </tr>\n    <tr>\n      <th>3665</th>\n      <td>SW480_LARGE_INTESTINE</td>\n      <td>SW480</td>\n      <td>17-AAG</td>\n      <td>HSP90</td>\n      <td>0.2500</td>\n      <td>0.340</td>\n      <td>2.59</td>\n      <td>8</td>\n      <td>Sigmoid</td>\n      <td>0.087803</td>\n      <td>0.106521</td>\n      <td>0.32642</td>\n      <td>2.2298</td>\n      <td>6505803</td>\n      <td>NaN</td>\n      <td>NaN</td>\n      <td>[BTO:0000038]</td>\n    </tr>\n    <tr>\n      <th>...</th>\n      <td>...</td>\n      <td>...</td>\n      <td>...</td>\n      <td>...</td>\n      <td>...</td>\n      <td>...</td>\n      <td>...</td>\n      <td>...</td>\n      <td>...</td>\n      <td>...</td>\n      <td>...</td>\n      <td>...</td>\n      <td>...</td>\n      <td>...</td>\n      <td>...</td>\n      <td>...</td>\n      <td>...</td>\n    </tr>\n    <tr>\n      <th>92902</th>\n      <td>SW480_LARGE_INTESTINE</td>\n      <td>SW480</td>\n      <td>Vandetanib</td>\n      <td>EGFR</td>\n      <td>0.0800</td>\n      <td>0.951</td>\n      <td>4.35</td>\n      <td>8</td>\n      <td>Constant</td>\n      <td>NaN</td>\n      <td>8.000000</td>\n      <td>0.87922</td>\n      <td>0.5891</td>\n      <td>3081361</td>\n      <td>NaN</td>\n      <td>NaN</td>\n      <td>[BTO:0000038]</td>\n    </tr>\n    <tr>\n      <th>92903</th>\n      <td>SW480_LARGE_INTESTINE</td>\n      <td>SW480</td>\n      <td>Vandetanib</td>\n      <td>EGFR</td>\n      <td>0.2500</td>\n      <td>0.870</td>\n      <td>4.92</td>\n      <td>8</td>\n      <td>Constant</td>\n      <td>NaN</td>\n      <td>8.000000</td>\n      <td>0.87922</td>\n      <td>0.5891</td>\n      <td>3081361</td>\n      <td>NaN</td>\n      <td>NaN</td>\n      <td>[BTO:0000038]</td>\n    </tr>\n    <tr>\n      <th>92904</th>\n      <td>SW480_LARGE_INTESTINE</td>\n      <td>SW480</td>\n      <td>Vandetanib</td>\n      <td>EGFR</td>\n      <td>0.8000</td>\n      <td>0.900</td>\n      <td>2.36</td>\n      <td>8</td>\n      <td>Constant</td>\n      <td>NaN</td>\n      <td>8.000000</td>\n      <td>0.87922</td>\n      <td>0.5891</td>\n      <td>3081361</td>\n      <td>NaN</td>\n      <td>NaN</td>\n      <td>[BTO:0000038]</td>\n    </tr>\n    <tr>\n      <th>92905</th>\n      <td>SW480_LARGE_INTESTINE</td>\n      <td>SW480</td>\n      <td>Vandetanib</td>\n      <td>EGFR</td>\n      <td>2.5300</td>\n      <td>0.830</td>\n      <td>2.64</td>\n      <td>8</td>\n      <td>Constant</td>\n      <td>NaN</td>\n      <td>8.000000</td>\n      <td>0.87922</td>\n      <td>0.5891</td>\n      <td>3081361</td>\n      <td>NaN</td>\n      <td>NaN</td>\n      <td>[BTO:0000038]</td>\n    </tr>\n    <tr>\n      <th>92906</th>\n      <td>SW480_LARGE_INTESTINE</td>\n      <td>SW480</td>\n      <td>Vandetanib</td>\n      <td>EGFR</td>\n      <td>8.0000</td>\n      <td>0.820</td>\n      <td>9.17</td>\n      <td>8</td>\n      <td>Constant</td>\n      <td>NaN</td>\n      <td>8.000000</td>\n      <td>0.87922</td>\n      <td>0.5891</td>\n      <td>3081361</td>\n      <td>NaN</td>\n      <td>NaN</td>\n      <td>[BTO:0000038]</td>\n    </tr>\n  </tbody>\n</table>\n<p>192 rows × 17 columns</p>\n</div>"
     },
     "execution_count": 44,
     "metadata": {},
     "output_type": "execute_result"
    }
   ],
   "source": [
    "full_df = raw_df.merge(cids, left_on='Compound', right_index=True).merge(cvcl_to_bto, left_on='Primary Cell Line Name', right_index=True)\n",
    "full_df"
   ]
  },
  {
   "cell_type": "code",
   "execution_count": 45,
   "id": "b06d57f7-26d2-475b-9a86-66662ec5cd7e",
   "metadata": {
    "ExecuteTime": {
     "end_time": "2025-02-04T12:35:11.660163Z",
     "start_time": "2025-02-04T12:35:11.639004Z"
    }
   },
   "outputs": [
    {
     "data": {
      "text/plain": "24"
     },
     "execution_count": 45,
     "metadata": {},
     "output_type": "execute_result"
    }
   ],
   "source": [
    "len(full_df.Compound.unique())"
   ]
  },
  {
   "cell_type": "code",
   "execution_count": 46,
   "id": "5cca8742-2931-4a37-be18-3ee0ed3fe0f4",
   "metadata": {
    "ExecuteTime": {
     "end_time": "2025-02-04T12:35:12.208174Z",
     "start_time": "2025-02-04T12:35:12.185637Z"
    }
   },
   "outputs": [
    {
     "data": {
      "text/plain": "24"
     },
     "execution_count": 46,
     "metadata": {},
     "output_type": "execute_result"
    }
   ],
   "source": [
    "len(full_df.CID.unique())"
   ]
  },
  {
   "cell_type": "markdown",
   "id": "40fb0b82-839d-4f88-8938-ca7f4c776460",
   "metadata": {},
   "source": [
    "ensure there are no duplicates remaining that cause problems when pivoting the dataframe for curvecurator input creation"
   ]
  },
  {
   "cell_type": "code",
   "execution_count": 47,
   "id": "3b277cf2-3760-42de-b8a3-922da6effef4",
   "metadata": {
    "ExecuteTime": {
     "end_time": "2025-02-04T12:35:13.603448Z",
     "start_time": "2025-02-04T12:35:13.490597Z"
    }
   },
   "outputs": [
    {
     "data": {
      "text/plain": "Empty DataFrame\nColumns: [Compound, Primary Cell Line Name, Doses (uM)]\nIndex: []",
      "text/html": "<div>\n<style scoped>\n    .dataframe tbody tr th:only-of-type {\n        vertical-align: middle;\n    }\n\n    .dataframe tbody tr th {\n        vertical-align: top;\n    }\n\n    .dataframe thead th {\n        text-align: right;\n    }\n</style>\n<table border=\"1\" class=\"dataframe\">\n  <thead>\n    <tr style=\"text-align: right;\">\n      <th></th>\n      <th>Compound</th>\n      <th>Primary Cell Line Name</th>\n      <th>Doses (uM)</th>\n    </tr>\n  </thead>\n  <tbody>\n  </tbody>\n</table>\n</div>"
     },
     "execution_count": 47,
     "metadata": {},
     "output_type": "execute_result"
    }
   ],
   "source": [
    "full_df[full_df[[\"Compound\", \"Primary Cell Line Name\", \"Doses (uM)\"]].duplicated(keep=False)][[\"Compound\", \"Primary Cell Line Name\", \"Doses (uM)\"]]"
   ]
  },
  {
   "cell_type": "markdown",
   "id": "374bd6e2-4868-4265-9dbc-92664a853958",
   "metadata": {},
   "source": [
    "rename columns for use in CurveCurator and save."
   ]
  },
  {
   "cell_type": "code",
   "execution_count": 48,
   "id": "feeea273-674d-4a25-8658-0b0b32628c2c",
   "metadata": {
    "ExecuteTime": {
     "end_time": "2025-02-04T12:35:16.229694Z",
     "start_time": "2025-02-04T12:35:16.197884Z"
    }
   },
   "outputs": [],
   "source": [
    "full_df.rename(columns={\"Doses (uM)\": \"dose\", \"Activity Data (median)\": \"response\", \"CVCL\": \"sample\", \"CID\": \"drug\"}, inplace=True)\n",
    "full_df.to_csv(\"viabilities_processed.csv\", index=None)"
   ]
  },
  {
   "cell_type": "code",
   "execution_count": 283,
   "id": "0538313c-64f9-403b-b265-ff39b176527a",
   "metadata": {},
   "outputs": [],
   "source": [
    "preprocess(input_file=\"viabilities_processed.csv\", output_dir='curvecurator', dataset_name=\"CCLE\", cores=100)"
   ]
  },
  {
   "cell_type": "markdown",
   "id": "8bc0da8f-248c-4726-8e52-94d0adbb534d",
   "metadata": {},
   "source": [
    "# Prepare for DrEvalPy"
   ]
  },
  {
   "cell_type": "markdown",
   "id": "18bb4571-16f8-47dc-942a-e3a4bf6f8024",
   "metadata": {},
   "source": [
    "## Run CurveCurator"
   ]
  },
  {
   "cell_type": "code",
   "execution_count": 2,
   "id": "92bd92c1-cfef-4694-941b-39d767357d47",
   "metadata": {},
   "outputs": [],
   "source": [
    "_exec_curvecurator(Path(\"curvecurator\"))"
   ]
  },
  {
   "cell_type": "code",
   "execution_count": 3,
   "id": "d143956c-c893-48da-9926-c4c3e45802e6",
   "metadata": {},
   "outputs": [],
   "source": [
    "postprocess(\"curvecurator\", dataset_name=\"CCLE\")"
   ]
  },
  {
   "cell_type": "markdown",
   "id": "785b77b9-eef8-42d6-95d1-f3624a43cb1f",
   "metadata": {},
   "source": [
    "## Combine curvecurator output with original measures from publication"
   ]
  },
  {
   "cell_type": "code",
   "execution_count": 70,
   "id": "f3ed03f9-5b7e-4c79-9187-57ed63c45c3f",
   "metadata": {},
   "outputs": [
    {
     "data": {
      "text/html": [
       "<div>\n",
       "<style scoped>\n",
       "    .dataframe tbody tr th:only-of-type {\n",
       "        vertical-align: middle;\n",
       "    }\n",
       "\n",
       "    .dataframe tbody tr th {\n",
       "        vertical-align: top;\n",
       "    }\n",
       "\n",
       "    .dataframe thead th {\n",
       "        text-align: right;\n",
       "    }\n",
       "</style>\n",
       "<table border=\"1\" class=\"dataframe\">\n",
       "  <thead>\n",
       "    <tr style=\"text-align: right;\">\n",
       "      <th></th>\n",
       "      <th>Name</th>\n",
       "      <th>SignalQuality</th>\n",
       "      <th>pEC50_curvecurator</th>\n",
       "      <th>Slope</th>\n",
       "      <th>Front</th>\n",
       "      <th>Back</th>\n",
       "      <th>FoldChange</th>\n",
       "      <th>AUC_curvecurator</th>\n",
       "      <th>RMSE</th>\n",
       "      <th>R2</th>\n",
       "      <th>...</th>\n",
       "      <th>RelevanceScore</th>\n",
       "      <th>Regulation</th>\n",
       "      <th>cell_line_id</th>\n",
       "      <th>drug_id</th>\n",
       "      <th>EC50_curvecurator</th>\n",
       "      <th>IC50_curvecurator</th>\n",
       "      <th>Primary Cell Line Name</th>\n",
       "      <th>Compound</th>\n",
       "      <th>sample</th>\n",
       "      <th>drug</th>\n",
       "    </tr>\n",
       "  </thead>\n",
       "  <tbody>\n",
       "    <tr>\n",
       "      <th>0</th>\n",
       "      <td>CVCL_0031|11656518</td>\n",
       "      <td>0.0</td>\n",
       "      <td>6.380385</td>\n",
       "      <td>3.812538</td>\n",
       "      <td>1.085608</td>\n",
       "      <td>0.767838</td>\n",
       "      <td>-0.380512</td>\n",
       "      <td>1.002747</td>\n",
       "      <td>0.079078</td>\n",
       "      <td>0.730258</td>\n",
       "      <td>...</td>\n",
       "      <td>0.315271</td>\n",
       "      <td>NaN</td>\n",
       "      <td>CVCL_0031</td>\n",
       "      <td>11656518</td>\n",
       "      <td>4.164999e-07</td>\n",
       "      <td>NaN</td>\n",
       "      <td>MCF7</td>\n",
       "      <td>RAF265</td>\n",
       "      <td>CVCL_0031</td>\n",
       "      <td>11656518</td>\n",
       "    </tr>\n",
       "    <tr>\n",
       "      <th>1</th>\n",
       "      <td>CVCL_0069|24180719</td>\n",
       "      <td>0.0</td>\n",
       "      <td>3.596879</td>\n",
       "      <td>0.682323</td>\n",
       "      <td>0.944934</td>\n",
       "      <td>6.483646</td>\n",
       "      <td>0.231717</td>\n",
       "      <td>0.994082</td>\n",
       "      <td>0.083130</td>\n",
       "      <td>0.445913</td>\n",
       "      <td>...</td>\n",
       "      <td>0.043004</td>\n",
       "      <td>NaN</td>\n",
       "      <td>CVCL_0069</td>\n",
       "      <td>24180719</td>\n",
       "      <td>2.530000e-04</td>\n",
       "      <td>NaN</td>\n",
       "      <td>SK-MEL-2</td>\n",
       "      <td>PLX4720</td>\n",
       "      <td>CVCL_0069</td>\n",
       "      <td>24180719</td>\n",
       "    </tr>\n",
       "    <tr>\n",
       "      <th>2</th>\n",
       "      <td>CVCL_0007|10127622</td>\n",
       "      <td>0.0</td>\n",
       "      <td>5.381694</td>\n",
       "      <td>1.694135</td>\n",
       "      <td>0.922372</td>\n",
       "      <td>0.613620</td>\n",
       "      <td>-0.535126</td>\n",
       "      <td>0.890860</td>\n",
       "      <td>0.036605</td>\n",
       "      <td>0.804497</td>\n",
       "      <td>...</td>\n",
       "      <td>0.603458</td>\n",
       "      <td>not</td>\n",
       "      <td>CVCL_0007</td>\n",
       "      <td>10127622</td>\n",
       "      <td>4.152467e-06</td>\n",
       "      <td>NaN</td>\n",
       "      <td>U-937</td>\n",
       "      <td>AZD6244</td>\n",
       "      <td>CVCL_0007</td>\n",
       "      <td>10127622</td>\n",
       "    </tr>\n",
       "    <tr>\n",
       "      <th>3</th>\n",
       "      <td>CVCL_0007|10302451</td>\n",
       "      <td>0.0</td>\n",
       "      <td>8.347859</td>\n",
       "      <td>10.000000</td>\n",
       "      <td>0.945071</td>\n",
       "      <td>1.006109</td>\n",
       "      <td>0.008787</td>\n",
       "      <td>1.001681</td>\n",
       "      <td>0.063080</td>\n",
       "      <td>0.138848</td>\n",
       "      <td>...</td>\n",
       "      <td>-0.000000</td>\n",
       "      <td>not</td>\n",
       "      <td>CVCL_0007</td>\n",
       "      <td>10302451</td>\n",
       "      <td>4.488910e-09</td>\n",
       "      <td>NaN</td>\n",
       "      <td>U-937</td>\n",
       "      <td>AZD0530</td>\n",
       "      <td>CVCL_0007</td>\n",
       "      <td>10302451</td>\n",
       "    </tr>\n",
       "    <tr>\n",
       "      <th>4</th>\n",
       "      <td>CVCL_0007|10461815</td>\n",
       "      <td>0.0</td>\n",
       "      <td>5.117873</td>\n",
       "      <td>2.075958</td>\n",
       "      <td>1.015333</td>\n",
       "      <td>0.000100</td>\n",
       "      <td>-1.051984</td>\n",
       "      <td>0.970221</td>\n",
       "      <td>0.065419</td>\n",
       "      <td>0.865978</td>\n",
       "      <td>...</td>\n",
       "      <td>1.260381</td>\n",
       "      <td>NaN</td>\n",
       "      <td>CVCL_0007</td>\n",
       "      <td>10461815</td>\n",
       "      <td>7.623013e-06</td>\n",
       "      <td>7.735483e-06</td>\n",
       "      <td>U-937</td>\n",
       "      <td>PHA-665752</td>\n",
       "      <td>CVCL_0007</td>\n",
       "      <td>10461815</td>\n",
       "    </tr>\n",
       "    <tr>\n",
       "      <th>...</th>\n",
       "      <td>...</td>\n",
       "      <td>...</td>\n",
       "      <td>...</td>\n",
       "      <td>...</td>\n",
       "      <td>...</td>\n",
       "      <td>...</td>\n",
       "      <td>...</td>\n",
       "      <td>...</td>\n",
       "      <td>...</td>\n",
       "      <td>...</td>\n",
       "      <td>...</td>\n",
       "      <td>...</td>\n",
       "      <td>...</td>\n",
       "      <td>...</td>\n",
       "      <td>...</td>\n",
       "      <td>...</td>\n",
       "      <td>...</td>\n",
       "      <td>...</td>\n",
       "      <td>...</td>\n",
       "      <td>...</td>\n",
       "      <td>...</td>\n",
       "    </tr>\n",
       "    <tr>\n",
       "      <th>11665</th>\n",
       "      <td>CVCL_1347|24180719</td>\n",
       "      <td>0.0</td>\n",
       "      <td>5.169925</td>\n",
       "      <td>1.141174</td>\n",
       "      <td>0.981017</td>\n",
       "      <td>0.000100</td>\n",
       "      <td>-1.172495</td>\n",
       "      <td>0.862998</td>\n",
       "      <td>0.034680</td>\n",
       "      <td>0.966734</td>\n",
       "      <td>...</td>\n",
       "      <td>1.623433</td>\n",
       "      <td>down</td>\n",
       "      <td>CVCL_1347</td>\n",
       "      <td>24180719</td>\n",
       "      <td>6.762005e-06</td>\n",
       "      <td>6.537647e-06</td>\n",
       "      <td>KYSE-140</td>\n",
       "      <td>PLX4720</td>\n",
       "      <td>CVCL_1347</td>\n",
       "      <td>24180719</td>\n",
       "    </tr>\n",
       "    <tr>\n",
       "      <th>11666</th>\n",
       "      <td>CVCL_1347|3081361</td>\n",
       "      <td>0.0</td>\n",
       "      <td>5.951310</td>\n",
       "      <td>1.963708</td>\n",
       "      <td>1.025005</td>\n",
       "      <td>0.187985</td>\n",
       "      <td>-2.284892</td>\n",
       "      <td>0.738040</td>\n",
       "      <td>0.031100</td>\n",
       "      <td>0.991081</td>\n",
       "      <td>...</td>\n",
       "      <td>2.549042</td>\n",
       "      <td>down</td>\n",
       "      <td>CVCL_1347</td>\n",
       "      <td>3081361</td>\n",
       "      <td>1.118638e-06</td>\n",
       "      <td>1.458050e-06</td>\n",
       "      <td>KYSE-140</td>\n",
       "      <td>Vandetanib</td>\n",
       "      <td>CVCL_1347</td>\n",
       "      <td>3081361</td>\n",
       "    </tr>\n",
       "    <tr>\n",
       "      <th>11667</th>\n",
       "      <td>CVCL_1347|36314</td>\n",
       "      <td>0.0</td>\n",
       "      <td>9.602060</td>\n",
       "      <td>10.000000</td>\n",
       "      <td>1.000000</td>\n",
       "      <td>0.345000</td>\n",
       "      <td>-1.535332</td>\n",
       "      <td>0.345000</td>\n",
       "      <td>0.036936</td>\n",
       "      <td>0.974688</td>\n",
       "      <td>...</td>\n",
       "      <td>1.898179</td>\n",
       "      <td>down</td>\n",
       "      <td>CVCL_1347</td>\n",
       "      <td>36314</td>\n",
       "      <td>2.500000e-10</td>\n",
       "      <td>2.810631e-10</td>\n",
       "      <td>KYSE-140</td>\n",
       "      <td>Paclitaxel</td>\n",
       "      <td>CVCL_1347</td>\n",
       "      <td>36314</td>\n",
       "    </tr>\n",
       "    <tr>\n",
       "      <th>11668</th>\n",
       "      <td>CVCL_1347|60700</td>\n",
       "      <td>0.0</td>\n",
       "      <td>6.676038</td>\n",
       "      <td>0.805015</td>\n",
       "      <td>1.029543</td>\n",
       "      <td>0.222603</td>\n",
       "      <td>-1.923467</td>\n",
       "      <td>0.540538</td>\n",
       "      <td>0.065302</td>\n",
       "      <td>0.946601</td>\n",
       "      <td>...</td>\n",
       "      <td>1.694064</td>\n",
       "      <td>down</td>\n",
       "      <td>CVCL_1347</td>\n",
       "      <td>60700</td>\n",
       "      <td>2.108445e-07</td>\n",
       "      <td>4.707337e-07</td>\n",
       "      <td>KYSE-140</td>\n",
       "      <td>Topotecan</td>\n",
       "      <td>CVCL_1347</td>\n",
       "      <td>60700</td>\n",
       "    </tr>\n",
       "    <tr>\n",
       "      <th>11669</th>\n",
       "      <td>CVCL_1347|6505803</td>\n",
       "      <td>0.0</td>\n",
       "      <td>6.159765</td>\n",
       "      <td>2.217223</td>\n",
       "      <td>1.037807</td>\n",
       "      <td>0.228768</td>\n",
       "      <td>-2.105865</td>\n",
       "      <td>0.694320</td>\n",
       "      <td>0.026570</td>\n",
       "      <td>0.993984</td>\n",
       "      <td>...</td>\n",
       "      <td>2.619688</td>\n",
       "      <td>down</td>\n",
       "      <td>CVCL_1347</td>\n",
       "      <td>6505803</td>\n",
       "      <td>6.922053e-07</td>\n",
       "      <td>9.425732e-07</td>\n",
       "      <td>KYSE-140</td>\n",
       "      <td>17-AAG</td>\n",
       "      <td>CVCL_1347</td>\n",
       "      <td>6505803</td>\n",
       "    </tr>\n",
       "  </tbody>\n",
       "</table>\n",
       "<p>11670 rows × 25 columns</p>\n",
       "</div>"
      ],
      "text/plain": [
       "                     Name  SignalQuality  pEC50_curvecurator      Slope  \\\n",
       "0      CVCL_0031|11656518            0.0            6.380385   3.812538   \n",
       "1      CVCL_0069|24180719            0.0            3.596879   0.682323   \n",
       "2      CVCL_0007|10127622            0.0            5.381694   1.694135   \n",
       "3      CVCL_0007|10302451            0.0            8.347859  10.000000   \n",
       "4      CVCL_0007|10461815            0.0            5.117873   2.075958   \n",
       "...                   ...            ...                 ...        ...   \n",
       "11665  CVCL_1347|24180719            0.0            5.169925   1.141174   \n",
       "11666   CVCL_1347|3081361            0.0            5.951310   1.963708   \n",
       "11667     CVCL_1347|36314            0.0            9.602060  10.000000   \n",
       "11668     CVCL_1347|60700            0.0            6.676038   0.805015   \n",
       "11669   CVCL_1347|6505803            0.0            6.159765   2.217223   \n",
       "\n",
       "          Front      Back  FoldChange  AUC_curvecurator      RMSE        R2  \\\n",
       "0      1.085608  0.767838   -0.380512          1.002747  0.079078  0.730258   \n",
       "1      0.944934  6.483646    0.231717          0.994082  0.083130  0.445913   \n",
       "2      0.922372  0.613620   -0.535126          0.890860  0.036605  0.804497   \n",
       "3      0.945071  1.006109    0.008787          1.001681  0.063080  0.138848   \n",
       "4      1.015333  0.000100   -1.051984          0.970221  0.065419  0.865978   \n",
       "...         ...       ...         ...               ...       ...       ...   \n",
       "11665  0.981017  0.000100   -1.172495          0.862998  0.034680  0.966734   \n",
       "11666  1.025005  0.187985   -2.284892          0.738040  0.031100  0.991081   \n",
       "11667  1.000000  0.345000   -1.535332          0.345000  0.036936  0.974688   \n",
       "11668  1.029543  0.222603   -1.923467          0.540538  0.065302  0.946601   \n",
       "11669  1.037807  0.228768   -2.105865          0.694320  0.026570  0.993984   \n",
       "\n",
       "       ...  RelevanceScore  Regulation  cell_line_id   drug_id  \\\n",
       "0      ...        0.315271         NaN     CVCL_0031  11656518   \n",
       "1      ...        0.043004         NaN     CVCL_0069  24180719   \n",
       "2      ...        0.603458         not     CVCL_0007  10127622   \n",
       "3      ...       -0.000000         not     CVCL_0007  10302451   \n",
       "4      ...        1.260381         NaN     CVCL_0007  10461815   \n",
       "...    ...             ...         ...           ...       ...   \n",
       "11665  ...        1.623433        down     CVCL_1347  24180719   \n",
       "11666  ...        2.549042        down     CVCL_1347   3081361   \n",
       "11667  ...        1.898179        down     CVCL_1347     36314   \n",
       "11668  ...        1.694064        down     CVCL_1347     60700   \n",
       "11669  ...        2.619688        down     CVCL_1347   6505803   \n",
       "\n",
       "       EC50_curvecurator  IC50_curvecurator Primary Cell Line Name  \\\n",
       "0           4.164999e-07                NaN                   MCF7   \n",
       "1           2.530000e-04                NaN               SK-MEL-2   \n",
       "2           4.152467e-06                NaN                  U-937   \n",
       "3           4.488910e-09                NaN                  U-937   \n",
       "4           7.623013e-06       7.735483e-06                  U-937   \n",
       "...                  ...                ...                    ...   \n",
       "11665       6.762005e-06       6.537647e-06               KYSE-140   \n",
       "11666       1.118638e-06       1.458050e-06               KYSE-140   \n",
       "11667       2.500000e-10       2.810631e-10               KYSE-140   \n",
       "11668       2.108445e-07       4.707337e-07               KYSE-140   \n",
       "11669       6.922053e-07       9.425732e-07               KYSE-140   \n",
       "\n",
       "         Compound     sample      drug  \n",
       "0          RAF265  CVCL_0031  11656518  \n",
       "1         PLX4720  CVCL_0069  24180719  \n",
       "2         AZD6244  CVCL_0007  10127622  \n",
       "3         AZD0530  CVCL_0007  10302451  \n",
       "4      PHA-665752  CVCL_0007  10461815  \n",
       "...           ...        ...       ...  \n",
       "11665     PLX4720  CVCL_1347  24180719  \n",
       "11666  Vandetanib  CVCL_1347   3081361  \n",
       "11667  Paclitaxel  CVCL_1347     36314  \n",
       "11668   Topotecan  CVCL_1347     60700  \n",
       "11669      17-AAG  CVCL_1347   6505803  \n",
       "\n",
       "[11670 rows x 25 columns]"
      ]
     },
     "execution_count": 70,
     "metadata": {},
     "output_type": "execute_result"
    }
   ],
   "source": [
    "# load the curvecurator output\n",
    "viability_df = pd.read_csv(\"curvecurator/CCLE.csv\", converters={\"cell_line_id\": str, \"drug_id\": str})\n",
    "\n",
    "# load the processed viabilities from 00_preprocess_raw_for_curvecurator.ipynb\n",
    "mapping_df = pd.read_csv(\"viabilities_processed.csv\", converters={\"Primary Cell Line Name\": str, \"Compound\": str, \"sample\": str, \"drug\": str})[[\"Primary Cell Line Name\", \"Compound\", \"sample\", \"drug\"]].drop_duplicates()\n",
    "\n",
    "# merge based on cell_line_id, drug_id to get drug name and cell line name back\n",
    "viability_df = viability_df.merge(mapping_df, left_on=[\"cell_line_id\", \"drug_id\"], right_on=[\"sample\", \"drug\"])\n",
    "viability_df[\"Compound\"] = viability_df[\"Compound\"].str.strip()\n",
    "viability_df[\"Primary Cell Line Name\"] = viability_df[\"Primary Cell Line Name\"].str.strip()\n",
    "viability_df"
   ]
  },
  {
   "cell_type": "code",
   "execution_count": 109,
   "id": "d7592b7f-a8ea-47fe-ba70-8cfbdcaa79c6",
   "metadata": {},
   "outputs": [],
   "source": [
    "# load the original data\n",
    "orig_measures_df = pd.read_excel(\"raw/NIHMS361223-supplement-4.xlsx\", sheet_name=11, skiprows=2, converters={\"Primary Cell Line Name\": str, \"Compound\": str, \"IC50 (µM)\": float, 'EC50 (µM)': float, \"ActArea\": float})\n",
    "orig_measures_df[\"IC50\"] = orig_measures_df[\"IC50 (µM)\"] / 1e6  # original one is in µM, but we need it in M. \n",
    "orig_measures_df[\"EC50\"] = orig_measures_df[\"EC50 (µM)\"] / 1e6  # original one is in µM, but we need it in M. , for some reason one needs to convert to float again...\n",
    "orig_measures_df[\"AUC\"] = -orig_measures_df[\"ActArea\"] / 8 + 1  # original ActivityArea is calculated as sum(percentage_activity_x for x in doses), so max is 8 with 8 doses but we want to scale to [0,1] \n",
    "\n",
    "orig_measures_df[\"Compound\"] = orig_measures_df[\"Compound\"].str.strip()\n",
    "orig_measures_df[\"Primary Cell Line Name\"] = orig_measures_df[\"Primary Cell Line Name\"].str.strip()\n",
    "\n",
    "# fix the names as done in 00_preprocess_raw_for_curvecurator.ipynb\n",
    "orig_measures_df.loc[orig_measures_df[\"Compound\"] == 'ZD-6474', \"Compound\"] = \"Vandetanib\"\n",
    "orig_measures_df.loc[orig_measures_df[\"Compound\"] == 'PF2341066', \"Compound\"] = \"PF-2341066\""
   ]
  },
  {
   "cell_type": "code",
   "execution_count": 110,
   "id": "b8c8b1fa-baf7-4b6f-b58a-5b23298ff629",
   "metadata": {},
   "outputs": [
    {
     "data": {
      "text/html": [
       "<div>\n",
       "<style scoped>\n",
       "    .dataframe tbody tr th:only-of-type {\n",
       "        vertical-align: middle;\n",
       "    }\n",
       "\n",
       "    .dataframe tbody tr th {\n",
       "        vertical-align: top;\n",
       "    }\n",
       "\n",
       "    .dataframe thead th {\n",
       "        text-align: right;\n",
       "    }\n",
       "</style>\n",
       "<table border=\"1\" class=\"dataframe\">\n",
       "  <thead>\n",
       "    <tr style=\"text-align: right;\">\n",
       "      <th></th>\n",
       "      <th>Name</th>\n",
       "      <th>SignalQuality</th>\n",
       "      <th>pEC50_curvecurator</th>\n",
       "      <th>Slope</th>\n",
       "      <th>Front</th>\n",
       "      <th>Back</th>\n",
       "      <th>FoldChange</th>\n",
       "      <th>AUC_curvecurator</th>\n",
       "      <th>RMSE</th>\n",
       "      <th>R2</th>\n",
       "      <th>...</th>\n",
       "      <th>Activity SD</th>\n",
       "      <th>Num Data</th>\n",
       "      <th>FitType</th>\n",
       "      <th>EC50 (µM)</th>\n",
       "      <th>IC50 (µM)</th>\n",
       "      <th>Amax</th>\n",
       "      <th>ActArea</th>\n",
       "      <th>IC50</th>\n",
       "      <th>EC50</th>\n",
       "      <th>AUC</th>\n",
       "    </tr>\n",
       "  </thead>\n",
       "  <tbody>\n",
       "    <tr>\n",
       "      <th>0</th>\n",
       "      <td>CVCL_0031|11656518</td>\n",
       "      <td>0.0</td>\n",
       "      <td>6.380385</td>\n",
       "      <td>3.812538</td>\n",
       "      <td>1.085608</td>\n",
       "      <td>0.767838</td>\n",
       "      <td>-0.380512</td>\n",
       "      <td>1.002747</td>\n",
       "      <td>0.079078</td>\n",
       "      <td>0.730258</td>\n",
       "      <td>...</td>\n",
       "      <td>27.3,5.81,21.4,35.4,12.9,7.66,23.6</td>\n",
       "      <td>7</td>\n",
       "      <td>Constant</td>\n",
       "      <td>NaN</td>\n",
       "      <td>2.531646</td>\n",
       "      <td>-0.857280</td>\n",
       "      <td>0.01511</td>\n",
       "      <td>2.531646e-06</td>\n",
       "      <td>NaN</td>\n",
       "      <td>0.998111</td>\n",
       "    </tr>\n",
       "    <tr>\n",
       "      <th>1</th>\n",
       "      <td>CVCL_0069|24180719</td>\n",
       "      <td>0.0</td>\n",
       "      <td>3.596879</td>\n",
       "      <td>0.682323</td>\n",
       "      <td>0.944934</td>\n",
       "      <td>6.483646</td>\n",
       "      <td>0.231717</td>\n",
       "      <td>0.994082</td>\n",
       "      <td>0.083130</td>\n",
       "      <td>0.445913</td>\n",
       "      <td>...</td>\n",
       "      <td>2.39,13.5,.62,21.0,.72,8.04,10.3</td>\n",
       "      <td>7</td>\n",
       "      <td>Linear</td>\n",
       "      <td>NaN</td>\n",
       "      <td>2.531646</td>\n",
       "      <td>-21.457716</td>\n",
       "      <td>0.44250</td>\n",
       "      <td>2.531646e-06</td>\n",
       "      <td>NaN</td>\n",
       "      <td>0.944688</td>\n",
       "    </tr>\n",
       "    <tr>\n",
       "      <th>2</th>\n",
       "      <td>CVCL_0007|10127622</td>\n",
       "      <td>0.0</td>\n",
       "      <td>5.381694</td>\n",
       "      <td>1.694135</td>\n",
       "      <td>0.922372</td>\n",
       "      <td>0.613620</td>\n",
       "      <td>-0.535126</td>\n",
       "      <td>0.890860</td>\n",
       "      <td>0.036605</td>\n",
       "      <td>0.804497</td>\n",
       "      <td>...</td>\n",
       "      <td>10.8,9.17,8.78,1.80,15.7,10.0,22.1,16.1</td>\n",
       "      <td>8</td>\n",
       "      <td>Sigmoid</td>\n",
       "      <td>2.234367</td>\n",
       "      <td>8.000000</td>\n",
       "      <td>-41.782055</td>\n",
       "      <td>1.14030</td>\n",
       "      <td>8.000000e-06</td>\n",
       "      <td>0.000002</td>\n",
       "      <td>0.857463</td>\n",
       "    </tr>\n",
       "    <tr>\n",
       "      <th>3</th>\n",
       "      <td>CVCL_0007|10302451</td>\n",
       "      <td>0.0</td>\n",
       "      <td>8.347859</td>\n",
       "      <td>10.000000</td>\n",
       "      <td>0.945071</td>\n",
       "      <td>1.006109</td>\n",
       "      <td>0.008787</td>\n",
       "      <td>1.001681</td>\n",
       "      <td>0.063080</td>\n",
       "      <td>0.138848</td>\n",
       "      <td>...</td>\n",
       "      <td>12.5,2.32,11.8,3.55,10.4,18.5,16.9,22.6</td>\n",
       "      <td>8</td>\n",
       "      <td>Linear</td>\n",
       "      <td>NaN</td>\n",
       "      <td>8.000000</td>\n",
       "      <td>-22.127462</td>\n",
       "      <td>0.57930</td>\n",
       "      <td>8.000000e-06</td>\n",
       "      <td>NaN</td>\n",
       "      <td>0.927588</td>\n",
       "    </tr>\n",
       "    <tr>\n",
       "      <th>4</th>\n",
       "      <td>CVCL_0007|10461815</td>\n",
       "      <td>0.0</td>\n",
       "      <td>5.117873</td>\n",
       "      <td>2.075958</td>\n",
       "      <td>1.015333</td>\n",
       "      <td>0.000100</td>\n",
       "      <td>-1.051984</td>\n",
       "      <td>0.970221</td>\n",
       "      <td>0.065419</td>\n",
       "      <td>0.865978</td>\n",
       "      <td>...</td>\n",
       "      <td>8.83,8.04,9.68,8.02,9.98,9.10,12.7,46.5</td>\n",
       "      <td>8</td>\n",
       "      <td>Sigmoid</td>\n",
       "      <td>8.31647</td>\n",
       "      <td>8.000000</td>\n",
       "      <td>-38.214069</td>\n",
       "      <td>0.77960</td>\n",
       "      <td>8.000000e-06</td>\n",
       "      <td>0.000008</td>\n",
       "      <td>0.902550</td>\n",
       "    </tr>\n",
       "    <tr>\n",
       "      <th>...</th>\n",
       "      <td>...</td>\n",
       "      <td>...</td>\n",
       "      <td>...</td>\n",
       "      <td>...</td>\n",
       "      <td>...</td>\n",
       "      <td>...</td>\n",
       "      <td>...</td>\n",
       "      <td>...</td>\n",
       "      <td>...</td>\n",
       "      <td>...</td>\n",
       "      <td>...</td>\n",
       "      <td>...</td>\n",
       "      <td>...</td>\n",
       "      <td>...</td>\n",
       "      <td>...</td>\n",
       "      <td>...</td>\n",
       "      <td>...</td>\n",
       "      <td>...</td>\n",
       "      <td>...</td>\n",
       "      <td>...</td>\n",
       "      <td>...</td>\n",
       "    </tr>\n",
       "    <tr>\n",
       "      <th>11665</th>\n",
       "      <td>CVCL_1347|24180719</td>\n",
       "      <td>0.0</td>\n",
       "      <td>5.169925</td>\n",
       "      <td>1.141174</td>\n",
       "      <td>0.981017</td>\n",
       "      <td>0.000100</td>\n",
       "      <td>-1.172495</td>\n",
       "      <td>0.862998</td>\n",
       "      <td>0.034680</td>\n",
       "      <td>0.966734</td>\n",
       "      <td>...</td>\n",
       "      <td>4.39,14.8,24.2,6.14,.68,5.12</td>\n",
       "      <td>6</td>\n",
       "      <td>Sigmoid</td>\n",
       "      <td>8.634032</td>\n",
       "      <td>6.805239</td>\n",
       "      <td>-56.326820</td>\n",
       "      <td>0.41870</td>\n",
       "      <td>6.805239e-06</td>\n",
       "      <td>0.000009</td>\n",
       "      <td>0.947662</td>\n",
       "    </tr>\n",
       "    <tr>\n",
       "      <th>11666</th>\n",
       "      <td>CVCL_1347|3081361</td>\n",
       "      <td>0.0</td>\n",
       "      <td>5.951310</td>\n",
       "      <td>1.963708</td>\n",
       "      <td>1.025005</td>\n",
       "      <td>0.187985</td>\n",
       "      <td>-2.284892</td>\n",
       "      <td>0.738040</td>\n",
       "      <td>0.031100</td>\n",
       "      <td>0.991081</td>\n",
       "      <td>...</td>\n",
       "      <td>3.93,8.23,6.62,1.49,5.13,3.00</td>\n",
       "      <td>6</td>\n",
       "      <td>Sigmoid</td>\n",
       "      <td>1.104251</td>\n",
       "      <td>1.448931</td>\n",
       "      <td>-79.231400</td>\n",
       "      <td>1.28400</td>\n",
       "      <td>1.448931e-06</td>\n",
       "      <td>0.000001</td>\n",
       "      <td>0.839500</td>\n",
       "    </tr>\n",
       "    <tr>\n",
       "      <th>11667</th>\n",
       "      <td>CVCL_1347|36314</td>\n",
       "      <td>0.0</td>\n",
       "      <td>9.602060</td>\n",
       "      <td>10.000000</td>\n",
       "      <td>1.000000</td>\n",
       "      <td>0.345000</td>\n",
       "      <td>-1.535332</td>\n",
       "      <td>0.345000</td>\n",
       "      <td>0.036936</td>\n",
       "      <td>0.974688</td>\n",
       "      <td>...</td>\n",
       "      <td>2.30,9.95,3.09,8.22,4.38,7.06</td>\n",
       "      <td>6</td>\n",
       "      <td>Constant</td>\n",
       "      <td>NaN</td>\n",
       "      <td>0.025390</td>\n",
       "      <td>-65.860992</td>\n",
       "      <td>3.53970</td>\n",
       "      <td>2.538952e-08</td>\n",
       "      <td>NaN</td>\n",
       "      <td>0.557538</td>\n",
       "    </tr>\n",
       "    <tr>\n",
       "      <th>11668</th>\n",
       "      <td>CVCL_1347|60700</td>\n",
       "      <td>0.0</td>\n",
       "      <td>6.676038</td>\n",
       "      <td>0.805015</td>\n",
       "      <td>1.029543</td>\n",
       "      <td>0.222603</td>\n",
       "      <td>-1.923467</td>\n",
       "      <td>0.540538</td>\n",
       "      <td>0.065302</td>\n",
       "      <td>0.946601</td>\n",
       "      <td>...</td>\n",
       "      <td>7.10,1.49,12.2,4.07,11.4,2.24</td>\n",
       "      <td>6</td>\n",
       "      <td>Linear</td>\n",
       "      <td>NaN</td>\n",
       "      <td>1.071993</td>\n",
       "      <td>-77.443932</td>\n",
       "      <td>2.39750</td>\n",
       "      <td>1.071993e-06</td>\n",
       "      <td>NaN</td>\n",
       "      <td>0.700313</td>\n",
       "    </tr>\n",
       "    <tr>\n",
       "      <th>11669</th>\n",
       "      <td>CVCL_1347|6505803</td>\n",
       "      <td>0.0</td>\n",
       "      <td>6.159765</td>\n",
       "      <td>2.217223</td>\n",
       "      <td>1.037807</td>\n",
       "      <td>0.228768</td>\n",
       "      <td>-2.105865</td>\n",
       "      <td>0.694320</td>\n",
       "      <td>0.026570</td>\n",
       "      <td>0.993984</td>\n",
       "      <td>...</td>\n",
       "      <td>6.24,4.18,10.3,14.5,5.10,.27</td>\n",
       "      <td>6</td>\n",
       "      <td>Sigmoid</td>\n",
       "      <td>0.685912</td>\n",
       "      <td>0.961978</td>\n",
       "      <td>-77.785461</td>\n",
       "      <td>1.69010</td>\n",
       "      <td>9.619783e-07</td>\n",
       "      <td>0.000001</td>\n",
       "      <td>0.788737</td>\n",
       "    </tr>\n",
       "  </tbody>\n",
       "</table>\n",
       "<p>11670 rows × 39 columns</p>\n",
       "</div>"
      ],
      "text/plain": [
       "                     Name  SignalQuality  pEC50_curvecurator      Slope  \\\n",
       "0      CVCL_0031|11656518            0.0            6.380385   3.812538   \n",
       "1      CVCL_0069|24180719            0.0            3.596879   0.682323   \n",
       "2      CVCL_0007|10127622            0.0            5.381694   1.694135   \n",
       "3      CVCL_0007|10302451            0.0            8.347859  10.000000   \n",
       "4      CVCL_0007|10461815            0.0            5.117873   2.075958   \n",
       "...                   ...            ...                 ...        ...   \n",
       "11665  CVCL_1347|24180719            0.0            5.169925   1.141174   \n",
       "11666   CVCL_1347|3081361            0.0            5.951310   1.963708   \n",
       "11667     CVCL_1347|36314            0.0            9.602060  10.000000   \n",
       "11668     CVCL_1347|60700            0.0            6.676038   0.805015   \n",
       "11669   CVCL_1347|6505803            0.0            6.159765   2.217223   \n",
       "\n",
       "          Front      Back  FoldChange  AUC_curvecurator      RMSE        R2  \\\n",
       "0      1.085608  0.767838   -0.380512          1.002747  0.079078  0.730258   \n",
       "1      0.944934  6.483646    0.231717          0.994082  0.083130  0.445913   \n",
       "2      0.922372  0.613620   -0.535126          0.890860  0.036605  0.804497   \n",
       "3      0.945071  1.006109    0.008787          1.001681  0.063080  0.138848   \n",
       "4      1.015333  0.000100   -1.051984          0.970221  0.065419  0.865978   \n",
       "...         ...       ...         ...               ...       ...       ...   \n",
       "11665  0.981017  0.000100   -1.172495          0.862998  0.034680  0.966734   \n",
       "11666  1.025005  0.187985   -2.284892          0.738040  0.031100  0.991081   \n",
       "11667  1.000000  0.345000   -1.535332          0.345000  0.036936  0.974688   \n",
       "11668  1.029543  0.222603   -1.923467          0.540538  0.065302  0.946601   \n",
       "11669  1.037807  0.228768   -2.105865          0.694320  0.026570  0.993984   \n",
       "\n",
       "       ...                              Activity SD  Num Data   FitType  \\\n",
       "0      ...       27.3,5.81,21.4,35.4,12.9,7.66,23.6         7  Constant   \n",
       "1      ...         2.39,13.5,.62,21.0,.72,8.04,10.3         7    Linear   \n",
       "2      ...  10.8,9.17,8.78,1.80,15.7,10.0,22.1,16.1         8   Sigmoid   \n",
       "3      ...  12.5,2.32,11.8,3.55,10.4,18.5,16.9,22.6         8    Linear   \n",
       "4      ...  8.83,8.04,9.68,8.02,9.98,9.10,12.7,46.5         8   Sigmoid   \n",
       "...    ...                                      ...       ...       ...   \n",
       "11665  ...             4.39,14.8,24.2,6.14,.68,5.12         6   Sigmoid   \n",
       "11666  ...            3.93,8.23,6.62,1.49,5.13,3.00         6   Sigmoid   \n",
       "11667  ...            2.30,9.95,3.09,8.22,4.38,7.06         6  Constant   \n",
       "11668  ...            7.10,1.49,12.2,4.07,11.4,2.24         6    Linear   \n",
       "11669  ...             6.24,4.18,10.3,14.5,5.10,.27         6   Sigmoid   \n",
       "\n",
       "       EC50 (µM)  IC50 (µM)       Amax  ActArea          IC50      EC50  \\\n",
       "0            NaN   2.531646  -0.857280  0.01511  2.531646e-06       NaN   \n",
       "1            NaN   2.531646 -21.457716  0.44250  2.531646e-06       NaN   \n",
       "2       2.234367   8.000000 -41.782055  1.14030  8.000000e-06  0.000002   \n",
       "3            NaN   8.000000 -22.127462  0.57930  8.000000e-06       NaN   \n",
       "4        8.31647   8.000000 -38.214069  0.77960  8.000000e-06  0.000008   \n",
       "...          ...        ...        ...      ...           ...       ...   \n",
       "11665   8.634032   6.805239 -56.326820  0.41870  6.805239e-06  0.000009   \n",
       "11666   1.104251   1.448931 -79.231400  1.28400  1.448931e-06  0.000001   \n",
       "11667        NaN   0.025390 -65.860992  3.53970  2.538952e-08       NaN   \n",
       "11668        NaN   1.071993 -77.443932  2.39750  1.071993e-06       NaN   \n",
       "11669   0.685912   0.961978 -77.785461  1.69010  9.619783e-07  0.000001   \n",
       "\n",
       "            AUC  \n",
       "0      0.998111  \n",
       "1      0.944688  \n",
       "2      0.857463  \n",
       "3      0.927588  \n",
       "4      0.902550  \n",
       "...         ...  \n",
       "11665  0.947662  \n",
       "11666  0.839500  \n",
       "11667  0.557538  \n",
       "11668  0.700313  \n",
       "11669  0.788737  \n",
       "\n",
       "[11670 rows x 39 columns]"
      ]
     },
     "execution_count": 110,
     "metadata": {},
     "output_type": "execute_result"
    }
   ],
   "source": [
    "# merge curvecurator and original fits\n",
    "mapped_response_df = viability_df.merge(orig_measures_df, on=[\"Compound\", \"Primary Cell Line Name\"])\n",
    "mapped_response_df"
   ]
  },
  {
   "cell_type": "code",
   "execution_count": 120,
   "id": "c6e9e186-3f97-4c50-9aec-7a1025a7deaa",
   "metadata": {},
   "outputs": [
    {
     "data": {
      "image/png": "[encoded data removed]",
      "text/plain": [
       "<Figure size 640x480 with 1 Axes>"
      ]
     },
     "metadata": {},
     "output_type": "display_data"
    }
   ],
   "source": [
    "sns.scatterplot(mapped_response_df, x=\"EC50_curvecurator\", y=\"EC50\", s=1)\n",
    "plt.xlim(1e-9,1e-4)\n",
    "plt.ylim(1e-9,1e-4)\n",
    "\n",
    "plt.xscale('log')\n",
    "plt.yscale('log')"
   ]
  },
  {
   "cell_type": "code",
   "execution_count": 119,
   "id": "b896603a-e424-4353-8c89-62e91426cbe0",
   "metadata": {},
   "outputs": [
    {
     "data": {
      "image/png": "[encoded data removed]",
      "text/plain": [
       "<Figure size 640x480 with 1 Axes>"
      ]
     },
     "metadata": {},
     "output_type": "display_data"
    }
   ],
   "source": [
    "sns.scatterplot(mapped_response_df, x=\"IC50_curvecurator\", y=\"IC50\", s=1)\n",
    "plt.xlim(1e-9,1e-4)\n",
    "plt.ylim(1e-9,1e-4)\n",
    "\n",
    "plt.xscale('log')\n",
    "plt.yscale('log')"
   ]
  },
  {
   "cell_type": "code",
   "execution_count": 112,
   "id": "30e4fe0a-b9b5-4164-b473-55b88cef92aa",
   "metadata": {},
   "outputs": [
    {
     "data": {
      "text/plain": [
       "<Axes: xlabel='AUC_curvecurator', ylabel='AUC'>"
      ]
     },
     "execution_count": 112,
     "metadata": {},
     "output_type": "execute_result"
    },
    {
     "data": {
      "image/png": "[encoded data removed]",
      "text/plain": [
       "<Figure size 640x480 with 1 Axes>"
      ]
     },
     "metadata": {},
     "output_type": "display_data"
    }
   ],
   "source": [
    "sns.scatterplot(mapped_response_df, x=\"AUC_curvecurator\", y=\"AUC\", s=1)\n",
    "#plt.xlim(1e-9,1e-0)\n",
    "#plt.ylim(1e-9,1e-0)\n",
    "\n",
    "#plt.xscale('log')\n",
    "#plt.yscale('log')"
   ]
  },
  {
   "cell_type": "code",
   "execution_count": 126,
   "id": "ecef48ea-ef9b-4419-aa36-7feabf2bb6cc",
   "metadata": {},
   "outputs": [
    {
     "data": {
      "text/html": [
       "<div>\n",
       "<style scoped>\n",
       "    .dataframe tbody tr th:only-of-type {\n",
       "        vertical-align: middle;\n",
       "    }\n",
       "\n",
       "    .dataframe tbody tr th {\n",
       "        vertical-align: top;\n",
       "    }\n",
       "\n",
       "    .dataframe thead th {\n",
       "        text-align: right;\n",
       "    }\n",
       "</style>\n",
       "<table border=\"1\" class=\"dataframe\">\n",
       "  <thead>\n",
       "    <tr style=\"text-align: right;\">\n",
       "      <th></th>\n",
       "      <th>Name</th>\n",
       "      <th>SignalQuality</th>\n",
       "      <th>pEC50_curvecurator</th>\n",
       "      <th>Slope</th>\n",
       "      <th>Front</th>\n",
       "      <th>Back</th>\n",
       "      <th>FoldChange</th>\n",
       "      <th>AUC_curvecurator</th>\n",
       "      <th>RMSE</th>\n",
       "      <th>R2</th>\n",
       "      <th>...</th>\n",
       "      <th>Activity SD</th>\n",
       "      <th>Num Data</th>\n",
       "      <th>FitType</th>\n",
       "      <th>EC50 (µM)</th>\n",
       "      <th>IC50 (µM)</th>\n",
       "      <th>Amax</th>\n",
       "      <th>ActArea</th>\n",
       "      <th>IC50</th>\n",
       "      <th>EC50</th>\n",
       "      <th>AUC</th>\n",
       "    </tr>\n",
       "  </thead>\n",
       "  <tbody>\n",
       "    <tr>\n",
       "      <th>207</th>\n",
       "      <td>CVCL_0031|36314</td>\n",
       "      <td>0.0</td>\n",
       "      <td>9.353200</td>\n",
       "      <td>0.570348</td>\n",
       "      <td>0.997983</td>\n",
       "      <td>0.014835</td>\n",
       "      <td>-5.756730</td>\n",
       "      <td>0.081727</td>\n",
       "      <td>0.115612</td>\n",
       "      <td>0.868005</td>\n",
       "      <td>...</td>\n",
       "      <td>4.19,6.21,7.29,23.8,1.69,19.4,21.3,13.7</td>\n",
       "      <td>8</td>\n",
       "      <td>Sigmoid</td>\n",
       "      <td>0.018154</td>\n",
       "      <td>8.0</td>\n",
       "      <td>-98.355804</td>\n",
       "      <td>3.7399</td>\n",
       "      <td>0.000008</td>\n",
       "      <td>0.0</td>\n",
       "      <td>0.532512</td>\n",
       "    </tr>\n",
       "    <tr>\n",
       "      <th>414</th>\n",
       "      <td>CVCL_0065|36314</td>\n",
       "      <td>0.0</td>\n",
       "      <td>8.797697</td>\n",
       "      <td>1.005055</td>\n",
       "      <td>0.999871</td>\n",
       "      <td>0.021655</td>\n",
       "      <td>-5.516799</td>\n",
       "      <td>0.080985</td>\n",
       "      <td>0.004693</td>\n",
       "      <td>0.999765</td>\n",
       "      <td>...</td>\n",
       "      <td>2.00,2.18,1.16,.67,.16,.23,.78,.0025</td>\n",
       "      <td>8</td>\n",
       "      <td>Sigmoid</td>\n",
       "      <td>0.002751</td>\n",
       "      <td>8.0</td>\n",
       "      <td>-97.732346</td>\n",
       "      <td>7.2847</td>\n",
       "      <td>0.000008</td>\n",
       "      <td>0.0</td>\n",
       "      <td>0.089413</td>\n",
       "    </tr>\n",
       "    <tr>\n",
       "      <th>529</th>\n",
       "      <td>CVCL_0080|36314</td>\n",
       "      <td>0.0</td>\n",
       "      <td>8.545618</td>\n",
       "      <td>2.594891</td>\n",
       "      <td>1.000032</td>\n",
       "      <td>0.039271</td>\n",
       "      <td>-4.670380</td>\n",
       "      <td>0.079454</td>\n",
       "      <td>0.003975</td>\n",
       "      <td>0.999852</td>\n",
       "      <td>...</td>\n",
       "      <td>36.7,3.12,.61,.16,1.02,.46,.25,.81</td>\n",
       "      <td>8</td>\n",
       "      <td>Sigmoid</td>\n",
       "      <td>5.060275</td>\n",
       "      <td>8.0</td>\n",
       "      <td>-96.183815</td>\n",
       "      <td>7.0239</td>\n",
       "      <td>0.000008</td>\n",
       "      <td>0.000005</td>\n",
       "      <td>0.122012</td>\n",
       "    </tr>\n",
       "    <tr>\n",
       "      <th>762</th>\n",
       "      <td>CVCL_0153|36314</td>\n",
       "      <td>0.0</td>\n",
       "      <td>9.055977</td>\n",
       "      <td>0.620098</td>\n",
       "      <td>1.000007</td>\n",
       "      <td>0.098289</td>\n",
       "      <td>-3.301295</td>\n",
       "      <td>0.173457</td>\n",
       "      <td>0.013050</td>\n",
       "      <td>0.997729</td>\n",
       "      <td>...</td>\n",
       "      <td>2.26,8.71,4.55,1.22,2.98,1.42,1.22,2.87</td>\n",
       "      <td>8</td>\n",
       "      <td>Sigmoid</td>\n",
       "      <td>0.003602</td>\n",
       "      <td>8.0</td>\n",
       "      <td>-89.792152</td>\n",
       "      <td>6.7040</td>\n",
       "      <td>0.000008</td>\n",
       "      <td>0.0</td>\n",
       "      <td>0.162000</td>\n",
       "    </tr>\n",
       "    <tr>\n",
       "      <th>1263</th>\n",
       "      <td>CVCL_0332|36314</td>\n",
       "      <td>0.0</td>\n",
       "      <td>8.594807</td>\n",
       "      <td>0.900011</td>\n",
       "      <td>0.998208</td>\n",
       "      <td>0.026455</td>\n",
       "      <td>-5.203146</td>\n",
       "      <td>0.120097</td>\n",
       "      <td>0.018970</td>\n",
       "      <td>0.996272</td>\n",
       "      <td>...</td>\n",
       "      <td>12.9,1.15,1.07,.68,.13,.30,1.61,1.36</td>\n",
       "      <td>8</td>\n",
       "      <td>Sigmoid</td>\n",
       "      <td>0.012234</td>\n",
       "      <td>8.0</td>\n",
       "      <td>-96.140671</td>\n",
       "      <td>6.8292</td>\n",
       "      <td>0.000008</td>\n",
       "      <td>0.0</td>\n",
       "      <td>0.146350</td>\n",
       "    </tr>\n",
       "    <tr>\n",
       "      <th>1492</th>\n",
       "      <td>CVCL_0379|36314</td>\n",
       "      <td>0.0</td>\n",
       "      <td>8.710209</td>\n",
       "      <td>0.946420</td>\n",
       "      <td>0.998694</td>\n",
       "      <td>0.007903</td>\n",
       "      <td>-6.916143</td>\n",
       "      <td>0.083376</td>\n",
       "      <td>0.023592</td>\n",
       "      <td>0.994335</td>\n",
       "      <td>...</td>\n",
       "      <td>9.42,3.61,.18,.50,.24,1.27,.30,.15</td>\n",
       "      <td>8</td>\n",
       "      <td>Sigmoid</td>\n",
       "      <td>0.008656</td>\n",
       "      <td>8.0</td>\n",
       "      <td>-98.119377</td>\n",
       "      <td>7.1048</td>\n",
       "      <td>0.000008</td>\n",
       "      <td>0.0</td>\n",
       "      <td>0.111900</td>\n",
       "    </tr>\n",
       "    <tr>\n",
       "      <th>1607</th>\n",
       "      <td>CVCL_0419|36314</td>\n",
       "      <td>0.0</td>\n",
       "      <td>8.840593</td>\n",
       "      <td>1.211403</td>\n",
       "      <td>0.999756</td>\n",
       "      <td>0.187582</td>\n",
       "      <td>-2.414224</td>\n",
       "      <td>0.222038</td>\n",
       "      <td>0.023471</td>\n",
       "      <td>0.991544</td>\n",
       "      <td>...</td>\n",
       "      <td>5.75,1.75,.75,2.43,6.00,4.26,2.62,3.28</td>\n",
       "      <td>8</td>\n",
       "      <td>Sigmoid</td>\n",
       "      <td>0.005765</td>\n",
       "      <td>8.0</td>\n",
       "      <td>-81.029770</td>\n",
       "      <td>6.0750</td>\n",
       "      <td>0.000008</td>\n",
       "      <td>0.0</td>\n",
       "      <td>0.240625</td>\n",
       "    </tr>\n",
       "    <tr>\n",
       "      <th>1703</th>\n",
       "      <td>CVCL_0434|36314</td>\n",
       "      <td>0.0</td>\n",
       "      <td>8.974938</td>\n",
       "      <td>0.753060</td>\n",
       "      <td>1.000350</td>\n",
       "      <td>0.177105</td>\n",
       "      <td>-2.489299</td>\n",
       "      <td>0.233999</td>\n",
       "      <td>0.024099</td>\n",
       "      <td>0.990994</td>\n",
       "      <td>...</td>\n",
       "      <td>21.0,.63,1.63,1.04,1.17,7.42,1.02,3.74</td>\n",
       "      <td>8</td>\n",
       "      <td>Sigmoid</td>\n",
       "      <td>6.783455</td>\n",
       "      <td>8.0</td>\n",
       "      <td>-82.758080</td>\n",
       "      <td>5.8234</td>\n",
       "      <td>0.000008</td>\n",
       "      <td>0.000007</td>\n",
       "      <td>0.272075</td>\n",
       "    </tr>\n",
       "    <tr>\n",
       "      <th>1913</th>\n",
       "      <td>CVCL_0505|36314</td>\n",
       "      <td>0.0</td>\n",
       "      <td>9.048649</td>\n",
       "      <td>0.476759</td>\n",
       "      <td>0.998798</td>\n",
       "      <td>0.106670</td>\n",
       "      <td>-3.081043</td>\n",
       "      <td>0.214431</td>\n",
       "      <td>0.030718</td>\n",
       "      <td>0.986681</td>\n",
       "      <td>...</td>\n",
       "      <td>28.4,8.06,4.40,2.78,1.24,3.80,4.22,4.11</td>\n",
       "      <td>8</td>\n",
       "      <td>Sigmoid</td>\n",
       "      <td>0.026808</td>\n",
       "      <td>8.0</td>\n",
       "      <td>-83.733665</td>\n",
       "      <td>6.0950</td>\n",
       "      <td>0.000008</td>\n",
       "      <td>0.0</td>\n",
       "      <td>0.238125</td>\n",
       "    </tr>\n",
       "    <tr>\n",
       "      <th>1960</th>\n",
       "      <td>CVCL_0525|36314</td>\n",
       "      <td>0.0</td>\n",
       "      <td>8.807955</td>\n",
       "      <td>0.488096</td>\n",
       "      <td>0.998511</td>\n",
       "      <td>0.126499</td>\n",
       "      <td>-2.838996</td>\n",
       "      <td>0.252408</td>\n",
       "      <td>0.039688</td>\n",
       "      <td>0.977144</td>\n",
       "      <td>...</td>\n",
       "      <td>15.8,2.32,.37,4.31,2.54,1.00,1.03,.46</td>\n",
       "      <td>8</td>\n",
       "      <td>Sigmoid</td>\n",
       "      <td>0.038306</td>\n",
       "      <td>8.0</td>\n",
       "      <td>-83.542999</td>\n",
       "      <td>4.9680</td>\n",
       "      <td>0.000008</td>\n",
       "      <td>0.0</td>\n",
       "      <td>0.379000</td>\n",
       "    </tr>\n",
       "    <tr>\n",
       "      <th>3049</th>\n",
       "      <td>CVCL_1052|36314</td>\n",
       "      <td>0.0</td>\n",
       "      <td>9.175035</td>\n",
       "      <td>0.711466</td>\n",
       "      <td>0.999722</td>\n",
       "      <td>0.055794</td>\n",
       "      <td>-4.133486</td>\n",
       "      <td>0.109857</td>\n",
       "      <td>0.017793</td>\n",
       "      <td>0.996198</td>\n",
       "      <td>...</td>\n",
       "      <td>20.1,7.91,1.49,1.14,.24,.043,.80,3.12</td>\n",
       "      <td>8</td>\n",
       "      <td>Sigmoid</td>\n",
       "      <td>0.010662</td>\n",
       "      <td>8.0</td>\n",
       "      <td>-93.133644</td>\n",
       "      <td>6.9527</td>\n",
       "      <td>0.000008</td>\n",
       "      <td>0.0</td>\n",
       "      <td>0.130912</td>\n",
       "    </tr>\n",
       "    <tr>\n",
       "      <th>3687</th>\n",
       "      <td>CVCL_1170|36314</td>\n",
       "      <td>0.0</td>\n",
       "      <td>8.800794</td>\n",
       "      <td>1.598839</td>\n",
       "      <td>0.999944</td>\n",
       "      <td>0.038377</td>\n",
       "      <td>-4.703586</td>\n",
       "      <td>0.067647</td>\n",
       "      <td>0.009256</td>\n",
       "      <td>0.999064</td>\n",
       "      <td>...</td>\n",
       "      <td>15.0,1.15,.75,.049,.40,1.84,1.34,2.49</td>\n",
       "      <td>8</td>\n",
       "      <td>Sigmoid</td>\n",
       "      <td>0.006233</td>\n",
       "      <td>8.0</td>\n",
       "      <td>-95.999443</td>\n",
       "      <td>7.3422</td>\n",
       "      <td>0.000008</td>\n",
       "      <td>0.0</td>\n",
       "      <td>0.082225</td>\n",
       "    </tr>\n",
       "    <tr>\n",
       "      <th>4343</th>\n",
       "      <td>CVCL_1273|36314</td>\n",
       "      <td>0.0</td>\n",
       "      <td>8.954752</td>\n",
       "      <td>1.283737</td>\n",
       "      <td>0.999947</td>\n",
       "      <td>0.108951</td>\n",
       "      <td>-3.198113</td>\n",
       "      <td>0.134921</td>\n",
       "      <td>0.019338</td>\n",
       "      <td>0.995145</td>\n",
       "      <td>...</td>\n",
       "      <td>3.60,.92,2.54,1.05,2.07,.36,1.37,1.36</td>\n",
       "      <td>8</td>\n",
       "      <td>Sigmoid</td>\n",
       "      <td>0.00423</td>\n",
       "      <td>8.0</td>\n",
       "      <td>-89.259590</td>\n",
       "      <td>6.7594</td>\n",
       "      <td>0.000008</td>\n",
       "      <td>0.0</td>\n",
       "      <td>0.155075</td>\n",
       "    </tr>\n",
       "    <tr>\n",
       "      <th>4363</th>\n",
       "      <td>CVCL_1279|36314</td>\n",
       "      <td>0.0</td>\n",
       "      <td>8.688460</td>\n",
       "      <td>2.445725</td>\n",
       "      <td>0.999957</td>\n",
       "      <td>0.177055</td>\n",
       "      <td>-2.497730</td>\n",
       "      <td>0.197031</td>\n",
       "      <td>0.034108</td>\n",
       "      <td>0.983521</td>\n",
       "      <td>...</td>\n",
       "      <td>6.28,1.22,.024,.39,.093,1.77,.091,.41</td>\n",
       "      <td>8</td>\n",
       "      <td>Sigmoid</td>\n",
       "      <td>0.005133</td>\n",
       "      <td>8.0</td>\n",
       "      <td>-82.159210</td>\n",
       "      <td>6.2021</td>\n",
       "      <td>0.000008</td>\n",
       "      <td>0.0</td>\n",
       "      <td>0.224738</td>\n",
       "    </tr>\n",
       "    <tr>\n",
       "      <th>4458</th>\n",
       "      <td>CVCL_1290|36314</td>\n",
       "      <td>0.0</td>\n",
       "      <td>8.673890</td>\n",
       "      <td>3.325580</td>\n",
       "      <td>0.999996</td>\n",
       "      <td>0.148513</td>\n",
       "      <td>-2.751340</td>\n",
       "      <td>0.162962</td>\n",
       "      <td>0.018556</td>\n",
       "      <td>0.995391</td>\n",
       "      <td>...</td>\n",
       "      <td>7.17,7.01,3.09,4.04,6.72,2.51,8.52,1.78</td>\n",
       "      <td>8</td>\n",
       "      <td>Sigmoid</td>\n",
       "      <td>0.004039</td>\n",
       "      <td>8.0</td>\n",
       "      <td>-85.131500</td>\n",
       "      <td>6.6008</td>\n",
       "      <td>0.000008</td>\n",
       "      <td>0.0</td>\n",
       "      <td>0.174900</td>\n",
       "    </tr>\n",
       "    <tr>\n",
       "      <th>4552</th>\n",
       "      <td>CVCL_1300|36314</td>\n",
       "      <td>0.0</td>\n",
       "      <td>8.882870</td>\n",
       "      <td>0.812007</td>\n",
       "      <td>0.998790</td>\n",
       "      <td>0.194934</td>\n",
       "      <td>-2.353938</td>\n",
       "      <td>0.251830</td>\n",
       "      <td>0.043379</td>\n",
       "      <td>0.970454</td>\n",
       "      <td>...</td>\n",
       "      <td>18.5,7.36,5.95,2.01,4.28,4.02,10.1,1.49</td>\n",
       "      <td>8</td>\n",
       "      <td>Sigmoid</td>\n",
       "      <td>0.010356</td>\n",
       "      <td>8.0</td>\n",
       "      <td>-79.646904</td>\n",
       "      <td>5.8226</td>\n",
       "      <td>0.000008</td>\n",
       "      <td>0.0</td>\n",
       "      <td>0.272175</td>\n",
       "    </tr>\n",
       "    <tr>\n",
       "      <th>4621</th>\n",
       "      <td>CVCL_1307|36314</td>\n",
       "      <td>0.0</td>\n",
       "      <td>9.335471</td>\n",
       "      <td>0.425417</td>\n",
       "      <td>0.998087</td>\n",
       "      <td>0.226708</td>\n",
       "      <td>-2.066990</td>\n",
       "      <td>0.312417</td>\n",
       "      <td>0.080748</td>\n",
       "      <td>0.887111</td>\n",
       "      <td>...</td>\n",
       "      <td>6.18,.97,1.57,1.04,1.09,7.20,2.18,2.22</td>\n",
       "      <td>8</td>\n",
       "      <td>Sigmoid</td>\n",
       "      <td>0.044096</td>\n",
       "      <td>8.0</td>\n",
       "      <td>-78.225006</td>\n",
       "      <td>5.3262</td>\n",
       "      <td>0.000008</td>\n",
       "      <td>0.0</td>\n",
       "      <td>0.334225</td>\n",
       "    </tr>\n",
       "    <tr>\n",
       "      <th>5441</th>\n",
       "      <td>CVCL_1414|36314</td>\n",
       "      <td>0.0</td>\n",
       "      <td>8.601289</td>\n",
       "      <td>1.262277</td>\n",
       "      <td>0.999702</td>\n",
       "      <td>0.043366</td>\n",
       "      <td>-4.526092</td>\n",
       "      <td>0.108535</td>\n",
       "      <td>0.012305</td>\n",
       "      <td>0.998427</td>\n",
       "      <td>...</td>\n",
       "      <td>24.2,15.5,.86,1.57,1.69,2.47,.66,.11</td>\n",
       "      <td>8</td>\n",
       "      <td>Sigmoid</td>\n",
       "      <td>0.008552</td>\n",
       "      <td>8.0</td>\n",
       "      <td>-95.210388</td>\n",
       "      <td>6.9625</td>\n",
       "      <td>0.000008</td>\n",
       "      <td>0.0</td>\n",
       "      <td>0.129687</td>\n",
       "    </tr>\n",
       "    <tr>\n",
       "      <th>5859</th>\n",
       "      <td>CVCL_1482|36314</td>\n",
       "      <td>0.0</td>\n",
       "      <td>9.032425</td>\n",
       "      <td>0.731211</td>\n",
       "      <td>0.999670</td>\n",
       "      <td>0.123079</td>\n",
       "      <td>-3.008804</td>\n",
       "      <td>0.181568</td>\n",
       "      <td>0.016076</td>\n",
       "      <td>0.996425</td>\n",
       "      <td>...</td>\n",
       "      <td>5.65,13.4,6.46,9.11,2.76,2.33,4.96,6.83</td>\n",
       "      <td>8</td>\n",
       "      <td>Sigmoid</td>\n",
       "      <td>0.009236</td>\n",
       "      <td>8.0</td>\n",
       "      <td>-86.698051</td>\n",
       "      <td>5.9981</td>\n",
       "      <td>0.000008</td>\n",
       "      <td>0.0</td>\n",
       "      <td>0.250238</td>\n",
       "    </tr>\n",
       "    <tr>\n",
       "      <th>6368</th>\n",
       "      <td>CVCL_1537|36314</td>\n",
       "      <td>0.0</td>\n",
       "      <td>8.541930</td>\n",
       "      <td>1.694749</td>\n",
       "      <td>0.995900</td>\n",
       "      <td>0.000100</td>\n",
       "      <td>-13.267021</td>\n",
       "      <td>0.059604</td>\n",
       "      <td>0.486615</td>\n",
       "      <td>0.359054</td>\n",
       "      <td>...</td>\n",
       "      <td>41.9,27.4,2.36,12.2,13.0,49.5,1.64,8.90</td>\n",
       "      <td>8</td>\n",
       "      <td>Sigmoid</td>\n",
       "      <td>0.041482</td>\n",
       "      <td>8.0</td>\n",
       "      <td>-163.244400</td>\n",
       "      <td>2.1174</td>\n",
       "      <td>0.000008</td>\n",
       "      <td>0.0</td>\n",
       "      <td>0.735325</td>\n",
       "    </tr>\n",
       "    <tr>\n",
       "      <th>6836</th>\n",
       "      <td>CVCL_1612|36314</td>\n",
       "      <td>0.0</td>\n",
       "      <td>8.828081</td>\n",
       "      <td>1.020817</td>\n",
       "      <td>1.000073</td>\n",
       "      <td>0.045965</td>\n",
       "      <td>-4.438689</td>\n",
       "      <td>0.099493</td>\n",
       "      <td>0.007329</td>\n",
       "      <td>0.999396</td>\n",
       "      <td>...</td>\n",
       "      <td>2.60,1.90,.25,.68,2.11,1.24,.59,1.97</td>\n",
       "      <td>8</td>\n",
       "      <td>Sigmoid</td>\n",
       "      <td>5.957834</td>\n",
       "      <td>8.0</td>\n",
       "      <td>-95.658211</td>\n",
       "      <td>7.0402</td>\n",
       "      <td>0.000008</td>\n",
       "      <td>0.000006</td>\n",
       "      <td>0.119975</td>\n",
       "    </tr>\n",
       "    <tr>\n",
       "      <th>6938</th>\n",
       "      <td>CVCL_1619|9826528</td>\n",
       "      <td>0.0</td>\n",
       "      <td>8.710419</td>\n",
       "      <td>2.383707</td>\n",
       "      <td>1.000000</td>\n",
       "      <td>0.037943</td>\n",
       "      <td>-4.720031</td>\n",
       "      <td>0.059913</td>\n",
       "      <td>0.002971</td>\n",
       "      <td>0.999906</td>\n",
       "      <td>...</td>\n",
       "      <td>3.20,.30,.25,.021,.10,.020,.018,.13</td>\n",
       "      <td>8</td>\n",
       "      <td>Sigmoid</td>\n",
       "      <td>0.003053</td>\n",
       "      <td>8.0</td>\n",
       "      <td>-96.386536</td>\n",
       "      <td>7.2797</td>\n",
       "      <td>0.000008</td>\n",
       "      <td>0.0</td>\n",
       "      <td>0.090037</td>\n",
       "    </tr>\n",
       "    <tr>\n",
       "      <th>7006</th>\n",
       "      <td>CVCL_1625|6918837</td>\n",
       "      <td>0.0</td>\n",
       "      <td>8.685694</td>\n",
       "      <td>0.968549</td>\n",
       "      <td>0.999643</td>\n",
       "      <td>0.038998</td>\n",
       "      <td>-4.668644</td>\n",
       "      <td>0.113211</td>\n",
       "      <td>0.014990</td>\n",
       "      <td>0.997578</td>\n",
       "      <td>...</td>\n",
       "      <td>30.6,4.87,.11,.30,.63,.094,.79,.43</td>\n",
       "      <td>8</td>\n",
       "      <td>Sigmoid</td>\n",
       "      <td>0.016701</td>\n",
       "      <td>8.0</td>\n",
       "      <td>-95.142639</td>\n",
       "      <td>6.8400</td>\n",
       "      <td>0.000008</td>\n",
       "      <td>0.0</td>\n",
       "      <td>0.145000</td>\n",
       "    </tr>\n",
       "    <tr>\n",
       "      <th>7340</th>\n",
       "      <td>CVCL_1666|36314</td>\n",
       "      <td>0.0</td>\n",
       "      <td>8.723937</td>\n",
       "      <td>0.798918</td>\n",
       "      <td>0.998994</td>\n",
       "      <td>0.020402</td>\n",
       "      <td>-5.530225</td>\n",
       "      <td>0.109345</td>\n",
       "      <td>0.023711</td>\n",
       "      <td>0.994025</td>\n",
       "      <td>...</td>\n",
       "      <td>11.3,2.18,2.69,.84,.63,1.16,.22,1.55</td>\n",
       "      <td>8</td>\n",
       "      <td>Sigmoid</td>\n",
       "      <td>0.01015</td>\n",
       "      <td>8.0</td>\n",
       "      <td>-96.612343</td>\n",
       "      <td>6.9914</td>\n",
       "      <td>0.000008</td>\n",
       "      <td>0.0</td>\n",
       "      <td>0.126075</td>\n",
       "    </tr>\n",
       "    <tr>\n",
       "      <th>7433</th>\n",
       "      <td>CVCL_1679|36314</td>\n",
       "      <td>0.0</td>\n",
       "      <td>8.711548</td>\n",
       "      <td>0.880187</td>\n",
       "      <td>0.997088</td>\n",
       "      <td>0.000100</td>\n",
       "      <td>-10.369494</td>\n",
       "      <td>0.082577</td>\n",
       "      <td>0.039754</td>\n",
       "      <td>0.984690</td>\n",
       "      <td>...</td>\n",
       "      <td>7.78,.33,.73,.34,.15,.32,.21,.14</td>\n",
       "      <td>8</td>\n",
       "      <td>Sigmoid</td>\n",
       "      <td>0.011645</td>\n",
       "      <td>8.0</td>\n",
       "      <td>-100.300980</td>\n",
       "      <td>6.4903</td>\n",
       "      <td>0.000008</td>\n",
       "      <td>0.0</td>\n",
       "      <td>0.188712</td>\n",
       "    </tr>\n",
       "    <tr>\n",
       "      <th>7455</th>\n",
       "      <td>CVCL_1682|36314</td>\n",
       "      <td>0.0</td>\n",
       "      <td>8.602888</td>\n",
       "      <td>1.914676</td>\n",
       "      <td>1.000070</td>\n",
       "      <td>0.060933</td>\n",
       "      <td>-4.036629</td>\n",
       "      <td>0.102947</td>\n",
       "      <td>0.008635</td>\n",
       "      <td>0.999217</td>\n",
       "      <td>...</td>\n",
       "      <td>30.2,4.21,1.15,.22,1.68,.89,.032,3.34</td>\n",
       "      <td>8</td>\n",
       "      <td>Sigmoid</td>\n",
       "      <td>0.003619</td>\n",
       "      <td>8.0</td>\n",
       "      <td>-93.957191</td>\n",
       "      <td>6.8063</td>\n",
       "      <td>0.000008</td>\n",
       "      <td>0.0</td>\n",
       "      <td>0.149212</td>\n",
       "    </tr>\n",
       "    <tr>\n",
       "      <th>7569</th>\n",
       "      <td>CVCL_1694|36314</td>\n",
       "      <td>0.0</td>\n",
       "      <td>8.629667</td>\n",
       "      <td>2.500697</td>\n",
       "      <td>1.000022</td>\n",
       "      <td>0.017661</td>\n",
       "      <td>-5.823306</td>\n",
       "      <td>0.047683</td>\n",
       "      <td>0.006881</td>\n",
       "      <td>0.999541</td>\n",
       "      <td>...</td>\n",
       "      <td>.21,1.06,1.36,.32,.10,.067,.29,.62</td>\n",
       "      <td>8</td>\n",
       "      <td>Sigmoid</td>\n",
       "      <td>4.393366</td>\n",
       "      <td>8.0</td>\n",
       "      <td>-98.255981</td>\n",
       "      <td>7.4525</td>\n",
       "      <td>0.000008</td>\n",
       "      <td>0.000004</td>\n",
       "      <td>0.068438</td>\n",
       "    </tr>\n",
       "    <tr>\n",
       "      <th>8376</th>\n",
       "      <td>CVCL_1805|36314</td>\n",
       "      <td>0.0</td>\n",
       "      <td>8.688059</td>\n",
       "      <td>0.572802</td>\n",
       "      <td>0.999123</td>\n",
       "      <td>0.033374</td>\n",
       "      <td>-4.581394</td>\n",
       "      <td>0.164837</td>\n",
       "      <td>0.016900</td>\n",
       "      <td>0.996710</td>\n",
       "      <td>...</td>\n",
       "      <td>4.59,2.49,8.95,1.43,2.49,5.83,2.39,.20</td>\n",
       "      <td>8</td>\n",
       "      <td>Sigmoid</td>\n",
       "      <td>0.011703</td>\n",
       "      <td>8.0</td>\n",
       "      <td>-94.715057</td>\n",
       "      <td>6.7188</td>\n",
       "      <td>0.000008</td>\n",
       "      <td>0.0</td>\n",
       "      <td>0.160150</td>\n",
       "    </tr>\n",
       "    <tr>\n",
       "      <th>8540</th>\n",
       "      <td>CVCL_1862|36314</td>\n",
       "      <td>0.0</td>\n",
       "      <td>8.678530</td>\n",
       "      <td>1.804973</td>\n",
       "      <td>1.000098</td>\n",
       "      <td>0.013884</td>\n",
       "      <td>-6.170436</td>\n",
       "      <td>0.050902</td>\n",
       "      <td>0.006066</td>\n",
       "      <td>0.999634</td>\n",
       "      <td>...</td>\n",
       "      <td>4.58,1.93,.25,.048,.063,.062,.037,.29</td>\n",
       "      <td>8</td>\n",
       "      <td>Sigmoid</td>\n",
       "      <td>4.855106</td>\n",
       "      <td>8.0</td>\n",
       "      <td>-98.548470</td>\n",
       "      <td>7.3274</td>\n",
       "      <td>0.000008</td>\n",
       "      <td>0.000005</td>\n",
       "      <td>0.084075</td>\n",
       "    </tr>\n",
       "    <tr>\n",
       "      <th>8778</th>\n",
       "      <td>CVCL_2037|36314</td>\n",
       "      <td>0.0</td>\n",
       "      <td>8.766762</td>\n",
       "      <td>0.791407</td>\n",
       "      <td>0.998765</td>\n",
       "      <td>0.024498</td>\n",
       "      <td>-5.281474</td>\n",
       "      <td>0.108855</td>\n",
       "      <td>0.029164</td>\n",
       "      <td>0.990837</td>\n",
       "      <td>...</td>\n",
       "      <td>12.1,1.70,1.90,1.35,1.12,3.37,.79,.069</td>\n",
       "      <td>8</td>\n",
       "      <td>Sigmoid</td>\n",
       "      <td>0.010931</td>\n",
       "      <td>8.0</td>\n",
       "      <td>-95.988358</td>\n",
       "      <td>6.7817</td>\n",
       "      <td>0.000008</td>\n",
       "      <td>0.0</td>\n",
       "      <td>0.152288</td>\n",
       "    </tr>\n",
       "    <tr>\n",
       "      <th>9029</th>\n",
       "      <td>CVCL_2091|36314</td>\n",
       "      <td>0.0</td>\n",
       "      <td>8.648865</td>\n",
       "      <td>0.778613</td>\n",
       "      <td>0.999483</td>\n",
       "      <td>0.009831</td>\n",
       "      <td>-6.439035</td>\n",
       "      <td>0.112252</td>\n",
       "      <td>0.011817</td>\n",
       "      <td>0.998557</td>\n",
       "      <td>...</td>\n",
       "      <td>5.40,7.98,.058,1.17,.59,.088,.31,.39</td>\n",
       "      <td>8</td>\n",
       "      <td>Sigmoid</td>\n",
       "      <td>0.005522</td>\n",
       "      <td>8.0</td>\n",
       "      <td>-98.541519</td>\n",
       "      <td>7.0551</td>\n",
       "      <td>0.000008</td>\n",
       "      <td>0.0</td>\n",
       "      <td>0.118112</td>\n",
       "    </tr>\n",
       "    <tr>\n",
       "      <th>9237</th>\n",
       "      <td>CVCL_2218|36314</td>\n",
       "      <td>0.0</td>\n",
       "      <td>9.252435</td>\n",
       "      <td>0.656775</td>\n",
       "      <td>0.999651</td>\n",
       "      <td>0.112292</td>\n",
       "      <td>-3.133600</td>\n",
       "      <td>0.165166</td>\n",
       "      <td>0.024141</td>\n",
       "      <td>0.992050</td>\n",
       "      <td>...</td>\n",
       "      <td>4.08,3.29,.0019,.22,3.63,.32,.25,8.26</td>\n",
       "      <td>8</td>\n",
       "      <td>Sigmoid</td>\n",
       "      <td>0.011632</td>\n",
       "      <td>8.0</td>\n",
       "      <td>-88.158577</td>\n",
       "      <td>6.6567</td>\n",
       "      <td>0.000008</td>\n",
       "      <td>0.0</td>\n",
       "      <td>0.167913</td>\n",
       "    </tr>\n",
       "    <tr>\n",
       "      <th>9395</th>\n",
       "      <td>CVCL_2661|36314</td>\n",
       "      <td>0.0</td>\n",
       "      <td>8.777224</td>\n",
       "      <td>1.131124</td>\n",
       "      <td>1.000245</td>\n",
       "      <td>0.112701</td>\n",
       "      <td>-3.148646</td>\n",
       "      <td>0.160413</td>\n",
       "      <td>0.014503</td>\n",
       "      <td>0.997310</td>\n",
       "      <td>...</td>\n",
       "      <td>1.12,1.01,1.58,5.39,2.45,3.23,3.85,1.08</td>\n",
       "      <td>8</td>\n",
       "      <td>Sigmoid</td>\n",
       "      <td>5.609636</td>\n",
       "      <td>8.0</td>\n",
       "      <td>-88.828239</td>\n",
       "      <td>6.2262</td>\n",
       "      <td>0.000008</td>\n",
       "      <td>0.000006</td>\n",
       "      <td>0.221725</td>\n",
       "    </tr>\n",
       "    <tr>\n",
       "      <th>9695</th>\n",
       "      <td>CVCL_2891|36314</td>\n",
       "      <td>0.0</td>\n",
       "      <td>8.874920</td>\n",
       "      <td>0.577189</td>\n",
       "      <td>0.997794</td>\n",
       "      <td>0.135821</td>\n",
       "      <td>-2.821428</td>\n",
       "      <td>0.232335</td>\n",
       "      <td>0.045573</td>\n",
       "      <td>0.970422</td>\n",
       "      <td>...</td>\n",
       "      <td>7.53,6.22,8.02,4.82,1.57,1.42,4.14,2.98</td>\n",
       "      <td>8</td>\n",
       "      <td>Sigmoid</td>\n",
       "      <td>0.020003</td>\n",
       "      <td>8.0</td>\n",
       "      <td>-83.821991</td>\n",
       "      <td>5.7392</td>\n",
       "      <td>0.000008</td>\n",
       "      <td>0.0</td>\n",
       "      <td>0.282600</td>\n",
       "    </tr>\n",
       "    <tr>\n",
       "      <th>10046</th>\n",
       "      <td>CVCL_2981|36314</td>\n",
       "      <td>0.0</td>\n",
       "      <td>8.894963</td>\n",
       "      <td>0.811170</td>\n",
       "      <td>1.000349</td>\n",
       "      <td>0.120550</td>\n",
       "      <td>-3.043589</td>\n",
       "      <td>0.181793</td>\n",
       "      <td>0.017027</td>\n",
       "      <td>0.996094</td>\n",
       "      <td>...</td>\n",
       "      <td>.74,4.99,1.90,2.17,4.96,1.25,1.78,1.19</td>\n",
       "      <td>8</td>\n",
       "      <td>Sigmoid</td>\n",
       "      <td>6.063912</td>\n",
       "      <td>8.0</td>\n",
       "      <td>-88.266571</td>\n",
       "      <td>6.5537</td>\n",
       "      <td>0.000008</td>\n",
       "      <td>0.000006</td>\n",
       "      <td>0.180787</td>\n",
       "    </tr>\n",
       "    <tr>\n",
       "      <th>10116</th>\n",
       "      <td>CVCL_2989|36314</td>\n",
       "      <td>0.0</td>\n",
       "      <td>8.885951</td>\n",
       "      <td>1.672600</td>\n",
       "      <td>1.000014</td>\n",
       "      <td>0.038340</td>\n",
       "      <td>-4.704997</td>\n",
       "      <td>0.058928</td>\n",
       "      <td>0.005653</td>\n",
       "      <td>0.999645</td>\n",
       "      <td>...</td>\n",
       "      <td>11.9,.17,.29,.37,.011,.21,2.05,1.03</td>\n",
       "      <td>8</td>\n",
       "      <td>Sigmoid</td>\n",
       "      <td>0.003432</td>\n",
       "      <td>8.0</td>\n",
       "      <td>-96.010490</td>\n",
       "      <td>7.4167</td>\n",
       "      <td>0.000008</td>\n",
       "      <td>0.0</td>\n",
       "      <td>0.072913</td>\n",
       "    </tr>\n",
       "    <tr>\n",
       "      <th>10302</th>\n",
       "      <td>CVCL_3015|36314</td>\n",
       "      <td>0.0</td>\n",
       "      <td>8.825756</td>\n",
       "      <td>1.039008</td>\n",
       "      <td>1.000288</td>\n",
       "      <td>0.153602</td>\n",
       "      <td>-2.701673</td>\n",
       "      <td>0.200128</td>\n",
       "      <td>0.021067</td>\n",
       "      <td>0.993708</td>\n",
       "      <td>...</td>\n",
       "      <td>.34,2.00,2.59,2.88,.30,1.33,.14,2.25</td>\n",
       "      <td>8</td>\n",
       "      <td>Sigmoid</td>\n",
       "      <td>5.944795</td>\n",
       "      <td>8.0</td>\n",
       "      <td>-84.654182</td>\n",
       "      <td>6.1904</td>\n",
       "      <td>0.000008</td>\n",
       "      <td>0.000006</td>\n",
       "      <td>0.226200</td>\n",
       "    </tr>\n",
       "    <tr>\n",
       "      <th>10606</th>\n",
       "      <td>CVCL_3326|36314</td>\n",
       "      <td>0.0</td>\n",
       "      <td>8.757858</td>\n",
       "      <td>1.270668</td>\n",
       "      <td>1.000102</td>\n",
       "      <td>0.033941</td>\n",
       "      <td>-4.879894</td>\n",
       "      <td>0.080194</td>\n",
       "      <td>0.007159</td>\n",
       "      <td>0.999450</td>\n",
       "      <td>...</td>\n",
       "      <td>20.3,2.61,.043,.54,.55,.83,2.12,.92</td>\n",
       "      <td>8</td>\n",
       "      <td>Sigmoid</td>\n",
       "      <td>5.86455</td>\n",
       "      <td>8.0</td>\n",
       "      <td>-96.843704</td>\n",
       "      <td>7.1858</td>\n",
       "      <td>0.000008</td>\n",
       "      <td>0.000006</td>\n",
       "      <td>0.101775</td>\n",
       "    </tr>\n",
       "    <tr>\n",
       "      <th>10629</th>\n",
       "      <td>CVCL_3360|36314</td>\n",
       "      <td>0.0</td>\n",
       "      <td>9.182584</td>\n",
       "      <td>0.695188</td>\n",
       "      <td>1.000018</td>\n",
       "      <td>0.048668</td>\n",
       "      <td>-4.320763</td>\n",
       "      <td>0.104849</td>\n",
       "      <td>0.009683</td>\n",
       "      <td>0.998886</td>\n",
       "      <td>...</td>\n",
       "      <td>1.15,.78,.68,.46,.54,.18,.64,1.93</td>\n",
       "      <td>8</td>\n",
       "      <td>Sigmoid</td>\n",
       "      <td>6.243742</td>\n",
       "      <td>8.0</td>\n",
       "      <td>-94.871223</td>\n",
       "      <td>6.9967</td>\n",
       "      <td>0.000008</td>\n",
       "      <td>0.000006</td>\n",
       "      <td>0.125413</td>\n",
       "    </tr>\n",
       "    <tr>\n",
       "      <th>10653</th>\n",
       "      <td>CVCL_3371|36314</td>\n",
       "      <td>0.0</td>\n",
       "      <td>8.700321</td>\n",
       "      <td>1.275674</td>\n",
       "      <td>1.000355</td>\n",
       "      <td>0.031994</td>\n",
       "      <td>-4.964963</td>\n",
       "      <td>0.084587</td>\n",
       "      <td>0.010518</td>\n",
       "      <td>0.998839</td>\n",
       "      <td>...</td>\n",
       "      <td>10.4,1.25,2.12,.41,.21,.72,.46,.17</td>\n",
       "      <td>8</td>\n",
       "      <td>Sigmoid</td>\n",
       "      <td>5.544074</td>\n",
       "      <td>8.0</td>\n",
       "      <td>-97.093025</td>\n",
       "      <td>7.1474</td>\n",
       "      <td>0.000008</td>\n",
       "      <td>0.000006</td>\n",
       "      <td>0.106575</td>\n",
       "    </tr>\n",
       "  </tbody>\n",
       "</table>\n",
       "<p>40 rows × 39 columns</p>\n",
       "</div>"
      ],
      "text/plain": [
       "                    Name  SignalQuality  pEC50_curvecurator     Slope  \\\n",
       "207      CVCL_0031|36314            0.0            9.353200  0.570348   \n",
       "414      CVCL_0065|36314            0.0            8.797697  1.005055   \n",
       "529      CVCL_0080|36314            0.0            8.545618  2.594891   \n",
       "762      CVCL_0153|36314            0.0            9.055977  0.620098   \n",
       "1263     CVCL_0332|36314            0.0            8.594807  0.900011   \n",
       "1492     CVCL_0379|36314            0.0            8.710209  0.946420   \n",
       "1607     CVCL_0419|36314            0.0            8.840593  1.211403   \n",
       "1703     CVCL_0434|36314            0.0            8.974938  0.753060   \n",
       "1913     CVCL_0505|36314            0.0            9.048649  0.476759   \n",
       "1960     CVCL_0525|36314            0.0            8.807955  0.488096   \n",
       "3049     CVCL_1052|36314            0.0            9.175035  0.711466   \n",
       "3687     CVCL_1170|36314            0.0            8.800794  1.598839   \n",
       "4343     CVCL_1273|36314            0.0            8.954752  1.283737   \n",
       "4363     CVCL_1279|36314            0.0            8.688460  2.445725   \n",
       "4458     CVCL_1290|36314            0.0            8.673890  3.325580   \n",
       "4552     CVCL_1300|36314            0.0            8.882870  0.812007   \n",
       "4621     CVCL_1307|36314            0.0            9.335471  0.425417   \n",
       "5441     CVCL_1414|36314            0.0            8.601289  1.262277   \n",
       "5859     CVCL_1482|36314            0.0            9.032425  0.731211   \n",
       "6368     CVCL_1537|36314            0.0            8.541930  1.694749   \n",
       "6836     CVCL_1612|36314            0.0            8.828081  1.020817   \n",
       "6938   CVCL_1619|9826528            0.0            8.710419  2.383707   \n",
       "7006   CVCL_1625|6918837            0.0            8.685694  0.968549   \n",
       "7340     CVCL_1666|36314            0.0            8.723937  0.798918   \n",
       "7433     CVCL_1679|36314            0.0            8.711548  0.880187   \n",
       "7455     CVCL_1682|36314            0.0            8.602888  1.914676   \n",
       "7569     CVCL_1694|36314            0.0            8.629667  2.500697   \n",
       "8376     CVCL_1805|36314            0.0            8.688059  0.572802   \n",
       "8540     CVCL_1862|36314            0.0            8.678530  1.804973   \n",
       "8778     CVCL_2037|36314            0.0            8.766762  0.791407   \n",
       "9029     CVCL_2091|36314            0.0            8.648865  0.778613   \n",
       "9237     CVCL_2218|36314            0.0            9.252435  0.656775   \n",
       "9395     CVCL_2661|36314            0.0            8.777224  1.131124   \n",
       "9695     CVCL_2891|36314            0.0            8.874920  0.577189   \n",
       "10046    CVCL_2981|36314            0.0            8.894963  0.811170   \n",
       "10116    CVCL_2989|36314            0.0            8.885951  1.672600   \n",
       "10302    CVCL_3015|36314            0.0            8.825756  1.039008   \n",
       "10606    CVCL_3326|36314            0.0            8.757858  1.270668   \n",
       "10629    CVCL_3360|36314            0.0            9.182584  0.695188   \n",
       "10653    CVCL_3371|36314            0.0            8.700321  1.275674   \n",
       "\n",
       "          Front      Back  FoldChange  AUC_curvecurator      RMSE        R2  \\\n",
       "207    0.997983  0.014835   -5.756730          0.081727  0.115612  0.868005   \n",
       "414    0.999871  0.021655   -5.516799          0.080985  0.004693  0.999765   \n",
       "529    1.000032  0.039271   -4.670380          0.079454  0.003975  0.999852   \n",
       "762    1.000007  0.098289   -3.301295          0.173457  0.013050  0.997729   \n",
       "1263   0.998208  0.026455   -5.203146          0.120097  0.018970  0.996272   \n",
       "1492   0.998694  0.007903   -6.916143          0.083376  0.023592  0.994335   \n",
       "1607   0.999756  0.187582   -2.414224          0.222038  0.023471  0.991544   \n",
       "1703   1.000350  0.177105   -2.489299          0.233999  0.024099  0.990994   \n",
       "1913   0.998798  0.106670   -3.081043          0.214431  0.030718  0.986681   \n",
       "1960   0.998511  0.126499   -2.838996          0.252408  0.039688  0.977144   \n",
       "3049   0.999722  0.055794   -4.133486          0.109857  0.017793  0.996198   \n",
       "3687   0.999944  0.038377   -4.703586          0.067647  0.009256  0.999064   \n",
       "4343   0.999947  0.108951   -3.198113          0.134921  0.019338  0.995145   \n",
       "4363   0.999957  0.177055   -2.497730          0.197031  0.034108  0.983521   \n",
       "4458   0.999996  0.148513   -2.751340          0.162962  0.018556  0.995391   \n",
       "4552   0.998790  0.194934   -2.353938          0.251830  0.043379  0.970454   \n",
       "4621   0.998087  0.226708   -2.066990          0.312417  0.080748  0.887111   \n",
       "5441   0.999702  0.043366   -4.526092          0.108535  0.012305  0.998427   \n",
       "5859   0.999670  0.123079   -3.008804          0.181568  0.016076  0.996425   \n",
       "6368   0.995900  0.000100  -13.267021          0.059604  0.486615  0.359054   \n",
       "6836   1.000073  0.045965   -4.438689          0.099493  0.007329  0.999396   \n",
       "6938   1.000000  0.037943   -4.720031          0.059913  0.002971  0.999906   \n",
       "7006   0.999643  0.038998   -4.668644          0.113211  0.014990  0.997578   \n",
       "7340   0.998994  0.020402   -5.530225          0.109345  0.023711  0.994025   \n",
       "7433   0.997088  0.000100  -10.369494          0.082577  0.039754  0.984690   \n",
       "7455   1.000070  0.060933   -4.036629          0.102947  0.008635  0.999217   \n",
       "7569   1.000022  0.017661   -5.823306          0.047683  0.006881  0.999541   \n",
       "8376   0.999123  0.033374   -4.581394          0.164837  0.016900  0.996710   \n",
       "8540   1.000098  0.013884   -6.170436          0.050902  0.006066  0.999634   \n",
       "8778   0.998765  0.024498   -5.281474          0.108855  0.029164  0.990837   \n",
       "9029   0.999483  0.009831   -6.439035          0.112252  0.011817  0.998557   \n",
       "9237   0.999651  0.112292   -3.133600          0.165166  0.024141  0.992050   \n",
       "9395   1.000245  0.112701   -3.148646          0.160413  0.014503  0.997310   \n",
       "9695   0.997794  0.135821   -2.821428          0.232335  0.045573  0.970422   \n",
       "10046  1.000349  0.120550   -3.043589          0.181793  0.017027  0.996094   \n",
       "10116  1.000014  0.038340   -4.704997          0.058928  0.005653  0.999645   \n",
       "10302  1.000288  0.153602   -2.701673          0.200128  0.021067  0.993708   \n",
       "10606  1.000102  0.033941   -4.879894          0.080194  0.007159  0.999450   \n",
       "10629  1.000018  0.048668   -4.320763          0.104849  0.009683  0.998886   \n",
       "10653  1.000355  0.031994   -4.964963          0.084587  0.010518  0.998839   \n",
       "\n",
       "       ...                              Activity SD  Num Data  FitType  \\\n",
       "207    ...  4.19,6.21,7.29,23.8,1.69,19.4,21.3,13.7         8  Sigmoid   \n",
       "414    ...     2.00,2.18,1.16,.67,.16,.23,.78,.0025         8  Sigmoid   \n",
       "529    ...       36.7,3.12,.61,.16,1.02,.46,.25,.81         8  Sigmoid   \n",
       "762    ...  2.26,8.71,4.55,1.22,2.98,1.42,1.22,2.87         8  Sigmoid   \n",
       "1263   ...     12.9,1.15,1.07,.68,.13,.30,1.61,1.36         8  Sigmoid   \n",
       "1492   ...       9.42,3.61,.18,.50,.24,1.27,.30,.15         8  Sigmoid   \n",
       "1607   ...   5.75,1.75,.75,2.43,6.00,4.26,2.62,3.28         8  Sigmoid   \n",
       "1703   ...   21.0,.63,1.63,1.04,1.17,7.42,1.02,3.74         8  Sigmoid   \n",
       "1913   ...  28.4,8.06,4.40,2.78,1.24,3.80,4.22,4.11         8  Sigmoid   \n",
       "1960   ...    15.8,2.32,.37,4.31,2.54,1.00,1.03,.46         8  Sigmoid   \n",
       "3049   ...    20.1,7.91,1.49,1.14,.24,.043,.80,3.12         8  Sigmoid   \n",
       "3687   ...    15.0,1.15,.75,.049,.40,1.84,1.34,2.49         8  Sigmoid   \n",
       "4343   ...    3.60,.92,2.54,1.05,2.07,.36,1.37,1.36         8  Sigmoid   \n",
       "4363   ...    6.28,1.22,.024,.39,.093,1.77,.091,.41         8  Sigmoid   \n",
       "4458   ...  7.17,7.01,3.09,4.04,6.72,2.51,8.52,1.78         8  Sigmoid   \n",
       "4552   ...  18.5,7.36,5.95,2.01,4.28,4.02,10.1,1.49         8  Sigmoid   \n",
       "4621   ...   6.18,.97,1.57,1.04,1.09,7.20,2.18,2.22         8  Sigmoid   \n",
       "5441   ...     24.2,15.5,.86,1.57,1.69,2.47,.66,.11         8  Sigmoid   \n",
       "5859   ...  5.65,13.4,6.46,9.11,2.76,2.33,4.96,6.83         8  Sigmoid   \n",
       "6368   ...  41.9,27.4,2.36,12.2,13.0,49.5,1.64,8.90         8  Sigmoid   \n",
       "6836   ...     2.60,1.90,.25,.68,2.11,1.24,.59,1.97         8  Sigmoid   \n",
       "6938   ...      3.20,.30,.25,.021,.10,.020,.018,.13         8  Sigmoid   \n",
       "7006   ...       30.6,4.87,.11,.30,.63,.094,.79,.43         8  Sigmoid   \n",
       "7340   ...     11.3,2.18,2.69,.84,.63,1.16,.22,1.55         8  Sigmoid   \n",
       "7433   ...         7.78,.33,.73,.34,.15,.32,.21,.14         8  Sigmoid   \n",
       "7455   ...    30.2,4.21,1.15,.22,1.68,.89,.032,3.34         8  Sigmoid   \n",
       "7569   ...       .21,1.06,1.36,.32,.10,.067,.29,.62         8  Sigmoid   \n",
       "8376   ...   4.59,2.49,8.95,1.43,2.49,5.83,2.39,.20         8  Sigmoid   \n",
       "8540   ...    4.58,1.93,.25,.048,.063,.062,.037,.29         8  Sigmoid   \n",
       "8778   ...   12.1,1.70,1.90,1.35,1.12,3.37,.79,.069         8  Sigmoid   \n",
       "9029   ...     5.40,7.98,.058,1.17,.59,.088,.31,.39         8  Sigmoid   \n",
       "9237   ...    4.08,3.29,.0019,.22,3.63,.32,.25,8.26         8  Sigmoid   \n",
       "9395   ...  1.12,1.01,1.58,5.39,2.45,3.23,3.85,1.08         8  Sigmoid   \n",
       "9695   ...  7.53,6.22,8.02,4.82,1.57,1.42,4.14,2.98         8  Sigmoid   \n",
       "10046  ...   .74,4.99,1.90,2.17,4.96,1.25,1.78,1.19         8  Sigmoid   \n",
       "10116  ...      11.9,.17,.29,.37,.011,.21,2.05,1.03         8  Sigmoid   \n",
       "10302  ...     .34,2.00,2.59,2.88,.30,1.33,.14,2.25         8  Sigmoid   \n",
       "10606  ...      20.3,2.61,.043,.54,.55,.83,2.12,.92         8  Sigmoid   \n",
       "10629  ...        1.15,.78,.68,.46,.54,.18,.64,1.93         8  Sigmoid   \n",
       "10653  ...       10.4,1.25,2.12,.41,.21,.72,.46,.17         8  Sigmoid   \n",
       "\n",
       "       EC50 (µM)  IC50 (µM)        Amax ActArea      IC50      EC50       AUC  \n",
       "207     0.018154        8.0  -98.355804  3.7399  0.000008       0.0  0.532512  \n",
       "414     0.002751        8.0  -97.732346  7.2847  0.000008       0.0  0.089413  \n",
       "529     5.060275        8.0  -96.183815  7.0239  0.000008  0.000005  0.122012  \n",
       "762     0.003602        8.0  -89.792152  6.7040  0.000008       0.0  0.162000  \n",
       "1263    0.012234        8.0  -96.140671  6.8292  0.000008       0.0  0.146350  \n",
       "1492    0.008656        8.0  -98.119377  7.1048  0.000008       0.0  0.111900  \n",
       "1607    0.005765        8.0  -81.029770  6.0750  0.000008       0.0  0.240625  \n",
       "1703    6.783455        8.0  -82.758080  5.8234  0.000008  0.000007  0.272075  \n",
       "1913    0.026808        8.0  -83.733665  6.0950  0.000008       0.0  0.238125  \n",
       "1960    0.038306        8.0  -83.542999  4.9680  0.000008       0.0  0.379000  \n",
       "3049    0.010662        8.0  -93.133644  6.9527  0.000008       0.0  0.130912  \n",
       "3687    0.006233        8.0  -95.999443  7.3422  0.000008       0.0  0.082225  \n",
       "4343     0.00423        8.0  -89.259590  6.7594  0.000008       0.0  0.155075  \n",
       "4363    0.005133        8.0  -82.159210  6.2021  0.000008       0.0  0.224738  \n",
       "4458    0.004039        8.0  -85.131500  6.6008  0.000008       0.0  0.174900  \n",
       "4552    0.010356        8.0  -79.646904  5.8226  0.000008       0.0  0.272175  \n",
       "4621    0.044096        8.0  -78.225006  5.3262  0.000008       0.0  0.334225  \n",
       "5441    0.008552        8.0  -95.210388  6.9625  0.000008       0.0  0.129687  \n",
       "5859    0.009236        8.0  -86.698051  5.9981  0.000008       0.0  0.250238  \n",
       "6368    0.041482        8.0 -163.244400  2.1174  0.000008       0.0  0.735325  \n",
       "6836    5.957834        8.0  -95.658211  7.0402  0.000008  0.000006  0.119975  \n",
       "6938    0.003053        8.0  -96.386536  7.2797  0.000008       0.0  0.090037  \n",
       "7006    0.016701        8.0  -95.142639  6.8400  0.000008       0.0  0.145000  \n",
       "7340     0.01015        8.0  -96.612343  6.9914  0.000008       0.0  0.126075  \n",
       "7433    0.011645        8.0 -100.300980  6.4903  0.000008       0.0  0.188712  \n",
       "7455    0.003619        8.0  -93.957191  6.8063  0.000008       0.0  0.149212  \n",
       "7569    4.393366        8.0  -98.255981  7.4525  0.000008  0.000004  0.068438  \n",
       "8376    0.011703        8.0  -94.715057  6.7188  0.000008       0.0  0.160150  \n",
       "8540    4.855106        8.0  -98.548470  7.3274  0.000008  0.000005  0.084075  \n",
       "8778    0.010931        8.0  -95.988358  6.7817  0.000008       0.0  0.152288  \n",
       "9029    0.005522        8.0  -98.541519  7.0551  0.000008       0.0  0.118112  \n",
       "9237    0.011632        8.0  -88.158577  6.6567  0.000008       0.0  0.167913  \n",
       "9395    5.609636        8.0  -88.828239  6.2262  0.000008  0.000006  0.221725  \n",
       "9695    0.020003        8.0  -83.821991  5.7392  0.000008       0.0  0.282600  \n",
       "10046   6.063912        8.0  -88.266571  6.5537  0.000008  0.000006  0.180787  \n",
       "10116   0.003432        8.0  -96.010490  7.4167  0.000008       0.0  0.072913  \n",
       "10302   5.944795        8.0  -84.654182  6.1904  0.000008  0.000006  0.226200  \n",
       "10606    5.86455        8.0  -96.843704  7.1858  0.000008  0.000006  0.101775  \n",
       "10629   6.243742        8.0  -94.871223  6.9967  0.000008  0.000006  0.125413  \n",
       "10653   5.544074        8.0  -97.093025  7.1474  0.000008  0.000006  0.106575  \n",
       "\n",
       "[40 rows x 39 columns]"
      ]
     },
     "execution_count": 126,
     "metadata": {},
     "output_type": "execute_result"
    }
   ],
   "source": [
    "mapped_response_df.query(\"IC50_curvecurator<3*1e-9\").query(\"IC50 > 1e-6\")"
   ]
  },
  {
   "cell_type": "code",
   "execution_count": 115,
   "id": "06e3f03c-41b9-456f-a94b-7bc809c3ae9a",
   "metadata": {},
   "outputs": [],
   "source": [
    "mapped_response_df.to_csv(\"CCLE_for_drevalpy.csv\")"
   ]
  },
  {
   "cell_type": "markdown",
   "source": [
    "## Final tweaks\n",
    "- Change the following cell line IDs: \n",
    "    - C32: CVCL_ZA06 -> CVCL_1097\n",
    "    - MB 157: CVCL_0618_CCLE -> CVCL_0618\n",
    "- Set EC50s outside the measured range to NaN\n",
    "    - min measured dosis: 0.0025 uM -> -log10(10^(-6) * 0.0025) = 8.60206\n",
    "    - max measured dosis: 8 uM -> -log10(10^(-6) * 8) = 5.09691\n",
    "- Set IC50s outside 10*max/10**-1 min measured range to NaN\n",
    "- Add min/max dosages to the dataframe"
   ],
   "metadata": {
    "collapsed": false
   },
   "id": "33a1cd26253277fa"
  },
  {
   "cell_type": "code",
   "execution_count": 2,
   "outputs": [
    {
     "data": {
      "text/plain": "                     Name  SignalQuality  pEC50_curvecurator      Slope  \\\n0      CVCL_0031|11656518            0.0            6.380385   3.812538   \n1      CVCL_0069|24180719            0.0            3.596879   0.682323   \n2      CVCL_0007|10127622            0.0            5.381694   1.694135   \n3      CVCL_0007|10302451            0.0            8.347859  10.000000   \n4      CVCL_0007|10461815            0.0            5.117873   2.075958   \n...                   ...            ...                 ...        ...   \n11665  CVCL_1347|24180719            0.0            5.169925   1.141174   \n11666   CVCL_1347|3081361            0.0            5.951310   1.963708   \n11667     CVCL_1347|36314            0.0            9.602060  10.000000   \n11668     CVCL_1347|60700            0.0            6.676038   0.805015   \n11669   CVCL_1347|6505803            0.0            6.159765   2.217223   \n\n          Front      Back  FoldChange  AUC_curvecurator      RMSE        R2  \\\n0      1.085608  0.767838   -0.380512          1.002747  0.079078  0.730258   \n1      0.944934  6.483646    0.231717          0.994082  0.083130  0.445913   \n2      0.922372  0.613620   -0.535126          0.890860  0.036605  0.804497   \n3      0.945071  1.006109    0.008787          1.001681  0.063080  0.138848   \n4      1.015333  0.000100   -1.051984          0.970221  0.065419  0.865978   \n...         ...       ...         ...               ...       ...       ...   \n11665  0.981017  0.000100   -1.172495          0.862998  0.034680  0.966734   \n11666  1.025005  0.187985   -2.284892          0.738040  0.031100  0.991081   \n11667  1.000000  0.345000   -1.535332          0.345000  0.036936  0.974688   \n11668  1.029543  0.222603   -1.923467          0.540538  0.065302  0.946601   \n11669  1.037807  0.228768   -2.105865          0.694320  0.026570  0.993984   \n\n       ...   FitType  EC50 (µM)  IC50 (µM)       Amax  ActArea          IC50  \\\n0      ...  Constant        NaN   2.531646  -0.857280  0.01511  2.531646e-06   \n1      ...    Linear        NaN   2.531646 -21.457716  0.44250  2.531646e-06   \n2      ...   Sigmoid   2.234367   8.000000 -41.782055  1.14030  8.000000e-06   \n3      ...    Linear        NaN   8.000000 -22.127462  0.57930  8.000000e-06   \n4      ...   Sigmoid   8.316470   8.000000 -38.214069  0.77960  8.000000e-06   \n...    ...       ...        ...        ...        ...      ...           ...   \n11665  ...   Sigmoid   8.634032   6.805239 -56.326820  0.41870  6.805239e-06   \n11666  ...   Sigmoid   1.104251   1.448931 -79.231400  1.28400  1.448931e-06   \n11667  ...  Constant        NaN   0.025390 -65.860992  3.53970  2.538952e-08   \n11668  ...    Linear        NaN   1.071993 -77.443932  2.39750  1.071993e-06   \n11669  ...   Sigmoid   0.685912   0.961978 -77.785461  1.69010  9.619783e-07   \n\n               EC50       AUC    min_dose_M  max_dose_M  \n0               NaN  0.998111  2.500000e-09    0.000008  \n1               NaN  0.944688  2.500000e-09    0.000008  \n2      2.234367e-06  0.857463  2.500000e-09    0.000008  \n3               NaN  0.927588  2.500000e-09    0.000008  \n4      8.316470e-06  0.902550  2.500000e-09    0.000008  \n...             ...       ...           ...         ...  \n11665  8.634032e-06  0.947662  2.500000e-09    0.000008  \n11666  1.104251e-06  0.839500  2.500000e-09    0.000008  \n11667           NaN  0.557538  2.500000e-09    0.000008  \n11668           NaN  0.700313  2.500000e-09    0.000008  \n11669  6.859120e-07  0.788737  2.500000e-09    0.000008  \n\n[11670 rows x 41 columns]",
      "text/html": "<div>\n<style scoped>\n    .dataframe tbody tr th:only-of-type {\n        vertical-align: middle;\n    }\n\n    .dataframe tbody tr th {\n        vertical-align: top;\n    }\n\n    .dataframe thead th {\n        text-align: right;\n    }\n</style>\n<table border=\"1\" class=\"dataframe\">\n  <thead>\n    <tr style=\"text-align: right;\">\n      <th></th>\n      <th>Name</th>\n      <th>SignalQuality</th>\n      <th>pEC50_curvecurator</th>\n      <th>Slope</th>\n      <th>Front</th>\n      <th>Back</th>\n      <th>FoldChange</th>\n      <th>AUC_curvecurator</th>\n      <th>RMSE</th>\n      <th>R2</th>\n      <th>...</th>\n      <th>FitType</th>\n      <th>EC50 (µM)</th>\n      <th>IC50 (µM)</th>\n      <th>Amax</th>\n      <th>ActArea</th>\n      <th>IC50</th>\n      <th>EC50</th>\n      <th>AUC</th>\n      <th>min_dose_M</th>\n      <th>max_dose_M</th>\n    </tr>\n  </thead>\n  <tbody>\n    <tr>\n      <th>0</th>\n      <td>CVCL_0031|11656518</td>\n      <td>0.0</td>\n      <td>6.380385</td>\n      <td>3.812538</td>\n      <td>1.085608</td>\n      <td>0.767838</td>\n      <td>-0.380512</td>\n      <td>1.002747</td>\n      <td>0.079078</td>\n      <td>0.730258</td>\n      <td>...</td>\n      <td>Constant</td>\n      <td>NaN</td>\n      <td>2.531646</td>\n      <td>-0.857280</td>\n      <td>0.01511</td>\n      <td>2.531646e-06</td>\n      <td>NaN</td>\n      <td>0.998111</td>\n      <td>2.500000e-09</td>\n      <td>0.000008</td>\n    </tr>\n    <tr>\n      <th>1</th>\n      <td>CVCL_0069|24180719</td>\n      <td>0.0</td>\n      <td>3.596879</td>\n      <td>0.682323</td>\n      <td>0.944934</td>\n      <td>6.483646</td>\n      <td>0.231717</td>\n      <td>0.994082</td>\n      <td>0.083130</td>\n      <td>0.445913</td>\n      <td>...</td>\n      <td>Linear</td>\n      <td>NaN</td>\n      <td>2.531646</td>\n      <td>-21.457716</td>\n      <td>0.44250</td>\n      <td>2.531646e-06</td>\n      <td>NaN</td>\n      <td>0.944688</td>\n      <td>2.500000e-09</td>\n      <td>0.000008</td>\n    </tr>\n    <tr>\n      <th>2</th>\n      <td>CVCL_0007|10127622</td>\n      <td>0.0</td>\n      <td>5.381694</td>\n      <td>1.694135</td>\n      <td>0.922372</td>\n      <td>0.613620</td>\n      <td>-0.535126</td>\n      <td>0.890860</td>\n      <td>0.036605</td>\n      <td>0.804497</td>\n      <td>...</td>\n      <td>Sigmoid</td>\n      <td>2.234367</td>\n      <td>8.000000</td>\n      <td>-41.782055</td>\n      <td>1.14030</td>\n      <td>8.000000e-06</td>\n      <td>2.234367e-06</td>\n      <td>0.857463</td>\n      <td>2.500000e-09</td>\n      <td>0.000008</td>\n    </tr>\n    <tr>\n      <th>3</th>\n      <td>CVCL_0007|10302451</td>\n      <td>0.0</td>\n      <td>8.347859</td>\n      <td>10.000000</td>\n      <td>0.945071</td>\n      <td>1.006109</td>\n      <td>0.008787</td>\n      <td>1.001681</td>\n      <td>0.063080</td>\n      <td>0.138848</td>\n      <td>...</td>\n      <td>Linear</td>\n      <td>NaN</td>\n      <td>8.000000</td>\n      <td>-22.127462</td>\n      <td>0.57930</td>\n      <td>8.000000e-06</td>\n      <td>NaN</td>\n      <td>0.927588</td>\n      <td>2.500000e-09</td>\n      <td>0.000008</td>\n    </tr>\n    <tr>\n      <th>4</th>\n      <td>CVCL_0007|10461815</td>\n      <td>0.0</td>\n      <td>5.117873</td>\n      <td>2.075958</td>\n      <td>1.015333</td>\n      <td>0.000100</td>\n      <td>-1.051984</td>\n      <td>0.970221</td>\n      <td>0.065419</td>\n      <td>0.865978</td>\n      <td>...</td>\n      <td>Sigmoid</td>\n      <td>8.316470</td>\n      <td>8.000000</td>\n      <td>-38.214069</td>\n      <td>0.77960</td>\n      <td>8.000000e-06</td>\n      <td>8.316470e-06</td>\n      <td>0.902550</td>\n      <td>2.500000e-09</td>\n      <td>0.000008</td>\n    </tr>\n    <tr>\n      <th>...</th>\n      <td>...</td>\n      <td>...</td>\n      <td>...</td>\n      <td>...</td>\n      <td>...</td>\n      <td>...</td>\n      <td>...</td>\n      <td>...</td>\n      <td>...</td>\n      <td>...</td>\n      <td>...</td>\n      <td>...</td>\n      <td>...</td>\n      <td>...</td>\n      <td>...</td>\n      <td>...</td>\n      <td>...</td>\n      <td>...</td>\n      <td>...</td>\n      <td>...</td>\n      <td>...</td>\n    </tr>\n    <tr>\n      <th>11665</th>\n      <td>CVCL_1347|24180719</td>\n      <td>0.0</td>\n      <td>5.169925</td>\n      <td>1.141174</td>\n      <td>0.981017</td>\n      <td>0.000100</td>\n      <td>-1.172495</td>\n      <td>0.862998</td>\n      <td>0.034680</td>\n      <td>0.966734</td>\n      <td>...</td>\n      <td>Sigmoid</td>\n      <td>8.634032</td>\n      <td>6.805239</td>\n      <td>-56.326820</td>\n      <td>0.41870</td>\n      <td>6.805239e-06</td>\n      <td>8.634032e-06</td>\n      <td>0.947662</td>\n      <td>2.500000e-09</td>\n      <td>0.000008</td>\n    </tr>\n    <tr>\n      <th>11666</th>\n      <td>CVCL_1347|3081361</td>\n      <td>0.0</td>\n      <td>5.951310</td>\n      <td>1.963708</td>\n      <td>1.025005</td>\n      <td>0.187985</td>\n      <td>-2.284892</td>\n      <td>0.738040</td>\n      <td>0.031100</td>\n      <td>0.991081</td>\n      <td>...</td>\n      <td>Sigmoid</td>\n      <td>1.104251</td>\n      <td>1.448931</td>\n      <td>-79.231400</td>\n      <td>1.28400</td>\n      <td>1.448931e-06</td>\n      <td>1.104251e-06</td>\n      <td>0.839500</td>\n      <td>2.500000e-09</td>\n      <td>0.000008</td>\n    </tr>\n    <tr>\n      <th>11667</th>\n      <td>CVCL_1347|36314</td>\n      <td>0.0</td>\n      <td>9.602060</td>\n      <td>10.000000</td>\n      <td>1.000000</td>\n      <td>0.345000</td>\n      <td>-1.535332</td>\n      <td>0.345000</td>\n      <td>0.036936</td>\n      <td>0.974688</td>\n      <td>...</td>\n      <td>Constant</td>\n      <td>NaN</td>\n      <td>0.025390</td>\n      <td>-65.860992</td>\n      <td>3.53970</td>\n      <td>2.538952e-08</td>\n      <td>NaN</td>\n      <td>0.557538</td>\n      <td>2.500000e-09</td>\n      <td>0.000008</td>\n    </tr>\n    <tr>\n      <th>11668</th>\n      <td>CVCL_1347|60700</td>\n      <td>0.0</td>\n      <td>6.676038</td>\n      <td>0.805015</td>\n      <td>1.029543</td>\n      <td>0.222603</td>\n      <td>-1.923467</td>\n      <td>0.540538</td>\n      <td>0.065302</td>\n      <td>0.946601</td>\n      <td>...</td>\n      <td>Linear</td>\n      <td>NaN</td>\n      <td>1.071993</td>\n      <td>-77.443932</td>\n      <td>2.39750</td>\n      <td>1.071993e-06</td>\n      <td>NaN</td>\n      <td>0.700313</td>\n      <td>2.500000e-09</td>\n      <td>0.000008</td>\n    </tr>\n    <tr>\n      <th>11669</th>\n      <td>CVCL_1347|6505803</td>\n      <td>0.0</td>\n      <td>6.159765</td>\n      <td>2.217223</td>\n      <td>1.037807</td>\n      <td>0.228768</td>\n      <td>-2.105865</td>\n      <td>0.694320</td>\n      <td>0.026570</td>\n      <td>0.993984</td>\n      <td>...</td>\n      <td>Sigmoid</td>\n      <td>0.685912</td>\n      <td>0.961978</td>\n      <td>-77.785461</td>\n      <td>1.69010</td>\n      <td>9.619783e-07</td>\n      <td>6.859120e-07</td>\n      <td>0.788737</td>\n      <td>2.500000e-09</td>\n      <td>0.000008</td>\n    </tr>\n  </tbody>\n</table>\n<p>11670 rows × 41 columns</p>\n</div>"
     },
     "execution_count": 2,
     "metadata": {},
     "output_type": "execute_result"
    }
   ],
   "source": [
    "mapped_response_df = pd.read_csv(\"CCLE_for_drevalpy.csv\")\n",
    "mapped_response_df = mapped_response_df.drop(columns=[\"Unnamed: 0\"])\n",
    "mapped_response_df[\"sample\"] = mapped_response_df[\"sample\"].replace(to_replace = \"CVCL_ZA06\", value=\"CVCL_1097\")\n",
    "mapped_response_df[\"cell_line_id\"] = mapped_response_df[\"cell_line_id\"].replace(to_replace = \"CVCL_ZA06\", value=\"CVCL_1097\")\n",
    "mapped_response_df[\"sample\"] = mapped_response_df[\"sample\"].replace(to_replace = \"CVCL_0618_CCLE\", value=\"CVCL_0618\")\n",
    "mapped_response_df[\"cell_line_id\"] = mapped_response_df[\"cell_line_id\"].replace(to_replace = \"CVCL_0618_CCLE\", value=\"CVCL_0618\")\n",
    "mapped_response_df[\"Name\"] = [row[\"cell_line_id\"] + \"|\" + str(row[\"drug_id\"]) for _, row in mapped_response_df.iterrows()]\n",
    "mapped_response_df[\"min_dose_M\"] = 0.0025 * 1e-6\n",
    "mapped_response_df[\"max_dose_M\"] = 8 * 1e-6\n",
    "mapped_response_df"
   ],
   "metadata": {
    "collapsed": false,
    "ExecuteTime": {
     "end_time": "2025-02-07T10:11:53.985825Z",
     "start_time": "2025-02-07T10:11:53.705245Z"
    }
   },
   "id": "bdac474091588304"
  },
  {
   "cell_type": "code",
   "execution_count": 5,
   "outputs": [
    {
     "data": {
      "text/plain": "<Figure size 640x480 with 1 Axes>",
      "image/png": "[encoded data removed]"
     },
     "metadata": {},
     "output_type": "display_data"
    }
   ],
   "source": [
    "def plot_curve(df, index):\n",
    "    front = df.loc[index, \"Front\"]\n",
    "    back = df.loc[index, \"Back\"]\n",
    "    pec50 = df.loc[index, \"pEC50_curvecurator\"]\n",
    "    ec50 = df.loc[index, \"EC50_curvecurator\"]\n",
    "    \n",
    "    slope = df.loc[index, \"Slope\"]\n",
    "    ic50 = df.loc[index, \"IC50_curvecurator\"]\n",
    "    origic50 = df.loc[index, \"IC50\"]\n",
    "    \n",
    "    min_dosis = df.loc[index, \"min_dose_M\"]\n",
    "    max_dosis = df.loc[index, \"max_dose_M\"]\n",
    "    \n",
    "    xvals = np.linspace(min_dosis*10**-2, max_dosis*10**2, 100000)\n",
    "    xvals_logged = np.log10(xvals)\n",
    "    y = (front - back) / (1 + 10 ** (slope * (xvals_logged + pec50))) + back\n",
    "    plt.scatter(xvals, y, s=1)\n",
    "\n",
    "    plt.axvline(origic50, linestyle='--')\n",
    "    plt.text(x=origic50, y=0.8, s='IC50 orig', color='blue')\n",
    "    plt.axvline(ic50, color=\"red\")\n",
    "    plt.text(x=ic50, y=1.0, s='IC50 curvecurator', color='red')\n",
    "    plt.axvline(ec50, color=\"orange\")\n",
    "    plt.text(x=ec50, y=0.6, s='EC50 curvecurator', color='orange')\n",
    "    plt.axvline(x=min_dosis, color=\"green\")\n",
    "    plt.text(x=min_dosis, y=0.4, s='min dose [M]', color='green')\n",
    "    plt.axvline(x=max_dosis, color=\"green\")\n",
    "    plt.text(x=max_dosis, y=0.4, s='max dose [M]', color='green')\n",
    "    \n",
    "    auc = df.loc[index, \"AUC_curvecurator\"]\n",
    "    plt.title(f\"AUC: {auc}\")\n",
    "\n",
    "    plt.axhline(0.5, linestyle='--', color='black')\n",
    "    plt.xscale('log')\n",
    "    plt.xlim(min_dosis*10**-2, max_dosis*10**2)\n",
    "    plt.ylim(0, 2)\n",
    "\n",
    "plot_curve(df=mapped_response_df, index=25)"
   ],
   "metadata": {
    "collapsed": false,
    "ExecuteTime": {
     "end_time": "2025-02-07T10:13:36.750856Z",
     "start_time": "2025-02-07T10:13:36.435791Z"
    }
   },
   "id": "383e55ff-9230-4854-a7a0-5c9490222f3b"
  },
  {
   "cell_type": "code",
   "execution_count": 6,
   "outputs": [
    {
     "name": "stderr",
     "output_type": "stream",
     "text": [
      "posx and posy should be finite values\n",
      "posx and posy should be finite values\n",
      "posx and posy should be finite values\n"
     ]
    },
    {
     "data": {
      "text/plain": "<Figure size 640x480 with 1 Axes>",
      "image/png": "[encoded data removed]"
     },
     "metadata": {},
     "output_type": "display_data"
    }
   ],
   "source": [
    "# CurveCurator caps the EC50 at 100*maximal dosis = -log10(10^(-6) * 800) = 3.09691\n",
    "index = mapped_response_df.query(\"Name == 'CVCL_0942|216239'\").index[0]\n",
    "plot_curve(df=mapped_response_df, index=index)"
   ],
   "metadata": {
    "collapsed": false,
    "ExecuteTime": {
     "end_time": "2025-02-07T10:13:37.324Z",
     "start_time": "2025-02-07T10:13:37.022154Z"
    }
   },
   "id": "f48a13373bc6678c"
  },
  {
   "cell_type": "code",
   "execution_count": 7,
   "outputs": [
    {
     "name": "stderr",
     "output_type": "stream",
     "text": [
      "posx and posy should be finite values\n",
      "posx and posy should be finite values\n",
      "posx and posy should be finite values\n"
     ]
    },
    {
     "data": {
      "text/plain": "<Figure size 640x480 with 1 Axes>",
      "image/png": "[encoded data removed]"
     },
     "metadata": {},
     "output_type": "display_data"
    }
   ],
   "source": [
    "# CurveCurator caps the EC50 at 10**-2*minimal dosis = -log10(10^(-6) * 0.000025) = 10.60206\n",
    "index = mapped_response_df.query(\"Name == 'CVCL_2034|3081361'\").index[0]\n",
    "plot_curve(df=mapped_response_df, index=index)"
   ],
   "metadata": {
    "collapsed": false,
    "ExecuteTime": {
     "end_time": "2025-02-07T10:13:48.767866Z",
     "start_time": "2025-02-07T10:13:48.291297Z"
    }
   },
   "id": "929f44426afc21a4"
  },
  {
   "cell_type": "code",
   "execution_count": 8,
   "outputs": [
    {
     "name": "stdout",
     "output_type": "stream",
     "text": [
      "From 0 to 2048 NaN pEC50s (/11670).\n"
     ]
    }
   ],
   "source": [
    "# limit to measured range -> pEC50 >= -log10(10^-6 * 8) and pEC50 <= -log10(10^-6 * 0.0025)\n",
    "max_pEC50 = -np.log10(10**-6 * 8)\n",
    "min_pEC50 = -np.log10(10**-6 * 0.0025)\n",
    "len_before = sum(pd.isna(mapped_response_df[\"pEC50_curvecurator\"]))\n",
    "new_pEC50s = mapped_response_df[\"pEC50_curvecurator\"].apply(lambda x: x if min_pEC50 >= x >= max_pEC50 else np.nan)\n",
    "mapped_response_df[\"pEC50_curvecurator\"] = new_pEC50s\n",
    "print(f\"From {len_before} to {sum(pd.isna(mapped_response_df['pEC50_curvecurator']))} NaN pEC50s (/{len(mapped_response_df)}).\")"
   ],
   "metadata": {
    "collapsed": false,
    "ExecuteTime": {
     "end_time": "2025-02-07T10:13:49.846506Z",
     "start_time": "2025-02-07T10:13:49.828879Z"
    }
   },
   "id": "c767956229f1efa9"
  },
  {
   "cell_type": "code",
   "execution_count": 9,
   "outputs": [
    {
     "name": "stdout",
     "output_type": "stream",
     "text": [
      "From 4391 to 4511 NaN IC50s (/11670).\n"
     ]
    }
   ],
   "source": [
    "max_IC50 = 10**-5 * 8\n",
    "min_IC50 = 10**-7 * 0.0025\n",
    "# filter only if not nan\n",
    "len_before = sum(pd.isna(mapped_response_df[\"IC50_curvecurator\"]))\n",
    "new_IC50s = mapped_response_df[\"IC50_curvecurator\"].apply(lambda x: x if min_IC50 <= x <= max_IC50 and not pd.isna(x) else np.nan)\n",
    "mapped_response_df[\"IC50_curvecurator\"] = new_IC50s\n",
    "print(f\"From {len_before} to {sum(pd.isna(mapped_response_df['IC50_curvecurator']))} NaN IC50s (/{len(mapped_response_df)}).\")"
   ],
   "metadata": {
    "collapsed": false,
    "ExecuteTime": {
     "end_time": "2025-02-07T10:13:51.710890Z",
     "start_time": "2025-02-07T10:13:51.686850Z"
    }
   },
   "id": "aa9f0a1f81d6aa1c"
  },
  {
   "cell_type": "code",
   "execution_count": 10,
   "outputs": [],
   "source": [
    "mapped_response_df[\"LN_IC50_curvecurator\"] = np.log(10**6 * mapped_response_df[\"IC50_curvecurator\"].to_numpy())"
   ],
   "metadata": {
    "collapsed": false,
    "ExecuteTime": {
     "end_time": "2025-02-07T10:13:52.630033Z",
     "start_time": "2025-02-07T10:13:52.607659Z"
    }
   },
   "id": "a098a3d2e6f2dcdd"
  },
  {
   "cell_type": "code",
   "execution_count": 11,
   "outputs": [
    {
     "data": {
      "text/plain": "<Axes: xlabel='LN_IC50_curvecurator', ylabel='Count'>"
     },
     "execution_count": 11,
     "metadata": {},
     "output_type": "execute_result"
    },
    {
     "data": {
      "text/plain": "<Figure size 640x480 with 1 Axes>",
      "image/png": "[encoded data removed]"
     },
     "metadata": {},
     "output_type": "display_data"
    }
   ],
   "source": [
    "sns.histplot(mapped_response_df[\"LN_IC50_curvecurator\"], bins=10)"
   ],
   "metadata": {
    "collapsed": false,
    "ExecuteTime": {
     "end_time": "2025-02-07T10:13:55.567758Z",
     "start_time": "2025-02-07T10:13:55.399886Z"
    }
   },
   "id": "e2d897dd6882d64e"
  },
  {
   "cell_type": "code",
   "execution_count": 12,
   "outputs": [
    {
     "data": {
      "text/plain": "<Axes: xlabel='pEC50_curvecurator', ylabel='Count'>"
     },
     "execution_count": 12,
     "metadata": {},
     "output_type": "execute_result"
    },
    {
     "data": {
      "text/plain": "<Figure size 640x480 with 1 Axes>",
      "image/png": "[encoded data removed]"
     },
     "metadata": {},
     "output_type": "display_data"
    }
   ],
   "source": [
    "sns.histplot(mapped_response_df[\"pEC50_curvecurator\"], bins=10)"
   ],
   "metadata": {
    "collapsed": false,
    "ExecuteTime": {
     "end_time": "2025-02-07T10:13:56.787164Z",
     "start_time": "2025-02-07T10:13:56.633813Z"
    }
   },
   "id": "6b44cd3250d8957b"
  },
  {
   "cell_type": "code",
   "execution_count": 13,
   "outputs": [
    {
     "data": {
      "text/plain": "<Axes: xlabel='AUC_curvecurator', ylabel='Count'>"
     },
     "execution_count": 13,
     "metadata": {},
     "output_type": "execute_result"
    },
    {
     "data": {
      "text/plain": "<Figure size 640x480 with 1 Axes>",
      "image/png": "[encoded data removed]"
     },
     "metadata": {},
     "output_type": "display_data"
    }
   ],
   "source": [
    "sns.histplot(mapped_response_df[\"AUC_curvecurator\"], bins=10)"
   ],
   "metadata": {
    "collapsed": false,
    "ExecuteTime": {
     "end_time": "2025-02-07T10:14:11.568632Z",
     "start_time": "2025-02-07T10:14:11.424073Z"
    }
   },
   "id": "8d0740676c92cc98"
  },
  {
   "cell_type": "code",
   "execution_count": 14,
   "outputs": [
    {
     "name": "stdout",
     "output_type": "stream",
     "text": [
      "Creating cellosaurus dictionary ...\n"
     ]
    }
   ],
   "source": [
    "# map all names to cellosaurus main names\n",
    "from utils.convert_to_cello import create_cl_dict\n",
    "cello_mapping = pd.read_csv(\"../../mapping/cellosaurus_01_2024.csv\")\n",
    "# replace all NaN values with empty strings\n",
    "cello_mapping = cello_mapping.fillna(\"\")\n",
    "# create cellosaurus dictionary\n",
    "cellosaurus_ac_dict, cellosaurus_sy_dict, species_dict, cello_ac_to_id_dict = create_cl_dict(cello_mapping)"
   ],
   "metadata": {
    "collapsed": false,
    "ExecuteTime": {
     "end_time": "2025-02-07T10:14:21.352859Z",
     "start_time": "2025-02-07T10:14:15.709320Z"
    }
   },
   "id": "bad2a931058615a3"
  },
  {
   "cell_type": "code",
   "execution_count": 15,
   "outputs": [],
   "source": [
    "main_names = [cello_ac_to_id_dict[row[\"cell_line_id\"]] for _, row in mapped_response_df.iterrows()]\n",
    "mapped_response_df[\"cell_line_name\"] = main_names\n",
    "mapped_response_df = mapped_response_df.set_index([\"cell_line_id\", \"cell_line_name\", \"drug_id\", \"Compound\"])"
   ],
   "metadata": {
    "collapsed": false,
    "ExecuteTime": {
     "end_time": "2025-02-07T10:14:21.526290Z",
     "start_time": "2025-02-07T10:14:21.351681Z"
    }
   },
   "id": "595eb8900516edfd"
  },
  {
   "cell_type": "code",
   "execution_count": 16,
   "outputs": [],
   "source": [
    "mapped_response_df.to_csv(\"CCLE.csv\")"
   ],
   "metadata": {
    "collapsed": false,
    "ExecuteTime": {
     "end_time": "2025-02-07T10:14:21.762407Z",
     "start_time": "2025-02-07T10:14:21.527314Z"
    }
   },
   "id": "af8f0fc35e35a01f"
  },
  {
   "cell_type": "code",
   "execution_count": 17,
   "outputs": [
    {
     "data": {
      "text/plain": "                                                               Name  \\\ncell_line_id cell_line_name drug_id  Compound                         \nCVCL_0031    MCF-7          11656518 RAF265      CVCL_0031|11656518   \nCVCL_0069    SK-MEL-2       24180719 PLX4720     CVCL_0069|24180719   \nCVCL_0007    U-937          10127622 AZD6244     CVCL_0007|10127622   \n                            10302451 AZD0530     CVCL_0007|10302451   \n                            10461815 PHA-665752  CVCL_0007|10461815   \n...                                                             ...   \nCVCL_1347    KYSE-140       24180719 PLX4720     CVCL_1347|24180719   \n                            3081361  Vandetanib   CVCL_1347|3081361   \n                            36314    Paclitaxel     CVCL_1347|36314   \n                            60700    Topotecan      CVCL_1347|60700   \n                            6505803  17-AAG       CVCL_1347|6505803   \n\n                                                 SignalQuality  \\\ncell_line_id cell_line_name drug_id  Compound                    \nCVCL_0031    MCF-7          11656518 RAF265                0.0   \nCVCL_0069    SK-MEL-2       24180719 PLX4720               0.0   \nCVCL_0007    U-937          10127622 AZD6244               0.0   \n                            10302451 AZD0530               0.0   \n                            10461815 PHA-665752            0.0   \n...                                                        ...   \nCVCL_1347    KYSE-140       24180719 PLX4720               0.0   \n                            3081361  Vandetanib            0.0   \n                            36314    Paclitaxel            0.0   \n                            60700    Topotecan             0.0   \n                            6505803  17-AAG                0.0   \n\n                                                 pEC50_curvecurator  \\\ncell_line_id cell_line_name drug_id  Compound                         \nCVCL_0031    MCF-7          11656518 RAF265                6.380385   \nCVCL_0069    SK-MEL-2       24180719 PLX4720                    NaN   \nCVCL_0007    U-937          10127622 AZD6244               5.381694   \n                            10302451 AZD0530               8.347859   \n                            10461815 PHA-665752            5.117873   \n...                                                             ...   \nCVCL_1347    KYSE-140       24180719 PLX4720               5.169925   \n                            3081361  Vandetanib            5.951310   \n                            36314    Paclitaxel                 NaN   \n                            60700    Topotecan             6.676038   \n                            6505803  17-AAG                6.159765   \n\n                                                     Slope     Front  \\\ncell_line_id cell_line_name drug_id  Compound                          \nCVCL_0031    MCF-7          11656518 RAF265       3.812538  1.085608   \nCVCL_0069    SK-MEL-2       24180719 PLX4720      0.682323  0.944934   \nCVCL_0007    U-937          10127622 AZD6244      1.694135  0.922372   \n                            10302451 AZD0530     10.000000  0.945071   \n                            10461815 PHA-665752   2.075958  1.015333   \n...                                                    ...       ...   \nCVCL_1347    KYSE-140       24180719 PLX4720      1.141174  0.981017   \n                            3081361  Vandetanib   1.963708  1.025005   \n                            36314    Paclitaxel  10.000000  1.000000   \n                            60700    Topotecan    0.805015  1.029543   \n                            6505803  17-AAG       2.217223  1.037807   \n\n                                                     Back  FoldChange  \\\ncell_line_id cell_line_name drug_id  Compound                           \nCVCL_0031    MCF-7          11656518 RAF265      0.767838   -0.380512   \nCVCL_0069    SK-MEL-2       24180719 PLX4720     6.483646    0.231717   \nCVCL_0007    U-937          10127622 AZD6244     0.613620   -0.535126   \n                            10302451 AZD0530     1.006109    0.008787   \n                            10461815 PHA-665752  0.000100   -1.051984   \n...                                                   ...         ...   \nCVCL_1347    KYSE-140       24180719 PLX4720     0.000100   -1.172495   \n                            3081361  Vandetanib  0.187985   -2.284892   \n                            36314    Paclitaxel  0.345000   -1.535332   \n                            60700    Topotecan   0.222603   -1.923467   \n                            6505803  17-AAG      0.228768   -2.105865   \n\n                                                 AUC_curvecurator      RMSE  \\\ncell_line_id cell_line_name drug_id  Compound                                 \nCVCL_0031    MCF-7          11656518 RAF265              1.002747  0.079078   \nCVCL_0069    SK-MEL-2       24180719 PLX4720             0.994082  0.083130   \nCVCL_0007    U-937          10127622 AZD6244             0.890860  0.036605   \n                            10302451 AZD0530             1.001681  0.063080   \n                            10461815 PHA-665752          0.970221  0.065419   \n...                                                           ...       ...   \nCVCL_1347    KYSE-140       24180719 PLX4720             0.862998  0.034680   \n                            3081361  Vandetanib          0.738040  0.031100   \n                            36314    Paclitaxel          0.345000  0.036936   \n                            60700    Topotecan           0.540538  0.065302   \n                            6505803  17-AAG              0.694320  0.026570   \n\n                                                       R2  ...  EC50 (µM)  \\\ncell_line_id cell_line_name drug_id  Compound              ...              \nCVCL_0031    MCF-7          11656518 RAF265      0.730258  ...        NaN   \nCVCL_0069    SK-MEL-2       24180719 PLX4720     0.445913  ...        NaN   \nCVCL_0007    U-937          10127622 AZD6244     0.804497  ...   2.234367   \n                            10302451 AZD0530     0.138848  ...        NaN   \n                            10461815 PHA-665752  0.865978  ...   8.316470   \n...                                                   ...  ...        ...   \nCVCL_1347    KYSE-140       24180719 PLX4720     0.966734  ...   8.634032   \n                            3081361  Vandetanib  0.991081  ...   1.104251   \n                            36314    Paclitaxel  0.974688  ...        NaN   \n                            60700    Topotecan   0.946601  ...        NaN   \n                            6505803  17-AAG      0.993984  ...   0.685912   \n\n                                                 IC50 (µM)       Amax  \\\ncell_line_id cell_line_name drug_id  Compound                           \nCVCL_0031    MCF-7          11656518 RAF265       2.531646  -0.857280   \nCVCL_0069    SK-MEL-2       24180719 PLX4720      2.531646 -21.457716   \nCVCL_0007    U-937          10127622 AZD6244      8.000000 -41.782055   \n                            10302451 AZD0530      8.000000 -22.127462   \n                            10461815 PHA-665752   8.000000 -38.214069   \n...                                                    ...        ...   \nCVCL_1347    KYSE-140       24180719 PLX4720      6.805239 -56.326820   \n                            3081361  Vandetanib   1.448931 -79.231400   \n                            36314    Paclitaxel   0.025390 -65.860992   \n                            60700    Topotecan    1.071993 -77.443932   \n                            6505803  17-AAG       0.961978 -77.785461   \n\n                                                 ActArea          IC50  \\\ncell_line_id cell_line_name drug_id  Compound                            \nCVCL_0031    MCF-7          11656518 RAF265      0.01511  2.531646e-06   \nCVCL_0069    SK-MEL-2       24180719 PLX4720     0.44250  2.531646e-06   \nCVCL_0007    U-937          10127622 AZD6244     1.14030  8.000000e-06   \n                            10302451 AZD0530     0.57930  8.000000e-06   \n                            10461815 PHA-665752  0.77960  8.000000e-06   \n...                                                  ...           ...   \nCVCL_1347    KYSE-140       24180719 PLX4720     0.41870  6.805239e-06   \n                            3081361  Vandetanib  1.28400  1.448931e-06   \n                            36314    Paclitaxel  3.53970  2.538952e-08   \n                            60700    Topotecan   2.39750  1.071993e-06   \n                            6505803  17-AAG      1.69010  9.619783e-07   \n\n                                                         EC50       AUC  \\\ncell_line_id cell_line_name drug_id  Compound                             \nCVCL_0031    MCF-7          11656518 RAF265               NaN  0.998111   \nCVCL_0069    SK-MEL-2       24180719 PLX4720              NaN  0.944688   \nCVCL_0007    U-937          10127622 AZD6244     2.234367e-06  0.857463   \n                            10302451 AZD0530              NaN  0.927588   \n                            10461815 PHA-665752  8.316470e-06  0.902550   \n...                                                       ...       ...   \nCVCL_1347    KYSE-140       24180719 PLX4720     8.634032e-06  0.947662   \n                            3081361  Vandetanib  1.104251e-06  0.839500   \n                            36314    Paclitaxel           NaN  0.557538   \n                            60700    Topotecan            NaN  0.700313   \n                            6505803  17-AAG      6.859120e-07  0.788737   \n\n                                                   min_dose_M  max_dose_M  \\\ncell_line_id cell_line_name drug_id  Compound                               \nCVCL_0031    MCF-7          11656518 RAF265      2.500000e-09    0.000008   \nCVCL_0069    SK-MEL-2       24180719 PLX4720     2.500000e-09    0.000008   \nCVCL_0007    U-937          10127622 AZD6244     2.500000e-09    0.000008   \n                            10302451 AZD0530     2.500000e-09    0.000008   \n                            10461815 PHA-665752  2.500000e-09    0.000008   \n...                                                       ...         ...   \nCVCL_1347    KYSE-140       24180719 PLX4720     2.500000e-09    0.000008   \n                            3081361  Vandetanib  2.500000e-09    0.000008   \n                            36314    Paclitaxel  2.500000e-09    0.000008   \n                            60700    Topotecan   2.500000e-09    0.000008   \n                            6505803  17-AAG      2.500000e-09    0.000008   \n\n                                                LN_IC50_curvecurator  \ncell_line_id cell_line_name drug_id  Compound                         \nCVCL_0031    MCF-7          11656518 RAF265                      NaN  \nCVCL_0069    SK-MEL-2       24180719 PLX4720                     NaN  \nCVCL_0007    U-937          10127622 AZD6244                     NaN  \n                            10302451 AZD0530                     NaN  \n                            10461815 PHA-665752             2.045818  \n...                                                              ...  \nCVCL_1347    KYSE-140       24180719 PLX4720                1.877577  \n                            3081361  Vandetanib             0.377100  \n                            36314    Paclitaxel            -8.176931  \n                            60700    Topotecan             -0.753463  \n                            6505803  17-AAG                -0.059142  \n\n[11670 rows x 39 columns]",
      "text/html": "<div>\n<style scoped>\n    .dataframe tbody tr th:only-of-type {\n        vertical-align: middle;\n    }\n\n    .dataframe tbody tr th {\n        vertical-align: top;\n    }\n\n    .dataframe thead th {\n        text-align: right;\n    }\n</style>\n<table border=\"1\" class=\"dataframe\">\n  <thead>\n    <tr style=\"text-align: right;\">\n      <th></th>\n      <th></th>\n      <th></th>\n      <th></th>\n      <th>Name</th>\n      <th>SignalQuality</th>\n      <th>pEC50_curvecurator</th>\n      <th>Slope</th>\n      <th>Front</th>\n      <th>Back</th>\n      <th>FoldChange</th>\n      <th>AUC_curvecurator</th>\n      <th>RMSE</th>\n      <th>R2</th>\n      <th>...</th>\n      <th>EC50 (µM)</th>\n      <th>IC50 (µM)</th>\n      <th>Amax</th>\n      <th>ActArea</th>\n      <th>IC50</th>\n      <th>EC50</th>\n      <th>AUC</th>\n      <th>min_dose_M</th>\n      <th>max_dose_M</th>\n      <th>LN_IC50_curvecurator</th>\n    </tr>\n    <tr>\n      <th>cell_line_id</th>\n      <th>cell_line_name</th>\n      <th>drug_id</th>\n      <th>Compound</th>\n      <th></th>\n      <th></th>\n      <th></th>\n      <th></th>\n      <th></th>\n      <th></th>\n      <th></th>\n      <th></th>\n      <th></th>\n      <th></th>\n      <th></th>\n      <th></th>\n      <th></th>\n      <th></th>\n      <th></th>\n      <th></th>\n      <th></th>\n      <th></th>\n      <th></th>\n      <th></th>\n      <th></th>\n    </tr>\n  </thead>\n  <tbody>\n    <tr>\n      <th>CVCL_0031</th>\n      <th>MCF-7</th>\n      <th>11656518</th>\n      <th>RAF265</th>\n      <td>CVCL_0031|11656518</td>\n      <td>0.0</td>\n      <td>6.380385</td>\n      <td>3.812538</td>\n      <td>1.085608</td>\n      <td>0.767838</td>\n      <td>-0.380512</td>\n      <td>1.002747</td>\n      <td>0.079078</td>\n      <td>0.730258</td>\n      <td>...</td>\n      <td>NaN</td>\n      <td>2.531646</td>\n      <td>-0.857280</td>\n      <td>0.01511</td>\n      <td>2.531646e-06</td>\n      <td>NaN</td>\n      <td>0.998111</td>\n      <td>2.500000e-09</td>\n      <td>0.000008</td>\n      <td>NaN</td>\n    </tr>\n    <tr>\n      <th>CVCL_0069</th>\n      <th>SK-MEL-2</th>\n      <th>24180719</th>\n      <th>PLX4720</th>\n      <td>CVCL_0069|24180719</td>\n      <td>0.0</td>\n      <td>NaN</td>\n      <td>0.682323</td>\n      <td>0.944934</td>\n      <td>6.483646</td>\n      <td>0.231717</td>\n      <td>0.994082</td>\n      <td>0.083130</td>\n      <td>0.445913</td>\n      <td>...</td>\n      <td>NaN</td>\n      <td>2.531646</td>\n      <td>-21.457716</td>\n      <td>0.44250</td>\n      <td>2.531646e-06</td>\n      <td>NaN</td>\n      <td>0.944688</td>\n      <td>2.500000e-09</td>\n      <td>0.000008</td>\n      <td>NaN</td>\n    </tr>\n    <tr>\n      <th rowspan=\"3\" valign=\"top\">CVCL_0007</th>\n      <th rowspan=\"3\" valign=\"top\">U-937</th>\n      <th>10127622</th>\n      <th>AZD6244</th>\n      <td>CVCL_0007|10127622</td>\n      <td>0.0</td>\n      <td>5.381694</td>\n      <td>1.694135</td>\n      <td>0.922372</td>\n      <td>0.613620</td>\n      <td>-0.535126</td>\n      <td>0.890860</td>\n      <td>0.036605</td>\n      <td>0.804497</td>\n      <td>...</td>\n      <td>2.234367</td>\n      <td>8.000000</td>\n      <td>-41.782055</td>\n      <td>1.14030</td>\n      <td>8.000000e-06</td>\n      <td>2.234367e-06</td>\n      <td>0.857463</td>\n      <td>2.500000e-09</td>\n      <td>0.000008</td>\n      <td>NaN</td>\n    </tr>\n    <tr>\n      <th>10302451</th>\n      <th>AZD0530</th>\n      <td>CVCL_0007|10302451</td>\n      <td>0.0</td>\n      <td>8.347859</td>\n      <td>10.000000</td>\n      <td>0.945071</td>\n      <td>1.006109</td>\n      <td>0.008787</td>\n      <td>1.001681</td>\n      <td>0.063080</td>\n      <td>0.138848</td>\n      <td>...</td>\n      <td>NaN</td>\n      <td>8.000000</td>\n      <td>-22.127462</td>\n      <td>0.57930</td>\n      <td>8.000000e-06</td>\n      <td>NaN</td>\n      <td>0.927588</td>\n      <td>2.500000e-09</td>\n      <td>0.000008</td>\n      <td>NaN</td>\n    </tr>\n    <tr>\n      <th>10461815</th>\n      <th>PHA-665752</th>\n      <td>CVCL_0007|10461815</td>\n      <td>0.0</td>\n      <td>5.117873</td>\n      <td>2.075958</td>\n      <td>1.015333</td>\n      <td>0.000100</td>\n      <td>-1.051984</td>\n      <td>0.970221</td>\n      <td>0.065419</td>\n      <td>0.865978</td>\n      <td>...</td>\n      <td>8.316470</td>\n      <td>8.000000</td>\n      <td>-38.214069</td>\n      <td>0.77960</td>\n      <td>8.000000e-06</td>\n      <td>8.316470e-06</td>\n      <td>0.902550</td>\n      <td>2.500000e-09</td>\n      <td>0.000008</td>\n      <td>2.045818</td>\n    </tr>\n    <tr>\n      <th>...</th>\n      <th>...</th>\n      <th>...</th>\n      <th>...</th>\n      <td>...</td>\n      <td>...</td>\n      <td>...</td>\n      <td>...</td>\n      <td>...</td>\n      <td>...</td>\n      <td>...</td>\n      <td>...</td>\n      <td>...</td>\n      <td>...</td>\n      <td>...</td>\n      <td>...</td>\n      <td>...</td>\n      <td>...</td>\n      <td>...</td>\n      <td>...</td>\n      <td>...</td>\n      <td>...</td>\n      <td>...</td>\n      <td>...</td>\n      <td>...</td>\n    </tr>\n    <tr>\n      <th rowspan=\"5\" valign=\"top\">CVCL_1347</th>\n      <th rowspan=\"5\" valign=\"top\">KYSE-140</th>\n      <th>24180719</th>\n      <th>PLX4720</th>\n      <td>CVCL_1347|24180719</td>\n      <td>0.0</td>\n      <td>5.169925</td>\n      <td>1.141174</td>\n      <td>0.981017</td>\n      <td>0.000100</td>\n      <td>-1.172495</td>\n      <td>0.862998</td>\n      <td>0.034680</td>\n      <td>0.966734</td>\n      <td>...</td>\n      <td>8.634032</td>\n      <td>6.805239</td>\n      <td>-56.326820</td>\n      <td>0.41870</td>\n      <td>6.805239e-06</td>\n      <td>8.634032e-06</td>\n      <td>0.947662</td>\n      <td>2.500000e-09</td>\n      <td>0.000008</td>\n      <td>1.877577</td>\n    </tr>\n    <tr>\n      <th>3081361</th>\n      <th>Vandetanib</th>\n      <td>CVCL_1347|3081361</td>\n      <td>0.0</td>\n      <td>5.951310</td>\n      <td>1.963708</td>\n      <td>1.025005</td>\n      <td>0.187985</td>\n      <td>-2.284892</td>\n      <td>0.738040</td>\n      <td>0.031100</td>\n      <td>0.991081</td>\n      <td>...</td>\n      <td>1.104251</td>\n      <td>1.448931</td>\n      <td>-79.231400</td>\n      <td>1.28400</td>\n      <td>1.448931e-06</td>\n      <td>1.104251e-06</td>\n      <td>0.839500</td>\n      <td>2.500000e-09</td>\n      <td>0.000008</td>\n      <td>0.377100</td>\n    </tr>\n    <tr>\n      <th>36314</th>\n      <th>Paclitaxel</th>\n      <td>CVCL_1347|36314</td>\n      <td>0.0</td>\n      <td>NaN</td>\n      <td>10.000000</td>\n      <td>1.000000</td>\n      <td>0.345000</td>\n      <td>-1.535332</td>\n      <td>0.345000</td>\n      <td>0.036936</td>\n      <td>0.974688</td>\n      <td>...</td>\n      <td>NaN</td>\n      <td>0.025390</td>\n      <td>-65.860992</td>\n      <td>3.53970</td>\n      <td>2.538952e-08</td>\n      <td>NaN</td>\n      <td>0.557538</td>\n      <td>2.500000e-09</td>\n      <td>0.000008</td>\n      <td>-8.176931</td>\n    </tr>\n    <tr>\n      <th>60700</th>\n      <th>Topotecan</th>\n      <td>CVCL_1347|60700</td>\n      <td>0.0</td>\n      <td>6.676038</td>\n      <td>0.805015</td>\n      <td>1.029543</td>\n      <td>0.222603</td>\n      <td>-1.923467</td>\n      <td>0.540538</td>\n      <td>0.065302</td>\n      <td>0.946601</td>\n      <td>...</td>\n      <td>NaN</td>\n      <td>1.071993</td>\n      <td>-77.443932</td>\n      <td>2.39750</td>\n      <td>1.071993e-06</td>\n      <td>NaN</td>\n      <td>0.700313</td>\n      <td>2.500000e-09</td>\n      <td>0.000008</td>\n      <td>-0.753463</td>\n    </tr>\n    <tr>\n      <th>6505803</th>\n      <th>17-AAG</th>\n      <td>CVCL_1347|6505803</td>\n      <td>0.0</td>\n      <td>6.159765</td>\n      <td>2.217223</td>\n      <td>1.037807</td>\n      <td>0.228768</td>\n      <td>-2.105865</td>\n      <td>0.694320</td>\n      <td>0.026570</td>\n      <td>0.993984</td>\n      <td>...</td>\n      <td>0.685912</td>\n      <td>0.961978</td>\n      <td>-77.785461</td>\n      <td>1.69010</td>\n      <td>9.619783e-07</td>\n      <td>6.859120e-07</td>\n      <td>0.788737</td>\n      <td>2.500000e-09</td>\n      <td>0.000008</td>\n      <td>-0.059142</td>\n    </tr>\n  </tbody>\n</table>\n<p>11670 rows × 39 columns</p>\n</div>"
     },
     "execution_count": 17,
     "metadata": {},
     "output_type": "execute_result"
    }
   ],
   "source": [
    "mapped_response_df"
   ],
   "metadata": {
    "collapsed": false,
    "ExecuteTime": {
     "end_time": "2025-02-07T10:14:21.777303Z",
     "start_time": "2025-02-07T10:14:21.762534Z"
    }
   },
   "id": "e08626045c2e60bb"
  },
  {
   "cell_type": "code",
   "execution_count": null,
   "outputs": [],
   "source": [],
   "metadata": {
    "collapsed": false
   },
   "id": "8e55e39b0cf80d73"
  }
 ],
 "metadata": {
  "kernelspec": {
   "display_name": "Python 3 (ipykernel)",
   "language": "python",
   "name": "python3"
  },
  "language_info": {
   "codemirror_mode": {
    "name": "ipython",
    "version": 3
   },
   "file_extension": ".py",
   "mimetype": "text/x-python",
   "name": "python",
   "nbconvert_exporter": "python",
   "pygments_lexer": "ipython3",
   "version": "3.11.10"
  }
 },
 "nbformat": 4,
 "nbformat_minor": 5
}
